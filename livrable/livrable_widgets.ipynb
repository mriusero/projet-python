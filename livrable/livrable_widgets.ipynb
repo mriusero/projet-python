{
 "cells": [
  {
   "cell_type": "markdown",
   "metadata": {},
   "source": [
    "#### LIVRABLE PROJET PYTHON"
   ]
  },
  {
   "cell_type": "markdown",
   "metadata": {},
   "source": [
    "#### INPUT\n",
    "1) Import des libraires"
   ]
  },
  {
   "cell_type": "code",
   "execution_count": 1,
   "metadata": {},
   "outputs": [],
   "source": [
    "import os\n",
    "from datetime import datetime \n",
    "import numpy as np\n",
    "import pandas as pd\n",
    "import ipywidgets as widgets\n",
    "from IPython.display import display, clear_output\n",
    "import plotly.graph_objects as go\n",
    "#test"
   ]
  },
  {
   "cell_type": "markdown",
   "metadata": {},
   "source": [
    "2) Création des dataframes à partir des fichiers csv"
   ]
  },
  {
   "cell_type": "code",
   "execution_count": 2,
   "metadata": {},
   "outputs": [
    {
     "name": "stdout",
     "output_type": "stream",
     "text": [
      "df_stmp\n",
      "            timestamp    price  amount\n",
      "0 2021-02-24 23:59:54  49754.0   0.753\n",
      "1 2021-02-24 23:59:52  49754.0   0.116\n",
      "2 2021-02-24 23:59:52  49754.0   0.104\n",
      "\n",
      "\n",
      "df_lmax\n",
      "                timestamp    price  amount\n",
      "0 2021-02-24 23:59:59.691  49767.0    0.01\n",
      "1 2021-02-24 23:59:42.786  49752.0    0.06\n",
      "2 2021-02-24 23:59:42.785  49752.0    0.30\n",
      "\n",
      "\n",
      "df_gmni\n",
      "                timestamp     price    amount\n",
      "0 2021-02-24 23:59:53.406  49773.07  0.003435\n",
      "1 2021-02-24 23:59:53.406  49766.06  0.051690\n",
      "2 2021-02-24 23:59:47.280  49746.16  0.122833\n",
      "\n",
      "\n",
      "df_itbi\n",
      "                timestamp     price  amount\n",
      "0 2021-02-24 23:59:48.157  49753.50  0.0001\n",
      "1 2021-02-24 23:59:45.463  49753.75  0.0004\n",
      "2 2021-02-24 23:59:38.887  49734.50  0.0001\n",
      "\n",
      "\n",
      "df_okcn\n",
      "                timestamp     price  amount\n",
      "0 2021-02-24 23:59:57.847  49724.93    0.02\n",
      "1 2021-02-24 23:59:49.743  49730.33    0.02\n",
      "2 2021-02-24 23:59:35.623  49706.87    0.02\n",
      "\n",
      "\n",
      "df_bfnx\n",
      "                timestamp    price  amount\n",
      "0 2021-02-24 23:59:58.181  49716.0   0.010\n",
      "1 2021-02-24 23:59:58.176  49713.0   0.005\n",
      "2 2021-02-24 23:59:51.526  49715.0   0.005\n",
      "\n",
      "\n",
      "df_btrx\n",
      "                timestamp      price    amount\n",
      "0 2021-02-24 23:59:48.910  49742.749  0.001054\n",
      "1 2021-02-24 23:59:35.050  49734.460  0.009038\n",
      "2 2021-02-24 23:59:34.110  49751.270  0.000386\n",
      "\n",
      "\n",
      "df_bfly\n",
      "                timestamp     price  amount\n",
      "0 2021-02-24 23:59:33.720  49712.15  0.0054\n",
      "1 2021-02-24 23:44:16.980  49603.44  0.0770\n",
      "2 2021-02-24 22:32:39.320  48864.19  0.1200\n",
      "\n",
      "\n",
      "df_bnus\n",
      "                timestamp     price    amount\n",
      "0 2021-02-24 23:59:58.164  49714.50  0.004413\n",
      "1 2021-02-24 23:59:57.547  49727.83  0.001496\n",
      "2 2021-02-24 23:59:57.244  49727.83  0.002597\n",
      "\n",
      "\n",
      "df_cbse\n",
      "                timestamp     price   amount\n",
      "0 2021-02-24 23:59:59.873  49737.82  0.00144\n",
      "1 2021-02-24 23:59:59.721  49737.82  0.00037\n",
      "2 2021-02-24 23:59:59.121  49737.82  0.00294\n",
      "\n",
      "\n",
      "df_krkn\n",
      "                timestamp    price    amount\n",
      "0 2021-02-24 23:59:58.649  49727.7  0.000225\n",
      "1 2021-02-24 23:59:49.807  49739.9  0.000224\n",
      "2 2021-02-24 23:59:43.159  49736.3  0.014493\n",
      "\n",
      "\n"
     ]
    }
   ],
   "source": [
    "def load_data_from_csv():\n",
    "\n",
    "    notebook_dir = os.getcwd()                          #Chemin absolu du notebook\n",
    "    data_dir = os.path.join(notebook_dir, \"../data\")    #Construction du chemin absolu vers le dossier 'data'\n",
    "    csv_files = os.listdir(data_dir)                    #Liste des fichiers dans le dossier 'data'\n",
    "\n",
    "    dataframes_dict = {}                                #Déclaration dictionnaire pour contenir les dataframes\n",
    "    \n",
    "    for file in csv_files:                              #Boucle pour chaque fichier .csv du dossier 'data' : \n",
    "        if file.endswith('.csv'):\n",
    "            \n",
    "            file_path = os.path.join(data_dir, file) \n",
    "            df = pd.read_csv(file_path)                         #Création du dataframe\n",
    "\n",
    "            file_name = os.path.splitext(file)[0]\n",
    "            dataframes_dict['df_' + str(file_name)] = df        #Renommage du dataframe avec préfixe \"df_\" + 'nom_du_fichier'\n",
    "            \n",
    "            df['timestamp'] = pd.to_datetime(df['timestamp'])   #Conversion 'timestamp' en type Datetime    \n",
    "\n",
    "            print(f\"df_{file_name}\")                            #Affichage du df créé pour vérification\n",
    "            print(df.head(3))   \n",
    "            print(\"\\n\")\n",
    "\n",
    "    return dataframes_dict\n",
    "\n",
    "dataframes_dict = load_data_from_csv()"
   ]
  },
  {
   "cell_type": "markdown",
   "metadata": {},
   "source": [
    "#### MANIPULATION DES DONNEES"
   ]
  },
  {
   "cell_type": "markdown",
   "metadata": {},
   "source": [
    "1) Création d'un dataframe 'df_all' et intégration dans le dictionnaire"
   ]
  },
  {
   "cell_type": "code",
   "execution_count": 3,
   "metadata": {},
   "outputs": [
    {
     "name": "stdout",
     "output_type": "stream",
     "text": [
      "Concaténation des dataframes :\n",
      "['df_stmp', 'df_lmax', 'df_gmni', 'df_itbi', 'df_okcn', 'df_bfnx', 'df_btrx', 'df_bfly', 'df_bnus', 'df_cbse', 'df_krkn']\n",
      "\n",
      "'df_all' :\n"
     ]
    },
    {
     "data": {
      "text/html": [
       "<div>\n",
       "<style scoped>\n",
       "    .dataframe tbody tr th:only-of-type {\n",
       "        vertical-align: middle;\n",
       "    }\n",
       "\n",
       "    .dataframe tbody tr th {\n",
       "        vertical-align: top;\n",
       "    }\n",
       "\n",
       "    .dataframe thead th {\n",
       "        text-align: right;\n",
       "    }\n",
       "</style>\n",
       "<table border=\"1\" class=\"dataframe\">\n",
       "  <thead>\n",
       "    <tr style=\"text-align: right;\">\n",
       "      <th></th>\n",
       "      <th>timestamp</th>\n",
       "      <th>price</th>\n",
       "      <th>amount</th>\n",
       "    </tr>\n",
       "  </thead>\n",
       "  <tbody>\n",
       "    <tr>\n",
       "      <th>0</th>\n",
       "      <td>2021-02-24 23:59:54.000</td>\n",
       "      <td>49754.0</td>\n",
       "      <td>0.753000</td>\n",
       "    </tr>\n",
       "    <tr>\n",
       "      <th>1</th>\n",
       "      <td>2021-02-24 23:59:52.000</td>\n",
       "      <td>49754.0</td>\n",
       "      <td>0.116000</td>\n",
       "    </tr>\n",
       "    <tr>\n",
       "      <th>2</th>\n",
       "      <td>2021-02-24 23:59:52.000</td>\n",
       "      <td>49754.0</td>\n",
       "      <td>0.104000</td>\n",
       "    </tr>\n",
       "    <tr>\n",
       "      <th>3</th>\n",
       "      <td>2021-02-24 23:59:49.000</td>\n",
       "      <td>49754.0</td>\n",
       "      <td>0.016000</td>\n",
       "    </tr>\n",
       "    <tr>\n",
       "      <th>4</th>\n",
       "      <td>2021-02-24 23:59:45.000</td>\n",
       "      <td>49754.0</td>\n",
       "      <td>0.011000</td>\n",
       "    </tr>\n",
       "    <tr>\n",
       "      <th>...</th>\n",
       "      <td>...</td>\n",
       "      <td>...</td>\n",
       "      <td>...</td>\n",
       "    </tr>\n",
       "    <tr>\n",
       "      <th>1136788</th>\n",
       "      <td>2021-02-24 00:00:11.182</td>\n",
       "      <td>48899.8</td>\n",
       "      <td>0.023270</td>\n",
       "    </tr>\n",
       "    <tr>\n",
       "      <th>1136789</th>\n",
       "      <td>2021-02-24 00:00:10.373</td>\n",
       "      <td>48899.9</td>\n",
       "      <td>0.200000</td>\n",
       "    </tr>\n",
       "    <tr>\n",
       "      <th>1136790</th>\n",
       "      <td>2021-02-24 00:00:07.818</td>\n",
       "      <td>48899.9</td>\n",
       "      <td>0.018278</td>\n",
       "    </tr>\n",
       "    <tr>\n",
       "      <th>1136791</th>\n",
       "      <td>2021-02-24 00:00:02.351</td>\n",
       "      <td>48899.9</td>\n",
       "      <td>0.002045</td>\n",
       "    </tr>\n",
       "    <tr>\n",
       "      <th>1136792</th>\n",
       "      <td>2021-02-24 00:00:01.115</td>\n",
       "      <td>48899.6</td>\n",
       "      <td>0.018780</td>\n",
       "    </tr>\n",
       "  </tbody>\n",
       "</table>\n",
       "<p>1136793 rows × 3 columns</p>\n",
       "</div>"
      ],
      "text/plain": [
       "                      timestamp    price    amount\n",
       "0       2021-02-24 23:59:54.000  49754.0  0.753000\n",
       "1       2021-02-24 23:59:52.000  49754.0  0.116000\n",
       "2       2021-02-24 23:59:52.000  49754.0  0.104000\n",
       "3       2021-02-24 23:59:49.000  49754.0  0.016000\n",
       "4       2021-02-24 23:59:45.000  49754.0  0.011000\n",
       "...                         ...      ...       ...\n",
       "1136788 2021-02-24 00:00:11.182  48899.8  0.023270\n",
       "1136789 2021-02-24 00:00:10.373  48899.9  0.200000\n",
       "1136790 2021-02-24 00:00:07.818  48899.9  0.018278\n",
       "1136791 2021-02-24 00:00:02.351  48899.9  0.002045\n",
       "1136792 2021-02-24 00:00:01.115  48899.6  0.018780\n",
       "\n",
       "[1136793 rows x 3 columns]"
      ]
     },
     "metadata": {},
     "output_type": "display_data"
    },
    {
     "name": "stdout",
     "output_type": "stream",
     "text": [
      "Intégration dans le dictionnaire :\n",
      "['df_stmp', 'df_lmax', 'df_gmni', 'df_itbi', 'df_okcn', 'df_bfnx', 'df_btrx', 'df_bfly', 'df_bnus', 'df_cbse', 'df_krkn', 'df_all']\n",
      "\n"
     ]
    }
   ],
   "source": [
    "\n",
    "def global_df_creation(): \n",
    "    \n",
    "    dfs_to_concat = list(dataframes_dict.values())      #Identification des dataframes à concaténer\n",
    "    print(f\"Concaténation des dataframes :\\n{list(dataframes_dict)}\\n\")\n",
    "    \n",
    "    df_all = pd.concat(dfs_to_concat, ignore_index=True)        #Concaténation verticale -> pas de perte de données avec la fonction concat, redéfinition des index pour avoir une clé unique par transaction\n",
    "    print(\"'df_all' :\")     \n",
    "    display(df_all)     #Vérification : '2021-02-24 23:59:52.000' *2 dans le display = transactions conservées      \n",
    "\n",
    "    dataframes_dict['df_all']= df_all       #Intégration de 'df_all' dans le dictionnaire\n",
    "    print(f\"Intégration dans le dictionnaire :\\n{list(dataframes_dict)}\\n\")     \n",
    "    \n",
    "global_df_creation() \n"
   ]
  },
  {
   "cell_type": "markdown",
   "metadata": {},
   "source": [
    "#### CALCUL"
   ]
  },
  {
   "cell_type": "markdown",
   "metadata": {},
   "source": [
    "1) Agrégation des données et calcul selon paramètres sélectionnés"
   ]
  },
  {
   "cell_type": "code",
   "execution_count": 4,
   "metadata": {},
   "outputs": [
    {
     "data": {
      "application/vnd.jupyter.widget-view+json": {
       "model_id": "27ac7309e43d484884844fb0cca11ff5",
       "version_major": 2,
       "version_minor": 0
      },
      "text/plain": [
       "GridspecLayout(children=(Button(description='Exporter en CSV', layout=Layout(grid_area='widget001'), style=But…"
      ]
     },
     "metadata": {},
     "output_type": "display_data"
    },
    {
     "data": {
      "application/vnd.plotly.v1+json": {
       "config": {
        "plotlyServerURL": "https://plot.ly"
       },
       "data": [
        {
         "close": [
          47260,
          48498.9,
          49200,
          50236.98,
          50042.36,
          50220.01,
          50284.21,
          50932.71,
          50701,
          50650.86,
          50394.38,
          50166,
          49665.03,
          50099.64,
          49696.16,
          50082.62,
          50643.76,
          50666.7,
          50787.29,
          50900.68,
          50474.9,
          50150.1,
          50777.86,
          50380,
          51132.5,
          50746.3,
          49621.93,
          49479.41,
          49492.97,
          49427.61,
          49178.48,
          49850.22,
          49510.21,
          49330,
          49738.96,
          50081,
          49685.15,
          49619.18,
          49457.47,
          48990.27,
          48898.07,
          49174.4,
          48173.98,
          48757.56,
          48710,
          48833.25,
          49360,
          49737.82
         ],
         "high": [
          49130.5,
          48526.33,
          49380,
          50353.43,
          50820.16,
          50490.058,
          50573.45,
          51001,
          51459.51,
          51002.277,
          51064.836108,
          50554.59,
          50710.31,
          50551.92,
          50206.4,
          50374.4,
          50944,
          51089.72,
          51058.84,
          51449.5,
          51088.359,
          50671.5,
          50957.67,
          50903.97,
          51227,
          51364.74,
          51123.31,
          49898.5,
          49811.25,
          49713.864,
          49670.727,
          49916.8,
          50314.08,
          49907.16,
          50016.49,
          50126.6,
          50171.79,
          50044.5,
          49748.4,
          49475.25,
          49293.55,
          49279.32,
          49193.77,
          48968.01,
          48790.49,
          49004.72,
          49579.74,
          49840.2
         ],
         "low": [
          46902,
          47166,
          48412,
          48732.8,
          49781.14,
          50027,
          50042,
          50207,
          50647,
          50328,
          49941,
          50124,
          49210,
          49524.08,
          49472,
          49659,
          49770.5,
          50287,
          50293,
          50695,
          50052,
          50050,
          50057,
          50200,
          50324.99,
          50603,
          49329,
          48940.12,
          49100.7,
          48691.6,
          48350,
          48883.1808809,
          49365,
          49298.688164,
          49313,
          49611,
          49510,
          49579.819,
          49280,
          48804,
          48750,
          48569,
          48135.88,
          48111,
          48036.5,
          48489,
          48753.08,
          49331.6
         ],
         "open": [
          48899.99,
          47257.14,
          48499,
          49214.39,
          50224.22,
          50054.3,
          50190.12,
          50286.6,
          50929.46,
          50721.08,
          50611,
          50394.38,
          50264.18,
          49658.53,
          50098.05,
          49712.25,
          50090.93,
          50643.59,
          50659.75,
          50797.05,
          50900,
          50442.21,
          50127.96,
          50777.86,
          50379.99,
          51162.91,
          50738.3,
          49620,
          49480.2,
          49483.59,
          49430.41,
          49171.11,
          49847.54,
          49536.01,
          49371.49,
          49744.8,
          50096.69,
          49685.14,
          49631.06,
          49472.47,
          48990.27,
          48884,
          49152.28,
          48203.36,
          48768.54,
          48710.06,
          48831.81,
          49359.99
         ],
         "type": "candlestick",
         "x": [
          "2021-02-24T00:00:00",
          "2021-02-24T00:30:00",
          "2021-02-24T01:00:00",
          "2021-02-24T01:30:00",
          "2021-02-24T02:00:00",
          "2021-02-24T02:30:00",
          "2021-02-24T03:00:00",
          "2021-02-24T03:30:00",
          "2021-02-24T04:00:00",
          "2021-02-24T04:30:00",
          "2021-02-24T05:00:00",
          "2021-02-24T05:30:00",
          "2021-02-24T06:00:00",
          "2021-02-24T06:30:00",
          "2021-02-24T07:00:00",
          "2021-02-24T07:30:00",
          "2021-02-24T08:00:00",
          "2021-02-24T08:30:00",
          "2021-02-24T09:00:00",
          "2021-02-24T09:30:00",
          "2021-02-24T10:00:00",
          "2021-02-24T10:30:00",
          "2021-02-24T11:00:00",
          "2021-02-24T11:30:00",
          "2021-02-24T12:00:00",
          "2021-02-24T12:30:00",
          "2021-02-24T13:00:00",
          "2021-02-24T13:30:00",
          "2021-02-24T14:00:00",
          "2021-02-24T14:30:00",
          "2021-02-24T15:00:00",
          "2021-02-24T15:30:00",
          "2021-02-24T16:00:00",
          "2021-02-24T16:30:00",
          "2021-02-24T17:00:00",
          "2021-02-24T17:30:00",
          "2021-02-24T18:00:00",
          "2021-02-24T18:30:00",
          "2021-02-24T19:00:00",
          "2021-02-24T19:30:00",
          "2021-02-24T20:00:00",
          "2021-02-24T20:30:00",
          "2021-02-24T21:00:00",
          "2021-02-24T21:30:00",
          "2021-02-24T22:00:00",
          "2021-02-24T22:30:00",
          "2021-02-24T23:00:00",
          "2021-02-24T23:30:00"
         ]
        },
        {
         "line": {
          "color": "blue"
         },
         "mode": "lines",
         "name": "VWAP",
         "type": "scatter",
         "x": [
          "2021-02-24T00:00:00",
          "2021-02-24T00:30:00",
          "2021-02-24T01:00:00",
          "2021-02-24T01:30:00",
          "2021-02-24T02:00:00",
          "2021-02-24T02:30:00",
          "2021-02-24T03:00:00",
          "2021-02-24T03:30:00",
          "2021-02-24T04:00:00",
          "2021-02-24T04:30:00",
          "2021-02-24T05:00:00",
          "2021-02-24T05:30:00",
          "2021-02-24T06:00:00",
          "2021-02-24T06:30:00",
          "2021-02-24T07:00:00",
          "2021-02-24T07:30:00",
          "2021-02-24T08:00:00",
          "2021-02-24T08:30:00",
          "2021-02-24T09:00:00",
          "2021-02-24T09:30:00",
          "2021-02-24T10:00:00",
          "2021-02-24T10:30:00",
          "2021-02-24T11:00:00",
          "2021-02-24T11:30:00",
          "2021-02-24T12:00:00",
          "2021-02-24T12:30:00",
          "2021-02-24T13:00:00",
          "2021-02-24T13:30:00",
          "2021-02-24T14:00:00",
          "2021-02-24T14:30:00",
          "2021-02-24T15:00:00",
          "2021-02-24T15:30:00",
          "2021-02-24T16:00:00",
          "2021-02-24T16:30:00",
          "2021-02-24T17:00:00",
          "2021-02-24T17:30:00",
          "2021-02-24T18:00:00",
          "2021-02-24T18:30:00",
          "2021-02-24T19:00:00",
          "2021-02-24T19:30:00",
          "2021-02-24T20:00:00",
          "2021-02-24T20:30:00",
          "2021-02-24T21:00:00",
          "2021-02-24T21:30:00",
          "2021-02-24T22:00:00",
          "2021-02-24T22:30:00",
          "2021-02-24T23:00:00",
          "2021-02-24T23:30:00"
         ],
         "y": [
          47920.53353112129,
          47800.29039507475,
          48928.49307345267,
          49637.08862502685,
          50210.20307276306,
          50296.34584651784,
          50375.68005122857,
          50647.812154115396,
          51093.50543319536,
          50688.77493994098,
          50508.347713727075,
          50353.74428908956,
          49912.02665770825,
          49916.310453854705,
          49807.27085760048,
          50110.45061216081,
          50538.79283429193,
          50632.99777079214,
          50713.80379617025,
          51061.089876539474,
          50614.12867404763,
          50429.29835082758,
          50513.13986552147,
          50485.08630300735,
          50859.44083742233,
          50996.70181321,
          50111.72295165814,
          49404.029234723224,
          49478.34251208568,
          49157.661737585055,
          48961.86848717715,
          49468.93326925149,
          49803.64481022251,
          49643.4352022356,
          49794.956323871884,
          49849.390423415505,
          49783.82960884895,
          49817.61444240831,
          49507.59244416753,
          49068.59609736983,
          49014.57313998658,
          48865.423814985625,
          48530.185045323014,
          48409.35814613017,
          48372.13896134768,
          48777.13285605167,
          49302.19577314924,
          49617.54585951973
         ]
        },
        {
         "line": {
          "color": "grey"
         },
         "mode": "lines",
         "name": "vwmp_lower",
         "type": "scatter",
         "x": [
          "2021-02-24T00:00:00",
          "2021-02-24T00:30:00",
          "2021-02-24T01:00:00",
          "2021-02-24T01:30:00",
          "2021-02-24T02:00:00",
          "2021-02-24T02:30:00",
          "2021-02-24T03:00:00",
          "2021-02-24T03:30:00",
          "2021-02-24T04:00:00",
          "2021-02-24T04:30:00",
          "2021-02-24T05:00:00",
          "2021-02-24T05:30:00",
          "2021-02-24T06:00:00",
          "2021-02-24T06:30:00",
          "2021-02-24T07:00:00",
          "2021-02-24T07:30:00",
          "2021-02-24T08:00:00",
          "2021-02-24T08:30:00",
          "2021-02-24T09:00:00",
          "2021-02-24T09:30:00",
          "2021-02-24T10:00:00",
          "2021-02-24T10:30:00",
          "2021-02-24T11:00:00",
          "2021-02-24T11:30:00",
          "2021-02-24T12:00:00",
          "2021-02-24T12:30:00",
          "2021-02-24T13:00:00",
          "2021-02-24T13:30:00",
          "2021-02-24T14:00:00",
          "2021-02-24T14:30:00",
          "2021-02-24T15:00:00",
          "2021-02-24T15:30:00",
          "2021-02-24T16:00:00",
          "2021-02-24T16:30:00",
          "2021-02-24T17:00:00",
          "2021-02-24T17:30:00",
          "2021-02-24T18:00:00",
          "2021-02-24T18:30:00",
          "2021-02-24T19:00:00",
          "2021-02-24T19:30:00",
          "2021-02-24T20:00:00",
          "2021-02-24T20:30:00",
          "2021-02-24T21:00:00",
          "2021-02-24T21:30:00",
          "2021-02-24T22:00:00",
          "2021-02-24T22:30:00",
          "2021-02-24T23:00:00",
          "2021-02-24T23:30:00"
         ],
         "y": [
          47694.66,
          48226.2,
          49312.94,
          49658.79,
          50002.4,
          50270.33,
          50182.39,
          50705.07,
          51024.81,
          50799.45,
          50096.54,
          50426.2,
          50196,
          50115,
          49901.2,
          49880,
          50713.05,
          50767.1,
          50856,
          50886,
          50785.6,
          50546.15,
          50500.99,
          50470,
          50975,
          51163.01,
          50550,
          49346.5,
          49274.37,
          49060,
          48907.79,
          49400,
          50011,
          49600,
          49519,
          49884.75,
          49569.01,
          49827.58,
          49500,
          49056.47,
          49120.06,
          48815,
          49098.13,
          48190,
          48382.67,
          48737.25,
          49212.53,
          49604.31
         ]
        }
       ],
       "layout": {
        "height": 300,
        "margin": {
         "b": 20,
         "l": 70,
         "r": 50,
         "t": 50
        },
        "template": {
         "data": {
          "bar": [
           {
            "error_x": {
             "color": "#2a3f5f"
            },
            "error_y": {
             "color": "#2a3f5f"
            },
            "marker": {
             "line": {
              "color": "#E5ECF6",
              "width": 0.5
             },
             "pattern": {
              "fillmode": "overlay",
              "size": 10,
              "solidity": 0.2
             }
            },
            "type": "bar"
           }
          ],
          "barpolar": [
           {
            "marker": {
             "line": {
              "color": "#E5ECF6",
              "width": 0.5
             },
             "pattern": {
              "fillmode": "overlay",
              "size": 10,
              "solidity": 0.2
             }
            },
            "type": "barpolar"
           }
          ],
          "carpet": [
           {
            "aaxis": {
             "endlinecolor": "#2a3f5f",
             "gridcolor": "white",
             "linecolor": "white",
             "minorgridcolor": "white",
             "startlinecolor": "#2a3f5f"
            },
            "baxis": {
             "endlinecolor": "#2a3f5f",
             "gridcolor": "white",
             "linecolor": "white",
             "minorgridcolor": "white",
             "startlinecolor": "#2a3f5f"
            },
            "type": "carpet"
           }
          ],
          "choropleth": [
           {
            "colorbar": {
             "outlinewidth": 0,
             "ticks": ""
            },
            "type": "choropleth"
           }
          ],
          "contour": [
           {
            "colorbar": {
             "outlinewidth": 0,
             "ticks": ""
            },
            "colorscale": [
             [
              0,
              "#0d0887"
             ],
             [
              0.1111111111111111,
              "#46039f"
             ],
             [
              0.2222222222222222,
              "#7201a8"
             ],
             [
              0.3333333333333333,
              "#9c179e"
             ],
             [
              0.4444444444444444,
              "#bd3786"
             ],
             [
              0.5555555555555556,
              "#d8576b"
             ],
             [
              0.6666666666666666,
              "#ed7953"
             ],
             [
              0.7777777777777778,
              "#fb9f3a"
             ],
             [
              0.8888888888888888,
              "#fdca26"
             ],
             [
              1,
              "#f0f921"
             ]
            ],
            "type": "contour"
           }
          ],
          "contourcarpet": [
           {
            "colorbar": {
             "outlinewidth": 0,
             "ticks": ""
            },
            "type": "contourcarpet"
           }
          ],
          "heatmap": [
           {
            "colorbar": {
             "outlinewidth": 0,
             "ticks": ""
            },
            "colorscale": [
             [
              0,
              "#0d0887"
             ],
             [
              0.1111111111111111,
              "#46039f"
             ],
             [
              0.2222222222222222,
              "#7201a8"
             ],
             [
              0.3333333333333333,
              "#9c179e"
             ],
             [
              0.4444444444444444,
              "#bd3786"
             ],
             [
              0.5555555555555556,
              "#d8576b"
             ],
             [
              0.6666666666666666,
              "#ed7953"
             ],
             [
              0.7777777777777778,
              "#fb9f3a"
             ],
             [
              0.8888888888888888,
              "#fdca26"
             ],
             [
              1,
              "#f0f921"
             ]
            ],
            "type": "heatmap"
           }
          ],
          "heatmapgl": [
           {
            "colorbar": {
             "outlinewidth": 0,
             "ticks": ""
            },
            "colorscale": [
             [
              0,
              "#0d0887"
             ],
             [
              0.1111111111111111,
              "#46039f"
             ],
             [
              0.2222222222222222,
              "#7201a8"
             ],
             [
              0.3333333333333333,
              "#9c179e"
             ],
             [
              0.4444444444444444,
              "#bd3786"
             ],
             [
              0.5555555555555556,
              "#d8576b"
             ],
             [
              0.6666666666666666,
              "#ed7953"
             ],
             [
              0.7777777777777778,
              "#fb9f3a"
             ],
             [
              0.8888888888888888,
              "#fdca26"
             ],
             [
              1,
              "#f0f921"
             ]
            ],
            "type": "heatmapgl"
           }
          ],
          "histogram": [
           {
            "marker": {
             "pattern": {
              "fillmode": "overlay",
              "size": 10,
              "solidity": 0.2
             }
            },
            "type": "histogram"
           }
          ],
          "histogram2d": [
           {
            "colorbar": {
             "outlinewidth": 0,
             "ticks": ""
            },
            "colorscale": [
             [
              0,
              "#0d0887"
             ],
             [
              0.1111111111111111,
              "#46039f"
             ],
             [
              0.2222222222222222,
              "#7201a8"
             ],
             [
              0.3333333333333333,
              "#9c179e"
             ],
             [
              0.4444444444444444,
              "#bd3786"
             ],
             [
              0.5555555555555556,
              "#d8576b"
             ],
             [
              0.6666666666666666,
              "#ed7953"
             ],
             [
              0.7777777777777778,
              "#fb9f3a"
             ],
             [
              0.8888888888888888,
              "#fdca26"
             ],
             [
              1,
              "#f0f921"
             ]
            ],
            "type": "histogram2d"
           }
          ],
          "histogram2dcontour": [
           {
            "colorbar": {
             "outlinewidth": 0,
             "ticks": ""
            },
            "colorscale": [
             [
              0,
              "#0d0887"
             ],
             [
              0.1111111111111111,
              "#46039f"
             ],
             [
              0.2222222222222222,
              "#7201a8"
             ],
             [
              0.3333333333333333,
              "#9c179e"
             ],
             [
              0.4444444444444444,
              "#bd3786"
             ],
             [
              0.5555555555555556,
              "#d8576b"
             ],
             [
              0.6666666666666666,
              "#ed7953"
             ],
             [
              0.7777777777777778,
              "#fb9f3a"
             ],
             [
              0.8888888888888888,
              "#fdca26"
             ],
             [
              1,
              "#f0f921"
             ]
            ],
            "type": "histogram2dcontour"
           }
          ],
          "mesh3d": [
           {
            "colorbar": {
             "outlinewidth": 0,
             "ticks": ""
            },
            "type": "mesh3d"
           }
          ],
          "parcoords": [
           {
            "line": {
             "colorbar": {
              "outlinewidth": 0,
              "ticks": ""
             }
            },
            "type": "parcoords"
           }
          ],
          "pie": [
           {
            "automargin": true,
            "type": "pie"
           }
          ],
          "scatter": [
           {
            "fillpattern": {
             "fillmode": "overlay",
             "size": 10,
             "solidity": 0.2
            },
            "type": "scatter"
           }
          ],
          "scatter3d": [
           {
            "line": {
             "colorbar": {
              "outlinewidth": 0,
              "ticks": ""
             }
            },
            "marker": {
             "colorbar": {
              "outlinewidth": 0,
              "ticks": ""
             }
            },
            "type": "scatter3d"
           }
          ],
          "scattercarpet": [
           {
            "marker": {
             "colorbar": {
              "outlinewidth": 0,
              "ticks": ""
             }
            },
            "type": "scattercarpet"
           }
          ],
          "scattergeo": [
           {
            "marker": {
             "colorbar": {
              "outlinewidth": 0,
              "ticks": ""
             }
            },
            "type": "scattergeo"
           }
          ],
          "scattergl": [
           {
            "marker": {
             "colorbar": {
              "outlinewidth": 0,
              "ticks": ""
             }
            },
            "type": "scattergl"
           }
          ],
          "scattermapbox": [
           {
            "marker": {
             "colorbar": {
              "outlinewidth": 0,
              "ticks": ""
             }
            },
            "type": "scattermapbox"
           }
          ],
          "scatterpolar": [
           {
            "marker": {
             "colorbar": {
              "outlinewidth": 0,
              "ticks": ""
             }
            },
            "type": "scatterpolar"
           }
          ],
          "scatterpolargl": [
           {
            "marker": {
             "colorbar": {
              "outlinewidth": 0,
              "ticks": ""
             }
            },
            "type": "scatterpolargl"
           }
          ],
          "scatterternary": [
           {
            "marker": {
             "colorbar": {
              "outlinewidth": 0,
              "ticks": ""
             }
            },
            "type": "scatterternary"
           }
          ],
          "surface": [
           {
            "colorbar": {
             "outlinewidth": 0,
             "ticks": ""
            },
            "colorscale": [
             [
              0,
              "#0d0887"
             ],
             [
              0.1111111111111111,
              "#46039f"
             ],
             [
              0.2222222222222222,
              "#7201a8"
             ],
             [
              0.3333333333333333,
              "#9c179e"
             ],
             [
              0.4444444444444444,
              "#bd3786"
             ],
             [
              0.5555555555555556,
              "#d8576b"
             ],
             [
              0.6666666666666666,
              "#ed7953"
             ],
             [
              0.7777777777777778,
              "#fb9f3a"
             ],
             [
              0.8888888888888888,
              "#fdca26"
             ],
             [
              1,
              "#f0f921"
             ]
            ],
            "type": "surface"
           }
          ],
          "table": [
           {
            "cells": {
             "fill": {
              "color": "#EBF0F8"
             },
             "line": {
              "color": "white"
             }
            },
            "header": {
             "fill": {
              "color": "#C8D4E3"
             },
             "line": {
              "color": "white"
             }
            },
            "type": "table"
           }
          ]
         },
         "layout": {
          "annotationdefaults": {
           "arrowcolor": "#2a3f5f",
           "arrowhead": 0,
           "arrowwidth": 1
          },
          "autotypenumbers": "strict",
          "coloraxis": {
           "colorbar": {
            "outlinewidth": 0,
            "ticks": ""
           }
          },
          "colorscale": {
           "diverging": [
            [
             0,
             "#8e0152"
            ],
            [
             0.1,
             "#c51b7d"
            ],
            [
             0.2,
             "#de77ae"
            ],
            [
             0.3,
             "#f1b6da"
            ],
            [
             0.4,
             "#fde0ef"
            ],
            [
             0.5,
             "#f7f7f7"
            ],
            [
             0.6,
             "#e6f5d0"
            ],
            [
             0.7,
             "#b8e186"
            ],
            [
             0.8,
             "#7fbc41"
            ],
            [
             0.9,
             "#4d9221"
            ],
            [
             1,
             "#276419"
            ]
           ],
           "sequential": [
            [
             0,
             "#0d0887"
            ],
            [
             0.1111111111111111,
             "#46039f"
            ],
            [
             0.2222222222222222,
             "#7201a8"
            ],
            [
             0.3333333333333333,
             "#9c179e"
            ],
            [
             0.4444444444444444,
             "#bd3786"
            ],
            [
             0.5555555555555556,
             "#d8576b"
            ],
            [
             0.6666666666666666,
             "#ed7953"
            ],
            [
             0.7777777777777778,
             "#fb9f3a"
            ],
            [
             0.8888888888888888,
             "#fdca26"
            ],
            [
             1,
             "#f0f921"
            ]
           ],
           "sequentialminus": [
            [
             0,
             "#0d0887"
            ],
            [
             0.1111111111111111,
             "#46039f"
            ],
            [
             0.2222222222222222,
             "#7201a8"
            ],
            [
             0.3333333333333333,
             "#9c179e"
            ],
            [
             0.4444444444444444,
             "#bd3786"
            ],
            [
             0.5555555555555556,
             "#d8576b"
            ],
            [
             0.6666666666666666,
             "#ed7953"
            ],
            [
             0.7777777777777778,
             "#fb9f3a"
            ],
            [
             0.8888888888888888,
             "#fdca26"
            ],
            [
             1,
             "#f0f921"
            ]
           ]
          },
          "colorway": [
           "#636efa",
           "#EF553B",
           "#00cc96",
           "#ab63fa",
           "#FFA15A",
           "#19d3f3",
           "#FF6692",
           "#B6E880",
           "#FF97FF",
           "#FECB52"
          ],
          "font": {
           "color": "#2a3f5f"
          },
          "geo": {
           "bgcolor": "white",
           "lakecolor": "white",
           "landcolor": "#E5ECF6",
           "showlakes": true,
           "showland": true,
           "subunitcolor": "white"
          },
          "hoverlabel": {
           "align": "left"
          },
          "hovermode": "closest",
          "mapbox": {
           "style": "light"
          },
          "paper_bgcolor": "white",
          "plot_bgcolor": "#E5ECF6",
          "polar": {
           "angularaxis": {
            "gridcolor": "white",
            "linecolor": "white",
            "ticks": ""
           },
           "bgcolor": "#E5ECF6",
           "radialaxis": {
            "gridcolor": "white",
            "linecolor": "white",
            "ticks": ""
           }
          },
          "scene": {
           "xaxis": {
            "backgroundcolor": "#E5ECF6",
            "gridcolor": "white",
            "gridwidth": 2,
            "linecolor": "white",
            "showbackground": true,
            "ticks": "",
            "zerolinecolor": "white"
           },
           "yaxis": {
            "backgroundcolor": "#E5ECF6",
            "gridcolor": "white",
            "gridwidth": 2,
            "linecolor": "white",
            "showbackground": true,
            "ticks": "",
            "zerolinecolor": "white"
           },
           "zaxis": {
            "backgroundcolor": "#E5ECF6",
            "gridcolor": "white",
            "gridwidth": 2,
            "linecolor": "white",
            "showbackground": true,
            "ticks": "",
            "zerolinecolor": "white"
           }
          },
          "shapedefaults": {
           "line": {
            "color": "#2a3f5f"
           }
          },
          "ternary": {
           "aaxis": {
            "gridcolor": "white",
            "linecolor": "white",
            "ticks": ""
           },
           "baxis": {
            "gridcolor": "white",
            "linecolor": "white",
            "ticks": ""
           },
           "bgcolor": "#E5ECF6",
           "caxis": {
            "gridcolor": "white",
            "linecolor": "white",
            "ticks": ""
           }
          },
          "title": {
           "x": 0.05
          },
          "xaxis": {
           "automargin": true,
           "gridcolor": "white",
           "linecolor": "white",
           "ticks": "",
           "title": {
            "standoff": 15
           },
           "zerolinecolor": "white",
           "zerolinewidth": 2
          },
          "yaxis": {
           "automargin": true,
           "gridcolor": "white",
           "linecolor": "white",
           "ticks": "",
           "title": {
            "standoff": 15
           },
           "zerolinecolor": "white",
           "zerolinewidth": 2
          }
         }
        },
        "title": {
         "text": "Exchange - [all]"
        },
        "width": 800,
        "yaxis": {
         "title": {
          "text": "Price"
         }
        }
       }
      }
     },
     "metadata": {},
     "output_type": "display_data"
    },
    {
     "data": {
      "application/vnd.plotly.v1+json": {
       "config": {
        "plotlyServerURL": "https://plot.ly"
       },
       "data": [
        {
         "close": [
          47245.8,
          48498.9,
          49165.2,
          50180.4,
          50035.1,
          50202.2,
          50268.2,
          50928.4,
          50722,
          50635.3,
          50406.6,
          50204.8,
          49633,
          50110.2,
          49700,
          50140.7,
          50684.4,
          50682.8,
          50814.8,
          50900,
          50474.9,
          50150.1,
          50770,
          50392.1,
          51132.5,
          50746.3,
          49609,
          49480.2,
          49533.6,
          49434.3,
          49174.9,
          49850,
          49508.7,
          49400,
          49741.1,
          50060,
          49680,
          49611.1,
          49456.4,
          48980.4,
          48912.2,
          49167.4,
          48224.7,
          48753.9,
          48699.7,
          48886.5,
          49330.8,
          49727.7
         ],
         "high": [
          48899.9,
          48499,
          49333,
          50200,
          50564.5,
          50475,
          50539.9,
          51000,
          51392,
          50940.9,
          51058.4,
          50540.1,
          50704.3,
          50386.2,
          50176.1,
          50374.4,
          50893,
          50912.5,
          50980.5,
          51442.5,
          51059.2,
          50661.9,
          50909.5,
          50885.4,
          51174.9,
          51283.3,
          51099.4,
          49889.5,
          49795.3,
          49665.4,
          49660,
          49916.8,
          50171.2,
          49897.8,
          50000,
          50060,
          50100,
          49984,
          49712.6,
          49456.9,
          49282.1,
          49247.4,
          49162.7,
          48900,
          48748.6,
          48997.1,
          49500,
          49840.2
         ],
         "low": [
          47015.7,
          47225,
          48462.8,
          48732.8,
          49836.7,
          50037.3,
          50074.9,
          50259.4,
          50715.7,
          50342.2,
          50022.5,
          50202.5,
          49410.6,
          49583.7,
          49548.5,
          49700,
          49812.8,
          50350.1,
          50380.7,
          50801,
          50188.7,
          50150,
          50150.6,
          50242.4,
          50372.9,
          50676.4,
          49504.5,
          49100,
          49162.8,
          48691.6,
          48500.1,
          49018.2,
          49436.7,
          49352.2,
          49400,
          49640.8,
          49551,
          49604,
          49385.8,
          48880.4,
          48770.1,
          48618.5,
          48159.5,
          48153.8,
          48075,
          48507.8,
          48788.5,
          49356.3
         ],
         "open": [
          48899.6,
          47225,
          48499,
          49191.2,
          50200,
          50037.3,
          50202.2,
          50268.2,
          50922.2,
          50714.9,
          50647.5,
          50400.3,
          50235.4,
          49647.4,
          50110.2,
          49700,
          50140.7,
          50671.1,
          50682.9,
          50843.9,
          50900,
          50474.8,
          50150.6,
          50769.2,
          50392.1,
          51138.9,
          50760,
          49646.1,
          49480.2,
          49533.6,
          49433.2,
          49174.9,
          49851.6,
          49529.2,
          49400,
          49741.1,
          50075,
          49676,
          49619.1,
          49454.9,
          48980.4,
          48909.7,
          49156.5,
          48207.9,
          48748.6,
          48699.8,
          48875.1,
          49366.8
         ],
         "type": "candlestick",
         "x": [
          "2021-02-24T00:00:00",
          "2021-02-24T00:30:00",
          "2021-02-24T01:00:00",
          "2021-02-24T01:30:00",
          "2021-02-24T02:00:00",
          "2021-02-24T02:30:00",
          "2021-02-24T03:00:00",
          "2021-02-24T03:30:00",
          "2021-02-24T04:00:00",
          "2021-02-24T04:30:00",
          "2021-02-24T05:00:00",
          "2021-02-24T05:30:00",
          "2021-02-24T06:00:00",
          "2021-02-24T06:30:00",
          "2021-02-24T07:00:00",
          "2021-02-24T07:30:00",
          "2021-02-24T08:00:00",
          "2021-02-24T08:30:00",
          "2021-02-24T09:00:00",
          "2021-02-24T09:30:00",
          "2021-02-24T10:00:00",
          "2021-02-24T10:30:00",
          "2021-02-24T11:00:00",
          "2021-02-24T11:30:00",
          "2021-02-24T12:00:00",
          "2021-02-24T12:30:00",
          "2021-02-24T13:00:00",
          "2021-02-24T13:30:00",
          "2021-02-24T14:00:00",
          "2021-02-24T14:30:00",
          "2021-02-24T15:00:00",
          "2021-02-24T15:30:00",
          "2021-02-24T16:00:00",
          "2021-02-24T16:30:00",
          "2021-02-24T17:00:00",
          "2021-02-24T17:30:00",
          "2021-02-24T18:00:00",
          "2021-02-24T18:30:00",
          "2021-02-24T19:00:00",
          "2021-02-24T19:30:00",
          "2021-02-24T20:00:00",
          "2021-02-24T20:30:00",
          "2021-02-24T21:00:00",
          "2021-02-24T21:30:00",
          "2021-02-24T22:00:00",
          "2021-02-24T22:30:00",
          "2021-02-24T23:00:00",
          "2021-02-24T23:30:00"
         ]
        },
        {
         "line": {
          "color": "blue"
         },
         "mode": "lines",
         "name": "VWAP",
         "type": "scatter",
         "x": [
          "2021-02-24T00:00:00",
          "2021-02-24T00:30:00",
          "2021-02-24T01:00:00",
          "2021-02-24T01:30:00",
          "2021-02-24T02:00:00",
          "2021-02-24T02:30:00",
          "2021-02-24T03:00:00",
          "2021-02-24T03:30:00",
          "2021-02-24T04:00:00",
          "2021-02-24T04:30:00",
          "2021-02-24T05:00:00",
          "2021-02-24T05:30:00",
          "2021-02-24T06:00:00",
          "2021-02-24T06:30:00",
          "2021-02-24T07:00:00",
          "2021-02-24T07:30:00",
          "2021-02-24T08:00:00",
          "2021-02-24T08:30:00",
          "2021-02-24T09:00:00",
          "2021-02-24T09:30:00",
          "2021-02-24T10:00:00",
          "2021-02-24T10:30:00",
          "2021-02-24T11:00:00",
          "2021-02-24T11:30:00",
          "2021-02-24T12:00:00",
          "2021-02-24T12:30:00",
          "2021-02-24T13:00:00",
          "2021-02-24T13:30:00",
          "2021-02-24T14:00:00",
          "2021-02-24T14:30:00",
          "2021-02-24T15:00:00",
          "2021-02-24T15:30:00",
          "2021-02-24T16:00:00",
          "2021-02-24T16:30:00",
          "2021-02-24T17:00:00",
          "2021-02-24T17:30:00",
          "2021-02-24T18:00:00",
          "2021-02-24T18:30:00",
          "2021-02-24T19:00:00",
          "2021-02-24T19:30:00",
          "2021-02-24T20:00:00",
          "2021-02-24T20:30:00",
          "2021-02-24T21:00:00",
          "2021-02-24T21:30:00",
          "2021-02-24T22:00:00",
          "2021-02-24T22:30:00",
          "2021-02-24T23:00:00",
          "2021-02-24T23:30:00"
         ],
         "y": [
          47627.943107122424,
          47820.23816317697,
          48861.943033979864,
          49562.5129563946,
          50189.325331135566,
          50281.93767446844,
          50379.798497087766,
          50662.310661705356,
          51094.74508825674,
          50688.29470584047,
          50447.15937791244,
          50376.909272018835,
          49914.63896966285,
          49918.58331958906,
          49825.037684411705,
          50138.19791311237,
          50486.6106893614,
          50657.169928057454,
          50745.840581801705,
          51101.630898544434,
          50714.71538427997,
          50476.850714083404,
          50529.56961534043,
          50516.976908440476,
          50794.65810641652,
          50985.39061910697,
          50021.82114136289,
          49429.10998248787,
          49472.72660674357,
          49156.94640793222,
          49028.054527722845,
          49483.190739256286,
          49827.35245506888,
          49625.633443190476,
          49802.55992378293,
          49873.22631571368,
          49818.18833285497,
          49805.575251122,
          49520.54692531148,
          49056.753041468364,
          48988.18898289057,
          48953.427705973896,
          48529.27522706843,
          48415.1121415197,
          48348.42449216489,
          48799.16695430839,
          49282.85454706533,
          49656.80342329465
         ]
        },
        {
         "line": {
          "color": "grey"
         },
         "mode": "lines",
         "name": "vwmp_lower",
         "type": "scatter",
         "x": [
          "2021-02-24T00:00:00",
          "2021-02-24T00:30:00",
          "2021-02-24T01:00:00",
          "2021-02-24T01:30:00",
          "2021-02-24T02:00:00",
          "2021-02-24T02:30:00",
          "2021-02-24T03:00:00",
          "2021-02-24T03:30:00",
          "2021-02-24T04:00:00",
          "2021-02-24T04:30:00",
          "2021-02-24T05:00:00",
          "2021-02-24T05:30:00",
          "2021-02-24T06:00:00",
          "2021-02-24T06:30:00",
          "2021-02-24T07:00:00",
          "2021-02-24T07:30:00",
          "2021-02-24T08:00:00",
          "2021-02-24T08:30:00",
          "2021-02-24T09:00:00",
          "2021-02-24T09:30:00",
          "2021-02-24T10:00:00",
          "2021-02-24T10:30:00",
          "2021-02-24T11:00:00",
          "2021-02-24T11:30:00",
          "2021-02-24T12:00:00",
          "2021-02-24T12:30:00",
          "2021-02-24T13:00:00",
          "2021-02-24T13:30:00",
          "2021-02-24T14:00:00",
          "2021-02-24T14:30:00",
          "2021-02-24T15:00:00",
          "2021-02-24T15:30:00",
          "2021-02-24T16:00:00",
          "2021-02-24T16:30:00",
          "2021-02-24T17:00:00",
          "2021-02-24T17:30:00",
          "2021-02-24T18:00:00",
          "2021-02-24T18:30:00",
          "2021-02-24T19:00:00",
          "2021-02-24T19:30:00",
          "2021-02-24T20:00:00",
          "2021-02-24T20:30:00",
          "2021-02-24T21:00:00",
          "2021-02-24T21:30:00",
          "2021-02-24T22:00:00",
          "2021-02-24T22:30:00",
          "2021-02-24T23:00:00",
          "2021-02-24T23:30:00"
         ],
         "y": [
          47605.1,
          47598.7,
          48748.8,
          49521.6,
          50455.9,
          50200,
          50500,
          50823.8,
          51068.5,
          50753,
          50116.9,
          50290.8,
          49729.9,
          49858,
          49617.8,
          50059.3,
          50880.5,
          50658.4,
          50709,
          51357.5,
          50900,
          50505.8,
          50427.7,
          50457.3,
          50877.9,
          51250,
          50547.7,
          49450.2,
          49627.1,
          49359.5,
          48534.3,
          49179.6,
          49970.6,
          49653.1,
          49803.6,
          49700.9,
          49599.9,
          49696.3,
          49525.9,
          49009.9,
          48970.7,
          48702.2,
          49101.7,
          48252,
          48224.3,
          48794.2,
          49474.5,
          49701.5
         ]
        }
       ],
       "layout": {
        "height": 300,
        "margin": {
         "b": 20,
         "l": 70,
         "r": 50,
         "t": 50
        },
        "template": {
         "data": {
          "bar": [
           {
            "error_x": {
             "color": "#2a3f5f"
            },
            "error_y": {
             "color": "#2a3f5f"
            },
            "marker": {
             "line": {
              "color": "#E5ECF6",
              "width": 0.5
             },
             "pattern": {
              "fillmode": "overlay",
              "size": 10,
              "solidity": 0.2
             }
            },
            "type": "bar"
           }
          ],
          "barpolar": [
           {
            "marker": {
             "line": {
              "color": "#E5ECF6",
              "width": 0.5
             },
             "pattern": {
              "fillmode": "overlay",
              "size": 10,
              "solidity": 0.2
             }
            },
            "type": "barpolar"
           }
          ],
          "carpet": [
           {
            "aaxis": {
             "endlinecolor": "#2a3f5f",
             "gridcolor": "white",
             "linecolor": "white",
             "minorgridcolor": "white",
             "startlinecolor": "#2a3f5f"
            },
            "baxis": {
             "endlinecolor": "#2a3f5f",
             "gridcolor": "white",
             "linecolor": "white",
             "minorgridcolor": "white",
             "startlinecolor": "#2a3f5f"
            },
            "type": "carpet"
           }
          ],
          "choropleth": [
           {
            "colorbar": {
             "outlinewidth": 0,
             "ticks": ""
            },
            "type": "choropleth"
           }
          ],
          "contour": [
           {
            "colorbar": {
             "outlinewidth": 0,
             "ticks": ""
            },
            "colorscale": [
             [
              0,
              "#0d0887"
             ],
             [
              0.1111111111111111,
              "#46039f"
             ],
             [
              0.2222222222222222,
              "#7201a8"
             ],
             [
              0.3333333333333333,
              "#9c179e"
             ],
             [
              0.4444444444444444,
              "#bd3786"
             ],
             [
              0.5555555555555556,
              "#d8576b"
             ],
             [
              0.6666666666666666,
              "#ed7953"
             ],
             [
              0.7777777777777778,
              "#fb9f3a"
             ],
             [
              0.8888888888888888,
              "#fdca26"
             ],
             [
              1,
              "#f0f921"
             ]
            ],
            "type": "contour"
           }
          ],
          "contourcarpet": [
           {
            "colorbar": {
             "outlinewidth": 0,
             "ticks": ""
            },
            "type": "contourcarpet"
           }
          ],
          "heatmap": [
           {
            "colorbar": {
             "outlinewidth": 0,
             "ticks": ""
            },
            "colorscale": [
             [
              0,
              "#0d0887"
             ],
             [
              0.1111111111111111,
              "#46039f"
             ],
             [
              0.2222222222222222,
              "#7201a8"
             ],
             [
              0.3333333333333333,
              "#9c179e"
             ],
             [
              0.4444444444444444,
              "#bd3786"
             ],
             [
              0.5555555555555556,
              "#d8576b"
             ],
             [
              0.6666666666666666,
              "#ed7953"
             ],
             [
              0.7777777777777778,
              "#fb9f3a"
             ],
             [
              0.8888888888888888,
              "#fdca26"
             ],
             [
              1,
              "#f0f921"
             ]
            ],
            "type": "heatmap"
           }
          ],
          "heatmapgl": [
           {
            "colorbar": {
             "outlinewidth": 0,
             "ticks": ""
            },
            "colorscale": [
             [
              0,
              "#0d0887"
             ],
             [
              0.1111111111111111,
              "#46039f"
             ],
             [
              0.2222222222222222,
              "#7201a8"
             ],
             [
              0.3333333333333333,
              "#9c179e"
             ],
             [
              0.4444444444444444,
              "#bd3786"
             ],
             [
              0.5555555555555556,
              "#d8576b"
             ],
             [
              0.6666666666666666,
              "#ed7953"
             ],
             [
              0.7777777777777778,
              "#fb9f3a"
             ],
             [
              0.8888888888888888,
              "#fdca26"
             ],
             [
              1,
              "#f0f921"
             ]
            ],
            "type": "heatmapgl"
           }
          ],
          "histogram": [
           {
            "marker": {
             "pattern": {
              "fillmode": "overlay",
              "size": 10,
              "solidity": 0.2
             }
            },
            "type": "histogram"
           }
          ],
          "histogram2d": [
           {
            "colorbar": {
             "outlinewidth": 0,
             "ticks": ""
            },
            "colorscale": [
             [
              0,
              "#0d0887"
             ],
             [
              0.1111111111111111,
              "#46039f"
             ],
             [
              0.2222222222222222,
              "#7201a8"
             ],
             [
              0.3333333333333333,
              "#9c179e"
             ],
             [
              0.4444444444444444,
              "#bd3786"
             ],
             [
              0.5555555555555556,
              "#d8576b"
             ],
             [
              0.6666666666666666,
              "#ed7953"
             ],
             [
              0.7777777777777778,
              "#fb9f3a"
             ],
             [
              0.8888888888888888,
              "#fdca26"
             ],
             [
              1,
              "#f0f921"
             ]
            ],
            "type": "histogram2d"
           }
          ],
          "histogram2dcontour": [
           {
            "colorbar": {
             "outlinewidth": 0,
             "ticks": ""
            },
            "colorscale": [
             [
              0,
              "#0d0887"
             ],
             [
              0.1111111111111111,
              "#46039f"
             ],
             [
              0.2222222222222222,
              "#7201a8"
             ],
             [
              0.3333333333333333,
              "#9c179e"
             ],
             [
              0.4444444444444444,
              "#bd3786"
             ],
             [
              0.5555555555555556,
              "#d8576b"
             ],
             [
              0.6666666666666666,
              "#ed7953"
             ],
             [
              0.7777777777777778,
              "#fb9f3a"
             ],
             [
              0.8888888888888888,
              "#fdca26"
             ],
             [
              1,
              "#f0f921"
             ]
            ],
            "type": "histogram2dcontour"
           }
          ],
          "mesh3d": [
           {
            "colorbar": {
             "outlinewidth": 0,
             "ticks": ""
            },
            "type": "mesh3d"
           }
          ],
          "parcoords": [
           {
            "line": {
             "colorbar": {
              "outlinewidth": 0,
              "ticks": ""
             }
            },
            "type": "parcoords"
           }
          ],
          "pie": [
           {
            "automargin": true,
            "type": "pie"
           }
          ],
          "scatter": [
           {
            "fillpattern": {
             "fillmode": "overlay",
             "size": 10,
             "solidity": 0.2
            },
            "type": "scatter"
           }
          ],
          "scatter3d": [
           {
            "line": {
             "colorbar": {
              "outlinewidth": 0,
              "ticks": ""
             }
            },
            "marker": {
             "colorbar": {
              "outlinewidth": 0,
              "ticks": ""
             }
            },
            "type": "scatter3d"
           }
          ],
          "scattercarpet": [
           {
            "marker": {
             "colorbar": {
              "outlinewidth": 0,
              "ticks": ""
             }
            },
            "type": "scattercarpet"
           }
          ],
          "scattergeo": [
           {
            "marker": {
             "colorbar": {
              "outlinewidth": 0,
              "ticks": ""
             }
            },
            "type": "scattergeo"
           }
          ],
          "scattergl": [
           {
            "marker": {
             "colorbar": {
              "outlinewidth": 0,
              "ticks": ""
             }
            },
            "type": "scattergl"
           }
          ],
          "scattermapbox": [
           {
            "marker": {
             "colorbar": {
              "outlinewidth": 0,
              "ticks": ""
             }
            },
            "type": "scattermapbox"
           }
          ],
          "scatterpolar": [
           {
            "marker": {
             "colorbar": {
              "outlinewidth": 0,
              "ticks": ""
             }
            },
            "type": "scatterpolar"
           }
          ],
          "scatterpolargl": [
           {
            "marker": {
             "colorbar": {
              "outlinewidth": 0,
              "ticks": ""
             }
            },
            "type": "scatterpolargl"
           }
          ],
          "scatterternary": [
           {
            "marker": {
             "colorbar": {
              "outlinewidth": 0,
              "ticks": ""
             }
            },
            "type": "scatterternary"
           }
          ],
          "surface": [
           {
            "colorbar": {
             "outlinewidth": 0,
             "ticks": ""
            },
            "colorscale": [
             [
              0,
              "#0d0887"
             ],
             [
              0.1111111111111111,
              "#46039f"
             ],
             [
              0.2222222222222222,
              "#7201a8"
             ],
             [
              0.3333333333333333,
              "#9c179e"
             ],
             [
              0.4444444444444444,
              "#bd3786"
             ],
             [
              0.5555555555555556,
              "#d8576b"
             ],
             [
              0.6666666666666666,
              "#ed7953"
             ],
             [
              0.7777777777777778,
              "#fb9f3a"
             ],
             [
              0.8888888888888888,
              "#fdca26"
             ],
             [
              1,
              "#f0f921"
             ]
            ],
            "type": "surface"
           }
          ],
          "table": [
           {
            "cells": {
             "fill": {
              "color": "#EBF0F8"
             },
             "line": {
              "color": "white"
             }
            },
            "header": {
             "fill": {
              "color": "#C8D4E3"
             },
             "line": {
              "color": "white"
             }
            },
            "type": "table"
           }
          ]
         },
         "layout": {
          "annotationdefaults": {
           "arrowcolor": "#2a3f5f",
           "arrowhead": 0,
           "arrowwidth": 1
          },
          "autotypenumbers": "strict",
          "coloraxis": {
           "colorbar": {
            "outlinewidth": 0,
            "ticks": ""
           }
          },
          "colorscale": {
           "diverging": [
            [
             0,
             "#8e0152"
            ],
            [
             0.1,
             "#c51b7d"
            ],
            [
             0.2,
             "#de77ae"
            ],
            [
             0.3,
             "#f1b6da"
            ],
            [
             0.4,
             "#fde0ef"
            ],
            [
             0.5,
             "#f7f7f7"
            ],
            [
             0.6,
             "#e6f5d0"
            ],
            [
             0.7,
             "#b8e186"
            ],
            [
             0.8,
             "#7fbc41"
            ],
            [
             0.9,
             "#4d9221"
            ],
            [
             1,
             "#276419"
            ]
           ],
           "sequential": [
            [
             0,
             "#0d0887"
            ],
            [
             0.1111111111111111,
             "#46039f"
            ],
            [
             0.2222222222222222,
             "#7201a8"
            ],
            [
             0.3333333333333333,
             "#9c179e"
            ],
            [
             0.4444444444444444,
             "#bd3786"
            ],
            [
             0.5555555555555556,
             "#d8576b"
            ],
            [
             0.6666666666666666,
             "#ed7953"
            ],
            [
             0.7777777777777778,
             "#fb9f3a"
            ],
            [
             0.8888888888888888,
             "#fdca26"
            ],
            [
             1,
             "#f0f921"
            ]
           ],
           "sequentialminus": [
            [
             0,
             "#0d0887"
            ],
            [
             0.1111111111111111,
             "#46039f"
            ],
            [
             0.2222222222222222,
             "#7201a8"
            ],
            [
             0.3333333333333333,
             "#9c179e"
            ],
            [
             0.4444444444444444,
             "#bd3786"
            ],
            [
             0.5555555555555556,
             "#d8576b"
            ],
            [
             0.6666666666666666,
             "#ed7953"
            ],
            [
             0.7777777777777778,
             "#fb9f3a"
            ],
            [
             0.8888888888888888,
             "#fdca26"
            ],
            [
             1,
             "#f0f921"
            ]
           ]
          },
          "colorway": [
           "#636efa",
           "#EF553B",
           "#00cc96",
           "#ab63fa",
           "#FFA15A",
           "#19d3f3",
           "#FF6692",
           "#B6E880",
           "#FF97FF",
           "#FECB52"
          ],
          "font": {
           "color": "#2a3f5f"
          },
          "geo": {
           "bgcolor": "white",
           "lakecolor": "white",
           "landcolor": "#E5ECF6",
           "showlakes": true,
           "showland": true,
           "subunitcolor": "white"
          },
          "hoverlabel": {
           "align": "left"
          },
          "hovermode": "closest",
          "mapbox": {
           "style": "light"
          },
          "paper_bgcolor": "white",
          "plot_bgcolor": "#E5ECF6",
          "polar": {
           "angularaxis": {
            "gridcolor": "white",
            "linecolor": "white",
            "ticks": ""
           },
           "bgcolor": "#E5ECF6",
           "radialaxis": {
            "gridcolor": "white",
            "linecolor": "white",
            "ticks": ""
           }
          },
          "scene": {
           "xaxis": {
            "backgroundcolor": "#E5ECF6",
            "gridcolor": "white",
            "gridwidth": 2,
            "linecolor": "white",
            "showbackground": true,
            "ticks": "",
            "zerolinecolor": "white"
           },
           "yaxis": {
            "backgroundcolor": "#E5ECF6",
            "gridcolor": "white",
            "gridwidth": 2,
            "linecolor": "white",
            "showbackground": true,
            "ticks": "",
            "zerolinecolor": "white"
           },
           "zaxis": {
            "backgroundcolor": "#E5ECF6",
            "gridcolor": "white",
            "gridwidth": 2,
            "linecolor": "white",
            "showbackground": true,
            "ticks": "",
            "zerolinecolor": "white"
           }
          },
          "shapedefaults": {
           "line": {
            "color": "#2a3f5f"
           }
          },
          "ternary": {
           "aaxis": {
            "gridcolor": "white",
            "linecolor": "white",
            "ticks": ""
           },
           "baxis": {
            "gridcolor": "white",
            "linecolor": "white",
            "ticks": ""
           },
           "bgcolor": "#E5ECF6",
           "caxis": {
            "gridcolor": "white",
            "linecolor": "white",
            "ticks": ""
           }
          },
          "title": {
           "x": 0.05
          },
          "xaxis": {
           "automargin": true,
           "gridcolor": "white",
           "linecolor": "white",
           "ticks": "",
           "title": {
            "standoff": 15
           },
           "zerolinecolor": "white",
           "zerolinewidth": 2
          },
          "yaxis": {
           "automargin": true,
           "gridcolor": "white",
           "linecolor": "white",
           "ticks": "",
           "title": {
            "standoff": 15
           },
           "zerolinecolor": "white",
           "zerolinewidth": 2
          }
         }
        },
        "title": {
         "text": "Exchange - [krkn]"
        },
        "width": 800,
        "yaxis": {
         "title": {
          "text": "Price"
         }
        }
       }
      }
     },
     "metadata": {},
     "output_type": "display_data"
    },
    {
     "data": {
      "application/vnd.plotly.v1+json": {
       "config": {
        "plotlyServerURL": "https://plot.ly"
       },
       "data": [
        {
         "close": [
          47257.14,
          48487.22,
          49200,
          50236.98,
          50042.36,
          50220.01,
          50284.21,
          50932.71,
          50712.59,
          50650.86,
          50394.38,
          50225.89,
          49665.03,
          50099.64,
          49696.16,
          50082.62,
          50643.76,
          50666.7,
          50787.29,
          50900.68,
          50448.15,
          50134.22,
          50777.86,
          50380,
          51143.17,
          50738.3,
          49616.95,
          49479.41,
          49492.97,
          49427.61,
          49178.48,
          49850.22,
          49513.85,
          49371.5,
          49740.88,
          50096.69,
          49685.15,
          49619.18,
          49474.27,
          48990.27,
          48898.07,
          49174.4,
          48173.98,
          48757.56,
          48710.06,
          48850.4,
          49360,
          49737.82
         ],
         "high": [
          49114.02,
          48525.23,
          49375,
          50353.43,
          50600,
          50489,
          50559.39,
          51000,
          51398,
          50991.5,
          51025.22,
          50554.59,
          50705.94,
          50400,
          50164.93,
          50350,
          50888.71,
          50891.81,
          50991.3,
          51415.41,
          51055.38,
          50644.65,
          50939.86,
          50893.21,
          51216.87,
          51332.84,
          51123.31,
          49867,
          49804.39,
          49685.48,
          49641.49,
          49877.97,
          50144.92,
          49882.8,
          49999,
          50113.72,
          50103.57,
          50018.91,
          49733.51,
          49472.47,
          49276.8,
          49259.65,
          49174.41,
          48935.04,
          48760.22,
          48987.38,
          49549.5,
          49788
         ],
         "low": [
          47002,
          47224.82,
          48437.32,
          48759.13,
          49832.71,
          50039.71,
          50084.76,
          50239.17,
          50700,
          50358.54,
          49978.89,
          50197,
          49436.23,
          49539.19,
          49520.91,
          49696.17,
          49782.86,
          50338.02,
          50356.56,
          50795.02,
          50172.36,
          50110,
          50129.7,
          50222.22,
          50368.45,
          50635.86,
          49474.58,
          49000,
          49150,
          48731.33,
          48500,
          49022.9,
          49365,
          49353.95,
          49360.64,
          49637.27,
          49544.84,
          49600,
          49280,
          48833.24,
          48764.88,
          48608.58,
          48150,
          48111,
          48078.62,
          48500,
          48775.05,
          49359.99
         ],
         "open": [
          48899.99,
          47257.14,
          48498.8,
          49214.39,
          50236.98,
          50048.58,
          50220.01,
          50286.6,
          50929.46,
          50721.08,
          50655.08,
          50394.38,
          50234.41,
          49658.53,
          50098.05,
          49696.17,
          50090.93,
          50644.06,
          50664.17,
          50796.87,
          50904.97,
          50458.24,
          50129.71,
          50777.86,
          50379.99,
          51162.91,
          50738.3,
          49780.06,
          49479.41,
          49483.59,
          49427.61,
          49178.47,
          49850,
          49524.42,
          49371.49,
          49744.8,
          50096.69,
          49685.14,
          49619.19,
          49472.47,
          48990.27,
          48898.08,
          49174.41,
          48178.24,
          48758.08,
          48710.06,
          48842.66,
          49359.99
         ],
         "type": "candlestick",
         "x": [
          "2021-02-24T00:00:00",
          "2021-02-24T00:30:00",
          "2021-02-24T01:00:00",
          "2021-02-24T01:30:00",
          "2021-02-24T02:00:00",
          "2021-02-24T02:30:00",
          "2021-02-24T03:00:00",
          "2021-02-24T03:30:00",
          "2021-02-24T04:00:00",
          "2021-02-24T04:30:00",
          "2021-02-24T05:00:00",
          "2021-02-24T05:30:00",
          "2021-02-24T06:00:00",
          "2021-02-24T06:30:00",
          "2021-02-24T07:00:00",
          "2021-02-24T07:30:00",
          "2021-02-24T08:00:00",
          "2021-02-24T08:30:00",
          "2021-02-24T09:00:00",
          "2021-02-24T09:30:00",
          "2021-02-24T10:00:00",
          "2021-02-24T10:30:00",
          "2021-02-24T11:00:00",
          "2021-02-24T11:30:00",
          "2021-02-24T12:00:00",
          "2021-02-24T12:30:00",
          "2021-02-24T13:00:00",
          "2021-02-24T13:30:00",
          "2021-02-24T14:00:00",
          "2021-02-24T14:30:00",
          "2021-02-24T15:00:00",
          "2021-02-24T15:30:00",
          "2021-02-24T16:00:00",
          "2021-02-24T16:30:00",
          "2021-02-24T17:00:00",
          "2021-02-24T17:30:00",
          "2021-02-24T18:00:00",
          "2021-02-24T18:30:00",
          "2021-02-24T19:00:00",
          "2021-02-24T19:30:00",
          "2021-02-24T20:00:00",
          "2021-02-24T20:30:00",
          "2021-02-24T21:00:00",
          "2021-02-24T21:30:00",
          "2021-02-24T22:00:00",
          "2021-02-24T22:30:00",
          "2021-02-24T23:00:00",
          "2021-02-24T23:30:00"
         ]
        },
        {
         "line": {
          "color": "blue"
         },
         "mode": "lines",
         "name": "VWAP",
         "type": "scatter",
         "x": [
          "2021-02-24T00:00:00",
          "2021-02-24T00:30:00",
          "2021-02-24T01:00:00",
          "2021-02-24T01:30:00",
          "2021-02-24T02:00:00",
          "2021-02-24T02:30:00",
          "2021-02-24T03:00:00",
          "2021-02-24T03:30:00",
          "2021-02-24T04:00:00",
          "2021-02-24T04:30:00",
          "2021-02-24T05:00:00",
          "2021-02-24T05:30:00",
          "2021-02-24T06:00:00",
          "2021-02-24T06:30:00",
          "2021-02-24T07:00:00",
          "2021-02-24T07:30:00",
          "2021-02-24T08:00:00",
          "2021-02-24T08:30:00",
          "2021-02-24T09:00:00",
          "2021-02-24T09:30:00",
          "2021-02-24T10:00:00",
          "2021-02-24T10:30:00",
          "2021-02-24T11:00:00",
          "2021-02-24T11:30:00",
          "2021-02-24T12:00:00",
          "2021-02-24T12:30:00",
          "2021-02-24T13:00:00",
          "2021-02-24T13:30:00",
          "2021-02-24T14:00:00",
          "2021-02-24T14:30:00",
          "2021-02-24T15:00:00",
          "2021-02-24T15:30:00",
          "2021-02-24T16:00:00",
          "2021-02-24T16:30:00",
          "2021-02-24T17:00:00",
          "2021-02-24T17:30:00",
          "2021-02-24T18:00:00",
          "2021-02-24T18:30:00",
          "2021-02-24T19:00:00",
          "2021-02-24T19:30:00",
          "2021-02-24T20:00:00",
          "2021-02-24T20:30:00",
          "2021-02-24T21:00:00",
          "2021-02-24T21:30:00",
          "2021-02-24T22:00:00",
          "2021-02-24T22:30:00",
          "2021-02-24T23:00:00",
          "2021-02-24T23:30:00"
         ],
         "y": [
          48004.048964662376,
          47822.2395309893,
          48943.95505645521,
          49622.07750064441,
          50211.59027564947,
          50304.62714316974,
          50379.59254789042,
          50620.8556915582,
          51100.967647214056,
          50689.34103470607,
          50565.002804654716,
          50380.50381708889,
          50023.7267707391,
          49909.51060086196,
          49816.6113586758,
          50115.40315293695,
          50443.84779262215,
          50634.00072914474,
          50706.59110678978,
          51076.9346652842,
          50587.03545163781,
          50439.534200148104,
          50503.22103484746,
          50493.73396847665,
          50832.14830979761,
          51009.100311992675,
          50142.703497437295,
          49412.90569087317,
          49486.08945937049,
          49157.91917972354,
          48971.53598067642,
          49475.78313396901,
          49791.98138026058,
          49661.83458379839,
          49801.30438301752,
          49826.076311718054,
          49759.719605465536,
          49822.54312969222,
          49500.60474846922,
          49060.54583913442,
          49022.479040752216,
          48840.54974176825,
          48530.85329509526,
          48400.51353399494,
          48400.398530057755,
          48764.17089954222,
          49282.63984981319,
          49613.33157234765
         ]
        },
        {
         "line": {
          "color": "grey"
         },
         "mode": "lines",
         "name": "vwmp_lower",
         "type": "scatter",
         "x": [
          "2021-02-24T00:00:00",
          "2021-02-24T00:30:00",
          "2021-02-24T01:00:00",
          "2021-02-24T01:30:00",
          "2021-02-24T02:00:00",
          "2021-02-24T02:30:00",
          "2021-02-24T03:00:00",
          "2021-02-24T03:30:00",
          "2021-02-24T04:00:00",
          "2021-02-24T04:30:00",
          "2021-02-24T05:00:00",
          "2021-02-24T05:30:00",
          "2021-02-24T06:00:00",
          "2021-02-24T06:30:00",
          "2021-02-24T07:00:00",
          "2021-02-24T07:30:00",
          "2021-02-24T08:00:00",
          "2021-02-24T08:30:00",
          "2021-02-24T09:00:00",
          "2021-02-24T09:30:00",
          "2021-02-24T10:00:00",
          "2021-02-24T10:30:00",
          "2021-02-24T11:00:00",
          "2021-02-24T11:30:00",
          "2021-02-24T12:00:00",
          "2021-02-24T12:30:00",
          "2021-02-24T13:00:00",
          "2021-02-24T13:30:00",
          "2021-02-24T14:00:00",
          "2021-02-24T14:30:00",
          "2021-02-24T15:00:00",
          "2021-02-24T15:30:00",
          "2021-02-24T16:00:00",
          "2021-02-24T16:30:00",
          "2021-02-24T17:00:00",
          "2021-02-24T17:30:00",
          "2021-02-24T18:00:00",
          "2021-02-24T18:30:00",
          "2021-02-24T19:00:00",
          "2021-02-24T19:30:00",
          "2021-02-24T20:00:00",
          "2021-02-24T20:30:00",
          "2021-02-24T21:00:00",
          "2021-02-24T21:30:00",
          "2021-02-24T22:00:00",
          "2021-02-24T22:30:00",
          "2021-02-24T23:00:00",
          "2021-02-24T23:30:00"
         ],
         "y": [
          47329.95,
          47613.76,
          48940.71,
          49853.12,
          50472.43,
          50400.81,
          50347.82,
          50412.42,
          51238.39,
          50516.87,
          50175.78,
          50416.58,
          50563.78,
          49556.5,
          50081.93,
          50170.18,
          50750,
          50730.39,
          50881.07,
          50915.34,
          50481.65,
          50271.92,
          50517.52,
          50381.72,
          50850,
          50913.13,
          49896.62,
          49321.71,
          49703.13,
          48957.6,
          49000,
          49167.98,
          49857.77,
          49676.56,
          49865.12,
          49688.03,
          49897.46,
          49773.58,
          49640,
          49083.05,
          49117.42,
          48805.65,
          48162.7,
          48461.36,
          48384.93,
          48921.52,
          49419.32,
          49438.95
         ]
        }
       ],
       "layout": {
        "height": 300,
        "margin": {
         "b": 20,
         "l": 70,
         "r": 50,
         "t": 50
        },
        "template": {
         "data": {
          "bar": [
           {
            "error_x": {
             "color": "#2a3f5f"
            },
            "error_y": {
             "color": "#2a3f5f"
            },
            "marker": {
             "line": {
              "color": "#E5ECF6",
              "width": 0.5
             },
             "pattern": {
              "fillmode": "overlay",
              "size": 10,
              "solidity": 0.2
             }
            },
            "type": "bar"
           }
          ],
          "barpolar": [
           {
            "marker": {
             "line": {
              "color": "#E5ECF6",
              "width": 0.5
             },
             "pattern": {
              "fillmode": "overlay",
              "size": 10,
              "solidity": 0.2
             }
            },
            "type": "barpolar"
           }
          ],
          "carpet": [
           {
            "aaxis": {
             "endlinecolor": "#2a3f5f",
             "gridcolor": "white",
             "linecolor": "white",
             "minorgridcolor": "white",
             "startlinecolor": "#2a3f5f"
            },
            "baxis": {
             "endlinecolor": "#2a3f5f",
             "gridcolor": "white",
             "linecolor": "white",
             "minorgridcolor": "white",
             "startlinecolor": "#2a3f5f"
            },
            "type": "carpet"
           }
          ],
          "choropleth": [
           {
            "colorbar": {
             "outlinewidth": 0,
             "ticks": ""
            },
            "type": "choropleth"
           }
          ],
          "contour": [
           {
            "colorbar": {
             "outlinewidth": 0,
             "ticks": ""
            },
            "colorscale": [
             [
              0,
              "#0d0887"
             ],
             [
              0.1111111111111111,
              "#46039f"
             ],
             [
              0.2222222222222222,
              "#7201a8"
             ],
             [
              0.3333333333333333,
              "#9c179e"
             ],
             [
              0.4444444444444444,
              "#bd3786"
             ],
             [
              0.5555555555555556,
              "#d8576b"
             ],
             [
              0.6666666666666666,
              "#ed7953"
             ],
             [
              0.7777777777777778,
              "#fb9f3a"
             ],
             [
              0.8888888888888888,
              "#fdca26"
             ],
             [
              1,
              "#f0f921"
             ]
            ],
            "type": "contour"
           }
          ],
          "contourcarpet": [
           {
            "colorbar": {
             "outlinewidth": 0,
             "ticks": ""
            },
            "type": "contourcarpet"
           }
          ],
          "heatmap": [
           {
            "colorbar": {
             "outlinewidth": 0,
             "ticks": ""
            },
            "colorscale": [
             [
              0,
              "#0d0887"
             ],
             [
              0.1111111111111111,
              "#46039f"
             ],
             [
              0.2222222222222222,
              "#7201a8"
             ],
             [
              0.3333333333333333,
              "#9c179e"
             ],
             [
              0.4444444444444444,
              "#bd3786"
             ],
             [
              0.5555555555555556,
              "#d8576b"
             ],
             [
              0.6666666666666666,
              "#ed7953"
             ],
             [
              0.7777777777777778,
              "#fb9f3a"
             ],
             [
              0.8888888888888888,
              "#fdca26"
             ],
             [
              1,
              "#f0f921"
             ]
            ],
            "type": "heatmap"
           }
          ],
          "heatmapgl": [
           {
            "colorbar": {
             "outlinewidth": 0,
             "ticks": ""
            },
            "colorscale": [
             [
              0,
              "#0d0887"
             ],
             [
              0.1111111111111111,
              "#46039f"
             ],
             [
              0.2222222222222222,
              "#7201a8"
             ],
             [
              0.3333333333333333,
              "#9c179e"
             ],
             [
              0.4444444444444444,
              "#bd3786"
             ],
             [
              0.5555555555555556,
              "#d8576b"
             ],
             [
              0.6666666666666666,
              "#ed7953"
             ],
             [
              0.7777777777777778,
              "#fb9f3a"
             ],
             [
              0.8888888888888888,
              "#fdca26"
             ],
             [
              1,
              "#f0f921"
             ]
            ],
            "type": "heatmapgl"
           }
          ],
          "histogram": [
           {
            "marker": {
             "pattern": {
              "fillmode": "overlay",
              "size": 10,
              "solidity": 0.2
             }
            },
            "type": "histogram"
           }
          ],
          "histogram2d": [
           {
            "colorbar": {
             "outlinewidth": 0,
             "ticks": ""
            },
            "colorscale": [
             [
              0,
              "#0d0887"
             ],
             [
              0.1111111111111111,
              "#46039f"
             ],
             [
              0.2222222222222222,
              "#7201a8"
             ],
             [
              0.3333333333333333,
              "#9c179e"
             ],
             [
              0.4444444444444444,
              "#bd3786"
             ],
             [
              0.5555555555555556,
              "#d8576b"
             ],
             [
              0.6666666666666666,
              "#ed7953"
             ],
             [
              0.7777777777777778,
              "#fb9f3a"
             ],
             [
              0.8888888888888888,
              "#fdca26"
             ],
             [
              1,
              "#f0f921"
             ]
            ],
            "type": "histogram2d"
           }
          ],
          "histogram2dcontour": [
           {
            "colorbar": {
             "outlinewidth": 0,
             "ticks": ""
            },
            "colorscale": [
             [
              0,
              "#0d0887"
             ],
             [
              0.1111111111111111,
              "#46039f"
             ],
             [
              0.2222222222222222,
              "#7201a8"
             ],
             [
              0.3333333333333333,
              "#9c179e"
             ],
             [
              0.4444444444444444,
              "#bd3786"
             ],
             [
              0.5555555555555556,
              "#d8576b"
             ],
             [
              0.6666666666666666,
              "#ed7953"
             ],
             [
              0.7777777777777778,
              "#fb9f3a"
             ],
             [
              0.8888888888888888,
              "#fdca26"
             ],
             [
              1,
              "#f0f921"
             ]
            ],
            "type": "histogram2dcontour"
           }
          ],
          "mesh3d": [
           {
            "colorbar": {
             "outlinewidth": 0,
             "ticks": ""
            },
            "type": "mesh3d"
           }
          ],
          "parcoords": [
           {
            "line": {
             "colorbar": {
              "outlinewidth": 0,
              "ticks": ""
             }
            },
            "type": "parcoords"
           }
          ],
          "pie": [
           {
            "automargin": true,
            "type": "pie"
           }
          ],
          "scatter": [
           {
            "fillpattern": {
             "fillmode": "overlay",
             "size": 10,
             "solidity": 0.2
            },
            "type": "scatter"
           }
          ],
          "scatter3d": [
           {
            "line": {
             "colorbar": {
              "outlinewidth": 0,
              "ticks": ""
             }
            },
            "marker": {
             "colorbar": {
              "outlinewidth": 0,
              "ticks": ""
             }
            },
            "type": "scatter3d"
           }
          ],
          "scattercarpet": [
           {
            "marker": {
             "colorbar": {
              "outlinewidth": 0,
              "ticks": ""
             }
            },
            "type": "scattercarpet"
           }
          ],
          "scattergeo": [
           {
            "marker": {
             "colorbar": {
              "outlinewidth": 0,
              "ticks": ""
             }
            },
            "type": "scattergeo"
           }
          ],
          "scattergl": [
           {
            "marker": {
             "colorbar": {
              "outlinewidth": 0,
              "ticks": ""
             }
            },
            "type": "scattergl"
           }
          ],
          "scattermapbox": [
           {
            "marker": {
             "colorbar": {
              "outlinewidth": 0,
              "ticks": ""
             }
            },
            "type": "scattermapbox"
           }
          ],
          "scatterpolar": [
           {
            "marker": {
             "colorbar": {
              "outlinewidth": 0,
              "ticks": ""
             }
            },
            "type": "scatterpolar"
           }
          ],
          "scatterpolargl": [
           {
            "marker": {
             "colorbar": {
              "outlinewidth": 0,
              "ticks": ""
             }
            },
            "type": "scatterpolargl"
           }
          ],
          "scatterternary": [
           {
            "marker": {
             "colorbar": {
              "outlinewidth": 0,
              "ticks": ""
             }
            },
            "type": "scatterternary"
           }
          ],
          "surface": [
           {
            "colorbar": {
             "outlinewidth": 0,
             "ticks": ""
            },
            "colorscale": [
             [
              0,
              "#0d0887"
             ],
             [
              0.1111111111111111,
              "#46039f"
             ],
             [
              0.2222222222222222,
              "#7201a8"
             ],
             [
              0.3333333333333333,
              "#9c179e"
             ],
             [
              0.4444444444444444,
              "#bd3786"
             ],
             [
              0.5555555555555556,
              "#d8576b"
             ],
             [
              0.6666666666666666,
              "#ed7953"
             ],
             [
              0.7777777777777778,
              "#fb9f3a"
             ],
             [
              0.8888888888888888,
              "#fdca26"
             ],
             [
              1,
              "#f0f921"
             ]
            ],
            "type": "surface"
           }
          ],
          "table": [
           {
            "cells": {
             "fill": {
              "color": "#EBF0F8"
             },
             "line": {
              "color": "white"
             }
            },
            "header": {
             "fill": {
              "color": "#C8D4E3"
             },
             "line": {
              "color": "white"
             }
            },
            "type": "table"
           }
          ]
         },
         "layout": {
          "annotationdefaults": {
           "arrowcolor": "#2a3f5f",
           "arrowhead": 0,
           "arrowwidth": 1
          },
          "autotypenumbers": "strict",
          "coloraxis": {
           "colorbar": {
            "outlinewidth": 0,
            "ticks": ""
           }
          },
          "colorscale": {
           "diverging": [
            [
             0,
             "#8e0152"
            ],
            [
             0.1,
             "#c51b7d"
            ],
            [
             0.2,
             "#de77ae"
            ],
            [
             0.3,
             "#f1b6da"
            ],
            [
             0.4,
             "#fde0ef"
            ],
            [
             0.5,
             "#f7f7f7"
            ],
            [
             0.6,
             "#e6f5d0"
            ],
            [
             0.7,
             "#b8e186"
            ],
            [
             0.8,
             "#7fbc41"
            ],
            [
             0.9,
             "#4d9221"
            ],
            [
             1,
             "#276419"
            ]
           ],
           "sequential": [
            [
             0,
             "#0d0887"
            ],
            [
             0.1111111111111111,
             "#46039f"
            ],
            [
             0.2222222222222222,
             "#7201a8"
            ],
            [
             0.3333333333333333,
             "#9c179e"
            ],
            [
             0.4444444444444444,
             "#bd3786"
            ],
            [
             0.5555555555555556,
             "#d8576b"
            ],
            [
             0.6666666666666666,
             "#ed7953"
            ],
            [
             0.7777777777777778,
             "#fb9f3a"
            ],
            [
             0.8888888888888888,
             "#fdca26"
            ],
            [
             1,
             "#f0f921"
            ]
           ],
           "sequentialminus": [
            [
             0,
             "#0d0887"
            ],
            [
             0.1111111111111111,
             "#46039f"
            ],
            [
             0.2222222222222222,
             "#7201a8"
            ],
            [
             0.3333333333333333,
             "#9c179e"
            ],
            [
             0.4444444444444444,
             "#bd3786"
            ],
            [
             0.5555555555555556,
             "#d8576b"
            ],
            [
             0.6666666666666666,
             "#ed7953"
            ],
            [
             0.7777777777777778,
             "#fb9f3a"
            ],
            [
             0.8888888888888888,
             "#fdca26"
            ],
            [
             1,
             "#f0f921"
            ]
           ]
          },
          "colorway": [
           "#636efa",
           "#EF553B",
           "#00cc96",
           "#ab63fa",
           "#FFA15A",
           "#19d3f3",
           "#FF6692",
           "#B6E880",
           "#FF97FF",
           "#FECB52"
          ],
          "font": {
           "color": "#2a3f5f"
          },
          "geo": {
           "bgcolor": "white",
           "lakecolor": "white",
           "landcolor": "#E5ECF6",
           "showlakes": true,
           "showland": true,
           "subunitcolor": "white"
          },
          "hoverlabel": {
           "align": "left"
          },
          "hovermode": "closest",
          "mapbox": {
           "style": "light"
          },
          "paper_bgcolor": "white",
          "plot_bgcolor": "#E5ECF6",
          "polar": {
           "angularaxis": {
            "gridcolor": "white",
            "linecolor": "white",
            "ticks": ""
           },
           "bgcolor": "#E5ECF6",
           "radialaxis": {
            "gridcolor": "white",
            "linecolor": "white",
            "ticks": ""
           }
          },
          "scene": {
           "xaxis": {
            "backgroundcolor": "#E5ECF6",
            "gridcolor": "white",
            "gridwidth": 2,
            "linecolor": "white",
            "showbackground": true,
            "ticks": "",
            "zerolinecolor": "white"
           },
           "yaxis": {
            "backgroundcolor": "#E5ECF6",
            "gridcolor": "white",
            "gridwidth": 2,
            "linecolor": "white",
            "showbackground": true,
            "ticks": "",
            "zerolinecolor": "white"
           },
           "zaxis": {
            "backgroundcolor": "#E5ECF6",
            "gridcolor": "white",
            "gridwidth": 2,
            "linecolor": "white",
            "showbackground": true,
            "ticks": "",
            "zerolinecolor": "white"
           }
          },
          "shapedefaults": {
           "line": {
            "color": "#2a3f5f"
           }
          },
          "ternary": {
           "aaxis": {
            "gridcolor": "white",
            "linecolor": "white",
            "ticks": ""
           },
           "baxis": {
            "gridcolor": "white",
            "linecolor": "white",
            "ticks": ""
           },
           "bgcolor": "#E5ECF6",
           "caxis": {
            "gridcolor": "white",
            "linecolor": "white",
            "ticks": ""
           }
          },
          "title": {
           "x": 0.05
          },
          "xaxis": {
           "automargin": true,
           "gridcolor": "white",
           "linecolor": "white",
           "ticks": "",
           "title": {
            "standoff": 15
           },
           "zerolinecolor": "white",
           "zerolinewidth": 2
          },
          "yaxis": {
           "automargin": true,
           "gridcolor": "white",
           "linecolor": "white",
           "ticks": "",
           "title": {
            "standoff": 15
           },
           "zerolinecolor": "white",
           "zerolinewidth": 2
          }
         }
        },
        "title": {
         "text": "Exchange - [cbse]"
        },
        "width": 800,
        "yaxis": {
         "title": {
          "text": "Price"
         }
        }
       }
      }
     },
     "metadata": {},
     "output_type": "display_data"
    },
    {
     "data": {
      "application/vnd.plotly.v1+json": {
       "config": {
        "plotlyServerURL": "https://plot.ly"
       },
       "data": [
        {
         "close": [
          47269.36,
          48482.38,
          49154.88,
          50214.49,
          50050,
          50206.46,
          50259.89,
          50898.28,
          50689.38,
          50636.53,
          50385.42,
          50217.25,
          49692.25,
          50093.88,
          49673.11,
          50042.91,
          50602.84,
          50658.05,
          50767.53,
          50904.26,
          50452.62,
          50111.98,
          50765.68,
          50390.43,
          51143.47,
          50744.2,
          49637.68,
          49468.85,
          49490.41,
          49434.82,
          49180.81,
          49844.79,
          49510.21,
          49341.98,
          49738.96,
          50084.5,
          49678.08,
          49599.14,
          49452.8,
          48982.64,
          48887.84,
          49174.6,
          48171.78,
          48790.7,
          48696.32,
          48852.09,
          49330.09,
          49714.5
         ],
         "high": [
          49096.01,
          48482.38,
          49359.42,
          50214.5,
          50566.28,
          50489.83,
          50534.89,
          50995.25,
          51399.11,
          50987.83,
          51030.13,
          50543,
          50678.4,
          50551.92,
          50140.69,
          50362.13,
          50884.72,
          50876.97,
          51000,
          51402.65,
          51042.97,
          50621.67,
          50905.69,
          50872.93,
          51192.81,
          51323.93,
          51080.27,
          49852.85,
          49794.69,
          49681.3,
          49660.45,
          49892.5,
          50141,
          49877.7,
          49978.47,
          50084.5,
          50084.5,
          49997.5,
          49744.85,
          49456.21,
          49272.2,
          49223.15,
          49180.95,
          48895.81,
          48744.47,
          48945.74,
          49545.44,
          49770.84
         ],
         "low": [
          47001.88,
          47239.9,
          48438.82,
          48775.58,
          49781.14,
          50031.42,
          50091.01,
          50236.75,
          50689.38,
          50342.02,
          49983.24,
          50183.71,
          49400,
          49524.08,
          49501.04,
          49712.98,
          49818.38,
          50297.04,
          50362.72,
          50767.53,
          50178.57,
          50099.68,
          50113.4,
          50246.9,
          50324.99,
          50661.52,
          49411.17,
          49058.18,
          49180.38,
          48757.06,
          48452.03,
          49020.18,
          49410.96,
          49335.8,
          49337.75,
          49657.21,
          49546.01,
          49583.25,
          49370.52,
          48865.97,
          48750,
          48591.66,
          48135.88,
          48142.97,
          48054.15,
          48500,
          48753.08,
          49331.6
         ],
         "open": [
          48875,
          47272.36,
          48438.82,
          49169.14,
          50171.91,
          50031.42,
          50177.5,
          50257.57,
          50900.61,
          50700,
          50656.06,
          50381.62,
          50211.36,
          49674.54,
          50091.48,
          49712.98,
          50089.2,
          50657.58,
          50661.48,
          50767.53,
          50908.49,
          50435.31,
          50113.4,
          50757.43,
          50397.47,
          51131.7,
          50758.51,
          49637.67,
          49497.41,
          49490.4,
          49426.74,
          49178.7,
          49847.29,
          49523.51,
          49337.75,
          49767.25,
          50065.13,
          49678.07,
          49601.14,
          49451.57,
          48996.32,
          48890.29,
          49142.58,
          48174.2,
          48744.47,
          48700.29,
          48829.4,
          49331.6
         ],
         "type": "candlestick",
         "x": [
          "2021-02-24T00:00:00",
          "2021-02-24T00:30:00",
          "2021-02-24T01:00:00",
          "2021-02-24T01:30:00",
          "2021-02-24T02:00:00",
          "2021-02-24T02:30:00",
          "2021-02-24T03:00:00",
          "2021-02-24T03:30:00",
          "2021-02-24T04:00:00",
          "2021-02-24T04:30:00",
          "2021-02-24T05:00:00",
          "2021-02-24T05:30:00",
          "2021-02-24T06:00:00",
          "2021-02-24T06:30:00",
          "2021-02-24T07:00:00",
          "2021-02-24T07:30:00",
          "2021-02-24T08:00:00",
          "2021-02-24T08:30:00",
          "2021-02-24T09:00:00",
          "2021-02-24T09:30:00",
          "2021-02-24T10:00:00",
          "2021-02-24T10:30:00",
          "2021-02-24T11:00:00",
          "2021-02-24T11:30:00",
          "2021-02-24T12:00:00",
          "2021-02-24T12:30:00",
          "2021-02-24T13:00:00",
          "2021-02-24T13:30:00",
          "2021-02-24T14:00:00",
          "2021-02-24T14:30:00",
          "2021-02-24T15:00:00",
          "2021-02-24T15:30:00",
          "2021-02-24T16:00:00",
          "2021-02-24T16:30:00",
          "2021-02-24T17:00:00",
          "2021-02-24T17:30:00",
          "2021-02-24T18:00:00",
          "2021-02-24T18:30:00",
          "2021-02-24T19:00:00",
          "2021-02-24T19:30:00",
          "2021-02-24T20:00:00",
          "2021-02-24T20:30:00",
          "2021-02-24T21:00:00",
          "2021-02-24T21:30:00",
          "2021-02-24T22:00:00",
          "2021-02-24T22:30:00",
          "2021-02-24T23:00:00",
          "2021-02-24T23:30:00"
         ]
        },
        {
         "line": {
          "color": "blue"
         },
         "mode": "lines",
         "name": "VWAP",
         "type": "scatter",
         "x": [
          "2021-02-24T00:00:00",
          "2021-02-24T00:30:00",
          "2021-02-24T01:00:00",
          "2021-02-24T01:30:00",
          "2021-02-24T02:00:00",
          "2021-02-24T02:30:00",
          "2021-02-24T03:00:00",
          "2021-02-24T03:30:00",
          "2021-02-24T04:00:00",
          "2021-02-24T04:30:00",
          "2021-02-24T05:00:00",
          "2021-02-24T05:30:00",
          "2021-02-24T06:00:00",
          "2021-02-24T06:30:00",
          "2021-02-24T07:00:00",
          "2021-02-24T07:30:00",
          "2021-02-24T08:00:00",
          "2021-02-24T08:30:00",
          "2021-02-24T09:00:00",
          "2021-02-24T09:30:00",
          "2021-02-24T10:00:00",
          "2021-02-24T10:30:00",
          "2021-02-24T11:00:00",
          "2021-02-24T11:30:00",
          "2021-02-24T12:00:00",
          "2021-02-24T12:30:00",
          "2021-02-24T13:00:00",
          "2021-02-24T13:30:00",
          "2021-02-24T14:00:00",
          "2021-02-24T14:30:00",
          "2021-02-24T15:00:00",
          "2021-02-24T15:30:00",
          "2021-02-24T16:00:00",
          "2021-02-24T16:30:00",
          "2021-02-24T17:00:00",
          "2021-02-24T17:30:00",
          "2021-02-24T18:00:00",
          "2021-02-24T18:30:00",
          "2021-02-24T19:00:00",
          "2021-02-24T19:30:00",
          "2021-02-24T20:00:00",
          "2021-02-24T20:30:00",
          "2021-02-24T21:00:00",
          "2021-02-24T21:30:00",
          "2021-02-24T22:00:00",
          "2021-02-24T22:30:00",
          "2021-02-24T23:00:00",
          "2021-02-24T23:30:00"
         ],
         "y": [
          47941.85449174356,
          47733.23872644159,
          48892.36994234128,
          49541.44755259958,
          50156.20977395028,
          50283.157323298634,
          50345.597411769995,
          50661.81972952978,
          51074.623787250974,
          50668.31036500271,
          50394.05829324617,
          50361.53206293841,
          50031.25109462125,
          50073.12529898634,
          49679.95723890776,
          50087.738055574315,
          50495.952545670814,
          50631.55911588163,
          50719.91449761315,
          51029.28917171658,
          50587.08625890182,
          50436.367591831404,
          50475.12927813141,
          50475.54462493871,
          50744.68426238272,
          51066.7091594146,
          50035.27272334436,
          49436.19588818113,
          49519.864880550274,
          49198.354286825976,
          49145.17823271108,
          49477.370283676035,
          49841.31494160548,
          49581.93558628671,
          49779.924552991244,
          49860.0163843489,
          49782.90713412858,
          49813.4025185165,
          49549.55986583737,
          49119.805848501106,
          49030.10213285143,
          48826.76547311743,
          48526.98135127353,
          48435.48631651101,
          48398.34199922692,
          48726.373497391614,
          49261.390740681636,
          49544.48043810018
         ]
        },
        {
         "line": {
          "color": "grey"
         },
         "mode": "lines",
         "name": "vwmp_lower",
         "type": "scatter",
         "x": [
          "2021-02-24T00:00:00",
          "2021-02-24T00:30:00",
          "2021-02-24T01:00:00",
          "2021-02-24T01:30:00",
          "2021-02-24T02:00:00",
          "2021-02-24T02:30:00",
          "2021-02-24T03:00:00",
          "2021-02-24T03:30:00",
          "2021-02-24T04:00:00",
          "2021-02-24T04:30:00",
          "2021-02-24T05:00:00",
          "2021-02-24T05:30:00",
          "2021-02-24T06:00:00",
          "2021-02-24T06:30:00",
          "2021-02-24T07:00:00",
          "2021-02-24T07:30:00",
          "2021-02-24T08:00:00",
          "2021-02-24T08:30:00",
          "2021-02-24T09:00:00",
          "2021-02-24T09:30:00",
          "2021-02-24T10:00:00",
          "2021-02-24T10:30:00",
          "2021-02-24T11:00:00",
          "2021-02-24T11:30:00",
          "2021-02-24T12:00:00",
          "2021-02-24T12:30:00",
          "2021-02-24T13:00:00",
          "2021-02-24T13:30:00",
          "2021-02-24T14:00:00",
          "2021-02-24T14:30:00",
          "2021-02-24T15:00:00",
          "2021-02-24T15:30:00",
          "2021-02-24T16:00:00",
          "2021-02-24T16:30:00",
          "2021-02-24T17:00:00",
          "2021-02-24T17:30:00",
          "2021-02-24T18:00:00",
          "2021-02-24T18:30:00",
          "2021-02-24T19:00:00",
          "2021-02-24T19:30:00",
          "2021-02-24T20:00:00",
          "2021-02-24T20:30:00",
          "2021-02-24T21:00:00",
          "2021-02-24T21:30:00",
          "2021-02-24T22:00:00",
          "2021-02-24T22:30:00",
          "2021-02-24T23:00:00",
          "2021-02-24T23:30:00"
         ],
         "y": [
          48957.22,
          48104.12,
          49155.12,
          49498.93,
          50002.94,
          50207.44,
          50285.39,
          50444.24,
          51009.42,
          50733.98,
          50450,
          50279.09,
          50439.66,
          50261.2,
          49501.04,
          50116.53,
          50868.01,
          50651.48,
          50869.53,
          51137.48,
          50282.51,
          50279.5,
          50285.31,
          50464.99,
          50702.44,
          51188,
          49836.07,
          49591.63,
          49756.79,
          49380.41,
          49232.98,
          49474.28,
          49729.84,
          49400,
          49866.64,
          49678.4,
          49818.4,
          49626.28,
          49611,
          49000,
          49150,
          48734.34,
          48365.67,
          48323.23,
          48596.47,
          48726.07,
          48831.03,
          49365.32
         ]
        }
       ],
       "layout": {
        "height": 300,
        "margin": {
         "b": 20,
         "l": 70,
         "r": 50,
         "t": 50
        },
        "template": {
         "data": {
          "bar": [
           {
            "error_x": {
             "color": "#2a3f5f"
            },
            "error_y": {
             "color": "#2a3f5f"
            },
            "marker": {
             "line": {
              "color": "#E5ECF6",
              "width": 0.5
             },
             "pattern": {
              "fillmode": "overlay",
              "size": 10,
              "solidity": 0.2
             }
            },
            "type": "bar"
           }
          ],
          "barpolar": [
           {
            "marker": {
             "line": {
              "color": "#E5ECF6",
              "width": 0.5
             },
             "pattern": {
              "fillmode": "overlay",
              "size": 10,
              "solidity": 0.2
             }
            },
            "type": "barpolar"
           }
          ],
          "carpet": [
           {
            "aaxis": {
             "endlinecolor": "#2a3f5f",
             "gridcolor": "white",
             "linecolor": "white",
             "minorgridcolor": "white",
             "startlinecolor": "#2a3f5f"
            },
            "baxis": {
             "endlinecolor": "#2a3f5f",
             "gridcolor": "white",
             "linecolor": "white",
             "minorgridcolor": "white",
             "startlinecolor": "#2a3f5f"
            },
            "type": "carpet"
           }
          ],
          "choropleth": [
           {
            "colorbar": {
             "outlinewidth": 0,
             "ticks": ""
            },
            "type": "choropleth"
           }
          ],
          "contour": [
           {
            "colorbar": {
             "outlinewidth": 0,
             "ticks": ""
            },
            "colorscale": [
             [
              0,
              "#0d0887"
             ],
             [
              0.1111111111111111,
              "#46039f"
             ],
             [
              0.2222222222222222,
              "#7201a8"
             ],
             [
              0.3333333333333333,
              "#9c179e"
             ],
             [
              0.4444444444444444,
              "#bd3786"
             ],
             [
              0.5555555555555556,
              "#d8576b"
             ],
             [
              0.6666666666666666,
              "#ed7953"
             ],
             [
              0.7777777777777778,
              "#fb9f3a"
             ],
             [
              0.8888888888888888,
              "#fdca26"
             ],
             [
              1,
              "#f0f921"
             ]
            ],
            "type": "contour"
           }
          ],
          "contourcarpet": [
           {
            "colorbar": {
             "outlinewidth": 0,
             "ticks": ""
            },
            "type": "contourcarpet"
           }
          ],
          "heatmap": [
           {
            "colorbar": {
             "outlinewidth": 0,
             "ticks": ""
            },
            "colorscale": [
             [
              0,
              "#0d0887"
             ],
             [
              0.1111111111111111,
              "#46039f"
             ],
             [
              0.2222222222222222,
              "#7201a8"
             ],
             [
              0.3333333333333333,
              "#9c179e"
             ],
             [
              0.4444444444444444,
              "#bd3786"
             ],
             [
              0.5555555555555556,
              "#d8576b"
             ],
             [
              0.6666666666666666,
              "#ed7953"
             ],
             [
              0.7777777777777778,
              "#fb9f3a"
             ],
             [
              0.8888888888888888,
              "#fdca26"
             ],
             [
              1,
              "#f0f921"
             ]
            ],
            "type": "heatmap"
           }
          ],
          "heatmapgl": [
           {
            "colorbar": {
             "outlinewidth": 0,
             "ticks": ""
            },
            "colorscale": [
             [
              0,
              "#0d0887"
             ],
             [
              0.1111111111111111,
              "#46039f"
             ],
             [
              0.2222222222222222,
              "#7201a8"
             ],
             [
              0.3333333333333333,
              "#9c179e"
             ],
             [
              0.4444444444444444,
              "#bd3786"
             ],
             [
              0.5555555555555556,
              "#d8576b"
             ],
             [
              0.6666666666666666,
              "#ed7953"
             ],
             [
              0.7777777777777778,
              "#fb9f3a"
             ],
             [
              0.8888888888888888,
              "#fdca26"
             ],
             [
              1,
              "#f0f921"
             ]
            ],
            "type": "heatmapgl"
           }
          ],
          "histogram": [
           {
            "marker": {
             "pattern": {
              "fillmode": "overlay",
              "size": 10,
              "solidity": 0.2
             }
            },
            "type": "histogram"
           }
          ],
          "histogram2d": [
           {
            "colorbar": {
             "outlinewidth": 0,
             "ticks": ""
            },
            "colorscale": [
             [
              0,
              "#0d0887"
             ],
             [
              0.1111111111111111,
              "#46039f"
             ],
             [
              0.2222222222222222,
              "#7201a8"
             ],
             [
              0.3333333333333333,
              "#9c179e"
             ],
             [
              0.4444444444444444,
              "#bd3786"
             ],
             [
              0.5555555555555556,
              "#d8576b"
             ],
             [
              0.6666666666666666,
              "#ed7953"
             ],
             [
              0.7777777777777778,
              "#fb9f3a"
             ],
             [
              0.8888888888888888,
              "#fdca26"
             ],
             [
              1,
              "#f0f921"
             ]
            ],
            "type": "histogram2d"
           }
          ],
          "histogram2dcontour": [
           {
            "colorbar": {
             "outlinewidth": 0,
             "ticks": ""
            },
            "colorscale": [
             [
              0,
              "#0d0887"
             ],
             [
              0.1111111111111111,
              "#46039f"
             ],
             [
              0.2222222222222222,
              "#7201a8"
             ],
             [
              0.3333333333333333,
              "#9c179e"
             ],
             [
              0.4444444444444444,
              "#bd3786"
             ],
             [
              0.5555555555555556,
              "#d8576b"
             ],
             [
              0.6666666666666666,
              "#ed7953"
             ],
             [
              0.7777777777777778,
              "#fb9f3a"
             ],
             [
              0.8888888888888888,
              "#fdca26"
             ],
             [
              1,
              "#f0f921"
             ]
            ],
            "type": "histogram2dcontour"
           }
          ],
          "mesh3d": [
           {
            "colorbar": {
             "outlinewidth": 0,
             "ticks": ""
            },
            "type": "mesh3d"
           }
          ],
          "parcoords": [
           {
            "line": {
             "colorbar": {
              "outlinewidth": 0,
              "ticks": ""
             }
            },
            "type": "parcoords"
           }
          ],
          "pie": [
           {
            "automargin": true,
            "type": "pie"
           }
          ],
          "scatter": [
           {
            "fillpattern": {
             "fillmode": "overlay",
             "size": 10,
             "solidity": 0.2
            },
            "type": "scatter"
           }
          ],
          "scatter3d": [
           {
            "line": {
             "colorbar": {
              "outlinewidth": 0,
              "ticks": ""
             }
            },
            "marker": {
             "colorbar": {
              "outlinewidth": 0,
              "ticks": ""
             }
            },
            "type": "scatter3d"
           }
          ],
          "scattercarpet": [
           {
            "marker": {
             "colorbar": {
              "outlinewidth": 0,
              "ticks": ""
             }
            },
            "type": "scattercarpet"
           }
          ],
          "scattergeo": [
           {
            "marker": {
             "colorbar": {
              "outlinewidth": 0,
              "ticks": ""
             }
            },
            "type": "scattergeo"
           }
          ],
          "scattergl": [
           {
            "marker": {
             "colorbar": {
              "outlinewidth": 0,
              "ticks": ""
             }
            },
            "type": "scattergl"
           }
          ],
          "scattermapbox": [
           {
            "marker": {
             "colorbar": {
              "outlinewidth": 0,
              "ticks": ""
             }
            },
            "type": "scattermapbox"
           }
          ],
          "scatterpolar": [
           {
            "marker": {
             "colorbar": {
              "outlinewidth": 0,
              "ticks": ""
             }
            },
            "type": "scatterpolar"
           }
          ],
          "scatterpolargl": [
           {
            "marker": {
             "colorbar": {
              "outlinewidth": 0,
              "ticks": ""
             }
            },
            "type": "scatterpolargl"
           }
          ],
          "scatterternary": [
           {
            "marker": {
             "colorbar": {
              "outlinewidth": 0,
              "ticks": ""
             }
            },
            "type": "scatterternary"
           }
          ],
          "surface": [
           {
            "colorbar": {
             "outlinewidth": 0,
             "ticks": ""
            },
            "colorscale": [
             [
              0,
              "#0d0887"
             ],
             [
              0.1111111111111111,
              "#46039f"
             ],
             [
              0.2222222222222222,
              "#7201a8"
             ],
             [
              0.3333333333333333,
              "#9c179e"
             ],
             [
              0.4444444444444444,
              "#bd3786"
             ],
             [
              0.5555555555555556,
              "#d8576b"
             ],
             [
              0.6666666666666666,
              "#ed7953"
             ],
             [
              0.7777777777777778,
              "#fb9f3a"
             ],
             [
              0.8888888888888888,
              "#fdca26"
             ],
             [
              1,
              "#f0f921"
             ]
            ],
            "type": "surface"
           }
          ],
          "table": [
           {
            "cells": {
             "fill": {
              "color": "#EBF0F8"
             },
             "line": {
              "color": "white"
             }
            },
            "header": {
             "fill": {
              "color": "#C8D4E3"
             },
             "line": {
              "color": "white"
             }
            },
            "type": "table"
           }
          ]
         },
         "layout": {
          "annotationdefaults": {
           "arrowcolor": "#2a3f5f",
           "arrowhead": 0,
           "arrowwidth": 1
          },
          "autotypenumbers": "strict",
          "coloraxis": {
           "colorbar": {
            "outlinewidth": 0,
            "ticks": ""
           }
          },
          "colorscale": {
           "diverging": [
            [
             0,
             "#8e0152"
            ],
            [
             0.1,
             "#c51b7d"
            ],
            [
             0.2,
             "#de77ae"
            ],
            [
             0.3,
             "#f1b6da"
            ],
            [
             0.4,
             "#fde0ef"
            ],
            [
             0.5,
             "#f7f7f7"
            ],
            [
             0.6,
             "#e6f5d0"
            ],
            [
             0.7,
             "#b8e186"
            ],
            [
             0.8,
             "#7fbc41"
            ],
            [
             0.9,
             "#4d9221"
            ],
            [
             1,
             "#276419"
            ]
           ],
           "sequential": [
            [
             0,
             "#0d0887"
            ],
            [
             0.1111111111111111,
             "#46039f"
            ],
            [
             0.2222222222222222,
             "#7201a8"
            ],
            [
             0.3333333333333333,
             "#9c179e"
            ],
            [
             0.4444444444444444,
             "#bd3786"
            ],
            [
             0.5555555555555556,
             "#d8576b"
            ],
            [
             0.6666666666666666,
             "#ed7953"
            ],
            [
             0.7777777777777778,
             "#fb9f3a"
            ],
            [
             0.8888888888888888,
             "#fdca26"
            ],
            [
             1,
             "#f0f921"
            ]
           ],
           "sequentialminus": [
            [
             0,
             "#0d0887"
            ],
            [
             0.1111111111111111,
             "#46039f"
            ],
            [
             0.2222222222222222,
             "#7201a8"
            ],
            [
             0.3333333333333333,
             "#9c179e"
            ],
            [
             0.4444444444444444,
             "#bd3786"
            ],
            [
             0.5555555555555556,
             "#d8576b"
            ],
            [
             0.6666666666666666,
             "#ed7953"
            ],
            [
             0.7777777777777778,
             "#fb9f3a"
            ],
            [
             0.8888888888888888,
             "#fdca26"
            ],
            [
             1,
             "#f0f921"
            ]
           ]
          },
          "colorway": [
           "#636efa",
           "#EF553B",
           "#00cc96",
           "#ab63fa",
           "#FFA15A",
           "#19d3f3",
           "#FF6692",
           "#B6E880",
           "#FF97FF",
           "#FECB52"
          ],
          "font": {
           "color": "#2a3f5f"
          },
          "geo": {
           "bgcolor": "white",
           "lakecolor": "white",
           "landcolor": "#E5ECF6",
           "showlakes": true,
           "showland": true,
           "subunitcolor": "white"
          },
          "hoverlabel": {
           "align": "left"
          },
          "hovermode": "closest",
          "mapbox": {
           "style": "light"
          },
          "paper_bgcolor": "white",
          "plot_bgcolor": "#E5ECF6",
          "polar": {
           "angularaxis": {
            "gridcolor": "white",
            "linecolor": "white",
            "ticks": ""
           },
           "bgcolor": "#E5ECF6",
           "radialaxis": {
            "gridcolor": "white",
            "linecolor": "white",
            "ticks": ""
           }
          },
          "scene": {
           "xaxis": {
            "backgroundcolor": "#E5ECF6",
            "gridcolor": "white",
            "gridwidth": 2,
            "linecolor": "white",
            "showbackground": true,
            "ticks": "",
            "zerolinecolor": "white"
           },
           "yaxis": {
            "backgroundcolor": "#E5ECF6",
            "gridcolor": "white",
            "gridwidth": 2,
            "linecolor": "white",
            "showbackground": true,
            "ticks": "",
            "zerolinecolor": "white"
           },
           "zaxis": {
            "backgroundcolor": "#E5ECF6",
            "gridcolor": "white",
            "gridwidth": 2,
            "linecolor": "white",
            "showbackground": true,
            "ticks": "",
            "zerolinecolor": "white"
           }
          },
          "shapedefaults": {
           "line": {
            "color": "#2a3f5f"
           }
          },
          "ternary": {
           "aaxis": {
            "gridcolor": "white",
            "linecolor": "white",
            "ticks": ""
           },
           "baxis": {
            "gridcolor": "white",
            "linecolor": "white",
            "ticks": ""
           },
           "bgcolor": "#E5ECF6",
           "caxis": {
            "gridcolor": "white",
            "linecolor": "white",
            "ticks": ""
           }
          },
          "title": {
           "x": 0.05
          },
          "xaxis": {
           "automargin": true,
           "gridcolor": "white",
           "linecolor": "white",
           "ticks": "",
           "title": {
            "standoff": 15
           },
           "zerolinecolor": "white",
           "zerolinewidth": 2
          },
          "yaxis": {
           "automargin": true,
           "gridcolor": "white",
           "linecolor": "white",
           "ticks": "",
           "title": {
            "standoff": 15
           },
           "zerolinecolor": "white",
           "zerolinewidth": 2
          }
         }
        },
        "title": {
         "text": "Exchange - [bnus]"
        },
        "width": 800,
        "yaxis": {
         "title": {
          "text": "Price"
         }
        }
       }
      }
     },
     "metadata": {},
     "output_type": "display_data"
    },
    {
     "data": {
      "application/vnd.plotly.v1+json": {
       "config": {
        "plotlyServerURL": "https://plot.ly"
       },
       "data": [
        {
         "close": [
          47300.6,
          48191.14,
          48798.7,
          50161.64,
          50136.78,
          50948,
          50743.89,
          49656.52,
          50018.9,
          49680.1,
          50410.65,
          50726.45,
          50900,
          50846.85,
          50486.11,
          50436.16,
          50702.08,
          51078.18,
          51229.87,
          49560.79,
          49699,
          49516.91,
          49026.73,
          48971.42,
          49321.43,
          49584.9,
          49537.17,
          49779,
          49731.74,
          49600,
          49700,
          49444.96,
          48997.6,
          49144.07,
          49279.32,
          48478.83,
          48499,
          48252.47,
          48864.19,
          49712.15
         ],
         "high": [
          48929.54,
          48191.14,
          48934.14,
          50161.64,
          50513.79,
          50948,
          51025.46,
          50050.8,
          50018.9,
          49680.1,
          50410.65,
          50726.45,
          50900,
          50907.35,
          50544.26,
          50500,
          50702.08,
          51078.18,
          51229.87,
          50500,
          49870.34,
          49700,
          49344,
          49127.37,
          49321.43,
          50314.08,
          49537.17,
          49779,
          49731.74,
          49600,
          49700,
          49444.96,
          49444.96,
          49144.07,
          49279.32,
          48844.07,
          48499,
          48293.7,
          48864.19,
          49712.15
         ],
         "low": [
          47086.89,
          47399.97,
          48798.7,
          49140.16,
          49994.55,
          50948,
          50736.28,
          49656.52,
          49923.2,
          49680.1,
          49890.34,
          50726.45,
          50890.43,
          50846.85,
          50486.11,
          50436.16,
          50702.08,
          51078.18,
          51229.87,
          49560.79,
          48978.31,
          49272.35,
          48888,
          48517.6,
          49304.15,
          49449.13,
          49537.17,
          49717.23,
          49704.36,
          49600,
          49700,
          49444.96,
          48997.6,
          49144.07,
          48847.56,
          48272.99,
          48202.94,
          48070.33,
          48864.19,
          49603.44
         ],
         "open": [
          48929.54,
          47399.97,
          48934.14,
          49140.16,
          49994.55,
          50948,
          51025.46,
          50050.8,
          49923.2,
          49680.1,
          49890.34,
          50726.45,
          50890.43,
          50907.35,
          50544.26,
          50500,
          50702.08,
          51078.18,
          51229.87,
          50500,
          49316.51,
          49700,
          49344,
          49085.09,
          49304.15,
          50314.08,
          49537.17,
          49717.23,
          49704.36,
          49600,
          49700,
          49444.96,
          49444.96,
          49144.07,
          48900.23,
          48844.07,
          48202.94,
          48211.04,
          48864.19,
          49603.44
         ],
         "type": "candlestick",
         "x": [
          "2021-02-24T00:00:00",
          "2021-02-24T00:30:00",
          "2021-02-24T01:00:00",
          "2021-02-24T01:30:00",
          "2021-02-24T02:00:00",
          "2021-02-24T03:30:00",
          "2021-02-24T04:00:00",
          "2021-02-24T06:00:00",
          "2021-02-24T06:30:00",
          "2021-02-24T07:00:00",
          "2021-02-24T08:00:00",
          "2021-02-24T08:30:00",
          "2021-02-24T09:00:00",
          "2021-02-24T09:30:00",
          "2021-02-24T10:30:00",
          "2021-02-24T11:00:00",
          "2021-02-24T11:30:00",
          "2021-02-24T12:00:00",
          "2021-02-24T12:30:00",
          "2021-02-24T13:00:00",
          "2021-02-24T13:30:00",
          "2021-02-24T14:00:00",
          "2021-02-24T14:30:00",
          "2021-02-24T15:00:00",
          "2021-02-24T15:30:00",
          "2021-02-24T16:00:00",
          "2021-02-24T16:30:00",
          "2021-02-24T17:00:00",
          "2021-02-24T17:30:00",
          "2021-02-24T18:00:00",
          "2021-02-24T18:30:00",
          "2021-02-24T19:00:00",
          "2021-02-24T19:30:00",
          "2021-02-24T20:00:00",
          "2021-02-24T20:30:00",
          "2021-02-24T21:00:00",
          "2021-02-24T21:30:00",
          "2021-02-24T22:00:00",
          "2021-02-24T22:30:00",
          "2021-02-24T23:30:00"
         ]
        },
        {
         "line": {
          "color": "blue"
         },
         "mode": "lines",
         "name": "VWAP",
         "type": "scatter",
         "x": [
          "2021-02-24T00:00:00",
          "2021-02-24T00:30:00",
          "2021-02-24T01:00:00",
          "2021-02-24T01:30:00",
          "2021-02-24T02:00:00",
          "2021-02-24T03:30:00",
          "2021-02-24T04:00:00",
          "2021-02-24T06:00:00",
          "2021-02-24T06:30:00",
          "2021-02-24T07:00:00",
          "2021-02-24T08:00:00",
          "2021-02-24T08:30:00",
          "2021-02-24T09:00:00",
          "2021-02-24T09:30:00",
          "2021-02-24T10:30:00",
          "2021-02-24T11:00:00",
          "2021-02-24T11:30:00",
          "2021-02-24T12:00:00",
          "2021-02-24T12:30:00",
          "2021-02-24T13:00:00",
          "2021-02-24T13:30:00",
          "2021-02-24T14:00:00",
          "2021-02-24T14:30:00",
          "2021-02-24T15:00:00",
          "2021-02-24T15:30:00",
          "2021-02-24T16:00:00",
          "2021-02-24T16:30:00",
          "2021-02-24T17:00:00",
          "2021-02-24T17:30:00",
          "2021-02-24T18:00:00",
          "2021-02-24T18:30:00",
          "2021-02-24T19:00:00",
          "2021-02-24T19:30:00",
          "2021-02-24T20:00:00",
          "2021-02-24T20:30:00",
          "2021-02-24T21:00:00",
          "2021-02-24T21:30:00",
          "2021-02-24T22:00:00",
          "2021-02-24T22:30:00",
          "2021-02-24T23:30:00"
         ],
         "y": [
          47976.359019546435,
          48039.64891148914,
          48876.09428571428,
          49793.9508522523,
          50196.6773034157,
          50948,
          50892.80622948516,
          49698.23918457302,
          50004.35973014329,
          49680.1,
          50142.79913346326,
          50726.45,
          50899.130000000005,
          50877.1,
          50536.602040520986,
          50471.655061995676,
          50702.08,
          51078.18,
          51229.87,
          50205.10444083828,
          49487.337933268296,
          49303.85296759174,
          49140.86590451295,
          48782.69485214653,
          49318.549999999996,
          49646.893047508725,
          49537.16999999999,
          49731.532484548276,
          49710.81152158447,
          49600,
          49700,
          49444.96,
          49122.6436833115,
          49144.06999999999,
          48924.69875666414,
          48418.908224389634,
          48380.373888728194,
          48226.098432036764,
          48864.19,
          49610.564199029126
         ]
        },
        {
         "line": {
          "color": "grey"
         },
         "mode": "lines",
         "name": "vwmp_lower",
         "type": "scatter",
         "x": [
          "2021-02-24T00:00:00",
          "2021-02-24T00:30:00",
          "2021-02-24T01:00:00",
          "2021-02-24T01:30:00",
          "2021-02-24T02:00:00",
          "2021-02-24T03:30:00",
          "2021-02-24T04:00:00",
          "2021-02-24T06:00:00",
          "2021-02-24T06:30:00",
          "2021-02-24T07:00:00",
          "2021-02-24T08:00:00",
          "2021-02-24T08:30:00",
          "2021-02-24T09:00:00",
          "2021-02-24T09:30:00",
          "2021-02-24T10:30:00",
          "2021-02-24T11:00:00",
          "2021-02-24T11:30:00",
          "2021-02-24T12:00:00",
          "2021-02-24T12:30:00",
          "2021-02-24T13:00:00",
          "2021-02-24T13:30:00",
          "2021-02-24T14:00:00",
          "2021-02-24T14:30:00",
          "2021-02-24T15:00:00",
          "2021-02-24T15:30:00",
          "2021-02-24T16:00:00",
          "2021-02-24T16:30:00",
          "2021-02-24T17:00:00",
          "2021-02-24T17:30:00",
          "2021-02-24T18:00:00",
          "2021-02-24T18:30:00",
          "2021-02-24T19:00:00",
          "2021-02-24T19:30:00",
          "2021-02-24T20:00:00",
          "2021-02-24T20:30:00",
          "2021-02-24T21:00:00",
          "2021-02-24T21:30:00",
          "2021-02-24T22:00:00",
          "2021-02-24T22:30:00",
          "2021-02-24T23:30:00"
         ],
         "y": [
          47743.62,
          48128.38,
          48798.7,
          50161.64,
          49994.55,
          50948,
          51025.46,
          49699.15,
          50018.9,
          49680.1,
          50410.65,
          50726.45,
          50890.43,
          50907.35,
          50486.11,
          50500,
          50702.08,
          51078.18,
          51229.87,
          50124.32,
          49381.93,
          49280.97,
          49026.73,
          48631.44,
          49304.15,
          49766.55,
          49537.17,
          49779,
          49731.74,
          49600,
          49700,
          49444.96,
          49444.96,
          49144.07,
          48929.05,
          48272.99,
          48413.49,
          48168.94,
          48864.19,
          49712.15
         ]
        }
       ],
       "layout": {
        "height": 300,
        "margin": {
         "b": 20,
         "l": 70,
         "r": 50,
         "t": 50
        },
        "template": {
         "data": {
          "bar": [
           {
            "error_x": {
             "color": "#2a3f5f"
            },
            "error_y": {
             "color": "#2a3f5f"
            },
            "marker": {
             "line": {
              "color": "#E5ECF6",
              "width": 0.5
             },
             "pattern": {
              "fillmode": "overlay",
              "size": 10,
              "solidity": 0.2
             }
            },
            "type": "bar"
           }
          ],
          "barpolar": [
           {
            "marker": {
             "line": {
              "color": "#E5ECF6",
              "width": 0.5
             },
             "pattern": {
              "fillmode": "overlay",
              "size": 10,
              "solidity": 0.2
             }
            },
            "type": "barpolar"
           }
          ],
          "carpet": [
           {
            "aaxis": {
             "endlinecolor": "#2a3f5f",
             "gridcolor": "white",
             "linecolor": "white",
             "minorgridcolor": "white",
             "startlinecolor": "#2a3f5f"
            },
            "baxis": {
             "endlinecolor": "#2a3f5f",
             "gridcolor": "white",
             "linecolor": "white",
             "minorgridcolor": "white",
             "startlinecolor": "#2a3f5f"
            },
            "type": "carpet"
           }
          ],
          "choropleth": [
           {
            "colorbar": {
             "outlinewidth": 0,
             "ticks": ""
            },
            "type": "choropleth"
           }
          ],
          "contour": [
           {
            "colorbar": {
             "outlinewidth": 0,
             "ticks": ""
            },
            "colorscale": [
             [
              0,
              "#0d0887"
             ],
             [
              0.1111111111111111,
              "#46039f"
             ],
             [
              0.2222222222222222,
              "#7201a8"
             ],
             [
              0.3333333333333333,
              "#9c179e"
             ],
             [
              0.4444444444444444,
              "#bd3786"
             ],
             [
              0.5555555555555556,
              "#d8576b"
             ],
             [
              0.6666666666666666,
              "#ed7953"
             ],
             [
              0.7777777777777778,
              "#fb9f3a"
             ],
             [
              0.8888888888888888,
              "#fdca26"
             ],
             [
              1,
              "#f0f921"
             ]
            ],
            "type": "contour"
           }
          ],
          "contourcarpet": [
           {
            "colorbar": {
             "outlinewidth": 0,
             "ticks": ""
            },
            "type": "contourcarpet"
           }
          ],
          "heatmap": [
           {
            "colorbar": {
             "outlinewidth": 0,
             "ticks": ""
            },
            "colorscale": [
             [
              0,
              "#0d0887"
             ],
             [
              0.1111111111111111,
              "#46039f"
             ],
             [
              0.2222222222222222,
              "#7201a8"
             ],
             [
              0.3333333333333333,
              "#9c179e"
             ],
             [
              0.4444444444444444,
              "#bd3786"
             ],
             [
              0.5555555555555556,
              "#d8576b"
             ],
             [
              0.6666666666666666,
              "#ed7953"
             ],
             [
              0.7777777777777778,
              "#fb9f3a"
             ],
             [
              0.8888888888888888,
              "#fdca26"
             ],
             [
              1,
              "#f0f921"
             ]
            ],
            "type": "heatmap"
           }
          ],
          "heatmapgl": [
           {
            "colorbar": {
             "outlinewidth": 0,
             "ticks": ""
            },
            "colorscale": [
             [
              0,
              "#0d0887"
             ],
             [
              0.1111111111111111,
              "#46039f"
             ],
             [
              0.2222222222222222,
              "#7201a8"
             ],
             [
              0.3333333333333333,
              "#9c179e"
             ],
             [
              0.4444444444444444,
              "#bd3786"
             ],
             [
              0.5555555555555556,
              "#d8576b"
             ],
             [
              0.6666666666666666,
              "#ed7953"
             ],
             [
              0.7777777777777778,
              "#fb9f3a"
             ],
             [
              0.8888888888888888,
              "#fdca26"
             ],
             [
              1,
              "#f0f921"
             ]
            ],
            "type": "heatmapgl"
           }
          ],
          "histogram": [
           {
            "marker": {
             "pattern": {
              "fillmode": "overlay",
              "size": 10,
              "solidity": 0.2
             }
            },
            "type": "histogram"
           }
          ],
          "histogram2d": [
           {
            "colorbar": {
             "outlinewidth": 0,
             "ticks": ""
            },
            "colorscale": [
             [
              0,
              "#0d0887"
             ],
             [
              0.1111111111111111,
              "#46039f"
             ],
             [
              0.2222222222222222,
              "#7201a8"
             ],
             [
              0.3333333333333333,
              "#9c179e"
             ],
             [
              0.4444444444444444,
              "#bd3786"
             ],
             [
              0.5555555555555556,
              "#d8576b"
             ],
             [
              0.6666666666666666,
              "#ed7953"
             ],
             [
              0.7777777777777778,
              "#fb9f3a"
             ],
             [
              0.8888888888888888,
              "#fdca26"
             ],
             [
              1,
              "#f0f921"
             ]
            ],
            "type": "histogram2d"
           }
          ],
          "histogram2dcontour": [
           {
            "colorbar": {
             "outlinewidth": 0,
             "ticks": ""
            },
            "colorscale": [
             [
              0,
              "#0d0887"
             ],
             [
              0.1111111111111111,
              "#46039f"
             ],
             [
              0.2222222222222222,
              "#7201a8"
             ],
             [
              0.3333333333333333,
              "#9c179e"
             ],
             [
              0.4444444444444444,
              "#bd3786"
             ],
             [
              0.5555555555555556,
              "#d8576b"
             ],
             [
              0.6666666666666666,
              "#ed7953"
             ],
             [
              0.7777777777777778,
              "#fb9f3a"
             ],
             [
              0.8888888888888888,
              "#fdca26"
             ],
             [
              1,
              "#f0f921"
             ]
            ],
            "type": "histogram2dcontour"
           }
          ],
          "mesh3d": [
           {
            "colorbar": {
             "outlinewidth": 0,
             "ticks": ""
            },
            "type": "mesh3d"
           }
          ],
          "parcoords": [
           {
            "line": {
             "colorbar": {
              "outlinewidth": 0,
              "ticks": ""
             }
            },
            "type": "parcoords"
           }
          ],
          "pie": [
           {
            "automargin": true,
            "type": "pie"
           }
          ],
          "scatter": [
           {
            "fillpattern": {
             "fillmode": "overlay",
             "size": 10,
             "solidity": 0.2
            },
            "type": "scatter"
           }
          ],
          "scatter3d": [
           {
            "line": {
             "colorbar": {
              "outlinewidth": 0,
              "ticks": ""
             }
            },
            "marker": {
             "colorbar": {
              "outlinewidth": 0,
              "ticks": ""
             }
            },
            "type": "scatter3d"
           }
          ],
          "scattercarpet": [
           {
            "marker": {
             "colorbar": {
              "outlinewidth": 0,
              "ticks": ""
             }
            },
            "type": "scattercarpet"
           }
          ],
          "scattergeo": [
           {
            "marker": {
             "colorbar": {
              "outlinewidth": 0,
              "ticks": ""
             }
            },
            "type": "scattergeo"
           }
          ],
          "scattergl": [
           {
            "marker": {
             "colorbar": {
              "outlinewidth": 0,
              "ticks": ""
             }
            },
            "type": "scattergl"
           }
          ],
          "scattermapbox": [
           {
            "marker": {
             "colorbar": {
              "outlinewidth": 0,
              "ticks": ""
             }
            },
            "type": "scattermapbox"
           }
          ],
          "scatterpolar": [
           {
            "marker": {
             "colorbar": {
              "outlinewidth": 0,
              "ticks": ""
             }
            },
            "type": "scatterpolar"
           }
          ],
          "scatterpolargl": [
           {
            "marker": {
             "colorbar": {
              "outlinewidth": 0,
              "ticks": ""
             }
            },
            "type": "scatterpolargl"
           }
          ],
          "scatterternary": [
           {
            "marker": {
             "colorbar": {
              "outlinewidth": 0,
              "ticks": ""
             }
            },
            "type": "scatterternary"
           }
          ],
          "surface": [
           {
            "colorbar": {
             "outlinewidth": 0,
             "ticks": ""
            },
            "colorscale": [
             [
              0,
              "#0d0887"
             ],
             [
              0.1111111111111111,
              "#46039f"
             ],
             [
              0.2222222222222222,
              "#7201a8"
             ],
             [
              0.3333333333333333,
              "#9c179e"
             ],
             [
              0.4444444444444444,
              "#bd3786"
             ],
             [
              0.5555555555555556,
              "#d8576b"
             ],
             [
              0.6666666666666666,
              "#ed7953"
             ],
             [
              0.7777777777777778,
              "#fb9f3a"
             ],
             [
              0.8888888888888888,
              "#fdca26"
             ],
             [
              1,
              "#f0f921"
             ]
            ],
            "type": "surface"
           }
          ],
          "table": [
           {
            "cells": {
             "fill": {
              "color": "#EBF0F8"
             },
             "line": {
              "color": "white"
             }
            },
            "header": {
             "fill": {
              "color": "#C8D4E3"
             },
             "line": {
              "color": "white"
             }
            },
            "type": "table"
           }
          ]
         },
         "layout": {
          "annotationdefaults": {
           "arrowcolor": "#2a3f5f",
           "arrowhead": 0,
           "arrowwidth": 1
          },
          "autotypenumbers": "strict",
          "coloraxis": {
           "colorbar": {
            "outlinewidth": 0,
            "ticks": ""
           }
          },
          "colorscale": {
           "diverging": [
            [
             0,
             "#8e0152"
            ],
            [
             0.1,
             "#c51b7d"
            ],
            [
             0.2,
             "#de77ae"
            ],
            [
             0.3,
             "#f1b6da"
            ],
            [
             0.4,
             "#fde0ef"
            ],
            [
             0.5,
             "#f7f7f7"
            ],
            [
             0.6,
             "#e6f5d0"
            ],
            [
             0.7,
             "#b8e186"
            ],
            [
             0.8,
             "#7fbc41"
            ],
            [
             0.9,
             "#4d9221"
            ],
            [
             1,
             "#276419"
            ]
           ],
           "sequential": [
            [
             0,
             "#0d0887"
            ],
            [
             0.1111111111111111,
             "#46039f"
            ],
            [
             0.2222222222222222,
             "#7201a8"
            ],
            [
             0.3333333333333333,
             "#9c179e"
            ],
            [
             0.4444444444444444,
             "#bd3786"
            ],
            [
             0.5555555555555556,
             "#d8576b"
            ],
            [
             0.6666666666666666,
             "#ed7953"
            ],
            [
             0.7777777777777778,
             "#fb9f3a"
            ],
            [
             0.8888888888888888,
             "#fdca26"
            ],
            [
             1,
             "#f0f921"
            ]
           ],
           "sequentialminus": [
            [
             0,
             "#0d0887"
            ],
            [
             0.1111111111111111,
             "#46039f"
            ],
            [
             0.2222222222222222,
             "#7201a8"
            ],
            [
             0.3333333333333333,
             "#9c179e"
            ],
            [
             0.4444444444444444,
             "#bd3786"
            ],
            [
             0.5555555555555556,
             "#d8576b"
            ],
            [
             0.6666666666666666,
             "#ed7953"
            ],
            [
             0.7777777777777778,
             "#fb9f3a"
            ],
            [
             0.8888888888888888,
             "#fdca26"
            ],
            [
             1,
             "#f0f921"
            ]
           ]
          },
          "colorway": [
           "#636efa",
           "#EF553B",
           "#00cc96",
           "#ab63fa",
           "#FFA15A",
           "#19d3f3",
           "#FF6692",
           "#B6E880",
           "#FF97FF",
           "#FECB52"
          ],
          "font": {
           "color": "#2a3f5f"
          },
          "geo": {
           "bgcolor": "white",
           "lakecolor": "white",
           "landcolor": "#E5ECF6",
           "showlakes": true,
           "showland": true,
           "subunitcolor": "white"
          },
          "hoverlabel": {
           "align": "left"
          },
          "hovermode": "closest",
          "mapbox": {
           "style": "light"
          },
          "paper_bgcolor": "white",
          "plot_bgcolor": "#E5ECF6",
          "polar": {
           "angularaxis": {
            "gridcolor": "white",
            "linecolor": "white",
            "ticks": ""
           },
           "bgcolor": "#E5ECF6",
           "radialaxis": {
            "gridcolor": "white",
            "linecolor": "white",
            "ticks": ""
           }
          },
          "scene": {
           "xaxis": {
            "backgroundcolor": "#E5ECF6",
            "gridcolor": "white",
            "gridwidth": 2,
            "linecolor": "white",
            "showbackground": true,
            "ticks": "",
            "zerolinecolor": "white"
           },
           "yaxis": {
            "backgroundcolor": "#E5ECF6",
            "gridcolor": "white",
            "gridwidth": 2,
            "linecolor": "white",
            "showbackground": true,
            "ticks": "",
            "zerolinecolor": "white"
           },
           "zaxis": {
            "backgroundcolor": "#E5ECF6",
            "gridcolor": "white",
            "gridwidth": 2,
            "linecolor": "white",
            "showbackground": true,
            "ticks": "",
            "zerolinecolor": "white"
           }
          },
          "shapedefaults": {
           "line": {
            "color": "#2a3f5f"
           }
          },
          "ternary": {
           "aaxis": {
            "gridcolor": "white",
            "linecolor": "white",
            "ticks": ""
           },
           "baxis": {
            "gridcolor": "white",
            "linecolor": "white",
            "ticks": ""
           },
           "bgcolor": "#E5ECF6",
           "caxis": {
            "gridcolor": "white",
            "linecolor": "white",
            "ticks": ""
           }
          },
          "title": {
           "x": 0.05
          },
          "xaxis": {
           "automargin": true,
           "gridcolor": "white",
           "linecolor": "white",
           "ticks": "",
           "title": {
            "standoff": 15
           },
           "zerolinecolor": "white",
           "zerolinewidth": 2
          },
          "yaxis": {
           "automargin": true,
           "gridcolor": "white",
           "linecolor": "white",
           "ticks": "",
           "title": {
            "standoff": 15
           },
           "zerolinecolor": "white",
           "zerolinewidth": 2
          }
         }
        },
        "title": {
         "text": "Exchange - [bfly]"
        },
        "width": 800,
        "yaxis": {
         "title": {
          "text": "Price"
         }
        }
       }
      }
     },
     "metadata": {},
     "output_type": "display_data"
    },
    {
     "data": {
      "application/vnd.plotly.v1+json": {
       "config": {
        "plotlyServerURL": "https://plot.ly"
       },
       "data": [
        {
         "close": [
          47250.924,
          48488,
          49136.048,
          50199.989,
          50056.012,
          50230.77,
          50317.911,
          50949.591,
          50721.701,
          50662.379,
          50406.684,
          50244.01,
          49653.234,
          50119.51,
          49693.539,
          50105.15,
          50653.686,
          50679.16,
          50805.27,
          50980.189,
          50488.789,
          50159.45,
          50781.336,
          50401.6,
          51157.911,
          50774.399,
          49660.001,
          49514.992,
          49483.987,
          49473.137,
          49199.9,
          49877.058,
          49527.94,
          49360.01,
          49740.236,
          50050.175,
          49699.052,
          49585.974,
          49406.14,
          48984.14,
          48880.429,
          49184.99,
          48190,
          48787.489,
          48689.71,
          48887.82,
          49343.388,
          49742.749
         ],
         "high": [
          49070.307,
          48488,
          49350.321,
          50229.466,
          50600,
          50490.058,
          50554.23,
          50999.99,
          51386.269,
          51002.277,
          51030.517,
          50547.73,
          50709.49,
          50400,
          50173.291,
          50346.99,
          50921.529,
          50902.55,
          51000.98,
          51408.635,
          51088.359,
          50659.15,
          50914.526,
          50860.69,
          51200,
          51300,
          51089.154,
          49878.08,
          49804.57,
          49713.864,
          49670.727,
          49877.059,
          50149.734,
          49860.092,
          49999.999,
          50063.895,
          50071.68,
          50006.019,
          49695.27,
          49431.61,
          49279.19,
          49241.809,
          49170.683,
          48942.999,
          48763.325,
          48972.019,
          49535.879,
          49775.153
         ],
         "low": [
          46958.22,
          47289.12,
          48453.81,
          48761.936,
          49838.017,
          50051.444,
          50105.146,
          50255.942,
          50721.701,
          50400,
          50000,
          50240.6,
          49504.22,
          49630.54,
          49551.014,
          49717.745,
          49840,
          50346.138,
          50356.99,
          50805.27,
          50232.81,
          50142.85,
          50128.489,
          50266.467,
          50391.132,
          50678.579,
          49520,
          49093.667,
          49187.039,
          48767.13,
          48518.63,
          49056.206,
          49468.013,
          49360.01,
          49380.08,
          49658.834,
          49567.227,
          49579.819,
          49363.67,
          48861.2,
          48750,
          48623.55,
          48186.037,
          48120,
          48084.824,
          48496.086,
          48793.59,
          49413.485
         ],
         "open": [
          48906.607,
          47289.12,
          48488,
          49157.913,
          50188.392,
          50088.586,
          50213.589,
          50319.11,
          50999.999,
          50744.63,
          50676.453,
          50416.47,
          50226.75,
          49630.54,
          50114.94,
          49717.745,
          50105.15,
          50686.149,
          50699.12,
          50805.27,
          50981.64,
          50487.459,
          50128.489,
          50781.336,
          50397.3,
          51154.239,
          50761.77,
          49660.001,
          49511.505,
          49529.673,
          49445.43,
          49180,
          49860.121,
          49518.658,
          49435.14,
          49759.471,
          50071.68,
          49698.88,
          49605,
          49429.341,
          48950.8,
          48871.895,
          49122.005,
          48205.285,
          48731.15,
          48698.25,
          48858.285,
          49421.976
         ],
         "type": "candlestick",
         "x": [
          "2021-02-24T00:00:00",
          "2021-02-24T00:30:00",
          "2021-02-24T01:00:00",
          "2021-02-24T01:30:00",
          "2021-02-24T02:00:00",
          "2021-02-24T02:30:00",
          "2021-02-24T03:00:00",
          "2021-02-24T03:30:00",
          "2021-02-24T04:00:00",
          "2021-02-24T04:30:00",
          "2021-02-24T05:00:00",
          "2021-02-24T05:30:00",
          "2021-02-24T06:00:00",
          "2021-02-24T06:30:00",
          "2021-02-24T07:00:00",
          "2021-02-24T07:30:00",
          "2021-02-24T08:00:00",
          "2021-02-24T08:30:00",
          "2021-02-24T09:00:00",
          "2021-02-24T09:30:00",
          "2021-02-24T10:00:00",
          "2021-02-24T10:30:00",
          "2021-02-24T11:00:00",
          "2021-02-24T11:30:00",
          "2021-02-24T12:00:00",
          "2021-02-24T12:30:00",
          "2021-02-24T13:00:00",
          "2021-02-24T13:30:00",
          "2021-02-24T14:00:00",
          "2021-02-24T14:30:00",
          "2021-02-24T15:00:00",
          "2021-02-24T15:30:00",
          "2021-02-24T16:00:00",
          "2021-02-24T16:30:00",
          "2021-02-24T17:00:00",
          "2021-02-24T17:30:00",
          "2021-02-24T18:00:00",
          "2021-02-24T18:30:00",
          "2021-02-24T19:00:00",
          "2021-02-24T19:30:00",
          "2021-02-24T20:00:00",
          "2021-02-24T20:30:00",
          "2021-02-24T21:00:00",
          "2021-02-24T21:30:00",
          "2021-02-24T22:00:00",
          "2021-02-24T22:30:00",
          "2021-02-24T23:00:00",
          "2021-02-24T23:30:00"
         ]
        },
        {
         "line": {
          "color": "blue"
         },
         "mode": "lines",
         "name": "VWAP",
         "type": "scatter",
         "x": [
          "2021-02-24T00:00:00",
          "2021-02-24T00:30:00",
          "2021-02-24T01:00:00",
          "2021-02-24T01:30:00",
          "2021-02-24T02:00:00",
          "2021-02-24T02:30:00",
          "2021-02-24T03:00:00",
          "2021-02-24T03:30:00",
          "2021-02-24T04:00:00",
          "2021-02-24T04:30:00",
          "2021-02-24T05:00:00",
          "2021-02-24T05:30:00",
          "2021-02-24T06:00:00",
          "2021-02-24T06:30:00",
          "2021-02-24T07:00:00",
          "2021-02-24T07:30:00",
          "2021-02-24T08:00:00",
          "2021-02-24T08:30:00",
          "2021-02-24T09:00:00",
          "2021-02-24T09:30:00",
          "2021-02-24T10:00:00",
          "2021-02-24T10:30:00",
          "2021-02-24T11:00:00",
          "2021-02-24T11:30:00",
          "2021-02-24T12:00:00",
          "2021-02-24T12:30:00",
          "2021-02-24T13:00:00",
          "2021-02-24T13:30:00",
          "2021-02-24T14:00:00",
          "2021-02-24T14:30:00",
          "2021-02-24T15:00:00",
          "2021-02-24T15:30:00",
          "2021-02-24T16:00:00",
          "2021-02-24T16:30:00",
          "2021-02-24T17:00:00",
          "2021-02-24T17:30:00",
          "2021-02-24T18:00:00",
          "2021-02-24T18:30:00",
          "2021-02-24T19:00:00",
          "2021-02-24T19:30:00",
          "2021-02-24T20:00:00",
          "2021-02-24T20:30:00",
          "2021-02-24T21:00:00",
          "2021-02-24T21:30:00",
          "2021-02-24T22:00:00",
          "2021-02-24T22:30:00",
          "2021-02-24T23:00:00",
          "2021-02-24T23:30:00"
         ],
         "y": [
          47864.79720327195,
          47849.2322551187,
          48911.97131156487,
          49662.88379130858,
          50253.1289846582,
          50298.32499879978,
          50456.20840817737,
          50708.97566340548,
          51108.92711400982,
          50789.24315773877,
          50597.986292803216,
          50392.50256601402,
          50029.70610364689,
          50042.03770445924,
          49875.417735037045,
          50150.83829350009,
          50478.81062220775,
          50700.932041763204,
          50712.674493831866,
          51146.12274736361,
          50772.43075862883,
          50384.63191757271,
          50612.42272650947,
          50515.67980065966,
          50814.32720107103,
          51003.647873946975,
          49994.32224454409,
          49441.58650023033,
          49487.3826518176,
          49191.51851828781,
          49079.529971327676,
          49439.946289415566,
          49867.24917620499,
          49690.329249957555,
          49776.99545385627,
          49794.27903332453,
          49790.23002431344,
          49810.46605083698,
          49531.230596212205,
          49055.412063503114,
          49006.67393580599,
          48807.66095114344,
          48532.50646614902,
          48440.14266680967,
          48426.413187767226,
          48735.47369894793,
          49322.768009716034,
          49649.98912457919
         ]
        },
        {
         "line": {
          "color": "grey"
         },
         "mode": "lines",
         "name": "vwmp_lower",
         "type": "scatter",
         "x": [
          "2021-02-24T00:00:00",
          "2021-02-24T00:30:00",
          "2021-02-24T01:00:00",
          "2021-02-24T01:30:00",
          "2021-02-24T02:00:00",
          "2021-02-24T02:30:00",
          "2021-02-24T03:00:00",
          "2021-02-24T03:30:00",
          "2021-02-24T04:00:00",
          "2021-02-24T04:30:00",
          "2021-02-24T05:00:00",
          "2021-02-24T05:30:00",
          "2021-02-24T06:00:00",
          "2021-02-24T06:30:00",
          "2021-02-24T07:00:00",
          "2021-02-24T07:30:00",
          "2021-02-24T08:00:00",
          "2021-02-24T08:30:00",
          "2021-02-24T09:00:00",
          "2021-02-24T09:30:00",
          "2021-02-24T10:00:00",
          "2021-02-24T10:30:00",
          "2021-02-24T11:00:00",
          "2021-02-24T11:30:00",
          "2021-02-24T12:00:00",
          "2021-02-24T12:30:00",
          "2021-02-24T13:00:00",
          "2021-02-24T13:30:00",
          "2021-02-24T14:00:00",
          "2021-02-24T14:30:00",
          "2021-02-24T15:00:00",
          "2021-02-24T15:30:00",
          "2021-02-24T16:00:00",
          "2021-02-24T16:30:00",
          "2021-02-24T17:00:00",
          "2021-02-24T17:30:00",
          "2021-02-24T18:00:00",
          "2021-02-24T18:30:00",
          "2021-02-24T19:00:00",
          "2021-02-24T19:30:00",
          "2021-02-24T20:00:00",
          "2021-02-24T20:30:00",
          "2021-02-24T21:00:00",
          "2021-02-24T21:30:00",
          "2021-02-24T22:00:00",
          "2021-02-24T22:30:00",
          "2021-02-24T23:00:00",
          "2021-02-24T23:30:00"
         ],
         "y": [
          47756.18,
          47534.857,
          49252.004,
          49670.6,
          50418.678,
          50179.605,
          50488.858,
          50777,
          51243.447,
          50711.427,
          50736.518,
          50303.2,
          49723.45,
          50119.51,
          49794.839,
          50200,
          50259.498,
          50691.895,
          50862.598,
          50904.831,
          50676.919,
          50546.854,
          50456.368,
          50344.946,
          50436.659,
          51237.74,
          49881.778,
          49750.363,
          49388.174,
          48825.472,
          48940.62,
          49570.58,
          49773.48,
          49629.106,
          49789,
          49699.51,
          49873.987,
          49745,
          49584.205,
          49000,
          48811,
          48775.459,
          49084.025,
          48406.919,
          48222.74,
          48866.573,
          48920,
          49760
         ]
        }
       ],
       "layout": {
        "height": 300,
        "margin": {
         "b": 20,
         "l": 70,
         "r": 50,
         "t": 50
        },
        "template": {
         "data": {
          "bar": [
           {
            "error_x": {
             "color": "#2a3f5f"
            },
            "error_y": {
             "color": "#2a3f5f"
            },
            "marker": {
             "line": {
              "color": "#E5ECF6",
              "width": 0.5
             },
             "pattern": {
              "fillmode": "overlay",
              "size": 10,
              "solidity": 0.2
             }
            },
            "type": "bar"
           }
          ],
          "barpolar": [
           {
            "marker": {
             "line": {
              "color": "#E5ECF6",
              "width": 0.5
             },
             "pattern": {
              "fillmode": "overlay",
              "size": 10,
              "solidity": 0.2
             }
            },
            "type": "barpolar"
           }
          ],
          "carpet": [
           {
            "aaxis": {
             "endlinecolor": "#2a3f5f",
             "gridcolor": "white",
             "linecolor": "white",
             "minorgridcolor": "white",
             "startlinecolor": "#2a3f5f"
            },
            "baxis": {
             "endlinecolor": "#2a3f5f",
             "gridcolor": "white",
             "linecolor": "white",
             "minorgridcolor": "white",
             "startlinecolor": "#2a3f5f"
            },
            "type": "carpet"
           }
          ],
          "choropleth": [
           {
            "colorbar": {
             "outlinewidth": 0,
             "ticks": ""
            },
            "type": "choropleth"
           }
          ],
          "contour": [
           {
            "colorbar": {
             "outlinewidth": 0,
             "ticks": ""
            },
            "colorscale": [
             [
              0,
              "#0d0887"
             ],
             [
              0.1111111111111111,
              "#46039f"
             ],
             [
              0.2222222222222222,
              "#7201a8"
             ],
             [
              0.3333333333333333,
              "#9c179e"
             ],
             [
              0.4444444444444444,
              "#bd3786"
             ],
             [
              0.5555555555555556,
              "#d8576b"
             ],
             [
              0.6666666666666666,
              "#ed7953"
             ],
             [
              0.7777777777777778,
              "#fb9f3a"
             ],
             [
              0.8888888888888888,
              "#fdca26"
             ],
             [
              1,
              "#f0f921"
             ]
            ],
            "type": "contour"
           }
          ],
          "contourcarpet": [
           {
            "colorbar": {
             "outlinewidth": 0,
             "ticks": ""
            },
            "type": "contourcarpet"
           }
          ],
          "heatmap": [
           {
            "colorbar": {
             "outlinewidth": 0,
             "ticks": ""
            },
            "colorscale": [
             [
              0,
              "#0d0887"
             ],
             [
              0.1111111111111111,
              "#46039f"
             ],
             [
              0.2222222222222222,
              "#7201a8"
             ],
             [
              0.3333333333333333,
              "#9c179e"
             ],
             [
              0.4444444444444444,
              "#bd3786"
             ],
             [
              0.5555555555555556,
              "#d8576b"
             ],
             [
              0.6666666666666666,
              "#ed7953"
             ],
             [
              0.7777777777777778,
              "#fb9f3a"
             ],
             [
              0.8888888888888888,
              "#fdca26"
             ],
             [
              1,
              "#f0f921"
             ]
            ],
            "type": "heatmap"
           }
          ],
          "heatmapgl": [
           {
            "colorbar": {
             "outlinewidth": 0,
             "ticks": ""
            },
            "colorscale": [
             [
              0,
              "#0d0887"
             ],
             [
              0.1111111111111111,
              "#46039f"
             ],
             [
              0.2222222222222222,
              "#7201a8"
             ],
             [
              0.3333333333333333,
              "#9c179e"
             ],
             [
              0.4444444444444444,
              "#bd3786"
             ],
             [
              0.5555555555555556,
              "#d8576b"
             ],
             [
              0.6666666666666666,
              "#ed7953"
             ],
             [
              0.7777777777777778,
              "#fb9f3a"
             ],
             [
              0.8888888888888888,
              "#fdca26"
             ],
             [
              1,
              "#f0f921"
             ]
            ],
            "type": "heatmapgl"
           }
          ],
          "histogram": [
           {
            "marker": {
             "pattern": {
              "fillmode": "overlay",
              "size": 10,
              "solidity": 0.2
             }
            },
            "type": "histogram"
           }
          ],
          "histogram2d": [
           {
            "colorbar": {
             "outlinewidth": 0,
             "ticks": ""
            },
            "colorscale": [
             [
              0,
              "#0d0887"
             ],
             [
              0.1111111111111111,
              "#46039f"
             ],
             [
              0.2222222222222222,
              "#7201a8"
             ],
             [
              0.3333333333333333,
              "#9c179e"
             ],
             [
              0.4444444444444444,
              "#bd3786"
             ],
             [
              0.5555555555555556,
              "#d8576b"
             ],
             [
              0.6666666666666666,
              "#ed7953"
             ],
             [
              0.7777777777777778,
              "#fb9f3a"
             ],
             [
              0.8888888888888888,
              "#fdca26"
             ],
             [
              1,
              "#f0f921"
             ]
            ],
            "type": "histogram2d"
           }
          ],
          "histogram2dcontour": [
           {
            "colorbar": {
             "outlinewidth": 0,
             "ticks": ""
            },
            "colorscale": [
             [
              0,
              "#0d0887"
             ],
             [
              0.1111111111111111,
              "#46039f"
             ],
             [
              0.2222222222222222,
              "#7201a8"
             ],
             [
              0.3333333333333333,
              "#9c179e"
             ],
             [
              0.4444444444444444,
              "#bd3786"
             ],
             [
              0.5555555555555556,
              "#d8576b"
             ],
             [
              0.6666666666666666,
              "#ed7953"
             ],
             [
              0.7777777777777778,
              "#fb9f3a"
             ],
             [
              0.8888888888888888,
              "#fdca26"
             ],
             [
              1,
              "#f0f921"
             ]
            ],
            "type": "histogram2dcontour"
           }
          ],
          "mesh3d": [
           {
            "colorbar": {
             "outlinewidth": 0,
             "ticks": ""
            },
            "type": "mesh3d"
           }
          ],
          "parcoords": [
           {
            "line": {
             "colorbar": {
              "outlinewidth": 0,
              "ticks": ""
             }
            },
            "type": "parcoords"
           }
          ],
          "pie": [
           {
            "automargin": true,
            "type": "pie"
           }
          ],
          "scatter": [
           {
            "fillpattern": {
             "fillmode": "overlay",
             "size": 10,
             "solidity": 0.2
            },
            "type": "scatter"
           }
          ],
          "scatter3d": [
           {
            "line": {
             "colorbar": {
              "outlinewidth": 0,
              "ticks": ""
             }
            },
            "marker": {
             "colorbar": {
              "outlinewidth": 0,
              "ticks": ""
             }
            },
            "type": "scatter3d"
           }
          ],
          "scattercarpet": [
           {
            "marker": {
             "colorbar": {
              "outlinewidth": 0,
              "ticks": ""
             }
            },
            "type": "scattercarpet"
           }
          ],
          "scattergeo": [
           {
            "marker": {
             "colorbar": {
              "outlinewidth": 0,
              "ticks": ""
             }
            },
            "type": "scattergeo"
           }
          ],
          "scattergl": [
           {
            "marker": {
             "colorbar": {
              "outlinewidth": 0,
              "ticks": ""
             }
            },
            "type": "scattergl"
           }
          ],
          "scattermapbox": [
           {
            "marker": {
             "colorbar": {
              "outlinewidth": 0,
              "ticks": ""
             }
            },
            "type": "scattermapbox"
           }
          ],
          "scatterpolar": [
           {
            "marker": {
             "colorbar": {
              "outlinewidth": 0,
              "ticks": ""
             }
            },
            "type": "scatterpolar"
           }
          ],
          "scatterpolargl": [
           {
            "marker": {
             "colorbar": {
              "outlinewidth": 0,
              "ticks": ""
             }
            },
            "type": "scatterpolargl"
           }
          ],
          "scatterternary": [
           {
            "marker": {
             "colorbar": {
              "outlinewidth": 0,
              "ticks": ""
             }
            },
            "type": "scatterternary"
           }
          ],
          "surface": [
           {
            "colorbar": {
             "outlinewidth": 0,
             "ticks": ""
            },
            "colorscale": [
             [
              0,
              "#0d0887"
             ],
             [
              0.1111111111111111,
              "#46039f"
             ],
             [
              0.2222222222222222,
              "#7201a8"
             ],
             [
              0.3333333333333333,
              "#9c179e"
             ],
             [
              0.4444444444444444,
              "#bd3786"
             ],
             [
              0.5555555555555556,
              "#d8576b"
             ],
             [
              0.6666666666666666,
              "#ed7953"
             ],
             [
              0.7777777777777778,
              "#fb9f3a"
             ],
             [
              0.8888888888888888,
              "#fdca26"
             ],
             [
              1,
              "#f0f921"
             ]
            ],
            "type": "surface"
           }
          ],
          "table": [
           {
            "cells": {
             "fill": {
              "color": "#EBF0F8"
             },
             "line": {
              "color": "white"
             }
            },
            "header": {
             "fill": {
              "color": "#C8D4E3"
             },
             "line": {
              "color": "white"
             }
            },
            "type": "table"
           }
          ]
         },
         "layout": {
          "annotationdefaults": {
           "arrowcolor": "#2a3f5f",
           "arrowhead": 0,
           "arrowwidth": 1
          },
          "autotypenumbers": "strict",
          "coloraxis": {
           "colorbar": {
            "outlinewidth": 0,
            "ticks": ""
           }
          },
          "colorscale": {
           "diverging": [
            [
             0,
             "#8e0152"
            ],
            [
             0.1,
             "#c51b7d"
            ],
            [
             0.2,
             "#de77ae"
            ],
            [
             0.3,
             "#f1b6da"
            ],
            [
             0.4,
             "#fde0ef"
            ],
            [
             0.5,
             "#f7f7f7"
            ],
            [
             0.6,
             "#e6f5d0"
            ],
            [
             0.7,
             "#b8e186"
            ],
            [
             0.8,
             "#7fbc41"
            ],
            [
             0.9,
             "#4d9221"
            ],
            [
             1,
             "#276419"
            ]
           ],
           "sequential": [
            [
             0,
             "#0d0887"
            ],
            [
             0.1111111111111111,
             "#46039f"
            ],
            [
             0.2222222222222222,
             "#7201a8"
            ],
            [
             0.3333333333333333,
             "#9c179e"
            ],
            [
             0.4444444444444444,
             "#bd3786"
            ],
            [
             0.5555555555555556,
             "#d8576b"
            ],
            [
             0.6666666666666666,
             "#ed7953"
            ],
            [
             0.7777777777777778,
             "#fb9f3a"
            ],
            [
             0.8888888888888888,
             "#fdca26"
            ],
            [
             1,
             "#f0f921"
            ]
           ],
           "sequentialminus": [
            [
             0,
             "#0d0887"
            ],
            [
             0.1111111111111111,
             "#46039f"
            ],
            [
             0.2222222222222222,
             "#7201a8"
            ],
            [
             0.3333333333333333,
             "#9c179e"
            ],
            [
             0.4444444444444444,
             "#bd3786"
            ],
            [
             0.5555555555555556,
             "#d8576b"
            ],
            [
             0.6666666666666666,
             "#ed7953"
            ],
            [
             0.7777777777777778,
             "#fb9f3a"
            ],
            [
             0.8888888888888888,
             "#fdca26"
            ],
            [
             1,
             "#f0f921"
            ]
           ]
          },
          "colorway": [
           "#636efa",
           "#EF553B",
           "#00cc96",
           "#ab63fa",
           "#FFA15A",
           "#19d3f3",
           "#FF6692",
           "#B6E880",
           "#FF97FF",
           "#FECB52"
          ],
          "font": {
           "color": "#2a3f5f"
          },
          "geo": {
           "bgcolor": "white",
           "lakecolor": "white",
           "landcolor": "#E5ECF6",
           "showlakes": true,
           "showland": true,
           "subunitcolor": "white"
          },
          "hoverlabel": {
           "align": "left"
          },
          "hovermode": "closest",
          "mapbox": {
           "style": "light"
          },
          "paper_bgcolor": "white",
          "plot_bgcolor": "#E5ECF6",
          "polar": {
           "angularaxis": {
            "gridcolor": "white",
            "linecolor": "white",
            "ticks": ""
           },
           "bgcolor": "#E5ECF6",
           "radialaxis": {
            "gridcolor": "white",
            "linecolor": "white",
            "ticks": ""
           }
          },
          "scene": {
           "xaxis": {
            "backgroundcolor": "#E5ECF6",
            "gridcolor": "white",
            "gridwidth": 2,
            "linecolor": "white",
            "showbackground": true,
            "ticks": "",
            "zerolinecolor": "white"
           },
           "yaxis": {
            "backgroundcolor": "#E5ECF6",
            "gridcolor": "white",
            "gridwidth": 2,
            "linecolor": "white",
            "showbackground": true,
            "ticks": "",
            "zerolinecolor": "white"
           },
           "zaxis": {
            "backgroundcolor": "#E5ECF6",
            "gridcolor": "white",
            "gridwidth": 2,
            "linecolor": "white",
            "showbackground": true,
            "ticks": "",
            "zerolinecolor": "white"
           }
          },
          "shapedefaults": {
           "line": {
            "color": "#2a3f5f"
           }
          },
          "ternary": {
           "aaxis": {
            "gridcolor": "white",
            "linecolor": "white",
            "ticks": ""
           },
           "baxis": {
            "gridcolor": "white",
            "linecolor": "white",
            "ticks": ""
           },
           "bgcolor": "#E5ECF6",
           "caxis": {
            "gridcolor": "white",
            "linecolor": "white",
            "ticks": ""
           }
          },
          "title": {
           "x": 0.05
          },
          "xaxis": {
           "automargin": true,
           "gridcolor": "white",
           "linecolor": "white",
           "ticks": "",
           "title": {
            "standoff": 15
           },
           "zerolinecolor": "white",
           "zerolinewidth": 2
          },
          "yaxis": {
           "automargin": true,
           "gridcolor": "white",
           "linecolor": "white",
           "ticks": "",
           "title": {
            "standoff": 15
           },
           "zerolinecolor": "white",
           "zerolinewidth": 2
          }
         }
        },
        "title": {
         "text": "Exchange - [btrx]"
        },
        "width": 800,
        "yaxis": {
         "title": {
          "text": "Price"
         }
        }
       }
      }
     },
     "metadata": {},
     "output_type": "display_data"
    },
    {
     "data": {
      "application/vnd.plotly.v1+json": {
       "config": {
        "plotlyServerURL": "https://plot.ly"
       },
       "data": [
        {
         "close": [
          47193,
          48485,
          49155,
          50196,
          50065,
          50173,
          50242,
          50902,
          50691,
          50607,
          50381,
          50166,
          49598,
          50035,
          49626,
          50050,
          50662,
          50600.1668049,
          50702,
          50809,
          50379,
          50057,
          50685,
          50324,
          51088,
          50711,
          49575,
          49489.74968895,
          49466,
          49408,
          49163,
          49830,
          49488,
          49330,
          49701,
          50081,
          49678,
          49600,
          49416.65190993,
          48998,
          48887,
          49157,
          48185,
          48787,
          48710,
          48880,
          49350,
          49716
         ],
         "high": [
          49087,
          48497,
          49359,
          50229,
          50580.34566075,
          50481.817475,
          50539,
          51001,
          51354.46137096,
          50966,
          51064.836108,
          50501,
          50639,
          50346,
          50116.14390518,
          50320.62769032,
          50944,
          50864,
          50900,
          51339,
          50955,
          50500,
          50833,
          50799.284361,
          51125,
          51200,
          51062,
          49839,
          49752,
          49679,
          49660,
          49840,
          50100,
          49834.76740336,
          49930,
          50081,
          50089,
          49989,
          49724,
          49437.301397,
          49272,
          49254,
          49171.93856939,
          48917,
          48749.119626,
          48964,
          49530,
          49747
         ],
         "low": [
          46902,
          47166,
          48412,
          48761,
          49827,
          50031,
          50042,
          50207,
          50647,
          50328,
          49941,
          50124,
          49210,
          49527.57954753,
          49472,
          49659,
          49792,
          50287,
          50293,
          50695,
          50052,
          50050,
          50057,
          50200,
          50326,
          50603,
          49329,
          49055,
          49120,
          48750,
          48350,
          48883.1808809,
          49365.177883,
          49298.688164,
          49313,
          49611,
          49555,
          49588,
          49372,
          48804,
          48755,
          48569,
          48159,
          48155,
          48050,
          48504.7719099,
          48778,
          49351
         ],
         "open": [
          48882,
          47166,
          48454,
          49187,
          50184,
          50031,
          50161,
          50230,
          50901,
          50661,
          50611,
          50342,
          50167,
          49596,
          50035,
          49659,
          50051,
          50641,
          50628,
          50702,
          50809,
          50353,
          50057,
          50685,
          50339,
          51107,
          50715,
          49576,
          49498.2387048,
          49487,
          49410,
          49137,
          49833.03734606,
          49478,
          49313.4061464,
          49720,
          50081,
          49677,
          49609,
          49437.301397,
          48997,
          48884,
          49133,
          48185,
          48749.119626,
          48711,
          48840,
          49351
         ],
         "type": "candlestick",
         "x": [
          "2021-02-24T00:00:00",
          "2021-02-24T00:30:00",
          "2021-02-24T01:00:00",
          "2021-02-24T01:30:00",
          "2021-02-24T02:00:00",
          "2021-02-24T02:30:00",
          "2021-02-24T03:00:00",
          "2021-02-24T03:30:00",
          "2021-02-24T04:00:00",
          "2021-02-24T04:30:00",
          "2021-02-24T05:00:00",
          "2021-02-24T05:30:00",
          "2021-02-24T06:00:00",
          "2021-02-24T06:30:00",
          "2021-02-24T07:00:00",
          "2021-02-24T07:30:00",
          "2021-02-24T08:00:00",
          "2021-02-24T08:30:00",
          "2021-02-24T09:00:00",
          "2021-02-24T09:30:00",
          "2021-02-24T10:00:00",
          "2021-02-24T10:30:00",
          "2021-02-24T11:00:00",
          "2021-02-24T11:30:00",
          "2021-02-24T12:00:00",
          "2021-02-24T12:30:00",
          "2021-02-24T13:00:00",
          "2021-02-24T13:30:00",
          "2021-02-24T14:00:00",
          "2021-02-24T14:30:00",
          "2021-02-24T15:00:00",
          "2021-02-24T15:30:00",
          "2021-02-24T16:00:00",
          "2021-02-24T16:30:00",
          "2021-02-24T17:00:00",
          "2021-02-24T17:30:00",
          "2021-02-24T18:00:00",
          "2021-02-24T18:30:00",
          "2021-02-24T19:00:00",
          "2021-02-24T19:30:00",
          "2021-02-24T20:00:00",
          "2021-02-24T20:30:00",
          "2021-02-24T21:00:00",
          "2021-02-24T21:30:00",
          "2021-02-24T22:00:00",
          "2021-02-24T22:30:00",
          "2021-02-24T23:00:00",
          "2021-02-24T23:30:00"
         ]
        },
        {
         "line": {
          "color": "blue"
         },
         "mode": "lines",
         "name": "VWAP",
         "type": "scatter",
         "x": [
          "2021-02-24T00:00:00",
          "2021-02-24T00:30:00",
          "2021-02-24T01:00:00",
          "2021-02-24T01:30:00",
          "2021-02-24T02:00:00",
          "2021-02-24T02:30:00",
          "2021-02-24T03:00:00",
          "2021-02-24T03:30:00",
          "2021-02-24T04:00:00",
          "2021-02-24T04:30:00",
          "2021-02-24T05:00:00",
          "2021-02-24T05:30:00",
          "2021-02-24T06:00:00",
          "2021-02-24T06:30:00",
          "2021-02-24T07:00:00",
          "2021-02-24T07:30:00",
          "2021-02-24T08:00:00",
          "2021-02-24T08:30:00",
          "2021-02-24T09:00:00",
          "2021-02-24T09:30:00",
          "2021-02-24T10:00:00",
          "2021-02-24T10:30:00",
          "2021-02-24T11:00:00",
          "2021-02-24T11:30:00",
          "2021-02-24T12:00:00",
          "2021-02-24T12:30:00",
          "2021-02-24T13:00:00",
          "2021-02-24T13:30:00",
          "2021-02-24T14:00:00",
          "2021-02-24T14:30:00",
          "2021-02-24T15:00:00",
          "2021-02-24T15:30:00",
          "2021-02-24T16:00:00",
          "2021-02-24T16:30:00",
          "2021-02-24T17:00:00",
          "2021-02-24T17:30:00",
          "2021-02-24T18:00:00",
          "2021-02-24T18:30:00",
          "2021-02-24T19:00:00",
          "2021-02-24T19:30:00",
          "2021-02-24T20:00:00",
          "2021-02-24T20:30:00",
          "2021-02-24T21:00:00",
          "2021-02-24T21:30:00",
          "2021-02-24T22:00:00",
          "2021-02-24T22:30:00",
          "2021-02-24T23:00:00",
          "2021-02-24T23:30:00"
         ],
         "y": [
          47793.40549723628,
          47743.428378150384,
          48980.55902063257,
          49684.93299478517,
          50206.01961946366,
          50281.11390953089,
          50342.46756472044,
          50753.19936729704,
          51046.86950456799,
          50689.76057412124,
          50388.75790931729,
          50287.82586627758,
          49666.69445503302,
          49880.359925751305,
          49749.83350577591,
          50051.637650686884,
          50661.21458754018,
          50543.75286382835,
          50645.16643999559,
          50982.00699100005,
          50550.44922477587,
          50365.55995453141,
          50478.26813603202,
          50529.49262537224,
          50921.226088332594,
          51049.336059309986,
          49913.236271374604,
          49382.97061230774,
          49458.703656383186,
          49118.742522623,
          48819.54273746824,
          49330.36799661584,
          49815.72909355746,
          49570.268766680776,
          49666.54973384012,
          49879.204396955196,
          49805.42443160857,
          49778.2147261888,
          49509.772268705565,
          49065.59950900023,
          48984.48850335501,
          48817.293743742455,
          48445.35767569473,
          48429.253530063754,
          48227.563978982296,
          48802.951203961245,
          49336.762415569945,
          49585.808592721216
         ]
        },
        {
         "line": {
          "color": "grey"
         },
         "mode": "lines",
         "name": "vwmp_lower",
         "type": "scatter",
         "x": [
          "2021-02-24T00:00:00",
          "2021-02-24T00:30:00",
          "2021-02-24T01:00:00",
          "2021-02-24T01:30:00",
          "2021-02-24T02:00:00",
          "2021-02-24T02:30:00",
          "2021-02-24T03:00:00",
          "2021-02-24T03:30:00",
          "2021-02-24T04:00:00",
          "2021-02-24T04:30:00",
          "2021-02-24T05:00:00",
          "2021-02-24T05:30:00",
          "2021-02-24T06:00:00",
          "2021-02-24T06:30:00",
          "2021-02-24T07:00:00",
          "2021-02-24T07:30:00",
          "2021-02-24T08:00:00",
          "2021-02-24T08:30:00",
          "2021-02-24T09:00:00",
          "2021-02-24T09:30:00",
          "2021-02-24T10:00:00",
          "2021-02-24T10:30:00",
          "2021-02-24T11:00:00",
          "2021-02-24T11:30:00",
          "2021-02-24T12:00:00",
          "2021-02-24T12:30:00",
          "2021-02-24T13:00:00",
          "2021-02-24T13:30:00",
          "2021-02-24T14:00:00",
          "2021-02-24T14:30:00",
          "2021-02-24T15:00:00",
          "2021-02-24T15:30:00",
          "2021-02-24T16:00:00",
          "2021-02-24T16:30:00",
          "2021-02-24T17:00:00",
          "2021-02-24T17:30:00",
          "2021-02-24T18:00:00",
          "2021-02-24T18:30:00",
          "2021-02-24T19:00:00",
          "2021-02-24T19:30:00",
          "2021-02-24T20:00:00",
          "2021-02-24T20:30:00",
          "2021-02-24T21:00:00",
          "2021-02-24T21:30:00",
          "2021-02-24T22:00:00",
          "2021-02-24T22:30:00",
          "2021-02-24T23:00:00",
          "2021-02-24T23:30:00"
         ],
         "y": [
          47800,
          48420,
          48955,
          49900,
          50003.19235455,
          50151,
          50281,
          50792,
          51200,
          50692,
          50644,
          50361,
          50418,
          49984,
          49500,
          49950,
          50918,
          50700,
          50853,
          50792,
          50714,
          50450,
          50232,
          50759,
          50800,
          51125,
          49649,
          49291,
          49689,
          49260,
          49430,
          49487,
          49994,
          49341,
          49553,
          49830,
          49753,
          49722,
          49500,
          49032,
          48780,
          48666,
          48348,
          48464,
          48444,
          48819,
          49430,
          49638
         ]
        }
       ],
       "layout": {
        "height": 300,
        "margin": {
         "b": 20,
         "l": 70,
         "r": 50,
         "t": 50
        },
        "template": {
         "data": {
          "bar": [
           {
            "error_x": {
             "color": "#2a3f5f"
            },
            "error_y": {
             "color": "#2a3f5f"
            },
            "marker": {
             "line": {
              "color": "#E5ECF6",
              "width": 0.5
             },
             "pattern": {
              "fillmode": "overlay",
              "size": 10,
              "solidity": 0.2
             }
            },
            "type": "bar"
           }
          ],
          "barpolar": [
           {
            "marker": {
             "line": {
              "color": "#E5ECF6",
              "width": 0.5
             },
             "pattern": {
              "fillmode": "overlay",
              "size": 10,
              "solidity": 0.2
             }
            },
            "type": "barpolar"
           }
          ],
          "carpet": [
           {
            "aaxis": {
             "endlinecolor": "#2a3f5f",
             "gridcolor": "white",
             "linecolor": "white",
             "minorgridcolor": "white",
             "startlinecolor": "#2a3f5f"
            },
            "baxis": {
             "endlinecolor": "#2a3f5f",
             "gridcolor": "white",
             "linecolor": "white",
             "minorgridcolor": "white",
             "startlinecolor": "#2a3f5f"
            },
            "type": "carpet"
           }
          ],
          "choropleth": [
           {
            "colorbar": {
             "outlinewidth": 0,
             "ticks": ""
            },
            "type": "choropleth"
           }
          ],
          "contour": [
           {
            "colorbar": {
             "outlinewidth": 0,
             "ticks": ""
            },
            "colorscale": [
             [
              0,
              "#0d0887"
             ],
             [
              0.1111111111111111,
              "#46039f"
             ],
             [
              0.2222222222222222,
              "#7201a8"
             ],
             [
              0.3333333333333333,
              "#9c179e"
             ],
             [
              0.4444444444444444,
              "#bd3786"
             ],
             [
              0.5555555555555556,
              "#d8576b"
             ],
             [
              0.6666666666666666,
              "#ed7953"
             ],
             [
              0.7777777777777778,
              "#fb9f3a"
             ],
             [
              0.8888888888888888,
              "#fdca26"
             ],
             [
              1,
              "#f0f921"
             ]
            ],
            "type": "contour"
           }
          ],
          "contourcarpet": [
           {
            "colorbar": {
             "outlinewidth": 0,
             "ticks": ""
            },
            "type": "contourcarpet"
           }
          ],
          "heatmap": [
           {
            "colorbar": {
             "outlinewidth": 0,
             "ticks": ""
            },
            "colorscale": [
             [
              0,
              "#0d0887"
             ],
             [
              0.1111111111111111,
              "#46039f"
             ],
             [
              0.2222222222222222,
              "#7201a8"
             ],
             [
              0.3333333333333333,
              "#9c179e"
             ],
             [
              0.4444444444444444,
              "#bd3786"
             ],
             [
              0.5555555555555556,
              "#d8576b"
             ],
             [
              0.6666666666666666,
              "#ed7953"
             ],
             [
              0.7777777777777778,
              "#fb9f3a"
             ],
             [
              0.8888888888888888,
              "#fdca26"
             ],
             [
              1,
              "#f0f921"
             ]
            ],
            "type": "heatmap"
           }
          ],
          "heatmapgl": [
           {
            "colorbar": {
             "outlinewidth": 0,
             "ticks": ""
            },
            "colorscale": [
             [
              0,
              "#0d0887"
             ],
             [
              0.1111111111111111,
              "#46039f"
             ],
             [
              0.2222222222222222,
              "#7201a8"
             ],
             [
              0.3333333333333333,
              "#9c179e"
             ],
             [
              0.4444444444444444,
              "#bd3786"
             ],
             [
              0.5555555555555556,
              "#d8576b"
             ],
             [
              0.6666666666666666,
              "#ed7953"
             ],
             [
              0.7777777777777778,
              "#fb9f3a"
             ],
             [
              0.8888888888888888,
              "#fdca26"
             ],
             [
              1,
              "#f0f921"
             ]
            ],
            "type": "heatmapgl"
           }
          ],
          "histogram": [
           {
            "marker": {
             "pattern": {
              "fillmode": "overlay",
              "size": 10,
              "solidity": 0.2
             }
            },
            "type": "histogram"
           }
          ],
          "histogram2d": [
           {
            "colorbar": {
             "outlinewidth": 0,
             "ticks": ""
            },
            "colorscale": [
             [
              0,
              "#0d0887"
             ],
             [
              0.1111111111111111,
              "#46039f"
             ],
             [
              0.2222222222222222,
              "#7201a8"
             ],
             [
              0.3333333333333333,
              "#9c179e"
             ],
             [
              0.4444444444444444,
              "#bd3786"
             ],
             [
              0.5555555555555556,
              "#d8576b"
             ],
             [
              0.6666666666666666,
              "#ed7953"
             ],
             [
              0.7777777777777778,
              "#fb9f3a"
             ],
             [
              0.8888888888888888,
              "#fdca26"
             ],
             [
              1,
              "#f0f921"
             ]
            ],
            "type": "histogram2d"
           }
          ],
          "histogram2dcontour": [
           {
            "colorbar": {
             "outlinewidth": 0,
             "ticks": ""
            },
            "colorscale": [
             [
              0,
              "#0d0887"
             ],
             [
              0.1111111111111111,
              "#46039f"
             ],
             [
              0.2222222222222222,
              "#7201a8"
             ],
             [
              0.3333333333333333,
              "#9c179e"
             ],
             [
              0.4444444444444444,
              "#bd3786"
             ],
             [
              0.5555555555555556,
              "#d8576b"
             ],
             [
              0.6666666666666666,
              "#ed7953"
             ],
             [
              0.7777777777777778,
              "#fb9f3a"
             ],
             [
              0.8888888888888888,
              "#fdca26"
             ],
             [
              1,
              "#f0f921"
             ]
            ],
            "type": "histogram2dcontour"
           }
          ],
          "mesh3d": [
           {
            "colorbar": {
             "outlinewidth": 0,
             "ticks": ""
            },
            "type": "mesh3d"
           }
          ],
          "parcoords": [
           {
            "line": {
             "colorbar": {
              "outlinewidth": 0,
              "ticks": ""
             }
            },
            "type": "parcoords"
           }
          ],
          "pie": [
           {
            "automargin": true,
            "type": "pie"
           }
          ],
          "scatter": [
           {
            "fillpattern": {
             "fillmode": "overlay",
             "size": 10,
             "solidity": 0.2
            },
            "type": "scatter"
           }
          ],
          "scatter3d": [
           {
            "line": {
             "colorbar": {
              "outlinewidth": 0,
              "ticks": ""
             }
            },
            "marker": {
             "colorbar": {
              "outlinewidth": 0,
              "ticks": ""
             }
            },
            "type": "scatter3d"
           }
          ],
          "scattercarpet": [
           {
            "marker": {
             "colorbar": {
              "outlinewidth": 0,
              "ticks": ""
             }
            },
            "type": "scattercarpet"
           }
          ],
          "scattergeo": [
           {
            "marker": {
             "colorbar": {
              "outlinewidth": 0,
              "ticks": ""
             }
            },
            "type": "scattergeo"
           }
          ],
          "scattergl": [
           {
            "marker": {
             "colorbar": {
              "outlinewidth": 0,
              "ticks": ""
             }
            },
            "type": "scattergl"
           }
          ],
          "scattermapbox": [
           {
            "marker": {
             "colorbar": {
              "outlinewidth": 0,
              "ticks": ""
             }
            },
            "type": "scattermapbox"
           }
          ],
          "scatterpolar": [
           {
            "marker": {
             "colorbar": {
              "outlinewidth": 0,
              "ticks": ""
             }
            },
            "type": "scatterpolar"
           }
          ],
          "scatterpolargl": [
           {
            "marker": {
             "colorbar": {
              "outlinewidth": 0,
              "ticks": ""
             }
            },
            "type": "scatterpolargl"
           }
          ],
          "scatterternary": [
           {
            "marker": {
             "colorbar": {
              "outlinewidth": 0,
              "ticks": ""
             }
            },
            "type": "scatterternary"
           }
          ],
          "surface": [
           {
            "colorbar": {
             "outlinewidth": 0,
             "ticks": ""
            },
            "colorscale": [
             [
              0,
              "#0d0887"
             ],
             [
              0.1111111111111111,
              "#46039f"
             ],
             [
              0.2222222222222222,
              "#7201a8"
             ],
             [
              0.3333333333333333,
              "#9c179e"
             ],
             [
              0.4444444444444444,
              "#bd3786"
             ],
             [
              0.5555555555555556,
              "#d8576b"
             ],
             [
              0.6666666666666666,
              "#ed7953"
             ],
             [
              0.7777777777777778,
              "#fb9f3a"
             ],
             [
              0.8888888888888888,
              "#fdca26"
             ],
             [
              1,
              "#f0f921"
             ]
            ],
            "type": "surface"
           }
          ],
          "table": [
           {
            "cells": {
             "fill": {
              "color": "#EBF0F8"
             },
             "line": {
              "color": "white"
             }
            },
            "header": {
             "fill": {
              "color": "#C8D4E3"
             },
             "line": {
              "color": "white"
             }
            },
            "type": "table"
           }
          ]
         },
         "layout": {
          "annotationdefaults": {
           "arrowcolor": "#2a3f5f",
           "arrowhead": 0,
           "arrowwidth": 1
          },
          "autotypenumbers": "strict",
          "coloraxis": {
           "colorbar": {
            "outlinewidth": 0,
            "ticks": ""
           }
          },
          "colorscale": {
           "diverging": [
            [
             0,
             "#8e0152"
            ],
            [
             0.1,
             "#c51b7d"
            ],
            [
             0.2,
             "#de77ae"
            ],
            [
             0.3,
             "#f1b6da"
            ],
            [
             0.4,
             "#fde0ef"
            ],
            [
             0.5,
             "#f7f7f7"
            ],
            [
             0.6,
             "#e6f5d0"
            ],
            [
             0.7,
             "#b8e186"
            ],
            [
             0.8,
             "#7fbc41"
            ],
            [
             0.9,
             "#4d9221"
            ],
            [
             1,
             "#276419"
            ]
           ],
           "sequential": [
            [
             0,
             "#0d0887"
            ],
            [
             0.1111111111111111,
             "#46039f"
            ],
            [
             0.2222222222222222,
             "#7201a8"
            ],
            [
             0.3333333333333333,
             "#9c179e"
            ],
            [
             0.4444444444444444,
             "#bd3786"
            ],
            [
             0.5555555555555556,
             "#d8576b"
            ],
            [
             0.6666666666666666,
             "#ed7953"
            ],
            [
             0.7777777777777778,
             "#fb9f3a"
            ],
            [
             0.8888888888888888,
             "#fdca26"
            ],
            [
             1,
             "#f0f921"
            ]
           ],
           "sequentialminus": [
            [
             0,
             "#0d0887"
            ],
            [
             0.1111111111111111,
             "#46039f"
            ],
            [
             0.2222222222222222,
             "#7201a8"
            ],
            [
             0.3333333333333333,
             "#9c179e"
            ],
            [
             0.4444444444444444,
             "#bd3786"
            ],
            [
             0.5555555555555556,
             "#d8576b"
            ],
            [
             0.6666666666666666,
             "#ed7953"
            ],
            [
             0.7777777777777778,
             "#fb9f3a"
            ],
            [
             0.8888888888888888,
             "#fdca26"
            ],
            [
             1,
             "#f0f921"
            ]
           ]
          },
          "colorway": [
           "#636efa",
           "#EF553B",
           "#00cc96",
           "#ab63fa",
           "#FFA15A",
           "#19d3f3",
           "#FF6692",
           "#B6E880",
           "#FF97FF",
           "#FECB52"
          ],
          "font": {
           "color": "#2a3f5f"
          },
          "geo": {
           "bgcolor": "white",
           "lakecolor": "white",
           "landcolor": "#E5ECF6",
           "showlakes": true,
           "showland": true,
           "subunitcolor": "white"
          },
          "hoverlabel": {
           "align": "left"
          },
          "hovermode": "closest",
          "mapbox": {
           "style": "light"
          },
          "paper_bgcolor": "white",
          "plot_bgcolor": "#E5ECF6",
          "polar": {
           "angularaxis": {
            "gridcolor": "white",
            "linecolor": "white",
            "ticks": ""
           },
           "bgcolor": "#E5ECF6",
           "radialaxis": {
            "gridcolor": "white",
            "linecolor": "white",
            "ticks": ""
           }
          },
          "scene": {
           "xaxis": {
            "backgroundcolor": "#E5ECF6",
            "gridcolor": "white",
            "gridwidth": 2,
            "linecolor": "white",
            "showbackground": true,
            "ticks": "",
            "zerolinecolor": "white"
           },
           "yaxis": {
            "backgroundcolor": "#E5ECF6",
            "gridcolor": "white",
            "gridwidth": 2,
            "linecolor": "white",
            "showbackground": true,
            "ticks": "",
            "zerolinecolor": "white"
           },
           "zaxis": {
            "backgroundcolor": "#E5ECF6",
            "gridcolor": "white",
            "gridwidth": 2,
            "linecolor": "white",
            "showbackground": true,
            "ticks": "",
            "zerolinecolor": "white"
           }
          },
          "shapedefaults": {
           "line": {
            "color": "#2a3f5f"
           }
          },
          "ternary": {
           "aaxis": {
            "gridcolor": "white",
            "linecolor": "white",
            "ticks": ""
           },
           "baxis": {
            "gridcolor": "white",
            "linecolor": "white",
            "ticks": ""
           },
           "bgcolor": "#E5ECF6",
           "caxis": {
            "gridcolor": "white",
            "linecolor": "white",
            "ticks": ""
           }
          },
          "title": {
           "x": 0.05
          },
          "xaxis": {
           "automargin": true,
           "gridcolor": "white",
           "linecolor": "white",
           "ticks": "",
           "title": {
            "standoff": 15
           },
           "zerolinecolor": "white",
           "zerolinewidth": 2
          },
          "yaxis": {
           "automargin": true,
           "gridcolor": "white",
           "linecolor": "white",
           "ticks": "",
           "title": {
            "standoff": 15
           },
           "zerolinecolor": "white",
           "zerolinewidth": 2
          }
         }
        },
        "title": {
         "text": "Exchange - [bfnx]"
        },
        "width": 800,
        "yaxis": {
         "title": {
          "text": "Price"
         }
        }
       }
      }
     },
     "metadata": {},
     "output_type": "display_data"
    },
    {
     "data": {
      "application/vnd.plotly.v1+json": {
       "config": {
        "plotlyServerURL": "https://plot.ly"
       },
       "data": [
        {
         "close": [
          47225.92,
          48446.34,
          49191.15,
          50201.53,
          50029.73,
          50189.77,
          50283.96,
          50968.49,
          50676.36,
          50666,
          50432.42,
          50250.84,
          49732.53,
          50104.04,
          49739.65,
          50078.48,
          50637.39,
          50676.57,
          50777.48,
          50899.67,
          50472.94,
          50144.41,
          50767.93,
          50377.79,
          51141.31,
          50735.42,
          49621.93,
          49502.71,
          49504.47,
          49416.13,
          49177.27,
          49832.52,
          49521.11,
          49400.36,
          49744.76,
          50096.73,
          49702.31,
          49622.72,
          49457.47,
          49003.83,
          48911.77,
          49195.04,
          48225.14,
          48798.62,
          48703.53,
          48894.64,
          49279.29,
          49724.93
         ],
         "high": [
          49078.28,
          48454.85,
          49365.8,
          50201.53,
          50573.85,
          50463.98,
          50535.14,
          50977.14,
          51383.99,
          50958.05,
          51044.41,
          50539.71,
          50660.34,
          50423.11,
          50206.4,
          50345.18,
          50881.7,
          50874.98,
          50978.83,
          51432.06,
          51041.91,
          50646.41,
          50924.23,
          50903.97,
          51204.51,
          51338.97,
          51105.22,
          49884.03,
          49797.52,
          49668.45,
          49623.65,
          49881.16,
          50164.28,
          49887.59,
          50004.3,
          50096.73,
          50171.79,
          50016.17,
          49719.18,
          49475.25,
          49265.31,
          49206.6,
          49193.77,
          48882.33,
          48737.81,
          48999.82,
          49549.5,
          49786.94
         ],
         "low": [
          47012.76,
          47372.7,
          48476.68,
          48787.54,
          49853.89,
          50035.8,
          50131.61,
          50250.74,
          50676.36,
          50365.76,
          50019.98,
          50226.92,
          49496.23,
          49608.92,
          49561.04,
          49801.05,
          49814.39,
          50335.45,
          50371.57,
          50788.02,
          50255.76,
          50124.23,
          50140.45,
          50277,
          50378.29,
          50700.4,
          49518.2,
          49108,
          49174.28,
          48797.43,
          48509.32,
          49106.18,
          49471.26,
          49355.08,
          49364.96,
          49664.32,
          49569.8,
          49614.19,
          49392.72,
          48883.68,
          48790.24,
          48614.98,
          48198.75,
          48170.42,
          48082.02,
          48502.15,
          48772.51,
          49370.23
         ],
         "open": [
          48906.05,
          47372.7,
          48516.41,
          49218.55,
          50240.11,
          50118.78,
          50186.42,
          50299.72,
          50962.95,
          50801.68,
          50721.28,
          50400.81,
          50498.53,
          49689.23,
          50206.4,
          49801.05,
          50119.82,
          50648.67,
          50665.65,
          50788.02,
          50905.82,
          50470.28,
          50140.45,
          50766.28,
          50406.27,
          51131.69,
          50779.47,
          49628.68,
          49532.6,
          49486.32,
          49385.65,
          49183.8,
          49887.05,
          49539.69,
          49407.81,
          49756.84,
          50118.14,
          49717.85,
          49630.99,
          49446.33,
          49006.93,
          48869.01,
          49104.75,
          48189.34,
          48737.81,
          48714.16,
          48801.95,
          49399.58
         ],
         "type": "candlestick",
         "x": [
          "2021-02-24T00:00:00",
          "2021-02-24T00:30:00",
          "2021-02-24T01:00:00",
          "2021-02-24T01:30:00",
          "2021-02-24T02:00:00",
          "2021-02-24T02:30:00",
          "2021-02-24T03:00:00",
          "2021-02-24T03:30:00",
          "2021-02-24T04:00:00",
          "2021-02-24T04:30:00",
          "2021-02-24T05:00:00",
          "2021-02-24T05:30:00",
          "2021-02-24T06:00:00",
          "2021-02-24T06:30:00",
          "2021-02-24T07:00:00",
          "2021-02-24T07:30:00",
          "2021-02-24T08:00:00",
          "2021-02-24T08:30:00",
          "2021-02-24T09:00:00",
          "2021-02-24T09:30:00",
          "2021-02-24T10:00:00",
          "2021-02-24T10:30:00",
          "2021-02-24T11:00:00",
          "2021-02-24T11:30:00",
          "2021-02-24T12:00:00",
          "2021-02-24T12:30:00",
          "2021-02-24T13:00:00",
          "2021-02-24T13:30:00",
          "2021-02-24T14:00:00",
          "2021-02-24T14:30:00",
          "2021-02-24T15:00:00",
          "2021-02-24T15:30:00",
          "2021-02-24T16:00:00",
          "2021-02-24T16:30:00",
          "2021-02-24T17:00:00",
          "2021-02-24T17:30:00",
          "2021-02-24T18:00:00",
          "2021-02-24T18:30:00",
          "2021-02-24T19:00:00",
          "2021-02-24T19:30:00",
          "2021-02-24T20:00:00",
          "2021-02-24T20:30:00",
          "2021-02-24T21:00:00",
          "2021-02-24T21:30:00",
          "2021-02-24T22:00:00",
          "2021-02-24T22:30:00",
          "2021-02-24T23:00:00",
          "2021-02-24T23:30:00"
         ]
        },
        {
         "line": {
          "color": "blue"
         },
         "mode": "lines",
         "name": "VWAP",
         "type": "scatter",
         "x": [
          "2021-02-24T00:00:00",
          "2021-02-24T00:30:00",
          "2021-02-24T01:00:00",
          "2021-02-24T01:30:00",
          "2021-02-24T02:00:00",
          "2021-02-24T02:30:00",
          "2021-02-24T03:00:00",
          "2021-02-24T03:30:00",
          "2021-02-24T04:00:00",
          "2021-02-24T04:30:00",
          "2021-02-24T05:00:00",
          "2021-02-24T05:30:00",
          "2021-02-24T06:00:00",
          "2021-02-24T06:30:00",
          "2021-02-24T07:00:00",
          "2021-02-24T07:30:00",
          "2021-02-24T08:00:00",
          "2021-02-24T08:30:00",
          "2021-02-24T09:00:00",
          "2021-02-24T09:30:00",
          "2021-02-24T10:00:00",
          "2021-02-24T10:30:00",
          "2021-02-24T11:00:00",
          "2021-02-24T11:30:00",
          "2021-02-24T12:00:00",
          "2021-02-24T12:30:00",
          "2021-02-24T13:00:00",
          "2021-02-24T13:30:00",
          "2021-02-24T14:00:00",
          "2021-02-24T14:30:00",
          "2021-02-24T15:00:00",
          "2021-02-24T15:30:00",
          "2021-02-24T16:00:00",
          "2021-02-24T16:30:00",
          "2021-02-24T17:00:00",
          "2021-02-24T17:30:00",
          "2021-02-24T18:00:00",
          "2021-02-24T18:30:00",
          "2021-02-24T19:00:00",
          "2021-02-24T19:30:00",
          "2021-02-24T20:00:00",
          "2021-02-24T20:30:00",
          "2021-02-24T21:00:00",
          "2021-02-24T21:30:00",
          "2021-02-24T22:00:00",
          "2021-02-24T22:30:00",
          "2021-02-24T23:00:00",
          "2021-02-24T23:30:00"
         ],
         "y": [
          47943.653428233076,
          47975.00889680421,
          48886.49827548361,
          49781.332077192565,
          50149.916892213034,
          50280.92107020607,
          50348.21857738725,
          50651.14269848591,
          51148.91719016292,
          50687.448432974095,
          50407.41276769001,
          50390.268151381075,
          49952.63133120592,
          49926.81030072894,
          49849.608349239876,
          50125.00556187413,
          50344.64462842686,
          50709.536901706066,
          50773.64489548947,
          51109.36219340803,
          50658.12683857512,
          50408.56101261486,
          50635.858858228465,
          50404.89439282149,
          50896.84544501695,
          50975.08143021851,
          50335.658415038495,
          49465.61637499695,
          49477.35250595419,
          49091.0646017417,
          48917.79432280062,
          49592.9540576236,
          49861.100697390284,
          49641.33677131827,
          49778.33325572942,
          49834.53779331186,
          49810.37434820422,
          49783.40631355108,
          49508.764167986745,
          49154.19316557111,
          48875.52894143742,
          48807.97622016318,
          48495.26729630099,
          48394.50197810132,
          48433.034195198205,
          48740.88629678891,
          49304.28321397889,
          49659.8826377236
         ]
        },
        {
         "line": {
          "color": "grey"
         },
         "mode": "lines",
         "name": "vwmp_lower",
         "type": "scatter",
         "x": [
          "2021-02-24T00:00:00",
          "2021-02-24T00:30:00",
          "2021-02-24T01:00:00",
          "2021-02-24T01:30:00",
          "2021-02-24T02:00:00",
          "2021-02-24T02:30:00",
          "2021-02-24T03:00:00",
          "2021-02-24T03:30:00",
          "2021-02-24T04:00:00",
          "2021-02-24T04:30:00",
          "2021-02-24T05:00:00",
          "2021-02-24T05:30:00",
          "2021-02-24T06:00:00",
          "2021-02-24T06:30:00",
          "2021-02-24T07:00:00",
          "2021-02-24T07:30:00",
          "2021-02-24T08:00:00",
          "2021-02-24T08:30:00",
          "2021-02-24T09:00:00",
          "2021-02-24T09:30:00",
          "2021-02-24T10:00:00",
          "2021-02-24T10:30:00",
          "2021-02-24T11:00:00",
          "2021-02-24T11:30:00",
          "2021-02-24T12:00:00",
          "2021-02-24T12:30:00",
          "2021-02-24T13:00:00",
          "2021-02-24T13:30:00",
          "2021-02-24T14:00:00",
          "2021-02-24T14:30:00",
          "2021-02-24T15:00:00",
          "2021-02-24T15:30:00",
          "2021-02-24T16:00:00",
          "2021-02-24T16:30:00",
          "2021-02-24T17:00:00",
          "2021-02-24T17:30:00",
          "2021-02-24T18:00:00",
          "2021-02-24T18:30:00",
          "2021-02-24T19:00:00",
          "2021-02-24T19:30:00",
          "2021-02-24T20:00:00",
          "2021-02-24T20:30:00",
          "2021-02-24T21:00:00",
          "2021-02-24T21:30:00",
          "2021-02-24T22:00:00",
          "2021-02-24T22:30:00",
          "2021-02-24T23:00:00",
          "2021-02-24T23:30:00"
         ],
         "y": [
          48166.71,
          48199.35,
          48592.2,
          49775.26,
          50275.95,
          50057.64,
          50341.88,
          50527.52,
          51254,
          50680.87,
          51025.96,
          50405.7,
          50487.81,
          49822,
          49804.08,
          50152.64,
          50609.45,
          50743.1,
          50916.42,
          51071.41,
          50615.59,
          50198.17,
          50749.53,
          50350.99,
          50838.29,
          51338.97,
          50243.46,
          49767.15,
          49454.75,
          49176.38,
          49065.58,
          49584.95,
          49800.5,
          49597.17,
          49779,
          49689.75,
          49847,
          49643.11,
          49579.09,
          49332.01,
          48800,
          48744.26,
          48224.21,
          48443.25,
          48479.61,
          48794.03,
          49428.65,
          49681.15
         ]
        }
       ],
       "layout": {
        "height": 300,
        "margin": {
         "b": 20,
         "l": 70,
         "r": 50,
         "t": 50
        },
        "template": {
         "data": {
          "bar": [
           {
            "error_x": {
             "color": "#2a3f5f"
            },
            "error_y": {
             "color": "#2a3f5f"
            },
            "marker": {
             "line": {
              "color": "#E5ECF6",
              "width": 0.5
             },
             "pattern": {
              "fillmode": "overlay",
              "size": 10,
              "solidity": 0.2
             }
            },
            "type": "bar"
           }
          ],
          "barpolar": [
           {
            "marker": {
             "line": {
              "color": "#E5ECF6",
              "width": 0.5
             },
             "pattern": {
              "fillmode": "overlay",
              "size": 10,
              "solidity": 0.2
             }
            },
            "type": "barpolar"
           }
          ],
          "carpet": [
           {
            "aaxis": {
             "endlinecolor": "#2a3f5f",
             "gridcolor": "white",
             "linecolor": "white",
             "minorgridcolor": "white",
             "startlinecolor": "#2a3f5f"
            },
            "baxis": {
             "endlinecolor": "#2a3f5f",
             "gridcolor": "white",
             "linecolor": "white",
             "minorgridcolor": "white",
             "startlinecolor": "#2a3f5f"
            },
            "type": "carpet"
           }
          ],
          "choropleth": [
           {
            "colorbar": {
             "outlinewidth": 0,
             "ticks": ""
            },
            "type": "choropleth"
           }
          ],
          "contour": [
           {
            "colorbar": {
             "outlinewidth": 0,
             "ticks": ""
            },
            "colorscale": [
             [
              0,
              "#0d0887"
             ],
             [
              0.1111111111111111,
              "#46039f"
             ],
             [
              0.2222222222222222,
              "#7201a8"
             ],
             [
              0.3333333333333333,
              "#9c179e"
             ],
             [
              0.4444444444444444,
              "#bd3786"
             ],
             [
              0.5555555555555556,
              "#d8576b"
             ],
             [
              0.6666666666666666,
              "#ed7953"
             ],
             [
              0.7777777777777778,
              "#fb9f3a"
             ],
             [
              0.8888888888888888,
              "#fdca26"
             ],
             [
              1,
              "#f0f921"
             ]
            ],
            "type": "contour"
           }
          ],
          "contourcarpet": [
           {
            "colorbar": {
             "outlinewidth": 0,
             "ticks": ""
            },
            "type": "contourcarpet"
           }
          ],
          "heatmap": [
           {
            "colorbar": {
             "outlinewidth": 0,
             "ticks": ""
            },
            "colorscale": [
             [
              0,
              "#0d0887"
             ],
             [
              0.1111111111111111,
              "#46039f"
             ],
             [
              0.2222222222222222,
              "#7201a8"
             ],
             [
              0.3333333333333333,
              "#9c179e"
             ],
             [
              0.4444444444444444,
              "#bd3786"
             ],
             [
              0.5555555555555556,
              "#d8576b"
             ],
             [
              0.6666666666666666,
              "#ed7953"
             ],
             [
              0.7777777777777778,
              "#fb9f3a"
             ],
             [
              0.8888888888888888,
              "#fdca26"
             ],
             [
              1,
              "#f0f921"
             ]
            ],
            "type": "heatmap"
           }
          ],
          "heatmapgl": [
           {
            "colorbar": {
             "outlinewidth": 0,
             "ticks": ""
            },
            "colorscale": [
             [
              0,
              "#0d0887"
             ],
             [
              0.1111111111111111,
              "#46039f"
             ],
             [
              0.2222222222222222,
              "#7201a8"
             ],
             [
              0.3333333333333333,
              "#9c179e"
             ],
             [
              0.4444444444444444,
              "#bd3786"
             ],
             [
              0.5555555555555556,
              "#d8576b"
             ],
             [
              0.6666666666666666,
              "#ed7953"
             ],
             [
              0.7777777777777778,
              "#fb9f3a"
             ],
             [
              0.8888888888888888,
              "#fdca26"
             ],
             [
              1,
              "#f0f921"
             ]
            ],
            "type": "heatmapgl"
           }
          ],
          "histogram": [
           {
            "marker": {
             "pattern": {
              "fillmode": "overlay",
              "size": 10,
              "solidity": 0.2
             }
            },
            "type": "histogram"
           }
          ],
          "histogram2d": [
           {
            "colorbar": {
             "outlinewidth": 0,
             "ticks": ""
            },
            "colorscale": [
             [
              0,
              "#0d0887"
             ],
             [
              0.1111111111111111,
              "#46039f"
             ],
             [
              0.2222222222222222,
              "#7201a8"
             ],
             [
              0.3333333333333333,
              "#9c179e"
             ],
             [
              0.4444444444444444,
              "#bd3786"
             ],
             [
              0.5555555555555556,
              "#d8576b"
             ],
             [
              0.6666666666666666,
              "#ed7953"
             ],
             [
              0.7777777777777778,
              "#fb9f3a"
             ],
             [
              0.8888888888888888,
              "#fdca26"
             ],
             [
              1,
              "#f0f921"
             ]
            ],
            "type": "histogram2d"
           }
          ],
          "histogram2dcontour": [
           {
            "colorbar": {
             "outlinewidth": 0,
             "ticks": ""
            },
            "colorscale": [
             [
              0,
              "#0d0887"
             ],
             [
              0.1111111111111111,
              "#46039f"
             ],
             [
              0.2222222222222222,
              "#7201a8"
             ],
             [
              0.3333333333333333,
              "#9c179e"
             ],
             [
              0.4444444444444444,
              "#bd3786"
             ],
             [
              0.5555555555555556,
              "#d8576b"
             ],
             [
              0.6666666666666666,
              "#ed7953"
             ],
             [
              0.7777777777777778,
              "#fb9f3a"
             ],
             [
              0.8888888888888888,
              "#fdca26"
             ],
             [
              1,
              "#f0f921"
             ]
            ],
            "type": "histogram2dcontour"
           }
          ],
          "mesh3d": [
           {
            "colorbar": {
             "outlinewidth": 0,
             "ticks": ""
            },
            "type": "mesh3d"
           }
          ],
          "parcoords": [
           {
            "line": {
             "colorbar": {
              "outlinewidth": 0,
              "ticks": ""
             }
            },
            "type": "parcoords"
           }
          ],
          "pie": [
           {
            "automargin": true,
            "type": "pie"
           }
          ],
          "scatter": [
           {
            "fillpattern": {
             "fillmode": "overlay",
             "size": 10,
             "solidity": 0.2
            },
            "type": "scatter"
           }
          ],
          "scatter3d": [
           {
            "line": {
             "colorbar": {
              "outlinewidth": 0,
              "ticks": ""
             }
            },
            "marker": {
             "colorbar": {
              "outlinewidth": 0,
              "ticks": ""
             }
            },
            "type": "scatter3d"
           }
          ],
          "scattercarpet": [
           {
            "marker": {
             "colorbar": {
              "outlinewidth": 0,
              "ticks": ""
             }
            },
            "type": "scattercarpet"
           }
          ],
          "scattergeo": [
           {
            "marker": {
             "colorbar": {
              "outlinewidth": 0,
              "ticks": ""
             }
            },
            "type": "scattergeo"
           }
          ],
          "scattergl": [
           {
            "marker": {
             "colorbar": {
              "outlinewidth": 0,
              "ticks": ""
             }
            },
            "type": "scattergl"
           }
          ],
          "scattermapbox": [
           {
            "marker": {
             "colorbar": {
              "outlinewidth": 0,
              "ticks": ""
             }
            },
            "type": "scattermapbox"
           }
          ],
          "scatterpolar": [
           {
            "marker": {
             "colorbar": {
              "outlinewidth": 0,
              "ticks": ""
             }
            },
            "type": "scatterpolar"
           }
          ],
          "scatterpolargl": [
           {
            "marker": {
             "colorbar": {
              "outlinewidth": 0,
              "ticks": ""
             }
            },
            "type": "scatterpolargl"
           }
          ],
          "scatterternary": [
           {
            "marker": {
             "colorbar": {
              "outlinewidth": 0,
              "ticks": ""
             }
            },
            "type": "scatterternary"
           }
          ],
          "surface": [
           {
            "colorbar": {
             "outlinewidth": 0,
             "ticks": ""
            },
            "colorscale": [
             [
              0,
              "#0d0887"
             ],
             [
              0.1111111111111111,
              "#46039f"
             ],
             [
              0.2222222222222222,
              "#7201a8"
             ],
             [
              0.3333333333333333,
              "#9c179e"
             ],
             [
              0.4444444444444444,
              "#bd3786"
             ],
             [
              0.5555555555555556,
              "#d8576b"
             ],
             [
              0.6666666666666666,
              "#ed7953"
             ],
             [
              0.7777777777777778,
              "#fb9f3a"
             ],
             [
              0.8888888888888888,
              "#fdca26"
             ],
             [
              1,
              "#f0f921"
             ]
            ],
            "type": "surface"
           }
          ],
          "table": [
           {
            "cells": {
             "fill": {
              "color": "#EBF0F8"
             },
             "line": {
              "color": "white"
             }
            },
            "header": {
             "fill": {
              "color": "#C8D4E3"
             },
             "line": {
              "color": "white"
             }
            },
            "type": "table"
           }
          ]
         },
         "layout": {
          "annotationdefaults": {
           "arrowcolor": "#2a3f5f",
           "arrowhead": 0,
           "arrowwidth": 1
          },
          "autotypenumbers": "strict",
          "coloraxis": {
           "colorbar": {
            "outlinewidth": 0,
            "ticks": ""
           }
          },
          "colorscale": {
           "diverging": [
            [
             0,
             "#8e0152"
            ],
            [
             0.1,
             "#c51b7d"
            ],
            [
             0.2,
             "#de77ae"
            ],
            [
             0.3,
             "#f1b6da"
            ],
            [
             0.4,
             "#fde0ef"
            ],
            [
             0.5,
             "#f7f7f7"
            ],
            [
             0.6,
             "#e6f5d0"
            ],
            [
             0.7,
             "#b8e186"
            ],
            [
             0.8,
             "#7fbc41"
            ],
            [
             0.9,
             "#4d9221"
            ],
            [
             1,
             "#276419"
            ]
           ],
           "sequential": [
            [
             0,
             "#0d0887"
            ],
            [
             0.1111111111111111,
             "#46039f"
            ],
            [
             0.2222222222222222,
             "#7201a8"
            ],
            [
             0.3333333333333333,
             "#9c179e"
            ],
            [
             0.4444444444444444,
             "#bd3786"
            ],
            [
             0.5555555555555556,
             "#d8576b"
            ],
            [
             0.6666666666666666,
             "#ed7953"
            ],
            [
             0.7777777777777778,
             "#fb9f3a"
            ],
            [
             0.8888888888888888,
             "#fdca26"
            ],
            [
             1,
             "#f0f921"
            ]
           ],
           "sequentialminus": [
            [
             0,
             "#0d0887"
            ],
            [
             0.1111111111111111,
             "#46039f"
            ],
            [
             0.2222222222222222,
             "#7201a8"
            ],
            [
             0.3333333333333333,
             "#9c179e"
            ],
            [
             0.4444444444444444,
             "#bd3786"
            ],
            [
             0.5555555555555556,
             "#d8576b"
            ],
            [
             0.6666666666666666,
             "#ed7953"
            ],
            [
             0.7777777777777778,
             "#fb9f3a"
            ],
            [
             0.8888888888888888,
             "#fdca26"
            ],
            [
             1,
             "#f0f921"
            ]
           ]
          },
          "colorway": [
           "#636efa",
           "#EF553B",
           "#00cc96",
           "#ab63fa",
           "#FFA15A",
           "#19d3f3",
           "#FF6692",
           "#B6E880",
           "#FF97FF",
           "#FECB52"
          ],
          "font": {
           "color": "#2a3f5f"
          },
          "geo": {
           "bgcolor": "white",
           "lakecolor": "white",
           "landcolor": "#E5ECF6",
           "showlakes": true,
           "showland": true,
           "subunitcolor": "white"
          },
          "hoverlabel": {
           "align": "left"
          },
          "hovermode": "closest",
          "mapbox": {
           "style": "light"
          },
          "paper_bgcolor": "white",
          "plot_bgcolor": "#E5ECF6",
          "polar": {
           "angularaxis": {
            "gridcolor": "white",
            "linecolor": "white",
            "ticks": ""
           },
           "bgcolor": "#E5ECF6",
           "radialaxis": {
            "gridcolor": "white",
            "linecolor": "white",
            "ticks": ""
           }
          },
          "scene": {
           "xaxis": {
            "backgroundcolor": "#E5ECF6",
            "gridcolor": "white",
            "gridwidth": 2,
            "linecolor": "white",
            "showbackground": true,
            "ticks": "",
            "zerolinecolor": "white"
           },
           "yaxis": {
            "backgroundcolor": "#E5ECF6",
            "gridcolor": "white",
            "gridwidth": 2,
            "linecolor": "white",
            "showbackground": true,
            "ticks": "",
            "zerolinecolor": "white"
           },
           "zaxis": {
            "backgroundcolor": "#E5ECF6",
            "gridcolor": "white",
            "gridwidth": 2,
            "linecolor": "white",
            "showbackground": true,
            "ticks": "",
            "zerolinecolor": "white"
           }
          },
          "shapedefaults": {
           "line": {
            "color": "#2a3f5f"
           }
          },
          "ternary": {
           "aaxis": {
            "gridcolor": "white",
            "linecolor": "white",
            "ticks": ""
           },
           "baxis": {
            "gridcolor": "white",
            "linecolor": "white",
            "ticks": ""
           },
           "bgcolor": "#E5ECF6",
           "caxis": {
            "gridcolor": "white",
            "linecolor": "white",
            "ticks": ""
           }
          },
          "title": {
           "x": 0.05
          },
          "xaxis": {
           "automargin": true,
           "gridcolor": "white",
           "linecolor": "white",
           "ticks": "",
           "title": {
            "standoff": 15
           },
           "zerolinecolor": "white",
           "zerolinewidth": 2
          },
          "yaxis": {
           "automargin": true,
           "gridcolor": "white",
           "linecolor": "white",
           "ticks": "",
           "title": {
            "standoff": 15
           },
           "zerolinecolor": "white",
           "zerolinewidth": 2
          }
         }
        },
        "title": {
         "text": "Exchange - [okcn]"
        },
        "width": 800,
        "yaxis": {
         "title": {
          "text": "Price"
         }
        }
       }
      }
     },
     "metadata": {},
     "output_type": "display_data"
    },
    {
     "data": {
      "application/vnd.plotly.v1+json": {
       "config": {
        "plotlyServerURL": "https://plot.ly"
       },
       "data": [
        {
         "close": [
          47225.25,
          48485.25,
          49170.5,
          50193.25,
          50017,
          50215.5,
          50262.75,
          50913.25,
          50701,
          50650.5,
          50414,
          50234.5,
          49668.5,
          50104.75,
          49698.75,
          50085.5,
          50670.75,
          50680.25,
          50800.75,
          50929.5,
          50440.75,
          50140.25,
          50800.25,
          50400.25,
          51130.5,
          50734,
          49624,
          49506.75,
          49502.75,
          49427.25,
          49149.25,
          49862.5,
          49511.5,
          49385.75,
          49760.25,
          50096,
          49720.25,
          49612.5,
          49460,
          48990.5,
          48920.25,
          49167,
          48200.5,
          48798.5,
          48699,
          48833.25,
          49355.25,
          49753.5
         ],
         "high": [
          49100,
          48485.25,
          49333,
          50208.25,
          50560.25,
          50466.25,
          50529,
          50991.25,
          51391.5,
          50965.25,
          51046.5,
          50552.25,
          50687.75,
          50419.75,
          50199.25,
          50327.75,
          50910,
          50868.75,
          51000,
          51397,
          51041.75,
          50647.75,
          50928,
          50851,
          51227,
          51345.25,
          51095.25,
          49898.5,
          49811.25,
          49710.75,
          49640,
          49879.5,
          50169.75,
          49860,
          50000,
          50105.5,
          50095.75,
          50015.5,
          49742.25,
          49460,
          49260.75,
          49228.75,
          49192.75,
          48927.75,
          48765.25,
          48975,
          49533.25,
          49772.5
         ],
         "low": [
          47022,
          47270.25,
          48447.75,
          48791.25,
          49821.5,
          50027,
          50073,
          50244,
          50696.5,
          50353.5,
          50016,
          50209,
          49500,
          49601.75,
          49555.25,
          49713.25,
          49842,
          50398.75,
          50420,
          50796,
          50198.25,
          50127.25,
          50160,
          50227.75,
          50400.25,
          50680.25,
          49523.75,
          49082,
          49200.25,
          48777,
          48495.75,
          49060.25,
          49460,
          49380,
          49391.5,
          49651.5,
          49510,
          49600.25,
          49400,
          48893,
          48800.25,
          48642,
          48184.75,
          48150.25,
          48100.25,
          48523.5,
          48775,
          49360
         ],
         "open": [
          48919.5,
          47270.25,
          48485.25,
          49205.5,
          50193.25,
          50044,
          50166.25,
          50282.25,
          50913.25,
          50703.5,
          50656.5,
          50401.75,
          50248.25,
          49687.25,
          50104.75,
          49713.25,
          50109.5,
          50660,
          50680.25,
          50810,
          50940,
          50495.75,
          50180,
          50800.25,
          50402.25,
          51167.5,
          50762.75,
          49658.25,
          49540.25,
          49520.5,
          49433.25,
          49149,
          49879.5,
          49526,
          49425.75,
          49763,
          50095.75,
          49681,
          49624.25,
          49460,
          48973,
          48920.25,
          49131.5,
          48221.5,
          48765,
          48720,
          48775,
          49360
         ],
         "type": "candlestick",
         "x": [
          "2021-02-24T00:00:00",
          "2021-02-24T00:30:00",
          "2021-02-24T01:00:00",
          "2021-02-24T01:30:00",
          "2021-02-24T02:00:00",
          "2021-02-24T02:30:00",
          "2021-02-24T03:00:00",
          "2021-02-24T03:30:00",
          "2021-02-24T04:00:00",
          "2021-02-24T04:30:00",
          "2021-02-24T05:00:00",
          "2021-02-24T05:30:00",
          "2021-02-24T06:00:00",
          "2021-02-24T06:30:00",
          "2021-02-24T07:00:00",
          "2021-02-24T07:30:00",
          "2021-02-24T08:00:00",
          "2021-02-24T08:30:00",
          "2021-02-24T09:00:00",
          "2021-02-24T09:30:00",
          "2021-02-24T10:00:00",
          "2021-02-24T10:30:00",
          "2021-02-24T11:00:00",
          "2021-02-24T11:30:00",
          "2021-02-24T12:00:00",
          "2021-02-24T12:30:00",
          "2021-02-24T13:00:00",
          "2021-02-24T13:30:00",
          "2021-02-24T14:00:00",
          "2021-02-24T14:30:00",
          "2021-02-24T15:00:00",
          "2021-02-24T15:30:00",
          "2021-02-24T16:00:00",
          "2021-02-24T16:30:00",
          "2021-02-24T17:00:00",
          "2021-02-24T17:30:00",
          "2021-02-24T18:00:00",
          "2021-02-24T18:30:00",
          "2021-02-24T19:00:00",
          "2021-02-24T19:30:00",
          "2021-02-24T20:00:00",
          "2021-02-24T20:30:00",
          "2021-02-24T21:00:00",
          "2021-02-24T21:30:00",
          "2021-02-24T22:00:00",
          "2021-02-24T22:30:00",
          "2021-02-24T23:00:00",
          "2021-02-24T23:30:00"
         ]
        },
        {
         "line": {
          "color": "blue"
         },
         "mode": "lines",
         "name": "VWAP",
         "type": "scatter",
         "x": [
          "2021-02-24T00:00:00",
          "2021-02-24T00:30:00",
          "2021-02-24T01:00:00",
          "2021-02-24T01:30:00",
          "2021-02-24T02:00:00",
          "2021-02-24T02:30:00",
          "2021-02-24T03:00:00",
          "2021-02-24T03:30:00",
          "2021-02-24T04:00:00",
          "2021-02-24T04:30:00",
          "2021-02-24T05:00:00",
          "2021-02-24T05:30:00",
          "2021-02-24T06:00:00",
          "2021-02-24T06:30:00",
          "2021-02-24T07:00:00",
          "2021-02-24T07:30:00",
          "2021-02-24T08:00:00",
          "2021-02-24T08:30:00",
          "2021-02-24T09:00:00",
          "2021-02-24T09:30:00",
          "2021-02-24T10:00:00",
          "2021-02-24T10:30:00",
          "2021-02-24T11:00:00",
          "2021-02-24T11:30:00",
          "2021-02-24T12:00:00",
          "2021-02-24T12:30:00",
          "2021-02-24T13:00:00",
          "2021-02-24T13:30:00",
          "2021-02-24T14:00:00",
          "2021-02-24T14:30:00",
          "2021-02-24T15:00:00",
          "2021-02-24T15:30:00",
          "2021-02-24T16:00:00",
          "2021-02-24T16:30:00",
          "2021-02-24T17:00:00",
          "2021-02-24T17:30:00",
          "2021-02-24T18:00:00",
          "2021-02-24T18:30:00",
          "2021-02-24T19:00:00",
          "2021-02-24T19:30:00",
          "2021-02-24T20:00:00",
          "2021-02-24T20:30:00",
          "2021-02-24T21:00:00",
          "2021-02-24T21:30:00",
          "2021-02-24T22:00:00",
          "2021-02-24T22:30:00",
          "2021-02-24T23:00:00",
          "2021-02-24T23:30:00"
         ],
         "y": [
          47792.64791733564,
          47731.39805630975,
          49053.23496340712,
          49699.858553084276,
          50259.68637999233,
          50261.77038380215,
          50335.970554132786,
          50674.239201183846,
          51100.19868776709,
          50746.54900305449,
          50438.80916356138,
          50387.8022391734,
          49935.2381465101,
          49801.651058643474,
          49872.43034835946,
          50099.62185682717,
          50555.91462002064,
          50666.71540260816,
          50646.12961346473,
          51121.595287589174,
          50659.21395836516,
          50494.694898851645,
          50501.41898419345,
          50500.50874998408,
          50810.778749429235,
          51088.59860667398,
          49993.527377470295,
          49475.28922213887,
          49499.4789409213,
          49127.35592539649,
          48918.11377597517,
          49456.17368335164,
          49812.778642160236,
          49667.328871246966,
          49795.69005058584,
          49846.26023493838,
          49771.31886679144,
          49823.237162065016,
          49536.193397449584,
          49120.48011017311,
          49002.3425242562,
          48808.589437666946,
          48587.40511750065,
          48465.47691921998,
          48352.760898420274,
          48744.939195924526,
          49258.18393659634,
          49611.91446665464
         ]
        },
        {
         "line": {
          "color": "grey"
         },
         "mode": "lines",
         "name": "vwmp_lower",
         "type": "scatter",
         "x": [
          "2021-02-24T00:00:00",
          "2021-02-24T00:30:00",
          "2021-02-24T01:00:00",
          "2021-02-24T01:30:00",
          "2021-02-24T02:00:00",
          "2021-02-24T02:30:00",
          "2021-02-24T03:00:00",
          "2021-02-24T03:30:00",
          "2021-02-24T04:00:00",
          "2021-02-24T04:30:00",
          "2021-02-24T05:00:00",
          "2021-02-24T05:30:00",
          "2021-02-24T06:00:00",
          "2021-02-24T06:30:00",
          "2021-02-24T07:00:00",
          "2021-02-24T07:30:00",
          "2021-02-24T08:00:00",
          "2021-02-24T08:30:00",
          "2021-02-24T09:00:00",
          "2021-02-24T09:30:00",
          "2021-02-24T10:00:00",
          "2021-02-24T10:30:00",
          "2021-02-24T11:00:00",
          "2021-02-24T11:30:00",
          "2021-02-24T12:00:00",
          "2021-02-24T12:30:00",
          "2021-02-24T13:00:00",
          "2021-02-24T13:30:00",
          "2021-02-24T14:00:00",
          "2021-02-24T14:30:00",
          "2021-02-24T15:00:00",
          "2021-02-24T15:30:00",
          "2021-02-24T16:00:00",
          "2021-02-24T16:30:00",
          "2021-02-24T17:00:00",
          "2021-02-24T17:30:00",
          "2021-02-24T18:00:00",
          "2021-02-24T18:30:00",
          "2021-02-24T19:00:00",
          "2021-02-24T19:30:00",
          "2021-02-24T20:00:00",
          "2021-02-24T20:30:00",
          "2021-02-24T21:00:00",
          "2021-02-24T21:30:00",
          "2021-02-24T22:00:00",
          "2021-02-24T22:30:00",
          "2021-02-24T23:00:00",
          "2021-02-24T23:30:00"
         ],
         "y": [
          48200,
          47806.75,
          49016.25,
          49700,
          50467,
          50333.25,
          50326.75,
          50940,
          51012,
          50732.5,
          50994.5,
          50455.75,
          50530,
          49735.75,
          50130.75,
          49996.5,
          50600,
          50661.5,
          50440.5,
          50908.5,
          50499,
          50300,
          50409.75,
          50360.25,
          50520.25,
          50840.25,
          50066,
          49351.25,
          49528.25,
          49520.5,
          48952.75,
          49469,
          49985.75,
          49761.25,
          49897.75,
          49999,
          50020.25,
          49612.75,
          49520,
          48945.5,
          49162,
          49010.5,
          48538.25,
          48420.25,
          48150,
          48795.5,
          48893.5,
          49676.25
         ]
        }
       ],
       "layout": {
        "height": 300,
        "margin": {
         "b": 20,
         "l": 70,
         "r": 50,
         "t": 50
        },
        "template": {
         "data": {
          "bar": [
           {
            "error_x": {
             "color": "#2a3f5f"
            },
            "error_y": {
             "color": "#2a3f5f"
            },
            "marker": {
             "line": {
              "color": "#E5ECF6",
              "width": 0.5
             },
             "pattern": {
              "fillmode": "overlay",
              "size": 10,
              "solidity": 0.2
             }
            },
            "type": "bar"
           }
          ],
          "barpolar": [
           {
            "marker": {
             "line": {
              "color": "#E5ECF6",
              "width": 0.5
             },
             "pattern": {
              "fillmode": "overlay",
              "size": 10,
              "solidity": 0.2
             }
            },
            "type": "barpolar"
           }
          ],
          "carpet": [
           {
            "aaxis": {
             "endlinecolor": "#2a3f5f",
             "gridcolor": "white",
             "linecolor": "white",
             "minorgridcolor": "white",
             "startlinecolor": "#2a3f5f"
            },
            "baxis": {
             "endlinecolor": "#2a3f5f",
             "gridcolor": "white",
             "linecolor": "white",
             "minorgridcolor": "white",
             "startlinecolor": "#2a3f5f"
            },
            "type": "carpet"
           }
          ],
          "choropleth": [
           {
            "colorbar": {
             "outlinewidth": 0,
             "ticks": ""
            },
            "type": "choropleth"
           }
          ],
          "contour": [
           {
            "colorbar": {
             "outlinewidth": 0,
             "ticks": ""
            },
            "colorscale": [
             [
              0,
              "#0d0887"
             ],
             [
              0.1111111111111111,
              "#46039f"
             ],
             [
              0.2222222222222222,
              "#7201a8"
             ],
             [
              0.3333333333333333,
              "#9c179e"
             ],
             [
              0.4444444444444444,
              "#bd3786"
             ],
             [
              0.5555555555555556,
              "#d8576b"
             ],
             [
              0.6666666666666666,
              "#ed7953"
             ],
             [
              0.7777777777777778,
              "#fb9f3a"
             ],
             [
              0.8888888888888888,
              "#fdca26"
             ],
             [
              1,
              "#f0f921"
             ]
            ],
            "type": "contour"
           }
          ],
          "contourcarpet": [
           {
            "colorbar": {
             "outlinewidth": 0,
             "ticks": ""
            },
            "type": "contourcarpet"
           }
          ],
          "heatmap": [
           {
            "colorbar": {
             "outlinewidth": 0,
             "ticks": ""
            },
            "colorscale": [
             [
              0,
              "#0d0887"
             ],
             [
              0.1111111111111111,
              "#46039f"
             ],
             [
              0.2222222222222222,
              "#7201a8"
             ],
             [
              0.3333333333333333,
              "#9c179e"
             ],
             [
              0.4444444444444444,
              "#bd3786"
             ],
             [
              0.5555555555555556,
              "#d8576b"
             ],
             [
              0.6666666666666666,
              "#ed7953"
             ],
             [
              0.7777777777777778,
              "#fb9f3a"
             ],
             [
              0.8888888888888888,
              "#fdca26"
             ],
             [
              1,
              "#f0f921"
             ]
            ],
            "type": "heatmap"
           }
          ],
          "heatmapgl": [
           {
            "colorbar": {
             "outlinewidth": 0,
             "ticks": ""
            },
            "colorscale": [
             [
              0,
              "#0d0887"
             ],
             [
              0.1111111111111111,
              "#46039f"
             ],
             [
              0.2222222222222222,
              "#7201a8"
             ],
             [
              0.3333333333333333,
              "#9c179e"
             ],
             [
              0.4444444444444444,
              "#bd3786"
             ],
             [
              0.5555555555555556,
              "#d8576b"
             ],
             [
              0.6666666666666666,
              "#ed7953"
             ],
             [
              0.7777777777777778,
              "#fb9f3a"
             ],
             [
              0.8888888888888888,
              "#fdca26"
             ],
             [
              1,
              "#f0f921"
             ]
            ],
            "type": "heatmapgl"
           }
          ],
          "histogram": [
           {
            "marker": {
             "pattern": {
              "fillmode": "overlay",
              "size": 10,
              "solidity": 0.2
             }
            },
            "type": "histogram"
           }
          ],
          "histogram2d": [
           {
            "colorbar": {
             "outlinewidth": 0,
             "ticks": ""
            },
            "colorscale": [
             [
              0,
              "#0d0887"
             ],
             [
              0.1111111111111111,
              "#46039f"
             ],
             [
              0.2222222222222222,
              "#7201a8"
             ],
             [
              0.3333333333333333,
              "#9c179e"
             ],
             [
              0.4444444444444444,
              "#bd3786"
             ],
             [
              0.5555555555555556,
              "#d8576b"
             ],
             [
              0.6666666666666666,
              "#ed7953"
             ],
             [
              0.7777777777777778,
              "#fb9f3a"
             ],
             [
              0.8888888888888888,
              "#fdca26"
             ],
             [
              1,
              "#f0f921"
             ]
            ],
            "type": "histogram2d"
           }
          ],
          "histogram2dcontour": [
           {
            "colorbar": {
             "outlinewidth": 0,
             "ticks": ""
            },
            "colorscale": [
             [
              0,
              "#0d0887"
             ],
             [
              0.1111111111111111,
              "#46039f"
             ],
             [
              0.2222222222222222,
              "#7201a8"
             ],
             [
              0.3333333333333333,
              "#9c179e"
             ],
             [
              0.4444444444444444,
              "#bd3786"
             ],
             [
              0.5555555555555556,
              "#d8576b"
             ],
             [
              0.6666666666666666,
              "#ed7953"
             ],
             [
              0.7777777777777778,
              "#fb9f3a"
             ],
             [
              0.8888888888888888,
              "#fdca26"
             ],
             [
              1,
              "#f0f921"
             ]
            ],
            "type": "histogram2dcontour"
           }
          ],
          "mesh3d": [
           {
            "colorbar": {
             "outlinewidth": 0,
             "ticks": ""
            },
            "type": "mesh3d"
           }
          ],
          "parcoords": [
           {
            "line": {
             "colorbar": {
              "outlinewidth": 0,
              "ticks": ""
             }
            },
            "type": "parcoords"
           }
          ],
          "pie": [
           {
            "automargin": true,
            "type": "pie"
           }
          ],
          "scatter": [
           {
            "fillpattern": {
             "fillmode": "overlay",
             "size": 10,
             "solidity": 0.2
            },
            "type": "scatter"
           }
          ],
          "scatter3d": [
           {
            "line": {
             "colorbar": {
              "outlinewidth": 0,
              "ticks": ""
             }
            },
            "marker": {
             "colorbar": {
              "outlinewidth": 0,
              "ticks": ""
             }
            },
            "type": "scatter3d"
           }
          ],
          "scattercarpet": [
           {
            "marker": {
             "colorbar": {
              "outlinewidth": 0,
              "ticks": ""
             }
            },
            "type": "scattercarpet"
           }
          ],
          "scattergeo": [
           {
            "marker": {
             "colorbar": {
              "outlinewidth": 0,
              "ticks": ""
             }
            },
            "type": "scattergeo"
           }
          ],
          "scattergl": [
           {
            "marker": {
             "colorbar": {
              "outlinewidth": 0,
              "ticks": ""
             }
            },
            "type": "scattergl"
           }
          ],
          "scattermapbox": [
           {
            "marker": {
             "colorbar": {
              "outlinewidth": 0,
              "ticks": ""
             }
            },
            "type": "scattermapbox"
           }
          ],
          "scatterpolar": [
           {
            "marker": {
             "colorbar": {
              "outlinewidth": 0,
              "ticks": ""
             }
            },
            "type": "scatterpolar"
           }
          ],
          "scatterpolargl": [
           {
            "marker": {
             "colorbar": {
              "outlinewidth": 0,
              "ticks": ""
             }
            },
            "type": "scatterpolargl"
           }
          ],
          "scatterternary": [
           {
            "marker": {
             "colorbar": {
              "outlinewidth": 0,
              "ticks": ""
             }
            },
            "type": "scatterternary"
           }
          ],
          "surface": [
           {
            "colorbar": {
             "outlinewidth": 0,
             "ticks": ""
            },
            "colorscale": [
             [
              0,
              "#0d0887"
             ],
             [
              0.1111111111111111,
              "#46039f"
             ],
             [
              0.2222222222222222,
              "#7201a8"
             ],
             [
              0.3333333333333333,
              "#9c179e"
             ],
             [
              0.4444444444444444,
              "#bd3786"
             ],
             [
              0.5555555555555556,
              "#d8576b"
             ],
             [
              0.6666666666666666,
              "#ed7953"
             ],
             [
              0.7777777777777778,
              "#fb9f3a"
             ],
             [
              0.8888888888888888,
              "#fdca26"
             ],
             [
              1,
              "#f0f921"
             ]
            ],
            "type": "surface"
           }
          ],
          "table": [
           {
            "cells": {
             "fill": {
              "color": "#EBF0F8"
             },
             "line": {
              "color": "white"
             }
            },
            "header": {
             "fill": {
              "color": "#C8D4E3"
             },
             "line": {
              "color": "white"
             }
            },
            "type": "table"
           }
          ]
         },
         "layout": {
          "annotationdefaults": {
           "arrowcolor": "#2a3f5f",
           "arrowhead": 0,
           "arrowwidth": 1
          },
          "autotypenumbers": "strict",
          "coloraxis": {
           "colorbar": {
            "outlinewidth": 0,
            "ticks": ""
           }
          },
          "colorscale": {
           "diverging": [
            [
             0,
             "#8e0152"
            ],
            [
             0.1,
             "#c51b7d"
            ],
            [
             0.2,
             "#de77ae"
            ],
            [
             0.3,
             "#f1b6da"
            ],
            [
             0.4,
             "#fde0ef"
            ],
            [
             0.5,
             "#f7f7f7"
            ],
            [
             0.6,
             "#e6f5d0"
            ],
            [
             0.7,
             "#b8e186"
            ],
            [
             0.8,
             "#7fbc41"
            ],
            [
             0.9,
             "#4d9221"
            ],
            [
             1,
             "#276419"
            ]
           ],
           "sequential": [
            [
             0,
             "#0d0887"
            ],
            [
             0.1111111111111111,
             "#46039f"
            ],
            [
             0.2222222222222222,
             "#7201a8"
            ],
            [
             0.3333333333333333,
             "#9c179e"
            ],
            [
             0.4444444444444444,
             "#bd3786"
            ],
            [
             0.5555555555555556,
             "#d8576b"
            ],
            [
             0.6666666666666666,
             "#ed7953"
            ],
            [
             0.7777777777777778,
             "#fb9f3a"
            ],
            [
             0.8888888888888888,
             "#fdca26"
            ],
            [
             1,
             "#f0f921"
            ]
           ],
           "sequentialminus": [
            [
             0,
             "#0d0887"
            ],
            [
             0.1111111111111111,
             "#46039f"
            ],
            [
             0.2222222222222222,
             "#7201a8"
            ],
            [
             0.3333333333333333,
             "#9c179e"
            ],
            [
             0.4444444444444444,
             "#bd3786"
            ],
            [
             0.5555555555555556,
             "#d8576b"
            ],
            [
             0.6666666666666666,
             "#ed7953"
            ],
            [
             0.7777777777777778,
             "#fb9f3a"
            ],
            [
             0.8888888888888888,
             "#fdca26"
            ],
            [
             1,
             "#f0f921"
            ]
           ]
          },
          "colorway": [
           "#636efa",
           "#EF553B",
           "#00cc96",
           "#ab63fa",
           "#FFA15A",
           "#19d3f3",
           "#FF6692",
           "#B6E880",
           "#FF97FF",
           "#FECB52"
          ],
          "font": {
           "color": "#2a3f5f"
          },
          "geo": {
           "bgcolor": "white",
           "lakecolor": "white",
           "landcolor": "#E5ECF6",
           "showlakes": true,
           "showland": true,
           "subunitcolor": "white"
          },
          "hoverlabel": {
           "align": "left"
          },
          "hovermode": "closest",
          "mapbox": {
           "style": "light"
          },
          "paper_bgcolor": "white",
          "plot_bgcolor": "#E5ECF6",
          "polar": {
           "angularaxis": {
            "gridcolor": "white",
            "linecolor": "white",
            "ticks": ""
           },
           "bgcolor": "#E5ECF6",
           "radialaxis": {
            "gridcolor": "white",
            "linecolor": "white",
            "ticks": ""
           }
          },
          "scene": {
           "xaxis": {
            "backgroundcolor": "#E5ECF6",
            "gridcolor": "white",
            "gridwidth": 2,
            "linecolor": "white",
            "showbackground": true,
            "ticks": "",
            "zerolinecolor": "white"
           },
           "yaxis": {
            "backgroundcolor": "#E5ECF6",
            "gridcolor": "white",
            "gridwidth": 2,
            "linecolor": "white",
            "showbackground": true,
            "ticks": "",
            "zerolinecolor": "white"
           },
           "zaxis": {
            "backgroundcolor": "#E5ECF6",
            "gridcolor": "white",
            "gridwidth": 2,
            "linecolor": "white",
            "showbackground": true,
            "ticks": "",
            "zerolinecolor": "white"
           }
          },
          "shapedefaults": {
           "line": {
            "color": "#2a3f5f"
           }
          },
          "ternary": {
           "aaxis": {
            "gridcolor": "white",
            "linecolor": "white",
            "ticks": ""
           },
           "baxis": {
            "gridcolor": "white",
            "linecolor": "white",
            "ticks": ""
           },
           "bgcolor": "#E5ECF6",
           "caxis": {
            "gridcolor": "white",
            "linecolor": "white",
            "ticks": ""
           }
          },
          "title": {
           "x": 0.05
          },
          "xaxis": {
           "automargin": true,
           "gridcolor": "white",
           "linecolor": "white",
           "ticks": "",
           "title": {
            "standoff": 15
           },
           "zerolinecolor": "white",
           "zerolinewidth": 2
          },
          "yaxis": {
           "automargin": true,
           "gridcolor": "white",
           "linecolor": "white",
           "ticks": "",
           "title": {
            "standoff": 15
           },
           "zerolinecolor": "white",
           "zerolinewidth": 2
          }
         }
        },
        "title": {
         "text": "Exchange - [itbi]"
        },
        "width": 800,
        "yaxis": {
         "title": {
          "text": "Price"
         }
        }
       }
      }
     },
     "metadata": {},
     "output_type": "display_data"
    },
    {
     "data": {
      "application/vnd.plotly.v1+json": {
       "config": {
        "plotlyServerURL": "https://plot.ly"
       },
       "data": [
        {
         "close": [
          47260,
          48500,
          49214.54,
          50227.97,
          50063.91,
          50244.25,
          50276.37,
          50965.74,
          50730.36,
          50645.41,
          50406.91,
          50212.6,
          49610.76,
          50140.49,
          49679.13,
          50095,
          50596.94,
          50684.06,
          50789.26,
          50901.73,
          50455.23,
          50121.89,
          50778.39,
          50360.62,
          51140.64,
          50742.99,
          49598.12,
          49470.1,
          49507.37,
          49424.75,
          49170.86,
          49869.66,
          49494.88,
          49393.64,
          49772.89,
          50095.84,
          49681.96,
          49612,
          49479.2,
          48974.48,
          48907.6,
          49179.75,
          48218.64,
          48811.21,
          48728.78,
          48894.23,
          49347.98,
          49766.06
         ],
         "high": [
          49130.5,
          48526.33,
          49380,
          50331.36,
          50613.36,
          50475,
          50573.45,
          51000,
          51397.44,
          50966.54,
          51015.63,
          50546.71,
          50703.1,
          50428.29,
          50183.63,
          50363.01,
          50899,
          50904.42,
          51058.84,
          51442.01,
          51044.54,
          50644.76,
          50957.67,
          50880.7,
          51212.69,
          51364.74,
          51114.68,
          49873.56,
          49792.18,
          49679.39,
          49669.02,
          49890.38,
          50138.01,
          49907.16,
          50016.49,
          50126.6,
          50128,
          50033.53,
          49732.31,
          49472.89,
          49255.71,
          49255.52,
          49171.5,
          48968.01,
          48790.49,
          49004.72,
          49579.74,
          49809.31
         ],
         "low": [
          47000.01,
          47243.76,
          48442.89,
          48764.28,
          49833,
          50033.6,
          50054.16,
          50236.69,
          50680.4,
          50350.01,
          50002.51,
          50200,
          49450.82,
          49543.68,
          49526.44,
          49704.76,
          49845.77,
          50302.63,
          50351.27,
          50789.26,
          50175.98,
          50121.89,
          50121.89,
          50238.25,
          50377.9,
          50614.12,
          49484.99,
          48940.12,
          49150,
          48730.24,
          48481.21,
          49009.85,
          49415.39,
          49306.35,
          49385.52,
          49647.68,
          49552.45,
          49602.48,
          49352.38,
          48900,
          48782.42,
          48626.66,
          48139,
          48139,
          48113.83,
          48505.47,
          48786.49,
          49401.74
         ],
         "open": [
          48923.48,
          47247.96,
          48510.28,
          49233.05,
          50257.72,
          50086.98,
          50200,
          50276.37,
          50943.71,
          50729.44,
          50713.91,
          50378.51,
          50253.37,
          49642.27,
          50125.63,
          49717.54,
          50041.59,
          50649.48,
          50689.09,
          50810.3,
          50915.34,
          50442.21,
          50152.87,
          50788.33,
          50409.14,
          51165.27,
          50784.52,
          49620.52,
          49480.62,
          49507.37,
          49435.86,
          49170.86,
          49898.58,
          49537.49,
          49391.94,
          49771.38,
          50122.58,
          49680.21,
          49612,
          49472.89,
          48971.4,
          48906.88,
          49106.84,
          48228.98,
          48790.49,
          48735.81,
          48852.32,
          49409.24
         ],
         "type": "candlestick",
         "x": [
          "2021-02-24T00:00:00",
          "2021-02-24T00:30:00",
          "2021-02-24T01:00:00",
          "2021-02-24T01:30:00",
          "2021-02-24T02:00:00",
          "2021-02-24T02:30:00",
          "2021-02-24T03:00:00",
          "2021-02-24T03:30:00",
          "2021-02-24T04:00:00",
          "2021-02-24T04:30:00",
          "2021-02-24T05:00:00",
          "2021-02-24T05:30:00",
          "2021-02-24T06:00:00",
          "2021-02-24T06:30:00",
          "2021-02-24T07:00:00",
          "2021-02-24T07:30:00",
          "2021-02-24T08:00:00",
          "2021-02-24T08:30:00",
          "2021-02-24T09:00:00",
          "2021-02-24T09:30:00",
          "2021-02-24T10:00:00",
          "2021-02-24T10:30:00",
          "2021-02-24T11:00:00",
          "2021-02-24T11:30:00",
          "2021-02-24T12:00:00",
          "2021-02-24T12:30:00",
          "2021-02-24T13:00:00",
          "2021-02-24T13:30:00",
          "2021-02-24T14:00:00",
          "2021-02-24T14:30:00",
          "2021-02-24T15:00:00",
          "2021-02-24T15:30:00",
          "2021-02-24T16:00:00",
          "2021-02-24T16:30:00",
          "2021-02-24T17:00:00",
          "2021-02-24T17:30:00",
          "2021-02-24T18:00:00",
          "2021-02-24T18:30:00",
          "2021-02-24T19:00:00",
          "2021-02-24T19:30:00",
          "2021-02-24T20:00:00",
          "2021-02-24T20:30:00",
          "2021-02-24T21:00:00",
          "2021-02-24T21:30:00",
          "2021-02-24T22:00:00",
          "2021-02-24T22:30:00",
          "2021-02-24T23:00:00",
          "2021-02-24T23:30:00"
         ]
        },
        {
         "line": {
          "color": "blue"
         },
         "mode": "lines",
         "name": "VWAP",
         "type": "scatter",
         "x": [
          "2021-02-24T00:00:00",
          "2021-02-24T00:30:00",
          "2021-02-24T01:00:00",
          "2021-02-24T01:30:00",
          "2021-02-24T02:00:00",
          "2021-02-24T02:30:00",
          "2021-02-24T03:00:00",
          "2021-02-24T03:30:00",
          "2021-02-24T04:00:00",
          "2021-02-24T04:30:00",
          "2021-02-24T05:00:00",
          "2021-02-24T05:30:00",
          "2021-02-24T06:00:00",
          "2021-02-24T06:30:00",
          "2021-02-24T07:00:00",
          "2021-02-24T07:30:00",
          "2021-02-24T08:00:00",
          "2021-02-24T08:30:00",
          "2021-02-24T09:00:00",
          "2021-02-24T09:30:00",
          "2021-02-24T10:00:00",
          "2021-02-24T10:30:00",
          "2021-02-24T11:00:00",
          "2021-02-24T11:30:00",
          "2021-02-24T12:00:00",
          "2021-02-24T12:30:00",
          "2021-02-24T13:00:00",
          "2021-02-24T13:30:00",
          "2021-02-24T14:00:00",
          "2021-02-24T14:30:00",
          "2021-02-24T15:00:00",
          "2021-02-24T15:30:00",
          "2021-02-24T16:00:00",
          "2021-02-24T16:30:00",
          "2021-02-24T17:00:00",
          "2021-02-24T17:30:00",
          "2021-02-24T18:00:00",
          "2021-02-24T18:30:00",
          "2021-02-24T19:00:00",
          "2021-02-24T19:30:00",
          "2021-02-24T20:00:00",
          "2021-02-24T20:30:00",
          "2021-02-24T21:00:00",
          "2021-02-24T21:30:00",
          "2021-02-24T22:00:00",
          "2021-02-24T22:30:00",
          "2021-02-24T23:00:00",
          "2021-02-24T23:30:00"
         ],
         "y": [
          48088.05724060977,
          47739.525201763834,
          48920.44041729446,
          49792.44107688895,
          50243.57274717887,
          50313.83776542457,
          50419.054950812286,
          50606.32791341467,
          51091.57227923541,
          50675.50795482062,
          50619.29798114271,
          50363.77643936219,
          49969.43703633729,
          49861.23479504169,
          49836.20838781554,
          50147.51346846708,
          50298.3393540203,
          50611.9844473016,
          50654.721982642244,
          51160.8076347489,
          50527.252509298334,
          50457.78889913752,
          50411.35447212552,
          50512.74061904266,
          50924.43346183508,
          50944.6735353043,
          50009.083641841076,
          49416.265872009295,
          49456.77807694266,
          49138.55280169971,
          49090.23791426778,
          49436.49531104092,
          49778.55681081506,
          49645.355330328486,
          49834.992135471584,
          49856.51065198119,
          49817.10960070929,
          49753.635433797455,
          49513.63666822169,
          49059.516611736406,
          49005.91193949095,
          48896.63671230099,
          48638.86105607284,
          48379.00205797182,
          48441.6014559856,
          48772.53478268317,
          49340.79450650814,
          49595.80716272125
         ]
        },
        {
         "line": {
          "color": "grey"
         },
         "mode": "lines",
         "name": "vwmp_lower",
         "type": "scatter",
         "x": [
          "2021-02-24T00:00:00",
          "2021-02-24T00:30:00",
          "2021-02-24T01:00:00",
          "2021-02-24T01:30:00",
          "2021-02-24T02:00:00",
          "2021-02-24T02:30:00",
          "2021-02-24T03:00:00",
          "2021-02-24T03:30:00",
          "2021-02-24T04:00:00",
          "2021-02-24T04:30:00",
          "2021-02-24T05:00:00",
          "2021-02-24T05:30:00",
          "2021-02-24T06:00:00",
          "2021-02-24T06:30:00",
          "2021-02-24T07:00:00",
          "2021-02-24T07:30:00",
          "2021-02-24T08:00:00",
          "2021-02-24T08:30:00",
          "2021-02-24T09:00:00",
          "2021-02-24T09:30:00",
          "2021-02-24T10:00:00",
          "2021-02-24T10:30:00",
          "2021-02-24T11:00:00",
          "2021-02-24T11:30:00",
          "2021-02-24T12:00:00",
          "2021-02-24T12:30:00",
          "2021-02-24T13:00:00",
          "2021-02-24T13:30:00",
          "2021-02-24T14:00:00",
          "2021-02-24T14:30:00",
          "2021-02-24T15:00:00",
          "2021-02-24T15:30:00",
          "2021-02-24T16:00:00",
          "2021-02-24T16:30:00",
          "2021-02-24T17:00:00",
          "2021-02-24T17:30:00",
          "2021-02-24T18:00:00",
          "2021-02-24T18:30:00",
          "2021-02-24T19:00:00",
          "2021-02-24T19:30:00",
          "2021-02-24T20:00:00",
          "2021-02-24T20:30:00",
          "2021-02-24T21:00:00",
          "2021-02-24T21:30:00",
          "2021-02-24T22:00:00",
          "2021-02-24T22:30:00",
          "2021-02-24T23:00:00",
          "2021-02-24T23:30:00"
         ],
         "y": [
          47064.77,
          47948.71,
          49199.99,
          49953.63,
          50520.3,
          50323.07,
          50523.54,
          50792.01,
          50969.05,
          50800,
          50263.12,
          50236.47,
          50077.48,
          49838.66,
          49779.38,
          50025.21,
          50051.82,
          50498.08,
          50523.1,
          51010.12,
          50558.38,
          50530.7,
          50268.48,
          50403.17,
          50844.55,
          50925.74,
          50000,
          49151.53,
          49571.01,
          49060,
          49280.22,
          49300.29,
          50048.47,
          49815.15,
          49821.18,
          49841.42,
          50029.28,
          49768.48,
          49448.61,
          49179.75,
          49112.8,
          49105.1,
          49007.54,
          48196.07,
          48511.01,
          48716.25,
          49441.85,
          49510.11
         ]
        }
       ],
       "layout": {
        "height": 300,
        "margin": {
         "b": 20,
         "l": 70,
         "r": 50,
         "t": 50
        },
        "template": {
         "data": {
          "bar": [
           {
            "error_x": {
             "color": "#2a3f5f"
            },
            "error_y": {
             "color": "#2a3f5f"
            },
            "marker": {
             "line": {
              "color": "#E5ECF6",
              "width": 0.5
             },
             "pattern": {
              "fillmode": "overlay",
              "size": 10,
              "solidity": 0.2
             }
            },
            "type": "bar"
           }
          ],
          "barpolar": [
           {
            "marker": {
             "line": {
              "color": "#E5ECF6",
              "width": 0.5
             },
             "pattern": {
              "fillmode": "overlay",
              "size": 10,
              "solidity": 0.2
             }
            },
            "type": "barpolar"
           }
          ],
          "carpet": [
           {
            "aaxis": {
             "endlinecolor": "#2a3f5f",
             "gridcolor": "white",
             "linecolor": "white",
             "minorgridcolor": "white",
             "startlinecolor": "#2a3f5f"
            },
            "baxis": {
             "endlinecolor": "#2a3f5f",
             "gridcolor": "white",
             "linecolor": "white",
             "minorgridcolor": "white",
             "startlinecolor": "#2a3f5f"
            },
            "type": "carpet"
           }
          ],
          "choropleth": [
           {
            "colorbar": {
             "outlinewidth": 0,
             "ticks": ""
            },
            "type": "choropleth"
           }
          ],
          "contour": [
           {
            "colorbar": {
             "outlinewidth": 0,
             "ticks": ""
            },
            "colorscale": [
             [
              0,
              "#0d0887"
             ],
             [
              0.1111111111111111,
              "#46039f"
             ],
             [
              0.2222222222222222,
              "#7201a8"
             ],
             [
              0.3333333333333333,
              "#9c179e"
             ],
             [
              0.4444444444444444,
              "#bd3786"
             ],
             [
              0.5555555555555556,
              "#d8576b"
             ],
             [
              0.6666666666666666,
              "#ed7953"
             ],
             [
              0.7777777777777778,
              "#fb9f3a"
             ],
             [
              0.8888888888888888,
              "#fdca26"
             ],
             [
              1,
              "#f0f921"
             ]
            ],
            "type": "contour"
           }
          ],
          "contourcarpet": [
           {
            "colorbar": {
             "outlinewidth": 0,
             "ticks": ""
            },
            "type": "contourcarpet"
           }
          ],
          "heatmap": [
           {
            "colorbar": {
             "outlinewidth": 0,
             "ticks": ""
            },
            "colorscale": [
             [
              0,
              "#0d0887"
             ],
             [
              0.1111111111111111,
              "#46039f"
             ],
             [
              0.2222222222222222,
              "#7201a8"
             ],
             [
              0.3333333333333333,
              "#9c179e"
             ],
             [
              0.4444444444444444,
              "#bd3786"
             ],
             [
              0.5555555555555556,
              "#d8576b"
             ],
             [
              0.6666666666666666,
              "#ed7953"
             ],
             [
              0.7777777777777778,
              "#fb9f3a"
             ],
             [
              0.8888888888888888,
              "#fdca26"
             ],
             [
              1,
              "#f0f921"
             ]
            ],
            "type": "heatmap"
           }
          ],
          "heatmapgl": [
           {
            "colorbar": {
             "outlinewidth": 0,
             "ticks": ""
            },
            "colorscale": [
             [
              0,
              "#0d0887"
             ],
             [
              0.1111111111111111,
              "#46039f"
             ],
             [
              0.2222222222222222,
              "#7201a8"
             ],
             [
              0.3333333333333333,
              "#9c179e"
             ],
             [
              0.4444444444444444,
              "#bd3786"
             ],
             [
              0.5555555555555556,
              "#d8576b"
             ],
             [
              0.6666666666666666,
              "#ed7953"
             ],
             [
              0.7777777777777778,
              "#fb9f3a"
             ],
             [
              0.8888888888888888,
              "#fdca26"
             ],
             [
              1,
              "#f0f921"
             ]
            ],
            "type": "heatmapgl"
           }
          ],
          "histogram": [
           {
            "marker": {
             "pattern": {
              "fillmode": "overlay",
              "size": 10,
              "solidity": 0.2
             }
            },
            "type": "histogram"
           }
          ],
          "histogram2d": [
           {
            "colorbar": {
             "outlinewidth": 0,
             "ticks": ""
            },
            "colorscale": [
             [
              0,
              "#0d0887"
             ],
             [
              0.1111111111111111,
              "#46039f"
             ],
             [
              0.2222222222222222,
              "#7201a8"
             ],
             [
              0.3333333333333333,
              "#9c179e"
             ],
             [
              0.4444444444444444,
              "#bd3786"
             ],
             [
              0.5555555555555556,
              "#d8576b"
             ],
             [
              0.6666666666666666,
              "#ed7953"
             ],
             [
              0.7777777777777778,
              "#fb9f3a"
             ],
             [
              0.8888888888888888,
              "#fdca26"
             ],
             [
              1,
              "#f0f921"
             ]
            ],
            "type": "histogram2d"
           }
          ],
          "histogram2dcontour": [
           {
            "colorbar": {
             "outlinewidth": 0,
             "ticks": ""
            },
            "colorscale": [
             [
              0,
              "#0d0887"
             ],
             [
              0.1111111111111111,
              "#46039f"
             ],
             [
              0.2222222222222222,
              "#7201a8"
             ],
             [
              0.3333333333333333,
              "#9c179e"
             ],
             [
              0.4444444444444444,
              "#bd3786"
             ],
             [
              0.5555555555555556,
              "#d8576b"
             ],
             [
              0.6666666666666666,
              "#ed7953"
             ],
             [
              0.7777777777777778,
              "#fb9f3a"
             ],
             [
              0.8888888888888888,
              "#fdca26"
             ],
             [
              1,
              "#f0f921"
             ]
            ],
            "type": "histogram2dcontour"
           }
          ],
          "mesh3d": [
           {
            "colorbar": {
             "outlinewidth": 0,
             "ticks": ""
            },
            "type": "mesh3d"
           }
          ],
          "parcoords": [
           {
            "line": {
             "colorbar": {
              "outlinewidth": 0,
              "ticks": ""
             }
            },
            "type": "parcoords"
           }
          ],
          "pie": [
           {
            "automargin": true,
            "type": "pie"
           }
          ],
          "scatter": [
           {
            "fillpattern": {
             "fillmode": "overlay",
             "size": 10,
             "solidity": 0.2
            },
            "type": "scatter"
           }
          ],
          "scatter3d": [
           {
            "line": {
             "colorbar": {
              "outlinewidth": 0,
              "ticks": ""
             }
            },
            "marker": {
             "colorbar": {
              "outlinewidth": 0,
              "ticks": ""
             }
            },
            "type": "scatter3d"
           }
          ],
          "scattercarpet": [
           {
            "marker": {
             "colorbar": {
              "outlinewidth": 0,
              "ticks": ""
             }
            },
            "type": "scattercarpet"
           }
          ],
          "scattergeo": [
           {
            "marker": {
             "colorbar": {
              "outlinewidth": 0,
              "ticks": ""
             }
            },
            "type": "scattergeo"
           }
          ],
          "scattergl": [
           {
            "marker": {
             "colorbar": {
              "outlinewidth": 0,
              "ticks": ""
             }
            },
            "type": "scattergl"
           }
          ],
          "scattermapbox": [
           {
            "marker": {
             "colorbar": {
              "outlinewidth": 0,
              "ticks": ""
             }
            },
            "type": "scattermapbox"
           }
          ],
          "scatterpolar": [
           {
            "marker": {
             "colorbar": {
              "outlinewidth": 0,
              "ticks": ""
             }
            },
            "type": "scatterpolar"
           }
          ],
          "scatterpolargl": [
           {
            "marker": {
             "colorbar": {
              "outlinewidth": 0,
              "ticks": ""
             }
            },
            "type": "scatterpolargl"
           }
          ],
          "scatterternary": [
           {
            "marker": {
             "colorbar": {
              "outlinewidth": 0,
              "ticks": ""
             }
            },
            "type": "scatterternary"
           }
          ],
          "surface": [
           {
            "colorbar": {
             "outlinewidth": 0,
             "ticks": ""
            },
            "colorscale": [
             [
              0,
              "#0d0887"
             ],
             [
              0.1111111111111111,
              "#46039f"
             ],
             [
              0.2222222222222222,
              "#7201a8"
             ],
             [
              0.3333333333333333,
              "#9c179e"
             ],
             [
              0.4444444444444444,
              "#bd3786"
             ],
             [
              0.5555555555555556,
              "#d8576b"
             ],
             [
              0.6666666666666666,
              "#ed7953"
             ],
             [
              0.7777777777777778,
              "#fb9f3a"
             ],
             [
              0.8888888888888888,
              "#fdca26"
             ],
             [
              1,
              "#f0f921"
             ]
            ],
            "type": "surface"
           }
          ],
          "table": [
           {
            "cells": {
             "fill": {
              "color": "#EBF0F8"
             },
             "line": {
              "color": "white"
             }
            },
            "header": {
             "fill": {
              "color": "#C8D4E3"
             },
             "line": {
              "color": "white"
             }
            },
            "type": "table"
           }
          ]
         },
         "layout": {
          "annotationdefaults": {
           "arrowcolor": "#2a3f5f",
           "arrowhead": 0,
           "arrowwidth": 1
          },
          "autotypenumbers": "strict",
          "coloraxis": {
           "colorbar": {
            "outlinewidth": 0,
            "ticks": ""
           }
          },
          "colorscale": {
           "diverging": [
            [
             0,
             "#8e0152"
            ],
            [
             0.1,
             "#c51b7d"
            ],
            [
             0.2,
             "#de77ae"
            ],
            [
             0.3,
             "#f1b6da"
            ],
            [
             0.4,
             "#fde0ef"
            ],
            [
             0.5,
             "#f7f7f7"
            ],
            [
             0.6,
             "#e6f5d0"
            ],
            [
             0.7,
             "#b8e186"
            ],
            [
             0.8,
             "#7fbc41"
            ],
            [
             0.9,
             "#4d9221"
            ],
            [
             1,
             "#276419"
            ]
           ],
           "sequential": [
            [
             0,
             "#0d0887"
            ],
            [
             0.1111111111111111,
             "#46039f"
            ],
            [
             0.2222222222222222,
             "#7201a8"
            ],
            [
             0.3333333333333333,
             "#9c179e"
            ],
            [
             0.4444444444444444,
             "#bd3786"
            ],
            [
             0.5555555555555556,
             "#d8576b"
            ],
            [
             0.6666666666666666,
             "#ed7953"
            ],
            [
             0.7777777777777778,
             "#fb9f3a"
            ],
            [
             0.8888888888888888,
             "#fdca26"
            ],
            [
             1,
             "#f0f921"
            ]
           ],
           "sequentialminus": [
            [
             0,
             "#0d0887"
            ],
            [
             0.1111111111111111,
             "#46039f"
            ],
            [
             0.2222222222222222,
             "#7201a8"
            ],
            [
             0.3333333333333333,
             "#9c179e"
            ],
            [
             0.4444444444444444,
             "#bd3786"
            ],
            [
             0.5555555555555556,
             "#d8576b"
            ],
            [
             0.6666666666666666,
             "#ed7953"
            ],
            [
             0.7777777777777778,
             "#fb9f3a"
            ],
            [
             0.8888888888888888,
             "#fdca26"
            ],
            [
             1,
             "#f0f921"
            ]
           ]
          },
          "colorway": [
           "#636efa",
           "#EF553B",
           "#00cc96",
           "#ab63fa",
           "#FFA15A",
           "#19d3f3",
           "#FF6692",
           "#B6E880",
           "#FF97FF",
           "#FECB52"
          ],
          "font": {
           "color": "#2a3f5f"
          },
          "geo": {
           "bgcolor": "white",
           "lakecolor": "white",
           "landcolor": "#E5ECF6",
           "showlakes": true,
           "showland": true,
           "subunitcolor": "white"
          },
          "hoverlabel": {
           "align": "left"
          },
          "hovermode": "closest",
          "mapbox": {
           "style": "light"
          },
          "paper_bgcolor": "white",
          "plot_bgcolor": "#E5ECF6",
          "polar": {
           "angularaxis": {
            "gridcolor": "white",
            "linecolor": "white",
            "ticks": ""
           },
           "bgcolor": "#E5ECF6",
           "radialaxis": {
            "gridcolor": "white",
            "linecolor": "white",
            "ticks": ""
           }
          },
          "scene": {
           "xaxis": {
            "backgroundcolor": "#E5ECF6",
            "gridcolor": "white",
            "gridwidth": 2,
            "linecolor": "white",
            "showbackground": true,
            "ticks": "",
            "zerolinecolor": "white"
           },
           "yaxis": {
            "backgroundcolor": "#E5ECF6",
            "gridcolor": "white",
            "gridwidth": 2,
            "linecolor": "white",
            "showbackground": true,
            "ticks": "",
            "zerolinecolor": "white"
           },
           "zaxis": {
            "backgroundcolor": "#E5ECF6",
            "gridcolor": "white",
            "gridwidth": 2,
            "linecolor": "white",
            "showbackground": true,
            "ticks": "",
            "zerolinecolor": "white"
           }
          },
          "shapedefaults": {
           "line": {
            "color": "#2a3f5f"
           }
          },
          "ternary": {
           "aaxis": {
            "gridcolor": "white",
            "linecolor": "white",
            "ticks": ""
           },
           "baxis": {
            "gridcolor": "white",
            "linecolor": "white",
            "ticks": ""
           },
           "bgcolor": "#E5ECF6",
           "caxis": {
            "gridcolor": "white",
            "linecolor": "white",
            "ticks": ""
           }
          },
          "title": {
           "x": 0.05
          },
          "xaxis": {
           "automargin": true,
           "gridcolor": "white",
           "linecolor": "white",
           "ticks": "",
           "title": {
            "standoff": 15
           },
           "zerolinecolor": "white",
           "zerolinewidth": 2
          },
          "yaxis": {
           "automargin": true,
           "gridcolor": "white",
           "linecolor": "white",
           "ticks": "",
           "title": {
            "standoff": 15
           },
           "zerolinecolor": "white",
           "zerolinewidth": 2
          }
         }
        },
        "title": {
         "text": "Exchange - [gmni]"
        },
        "width": 800,
        "yaxis": {
         "title": {
          "text": "Price"
         }
        }
       }
      }
     },
     "metadata": {},
     "output_type": "display_data"
    },
    {
     "data": {
      "application/vnd.plotly.v1+json": {
       "config": {
        "plotlyServerURL": "https://plot.ly"
       },
       "data": [
        {
         "close": [
          47265.5,
          48504,
          49192,
          50160.5,
          50018,
          50191.5,
          50276.5,
          50929,
          50766.4,
          50623,
          50377.5,
          50236.5,
          49677.5,
          50096,
          49678.5,
          50078,
          50673,
          50674.5,
          50776,
          50896.5,
          50568.5,
          50136.5,
          50769,
          50388.5,
          51171.5,
          50714.5,
          49595,
          49468,
          49477,
          49443.5,
          49148,
          49845.81,
          49490,
          49362.5,
          49734.23,
          50076,
          49683,
          49611,
          49483,
          49001,
          48918,
          49179.5,
          48225,
          48802.5,
          48684,
          48878.5,
          49355,
          49767
         ],
         "high": [
          49080.5,
          48504,
          49378.5,
          50240.88,
          50569.5,
          50485,
          50541.5,
          50999.5,
          51409,
          50968,
          51032.5,
          50543.5,
          50691,
          50389.5,
          50182.5,
          50358.5,
          50901.5,
          50888,
          50986.25,
          51449.5,
          51068.9,
          50671.5,
          50910.5,
          50885.5,
          51201,
          51297.5,
          51089.5,
          49853.75,
          49793.75,
          49667,
          49639,
          49877.5,
          50143.5,
          49853.5,
          49981.5,
          50102,
          50097.5,
          50044.5,
          49731.5,
          49465.5,
          49270.5,
          49259.5,
          49175,
          48908,
          48723.499,
          48995.5,
          49548,
          49792
         ],
         "low": [
          46918.718,
          47248.5,
          48438,
          48753.5,
          49799.5,
          50033,
          50073.75,
          50238.5,
          50705,
          50353.25,
          50028.5,
          50236.5,
          49475,
          49589.5,
          49566,
          49720,
          49770.5,
          50340,
          50389,
          50800,
          50198.5,
          50127.5,
          50152.63,
          50220,
          50374,
          50643,
          49475.5,
          49045,
          49169,
          48738.5,
          48458,
          49016,
          49382.5,
          49343,
          49355.5,
          49616,
          49551,
          49605,
          49357.5,
          48855.5,
          48781,
          48634.5,
          48149.5,
          48148,
          48036.5,
          48489,
          48780,
          49365
         ],
         "open": [
          48892.5,
          47248.5,
          48495,
          49209.5,
          50181,
          50120,
          50171,
          50254,
          50937.25,
          50819,
          50761.6,
          50379,
          50225.5,
          49644.5,
          50099.75,
          49720,
          50037.5,
          50665,
          50679.5,
          50834,
          50994,
          50473,
          50160.5,
          50767.5,
          50397.1,
          51140,
          50788,
          49723,
          49603.5,
          49544.5,
          49441.5,
          49124,
          49866,
          49508,
          49401,
          49731.5,
          50077.5,
          49682.5,
          49628.001,
          49465.5,
          48978.5,
          48886.5,
          49171.5,
          48206.5,
          48375.75,
          48697.5,
          48843,
          49394.5
         ],
         "type": "candlestick",
         "x": [
          "2021-02-24T00:00:00",
          "2021-02-24T00:30:00",
          "2021-02-24T01:00:00",
          "2021-02-24T01:30:00",
          "2021-02-24T02:00:00",
          "2021-02-24T02:30:00",
          "2021-02-24T03:00:00",
          "2021-02-24T03:30:00",
          "2021-02-24T04:00:00",
          "2021-02-24T04:30:00",
          "2021-02-24T05:00:00",
          "2021-02-24T05:30:00",
          "2021-02-24T06:00:00",
          "2021-02-24T06:30:00",
          "2021-02-24T07:00:00",
          "2021-02-24T07:30:00",
          "2021-02-24T08:00:00",
          "2021-02-24T08:30:00",
          "2021-02-24T09:00:00",
          "2021-02-24T09:30:00",
          "2021-02-24T10:00:00",
          "2021-02-24T10:30:00",
          "2021-02-24T11:00:00",
          "2021-02-24T11:30:00",
          "2021-02-24T12:00:00",
          "2021-02-24T12:30:00",
          "2021-02-24T13:00:00",
          "2021-02-24T13:30:00",
          "2021-02-24T14:00:00",
          "2021-02-24T14:30:00",
          "2021-02-24T15:00:00",
          "2021-02-24T15:30:00",
          "2021-02-24T16:00:00",
          "2021-02-24T16:30:00",
          "2021-02-24T17:00:00",
          "2021-02-24T17:30:00",
          "2021-02-24T18:00:00",
          "2021-02-24T18:30:00",
          "2021-02-24T19:00:00",
          "2021-02-24T19:30:00",
          "2021-02-24T20:00:00",
          "2021-02-24T20:30:00",
          "2021-02-24T21:00:00",
          "2021-02-24T21:30:00",
          "2021-02-24T22:00:00",
          "2021-02-24T22:30:00",
          "2021-02-24T23:00:00",
          "2021-02-24T23:30:00"
         ]
        },
        {
         "line": {
          "color": "blue"
         },
         "mode": "lines",
         "name": "VWAP",
         "type": "scatter",
         "x": [
          "2021-02-24T00:00:00",
          "2021-02-24T00:30:00",
          "2021-02-24T01:00:00",
          "2021-02-24T01:30:00",
          "2021-02-24T02:00:00",
          "2021-02-24T02:30:00",
          "2021-02-24T03:00:00",
          "2021-02-24T03:30:00",
          "2021-02-24T04:00:00",
          "2021-02-24T04:30:00",
          "2021-02-24T05:00:00",
          "2021-02-24T05:30:00",
          "2021-02-24T06:00:00",
          "2021-02-24T06:30:00",
          "2021-02-24T07:00:00",
          "2021-02-24T07:30:00",
          "2021-02-24T08:00:00",
          "2021-02-24T08:30:00",
          "2021-02-24T09:00:00",
          "2021-02-24T09:30:00",
          "2021-02-24T10:00:00",
          "2021-02-24T10:30:00",
          "2021-02-24T11:00:00",
          "2021-02-24T11:30:00",
          "2021-02-24T12:00:00",
          "2021-02-24T12:30:00",
          "2021-02-24T13:00:00",
          "2021-02-24T13:30:00",
          "2021-02-24T14:00:00",
          "2021-02-24T14:30:00",
          "2021-02-24T15:00:00",
          "2021-02-24T15:30:00",
          "2021-02-24T16:00:00",
          "2021-02-24T16:30:00",
          "2021-02-24T17:00:00",
          "2021-02-24T17:30:00",
          "2021-02-24T18:00:00",
          "2021-02-24T18:30:00",
          "2021-02-24T19:00:00",
          "2021-02-24T19:30:00",
          "2021-02-24T20:00:00",
          "2021-02-24T20:30:00",
          "2021-02-24T21:00:00",
          "2021-02-24T21:30:00",
          "2021-02-24T22:00:00",
          "2021-02-24T22:30:00",
          "2021-02-24T23:00:00",
          "2021-02-24T23:30:00"
         ],
         "y": [
          47923.72045552094,
          47760.00456924093,
          48832.624215141004,
          49645.5867061371,
          50178.72898162321,
          50284.92545233664,
          50370.163922537235,
          50530.16552293471,
          51099.14920349855,
          50651.06071941596,
          50510.15996953068,
          50356.46022731128,
          50120.820853247424,
          49943.46165431721,
          49827.531238749216,
          50133.890259993124,
          50481.89288962062,
          50632.436815829344,
          50733.72347189549,
          51164.414956902074,
          50656.12000743695,
          50446.67081161076,
          50554.69342244831,
          50468.16908887508,
          50846.10694643108,
          50962.39692908957,
          50170.204952688786,
          49389.50646058745,
          49465.283186129855,
          49172.39045656827,
          48998.31408920082,
          49553.17179078323,
          49810.942307229416,
          49647.82037434024,
          49825.89035021053,
          49860.540783795215,
          49778.48039309281,
          49824.27735560814,
          49501.169612062025,
          49076.56758404598,
          49019.34953354352,
          48904.14372017298,
          48561.21740247919,
          48426.794942483146,
          48425.668231974196,
          48792.79527989508,
          49302.02358409101,
          49604.11043814432
         ]
        },
        {
         "line": {
          "color": "grey"
         },
         "mode": "lines",
         "name": "vwmp_lower",
         "type": "scatter",
         "x": [
          "2021-02-24T00:00:00",
          "2021-02-24T00:30:00",
          "2021-02-24T01:00:00",
          "2021-02-24T01:30:00",
          "2021-02-24T02:00:00",
          "2021-02-24T02:30:00",
          "2021-02-24T03:00:00",
          "2021-02-24T03:30:00",
          "2021-02-24T04:00:00",
          "2021-02-24T04:30:00",
          "2021-02-24T05:00:00",
          "2021-02-24T05:30:00",
          "2021-02-24T06:00:00",
          "2021-02-24T06:30:00",
          "2021-02-24T07:00:00",
          "2021-02-24T07:30:00",
          "2021-02-24T08:00:00",
          "2021-02-24T08:30:00",
          "2021-02-24T09:00:00",
          "2021-02-24T09:30:00",
          "2021-02-24T10:00:00",
          "2021-02-24T10:30:00",
          "2021-02-24T11:00:00",
          "2021-02-24T11:30:00",
          "2021-02-24T12:00:00",
          "2021-02-24T12:30:00",
          "2021-02-24T13:00:00",
          "2021-02-24T13:30:00",
          "2021-02-24T14:00:00",
          "2021-02-24T14:30:00",
          "2021-02-24T15:00:00",
          "2021-02-24T15:30:00",
          "2021-02-24T16:00:00",
          "2021-02-24T16:30:00",
          "2021-02-24T17:00:00",
          "2021-02-24T17:30:00",
          "2021-02-24T18:00:00",
          "2021-02-24T18:30:00",
          "2021-02-24T19:00:00",
          "2021-02-24T19:30:00",
          "2021-02-24T20:00:00",
          "2021-02-24T20:30:00",
          "2021-02-24T21:00:00",
          "2021-02-24T21:30:00",
          "2021-02-24T22:00:00",
          "2021-02-24T22:30:00",
          "2021-02-24T23:00:00",
          "2021-02-24T23:30:00"
         ],
         "y": [
          48922.5,
          47615.5,
          48514,
          50020,
          50210,
          50377.5,
          50381.75,
          50462.5,
          51189.5,
          50648.5,
          50251,
          50266.5,
          50499,
          50006.5,
          49823,
          50076.5,
          50386.5,
          50732.5,
          50542.9,
          51134,
          50578,
          50581,
          50319,
          50727.5,
          50585,
          50841,
          49535.5,
          49306,
          49715,
          49066.5,
          49066.5,
          49537,
          49756.5,
          49595,
          49744,
          49851,
          49577.2,
          49868.5,
          49413.5,
          49099,
          48840.5,
          48742,
          48206.5,
          48349,
          48587,
          48814.5,
          49367,
          49590.5
         ]
        }
       ],
       "layout": {
        "height": 300,
        "margin": {
         "b": 20,
         "l": 70,
         "r": 50,
         "t": 50
        },
        "template": {
         "data": {
          "bar": [
           {
            "error_x": {
             "color": "#2a3f5f"
            },
            "error_y": {
             "color": "#2a3f5f"
            },
            "marker": {
             "line": {
              "color": "#E5ECF6",
              "width": 0.5
             },
             "pattern": {
              "fillmode": "overlay",
              "size": 10,
              "solidity": 0.2
             }
            },
            "type": "bar"
           }
          ],
          "barpolar": [
           {
            "marker": {
             "line": {
              "color": "#E5ECF6",
              "width": 0.5
             },
             "pattern": {
              "fillmode": "overlay",
              "size": 10,
              "solidity": 0.2
             }
            },
            "type": "barpolar"
           }
          ],
          "carpet": [
           {
            "aaxis": {
             "endlinecolor": "#2a3f5f",
             "gridcolor": "white",
             "linecolor": "white",
             "minorgridcolor": "white",
             "startlinecolor": "#2a3f5f"
            },
            "baxis": {
             "endlinecolor": "#2a3f5f",
             "gridcolor": "white",
             "linecolor": "white",
             "minorgridcolor": "white",
             "startlinecolor": "#2a3f5f"
            },
            "type": "carpet"
           }
          ],
          "choropleth": [
           {
            "colorbar": {
             "outlinewidth": 0,
             "ticks": ""
            },
            "type": "choropleth"
           }
          ],
          "contour": [
           {
            "colorbar": {
             "outlinewidth": 0,
             "ticks": ""
            },
            "colorscale": [
             [
              0,
              "#0d0887"
             ],
             [
              0.1111111111111111,
              "#46039f"
             ],
             [
              0.2222222222222222,
              "#7201a8"
             ],
             [
              0.3333333333333333,
              "#9c179e"
             ],
             [
              0.4444444444444444,
              "#bd3786"
             ],
             [
              0.5555555555555556,
              "#d8576b"
             ],
             [
              0.6666666666666666,
              "#ed7953"
             ],
             [
              0.7777777777777778,
              "#fb9f3a"
             ],
             [
              0.8888888888888888,
              "#fdca26"
             ],
             [
              1,
              "#f0f921"
             ]
            ],
            "type": "contour"
           }
          ],
          "contourcarpet": [
           {
            "colorbar": {
             "outlinewidth": 0,
             "ticks": ""
            },
            "type": "contourcarpet"
           }
          ],
          "heatmap": [
           {
            "colorbar": {
             "outlinewidth": 0,
             "ticks": ""
            },
            "colorscale": [
             [
              0,
              "#0d0887"
             ],
             [
              0.1111111111111111,
              "#46039f"
             ],
             [
              0.2222222222222222,
              "#7201a8"
             ],
             [
              0.3333333333333333,
              "#9c179e"
             ],
             [
              0.4444444444444444,
              "#bd3786"
             ],
             [
              0.5555555555555556,
              "#d8576b"
             ],
             [
              0.6666666666666666,
              "#ed7953"
             ],
             [
              0.7777777777777778,
              "#fb9f3a"
             ],
             [
              0.8888888888888888,
              "#fdca26"
             ],
             [
              1,
              "#f0f921"
             ]
            ],
            "type": "heatmap"
           }
          ],
          "heatmapgl": [
           {
            "colorbar": {
             "outlinewidth": 0,
             "ticks": ""
            },
            "colorscale": [
             [
              0,
              "#0d0887"
             ],
             [
              0.1111111111111111,
              "#46039f"
             ],
             [
              0.2222222222222222,
              "#7201a8"
             ],
             [
              0.3333333333333333,
              "#9c179e"
             ],
             [
              0.4444444444444444,
              "#bd3786"
             ],
             [
              0.5555555555555556,
              "#d8576b"
             ],
             [
              0.6666666666666666,
              "#ed7953"
             ],
             [
              0.7777777777777778,
              "#fb9f3a"
             ],
             [
              0.8888888888888888,
              "#fdca26"
             ],
             [
              1,
              "#f0f921"
             ]
            ],
            "type": "heatmapgl"
           }
          ],
          "histogram": [
           {
            "marker": {
             "pattern": {
              "fillmode": "overlay",
              "size": 10,
              "solidity": 0.2
             }
            },
            "type": "histogram"
           }
          ],
          "histogram2d": [
           {
            "colorbar": {
             "outlinewidth": 0,
             "ticks": ""
            },
            "colorscale": [
             [
              0,
              "#0d0887"
             ],
             [
              0.1111111111111111,
              "#46039f"
             ],
             [
              0.2222222222222222,
              "#7201a8"
             ],
             [
              0.3333333333333333,
              "#9c179e"
             ],
             [
              0.4444444444444444,
              "#bd3786"
             ],
             [
              0.5555555555555556,
              "#d8576b"
             ],
             [
              0.6666666666666666,
              "#ed7953"
             ],
             [
              0.7777777777777778,
              "#fb9f3a"
             ],
             [
              0.8888888888888888,
              "#fdca26"
             ],
             [
              1,
              "#f0f921"
             ]
            ],
            "type": "histogram2d"
           }
          ],
          "histogram2dcontour": [
           {
            "colorbar": {
             "outlinewidth": 0,
             "ticks": ""
            },
            "colorscale": [
             [
              0,
              "#0d0887"
             ],
             [
              0.1111111111111111,
              "#46039f"
             ],
             [
              0.2222222222222222,
              "#7201a8"
             ],
             [
              0.3333333333333333,
              "#9c179e"
             ],
             [
              0.4444444444444444,
              "#bd3786"
             ],
             [
              0.5555555555555556,
              "#d8576b"
             ],
             [
              0.6666666666666666,
              "#ed7953"
             ],
             [
              0.7777777777777778,
              "#fb9f3a"
             ],
             [
              0.8888888888888888,
              "#fdca26"
             ],
             [
              1,
              "#f0f921"
             ]
            ],
            "type": "histogram2dcontour"
           }
          ],
          "mesh3d": [
           {
            "colorbar": {
             "outlinewidth": 0,
             "ticks": ""
            },
            "type": "mesh3d"
           }
          ],
          "parcoords": [
           {
            "line": {
             "colorbar": {
              "outlinewidth": 0,
              "ticks": ""
             }
            },
            "type": "parcoords"
           }
          ],
          "pie": [
           {
            "automargin": true,
            "type": "pie"
           }
          ],
          "scatter": [
           {
            "fillpattern": {
             "fillmode": "overlay",
             "size": 10,
             "solidity": 0.2
            },
            "type": "scatter"
           }
          ],
          "scatter3d": [
           {
            "line": {
             "colorbar": {
              "outlinewidth": 0,
              "ticks": ""
             }
            },
            "marker": {
             "colorbar": {
              "outlinewidth": 0,
              "ticks": ""
             }
            },
            "type": "scatter3d"
           }
          ],
          "scattercarpet": [
           {
            "marker": {
             "colorbar": {
              "outlinewidth": 0,
              "ticks": ""
             }
            },
            "type": "scattercarpet"
           }
          ],
          "scattergeo": [
           {
            "marker": {
             "colorbar": {
              "outlinewidth": 0,
              "ticks": ""
             }
            },
            "type": "scattergeo"
           }
          ],
          "scattergl": [
           {
            "marker": {
             "colorbar": {
              "outlinewidth": 0,
              "ticks": ""
             }
            },
            "type": "scattergl"
           }
          ],
          "scattermapbox": [
           {
            "marker": {
             "colorbar": {
              "outlinewidth": 0,
              "ticks": ""
             }
            },
            "type": "scattermapbox"
           }
          ],
          "scatterpolar": [
           {
            "marker": {
             "colorbar": {
              "outlinewidth": 0,
              "ticks": ""
             }
            },
            "type": "scatterpolar"
           }
          ],
          "scatterpolargl": [
           {
            "marker": {
             "colorbar": {
              "outlinewidth": 0,
              "ticks": ""
             }
            },
            "type": "scatterpolargl"
           }
          ],
          "scatterternary": [
           {
            "marker": {
             "colorbar": {
              "outlinewidth": 0,
              "ticks": ""
             }
            },
            "type": "scatterternary"
           }
          ],
          "surface": [
           {
            "colorbar": {
             "outlinewidth": 0,
             "ticks": ""
            },
            "colorscale": [
             [
              0,
              "#0d0887"
             ],
             [
              0.1111111111111111,
              "#46039f"
             ],
             [
              0.2222222222222222,
              "#7201a8"
             ],
             [
              0.3333333333333333,
              "#9c179e"
             ],
             [
              0.4444444444444444,
              "#bd3786"
             ],
             [
              0.5555555555555556,
              "#d8576b"
             ],
             [
              0.6666666666666666,
              "#ed7953"
             ],
             [
              0.7777777777777778,
              "#fb9f3a"
             ],
             [
              0.8888888888888888,
              "#fdca26"
             ],
             [
              1,
              "#f0f921"
             ]
            ],
            "type": "surface"
           }
          ],
          "table": [
           {
            "cells": {
             "fill": {
              "color": "#EBF0F8"
             },
             "line": {
              "color": "white"
             }
            },
            "header": {
             "fill": {
              "color": "#C8D4E3"
             },
             "line": {
              "color": "white"
             }
            },
            "type": "table"
           }
          ]
         },
         "layout": {
          "annotationdefaults": {
           "arrowcolor": "#2a3f5f",
           "arrowhead": 0,
           "arrowwidth": 1
          },
          "autotypenumbers": "strict",
          "coloraxis": {
           "colorbar": {
            "outlinewidth": 0,
            "ticks": ""
           }
          },
          "colorscale": {
           "diverging": [
            [
             0,
             "#8e0152"
            ],
            [
             0.1,
             "#c51b7d"
            ],
            [
             0.2,
             "#de77ae"
            ],
            [
             0.3,
             "#f1b6da"
            ],
            [
             0.4,
             "#fde0ef"
            ],
            [
             0.5,
             "#f7f7f7"
            ],
            [
             0.6,
             "#e6f5d0"
            ],
            [
             0.7,
             "#b8e186"
            ],
            [
             0.8,
             "#7fbc41"
            ],
            [
             0.9,
             "#4d9221"
            ],
            [
             1,
             "#276419"
            ]
           ],
           "sequential": [
            [
             0,
             "#0d0887"
            ],
            [
             0.1111111111111111,
             "#46039f"
            ],
            [
             0.2222222222222222,
             "#7201a8"
            ],
            [
             0.3333333333333333,
             "#9c179e"
            ],
            [
             0.4444444444444444,
             "#bd3786"
            ],
            [
             0.5555555555555556,
             "#d8576b"
            ],
            [
             0.6666666666666666,
             "#ed7953"
            ],
            [
             0.7777777777777778,
             "#fb9f3a"
            ],
            [
             0.8888888888888888,
             "#fdca26"
            ],
            [
             1,
             "#f0f921"
            ]
           ],
           "sequentialminus": [
            [
             0,
             "#0d0887"
            ],
            [
             0.1111111111111111,
             "#46039f"
            ],
            [
             0.2222222222222222,
             "#7201a8"
            ],
            [
             0.3333333333333333,
             "#9c179e"
            ],
            [
             0.4444444444444444,
             "#bd3786"
            ],
            [
             0.5555555555555556,
             "#d8576b"
            ],
            [
             0.6666666666666666,
             "#ed7953"
            ],
            [
             0.7777777777777778,
             "#fb9f3a"
            ],
            [
             0.8888888888888888,
             "#fdca26"
            ],
            [
             1,
             "#f0f921"
            ]
           ]
          },
          "colorway": [
           "#636efa",
           "#EF553B",
           "#00cc96",
           "#ab63fa",
           "#FFA15A",
           "#19d3f3",
           "#FF6692",
           "#B6E880",
           "#FF97FF",
           "#FECB52"
          ],
          "font": {
           "color": "#2a3f5f"
          },
          "geo": {
           "bgcolor": "white",
           "lakecolor": "white",
           "landcolor": "#E5ECF6",
           "showlakes": true,
           "showland": true,
           "subunitcolor": "white"
          },
          "hoverlabel": {
           "align": "left"
          },
          "hovermode": "closest",
          "mapbox": {
           "style": "light"
          },
          "paper_bgcolor": "white",
          "plot_bgcolor": "#E5ECF6",
          "polar": {
           "angularaxis": {
            "gridcolor": "white",
            "linecolor": "white",
            "ticks": ""
           },
           "bgcolor": "#E5ECF6",
           "radialaxis": {
            "gridcolor": "white",
            "linecolor": "white",
            "ticks": ""
           }
          },
          "scene": {
           "xaxis": {
            "backgroundcolor": "#E5ECF6",
            "gridcolor": "white",
            "gridwidth": 2,
            "linecolor": "white",
            "showbackground": true,
            "ticks": "",
            "zerolinecolor": "white"
           },
           "yaxis": {
            "backgroundcolor": "#E5ECF6",
            "gridcolor": "white",
            "gridwidth": 2,
            "linecolor": "white",
            "showbackground": true,
            "ticks": "",
            "zerolinecolor": "white"
           },
           "zaxis": {
            "backgroundcolor": "#E5ECF6",
            "gridcolor": "white",
            "gridwidth": 2,
            "linecolor": "white",
            "showbackground": true,
            "ticks": "",
            "zerolinecolor": "white"
           }
          },
          "shapedefaults": {
           "line": {
            "color": "#2a3f5f"
           }
          },
          "ternary": {
           "aaxis": {
            "gridcolor": "white",
            "linecolor": "white",
            "ticks": ""
           },
           "baxis": {
            "gridcolor": "white",
            "linecolor": "white",
            "ticks": ""
           },
           "bgcolor": "#E5ECF6",
           "caxis": {
            "gridcolor": "white",
            "linecolor": "white",
            "ticks": ""
           }
          },
          "title": {
           "x": 0.05
          },
          "xaxis": {
           "automargin": true,
           "gridcolor": "white",
           "linecolor": "white",
           "ticks": "",
           "title": {
            "standoff": 15
           },
           "zerolinecolor": "white",
           "zerolinewidth": 2
          },
          "yaxis": {
           "automargin": true,
           "gridcolor": "white",
           "linecolor": "white",
           "ticks": "",
           "title": {
            "standoff": 15
           },
           "zerolinecolor": "white",
           "zerolinewidth": 2
          }
         }
        },
        "title": {
         "text": "Exchange - [lmax]"
        },
        "width": 800,
        "yaxis": {
         "title": {
          "text": "Price"
         }
        }
       }
      }
     },
     "metadata": {},
     "output_type": "display_data"
    },
    {
     "data": {
      "application/vnd.plotly.v1+json": {
       "config": {
        "plotlyServerURL": "https://plot.ly"
       },
       "data": [
        {
         "close": [
          47239.68,
          48504,
          49155.93,
          50206.74,
          50045.09,
          50202.83,
          50278.19,
          50939.95,
          50721.44,
          50650.54,
          50396.77,
          50245.64,
          49687.12,
          50109.14,
          49702.15,
          50060.64,
          50633.95,
          50700.14,
          50810.51,
          50889.26,
          50434.52,
          50115.03,
          50778.74,
          50381.65,
          51119.17,
          50709.43,
          49606.85,
          49494.86,
          49487.9,
          49432.76,
          49181.8,
          49847.54,
          49518.52,
          49371.52,
          49738.59,
          50086.38,
          49704.48,
          49618.4,
          49451.55,
          48991.68,
          48923.63,
          49178.11,
          48196.08,
          48786.95,
          48712.35,
          48843.17,
          49350.47,
          49754
         ],
         "high": [
          49098.88,
          48517.93,
          49355.73,
          50232,
          50820.16,
          50485.11,
          50540,
          51000,
          51459.51,
          50962.54,
          51039,
          50552.88,
          50710.31,
          50406.83,
          50173.64,
          50350.29,
          50910.53,
          51089.72,
          51020.66,
          51443.47,
          51051,
          50648.89,
          50920.97,
          50867.99,
          51203.95,
          51310.99,
          51100,
          49863.23,
          49787.02,
          49664.18,
          49643.07,
          49884.52,
          50155,
          49892.65,
          49997.49,
          50099.91,
          50091.97,
          50022.34,
          49748.4,
          49450.88,
          49293.55,
          49262.14,
          49191.28,
          48946.4,
          48770.64,
          48995.2,
          49558.02,
          49789.41
         ],
         "low": [
          47000,
          47275.7,
          48425.2,
          48740.75,
          49815.26,
          50047.6,
          50090,
          50238.81,
          50689.07,
          50342.26,
          50000,
          50200,
          49443.41,
          49575,
          49531.41,
          49712.25,
          49812,
          50340.01,
          50387.22,
          50797.05,
          50160.49,
          50096.98,
          50127.39,
          50220.72,
          50364.29,
          50620.44,
          49500,
          49050,
          49100.7,
          48729.36,
          48488.51,
          49000.08,
          49418.88,
          49328.53,
          49354.01,
          49629.06,
          49545.55,
          49596.7,
          49367.7,
          48850.23,
          48764.54,
          48615.55,
          48156.63,
          48130,
          48050,
          48522.96,
          48798.61,
          49359.77
         ],
         "open": [
          48927.33,
          47275.7,
          48476.94,
          49180.68,
          50224.22,
          50054.3,
          50190.12,
          50301.24,
          50937.53,
          50713.27,
          50665.34,
          50379.76,
          50264.18,
          49673.99,
          50095.36,
          49712.25,
          50100,
          50643.59,
          50659.75,
          50797.05,
          50923.48,
          50455.27,
          50127.96,
          50779.4,
          50408.26,
          51137.52,
          50745.92,
          49620,
          49519.1,
          49506.05,
          49430.41,
          49171.11,
          49847.54,
          49536.01,
          49368.78,
          49736.75,
          50061.08,
          49687.99,
          49631.06,
          49440.65,
          48971.58,
          48914.43,
          49152.28,
          48203.36,
          48768.54,
          48712.8,
          48831.81,
          49359.77
         ],
         "type": "candlestick",
         "x": [
          "2021-02-24T00:00:00",
          "2021-02-24T00:30:00",
          "2021-02-24T01:00:00",
          "2021-02-24T01:30:00",
          "2021-02-24T02:00:00",
          "2021-02-24T02:30:00",
          "2021-02-24T03:00:00",
          "2021-02-24T03:30:00",
          "2021-02-24T04:00:00",
          "2021-02-24T04:30:00",
          "2021-02-24T05:00:00",
          "2021-02-24T05:30:00",
          "2021-02-24T06:00:00",
          "2021-02-24T06:30:00",
          "2021-02-24T07:00:00",
          "2021-02-24T07:30:00",
          "2021-02-24T08:00:00",
          "2021-02-24T08:30:00",
          "2021-02-24T09:00:00",
          "2021-02-24T09:30:00",
          "2021-02-24T10:00:00",
          "2021-02-24T10:30:00",
          "2021-02-24T11:00:00",
          "2021-02-24T11:30:00",
          "2021-02-24T12:00:00",
          "2021-02-24T12:30:00",
          "2021-02-24T13:00:00",
          "2021-02-24T13:30:00",
          "2021-02-24T14:00:00",
          "2021-02-24T14:30:00",
          "2021-02-24T15:00:00",
          "2021-02-24T15:30:00",
          "2021-02-24T16:00:00",
          "2021-02-24T16:30:00",
          "2021-02-24T17:00:00",
          "2021-02-24T17:30:00",
          "2021-02-24T18:00:00",
          "2021-02-24T18:30:00",
          "2021-02-24T19:00:00",
          "2021-02-24T19:30:00",
          "2021-02-24T20:00:00",
          "2021-02-24T20:30:00",
          "2021-02-24T21:00:00",
          "2021-02-24T21:30:00",
          "2021-02-24T22:00:00",
          "2021-02-24T22:30:00",
          "2021-02-24T23:00:00",
          "2021-02-24T23:30:00"
         ]
        },
        {
         "line": {
          "color": "blue"
         },
         "mode": "lines",
         "name": "VWAP",
         "type": "scatter",
         "x": [
          "2021-02-24T00:00:00",
          "2021-02-24T00:30:00",
          "2021-02-24T01:00:00",
          "2021-02-24T01:30:00",
          "2021-02-24T02:00:00",
          "2021-02-24T02:30:00",
          "2021-02-24T03:00:00",
          "2021-02-24T03:30:00",
          "2021-02-24T04:00:00",
          "2021-02-24T04:30:00",
          "2021-02-24T05:00:00",
          "2021-02-24T05:30:00",
          "2021-02-24T06:00:00",
          "2021-02-24T06:30:00",
          "2021-02-24T07:00:00",
          "2021-02-24T07:30:00",
          "2021-02-24T08:00:00",
          "2021-02-24T08:30:00",
          "2021-02-24T09:00:00",
          "2021-02-24T09:30:00",
          "2021-02-24T10:00:00",
          "2021-02-24T10:30:00",
          "2021-02-24T11:00:00",
          "2021-02-24T11:30:00",
          "2021-02-24T12:00:00",
          "2021-02-24T12:30:00",
          "2021-02-24T13:00:00",
          "2021-02-24T13:30:00",
          "2021-02-24T14:00:00",
          "2021-02-24T14:30:00",
          "2021-02-24T15:00:00",
          "2021-02-24T15:30:00",
          "2021-02-24T16:00:00",
          "2021-02-24T16:30:00",
          "2021-02-24T17:00:00",
          "2021-02-24T17:30:00",
          "2021-02-24T18:00:00",
          "2021-02-24T18:30:00",
          "2021-02-24T19:00:00",
          "2021-02-24T19:30:00",
          "2021-02-24T20:00:00",
          "2021-02-24T20:30:00",
          "2021-02-24T21:00:00",
          "2021-02-24T21:30:00",
          "2021-02-24T22:00:00",
          "2021-02-24T22:30:00",
          "2021-02-24T23:00:00",
          "2021-02-24T23:30:00"
         ],
         "y": [
          47982.61051998801,
          47847.296988976545,
          48958.7739934451,
          49573.93685893276,
          50263.01567884616,
          50309.973797927974,
          50376.1099376012,
          50660.6922141351,
          51112.5746700363,
          50740.31815404555,
          50490.29187783915,
          50374.68112170013,
          49952.88053794828,
          49918.41543765458,
          49838.13633124086,
          50101.20420167318,
          50494.21900730898,
          50677.69733627789,
          50752.35346515376,
          51109.70303747179,
          50683.60043291597,
          50453.85767176183,
          50513.532978060786,
          50450.13107069415,
          50898.35616062447,
          50982.384700072136,
          50324.68770334398,
          49380.25673805927,
          49505.6881576044,
          49168.68217209223,
          48960.407085083316,
          49474.19966911369,
          49794.51392577888,
          49660.518296583185,
          49804.01038014363,
          49888.973608388565,
          49826.30333535326,
          49849.93047085782,
          49513.516232713635,
          49106.18312086761,
          49046.46777126262,
          48872.52500648867,
          48553.53271808536,
          48409.279507783096,
          48388.88425842405,
          48785.731099079276,
          49327.752261855116,
          49621.02350210694
         ]
        },
        {
         "line": {
          "color": "grey"
         },
         "mode": "lines",
         "name": "vwmp_lower",
         "type": "scatter",
         "x": [
          "2021-02-24T00:00:00",
          "2021-02-24T00:30:00",
          "2021-02-24T01:00:00",
          "2021-02-24T01:30:00",
          "2021-02-24T02:00:00",
          "2021-02-24T02:30:00",
          "2021-02-24T03:00:00",
          "2021-02-24T03:30:00",
          "2021-02-24T04:00:00",
          "2021-02-24T04:30:00",
          "2021-02-24T05:00:00",
          "2021-02-24T05:30:00",
          "2021-02-24T06:00:00",
          "2021-02-24T06:30:00",
          "2021-02-24T07:00:00",
          "2021-02-24T07:30:00",
          "2021-02-24T08:00:00",
          "2021-02-24T08:30:00",
          "2021-02-24T09:00:00",
          "2021-02-24T09:30:00",
          "2021-02-24T10:00:00",
          "2021-02-24T10:30:00",
          "2021-02-24T11:00:00",
          "2021-02-24T11:30:00",
          "2021-02-24T12:00:00",
          "2021-02-24T12:30:00",
          "2021-02-24T13:00:00",
          "2021-02-24T13:30:00",
          "2021-02-24T14:00:00",
          "2021-02-24T14:30:00",
          "2021-02-24T15:00:00",
          "2021-02-24T15:30:00",
          "2021-02-24T16:00:00",
          "2021-02-24T16:30:00",
          "2021-02-24T17:00:00",
          "2021-02-24T17:30:00",
          "2021-02-24T18:00:00",
          "2021-02-24T18:30:00",
          "2021-02-24T19:00:00",
          "2021-02-24T19:30:00",
          "2021-02-24T20:00:00",
          "2021-02-24T20:30:00",
          "2021-02-24T21:00:00",
          "2021-02-24T21:30:00",
          "2021-02-24T22:00:00",
          "2021-02-24T22:30:00",
          "2021-02-24T23:00:00",
          "2021-02-24T23:30:00"
         ],
         "y": [
          48702.61,
          47753.52,
          49300,
          49743.33,
          50324.86,
          50092.97,
          50405.62,
          50822.83,
          51313.9,
          50737.18,
          50156.8,
          50303.93,
          50521.56,
          49630.04,
          49784.31,
          50135.77,
          50560.36,
          50745.4,
          50947.78,
          51202.4,
          50594.46,
          50583.96,
          50394.98,
          50506.84,
          50976.93,
          50933.34,
          49927.4,
          49740.53,
          49132.36,
          49012.72,
          48891.84,
          49642.97,
          49426.51,
          49354.68,
          49975,
          49958.14,
          49592.11,
          49638.46,
          49435.46,
          49315.14,
          49117.96,
          49140.82,
          49134.72,
          48750,
          48420.61,
          48711.49,
          49395.78,
          49619.6
         ]
        }
       ],
       "layout": {
        "height": 300,
        "margin": {
         "b": 20,
         "l": 70,
         "r": 50,
         "t": 50
        },
        "template": {
         "data": {
          "bar": [
           {
            "error_x": {
             "color": "#2a3f5f"
            },
            "error_y": {
             "color": "#2a3f5f"
            },
            "marker": {
             "line": {
              "color": "#E5ECF6",
              "width": 0.5
             },
             "pattern": {
              "fillmode": "overlay",
              "size": 10,
              "solidity": 0.2
             }
            },
            "type": "bar"
           }
          ],
          "barpolar": [
           {
            "marker": {
             "line": {
              "color": "#E5ECF6",
              "width": 0.5
             },
             "pattern": {
              "fillmode": "overlay",
              "size": 10,
              "solidity": 0.2
             }
            },
            "type": "barpolar"
           }
          ],
          "carpet": [
           {
            "aaxis": {
             "endlinecolor": "#2a3f5f",
             "gridcolor": "white",
             "linecolor": "white",
             "minorgridcolor": "white",
             "startlinecolor": "#2a3f5f"
            },
            "baxis": {
             "endlinecolor": "#2a3f5f",
             "gridcolor": "white",
             "linecolor": "white",
             "minorgridcolor": "white",
             "startlinecolor": "#2a3f5f"
            },
            "type": "carpet"
           }
          ],
          "choropleth": [
           {
            "colorbar": {
             "outlinewidth": 0,
             "ticks": ""
            },
            "type": "choropleth"
           }
          ],
          "contour": [
           {
            "colorbar": {
             "outlinewidth": 0,
             "ticks": ""
            },
            "colorscale": [
             [
              0,
              "#0d0887"
             ],
             [
              0.1111111111111111,
              "#46039f"
             ],
             [
              0.2222222222222222,
              "#7201a8"
             ],
             [
              0.3333333333333333,
              "#9c179e"
             ],
             [
              0.4444444444444444,
              "#bd3786"
             ],
             [
              0.5555555555555556,
              "#d8576b"
             ],
             [
              0.6666666666666666,
              "#ed7953"
             ],
             [
              0.7777777777777778,
              "#fb9f3a"
             ],
             [
              0.8888888888888888,
              "#fdca26"
             ],
             [
              1,
              "#f0f921"
             ]
            ],
            "type": "contour"
           }
          ],
          "contourcarpet": [
           {
            "colorbar": {
             "outlinewidth": 0,
             "ticks": ""
            },
            "type": "contourcarpet"
           }
          ],
          "heatmap": [
           {
            "colorbar": {
             "outlinewidth": 0,
             "ticks": ""
            },
            "colorscale": [
             [
              0,
              "#0d0887"
             ],
             [
              0.1111111111111111,
              "#46039f"
             ],
             [
              0.2222222222222222,
              "#7201a8"
             ],
             [
              0.3333333333333333,
              "#9c179e"
             ],
             [
              0.4444444444444444,
              "#bd3786"
             ],
             [
              0.5555555555555556,
              "#d8576b"
             ],
             [
              0.6666666666666666,
              "#ed7953"
             ],
             [
              0.7777777777777778,
              "#fb9f3a"
             ],
             [
              0.8888888888888888,
              "#fdca26"
             ],
             [
              1,
              "#f0f921"
             ]
            ],
            "type": "heatmap"
           }
          ],
          "heatmapgl": [
           {
            "colorbar": {
             "outlinewidth": 0,
             "ticks": ""
            },
            "colorscale": [
             [
              0,
              "#0d0887"
             ],
             [
              0.1111111111111111,
              "#46039f"
             ],
             [
              0.2222222222222222,
              "#7201a8"
             ],
             [
              0.3333333333333333,
              "#9c179e"
             ],
             [
              0.4444444444444444,
              "#bd3786"
             ],
             [
              0.5555555555555556,
              "#d8576b"
             ],
             [
              0.6666666666666666,
              "#ed7953"
             ],
             [
              0.7777777777777778,
              "#fb9f3a"
             ],
             [
              0.8888888888888888,
              "#fdca26"
             ],
             [
              1,
              "#f0f921"
             ]
            ],
            "type": "heatmapgl"
           }
          ],
          "histogram": [
           {
            "marker": {
             "pattern": {
              "fillmode": "overlay",
              "size": 10,
              "solidity": 0.2
             }
            },
            "type": "histogram"
           }
          ],
          "histogram2d": [
           {
            "colorbar": {
             "outlinewidth": 0,
             "ticks": ""
            },
            "colorscale": [
             [
              0,
              "#0d0887"
             ],
             [
              0.1111111111111111,
              "#46039f"
             ],
             [
              0.2222222222222222,
              "#7201a8"
             ],
             [
              0.3333333333333333,
              "#9c179e"
             ],
             [
              0.4444444444444444,
              "#bd3786"
             ],
             [
              0.5555555555555556,
              "#d8576b"
             ],
             [
              0.6666666666666666,
              "#ed7953"
             ],
             [
              0.7777777777777778,
              "#fb9f3a"
             ],
             [
              0.8888888888888888,
              "#fdca26"
             ],
             [
              1,
              "#f0f921"
             ]
            ],
            "type": "histogram2d"
           }
          ],
          "histogram2dcontour": [
           {
            "colorbar": {
             "outlinewidth": 0,
             "ticks": ""
            },
            "colorscale": [
             [
              0,
              "#0d0887"
             ],
             [
              0.1111111111111111,
              "#46039f"
             ],
             [
              0.2222222222222222,
              "#7201a8"
             ],
             [
              0.3333333333333333,
              "#9c179e"
             ],
             [
              0.4444444444444444,
              "#bd3786"
             ],
             [
              0.5555555555555556,
              "#d8576b"
             ],
             [
              0.6666666666666666,
              "#ed7953"
             ],
             [
              0.7777777777777778,
              "#fb9f3a"
             ],
             [
              0.8888888888888888,
              "#fdca26"
             ],
             [
              1,
              "#f0f921"
             ]
            ],
            "type": "histogram2dcontour"
           }
          ],
          "mesh3d": [
           {
            "colorbar": {
             "outlinewidth": 0,
             "ticks": ""
            },
            "type": "mesh3d"
           }
          ],
          "parcoords": [
           {
            "line": {
             "colorbar": {
              "outlinewidth": 0,
              "ticks": ""
             }
            },
            "type": "parcoords"
           }
          ],
          "pie": [
           {
            "automargin": true,
            "type": "pie"
           }
          ],
          "scatter": [
           {
            "fillpattern": {
             "fillmode": "overlay",
             "size": 10,
             "solidity": 0.2
            },
            "type": "scatter"
           }
          ],
          "scatter3d": [
           {
            "line": {
             "colorbar": {
              "outlinewidth": 0,
              "ticks": ""
             }
            },
            "marker": {
             "colorbar": {
              "outlinewidth": 0,
              "ticks": ""
             }
            },
            "type": "scatter3d"
           }
          ],
          "scattercarpet": [
           {
            "marker": {
             "colorbar": {
              "outlinewidth": 0,
              "ticks": ""
             }
            },
            "type": "scattercarpet"
           }
          ],
          "scattergeo": [
           {
            "marker": {
             "colorbar": {
              "outlinewidth": 0,
              "ticks": ""
             }
            },
            "type": "scattergeo"
           }
          ],
          "scattergl": [
           {
            "marker": {
             "colorbar": {
              "outlinewidth": 0,
              "ticks": ""
             }
            },
            "type": "scattergl"
           }
          ],
          "scattermapbox": [
           {
            "marker": {
             "colorbar": {
              "outlinewidth": 0,
              "ticks": ""
             }
            },
            "type": "scattermapbox"
           }
          ],
          "scatterpolar": [
           {
            "marker": {
             "colorbar": {
              "outlinewidth": 0,
              "ticks": ""
             }
            },
            "type": "scatterpolar"
           }
          ],
          "scatterpolargl": [
           {
            "marker": {
             "colorbar": {
              "outlinewidth": 0,
              "ticks": ""
             }
            },
            "type": "scatterpolargl"
           }
          ],
          "scatterternary": [
           {
            "marker": {
             "colorbar": {
              "outlinewidth": 0,
              "ticks": ""
             }
            },
            "type": "scatterternary"
           }
          ],
          "surface": [
           {
            "colorbar": {
             "outlinewidth": 0,
             "ticks": ""
            },
            "colorscale": [
             [
              0,
              "#0d0887"
             ],
             [
              0.1111111111111111,
              "#46039f"
             ],
             [
              0.2222222222222222,
              "#7201a8"
             ],
             [
              0.3333333333333333,
              "#9c179e"
             ],
             [
              0.4444444444444444,
              "#bd3786"
             ],
             [
              0.5555555555555556,
              "#d8576b"
             ],
             [
              0.6666666666666666,
              "#ed7953"
             ],
             [
              0.7777777777777778,
              "#fb9f3a"
             ],
             [
              0.8888888888888888,
              "#fdca26"
             ],
             [
              1,
              "#f0f921"
             ]
            ],
            "type": "surface"
           }
          ],
          "table": [
           {
            "cells": {
             "fill": {
              "color": "#EBF0F8"
             },
             "line": {
              "color": "white"
             }
            },
            "header": {
             "fill": {
              "color": "#C8D4E3"
             },
             "line": {
              "color": "white"
             }
            },
            "type": "table"
           }
          ]
         },
         "layout": {
          "annotationdefaults": {
           "arrowcolor": "#2a3f5f",
           "arrowhead": 0,
           "arrowwidth": 1
          },
          "autotypenumbers": "strict",
          "coloraxis": {
           "colorbar": {
            "outlinewidth": 0,
            "ticks": ""
           }
          },
          "colorscale": {
           "diverging": [
            [
             0,
             "#8e0152"
            ],
            [
             0.1,
             "#c51b7d"
            ],
            [
             0.2,
             "#de77ae"
            ],
            [
             0.3,
             "#f1b6da"
            ],
            [
             0.4,
             "#fde0ef"
            ],
            [
             0.5,
             "#f7f7f7"
            ],
            [
             0.6,
             "#e6f5d0"
            ],
            [
             0.7,
             "#b8e186"
            ],
            [
             0.8,
             "#7fbc41"
            ],
            [
             0.9,
             "#4d9221"
            ],
            [
             1,
             "#276419"
            ]
           ],
           "sequential": [
            [
             0,
             "#0d0887"
            ],
            [
             0.1111111111111111,
             "#46039f"
            ],
            [
             0.2222222222222222,
             "#7201a8"
            ],
            [
             0.3333333333333333,
             "#9c179e"
            ],
            [
             0.4444444444444444,
             "#bd3786"
            ],
            [
             0.5555555555555556,
             "#d8576b"
            ],
            [
             0.6666666666666666,
             "#ed7953"
            ],
            [
             0.7777777777777778,
             "#fb9f3a"
            ],
            [
             0.8888888888888888,
             "#fdca26"
            ],
            [
             1,
             "#f0f921"
            ]
           ],
           "sequentialminus": [
            [
             0,
             "#0d0887"
            ],
            [
             0.1111111111111111,
             "#46039f"
            ],
            [
             0.2222222222222222,
             "#7201a8"
            ],
            [
             0.3333333333333333,
             "#9c179e"
            ],
            [
             0.4444444444444444,
             "#bd3786"
            ],
            [
             0.5555555555555556,
             "#d8576b"
            ],
            [
             0.6666666666666666,
             "#ed7953"
            ],
            [
             0.7777777777777778,
             "#fb9f3a"
            ],
            [
             0.8888888888888888,
             "#fdca26"
            ],
            [
             1,
             "#f0f921"
            ]
           ]
          },
          "colorway": [
           "#636efa",
           "#EF553B",
           "#00cc96",
           "#ab63fa",
           "#FFA15A",
           "#19d3f3",
           "#FF6692",
           "#B6E880",
           "#FF97FF",
           "#FECB52"
          ],
          "font": {
           "color": "#2a3f5f"
          },
          "geo": {
           "bgcolor": "white",
           "lakecolor": "white",
           "landcolor": "#E5ECF6",
           "showlakes": true,
           "showland": true,
           "subunitcolor": "white"
          },
          "hoverlabel": {
           "align": "left"
          },
          "hovermode": "closest",
          "mapbox": {
           "style": "light"
          },
          "paper_bgcolor": "white",
          "plot_bgcolor": "#E5ECF6",
          "polar": {
           "angularaxis": {
            "gridcolor": "white",
            "linecolor": "white",
            "ticks": ""
           },
           "bgcolor": "#E5ECF6",
           "radialaxis": {
            "gridcolor": "white",
            "linecolor": "white",
            "ticks": ""
           }
          },
          "scene": {
           "xaxis": {
            "backgroundcolor": "#E5ECF6",
            "gridcolor": "white",
            "gridwidth": 2,
            "linecolor": "white",
            "showbackground": true,
            "ticks": "",
            "zerolinecolor": "white"
           },
           "yaxis": {
            "backgroundcolor": "#E5ECF6",
            "gridcolor": "white",
            "gridwidth": 2,
            "linecolor": "white",
            "showbackground": true,
            "ticks": "",
            "zerolinecolor": "white"
           },
           "zaxis": {
            "backgroundcolor": "#E5ECF6",
            "gridcolor": "white",
            "gridwidth": 2,
            "linecolor": "white",
            "showbackground": true,
            "ticks": "",
            "zerolinecolor": "white"
           }
          },
          "shapedefaults": {
           "line": {
            "color": "#2a3f5f"
           }
          },
          "ternary": {
           "aaxis": {
            "gridcolor": "white",
            "linecolor": "white",
            "ticks": ""
           },
           "baxis": {
            "gridcolor": "white",
            "linecolor": "white",
            "ticks": ""
           },
           "bgcolor": "#E5ECF6",
           "caxis": {
            "gridcolor": "white",
            "linecolor": "white",
            "ticks": ""
           }
          },
          "title": {
           "x": 0.05
          },
          "xaxis": {
           "automargin": true,
           "gridcolor": "white",
           "linecolor": "white",
           "ticks": "",
           "title": {
            "standoff": 15
           },
           "zerolinecolor": "white",
           "zerolinewidth": 2
          },
          "yaxis": {
           "automargin": true,
           "gridcolor": "white",
           "linecolor": "white",
           "ticks": "",
           "title": {
            "standoff": 15
           },
           "zerolinecolor": "white",
           "zerolinewidth": 2
          }
         }
        },
        "title": {
         "text": "Exchange - [stmp]"
        },
        "width": 800,
        "yaxis": {
         "title": {
          "text": "Price"
         }
        }
       }
      }
     },
     "metadata": {},
     "output_type": "display_data"
    }
   ],
   "source": [
    "#_SELECTION_DES_PARAMETRES_#\n",
    "\n",
    "def select_time_ladder(initial_frequency='60min'): #Widget select 'frequency'\n",
    "    options = ['60min', '30min', '5min']                                                                        \n",
    "    dropdown_ladder = widgets.Dropdown(options=options, description='Interval:', value=initial_frequency)       #Création du widget de sélection\n",
    "    \n",
    "    def on_change(change):   #Update\n",
    "        if change['type'] == 'change' and change['name'] == 'value':        #En cas de changement de sélection, la nouvelle valeur correspond à la valeur sélectionnée\n",
    "            clear_output()                                                  #Nettoyage pour MàJ affichage\n",
    "            aggregation(dropdown_ladder.value, dropdown_vwmp_type.value)    #Aggrégation des données avec paramètres sélectionnés en tant qu'arguments\n",
    "                \n",
    "    dropdown_ladder.observe(on_change)      #Observation du changement de sélection\n",
    "    return dropdown_ladder\n",
    "\n",
    "def select_vwmp_type(initial_vwmp_type='lower'):    #Widget select 'vwmp_type'\n",
    "    options = ['lower', 'upper']                                                                                    \n",
    "    dropdown_vwmp_type = widgets.Dropdown(options=options, description='VWMP:', value=initial_vwmp_type)        #Création du widget de sélection\n",
    "    \n",
    "    def on_change(change):      #Update\n",
    "       if change['type'] == 'change' and change['name'] == 'value':         #En cas de changement de sélection, la nouvelle valeur correspond à la valeur sélectionnée\n",
    "            clear_output()                                                  #Nettoyage pour MàJ affichage\n",
    "            aggregation(dropdown_ladder.value, dropdown_vwmp_type.value)    #Aggrégation des données avec paramètres sélectionnés en tant qu'arguments\n",
    "            \n",
    "    dropdown_vwmp_type.observe(on_change)       #Observation du changement de sélection\n",
    "    return dropdown_vwmp_type\n",
    "\n",
    "#_AGGREGATION_#\n",
    "\n",
    "def aggregation(frequency, vwmp_type):      #Boucles de manipulations des dataframes (1 boucle calcul + 1 boucle cleaning)\n",
    "    \n",
    "    print(\"...calcul en cours\")\n",
    "    aggregated_dict = {}                        \n",
    "\n",
    "    for key, df in dataframes_dict.items():     #Boucle de calcul (B1)\n",
    "        aggregated_df = process_dataframe(key, df, frequency, vwmp_type) \n",
    "        aggregated_dict[key] = aggregated_df     \n",
    "\n",
    "    for key, df in aggregated_dict.items():     #Boucle de cleaning (B2)\n",
    "        cleaned_df = cleaning(df) \n",
    "        cleaned_dict[key] = cleaned_df \n",
    "\n",
    "    clear_output()\n",
    "    visualisation(cleaned_dict)     #Fonction d'affichage des résultats sous forme de graphique en chandelier japonais + widgets de sélection\n",
    "\n",
    "    return cleaned_dict\n",
    "  \n",
    "##__Boucle_1__## \n",
    "\n",
    "def process_dataframe(key, df, frequency, vwmp_type):   #Structure de calcul du dataframe\n",
    "    \n",
    "    exchange_name_splitted = (str(key)).split(\"df_\")        #Extraction du nom de l'exchange\n",
    "    exchange_name = exchange_name_splitted[1]\n",
    "\n",
    "    df['weighted_volume'] = (df['price'] * df['amount'])        #Calcul du Weighted_Volume de chaque transaction avant agréggation\n",
    "\n",
    "    aggregated_df = initial_aggregation(df, frequency)      #Agrégation des transactions initiales\n",
    "\n",
    "    aggregated_df[f'{exchange_name}_vwap'] = df.groupby(pd.Grouper(key='timestamp', freq=frequency)).apply(calculate_vwap)                                           #Calcul du Volume Weighted Average Price [VWAP] \n",
    "    aggregated_df['ecart_type'] = df.groupby(pd.Grouper(key='timestamp', freq=frequency)).apply(calculate_ecart_type)                                                #Calcul de l'écart_type \n",
    "    aggregated_df[f'vwmp_{vwmp_type}'] = df.groupby(pd.Grouper(key='timestamp', freq=frequency)).apply(lambda group: pd.Series(calculate_vwmp(group, vwmp_type)))    #Calcul du Volume Weighted Median Price [VWMP (lower or upper)] \n",
    "\n",
    "    return aggregated_df \n",
    "\n",
    "def initial_aggregation(df, frequency):     #Aggrégation initiale des transactions                          \n",
    "            \n",
    "    aggregated_df = df.groupby(pd.Grouper(key='timestamp', freq=frequency)).agg({    #Fonctions d'agrégation pour chaque colonnes\n",
    "        'price': ['sum', 'first', 'max', 'min', 'last'],             \n",
    "        'amount': 'sum',\n",
    "        'weighted_volume': 'sum'\n",
    "    })\n",
    "\n",
    "    aggregated_df.columns = [       #Renommage des colonnes\n",
    "                            'price', 'price_open', 'price_high', 'price_low', 'price_close',\n",
    "                            'amount',\n",
    "                            'weighted_volume'\n",
    "    ]\n",
    "    \n",
    "    return aggregated_df\n",
    "\n",
    "def calculate_vwap(group):      #Calcul du Volume Weighted Average Price [VWAP]   \n",
    "    sum_price_amount = group['weighted_volume'].sum()                                           \n",
    "    sum_amount = group['amount'].sum()\n",
    "\n",
    "    if sum_amount != 0:\n",
    "        return sum_price_amount / sum_amount \n",
    "    else : \n",
    "        return 0    \n",
    "\n",
    "def calculate_ecart_type(group):        #Calcul de l'écart_type\n",
    "    \n",
    "    ecart_type = np.nanstd(group['price'])      #'np.nanstd' pour exclure les valeurs nulles dans le calcul de l'écart type \n",
    "    if ecart_type != np.nan :\n",
    "        return ecart_type\n",
    "    else : \n",
    "        return 0        #écart type à zéro dans le cas d'un échantillon de taille 1 (une seule valeur de 'price' sur la période)\n",
    "\n",
    "def calculate_vwmp(group, vwmp_type):  #Calcul du Volume Weighted Median Price [VWMP (lower or upper)] \n",
    "\n",
    "    series_sorted = group.sort_values('amount')                         #Tri du volume par ordre croissant\n",
    "    series_sorted['cumul_amount'] = series_sorted['amount'].cumsum()    #Calcul du volume cumulé\n",
    "    total_volume_median = series_sorted['cumul_amount'].max() / 2       #Calcul de la médiane\n",
    "    #--------\n",
    "    if vwmp_type == 'lower':    #LOWER\n",
    "       \n",
    "        lower_cumulative_volume = series_sorted[series_sorted['cumul_amount'] <= total_volume_median]   #Filtrage de la série pour conserver la partie inférieure (>=) du volume cumulé \n",
    "       \n",
    "        if not lower_cumulative_volume.empty:   #Si la taille de l'échantillon est >> 2\n",
    "           \n",
    "            max_cumul_amount_index = lower_cumulative_volume['cumul_amount'].idxmax()   #Identification de la ligne correspondante au volume cumulé maximum de la série filtrée (ensemble inférieure)\n",
    "            vwmp_lower = group.loc[max_cumul_amount_index, 'price']                     #Déduction du prix médian bas pondéré par le volume\n",
    "            return vwmp_lower  \n",
    "        \n",
    "        else : \n",
    "            return group['price'].mean()    #Cas particuliers (mesuré x3 occurences) soit (vwmp = price si échantillon = 1 ;  vwmp = 0 si échantillon = 0) -> utilisation de la fonction mean pour renvoyer ce résultat\n",
    "\n",
    "    #-- - -- - -- - -- - -- - -- - -- - -- - -- - -- - -- - -- - -- - -- - -- - -- - -- - -- - -- - -- - #symétrie\n",
    "\n",
    "    if vwmp_type == 'upper':    #UPPER\n",
    "    \n",
    "        upper_cumulative_volume = series_sorted[series_sorted['cumul_amount'] <= total_volume_median]   #Filtrage de la série pour conserver la partie inférieure (>=) du volume cumulé \n",
    "    \n",
    "        if not upper_cumulative_volume.empty:   #Si la taille de l'échantillon est >> 2\n",
    "       \n",
    "            min_cumul_amount_index = upper_cumulative_volume['cumul_amount'].idxmin()   #Identification de la ligne correspondante au volume cumulé maximum de la série filtrée (ensemble inférieure)\n",
    "            vwmp_upper = group.loc[min_cumul_amount_index, 'price']                     #Déduction du prix médian bas pondéré par le volume\n",
    "            return vwmp_upper  \n",
    "    \n",
    "        else : \n",
    "            return group['price'].mean()    #Cas particuliers (mesuré x3 occurences) soit (vwmp = price si échantillon = 1 ;  vwmp = 0 si échantillon = 0) -> utilisation de la fonction mean pour renvoyer ce résultat\n",
    "    #----------\n",
    "    else:\n",
    "        raise ValueError(\"Mode non valide. Veuillez spécifier 'lower' ou 'upper'.\")\n",
    "\n",
    "##__Boucle_2__## \n",
    "\n",
    "def cleaning(df):   #Supprime les lignes vides (pas de transactions dans un intervalle de temps)\n",
    "    \n",
    "    df_cleaned = df.copy()                                                      #Copie pour ne pas modifier le df original\n",
    "    df_cleaned = df_cleaned[~df_cleaned.apply(                                  #Filtrage des lignes où toutes les valeurs sont nulles\n",
    "        lambda row: all(val == 0.0 or pd.isnull(val) for val in row), axis=1    \n",
    "    )] \n",
    "    \n",
    "    return df_cleaned\n",
    "\n",
    "#_VISUALISE_#\n",
    "       \n",
    "def visualisation(cleaned_dict):    #Boucle de création de graphique\n",
    "    \n",
    "    # WIDGETS # \n",
    "    grid = widgets.GridspecLayout(1, 10) \n",
    "    grid[0, 0] = export_button\n",
    "    grid[0, 1] = dropdown_ladder\n",
    "    grid[0, 2] = dropdown_vwmp_type\n",
    "    display(grid)  \n",
    "       \n",
    "    for key, df in reversed(list(cleaned_dict.items())):        #Boucle de création de graphique pour chaque dataframe\n",
    "    \n",
    "        exchange_name_splitted = (str(key)).split(\"df_\")        #Extraction du nom de l'exchange\n",
    "        exchange_name = exchange_name_splitted[1]\n",
    "\n",
    "        candlestick = go.Figure(data=[go.Candlestick(x=df.index, #Création d'un graphique en chandelier japonais \n",
    "                                                      open=df['price_open'],\n",
    "                                                      high=df['price_high'],\n",
    "                                                      low=df['price_low'],\n",
    "                                                      close=df['price_close']\n",
    "                                                     )])\n",
    "\n",
    "        candlestick.update_layout(title=f'Exchange - [{exchange_name}]', #Mise à jour du graphique\n",
    "                                  yaxis_title='Price',\n",
    "                                  height=300,  \n",
    "                                  width=800,   \n",
    "                                  margin=dict(l=70, r=50, t=50, b=20)\n",
    "                                  )\n",
    "       \n",
    "        candlestick.add_trace(go.Scatter(x=df.index, y=df[f'{exchange_name}_vwap'], mode='lines', name='VWAP', line_color='blue'))      #Ajout courbe du Volume Weighted Average Price [VWAP]\n",
    "        \n",
    "        column_index = 9                                                                                                                #Index de la colonne 'vwmp_XXXer'(10ème colonne)\n",
    "        column_name = df.columns[column_index]                                                                                          #Nom de la colonne 'vwmp_upper' ou 'vwmp_lower' \n",
    "        candlestick.add_trace(go.Scatter(x=df.index, y=df.iloc[:, column_index], mode='lines', name=column_name, line_color='grey'))    #Ajout courbe du Volume Weighted Median Price [VWMP] avec nom de série associé\n",
    "        \n",
    "        candlestick.show()      #Affichage du graphique crée pour le dataframe\n",
    "    \n",
    "    \n",
    "#_EXPORT_CSV_#\n",
    "\n",
    "def export_csv(export_folder):      #Fonction en cas de clic sur le wigdget 'Exporter en csv'\n",
    "    \n",
    "    concatenated_dict = {}                                  #Dictionnaire concaténé = cleaned_dict + 'synthese'     \n",
    "    concatenated_dict = concatenate_output(cleaned_dict)    #Remplissage de concatenated_dict avec la fonction \"concatenate_output\"\n",
    "\n",
    "    for key, df in concatenated_dict.items():   \n",
    "\n",
    "        filename = (f\"{key}.csv\")                   #ID du fichier csv = nom du dataframe\n",
    "        file_path = export_folder + filename        #Chemin de l'enregistrement\n",
    "        df.to_csv(file_path, index=True)            #enregistre le dataframe en fichier .csv\n",
    "    \n",
    "    print(f\"Export des fichiers csv avec succès (voir arborescence ci-dessous): {export_folder}\")\n",
    "\n",
    "    return concatenated_dict \n",
    "\n",
    "def concatenate_output(cleaned_dict):       #Assemblage des résultats dans un dataframe 'synthese' \n",
    "    \n",
    "    df_output = None    #Déclaration d'un dataframe vide\n",
    "    \n",
    "    for key, df in cleaned_dict.items():        \n",
    "        \n",
    "        exchange_name_splitted = (str(key)).split(\"df_\")   #Extraction du nom de l'exchange dans le nom du dataframe\n",
    "        exchange_name = exchange_name_splitted[1]\n",
    "                        \n",
    "        if f'{exchange_name}_vwap' in df.columns:          #Check si la colonne 'vwap' existe dans le dataframe \n",
    "            \n",
    "            vwap_column = df[f'{exchange_name}_vwap']      #Identifie la colonne 'wvap' de l'exchange\n",
    "                        \n",
    "            if df_output is None:                          #1ère itération\n",
    "               df_output = vwap_column.to_frame()          #Copie de la colonne 'vwap' de l'exchange et intégration au dataframe de synthese\n",
    "            else:\n",
    "               df_output = pd.concat([df_output, vwap_column], axis=1)  #itération >= 2 : concaténe la colonne 'wvap' de l'exchange au dataframe de synthese\n",
    "    \n",
    "        concatenated_dict = cleaned_dict.copy()            #Duplication du dictionnaire d'entrée\n",
    "        concatenated_dict['synthese'] = df_output          #Intégration du dataframe 'synthese' dans le nouveau dictionnaire\n",
    "        \n",
    "    return concatenated_dict\n",
    "\n",
    "def on_export_button_click(b):      #Widget pour export csv\n",
    "    \n",
    "    notebook_dir = os.getcwd()                              #Chemin du notebook\n",
    "    now = datetime.now().strftime(\"%Y-%m-%d_%H-%M-%S\")      #Timestamp du lancement export\n",
    "    export_folder = (notebook_dir) + '/../output/Export_' + (now) + '_freq-'+ (dropdown_ladder.value) + '_vwmp-' + (dropdown_vwmp_type.value) +'/'      #Création d'un dossier 'export' horodaté avec les paramètres sélectionnées à l'export\n",
    "    \n",
    "    os.mkdir(export_folder)         #Création du dossier 'Export_YYYY-MM-DD_HH-MM-SS_freq-Xmin_vwmp-X'\n",
    "    export_csv(export_folder)       #Appel fonction 'export csv' \n",
    "\n",
    "export_button = widgets.Button(description=\"Exporter en CSV\")\n",
    "\n",
    "#_INITIALISATION_#\n",
    "\n",
    "cleaned_dict = {}    #Dictionnaire des données agrégées et nettoyées\n",
    "\n",
    "dropdown_ladder = select_time_ladder()              #init selection 'frequency' par défault\n",
    "dropdown_vwmp_type = select_vwmp_type()             #init selection 'vwmp_type' par défaut\n",
    "export_button.on_click(on_export_button_click)      #init button_click pour exporter en csv\n",
    "\n",
    "aggregation(dropdown_ladder.value, dropdown_vwmp_type.value)    #initialisation par défaut"
   ]
  },
  {
   "cell_type": "markdown",
   "metadata": {},
   "source": [
    "#### RESULTATS"
   ]
  },
  {
   "cell_type": "markdown",
   "metadata": {},
   "source": [
    "Dans le cas où les widgets ne fonctionnerait pas dans le jupyter notebook :"
   ]
  },
  {
   "cell_type": "markdown",
   "metadata": {},
   "source": [
    "1) Lancer l'aggrégation avec les paramètres souhaités et visualiser les résultats :"
   ]
  },
  {
   "cell_type": "code",
   "execution_count": null,
   "metadata": {},
   "outputs": [
    {
     "data": {
      "application/vnd.jupyter.widget-view+json": {
       "model_id": "27ac7309e43d484884844fb0cca11ff5",
       "version_major": 2,
       "version_minor": 0
      },
      "text/plain": [
       "GridspecLayout(children=(Button(description='Exporter en CSV', layout=Layout(grid_area='widget001'), style=But…"
      ]
     },
     "metadata": {},
     "output_type": "display_data"
    },
    {
     "data": {
      "application/vnd.plotly.v1+json": {
       "config": {
        "plotlyServerURL": "https://plot.ly"
       },
       "data": [
        {
         "close": [
          47260,
          48498.9,
          49200,
          50236.98,
          50042.36,
          50220.01,
          50284.21,
          50932.71,
          50701,
          50650.86,
          50394.38,
          50166,
          49665.03,
          50099.64,
          49696.16,
          50082.62,
          50643.76,
          50666.7,
          50787.29,
          50900.68,
          50474.9,
          50150.1,
          50777.86,
          50380,
          51132.5,
          50746.3,
          49621.93,
          49479.41,
          49492.97,
          49427.61,
          49178.48,
          49850.22,
          49510.21,
          49330,
          49738.96,
          50081,
          49685.15,
          49619.18,
          49457.47,
          48990.27,
          48898.07,
          49174.4,
          48173.98,
          48757.56,
          48710,
          48833.25,
          49360,
          49737.82
         ],
         "high": [
          49130.5,
          48526.33,
          49380,
          50353.43,
          50820.16,
          50490.058,
          50573.45,
          51001,
          51459.51,
          51002.277,
          51064.836108,
          50554.59,
          50710.31,
          50551.92,
          50206.4,
          50374.4,
          50944,
          51089.72,
          51058.84,
          51449.5,
          51088.359,
          50671.5,
          50957.67,
          50903.97,
          51227,
          51364.74,
          51123.31,
          49898.5,
          49811.25,
          49713.864,
          49670.727,
          49916.8,
          50314.08,
          49907.16,
          50016.49,
          50126.6,
          50171.79,
          50044.5,
          49748.4,
          49475.25,
          49293.55,
          49279.32,
          49193.77,
          48968.01,
          48790.49,
          49004.72,
          49579.74,
          49840.2
         ],
         "low": [
          46902,
          47166,
          48412,
          48732.8,
          49781.14,
          50027,
          50042,
          50207,
          50647,
          50328,
          49941,
          50124,
          49210,
          49524.08,
          49472,
          49659,
          49770.5,
          50287,
          50293,
          50695,
          50052,
          50050,
          50057,
          50200,
          50324.99,
          50603,
          49329,
          48940.12,
          49100.7,
          48691.6,
          48350,
          48883.1808809,
          49365,
          49298.688164,
          49313,
          49611,
          49510,
          49579.819,
          49280,
          48804,
          48750,
          48569,
          48135.88,
          48111,
          48036.5,
          48489,
          48753.08,
          49331.6
         ],
         "open": [
          48899.99,
          47257.14,
          48499,
          49214.39,
          50224.22,
          50054.3,
          50190.12,
          50286.6,
          50929.46,
          50721.08,
          50611,
          50394.38,
          50264.18,
          49658.53,
          50098.05,
          49712.25,
          50090.93,
          50643.59,
          50659.75,
          50797.05,
          50900,
          50442.21,
          50127.96,
          50777.86,
          50379.99,
          51162.91,
          50738.3,
          49620,
          49480.2,
          49483.59,
          49430.41,
          49171.11,
          49847.54,
          49536.01,
          49371.49,
          49744.8,
          50096.69,
          49685.14,
          49631.06,
          49472.47,
          48990.27,
          48884,
          49152.28,
          48203.36,
          48768.54,
          48710.06,
          48831.81,
          49359.99
         ],
         "type": "candlestick",
         "x": [
          "2021-02-24T00:00:00",
          "2021-02-24T00:30:00",
          "2021-02-24T01:00:00",
          "2021-02-24T01:30:00",
          "2021-02-24T02:00:00",
          "2021-02-24T02:30:00",
          "2021-02-24T03:00:00",
          "2021-02-24T03:30:00",
          "2021-02-24T04:00:00",
          "2021-02-24T04:30:00",
          "2021-02-24T05:00:00",
          "2021-02-24T05:30:00",
          "2021-02-24T06:00:00",
          "2021-02-24T06:30:00",
          "2021-02-24T07:00:00",
          "2021-02-24T07:30:00",
          "2021-02-24T08:00:00",
          "2021-02-24T08:30:00",
          "2021-02-24T09:00:00",
          "2021-02-24T09:30:00",
          "2021-02-24T10:00:00",
          "2021-02-24T10:30:00",
          "2021-02-24T11:00:00",
          "2021-02-24T11:30:00",
          "2021-02-24T12:00:00",
          "2021-02-24T12:30:00",
          "2021-02-24T13:00:00",
          "2021-02-24T13:30:00",
          "2021-02-24T14:00:00",
          "2021-02-24T14:30:00",
          "2021-02-24T15:00:00",
          "2021-02-24T15:30:00",
          "2021-02-24T16:00:00",
          "2021-02-24T16:30:00",
          "2021-02-24T17:00:00",
          "2021-02-24T17:30:00",
          "2021-02-24T18:00:00",
          "2021-02-24T18:30:00",
          "2021-02-24T19:00:00",
          "2021-02-24T19:30:00",
          "2021-02-24T20:00:00",
          "2021-02-24T20:30:00",
          "2021-02-24T21:00:00",
          "2021-02-24T21:30:00",
          "2021-02-24T22:00:00",
          "2021-02-24T22:30:00",
          "2021-02-24T23:00:00",
          "2021-02-24T23:30:00"
         ]
        },
        {
         "line": {
          "color": "blue"
         },
         "mode": "lines",
         "name": "VWAP",
         "type": "scatter",
         "x": [
          "2021-02-24T00:00:00",
          "2021-02-24T00:30:00",
          "2021-02-24T01:00:00",
          "2021-02-24T01:30:00",
          "2021-02-24T02:00:00",
          "2021-02-24T02:30:00",
          "2021-02-24T03:00:00",
          "2021-02-24T03:30:00",
          "2021-02-24T04:00:00",
          "2021-02-24T04:30:00",
          "2021-02-24T05:00:00",
          "2021-02-24T05:30:00",
          "2021-02-24T06:00:00",
          "2021-02-24T06:30:00",
          "2021-02-24T07:00:00",
          "2021-02-24T07:30:00",
          "2021-02-24T08:00:00",
          "2021-02-24T08:30:00",
          "2021-02-24T09:00:00",
          "2021-02-24T09:30:00",
          "2021-02-24T10:00:00",
          "2021-02-24T10:30:00",
          "2021-02-24T11:00:00",
          "2021-02-24T11:30:00",
          "2021-02-24T12:00:00",
          "2021-02-24T12:30:00",
          "2021-02-24T13:00:00",
          "2021-02-24T13:30:00",
          "2021-02-24T14:00:00",
          "2021-02-24T14:30:00",
          "2021-02-24T15:00:00",
          "2021-02-24T15:30:00",
          "2021-02-24T16:00:00",
          "2021-02-24T16:30:00",
          "2021-02-24T17:00:00",
          "2021-02-24T17:30:00",
          "2021-02-24T18:00:00",
          "2021-02-24T18:30:00",
          "2021-02-24T19:00:00",
          "2021-02-24T19:30:00",
          "2021-02-24T20:00:00",
          "2021-02-24T20:30:00",
          "2021-02-24T21:00:00",
          "2021-02-24T21:30:00",
          "2021-02-24T22:00:00",
          "2021-02-24T22:30:00",
          "2021-02-24T23:00:00",
          "2021-02-24T23:30:00"
         ],
         "y": [
          47920.53353112129,
          47800.29039507475,
          48928.49307345267,
          49637.08862502685,
          50210.20307276306,
          50296.34584651784,
          50375.68005122857,
          50647.812154115396,
          51093.50543319536,
          50688.77493994098,
          50508.347713727075,
          50353.74428908956,
          49912.02665770825,
          49916.310453854705,
          49807.27085760048,
          50110.45061216081,
          50538.79283429193,
          50632.99777079214,
          50713.80379617025,
          51061.089876539474,
          50614.12867404763,
          50429.29835082758,
          50513.13986552147,
          50485.08630300735,
          50859.44083742233,
          50996.70181321,
          50111.72295165814,
          49404.029234723224,
          49478.34251208568,
          49157.661737585055,
          48961.86848717715,
          49468.93326925149,
          49803.64481022251,
          49643.4352022356,
          49794.956323871884,
          49849.390423415505,
          49783.82960884895,
          49817.61444240831,
          49507.59244416753,
          49068.59609736983,
          49014.57313998658,
          48865.423814985625,
          48530.185045323014,
          48409.35814613017,
          48372.13896134768,
          48777.13285605167,
          49302.19577314924,
          49617.54585951973
         ]
        },
        {
         "line": {
          "color": "grey"
         },
         "mode": "lines",
         "name": "vwmp_lower",
         "type": "scatter",
         "x": [
          "2021-02-24T00:00:00",
          "2021-02-24T00:30:00",
          "2021-02-24T01:00:00",
          "2021-02-24T01:30:00",
          "2021-02-24T02:00:00",
          "2021-02-24T02:30:00",
          "2021-02-24T03:00:00",
          "2021-02-24T03:30:00",
          "2021-02-24T04:00:00",
          "2021-02-24T04:30:00",
          "2021-02-24T05:00:00",
          "2021-02-24T05:30:00",
          "2021-02-24T06:00:00",
          "2021-02-24T06:30:00",
          "2021-02-24T07:00:00",
          "2021-02-24T07:30:00",
          "2021-02-24T08:00:00",
          "2021-02-24T08:30:00",
          "2021-02-24T09:00:00",
          "2021-02-24T09:30:00",
          "2021-02-24T10:00:00",
          "2021-02-24T10:30:00",
          "2021-02-24T11:00:00",
          "2021-02-24T11:30:00",
          "2021-02-24T12:00:00",
          "2021-02-24T12:30:00",
          "2021-02-24T13:00:00",
          "2021-02-24T13:30:00",
          "2021-02-24T14:00:00",
          "2021-02-24T14:30:00",
          "2021-02-24T15:00:00",
          "2021-02-24T15:30:00",
          "2021-02-24T16:00:00",
          "2021-02-24T16:30:00",
          "2021-02-24T17:00:00",
          "2021-02-24T17:30:00",
          "2021-02-24T18:00:00",
          "2021-02-24T18:30:00",
          "2021-02-24T19:00:00",
          "2021-02-24T19:30:00",
          "2021-02-24T20:00:00",
          "2021-02-24T20:30:00",
          "2021-02-24T21:00:00",
          "2021-02-24T21:30:00",
          "2021-02-24T22:00:00",
          "2021-02-24T22:30:00",
          "2021-02-24T23:00:00",
          "2021-02-24T23:30:00"
         ],
         "y": [
          47694.66,
          48226.2,
          49312.94,
          49658.79,
          50002.4,
          50270.33,
          50182.39,
          50705.07,
          51024.81,
          50799.45,
          50096.54,
          50426.2,
          50196,
          50115,
          49901.2,
          49880,
          50713.05,
          50767.1,
          50856,
          50886,
          50785.6,
          50546.15,
          50500.99,
          50470,
          50975,
          51163.01,
          50550,
          49346.5,
          49274.37,
          49060,
          48907.79,
          49400,
          50011,
          49600,
          49519,
          49884.75,
          49569.01,
          49827.58,
          49500,
          49056.47,
          49120.06,
          48815,
          49098.13,
          48190,
          48382.67,
          48737.25,
          49212.53,
          49604.31
         ]
        }
       ],
       "layout": {
        "height": 300,
        "margin": {
         "b": 20,
         "l": 70,
         "r": 50,
         "t": 50
        },
        "template": {
         "data": {
          "bar": [
           {
            "error_x": {
             "color": "#2a3f5f"
            },
            "error_y": {
             "color": "#2a3f5f"
            },
            "marker": {
             "line": {
              "color": "#E5ECF6",
              "width": 0.5
             },
             "pattern": {
              "fillmode": "overlay",
              "size": 10,
              "solidity": 0.2
             }
            },
            "type": "bar"
           }
          ],
          "barpolar": [
           {
            "marker": {
             "line": {
              "color": "#E5ECF6",
              "width": 0.5
             },
             "pattern": {
              "fillmode": "overlay",
              "size": 10,
              "solidity": 0.2
             }
            },
            "type": "barpolar"
           }
          ],
          "carpet": [
           {
            "aaxis": {
             "endlinecolor": "#2a3f5f",
             "gridcolor": "white",
             "linecolor": "white",
             "minorgridcolor": "white",
             "startlinecolor": "#2a3f5f"
            },
            "baxis": {
             "endlinecolor": "#2a3f5f",
             "gridcolor": "white",
             "linecolor": "white",
             "minorgridcolor": "white",
             "startlinecolor": "#2a3f5f"
            },
            "type": "carpet"
           }
          ],
          "choropleth": [
           {
            "colorbar": {
             "outlinewidth": 0,
             "ticks": ""
            },
            "type": "choropleth"
           }
          ],
          "contour": [
           {
            "colorbar": {
             "outlinewidth": 0,
             "ticks": ""
            },
            "colorscale": [
             [
              0,
              "#0d0887"
             ],
             [
              0.1111111111111111,
              "#46039f"
             ],
             [
              0.2222222222222222,
              "#7201a8"
             ],
             [
              0.3333333333333333,
              "#9c179e"
             ],
             [
              0.4444444444444444,
              "#bd3786"
             ],
             [
              0.5555555555555556,
              "#d8576b"
             ],
             [
              0.6666666666666666,
              "#ed7953"
             ],
             [
              0.7777777777777778,
              "#fb9f3a"
             ],
             [
              0.8888888888888888,
              "#fdca26"
             ],
             [
              1,
              "#f0f921"
             ]
            ],
            "type": "contour"
           }
          ],
          "contourcarpet": [
           {
            "colorbar": {
             "outlinewidth": 0,
             "ticks": ""
            },
            "type": "contourcarpet"
           }
          ],
          "heatmap": [
           {
            "colorbar": {
             "outlinewidth": 0,
             "ticks": ""
            },
            "colorscale": [
             [
              0,
              "#0d0887"
             ],
             [
              0.1111111111111111,
              "#46039f"
             ],
             [
              0.2222222222222222,
              "#7201a8"
             ],
             [
              0.3333333333333333,
              "#9c179e"
             ],
             [
              0.4444444444444444,
              "#bd3786"
             ],
             [
              0.5555555555555556,
              "#d8576b"
             ],
             [
              0.6666666666666666,
              "#ed7953"
             ],
             [
              0.7777777777777778,
              "#fb9f3a"
             ],
             [
              0.8888888888888888,
              "#fdca26"
             ],
             [
              1,
              "#f0f921"
             ]
            ],
            "type": "heatmap"
           }
          ],
          "heatmapgl": [
           {
            "colorbar": {
             "outlinewidth": 0,
             "ticks": ""
            },
            "colorscale": [
             [
              0,
              "#0d0887"
             ],
             [
              0.1111111111111111,
              "#46039f"
             ],
             [
              0.2222222222222222,
              "#7201a8"
             ],
             [
              0.3333333333333333,
              "#9c179e"
             ],
             [
              0.4444444444444444,
              "#bd3786"
             ],
             [
              0.5555555555555556,
              "#d8576b"
             ],
             [
              0.6666666666666666,
              "#ed7953"
             ],
             [
              0.7777777777777778,
              "#fb9f3a"
             ],
             [
              0.8888888888888888,
              "#fdca26"
             ],
             [
              1,
              "#f0f921"
             ]
            ],
            "type": "heatmapgl"
           }
          ],
          "histogram": [
           {
            "marker": {
             "pattern": {
              "fillmode": "overlay",
              "size": 10,
              "solidity": 0.2
             }
            },
            "type": "histogram"
           }
          ],
          "histogram2d": [
           {
            "colorbar": {
             "outlinewidth": 0,
             "ticks": ""
            },
            "colorscale": [
             [
              0,
              "#0d0887"
             ],
             [
              0.1111111111111111,
              "#46039f"
             ],
             [
              0.2222222222222222,
              "#7201a8"
             ],
             [
              0.3333333333333333,
              "#9c179e"
             ],
             [
              0.4444444444444444,
              "#bd3786"
             ],
             [
              0.5555555555555556,
              "#d8576b"
             ],
             [
              0.6666666666666666,
              "#ed7953"
             ],
             [
              0.7777777777777778,
              "#fb9f3a"
             ],
             [
              0.8888888888888888,
              "#fdca26"
             ],
             [
              1,
              "#f0f921"
             ]
            ],
            "type": "histogram2d"
           }
          ],
          "histogram2dcontour": [
           {
            "colorbar": {
             "outlinewidth": 0,
             "ticks": ""
            },
            "colorscale": [
             [
              0,
              "#0d0887"
             ],
             [
              0.1111111111111111,
              "#46039f"
             ],
             [
              0.2222222222222222,
              "#7201a8"
             ],
             [
              0.3333333333333333,
              "#9c179e"
             ],
             [
              0.4444444444444444,
              "#bd3786"
             ],
             [
              0.5555555555555556,
              "#d8576b"
             ],
             [
              0.6666666666666666,
              "#ed7953"
             ],
             [
              0.7777777777777778,
              "#fb9f3a"
             ],
             [
              0.8888888888888888,
              "#fdca26"
             ],
             [
              1,
              "#f0f921"
             ]
            ],
            "type": "histogram2dcontour"
           }
          ],
          "mesh3d": [
           {
            "colorbar": {
             "outlinewidth": 0,
             "ticks": ""
            },
            "type": "mesh3d"
           }
          ],
          "parcoords": [
           {
            "line": {
             "colorbar": {
              "outlinewidth": 0,
              "ticks": ""
             }
            },
            "type": "parcoords"
           }
          ],
          "pie": [
           {
            "automargin": true,
            "type": "pie"
           }
          ],
          "scatter": [
           {
            "fillpattern": {
             "fillmode": "overlay",
             "size": 10,
             "solidity": 0.2
            },
            "type": "scatter"
           }
          ],
          "scatter3d": [
           {
            "line": {
             "colorbar": {
              "outlinewidth": 0,
              "ticks": ""
             }
            },
            "marker": {
             "colorbar": {
              "outlinewidth": 0,
              "ticks": ""
             }
            },
            "type": "scatter3d"
           }
          ],
          "scattercarpet": [
           {
            "marker": {
             "colorbar": {
              "outlinewidth": 0,
              "ticks": ""
             }
            },
            "type": "scattercarpet"
           }
          ],
          "scattergeo": [
           {
            "marker": {
             "colorbar": {
              "outlinewidth": 0,
              "ticks": ""
             }
            },
            "type": "scattergeo"
           }
          ],
          "scattergl": [
           {
            "marker": {
             "colorbar": {
              "outlinewidth": 0,
              "ticks": ""
             }
            },
            "type": "scattergl"
           }
          ],
          "scattermapbox": [
           {
            "marker": {
             "colorbar": {
              "outlinewidth": 0,
              "ticks": ""
             }
            },
            "type": "scattermapbox"
           }
          ],
          "scatterpolar": [
           {
            "marker": {
             "colorbar": {
              "outlinewidth": 0,
              "ticks": ""
             }
            },
            "type": "scatterpolar"
           }
          ],
          "scatterpolargl": [
           {
            "marker": {
             "colorbar": {
              "outlinewidth": 0,
              "ticks": ""
             }
            },
            "type": "scatterpolargl"
           }
          ],
          "scatterternary": [
           {
            "marker": {
             "colorbar": {
              "outlinewidth": 0,
              "ticks": ""
             }
            },
            "type": "scatterternary"
           }
          ],
          "surface": [
           {
            "colorbar": {
             "outlinewidth": 0,
             "ticks": ""
            },
            "colorscale": [
             [
              0,
              "#0d0887"
             ],
             [
              0.1111111111111111,
              "#46039f"
             ],
             [
              0.2222222222222222,
              "#7201a8"
             ],
             [
              0.3333333333333333,
              "#9c179e"
             ],
             [
              0.4444444444444444,
              "#bd3786"
             ],
             [
              0.5555555555555556,
              "#d8576b"
             ],
             [
              0.6666666666666666,
              "#ed7953"
             ],
             [
              0.7777777777777778,
              "#fb9f3a"
             ],
             [
              0.8888888888888888,
              "#fdca26"
             ],
             [
              1,
              "#f0f921"
             ]
            ],
            "type": "surface"
           }
          ],
          "table": [
           {
            "cells": {
             "fill": {
              "color": "#EBF0F8"
             },
             "line": {
              "color": "white"
             }
            },
            "header": {
             "fill": {
              "color": "#C8D4E3"
             },
             "line": {
              "color": "white"
             }
            },
            "type": "table"
           }
          ]
         },
         "layout": {
          "annotationdefaults": {
           "arrowcolor": "#2a3f5f",
           "arrowhead": 0,
           "arrowwidth": 1
          },
          "autotypenumbers": "strict",
          "coloraxis": {
           "colorbar": {
            "outlinewidth": 0,
            "ticks": ""
           }
          },
          "colorscale": {
           "diverging": [
            [
             0,
             "#8e0152"
            ],
            [
             0.1,
             "#c51b7d"
            ],
            [
             0.2,
             "#de77ae"
            ],
            [
             0.3,
             "#f1b6da"
            ],
            [
             0.4,
             "#fde0ef"
            ],
            [
             0.5,
             "#f7f7f7"
            ],
            [
             0.6,
             "#e6f5d0"
            ],
            [
             0.7,
             "#b8e186"
            ],
            [
             0.8,
             "#7fbc41"
            ],
            [
             0.9,
             "#4d9221"
            ],
            [
             1,
             "#276419"
            ]
           ],
           "sequential": [
            [
             0,
             "#0d0887"
            ],
            [
             0.1111111111111111,
             "#46039f"
            ],
            [
             0.2222222222222222,
             "#7201a8"
            ],
            [
             0.3333333333333333,
             "#9c179e"
            ],
            [
             0.4444444444444444,
             "#bd3786"
            ],
            [
             0.5555555555555556,
             "#d8576b"
            ],
            [
             0.6666666666666666,
             "#ed7953"
            ],
            [
             0.7777777777777778,
             "#fb9f3a"
            ],
            [
             0.8888888888888888,
             "#fdca26"
            ],
            [
             1,
             "#f0f921"
            ]
           ],
           "sequentialminus": [
            [
             0,
             "#0d0887"
            ],
            [
             0.1111111111111111,
             "#46039f"
            ],
            [
             0.2222222222222222,
             "#7201a8"
            ],
            [
             0.3333333333333333,
             "#9c179e"
            ],
            [
             0.4444444444444444,
             "#bd3786"
            ],
            [
             0.5555555555555556,
             "#d8576b"
            ],
            [
             0.6666666666666666,
             "#ed7953"
            ],
            [
             0.7777777777777778,
             "#fb9f3a"
            ],
            [
             0.8888888888888888,
             "#fdca26"
            ],
            [
             1,
             "#f0f921"
            ]
           ]
          },
          "colorway": [
           "#636efa",
           "#EF553B",
           "#00cc96",
           "#ab63fa",
           "#FFA15A",
           "#19d3f3",
           "#FF6692",
           "#B6E880",
           "#FF97FF",
           "#FECB52"
          ],
          "font": {
           "color": "#2a3f5f"
          },
          "geo": {
           "bgcolor": "white",
           "lakecolor": "white",
           "landcolor": "#E5ECF6",
           "showlakes": true,
           "showland": true,
           "subunitcolor": "white"
          },
          "hoverlabel": {
           "align": "left"
          },
          "hovermode": "closest",
          "mapbox": {
           "style": "light"
          },
          "paper_bgcolor": "white",
          "plot_bgcolor": "#E5ECF6",
          "polar": {
           "angularaxis": {
            "gridcolor": "white",
            "linecolor": "white",
            "ticks": ""
           },
           "bgcolor": "#E5ECF6",
           "radialaxis": {
            "gridcolor": "white",
            "linecolor": "white",
            "ticks": ""
           }
          },
          "scene": {
           "xaxis": {
            "backgroundcolor": "#E5ECF6",
            "gridcolor": "white",
            "gridwidth": 2,
            "linecolor": "white",
            "showbackground": true,
            "ticks": "",
            "zerolinecolor": "white"
           },
           "yaxis": {
            "backgroundcolor": "#E5ECF6",
            "gridcolor": "white",
            "gridwidth": 2,
            "linecolor": "white",
            "showbackground": true,
            "ticks": "",
            "zerolinecolor": "white"
           },
           "zaxis": {
            "backgroundcolor": "#E5ECF6",
            "gridcolor": "white",
            "gridwidth": 2,
            "linecolor": "white",
            "showbackground": true,
            "ticks": "",
            "zerolinecolor": "white"
           }
          },
          "shapedefaults": {
           "line": {
            "color": "#2a3f5f"
           }
          },
          "ternary": {
           "aaxis": {
            "gridcolor": "white",
            "linecolor": "white",
            "ticks": ""
           },
           "baxis": {
            "gridcolor": "white",
            "linecolor": "white",
            "ticks": ""
           },
           "bgcolor": "#E5ECF6",
           "caxis": {
            "gridcolor": "white",
            "linecolor": "white",
            "ticks": ""
           }
          },
          "title": {
           "x": 0.05
          },
          "xaxis": {
           "automargin": true,
           "gridcolor": "white",
           "linecolor": "white",
           "ticks": "",
           "title": {
            "standoff": 15
           },
           "zerolinecolor": "white",
           "zerolinewidth": 2
          },
          "yaxis": {
           "automargin": true,
           "gridcolor": "white",
           "linecolor": "white",
           "ticks": "",
           "title": {
            "standoff": 15
           },
           "zerolinecolor": "white",
           "zerolinewidth": 2
          }
         }
        },
        "title": {
         "text": "Exchange - [all]"
        },
        "width": 800,
        "yaxis": {
         "title": {
          "text": "Price"
         }
        }
       }
      }
     },
     "metadata": {},
     "output_type": "display_data"
    },
    {
     "data": {
      "application/vnd.plotly.v1+json": {
       "config": {
        "plotlyServerURL": "https://plot.ly"
       },
       "data": [
        {
         "close": [
          47245.8,
          48498.9,
          49165.2,
          50180.4,
          50035.1,
          50202.2,
          50268.2,
          50928.4,
          50722,
          50635.3,
          50406.6,
          50204.8,
          49633,
          50110.2,
          49700,
          50140.7,
          50684.4,
          50682.8,
          50814.8,
          50900,
          50474.9,
          50150.1,
          50770,
          50392.1,
          51132.5,
          50746.3,
          49609,
          49480.2,
          49533.6,
          49434.3,
          49174.9,
          49850,
          49508.7,
          49400,
          49741.1,
          50060,
          49680,
          49611.1,
          49456.4,
          48980.4,
          48912.2,
          49167.4,
          48224.7,
          48753.9,
          48699.7,
          48886.5,
          49330.8,
          49727.7
         ],
         "high": [
          48899.9,
          48499,
          49333,
          50200,
          50564.5,
          50475,
          50539.9,
          51000,
          51392,
          50940.9,
          51058.4,
          50540.1,
          50704.3,
          50386.2,
          50176.1,
          50374.4,
          50893,
          50912.5,
          50980.5,
          51442.5,
          51059.2,
          50661.9,
          50909.5,
          50885.4,
          51174.9,
          51283.3,
          51099.4,
          49889.5,
          49795.3,
          49665.4,
          49660,
          49916.8,
          50171.2,
          49897.8,
          50000,
          50060,
          50100,
          49984,
          49712.6,
          49456.9,
          49282.1,
          49247.4,
          49162.7,
          48900,
          48748.6,
          48997.1,
          49500,
          49840.2
         ],
         "low": [
          47015.7,
          47225,
          48462.8,
          48732.8,
          49836.7,
          50037.3,
          50074.9,
          50259.4,
          50715.7,
          50342.2,
          50022.5,
          50202.5,
          49410.6,
          49583.7,
          49548.5,
          49700,
          49812.8,
          50350.1,
          50380.7,
          50801,
          50188.7,
          50150,
          50150.6,
          50242.4,
          50372.9,
          50676.4,
          49504.5,
          49100,
          49162.8,
          48691.6,
          48500.1,
          49018.2,
          49436.7,
          49352.2,
          49400,
          49640.8,
          49551,
          49604,
          49385.8,
          48880.4,
          48770.1,
          48618.5,
          48159.5,
          48153.8,
          48075,
          48507.8,
          48788.5,
          49356.3
         ],
         "open": [
          48899.6,
          47225,
          48499,
          49191.2,
          50200,
          50037.3,
          50202.2,
          50268.2,
          50922.2,
          50714.9,
          50647.5,
          50400.3,
          50235.4,
          49647.4,
          50110.2,
          49700,
          50140.7,
          50671.1,
          50682.9,
          50843.9,
          50900,
          50474.8,
          50150.6,
          50769.2,
          50392.1,
          51138.9,
          50760,
          49646.1,
          49480.2,
          49533.6,
          49433.2,
          49174.9,
          49851.6,
          49529.2,
          49400,
          49741.1,
          50075,
          49676,
          49619.1,
          49454.9,
          48980.4,
          48909.7,
          49156.5,
          48207.9,
          48748.6,
          48699.8,
          48875.1,
          49366.8
         ],
         "type": "candlestick",
         "x": [
          "2021-02-24T00:00:00",
          "2021-02-24T00:30:00",
          "2021-02-24T01:00:00",
          "2021-02-24T01:30:00",
          "2021-02-24T02:00:00",
          "2021-02-24T02:30:00",
          "2021-02-24T03:00:00",
          "2021-02-24T03:30:00",
          "2021-02-24T04:00:00",
          "2021-02-24T04:30:00",
          "2021-02-24T05:00:00",
          "2021-02-24T05:30:00",
          "2021-02-24T06:00:00",
          "2021-02-24T06:30:00",
          "2021-02-24T07:00:00",
          "2021-02-24T07:30:00",
          "2021-02-24T08:00:00",
          "2021-02-24T08:30:00",
          "2021-02-24T09:00:00",
          "2021-02-24T09:30:00",
          "2021-02-24T10:00:00",
          "2021-02-24T10:30:00",
          "2021-02-24T11:00:00",
          "2021-02-24T11:30:00",
          "2021-02-24T12:00:00",
          "2021-02-24T12:30:00",
          "2021-02-24T13:00:00",
          "2021-02-24T13:30:00",
          "2021-02-24T14:00:00",
          "2021-02-24T14:30:00",
          "2021-02-24T15:00:00",
          "2021-02-24T15:30:00",
          "2021-02-24T16:00:00",
          "2021-02-24T16:30:00",
          "2021-02-24T17:00:00",
          "2021-02-24T17:30:00",
          "2021-02-24T18:00:00",
          "2021-02-24T18:30:00",
          "2021-02-24T19:00:00",
          "2021-02-24T19:30:00",
          "2021-02-24T20:00:00",
          "2021-02-24T20:30:00",
          "2021-02-24T21:00:00",
          "2021-02-24T21:30:00",
          "2021-02-24T22:00:00",
          "2021-02-24T22:30:00",
          "2021-02-24T23:00:00",
          "2021-02-24T23:30:00"
         ]
        },
        {
         "line": {
          "color": "blue"
         },
         "mode": "lines",
         "name": "VWAP",
         "type": "scatter",
         "x": [
          "2021-02-24T00:00:00",
          "2021-02-24T00:30:00",
          "2021-02-24T01:00:00",
          "2021-02-24T01:30:00",
          "2021-02-24T02:00:00",
          "2021-02-24T02:30:00",
          "2021-02-24T03:00:00",
          "2021-02-24T03:30:00",
          "2021-02-24T04:00:00",
          "2021-02-24T04:30:00",
          "2021-02-24T05:00:00",
          "2021-02-24T05:30:00",
          "2021-02-24T06:00:00",
          "2021-02-24T06:30:00",
          "2021-02-24T07:00:00",
          "2021-02-24T07:30:00",
          "2021-02-24T08:00:00",
          "2021-02-24T08:30:00",
          "2021-02-24T09:00:00",
          "2021-02-24T09:30:00",
          "2021-02-24T10:00:00",
          "2021-02-24T10:30:00",
          "2021-02-24T11:00:00",
          "2021-02-24T11:30:00",
          "2021-02-24T12:00:00",
          "2021-02-24T12:30:00",
          "2021-02-24T13:00:00",
          "2021-02-24T13:30:00",
          "2021-02-24T14:00:00",
          "2021-02-24T14:30:00",
          "2021-02-24T15:00:00",
          "2021-02-24T15:30:00",
          "2021-02-24T16:00:00",
          "2021-02-24T16:30:00",
          "2021-02-24T17:00:00",
          "2021-02-24T17:30:00",
          "2021-02-24T18:00:00",
          "2021-02-24T18:30:00",
          "2021-02-24T19:00:00",
          "2021-02-24T19:30:00",
          "2021-02-24T20:00:00",
          "2021-02-24T20:30:00",
          "2021-02-24T21:00:00",
          "2021-02-24T21:30:00",
          "2021-02-24T22:00:00",
          "2021-02-24T22:30:00",
          "2021-02-24T23:00:00",
          "2021-02-24T23:30:00"
         ],
         "y": [
          47627.943107122424,
          47820.23816317697,
          48861.943033979864,
          49562.5129563946,
          50189.325331135566,
          50281.93767446844,
          50379.798497087766,
          50662.310661705356,
          51094.74508825674,
          50688.29470584047,
          50447.15937791244,
          50376.909272018835,
          49914.63896966285,
          49918.58331958906,
          49825.037684411705,
          50138.19791311237,
          50486.6106893614,
          50657.169928057454,
          50745.840581801705,
          51101.630898544434,
          50714.71538427997,
          50476.850714083404,
          50529.56961534043,
          50516.976908440476,
          50794.65810641652,
          50985.39061910697,
          50021.82114136289,
          49429.10998248787,
          49472.72660674357,
          49156.94640793222,
          49028.054527722845,
          49483.190739256286,
          49827.35245506888,
          49625.633443190476,
          49802.55992378293,
          49873.22631571368,
          49818.18833285497,
          49805.575251122,
          49520.54692531148,
          49056.753041468364,
          48988.18898289057,
          48953.427705973896,
          48529.27522706843,
          48415.1121415197,
          48348.42449216489,
          48799.16695430839,
          49282.85454706533,
          49656.80342329465
         ]
        },
        {
         "line": {
          "color": "grey"
         },
         "mode": "lines",
         "name": "vwmp_lower",
         "type": "scatter",
         "x": [
          "2021-02-24T00:00:00",
          "2021-02-24T00:30:00",
          "2021-02-24T01:00:00",
          "2021-02-24T01:30:00",
          "2021-02-24T02:00:00",
          "2021-02-24T02:30:00",
          "2021-02-24T03:00:00",
          "2021-02-24T03:30:00",
          "2021-02-24T04:00:00",
          "2021-02-24T04:30:00",
          "2021-02-24T05:00:00",
          "2021-02-24T05:30:00",
          "2021-02-24T06:00:00",
          "2021-02-24T06:30:00",
          "2021-02-24T07:00:00",
          "2021-02-24T07:30:00",
          "2021-02-24T08:00:00",
          "2021-02-24T08:30:00",
          "2021-02-24T09:00:00",
          "2021-02-24T09:30:00",
          "2021-02-24T10:00:00",
          "2021-02-24T10:30:00",
          "2021-02-24T11:00:00",
          "2021-02-24T11:30:00",
          "2021-02-24T12:00:00",
          "2021-02-24T12:30:00",
          "2021-02-24T13:00:00",
          "2021-02-24T13:30:00",
          "2021-02-24T14:00:00",
          "2021-02-24T14:30:00",
          "2021-02-24T15:00:00",
          "2021-02-24T15:30:00",
          "2021-02-24T16:00:00",
          "2021-02-24T16:30:00",
          "2021-02-24T17:00:00",
          "2021-02-24T17:30:00",
          "2021-02-24T18:00:00",
          "2021-02-24T18:30:00",
          "2021-02-24T19:00:00",
          "2021-02-24T19:30:00",
          "2021-02-24T20:00:00",
          "2021-02-24T20:30:00",
          "2021-02-24T21:00:00",
          "2021-02-24T21:30:00",
          "2021-02-24T22:00:00",
          "2021-02-24T22:30:00",
          "2021-02-24T23:00:00",
          "2021-02-24T23:30:00"
         ],
         "y": [
          47605.1,
          47598.7,
          48748.8,
          49521.6,
          50455.9,
          50200,
          50500,
          50823.8,
          51068.5,
          50753,
          50116.9,
          50290.8,
          49729.9,
          49858,
          49617.8,
          50059.3,
          50880.5,
          50658.4,
          50709,
          51357.5,
          50900,
          50505.8,
          50427.7,
          50457.3,
          50877.9,
          51250,
          50547.7,
          49450.2,
          49627.1,
          49359.5,
          48534.3,
          49179.6,
          49970.6,
          49653.1,
          49803.6,
          49700.9,
          49599.9,
          49696.3,
          49525.9,
          49009.9,
          48970.7,
          48702.2,
          49101.7,
          48252,
          48224.3,
          48794.2,
          49474.5,
          49701.5
         ]
        }
       ],
       "layout": {
        "height": 300,
        "margin": {
         "b": 20,
         "l": 70,
         "r": 50,
         "t": 50
        },
        "template": {
         "data": {
          "bar": [
           {
            "error_x": {
             "color": "#2a3f5f"
            },
            "error_y": {
             "color": "#2a3f5f"
            },
            "marker": {
             "line": {
              "color": "#E5ECF6",
              "width": 0.5
             },
             "pattern": {
              "fillmode": "overlay",
              "size": 10,
              "solidity": 0.2
             }
            },
            "type": "bar"
           }
          ],
          "barpolar": [
           {
            "marker": {
             "line": {
              "color": "#E5ECF6",
              "width": 0.5
             },
             "pattern": {
              "fillmode": "overlay",
              "size": 10,
              "solidity": 0.2
             }
            },
            "type": "barpolar"
           }
          ],
          "carpet": [
           {
            "aaxis": {
             "endlinecolor": "#2a3f5f",
             "gridcolor": "white",
             "linecolor": "white",
             "minorgridcolor": "white",
             "startlinecolor": "#2a3f5f"
            },
            "baxis": {
             "endlinecolor": "#2a3f5f",
             "gridcolor": "white",
             "linecolor": "white",
             "minorgridcolor": "white",
             "startlinecolor": "#2a3f5f"
            },
            "type": "carpet"
           }
          ],
          "choropleth": [
           {
            "colorbar": {
             "outlinewidth": 0,
             "ticks": ""
            },
            "type": "choropleth"
           }
          ],
          "contour": [
           {
            "colorbar": {
             "outlinewidth": 0,
             "ticks": ""
            },
            "colorscale": [
             [
              0,
              "#0d0887"
             ],
             [
              0.1111111111111111,
              "#46039f"
             ],
             [
              0.2222222222222222,
              "#7201a8"
             ],
             [
              0.3333333333333333,
              "#9c179e"
             ],
             [
              0.4444444444444444,
              "#bd3786"
             ],
             [
              0.5555555555555556,
              "#d8576b"
             ],
             [
              0.6666666666666666,
              "#ed7953"
             ],
             [
              0.7777777777777778,
              "#fb9f3a"
             ],
             [
              0.8888888888888888,
              "#fdca26"
             ],
             [
              1,
              "#f0f921"
             ]
            ],
            "type": "contour"
           }
          ],
          "contourcarpet": [
           {
            "colorbar": {
             "outlinewidth": 0,
             "ticks": ""
            },
            "type": "contourcarpet"
           }
          ],
          "heatmap": [
           {
            "colorbar": {
             "outlinewidth": 0,
             "ticks": ""
            },
            "colorscale": [
             [
              0,
              "#0d0887"
             ],
             [
              0.1111111111111111,
              "#46039f"
             ],
             [
              0.2222222222222222,
              "#7201a8"
             ],
             [
              0.3333333333333333,
              "#9c179e"
             ],
             [
              0.4444444444444444,
              "#bd3786"
             ],
             [
              0.5555555555555556,
              "#d8576b"
             ],
             [
              0.6666666666666666,
              "#ed7953"
             ],
             [
              0.7777777777777778,
              "#fb9f3a"
             ],
             [
              0.8888888888888888,
              "#fdca26"
             ],
             [
              1,
              "#f0f921"
             ]
            ],
            "type": "heatmap"
           }
          ],
          "heatmapgl": [
           {
            "colorbar": {
             "outlinewidth": 0,
             "ticks": ""
            },
            "colorscale": [
             [
              0,
              "#0d0887"
             ],
             [
              0.1111111111111111,
              "#46039f"
             ],
             [
              0.2222222222222222,
              "#7201a8"
             ],
             [
              0.3333333333333333,
              "#9c179e"
             ],
             [
              0.4444444444444444,
              "#bd3786"
             ],
             [
              0.5555555555555556,
              "#d8576b"
             ],
             [
              0.6666666666666666,
              "#ed7953"
             ],
             [
              0.7777777777777778,
              "#fb9f3a"
             ],
             [
              0.8888888888888888,
              "#fdca26"
             ],
             [
              1,
              "#f0f921"
             ]
            ],
            "type": "heatmapgl"
           }
          ],
          "histogram": [
           {
            "marker": {
             "pattern": {
              "fillmode": "overlay",
              "size": 10,
              "solidity": 0.2
             }
            },
            "type": "histogram"
           }
          ],
          "histogram2d": [
           {
            "colorbar": {
             "outlinewidth": 0,
             "ticks": ""
            },
            "colorscale": [
             [
              0,
              "#0d0887"
             ],
             [
              0.1111111111111111,
              "#46039f"
             ],
             [
              0.2222222222222222,
              "#7201a8"
             ],
             [
              0.3333333333333333,
              "#9c179e"
             ],
             [
              0.4444444444444444,
              "#bd3786"
             ],
             [
              0.5555555555555556,
              "#d8576b"
             ],
             [
              0.6666666666666666,
              "#ed7953"
             ],
             [
              0.7777777777777778,
              "#fb9f3a"
             ],
             [
              0.8888888888888888,
              "#fdca26"
             ],
             [
              1,
              "#f0f921"
             ]
            ],
            "type": "histogram2d"
           }
          ],
          "histogram2dcontour": [
           {
            "colorbar": {
             "outlinewidth": 0,
             "ticks": ""
            },
            "colorscale": [
             [
              0,
              "#0d0887"
             ],
             [
              0.1111111111111111,
              "#46039f"
             ],
             [
              0.2222222222222222,
              "#7201a8"
             ],
             [
              0.3333333333333333,
              "#9c179e"
             ],
             [
              0.4444444444444444,
              "#bd3786"
             ],
             [
              0.5555555555555556,
              "#d8576b"
             ],
             [
              0.6666666666666666,
              "#ed7953"
             ],
             [
              0.7777777777777778,
              "#fb9f3a"
             ],
             [
              0.8888888888888888,
              "#fdca26"
             ],
             [
              1,
              "#f0f921"
             ]
            ],
            "type": "histogram2dcontour"
           }
          ],
          "mesh3d": [
           {
            "colorbar": {
             "outlinewidth": 0,
             "ticks": ""
            },
            "type": "mesh3d"
           }
          ],
          "parcoords": [
           {
            "line": {
             "colorbar": {
              "outlinewidth": 0,
              "ticks": ""
             }
            },
            "type": "parcoords"
           }
          ],
          "pie": [
           {
            "automargin": true,
            "type": "pie"
           }
          ],
          "scatter": [
           {
            "fillpattern": {
             "fillmode": "overlay",
             "size": 10,
             "solidity": 0.2
            },
            "type": "scatter"
           }
          ],
          "scatter3d": [
           {
            "line": {
             "colorbar": {
              "outlinewidth": 0,
              "ticks": ""
             }
            },
            "marker": {
             "colorbar": {
              "outlinewidth": 0,
              "ticks": ""
             }
            },
            "type": "scatter3d"
           }
          ],
          "scattercarpet": [
           {
            "marker": {
             "colorbar": {
              "outlinewidth": 0,
              "ticks": ""
             }
            },
            "type": "scattercarpet"
           }
          ],
          "scattergeo": [
           {
            "marker": {
             "colorbar": {
              "outlinewidth": 0,
              "ticks": ""
             }
            },
            "type": "scattergeo"
           }
          ],
          "scattergl": [
           {
            "marker": {
             "colorbar": {
              "outlinewidth": 0,
              "ticks": ""
             }
            },
            "type": "scattergl"
           }
          ],
          "scattermapbox": [
           {
            "marker": {
             "colorbar": {
              "outlinewidth": 0,
              "ticks": ""
             }
            },
            "type": "scattermapbox"
           }
          ],
          "scatterpolar": [
           {
            "marker": {
             "colorbar": {
              "outlinewidth": 0,
              "ticks": ""
             }
            },
            "type": "scatterpolar"
           }
          ],
          "scatterpolargl": [
           {
            "marker": {
             "colorbar": {
              "outlinewidth": 0,
              "ticks": ""
             }
            },
            "type": "scatterpolargl"
           }
          ],
          "scatterternary": [
           {
            "marker": {
             "colorbar": {
              "outlinewidth": 0,
              "ticks": ""
             }
            },
            "type": "scatterternary"
           }
          ],
          "surface": [
           {
            "colorbar": {
             "outlinewidth": 0,
             "ticks": ""
            },
            "colorscale": [
             [
              0,
              "#0d0887"
             ],
             [
              0.1111111111111111,
              "#46039f"
             ],
             [
              0.2222222222222222,
              "#7201a8"
             ],
             [
              0.3333333333333333,
              "#9c179e"
             ],
             [
              0.4444444444444444,
              "#bd3786"
             ],
             [
              0.5555555555555556,
              "#d8576b"
             ],
             [
              0.6666666666666666,
              "#ed7953"
             ],
             [
              0.7777777777777778,
              "#fb9f3a"
             ],
             [
              0.8888888888888888,
              "#fdca26"
             ],
             [
              1,
              "#f0f921"
             ]
            ],
            "type": "surface"
           }
          ],
          "table": [
           {
            "cells": {
             "fill": {
              "color": "#EBF0F8"
             },
             "line": {
              "color": "white"
             }
            },
            "header": {
             "fill": {
              "color": "#C8D4E3"
             },
             "line": {
              "color": "white"
             }
            },
            "type": "table"
           }
          ]
         },
         "layout": {
          "annotationdefaults": {
           "arrowcolor": "#2a3f5f",
           "arrowhead": 0,
           "arrowwidth": 1
          },
          "autotypenumbers": "strict",
          "coloraxis": {
           "colorbar": {
            "outlinewidth": 0,
            "ticks": ""
           }
          },
          "colorscale": {
           "diverging": [
            [
             0,
             "#8e0152"
            ],
            [
             0.1,
             "#c51b7d"
            ],
            [
             0.2,
             "#de77ae"
            ],
            [
             0.3,
             "#f1b6da"
            ],
            [
             0.4,
             "#fde0ef"
            ],
            [
             0.5,
             "#f7f7f7"
            ],
            [
             0.6,
             "#e6f5d0"
            ],
            [
             0.7,
             "#b8e186"
            ],
            [
             0.8,
             "#7fbc41"
            ],
            [
             0.9,
             "#4d9221"
            ],
            [
             1,
             "#276419"
            ]
           ],
           "sequential": [
            [
             0,
             "#0d0887"
            ],
            [
             0.1111111111111111,
             "#46039f"
            ],
            [
             0.2222222222222222,
             "#7201a8"
            ],
            [
             0.3333333333333333,
             "#9c179e"
            ],
            [
             0.4444444444444444,
             "#bd3786"
            ],
            [
             0.5555555555555556,
             "#d8576b"
            ],
            [
             0.6666666666666666,
             "#ed7953"
            ],
            [
             0.7777777777777778,
             "#fb9f3a"
            ],
            [
             0.8888888888888888,
             "#fdca26"
            ],
            [
             1,
             "#f0f921"
            ]
           ],
           "sequentialminus": [
            [
             0,
             "#0d0887"
            ],
            [
             0.1111111111111111,
             "#46039f"
            ],
            [
             0.2222222222222222,
             "#7201a8"
            ],
            [
             0.3333333333333333,
             "#9c179e"
            ],
            [
             0.4444444444444444,
             "#bd3786"
            ],
            [
             0.5555555555555556,
             "#d8576b"
            ],
            [
             0.6666666666666666,
             "#ed7953"
            ],
            [
             0.7777777777777778,
             "#fb9f3a"
            ],
            [
             0.8888888888888888,
             "#fdca26"
            ],
            [
             1,
             "#f0f921"
            ]
           ]
          },
          "colorway": [
           "#636efa",
           "#EF553B",
           "#00cc96",
           "#ab63fa",
           "#FFA15A",
           "#19d3f3",
           "#FF6692",
           "#B6E880",
           "#FF97FF",
           "#FECB52"
          ],
          "font": {
           "color": "#2a3f5f"
          },
          "geo": {
           "bgcolor": "white",
           "lakecolor": "white",
           "landcolor": "#E5ECF6",
           "showlakes": true,
           "showland": true,
           "subunitcolor": "white"
          },
          "hoverlabel": {
           "align": "left"
          },
          "hovermode": "closest",
          "mapbox": {
           "style": "light"
          },
          "paper_bgcolor": "white",
          "plot_bgcolor": "#E5ECF6",
          "polar": {
           "angularaxis": {
            "gridcolor": "white",
            "linecolor": "white",
            "ticks": ""
           },
           "bgcolor": "#E5ECF6",
           "radialaxis": {
            "gridcolor": "white",
            "linecolor": "white",
            "ticks": ""
           }
          },
          "scene": {
           "xaxis": {
            "backgroundcolor": "#E5ECF6",
            "gridcolor": "white",
            "gridwidth": 2,
            "linecolor": "white",
            "showbackground": true,
            "ticks": "",
            "zerolinecolor": "white"
           },
           "yaxis": {
            "backgroundcolor": "#E5ECF6",
            "gridcolor": "white",
            "gridwidth": 2,
            "linecolor": "white",
            "showbackground": true,
            "ticks": "",
            "zerolinecolor": "white"
           },
           "zaxis": {
            "backgroundcolor": "#E5ECF6",
            "gridcolor": "white",
            "gridwidth": 2,
            "linecolor": "white",
            "showbackground": true,
            "ticks": "",
            "zerolinecolor": "white"
           }
          },
          "shapedefaults": {
           "line": {
            "color": "#2a3f5f"
           }
          },
          "ternary": {
           "aaxis": {
            "gridcolor": "white",
            "linecolor": "white",
            "ticks": ""
           },
           "baxis": {
            "gridcolor": "white",
            "linecolor": "white",
            "ticks": ""
           },
           "bgcolor": "#E5ECF6",
           "caxis": {
            "gridcolor": "white",
            "linecolor": "white",
            "ticks": ""
           }
          },
          "title": {
           "x": 0.05
          },
          "xaxis": {
           "automargin": true,
           "gridcolor": "white",
           "linecolor": "white",
           "ticks": "",
           "title": {
            "standoff": 15
           },
           "zerolinecolor": "white",
           "zerolinewidth": 2
          },
          "yaxis": {
           "automargin": true,
           "gridcolor": "white",
           "linecolor": "white",
           "ticks": "",
           "title": {
            "standoff": 15
           },
           "zerolinecolor": "white",
           "zerolinewidth": 2
          }
         }
        },
        "title": {
         "text": "Exchange - [krkn]"
        },
        "width": 800,
        "yaxis": {
         "title": {
          "text": "Price"
         }
        }
       }
      }
     },
     "metadata": {},
     "output_type": "display_data"
    },
    {
     "data": {
      "application/vnd.plotly.v1+json": {
       "config": {
        "plotlyServerURL": "https://plot.ly"
       },
       "data": [
        {
         "close": [
          47257.14,
          48487.22,
          49200,
          50236.98,
          50042.36,
          50220.01,
          50284.21,
          50932.71,
          50712.59,
          50650.86,
          50394.38,
          50225.89,
          49665.03,
          50099.64,
          49696.16,
          50082.62,
          50643.76,
          50666.7,
          50787.29,
          50900.68,
          50448.15,
          50134.22,
          50777.86,
          50380,
          51143.17,
          50738.3,
          49616.95,
          49479.41,
          49492.97,
          49427.61,
          49178.48,
          49850.22,
          49513.85,
          49371.5,
          49740.88,
          50096.69,
          49685.15,
          49619.18,
          49474.27,
          48990.27,
          48898.07,
          49174.4,
          48173.98,
          48757.56,
          48710.06,
          48850.4,
          49360,
          49737.82
         ],
         "high": [
          49114.02,
          48525.23,
          49375,
          50353.43,
          50600,
          50489,
          50559.39,
          51000,
          51398,
          50991.5,
          51025.22,
          50554.59,
          50705.94,
          50400,
          50164.93,
          50350,
          50888.71,
          50891.81,
          50991.3,
          51415.41,
          51055.38,
          50644.65,
          50939.86,
          50893.21,
          51216.87,
          51332.84,
          51123.31,
          49867,
          49804.39,
          49685.48,
          49641.49,
          49877.97,
          50144.92,
          49882.8,
          49999,
          50113.72,
          50103.57,
          50018.91,
          49733.51,
          49472.47,
          49276.8,
          49259.65,
          49174.41,
          48935.04,
          48760.22,
          48987.38,
          49549.5,
          49788
         ],
         "low": [
          47002,
          47224.82,
          48437.32,
          48759.13,
          49832.71,
          50039.71,
          50084.76,
          50239.17,
          50700,
          50358.54,
          49978.89,
          50197,
          49436.23,
          49539.19,
          49520.91,
          49696.17,
          49782.86,
          50338.02,
          50356.56,
          50795.02,
          50172.36,
          50110,
          50129.7,
          50222.22,
          50368.45,
          50635.86,
          49474.58,
          49000,
          49150,
          48731.33,
          48500,
          49022.9,
          49365,
          49353.95,
          49360.64,
          49637.27,
          49544.84,
          49600,
          49280,
          48833.24,
          48764.88,
          48608.58,
          48150,
          48111,
          48078.62,
          48500,
          48775.05,
          49359.99
         ],
         "open": [
          48899.99,
          47257.14,
          48498.8,
          49214.39,
          50236.98,
          50048.58,
          50220.01,
          50286.6,
          50929.46,
          50721.08,
          50655.08,
          50394.38,
          50234.41,
          49658.53,
          50098.05,
          49696.17,
          50090.93,
          50644.06,
          50664.17,
          50796.87,
          50904.97,
          50458.24,
          50129.71,
          50777.86,
          50379.99,
          51162.91,
          50738.3,
          49780.06,
          49479.41,
          49483.59,
          49427.61,
          49178.47,
          49850,
          49524.42,
          49371.49,
          49744.8,
          50096.69,
          49685.14,
          49619.19,
          49472.47,
          48990.27,
          48898.08,
          49174.41,
          48178.24,
          48758.08,
          48710.06,
          48842.66,
          49359.99
         ],
         "type": "candlestick",
         "x": [
          "2021-02-24T00:00:00",
          "2021-02-24T00:30:00",
          "2021-02-24T01:00:00",
          "2021-02-24T01:30:00",
          "2021-02-24T02:00:00",
          "2021-02-24T02:30:00",
          "2021-02-24T03:00:00",
          "2021-02-24T03:30:00",
          "2021-02-24T04:00:00",
          "2021-02-24T04:30:00",
          "2021-02-24T05:00:00",
          "2021-02-24T05:30:00",
          "2021-02-24T06:00:00",
          "2021-02-24T06:30:00",
          "2021-02-24T07:00:00",
          "2021-02-24T07:30:00",
          "2021-02-24T08:00:00",
          "2021-02-24T08:30:00",
          "2021-02-24T09:00:00",
          "2021-02-24T09:30:00",
          "2021-02-24T10:00:00",
          "2021-02-24T10:30:00",
          "2021-02-24T11:00:00",
          "2021-02-24T11:30:00",
          "2021-02-24T12:00:00",
          "2021-02-24T12:30:00",
          "2021-02-24T13:00:00",
          "2021-02-24T13:30:00",
          "2021-02-24T14:00:00",
          "2021-02-24T14:30:00",
          "2021-02-24T15:00:00",
          "2021-02-24T15:30:00",
          "2021-02-24T16:00:00",
          "2021-02-24T16:30:00",
          "2021-02-24T17:00:00",
          "2021-02-24T17:30:00",
          "2021-02-24T18:00:00",
          "2021-02-24T18:30:00",
          "2021-02-24T19:00:00",
          "2021-02-24T19:30:00",
          "2021-02-24T20:00:00",
          "2021-02-24T20:30:00",
          "2021-02-24T21:00:00",
          "2021-02-24T21:30:00",
          "2021-02-24T22:00:00",
          "2021-02-24T22:30:00",
          "2021-02-24T23:00:00",
          "2021-02-24T23:30:00"
         ]
        },
        {
         "line": {
          "color": "blue"
         },
         "mode": "lines",
         "name": "VWAP",
         "type": "scatter",
         "x": [
          "2021-02-24T00:00:00",
          "2021-02-24T00:30:00",
          "2021-02-24T01:00:00",
          "2021-02-24T01:30:00",
          "2021-02-24T02:00:00",
          "2021-02-24T02:30:00",
          "2021-02-24T03:00:00",
          "2021-02-24T03:30:00",
          "2021-02-24T04:00:00",
          "2021-02-24T04:30:00",
          "2021-02-24T05:00:00",
          "2021-02-24T05:30:00",
          "2021-02-24T06:00:00",
          "2021-02-24T06:30:00",
          "2021-02-24T07:00:00",
          "2021-02-24T07:30:00",
          "2021-02-24T08:00:00",
          "2021-02-24T08:30:00",
          "2021-02-24T09:00:00",
          "2021-02-24T09:30:00",
          "2021-02-24T10:00:00",
          "2021-02-24T10:30:00",
          "2021-02-24T11:00:00",
          "2021-02-24T11:30:00",
          "2021-02-24T12:00:00",
          "2021-02-24T12:30:00",
          "2021-02-24T13:00:00",
          "2021-02-24T13:30:00",
          "2021-02-24T14:00:00",
          "2021-02-24T14:30:00",
          "2021-02-24T15:00:00",
          "2021-02-24T15:30:00",
          "2021-02-24T16:00:00",
          "2021-02-24T16:30:00",
          "2021-02-24T17:00:00",
          "2021-02-24T17:30:00",
          "2021-02-24T18:00:00",
          "2021-02-24T18:30:00",
          "2021-02-24T19:00:00",
          "2021-02-24T19:30:00",
          "2021-02-24T20:00:00",
          "2021-02-24T20:30:00",
          "2021-02-24T21:00:00",
          "2021-02-24T21:30:00",
          "2021-02-24T22:00:00",
          "2021-02-24T22:30:00",
          "2021-02-24T23:00:00",
          "2021-02-24T23:30:00"
         ],
         "y": [
          48004.048964662376,
          47822.2395309893,
          48943.95505645521,
          49622.07750064441,
          50211.59027564947,
          50304.62714316974,
          50379.59254789042,
          50620.8556915582,
          51100.967647214056,
          50689.34103470607,
          50565.002804654716,
          50380.50381708889,
          50023.7267707391,
          49909.51060086196,
          49816.6113586758,
          50115.40315293695,
          50443.84779262215,
          50634.00072914474,
          50706.59110678978,
          51076.9346652842,
          50587.03545163781,
          50439.534200148104,
          50503.22103484746,
          50493.73396847665,
          50832.14830979761,
          51009.100311992675,
          50142.703497437295,
          49412.90569087317,
          49486.08945937049,
          49157.91917972354,
          48971.53598067642,
          49475.78313396901,
          49791.98138026058,
          49661.83458379839,
          49801.30438301752,
          49826.076311718054,
          49759.719605465536,
          49822.54312969222,
          49500.60474846922,
          49060.54583913442,
          49022.479040752216,
          48840.54974176825,
          48530.85329509526,
          48400.51353399494,
          48400.398530057755,
          48764.17089954222,
          49282.63984981319,
          49613.33157234765
         ]
        },
        {
         "line": {
          "color": "grey"
         },
         "mode": "lines",
         "name": "vwmp_lower",
         "type": "scatter",
         "x": [
          "2021-02-24T00:00:00",
          "2021-02-24T00:30:00",
          "2021-02-24T01:00:00",
          "2021-02-24T01:30:00",
          "2021-02-24T02:00:00",
          "2021-02-24T02:30:00",
          "2021-02-24T03:00:00",
          "2021-02-24T03:30:00",
          "2021-02-24T04:00:00",
          "2021-02-24T04:30:00",
          "2021-02-24T05:00:00",
          "2021-02-24T05:30:00",
          "2021-02-24T06:00:00",
          "2021-02-24T06:30:00",
          "2021-02-24T07:00:00",
          "2021-02-24T07:30:00",
          "2021-02-24T08:00:00",
          "2021-02-24T08:30:00",
          "2021-02-24T09:00:00",
          "2021-02-24T09:30:00",
          "2021-02-24T10:00:00",
          "2021-02-24T10:30:00",
          "2021-02-24T11:00:00",
          "2021-02-24T11:30:00",
          "2021-02-24T12:00:00",
          "2021-02-24T12:30:00",
          "2021-02-24T13:00:00",
          "2021-02-24T13:30:00",
          "2021-02-24T14:00:00",
          "2021-02-24T14:30:00",
          "2021-02-24T15:00:00",
          "2021-02-24T15:30:00",
          "2021-02-24T16:00:00",
          "2021-02-24T16:30:00",
          "2021-02-24T17:00:00",
          "2021-02-24T17:30:00",
          "2021-02-24T18:00:00",
          "2021-02-24T18:30:00",
          "2021-02-24T19:00:00",
          "2021-02-24T19:30:00",
          "2021-02-24T20:00:00",
          "2021-02-24T20:30:00",
          "2021-02-24T21:00:00",
          "2021-02-24T21:30:00",
          "2021-02-24T22:00:00",
          "2021-02-24T22:30:00",
          "2021-02-24T23:00:00",
          "2021-02-24T23:30:00"
         ],
         "y": [
          47329.95,
          47613.76,
          48940.71,
          49853.12,
          50472.43,
          50400.81,
          50347.82,
          50412.42,
          51238.39,
          50516.87,
          50175.78,
          50416.58,
          50563.78,
          49556.5,
          50081.93,
          50170.18,
          50750,
          50730.39,
          50881.07,
          50915.34,
          50481.65,
          50271.92,
          50517.52,
          50381.72,
          50850,
          50913.13,
          49896.62,
          49321.71,
          49703.13,
          48957.6,
          49000,
          49167.98,
          49857.77,
          49676.56,
          49865.12,
          49688.03,
          49897.46,
          49773.58,
          49640,
          49083.05,
          49117.42,
          48805.65,
          48162.7,
          48461.36,
          48384.93,
          48921.52,
          49419.32,
          49438.95
         ]
        }
       ],
       "layout": {
        "height": 300,
        "margin": {
         "b": 20,
         "l": 70,
         "r": 50,
         "t": 50
        },
        "template": {
         "data": {
          "bar": [
           {
            "error_x": {
             "color": "#2a3f5f"
            },
            "error_y": {
             "color": "#2a3f5f"
            },
            "marker": {
             "line": {
              "color": "#E5ECF6",
              "width": 0.5
             },
             "pattern": {
              "fillmode": "overlay",
              "size": 10,
              "solidity": 0.2
             }
            },
            "type": "bar"
           }
          ],
          "barpolar": [
           {
            "marker": {
             "line": {
              "color": "#E5ECF6",
              "width": 0.5
             },
             "pattern": {
              "fillmode": "overlay",
              "size": 10,
              "solidity": 0.2
             }
            },
            "type": "barpolar"
           }
          ],
          "carpet": [
           {
            "aaxis": {
             "endlinecolor": "#2a3f5f",
             "gridcolor": "white",
             "linecolor": "white",
             "minorgridcolor": "white",
             "startlinecolor": "#2a3f5f"
            },
            "baxis": {
             "endlinecolor": "#2a3f5f",
             "gridcolor": "white",
             "linecolor": "white",
             "minorgridcolor": "white",
             "startlinecolor": "#2a3f5f"
            },
            "type": "carpet"
           }
          ],
          "choropleth": [
           {
            "colorbar": {
             "outlinewidth": 0,
             "ticks": ""
            },
            "type": "choropleth"
           }
          ],
          "contour": [
           {
            "colorbar": {
             "outlinewidth": 0,
             "ticks": ""
            },
            "colorscale": [
             [
              0,
              "#0d0887"
             ],
             [
              0.1111111111111111,
              "#46039f"
             ],
             [
              0.2222222222222222,
              "#7201a8"
             ],
             [
              0.3333333333333333,
              "#9c179e"
             ],
             [
              0.4444444444444444,
              "#bd3786"
             ],
             [
              0.5555555555555556,
              "#d8576b"
             ],
             [
              0.6666666666666666,
              "#ed7953"
             ],
             [
              0.7777777777777778,
              "#fb9f3a"
             ],
             [
              0.8888888888888888,
              "#fdca26"
             ],
             [
              1,
              "#f0f921"
             ]
            ],
            "type": "contour"
           }
          ],
          "contourcarpet": [
           {
            "colorbar": {
             "outlinewidth": 0,
             "ticks": ""
            },
            "type": "contourcarpet"
           }
          ],
          "heatmap": [
           {
            "colorbar": {
             "outlinewidth": 0,
             "ticks": ""
            },
            "colorscale": [
             [
              0,
              "#0d0887"
             ],
             [
              0.1111111111111111,
              "#46039f"
             ],
             [
              0.2222222222222222,
              "#7201a8"
             ],
             [
              0.3333333333333333,
              "#9c179e"
             ],
             [
              0.4444444444444444,
              "#bd3786"
             ],
             [
              0.5555555555555556,
              "#d8576b"
             ],
             [
              0.6666666666666666,
              "#ed7953"
             ],
             [
              0.7777777777777778,
              "#fb9f3a"
             ],
             [
              0.8888888888888888,
              "#fdca26"
             ],
             [
              1,
              "#f0f921"
             ]
            ],
            "type": "heatmap"
           }
          ],
          "heatmapgl": [
           {
            "colorbar": {
             "outlinewidth": 0,
             "ticks": ""
            },
            "colorscale": [
             [
              0,
              "#0d0887"
             ],
             [
              0.1111111111111111,
              "#46039f"
             ],
             [
              0.2222222222222222,
              "#7201a8"
             ],
             [
              0.3333333333333333,
              "#9c179e"
             ],
             [
              0.4444444444444444,
              "#bd3786"
             ],
             [
              0.5555555555555556,
              "#d8576b"
             ],
             [
              0.6666666666666666,
              "#ed7953"
             ],
             [
              0.7777777777777778,
              "#fb9f3a"
             ],
             [
              0.8888888888888888,
              "#fdca26"
             ],
             [
              1,
              "#f0f921"
             ]
            ],
            "type": "heatmapgl"
           }
          ],
          "histogram": [
           {
            "marker": {
             "pattern": {
              "fillmode": "overlay",
              "size": 10,
              "solidity": 0.2
             }
            },
            "type": "histogram"
           }
          ],
          "histogram2d": [
           {
            "colorbar": {
             "outlinewidth": 0,
             "ticks": ""
            },
            "colorscale": [
             [
              0,
              "#0d0887"
             ],
             [
              0.1111111111111111,
              "#46039f"
             ],
             [
              0.2222222222222222,
              "#7201a8"
             ],
             [
              0.3333333333333333,
              "#9c179e"
             ],
             [
              0.4444444444444444,
              "#bd3786"
             ],
             [
              0.5555555555555556,
              "#d8576b"
             ],
             [
              0.6666666666666666,
              "#ed7953"
             ],
             [
              0.7777777777777778,
              "#fb9f3a"
             ],
             [
              0.8888888888888888,
              "#fdca26"
             ],
             [
              1,
              "#f0f921"
             ]
            ],
            "type": "histogram2d"
           }
          ],
          "histogram2dcontour": [
           {
            "colorbar": {
             "outlinewidth": 0,
             "ticks": ""
            },
            "colorscale": [
             [
              0,
              "#0d0887"
             ],
             [
              0.1111111111111111,
              "#46039f"
             ],
             [
              0.2222222222222222,
              "#7201a8"
             ],
             [
              0.3333333333333333,
              "#9c179e"
             ],
             [
              0.4444444444444444,
              "#bd3786"
             ],
             [
              0.5555555555555556,
              "#d8576b"
             ],
             [
              0.6666666666666666,
              "#ed7953"
             ],
             [
              0.7777777777777778,
              "#fb9f3a"
             ],
             [
              0.8888888888888888,
              "#fdca26"
             ],
             [
              1,
              "#f0f921"
             ]
            ],
            "type": "histogram2dcontour"
           }
          ],
          "mesh3d": [
           {
            "colorbar": {
             "outlinewidth": 0,
             "ticks": ""
            },
            "type": "mesh3d"
           }
          ],
          "parcoords": [
           {
            "line": {
             "colorbar": {
              "outlinewidth": 0,
              "ticks": ""
             }
            },
            "type": "parcoords"
           }
          ],
          "pie": [
           {
            "automargin": true,
            "type": "pie"
           }
          ],
          "scatter": [
           {
            "fillpattern": {
             "fillmode": "overlay",
             "size": 10,
             "solidity": 0.2
            },
            "type": "scatter"
           }
          ],
          "scatter3d": [
           {
            "line": {
             "colorbar": {
              "outlinewidth": 0,
              "ticks": ""
             }
            },
            "marker": {
             "colorbar": {
              "outlinewidth": 0,
              "ticks": ""
             }
            },
            "type": "scatter3d"
           }
          ],
          "scattercarpet": [
           {
            "marker": {
             "colorbar": {
              "outlinewidth": 0,
              "ticks": ""
             }
            },
            "type": "scattercarpet"
           }
          ],
          "scattergeo": [
           {
            "marker": {
             "colorbar": {
              "outlinewidth": 0,
              "ticks": ""
             }
            },
            "type": "scattergeo"
           }
          ],
          "scattergl": [
           {
            "marker": {
             "colorbar": {
              "outlinewidth": 0,
              "ticks": ""
             }
            },
            "type": "scattergl"
           }
          ],
          "scattermapbox": [
           {
            "marker": {
             "colorbar": {
              "outlinewidth": 0,
              "ticks": ""
             }
            },
            "type": "scattermapbox"
           }
          ],
          "scatterpolar": [
           {
            "marker": {
             "colorbar": {
              "outlinewidth": 0,
              "ticks": ""
             }
            },
            "type": "scatterpolar"
           }
          ],
          "scatterpolargl": [
           {
            "marker": {
             "colorbar": {
              "outlinewidth": 0,
              "ticks": ""
             }
            },
            "type": "scatterpolargl"
           }
          ],
          "scatterternary": [
           {
            "marker": {
             "colorbar": {
              "outlinewidth": 0,
              "ticks": ""
             }
            },
            "type": "scatterternary"
           }
          ],
          "surface": [
           {
            "colorbar": {
             "outlinewidth": 0,
             "ticks": ""
            },
            "colorscale": [
             [
              0,
              "#0d0887"
             ],
             [
              0.1111111111111111,
              "#46039f"
             ],
             [
              0.2222222222222222,
              "#7201a8"
             ],
             [
              0.3333333333333333,
              "#9c179e"
             ],
             [
              0.4444444444444444,
              "#bd3786"
             ],
             [
              0.5555555555555556,
              "#d8576b"
             ],
             [
              0.6666666666666666,
              "#ed7953"
             ],
             [
              0.7777777777777778,
              "#fb9f3a"
             ],
             [
              0.8888888888888888,
              "#fdca26"
             ],
             [
              1,
              "#f0f921"
             ]
            ],
            "type": "surface"
           }
          ],
          "table": [
           {
            "cells": {
             "fill": {
              "color": "#EBF0F8"
             },
             "line": {
              "color": "white"
             }
            },
            "header": {
             "fill": {
              "color": "#C8D4E3"
             },
             "line": {
              "color": "white"
             }
            },
            "type": "table"
           }
          ]
         },
         "layout": {
          "annotationdefaults": {
           "arrowcolor": "#2a3f5f",
           "arrowhead": 0,
           "arrowwidth": 1
          },
          "autotypenumbers": "strict",
          "coloraxis": {
           "colorbar": {
            "outlinewidth": 0,
            "ticks": ""
           }
          },
          "colorscale": {
           "diverging": [
            [
             0,
             "#8e0152"
            ],
            [
             0.1,
             "#c51b7d"
            ],
            [
             0.2,
             "#de77ae"
            ],
            [
             0.3,
             "#f1b6da"
            ],
            [
             0.4,
             "#fde0ef"
            ],
            [
             0.5,
             "#f7f7f7"
            ],
            [
             0.6,
             "#e6f5d0"
            ],
            [
             0.7,
             "#b8e186"
            ],
            [
             0.8,
             "#7fbc41"
            ],
            [
             0.9,
             "#4d9221"
            ],
            [
             1,
             "#276419"
            ]
           ],
           "sequential": [
            [
             0,
             "#0d0887"
            ],
            [
             0.1111111111111111,
             "#46039f"
            ],
            [
             0.2222222222222222,
             "#7201a8"
            ],
            [
             0.3333333333333333,
             "#9c179e"
            ],
            [
             0.4444444444444444,
             "#bd3786"
            ],
            [
             0.5555555555555556,
             "#d8576b"
            ],
            [
             0.6666666666666666,
             "#ed7953"
            ],
            [
             0.7777777777777778,
             "#fb9f3a"
            ],
            [
             0.8888888888888888,
             "#fdca26"
            ],
            [
             1,
             "#f0f921"
            ]
           ],
           "sequentialminus": [
            [
             0,
             "#0d0887"
            ],
            [
             0.1111111111111111,
             "#46039f"
            ],
            [
             0.2222222222222222,
             "#7201a8"
            ],
            [
             0.3333333333333333,
             "#9c179e"
            ],
            [
             0.4444444444444444,
             "#bd3786"
            ],
            [
             0.5555555555555556,
             "#d8576b"
            ],
            [
             0.6666666666666666,
             "#ed7953"
            ],
            [
             0.7777777777777778,
             "#fb9f3a"
            ],
            [
             0.8888888888888888,
             "#fdca26"
            ],
            [
             1,
             "#f0f921"
            ]
           ]
          },
          "colorway": [
           "#636efa",
           "#EF553B",
           "#00cc96",
           "#ab63fa",
           "#FFA15A",
           "#19d3f3",
           "#FF6692",
           "#B6E880",
           "#FF97FF",
           "#FECB52"
          ],
          "font": {
           "color": "#2a3f5f"
          },
          "geo": {
           "bgcolor": "white",
           "lakecolor": "white",
           "landcolor": "#E5ECF6",
           "showlakes": true,
           "showland": true,
           "subunitcolor": "white"
          },
          "hoverlabel": {
           "align": "left"
          },
          "hovermode": "closest",
          "mapbox": {
           "style": "light"
          },
          "paper_bgcolor": "white",
          "plot_bgcolor": "#E5ECF6",
          "polar": {
           "angularaxis": {
            "gridcolor": "white",
            "linecolor": "white",
            "ticks": ""
           },
           "bgcolor": "#E5ECF6",
           "radialaxis": {
            "gridcolor": "white",
            "linecolor": "white",
            "ticks": ""
           }
          },
          "scene": {
           "xaxis": {
            "backgroundcolor": "#E5ECF6",
            "gridcolor": "white",
            "gridwidth": 2,
            "linecolor": "white",
            "showbackground": true,
            "ticks": "",
            "zerolinecolor": "white"
           },
           "yaxis": {
            "backgroundcolor": "#E5ECF6",
            "gridcolor": "white",
            "gridwidth": 2,
            "linecolor": "white",
            "showbackground": true,
            "ticks": "",
            "zerolinecolor": "white"
           },
           "zaxis": {
            "backgroundcolor": "#E5ECF6",
            "gridcolor": "white",
            "gridwidth": 2,
            "linecolor": "white",
            "showbackground": true,
            "ticks": "",
            "zerolinecolor": "white"
           }
          },
          "shapedefaults": {
           "line": {
            "color": "#2a3f5f"
           }
          },
          "ternary": {
           "aaxis": {
            "gridcolor": "white",
            "linecolor": "white",
            "ticks": ""
           },
           "baxis": {
            "gridcolor": "white",
            "linecolor": "white",
            "ticks": ""
           },
           "bgcolor": "#E5ECF6",
           "caxis": {
            "gridcolor": "white",
            "linecolor": "white",
            "ticks": ""
           }
          },
          "title": {
           "x": 0.05
          },
          "xaxis": {
           "automargin": true,
           "gridcolor": "white",
           "linecolor": "white",
           "ticks": "",
           "title": {
            "standoff": 15
           },
           "zerolinecolor": "white",
           "zerolinewidth": 2
          },
          "yaxis": {
           "automargin": true,
           "gridcolor": "white",
           "linecolor": "white",
           "ticks": "",
           "title": {
            "standoff": 15
           },
           "zerolinecolor": "white",
           "zerolinewidth": 2
          }
         }
        },
        "title": {
         "text": "Exchange - [cbse]"
        },
        "width": 800,
        "yaxis": {
         "title": {
          "text": "Price"
         }
        }
       }
      }
     },
     "metadata": {},
     "output_type": "display_data"
    },
    {
     "data": {
      "application/vnd.plotly.v1+json": {
       "config": {
        "plotlyServerURL": "https://plot.ly"
       },
       "data": [
        {
         "close": [
          47269.36,
          48482.38,
          49154.88,
          50214.49,
          50050,
          50206.46,
          50259.89,
          50898.28,
          50689.38,
          50636.53,
          50385.42,
          50217.25,
          49692.25,
          50093.88,
          49673.11,
          50042.91,
          50602.84,
          50658.05,
          50767.53,
          50904.26,
          50452.62,
          50111.98,
          50765.68,
          50390.43,
          51143.47,
          50744.2,
          49637.68,
          49468.85,
          49490.41,
          49434.82,
          49180.81,
          49844.79,
          49510.21,
          49341.98,
          49738.96,
          50084.5,
          49678.08,
          49599.14,
          49452.8,
          48982.64,
          48887.84,
          49174.6,
          48171.78,
          48790.7,
          48696.32,
          48852.09,
          49330.09,
          49714.5
         ],
         "high": [
          49096.01,
          48482.38,
          49359.42,
          50214.5,
          50566.28,
          50489.83,
          50534.89,
          50995.25,
          51399.11,
          50987.83,
          51030.13,
          50543,
          50678.4,
          50551.92,
          50140.69,
          50362.13,
          50884.72,
          50876.97,
          51000,
          51402.65,
          51042.97,
          50621.67,
          50905.69,
          50872.93,
          51192.81,
          51323.93,
          51080.27,
          49852.85,
          49794.69,
          49681.3,
          49660.45,
          49892.5,
          50141,
          49877.7,
          49978.47,
          50084.5,
          50084.5,
          49997.5,
          49744.85,
          49456.21,
          49272.2,
          49223.15,
          49180.95,
          48895.81,
          48744.47,
          48945.74,
          49545.44,
          49770.84
         ],
         "low": [
          47001.88,
          47239.9,
          48438.82,
          48775.58,
          49781.14,
          50031.42,
          50091.01,
          50236.75,
          50689.38,
          50342.02,
          49983.24,
          50183.71,
          49400,
          49524.08,
          49501.04,
          49712.98,
          49818.38,
          50297.04,
          50362.72,
          50767.53,
          50178.57,
          50099.68,
          50113.4,
          50246.9,
          50324.99,
          50661.52,
          49411.17,
          49058.18,
          49180.38,
          48757.06,
          48452.03,
          49020.18,
          49410.96,
          49335.8,
          49337.75,
          49657.21,
          49546.01,
          49583.25,
          49370.52,
          48865.97,
          48750,
          48591.66,
          48135.88,
          48142.97,
          48054.15,
          48500,
          48753.08,
          49331.6
         ],
         "open": [
          48875,
          47272.36,
          48438.82,
          49169.14,
          50171.91,
          50031.42,
          50177.5,
          50257.57,
          50900.61,
          50700,
          50656.06,
          50381.62,
          50211.36,
          49674.54,
          50091.48,
          49712.98,
          50089.2,
          50657.58,
          50661.48,
          50767.53,
          50908.49,
          50435.31,
          50113.4,
          50757.43,
          50397.47,
          51131.7,
          50758.51,
          49637.67,
          49497.41,
          49490.4,
          49426.74,
          49178.7,
          49847.29,
          49523.51,
          49337.75,
          49767.25,
          50065.13,
          49678.07,
          49601.14,
          49451.57,
          48996.32,
          48890.29,
          49142.58,
          48174.2,
          48744.47,
          48700.29,
          48829.4,
          49331.6
         ],
         "type": "candlestick",
         "x": [
          "2021-02-24T00:00:00",
          "2021-02-24T00:30:00",
          "2021-02-24T01:00:00",
          "2021-02-24T01:30:00",
          "2021-02-24T02:00:00",
          "2021-02-24T02:30:00",
          "2021-02-24T03:00:00",
          "2021-02-24T03:30:00",
          "2021-02-24T04:00:00",
          "2021-02-24T04:30:00",
          "2021-02-24T05:00:00",
          "2021-02-24T05:30:00",
          "2021-02-24T06:00:00",
          "2021-02-24T06:30:00",
          "2021-02-24T07:00:00",
          "2021-02-24T07:30:00",
          "2021-02-24T08:00:00",
          "2021-02-24T08:30:00",
          "2021-02-24T09:00:00",
          "2021-02-24T09:30:00",
          "2021-02-24T10:00:00",
          "2021-02-24T10:30:00",
          "2021-02-24T11:00:00",
          "2021-02-24T11:30:00",
          "2021-02-24T12:00:00",
          "2021-02-24T12:30:00",
          "2021-02-24T13:00:00",
          "2021-02-24T13:30:00",
          "2021-02-24T14:00:00",
          "2021-02-24T14:30:00",
          "2021-02-24T15:00:00",
          "2021-02-24T15:30:00",
          "2021-02-24T16:00:00",
          "2021-02-24T16:30:00",
          "2021-02-24T17:00:00",
          "2021-02-24T17:30:00",
          "2021-02-24T18:00:00",
          "2021-02-24T18:30:00",
          "2021-02-24T19:00:00",
          "2021-02-24T19:30:00",
          "2021-02-24T20:00:00",
          "2021-02-24T20:30:00",
          "2021-02-24T21:00:00",
          "2021-02-24T21:30:00",
          "2021-02-24T22:00:00",
          "2021-02-24T22:30:00",
          "2021-02-24T23:00:00",
          "2021-02-24T23:30:00"
         ]
        },
        {
         "line": {
          "color": "blue"
         },
         "mode": "lines",
         "name": "VWAP",
         "type": "scatter",
         "x": [
          "2021-02-24T00:00:00",
          "2021-02-24T00:30:00",
          "2021-02-24T01:00:00",
          "2021-02-24T01:30:00",
          "2021-02-24T02:00:00",
          "2021-02-24T02:30:00",
          "2021-02-24T03:00:00",
          "2021-02-24T03:30:00",
          "2021-02-24T04:00:00",
          "2021-02-24T04:30:00",
          "2021-02-24T05:00:00",
          "2021-02-24T05:30:00",
          "2021-02-24T06:00:00",
          "2021-02-24T06:30:00",
          "2021-02-24T07:00:00",
          "2021-02-24T07:30:00",
          "2021-02-24T08:00:00",
          "2021-02-24T08:30:00",
          "2021-02-24T09:00:00",
          "2021-02-24T09:30:00",
          "2021-02-24T10:00:00",
          "2021-02-24T10:30:00",
          "2021-02-24T11:00:00",
          "2021-02-24T11:30:00",
          "2021-02-24T12:00:00",
          "2021-02-24T12:30:00",
          "2021-02-24T13:00:00",
          "2021-02-24T13:30:00",
          "2021-02-24T14:00:00",
          "2021-02-24T14:30:00",
          "2021-02-24T15:00:00",
          "2021-02-24T15:30:00",
          "2021-02-24T16:00:00",
          "2021-02-24T16:30:00",
          "2021-02-24T17:00:00",
          "2021-02-24T17:30:00",
          "2021-02-24T18:00:00",
          "2021-02-24T18:30:00",
          "2021-02-24T19:00:00",
          "2021-02-24T19:30:00",
          "2021-02-24T20:00:00",
          "2021-02-24T20:30:00",
          "2021-02-24T21:00:00",
          "2021-02-24T21:30:00",
          "2021-02-24T22:00:00",
          "2021-02-24T22:30:00",
          "2021-02-24T23:00:00",
          "2021-02-24T23:30:00"
         ],
         "y": [
          47941.85449174356,
          47733.23872644159,
          48892.36994234128,
          49541.44755259958,
          50156.20977395028,
          50283.157323298634,
          50345.597411769995,
          50661.81972952978,
          51074.623787250974,
          50668.31036500271,
          50394.05829324617,
          50361.53206293841,
          50031.25109462125,
          50073.12529898634,
          49679.95723890776,
          50087.738055574315,
          50495.952545670814,
          50631.55911588163,
          50719.91449761315,
          51029.28917171658,
          50587.08625890182,
          50436.367591831404,
          50475.12927813141,
          50475.54462493871,
          50744.68426238272,
          51066.7091594146,
          50035.27272334436,
          49436.19588818113,
          49519.864880550274,
          49198.354286825976,
          49145.17823271108,
          49477.370283676035,
          49841.31494160548,
          49581.93558628671,
          49779.924552991244,
          49860.0163843489,
          49782.90713412858,
          49813.4025185165,
          49549.55986583737,
          49119.805848501106,
          49030.10213285143,
          48826.76547311743,
          48526.98135127353,
          48435.48631651101,
          48398.34199922692,
          48726.373497391614,
          49261.390740681636,
          49544.48043810018
         ]
        },
        {
         "line": {
          "color": "grey"
         },
         "mode": "lines",
         "name": "vwmp_lower",
         "type": "scatter",
         "x": [
          "2021-02-24T00:00:00",
          "2021-02-24T00:30:00",
          "2021-02-24T01:00:00",
          "2021-02-24T01:30:00",
          "2021-02-24T02:00:00",
          "2021-02-24T02:30:00",
          "2021-02-24T03:00:00",
          "2021-02-24T03:30:00",
          "2021-02-24T04:00:00",
          "2021-02-24T04:30:00",
          "2021-02-24T05:00:00",
          "2021-02-24T05:30:00",
          "2021-02-24T06:00:00",
          "2021-02-24T06:30:00",
          "2021-02-24T07:00:00",
          "2021-02-24T07:30:00",
          "2021-02-24T08:00:00",
          "2021-02-24T08:30:00",
          "2021-02-24T09:00:00",
          "2021-02-24T09:30:00",
          "2021-02-24T10:00:00",
          "2021-02-24T10:30:00",
          "2021-02-24T11:00:00",
          "2021-02-24T11:30:00",
          "2021-02-24T12:00:00",
          "2021-02-24T12:30:00",
          "2021-02-24T13:00:00",
          "2021-02-24T13:30:00",
          "2021-02-24T14:00:00",
          "2021-02-24T14:30:00",
          "2021-02-24T15:00:00",
          "2021-02-24T15:30:00",
          "2021-02-24T16:00:00",
          "2021-02-24T16:30:00",
          "2021-02-24T17:00:00",
          "2021-02-24T17:30:00",
          "2021-02-24T18:00:00",
          "2021-02-24T18:30:00",
          "2021-02-24T19:00:00",
          "2021-02-24T19:30:00",
          "2021-02-24T20:00:00",
          "2021-02-24T20:30:00",
          "2021-02-24T21:00:00",
          "2021-02-24T21:30:00",
          "2021-02-24T22:00:00",
          "2021-02-24T22:30:00",
          "2021-02-24T23:00:00",
          "2021-02-24T23:30:00"
         ],
         "y": [
          48957.22,
          48104.12,
          49155.12,
          49498.93,
          50002.94,
          50207.44,
          50285.39,
          50444.24,
          51009.42,
          50733.98,
          50450,
          50279.09,
          50439.66,
          50261.2,
          49501.04,
          50116.53,
          50868.01,
          50651.48,
          50869.53,
          51137.48,
          50282.51,
          50279.5,
          50285.31,
          50464.99,
          50702.44,
          51188,
          49836.07,
          49591.63,
          49756.79,
          49380.41,
          49232.98,
          49474.28,
          49729.84,
          49400,
          49866.64,
          49678.4,
          49818.4,
          49626.28,
          49611,
          49000,
          49150,
          48734.34,
          48365.67,
          48323.23,
          48596.47,
          48726.07,
          48831.03,
          49365.32
         ]
        }
       ],
       "layout": {
        "height": 300,
        "margin": {
         "b": 20,
         "l": 70,
         "r": 50,
         "t": 50
        },
        "template": {
         "data": {
          "bar": [
           {
            "error_x": {
             "color": "#2a3f5f"
            },
            "error_y": {
             "color": "#2a3f5f"
            },
            "marker": {
             "line": {
              "color": "#E5ECF6",
              "width": 0.5
             },
             "pattern": {
              "fillmode": "overlay",
              "size": 10,
              "solidity": 0.2
             }
            },
            "type": "bar"
           }
          ],
          "barpolar": [
           {
            "marker": {
             "line": {
              "color": "#E5ECF6",
              "width": 0.5
             },
             "pattern": {
              "fillmode": "overlay",
              "size": 10,
              "solidity": 0.2
             }
            },
            "type": "barpolar"
           }
          ],
          "carpet": [
           {
            "aaxis": {
             "endlinecolor": "#2a3f5f",
             "gridcolor": "white",
             "linecolor": "white",
             "minorgridcolor": "white",
             "startlinecolor": "#2a3f5f"
            },
            "baxis": {
             "endlinecolor": "#2a3f5f",
             "gridcolor": "white",
             "linecolor": "white",
             "minorgridcolor": "white",
             "startlinecolor": "#2a3f5f"
            },
            "type": "carpet"
           }
          ],
          "choropleth": [
           {
            "colorbar": {
             "outlinewidth": 0,
             "ticks": ""
            },
            "type": "choropleth"
           }
          ],
          "contour": [
           {
            "colorbar": {
             "outlinewidth": 0,
             "ticks": ""
            },
            "colorscale": [
             [
              0,
              "#0d0887"
             ],
             [
              0.1111111111111111,
              "#46039f"
             ],
             [
              0.2222222222222222,
              "#7201a8"
             ],
             [
              0.3333333333333333,
              "#9c179e"
             ],
             [
              0.4444444444444444,
              "#bd3786"
             ],
             [
              0.5555555555555556,
              "#d8576b"
             ],
             [
              0.6666666666666666,
              "#ed7953"
             ],
             [
              0.7777777777777778,
              "#fb9f3a"
             ],
             [
              0.8888888888888888,
              "#fdca26"
             ],
             [
              1,
              "#f0f921"
             ]
            ],
            "type": "contour"
           }
          ],
          "contourcarpet": [
           {
            "colorbar": {
             "outlinewidth": 0,
             "ticks": ""
            },
            "type": "contourcarpet"
           }
          ],
          "heatmap": [
           {
            "colorbar": {
             "outlinewidth": 0,
             "ticks": ""
            },
            "colorscale": [
             [
              0,
              "#0d0887"
             ],
             [
              0.1111111111111111,
              "#46039f"
             ],
             [
              0.2222222222222222,
              "#7201a8"
             ],
             [
              0.3333333333333333,
              "#9c179e"
             ],
             [
              0.4444444444444444,
              "#bd3786"
             ],
             [
              0.5555555555555556,
              "#d8576b"
             ],
             [
              0.6666666666666666,
              "#ed7953"
             ],
             [
              0.7777777777777778,
              "#fb9f3a"
             ],
             [
              0.8888888888888888,
              "#fdca26"
             ],
             [
              1,
              "#f0f921"
             ]
            ],
            "type": "heatmap"
           }
          ],
          "heatmapgl": [
           {
            "colorbar": {
             "outlinewidth": 0,
             "ticks": ""
            },
            "colorscale": [
             [
              0,
              "#0d0887"
             ],
             [
              0.1111111111111111,
              "#46039f"
             ],
             [
              0.2222222222222222,
              "#7201a8"
             ],
             [
              0.3333333333333333,
              "#9c179e"
             ],
             [
              0.4444444444444444,
              "#bd3786"
             ],
             [
              0.5555555555555556,
              "#d8576b"
             ],
             [
              0.6666666666666666,
              "#ed7953"
             ],
             [
              0.7777777777777778,
              "#fb9f3a"
             ],
             [
              0.8888888888888888,
              "#fdca26"
             ],
             [
              1,
              "#f0f921"
             ]
            ],
            "type": "heatmapgl"
           }
          ],
          "histogram": [
           {
            "marker": {
             "pattern": {
              "fillmode": "overlay",
              "size": 10,
              "solidity": 0.2
             }
            },
            "type": "histogram"
           }
          ],
          "histogram2d": [
           {
            "colorbar": {
             "outlinewidth": 0,
             "ticks": ""
            },
            "colorscale": [
             [
              0,
              "#0d0887"
             ],
             [
              0.1111111111111111,
              "#46039f"
             ],
             [
              0.2222222222222222,
              "#7201a8"
             ],
             [
              0.3333333333333333,
              "#9c179e"
             ],
             [
              0.4444444444444444,
              "#bd3786"
             ],
             [
              0.5555555555555556,
              "#d8576b"
             ],
             [
              0.6666666666666666,
              "#ed7953"
             ],
             [
              0.7777777777777778,
              "#fb9f3a"
             ],
             [
              0.8888888888888888,
              "#fdca26"
             ],
             [
              1,
              "#f0f921"
             ]
            ],
            "type": "histogram2d"
           }
          ],
          "histogram2dcontour": [
           {
            "colorbar": {
             "outlinewidth": 0,
             "ticks": ""
            },
            "colorscale": [
             [
              0,
              "#0d0887"
             ],
             [
              0.1111111111111111,
              "#46039f"
             ],
             [
              0.2222222222222222,
              "#7201a8"
             ],
             [
              0.3333333333333333,
              "#9c179e"
             ],
             [
              0.4444444444444444,
              "#bd3786"
             ],
             [
              0.5555555555555556,
              "#d8576b"
             ],
             [
              0.6666666666666666,
              "#ed7953"
             ],
             [
              0.7777777777777778,
              "#fb9f3a"
             ],
             [
              0.8888888888888888,
              "#fdca26"
             ],
             [
              1,
              "#f0f921"
             ]
            ],
            "type": "histogram2dcontour"
           }
          ],
          "mesh3d": [
           {
            "colorbar": {
             "outlinewidth": 0,
             "ticks": ""
            },
            "type": "mesh3d"
           }
          ],
          "parcoords": [
           {
            "line": {
             "colorbar": {
              "outlinewidth": 0,
              "ticks": ""
             }
            },
            "type": "parcoords"
           }
          ],
          "pie": [
           {
            "automargin": true,
            "type": "pie"
           }
          ],
          "scatter": [
           {
            "fillpattern": {
             "fillmode": "overlay",
             "size": 10,
             "solidity": 0.2
            },
            "type": "scatter"
           }
          ],
          "scatter3d": [
           {
            "line": {
             "colorbar": {
              "outlinewidth": 0,
              "ticks": ""
             }
            },
            "marker": {
             "colorbar": {
              "outlinewidth": 0,
              "ticks": ""
             }
            },
            "type": "scatter3d"
           }
          ],
          "scattercarpet": [
           {
            "marker": {
             "colorbar": {
              "outlinewidth": 0,
              "ticks": ""
             }
            },
            "type": "scattercarpet"
           }
          ],
          "scattergeo": [
           {
            "marker": {
             "colorbar": {
              "outlinewidth": 0,
              "ticks": ""
             }
            },
            "type": "scattergeo"
           }
          ],
          "scattergl": [
           {
            "marker": {
             "colorbar": {
              "outlinewidth": 0,
              "ticks": ""
             }
            },
            "type": "scattergl"
           }
          ],
          "scattermapbox": [
           {
            "marker": {
             "colorbar": {
              "outlinewidth": 0,
              "ticks": ""
             }
            },
            "type": "scattermapbox"
           }
          ],
          "scatterpolar": [
           {
            "marker": {
             "colorbar": {
              "outlinewidth": 0,
              "ticks": ""
             }
            },
            "type": "scatterpolar"
           }
          ],
          "scatterpolargl": [
           {
            "marker": {
             "colorbar": {
              "outlinewidth": 0,
              "ticks": ""
             }
            },
            "type": "scatterpolargl"
           }
          ],
          "scatterternary": [
           {
            "marker": {
             "colorbar": {
              "outlinewidth": 0,
              "ticks": ""
             }
            },
            "type": "scatterternary"
           }
          ],
          "surface": [
           {
            "colorbar": {
             "outlinewidth": 0,
             "ticks": ""
            },
            "colorscale": [
             [
              0,
              "#0d0887"
             ],
             [
              0.1111111111111111,
              "#46039f"
             ],
             [
              0.2222222222222222,
              "#7201a8"
             ],
             [
              0.3333333333333333,
              "#9c179e"
             ],
             [
              0.4444444444444444,
              "#bd3786"
             ],
             [
              0.5555555555555556,
              "#d8576b"
             ],
             [
              0.6666666666666666,
              "#ed7953"
             ],
             [
              0.7777777777777778,
              "#fb9f3a"
             ],
             [
              0.8888888888888888,
              "#fdca26"
             ],
             [
              1,
              "#f0f921"
             ]
            ],
            "type": "surface"
           }
          ],
          "table": [
           {
            "cells": {
             "fill": {
              "color": "#EBF0F8"
             },
             "line": {
              "color": "white"
             }
            },
            "header": {
             "fill": {
              "color": "#C8D4E3"
             },
             "line": {
              "color": "white"
             }
            },
            "type": "table"
           }
          ]
         },
         "layout": {
          "annotationdefaults": {
           "arrowcolor": "#2a3f5f",
           "arrowhead": 0,
           "arrowwidth": 1
          },
          "autotypenumbers": "strict",
          "coloraxis": {
           "colorbar": {
            "outlinewidth": 0,
            "ticks": ""
           }
          },
          "colorscale": {
           "diverging": [
            [
             0,
             "#8e0152"
            ],
            [
             0.1,
             "#c51b7d"
            ],
            [
             0.2,
             "#de77ae"
            ],
            [
             0.3,
             "#f1b6da"
            ],
            [
             0.4,
             "#fde0ef"
            ],
            [
             0.5,
             "#f7f7f7"
            ],
            [
             0.6,
             "#e6f5d0"
            ],
            [
             0.7,
             "#b8e186"
            ],
            [
             0.8,
             "#7fbc41"
            ],
            [
             0.9,
             "#4d9221"
            ],
            [
             1,
             "#276419"
            ]
           ],
           "sequential": [
            [
             0,
             "#0d0887"
            ],
            [
             0.1111111111111111,
             "#46039f"
            ],
            [
             0.2222222222222222,
             "#7201a8"
            ],
            [
             0.3333333333333333,
             "#9c179e"
            ],
            [
             0.4444444444444444,
             "#bd3786"
            ],
            [
             0.5555555555555556,
             "#d8576b"
            ],
            [
             0.6666666666666666,
             "#ed7953"
            ],
            [
             0.7777777777777778,
             "#fb9f3a"
            ],
            [
             0.8888888888888888,
             "#fdca26"
            ],
            [
             1,
             "#f0f921"
            ]
           ],
           "sequentialminus": [
            [
             0,
             "#0d0887"
            ],
            [
             0.1111111111111111,
             "#46039f"
            ],
            [
             0.2222222222222222,
             "#7201a8"
            ],
            [
             0.3333333333333333,
             "#9c179e"
            ],
            [
             0.4444444444444444,
             "#bd3786"
            ],
            [
             0.5555555555555556,
             "#d8576b"
            ],
            [
             0.6666666666666666,
             "#ed7953"
            ],
            [
             0.7777777777777778,
             "#fb9f3a"
            ],
            [
             0.8888888888888888,
             "#fdca26"
            ],
            [
             1,
             "#f0f921"
            ]
           ]
          },
          "colorway": [
           "#636efa",
           "#EF553B",
           "#00cc96",
           "#ab63fa",
           "#FFA15A",
           "#19d3f3",
           "#FF6692",
           "#B6E880",
           "#FF97FF",
           "#FECB52"
          ],
          "font": {
           "color": "#2a3f5f"
          },
          "geo": {
           "bgcolor": "white",
           "lakecolor": "white",
           "landcolor": "#E5ECF6",
           "showlakes": true,
           "showland": true,
           "subunitcolor": "white"
          },
          "hoverlabel": {
           "align": "left"
          },
          "hovermode": "closest",
          "mapbox": {
           "style": "light"
          },
          "paper_bgcolor": "white",
          "plot_bgcolor": "#E5ECF6",
          "polar": {
           "angularaxis": {
            "gridcolor": "white",
            "linecolor": "white",
            "ticks": ""
           },
           "bgcolor": "#E5ECF6",
           "radialaxis": {
            "gridcolor": "white",
            "linecolor": "white",
            "ticks": ""
           }
          },
          "scene": {
           "xaxis": {
            "backgroundcolor": "#E5ECF6",
            "gridcolor": "white",
            "gridwidth": 2,
            "linecolor": "white",
            "showbackground": true,
            "ticks": "",
            "zerolinecolor": "white"
           },
           "yaxis": {
            "backgroundcolor": "#E5ECF6",
            "gridcolor": "white",
            "gridwidth": 2,
            "linecolor": "white",
            "showbackground": true,
            "ticks": "",
            "zerolinecolor": "white"
           },
           "zaxis": {
            "backgroundcolor": "#E5ECF6",
            "gridcolor": "white",
            "gridwidth": 2,
            "linecolor": "white",
            "showbackground": true,
            "ticks": "",
            "zerolinecolor": "white"
           }
          },
          "shapedefaults": {
           "line": {
            "color": "#2a3f5f"
           }
          },
          "ternary": {
           "aaxis": {
            "gridcolor": "white",
            "linecolor": "white",
            "ticks": ""
           },
           "baxis": {
            "gridcolor": "white",
            "linecolor": "white",
            "ticks": ""
           },
           "bgcolor": "#E5ECF6",
           "caxis": {
            "gridcolor": "white",
            "linecolor": "white",
            "ticks": ""
           }
          },
          "title": {
           "x": 0.05
          },
          "xaxis": {
           "automargin": true,
           "gridcolor": "white",
           "linecolor": "white",
           "ticks": "",
           "title": {
            "standoff": 15
           },
           "zerolinecolor": "white",
           "zerolinewidth": 2
          },
          "yaxis": {
           "automargin": true,
           "gridcolor": "white",
           "linecolor": "white",
           "ticks": "",
           "title": {
            "standoff": 15
           },
           "zerolinecolor": "white",
           "zerolinewidth": 2
          }
         }
        },
        "title": {
         "text": "Exchange - [bnus]"
        },
        "width": 800,
        "yaxis": {
         "title": {
          "text": "Price"
         }
        }
       }
      }
     },
     "metadata": {},
     "output_type": "display_data"
    },
    {
     "data": {
      "application/vnd.plotly.v1+json": {
       "config": {
        "plotlyServerURL": "https://plot.ly"
       },
       "data": [
        {
         "close": [
          47300.6,
          48191.14,
          48798.7,
          50161.64,
          50136.78,
          50948,
          50743.89,
          49656.52,
          50018.9,
          49680.1,
          50410.65,
          50726.45,
          50900,
          50846.85,
          50486.11,
          50436.16,
          50702.08,
          51078.18,
          51229.87,
          49560.79,
          49699,
          49516.91,
          49026.73,
          48971.42,
          49321.43,
          49584.9,
          49537.17,
          49779,
          49731.74,
          49600,
          49700,
          49444.96,
          48997.6,
          49144.07,
          49279.32,
          48478.83,
          48499,
          48252.47,
          48864.19,
          49712.15
         ],
         "high": [
          48929.54,
          48191.14,
          48934.14,
          50161.64,
          50513.79,
          50948,
          51025.46,
          50050.8,
          50018.9,
          49680.1,
          50410.65,
          50726.45,
          50900,
          50907.35,
          50544.26,
          50500,
          50702.08,
          51078.18,
          51229.87,
          50500,
          49870.34,
          49700,
          49344,
          49127.37,
          49321.43,
          50314.08,
          49537.17,
          49779,
          49731.74,
          49600,
          49700,
          49444.96,
          49444.96,
          49144.07,
          49279.32,
          48844.07,
          48499,
          48293.7,
          48864.19,
          49712.15
         ],
         "low": [
          47086.89,
          47399.97,
          48798.7,
          49140.16,
          49994.55,
          50948,
          50736.28,
          49656.52,
          49923.2,
          49680.1,
          49890.34,
          50726.45,
          50890.43,
          50846.85,
          50486.11,
          50436.16,
          50702.08,
          51078.18,
          51229.87,
          49560.79,
          48978.31,
          49272.35,
          48888,
          48517.6,
          49304.15,
          49449.13,
          49537.17,
          49717.23,
          49704.36,
          49600,
          49700,
          49444.96,
          48997.6,
          49144.07,
          48847.56,
          48272.99,
          48202.94,
          48070.33,
          48864.19,
          49603.44
         ],
         "open": [
          48929.54,
          47399.97,
          48934.14,
          49140.16,
          49994.55,
          50948,
          51025.46,
          50050.8,
          49923.2,
          49680.1,
          49890.34,
          50726.45,
          50890.43,
          50907.35,
          50544.26,
          50500,
          50702.08,
          51078.18,
          51229.87,
          50500,
          49316.51,
          49700,
          49344,
          49085.09,
          49304.15,
          50314.08,
          49537.17,
          49717.23,
          49704.36,
          49600,
          49700,
          49444.96,
          49444.96,
          49144.07,
          48900.23,
          48844.07,
          48202.94,
          48211.04,
          48864.19,
          49603.44
         ],
         "type": "candlestick",
         "x": [
          "2021-02-24T00:00:00",
          "2021-02-24T00:30:00",
          "2021-02-24T01:00:00",
          "2021-02-24T01:30:00",
          "2021-02-24T02:00:00",
          "2021-02-24T03:30:00",
          "2021-02-24T04:00:00",
          "2021-02-24T06:00:00",
          "2021-02-24T06:30:00",
          "2021-02-24T07:00:00",
          "2021-02-24T08:00:00",
          "2021-02-24T08:30:00",
          "2021-02-24T09:00:00",
          "2021-02-24T09:30:00",
          "2021-02-24T10:30:00",
          "2021-02-24T11:00:00",
          "2021-02-24T11:30:00",
          "2021-02-24T12:00:00",
          "2021-02-24T12:30:00",
          "2021-02-24T13:00:00",
          "2021-02-24T13:30:00",
          "2021-02-24T14:00:00",
          "2021-02-24T14:30:00",
          "2021-02-24T15:00:00",
          "2021-02-24T15:30:00",
          "2021-02-24T16:00:00",
          "2021-02-24T16:30:00",
          "2021-02-24T17:00:00",
          "2021-02-24T17:30:00",
          "2021-02-24T18:00:00",
          "2021-02-24T18:30:00",
          "2021-02-24T19:00:00",
          "2021-02-24T19:30:00",
          "2021-02-24T20:00:00",
          "2021-02-24T20:30:00",
          "2021-02-24T21:00:00",
          "2021-02-24T21:30:00",
          "2021-02-24T22:00:00",
          "2021-02-24T22:30:00",
          "2021-02-24T23:30:00"
         ]
        },
        {
         "line": {
          "color": "blue"
         },
         "mode": "lines",
         "name": "VWAP",
         "type": "scatter",
         "x": [
          "2021-02-24T00:00:00",
          "2021-02-24T00:30:00",
          "2021-02-24T01:00:00",
          "2021-02-24T01:30:00",
          "2021-02-24T02:00:00",
          "2021-02-24T03:30:00",
          "2021-02-24T04:00:00",
          "2021-02-24T06:00:00",
          "2021-02-24T06:30:00",
          "2021-02-24T07:00:00",
          "2021-02-24T08:00:00",
          "2021-02-24T08:30:00",
          "2021-02-24T09:00:00",
          "2021-02-24T09:30:00",
          "2021-02-24T10:30:00",
          "2021-02-24T11:00:00",
          "2021-02-24T11:30:00",
          "2021-02-24T12:00:00",
          "2021-02-24T12:30:00",
          "2021-02-24T13:00:00",
          "2021-02-24T13:30:00",
          "2021-02-24T14:00:00",
          "2021-02-24T14:30:00",
          "2021-02-24T15:00:00",
          "2021-02-24T15:30:00",
          "2021-02-24T16:00:00",
          "2021-02-24T16:30:00",
          "2021-02-24T17:00:00",
          "2021-02-24T17:30:00",
          "2021-02-24T18:00:00",
          "2021-02-24T18:30:00",
          "2021-02-24T19:00:00",
          "2021-02-24T19:30:00",
          "2021-02-24T20:00:00",
          "2021-02-24T20:30:00",
          "2021-02-24T21:00:00",
          "2021-02-24T21:30:00",
          "2021-02-24T22:00:00",
          "2021-02-24T22:30:00",
          "2021-02-24T23:30:00"
         ],
         "y": [
          47976.359019546435,
          48039.64891148914,
          48876.09428571428,
          49793.9508522523,
          50196.6773034157,
          50948,
          50892.80622948516,
          49698.23918457302,
          50004.35973014329,
          49680.1,
          50142.79913346326,
          50726.45,
          50899.130000000005,
          50877.1,
          50536.602040520986,
          50471.655061995676,
          50702.08,
          51078.18,
          51229.87,
          50205.10444083828,
          49487.337933268296,
          49303.85296759174,
          49140.86590451295,
          48782.69485214653,
          49318.549999999996,
          49646.893047508725,
          49537.16999999999,
          49731.532484548276,
          49710.81152158447,
          49600,
          49700,
          49444.96,
          49122.6436833115,
          49144.06999999999,
          48924.69875666414,
          48418.908224389634,
          48380.373888728194,
          48226.098432036764,
          48864.19,
          49610.564199029126
         ]
        },
        {
         "line": {
          "color": "grey"
         },
         "mode": "lines",
         "name": "vwmp_lower",
         "type": "scatter",
         "x": [
          "2021-02-24T00:00:00",
          "2021-02-24T00:30:00",
          "2021-02-24T01:00:00",
          "2021-02-24T01:30:00",
          "2021-02-24T02:00:00",
          "2021-02-24T03:30:00",
          "2021-02-24T04:00:00",
          "2021-02-24T06:00:00",
          "2021-02-24T06:30:00",
          "2021-02-24T07:00:00",
          "2021-02-24T08:00:00",
          "2021-02-24T08:30:00",
          "2021-02-24T09:00:00",
          "2021-02-24T09:30:00",
          "2021-02-24T10:30:00",
          "2021-02-24T11:00:00",
          "2021-02-24T11:30:00",
          "2021-02-24T12:00:00",
          "2021-02-24T12:30:00",
          "2021-02-24T13:00:00",
          "2021-02-24T13:30:00",
          "2021-02-24T14:00:00",
          "2021-02-24T14:30:00",
          "2021-02-24T15:00:00",
          "2021-02-24T15:30:00",
          "2021-02-24T16:00:00",
          "2021-02-24T16:30:00",
          "2021-02-24T17:00:00",
          "2021-02-24T17:30:00",
          "2021-02-24T18:00:00",
          "2021-02-24T18:30:00",
          "2021-02-24T19:00:00",
          "2021-02-24T19:30:00",
          "2021-02-24T20:00:00",
          "2021-02-24T20:30:00",
          "2021-02-24T21:00:00",
          "2021-02-24T21:30:00",
          "2021-02-24T22:00:00",
          "2021-02-24T22:30:00",
          "2021-02-24T23:30:00"
         ],
         "y": [
          47743.62,
          48128.38,
          48798.7,
          50161.64,
          49994.55,
          50948,
          51025.46,
          49699.15,
          50018.9,
          49680.1,
          50410.65,
          50726.45,
          50890.43,
          50907.35,
          50486.11,
          50500,
          50702.08,
          51078.18,
          51229.87,
          50124.32,
          49381.93,
          49280.97,
          49026.73,
          48631.44,
          49304.15,
          49766.55,
          49537.17,
          49779,
          49731.74,
          49600,
          49700,
          49444.96,
          49444.96,
          49144.07,
          48929.05,
          48272.99,
          48413.49,
          48168.94,
          48864.19,
          49712.15
         ]
        }
       ],
       "layout": {
        "height": 300,
        "margin": {
         "b": 20,
         "l": 70,
         "r": 50,
         "t": 50
        },
        "template": {
         "data": {
          "bar": [
           {
            "error_x": {
             "color": "#2a3f5f"
            },
            "error_y": {
             "color": "#2a3f5f"
            },
            "marker": {
             "line": {
              "color": "#E5ECF6",
              "width": 0.5
             },
             "pattern": {
              "fillmode": "overlay",
              "size": 10,
              "solidity": 0.2
             }
            },
            "type": "bar"
           }
          ],
          "barpolar": [
           {
            "marker": {
             "line": {
              "color": "#E5ECF6",
              "width": 0.5
             },
             "pattern": {
              "fillmode": "overlay",
              "size": 10,
              "solidity": 0.2
             }
            },
            "type": "barpolar"
           }
          ],
          "carpet": [
           {
            "aaxis": {
             "endlinecolor": "#2a3f5f",
             "gridcolor": "white",
             "linecolor": "white",
             "minorgridcolor": "white",
             "startlinecolor": "#2a3f5f"
            },
            "baxis": {
             "endlinecolor": "#2a3f5f",
             "gridcolor": "white",
             "linecolor": "white",
             "minorgridcolor": "white",
             "startlinecolor": "#2a3f5f"
            },
            "type": "carpet"
           }
          ],
          "choropleth": [
           {
            "colorbar": {
             "outlinewidth": 0,
             "ticks": ""
            },
            "type": "choropleth"
           }
          ],
          "contour": [
           {
            "colorbar": {
             "outlinewidth": 0,
             "ticks": ""
            },
            "colorscale": [
             [
              0,
              "#0d0887"
             ],
             [
              0.1111111111111111,
              "#46039f"
             ],
             [
              0.2222222222222222,
              "#7201a8"
             ],
             [
              0.3333333333333333,
              "#9c179e"
             ],
             [
              0.4444444444444444,
              "#bd3786"
             ],
             [
              0.5555555555555556,
              "#d8576b"
             ],
             [
              0.6666666666666666,
              "#ed7953"
             ],
             [
              0.7777777777777778,
              "#fb9f3a"
             ],
             [
              0.8888888888888888,
              "#fdca26"
             ],
             [
              1,
              "#f0f921"
             ]
            ],
            "type": "contour"
           }
          ],
          "contourcarpet": [
           {
            "colorbar": {
             "outlinewidth": 0,
             "ticks": ""
            },
            "type": "contourcarpet"
           }
          ],
          "heatmap": [
           {
            "colorbar": {
             "outlinewidth": 0,
             "ticks": ""
            },
            "colorscale": [
             [
              0,
              "#0d0887"
             ],
             [
              0.1111111111111111,
              "#46039f"
             ],
             [
              0.2222222222222222,
              "#7201a8"
             ],
             [
              0.3333333333333333,
              "#9c179e"
             ],
             [
              0.4444444444444444,
              "#bd3786"
             ],
             [
              0.5555555555555556,
              "#d8576b"
             ],
             [
              0.6666666666666666,
              "#ed7953"
             ],
             [
              0.7777777777777778,
              "#fb9f3a"
             ],
             [
              0.8888888888888888,
              "#fdca26"
             ],
             [
              1,
              "#f0f921"
             ]
            ],
            "type": "heatmap"
           }
          ],
          "heatmapgl": [
           {
            "colorbar": {
             "outlinewidth": 0,
             "ticks": ""
            },
            "colorscale": [
             [
              0,
              "#0d0887"
             ],
             [
              0.1111111111111111,
              "#46039f"
             ],
             [
              0.2222222222222222,
              "#7201a8"
             ],
             [
              0.3333333333333333,
              "#9c179e"
             ],
             [
              0.4444444444444444,
              "#bd3786"
             ],
             [
              0.5555555555555556,
              "#d8576b"
             ],
             [
              0.6666666666666666,
              "#ed7953"
             ],
             [
              0.7777777777777778,
              "#fb9f3a"
             ],
             [
              0.8888888888888888,
              "#fdca26"
             ],
             [
              1,
              "#f0f921"
             ]
            ],
            "type": "heatmapgl"
           }
          ],
          "histogram": [
           {
            "marker": {
             "pattern": {
              "fillmode": "overlay",
              "size": 10,
              "solidity": 0.2
             }
            },
            "type": "histogram"
           }
          ],
          "histogram2d": [
           {
            "colorbar": {
             "outlinewidth": 0,
             "ticks": ""
            },
            "colorscale": [
             [
              0,
              "#0d0887"
             ],
             [
              0.1111111111111111,
              "#46039f"
             ],
             [
              0.2222222222222222,
              "#7201a8"
             ],
             [
              0.3333333333333333,
              "#9c179e"
             ],
             [
              0.4444444444444444,
              "#bd3786"
             ],
             [
              0.5555555555555556,
              "#d8576b"
             ],
             [
              0.6666666666666666,
              "#ed7953"
             ],
             [
              0.7777777777777778,
              "#fb9f3a"
             ],
             [
              0.8888888888888888,
              "#fdca26"
             ],
             [
              1,
              "#f0f921"
             ]
            ],
            "type": "histogram2d"
           }
          ],
          "histogram2dcontour": [
           {
            "colorbar": {
             "outlinewidth": 0,
             "ticks": ""
            },
            "colorscale": [
             [
              0,
              "#0d0887"
             ],
             [
              0.1111111111111111,
              "#46039f"
             ],
             [
              0.2222222222222222,
              "#7201a8"
             ],
             [
              0.3333333333333333,
              "#9c179e"
             ],
             [
              0.4444444444444444,
              "#bd3786"
             ],
             [
              0.5555555555555556,
              "#d8576b"
             ],
             [
              0.6666666666666666,
              "#ed7953"
             ],
             [
              0.7777777777777778,
              "#fb9f3a"
             ],
             [
              0.8888888888888888,
              "#fdca26"
             ],
             [
              1,
              "#f0f921"
             ]
            ],
            "type": "histogram2dcontour"
           }
          ],
          "mesh3d": [
           {
            "colorbar": {
             "outlinewidth": 0,
             "ticks": ""
            },
            "type": "mesh3d"
           }
          ],
          "parcoords": [
           {
            "line": {
             "colorbar": {
              "outlinewidth": 0,
              "ticks": ""
             }
            },
            "type": "parcoords"
           }
          ],
          "pie": [
           {
            "automargin": true,
            "type": "pie"
           }
          ],
          "scatter": [
           {
            "fillpattern": {
             "fillmode": "overlay",
             "size": 10,
             "solidity": 0.2
            },
            "type": "scatter"
           }
          ],
          "scatter3d": [
           {
            "line": {
             "colorbar": {
              "outlinewidth": 0,
              "ticks": ""
             }
            },
            "marker": {
             "colorbar": {
              "outlinewidth": 0,
              "ticks": ""
             }
            },
            "type": "scatter3d"
           }
          ],
          "scattercarpet": [
           {
            "marker": {
             "colorbar": {
              "outlinewidth": 0,
              "ticks": ""
             }
            },
            "type": "scattercarpet"
           }
          ],
          "scattergeo": [
           {
            "marker": {
             "colorbar": {
              "outlinewidth": 0,
              "ticks": ""
             }
            },
            "type": "scattergeo"
           }
          ],
          "scattergl": [
           {
            "marker": {
             "colorbar": {
              "outlinewidth": 0,
              "ticks": ""
             }
            },
            "type": "scattergl"
           }
          ],
          "scattermapbox": [
           {
            "marker": {
             "colorbar": {
              "outlinewidth": 0,
              "ticks": ""
             }
            },
            "type": "scattermapbox"
           }
          ],
          "scatterpolar": [
           {
            "marker": {
             "colorbar": {
              "outlinewidth": 0,
              "ticks": ""
             }
            },
            "type": "scatterpolar"
           }
          ],
          "scatterpolargl": [
           {
            "marker": {
             "colorbar": {
              "outlinewidth": 0,
              "ticks": ""
             }
            },
            "type": "scatterpolargl"
           }
          ],
          "scatterternary": [
           {
            "marker": {
             "colorbar": {
              "outlinewidth": 0,
              "ticks": ""
             }
            },
            "type": "scatterternary"
           }
          ],
          "surface": [
           {
            "colorbar": {
             "outlinewidth": 0,
             "ticks": ""
            },
            "colorscale": [
             [
              0,
              "#0d0887"
             ],
             [
              0.1111111111111111,
              "#46039f"
             ],
             [
              0.2222222222222222,
              "#7201a8"
             ],
             [
              0.3333333333333333,
              "#9c179e"
             ],
             [
              0.4444444444444444,
              "#bd3786"
             ],
             [
              0.5555555555555556,
              "#d8576b"
             ],
             [
              0.6666666666666666,
              "#ed7953"
             ],
             [
              0.7777777777777778,
              "#fb9f3a"
             ],
             [
              0.8888888888888888,
              "#fdca26"
             ],
             [
              1,
              "#f0f921"
             ]
            ],
            "type": "surface"
           }
          ],
          "table": [
           {
            "cells": {
             "fill": {
              "color": "#EBF0F8"
             },
             "line": {
              "color": "white"
             }
            },
            "header": {
             "fill": {
              "color": "#C8D4E3"
             },
             "line": {
              "color": "white"
             }
            },
            "type": "table"
           }
          ]
         },
         "layout": {
          "annotationdefaults": {
           "arrowcolor": "#2a3f5f",
           "arrowhead": 0,
           "arrowwidth": 1
          },
          "autotypenumbers": "strict",
          "coloraxis": {
           "colorbar": {
            "outlinewidth": 0,
            "ticks": ""
           }
          },
          "colorscale": {
           "diverging": [
            [
             0,
             "#8e0152"
            ],
            [
             0.1,
             "#c51b7d"
            ],
            [
             0.2,
             "#de77ae"
            ],
            [
             0.3,
             "#f1b6da"
            ],
            [
             0.4,
             "#fde0ef"
            ],
            [
             0.5,
             "#f7f7f7"
            ],
            [
             0.6,
             "#e6f5d0"
            ],
            [
             0.7,
             "#b8e186"
            ],
            [
             0.8,
             "#7fbc41"
            ],
            [
             0.9,
             "#4d9221"
            ],
            [
             1,
             "#276419"
            ]
           ],
           "sequential": [
            [
             0,
             "#0d0887"
            ],
            [
             0.1111111111111111,
             "#46039f"
            ],
            [
             0.2222222222222222,
             "#7201a8"
            ],
            [
             0.3333333333333333,
             "#9c179e"
            ],
            [
             0.4444444444444444,
             "#bd3786"
            ],
            [
             0.5555555555555556,
             "#d8576b"
            ],
            [
             0.6666666666666666,
             "#ed7953"
            ],
            [
             0.7777777777777778,
             "#fb9f3a"
            ],
            [
             0.8888888888888888,
             "#fdca26"
            ],
            [
             1,
             "#f0f921"
            ]
           ],
           "sequentialminus": [
            [
             0,
             "#0d0887"
            ],
            [
             0.1111111111111111,
             "#46039f"
            ],
            [
             0.2222222222222222,
             "#7201a8"
            ],
            [
             0.3333333333333333,
             "#9c179e"
            ],
            [
             0.4444444444444444,
             "#bd3786"
            ],
            [
             0.5555555555555556,
             "#d8576b"
            ],
            [
             0.6666666666666666,
             "#ed7953"
            ],
            [
             0.7777777777777778,
             "#fb9f3a"
            ],
            [
             0.8888888888888888,
             "#fdca26"
            ],
            [
             1,
             "#f0f921"
            ]
           ]
          },
          "colorway": [
           "#636efa",
           "#EF553B",
           "#00cc96",
           "#ab63fa",
           "#FFA15A",
           "#19d3f3",
           "#FF6692",
           "#B6E880",
           "#FF97FF",
           "#FECB52"
          ],
          "font": {
           "color": "#2a3f5f"
          },
          "geo": {
           "bgcolor": "white",
           "lakecolor": "white",
           "landcolor": "#E5ECF6",
           "showlakes": true,
           "showland": true,
           "subunitcolor": "white"
          },
          "hoverlabel": {
           "align": "left"
          },
          "hovermode": "closest",
          "mapbox": {
           "style": "light"
          },
          "paper_bgcolor": "white",
          "plot_bgcolor": "#E5ECF6",
          "polar": {
           "angularaxis": {
            "gridcolor": "white",
            "linecolor": "white",
            "ticks": ""
           },
           "bgcolor": "#E5ECF6",
           "radialaxis": {
            "gridcolor": "white",
            "linecolor": "white",
            "ticks": ""
           }
          },
          "scene": {
           "xaxis": {
            "backgroundcolor": "#E5ECF6",
            "gridcolor": "white",
            "gridwidth": 2,
            "linecolor": "white",
            "showbackground": true,
            "ticks": "",
            "zerolinecolor": "white"
           },
           "yaxis": {
            "backgroundcolor": "#E5ECF6",
            "gridcolor": "white",
            "gridwidth": 2,
            "linecolor": "white",
            "showbackground": true,
            "ticks": "",
            "zerolinecolor": "white"
           },
           "zaxis": {
            "backgroundcolor": "#E5ECF6",
            "gridcolor": "white",
            "gridwidth": 2,
            "linecolor": "white",
            "showbackground": true,
            "ticks": "",
            "zerolinecolor": "white"
           }
          },
          "shapedefaults": {
           "line": {
            "color": "#2a3f5f"
           }
          },
          "ternary": {
           "aaxis": {
            "gridcolor": "white",
            "linecolor": "white",
            "ticks": ""
           },
           "baxis": {
            "gridcolor": "white",
            "linecolor": "white",
            "ticks": ""
           },
           "bgcolor": "#E5ECF6",
           "caxis": {
            "gridcolor": "white",
            "linecolor": "white",
            "ticks": ""
           }
          },
          "title": {
           "x": 0.05
          },
          "xaxis": {
           "automargin": true,
           "gridcolor": "white",
           "linecolor": "white",
           "ticks": "",
           "title": {
            "standoff": 15
           },
           "zerolinecolor": "white",
           "zerolinewidth": 2
          },
          "yaxis": {
           "automargin": true,
           "gridcolor": "white",
           "linecolor": "white",
           "ticks": "",
           "title": {
            "standoff": 15
           },
           "zerolinecolor": "white",
           "zerolinewidth": 2
          }
         }
        },
        "title": {
         "text": "Exchange - [bfly]"
        },
        "width": 800,
        "yaxis": {
         "title": {
          "text": "Price"
         }
        }
       }
      }
     },
     "metadata": {},
     "output_type": "display_data"
    },
    {
     "data": {
      "application/vnd.plotly.v1+json": {
       "config": {
        "plotlyServerURL": "https://plot.ly"
       },
       "data": [
        {
         "close": [
          47250.924,
          48488,
          49136.048,
          50199.989,
          50056.012,
          50230.77,
          50317.911,
          50949.591,
          50721.701,
          50662.379,
          50406.684,
          50244.01,
          49653.234,
          50119.51,
          49693.539,
          50105.15,
          50653.686,
          50679.16,
          50805.27,
          50980.189,
          50488.789,
          50159.45,
          50781.336,
          50401.6,
          51157.911,
          50774.399,
          49660.001,
          49514.992,
          49483.987,
          49473.137,
          49199.9,
          49877.058,
          49527.94,
          49360.01,
          49740.236,
          50050.175,
          49699.052,
          49585.974,
          49406.14,
          48984.14,
          48880.429,
          49184.99,
          48190,
          48787.489,
          48689.71,
          48887.82,
          49343.388,
          49742.749
         ],
         "high": [
          49070.307,
          48488,
          49350.321,
          50229.466,
          50600,
          50490.058,
          50554.23,
          50999.99,
          51386.269,
          51002.277,
          51030.517,
          50547.73,
          50709.49,
          50400,
          50173.291,
          50346.99,
          50921.529,
          50902.55,
          51000.98,
          51408.635,
          51088.359,
          50659.15,
          50914.526,
          50860.69,
          51200,
          51300,
          51089.154,
          49878.08,
          49804.57,
          49713.864,
          49670.727,
          49877.059,
          50149.734,
          49860.092,
          49999.999,
          50063.895,
          50071.68,
          50006.019,
          49695.27,
          49431.61,
          49279.19,
          49241.809,
          49170.683,
          48942.999,
          48763.325,
          48972.019,
          49535.879,
          49775.153
         ],
         "low": [
          46958.22,
          47289.12,
          48453.81,
          48761.936,
          49838.017,
          50051.444,
          50105.146,
          50255.942,
          50721.701,
          50400,
          50000,
          50240.6,
          49504.22,
          49630.54,
          49551.014,
          49717.745,
          49840,
          50346.138,
          50356.99,
          50805.27,
          50232.81,
          50142.85,
          50128.489,
          50266.467,
          50391.132,
          50678.579,
          49520,
          49093.667,
          49187.039,
          48767.13,
          48518.63,
          49056.206,
          49468.013,
          49360.01,
          49380.08,
          49658.834,
          49567.227,
          49579.819,
          49363.67,
          48861.2,
          48750,
          48623.55,
          48186.037,
          48120,
          48084.824,
          48496.086,
          48793.59,
          49413.485
         ],
         "open": [
          48906.607,
          47289.12,
          48488,
          49157.913,
          50188.392,
          50088.586,
          50213.589,
          50319.11,
          50999.999,
          50744.63,
          50676.453,
          50416.47,
          50226.75,
          49630.54,
          50114.94,
          49717.745,
          50105.15,
          50686.149,
          50699.12,
          50805.27,
          50981.64,
          50487.459,
          50128.489,
          50781.336,
          50397.3,
          51154.239,
          50761.77,
          49660.001,
          49511.505,
          49529.673,
          49445.43,
          49180,
          49860.121,
          49518.658,
          49435.14,
          49759.471,
          50071.68,
          49698.88,
          49605,
          49429.341,
          48950.8,
          48871.895,
          49122.005,
          48205.285,
          48731.15,
          48698.25,
          48858.285,
          49421.976
         ],
         "type": "candlestick",
         "x": [
          "2021-02-24T00:00:00",
          "2021-02-24T00:30:00",
          "2021-02-24T01:00:00",
          "2021-02-24T01:30:00",
          "2021-02-24T02:00:00",
          "2021-02-24T02:30:00",
          "2021-02-24T03:00:00",
          "2021-02-24T03:30:00",
          "2021-02-24T04:00:00",
          "2021-02-24T04:30:00",
          "2021-02-24T05:00:00",
          "2021-02-24T05:30:00",
          "2021-02-24T06:00:00",
          "2021-02-24T06:30:00",
          "2021-02-24T07:00:00",
          "2021-02-24T07:30:00",
          "2021-02-24T08:00:00",
          "2021-02-24T08:30:00",
          "2021-02-24T09:00:00",
          "2021-02-24T09:30:00",
          "2021-02-24T10:00:00",
          "2021-02-24T10:30:00",
          "2021-02-24T11:00:00",
          "2021-02-24T11:30:00",
          "2021-02-24T12:00:00",
          "2021-02-24T12:30:00",
          "2021-02-24T13:00:00",
          "2021-02-24T13:30:00",
          "2021-02-24T14:00:00",
          "2021-02-24T14:30:00",
          "2021-02-24T15:00:00",
          "2021-02-24T15:30:00",
          "2021-02-24T16:00:00",
          "2021-02-24T16:30:00",
          "2021-02-24T17:00:00",
          "2021-02-24T17:30:00",
          "2021-02-24T18:00:00",
          "2021-02-24T18:30:00",
          "2021-02-24T19:00:00",
          "2021-02-24T19:30:00",
          "2021-02-24T20:00:00",
          "2021-02-24T20:30:00",
          "2021-02-24T21:00:00",
          "2021-02-24T21:30:00",
          "2021-02-24T22:00:00",
          "2021-02-24T22:30:00",
          "2021-02-24T23:00:00",
          "2021-02-24T23:30:00"
         ]
        },
        {
         "line": {
          "color": "blue"
         },
         "mode": "lines",
         "name": "VWAP",
         "type": "scatter",
         "x": [
          "2021-02-24T00:00:00",
          "2021-02-24T00:30:00",
          "2021-02-24T01:00:00",
          "2021-02-24T01:30:00",
          "2021-02-24T02:00:00",
          "2021-02-24T02:30:00",
          "2021-02-24T03:00:00",
          "2021-02-24T03:30:00",
          "2021-02-24T04:00:00",
          "2021-02-24T04:30:00",
          "2021-02-24T05:00:00",
          "2021-02-24T05:30:00",
          "2021-02-24T06:00:00",
          "2021-02-24T06:30:00",
          "2021-02-24T07:00:00",
          "2021-02-24T07:30:00",
          "2021-02-24T08:00:00",
          "2021-02-24T08:30:00",
          "2021-02-24T09:00:00",
          "2021-02-24T09:30:00",
          "2021-02-24T10:00:00",
          "2021-02-24T10:30:00",
          "2021-02-24T11:00:00",
          "2021-02-24T11:30:00",
          "2021-02-24T12:00:00",
          "2021-02-24T12:30:00",
          "2021-02-24T13:00:00",
          "2021-02-24T13:30:00",
          "2021-02-24T14:00:00",
          "2021-02-24T14:30:00",
          "2021-02-24T15:00:00",
          "2021-02-24T15:30:00",
          "2021-02-24T16:00:00",
          "2021-02-24T16:30:00",
          "2021-02-24T17:00:00",
          "2021-02-24T17:30:00",
          "2021-02-24T18:00:00",
          "2021-02-24T18:30:00",
          "2021-02-24T19:00:00",
          "2021-02-24T19:30:00",
          "2021-02-24T20:00:00",
          "2021-02-24T20:30:00",
          "2021-02-24T21:00:00",
          "2021-02-24T21:30:00",
          "2021-02-24T22:00:00",
          "2021-02-24T22:30:00",
          "2021-02-24T23:00:00",
          "2021-02-24T23:30:00"
         ],
         "y": [
          47864.79720327195,
          47849.2322551187,
          48911.97131156487,
          49662.88379130858,
          50253.1289846582,
          50298.32499879978,
          50456.20840817737,
          50708.97566340548,
          51108.92711400982,
          50789.24315773877,
          50597.986292803216,
          50392.50256601402,
          50029.70610364689,
          50042.03770445924,
          49875.417735037045,
          50150.83829350009,
          50478.81062220775,
          50700.932041763204,
          50712.674493831866,
          51146.12274736361,
          50772.43075862883,
          50384.63191757271,
          50612.42272650947,
          50515.67980065966,
          50814.32720107103,
          51003.647873946975,
          49994.32224454409,
          49441.58650023033,
          49487.3826518176,
          49191.51851828781,
          49079.529971327676,
          49439.946289415566,
          49867.24917620499,
          49690.329249957555,
          49776.99545385627,
          49794.27903332453,
          49790.23002431344,
          49810.46605083698,
          49531.230596212205,
          49055.412063503114,
          49006.67393580599,
          48807.66095114344,
          48532.50646614902,
          48440.14266680967,
          48426.413187767226,
          48735.47369894793,
          49322.768009716034,
          49649.98912457919
         ]
        },
        {
         "line": {
          "color": "grey"
         },
         "mode": "lines",
         "name": "vwmp_lower",
         "type": "scatter",
         "x": [
          "2021-02-24T00:00:00",
          "2021-02-24T00:30:00",
          "2021-02-24T01:00:00",
          "2021-02-24T01:30:00",
          "2021-02-24T02:00:00",
          "2021-02-24T02:30:00",
          "2021-02-24T03:00:00",
          "2021-02-24T03:30:00",
          "2021-02-24T04:00:00",
          "2021-02-24T04:30:00",
          "2021-02-24T05:00:00",
          "2021-02-24T05:30:00",
          "2021-02-24T06:00:00",
          "2021-02-24T06:30:00",
          "2021-02-24T07:00:00",
          "2021-02-24T07:30:00",
          "2021-02-24T08:00:00",
          "2021-02-24T08:30:00",
          "2021-02-24T09:00:00",
          "2021-02-24T09:30:00",
          "2021-02-24T10:00:00",
          "2021-02-24T10:30:00",
          "2021-02-24T11:00:00",
          "2021-02-24T11:30:00",
          "2021-02-24T12:00:00",
          "2021-02-24T12:30:00",
          "2021-02-24T13:00:00",
          "2021-02-24T13:30:00",
          "2021-02-24T14:00:00",
          "2021-02-24T14:30:00",
          "2021-02-24T15:00:00",
          "2021-02-24T15:30:00",
          "2021-02-24T16:00:00",
          "2021-02-24T16:30:00",
          "2021-02-24T17:00:00",
          "2021-02-24T17:30:00",
          "2021-02-24T18:00:00",
          "2021-02-24T18:30:00",
          "2021-02-24T19:00:00",
          "2021-02-24T19:30:00",
          "2021-02-24T20:00:00",
          "2021-02-24T20:30:00",
          "2021-02-24T21:00:00",
          "2021-02-24T21:30:00",
          "2021-02-24T22:00:00",
          "2021-02-24T22:30:00",
          "2021-02-24T23:00:00",
          "2021-02-24T23:30:00"
         ],
         "y": [
          47756.18,
          47534.857,
          49252.004,
          49670.6,
          50418.678,
          50179.605,
          50488.858,
          50777,
          51243.447,
          50711.427,
          50736.518,
          50303.2,
          49723.45,
          50119.51,
          49794.839,
          50200,
          50259.498,
          50691.895,
          50862.598,
          50904.831,
          50676.919,
          50546.854,
          50456.368,
          50344.946,
          50436.659,
          51237.74,
          49881.778,
          49750.363,
          49388.174,
          48825.472,
          48940.62,
          49570.58,
          49773.48,
          49629.106,
          49789,
          49699.51,
          49873.987,
          49745,
          49584.205,
          49000,
          48811,
          48775.459,
          49084.025,
          48406.919,
          48222.74,
          48866.573,
          48920,
          49760
         ]
        }
       ],
       "layout": {
        "height": 300,
        "margin": {
         "b": 20,
         "l": 70,
         "r": 50,
         "t": 50
        },
        "template": {
         "data": {
          "bar": [
           {
            "error_x": {
             "color": "#2a3f5f"
            },
            "error_y": {
             "color": "#2a3f5f"
            },
            "marker": {
             "line": {
              "color": "#E5ECF6",
              "width": 0.5
             },
             "pattern": {
              "fillmode": "overlay",
              "size": 10,
              "solidity": 0.2
             }
            },
            "type": "bar"
           }
          ],
          "barpolar": [
           {
            "marker": {
             "line": {
              "color": "#E5ECF6",
              "width": 0.5
             },
             "pattern": {
              "fillmode": "overlay",
              "size": 10,
              "solidity": 0.2
             }
            },
            "type": "barpolar"
           }
          ],
          "carpet": [
           {
            "aaxis": {
             "endlinecolor": "#2a3f5f",
             "gridcolor": "white",
             "linecolor": "white",
             "minorgridcolor": "white",
             "startlinecolor": "#2a3f5f"
            },
            "baxis": {
             "endlinecolor": "#2a3f5f",
             "gridcolor": "white",
             "linecolor": "white",
             "minorgridcolor": "white",
             "startlinecolor": "#2a3f5f"
            },
            "type": "carpet"
           }
          ],
          "choropleth": [
           {
            "colorbar": {
             "outlinewidth": 0,
             "ticks": ""
            },
            "type": "choropleth"
           }
          ],
          "contour": [
           {
            "colorbar": {
             "outlinewidth": 0,
             "ticks": ""
            },
            "colorscale": [
             [
              0,
              "#0d0887"
             ],
             [
              0.1111111111111111,
              "#46039f"
             ],
             [
              0.2222222222222222,
              "#7201a8"
             ],
             [
              0.3333333333333333,
              "#9c179e"
             ],
             [
              0.4444444444444444,
              "#bd3786"
             ],
             [
              0.5555555555555556,
              "#d8576b"
             ],
             [
              0.6666666666666666,
              "#ed7953"
             ],
             [
              0.7777777777777778,
              "#fb9f3a"
             ],
             [
              0.8888888888888888,
              "#fdca26"
             ],
             [
              1,
              "#f0f921"
             ]
            ],
            "type": "contour"
           }
          ],
          "contourcarpet": [
           {
            "colorbar": {
             "outlinewidth": 0,
             "ticks": ""
            },
            "type": "contourcarpet"
           }
          ],
          "heatmap": [
           {
            "colorbar": {
             "outlinewidth": 0,
             "ticks": ""
            },
            "colorscale": [
             [
              0,
              "#0d0887"
             ],
             [
              0.1111111111111111,
              "#46039f"
             ],
             [
              0.2222222222222222,
              "#7201a8"
             ],
             [
              0.3333333333333333,
              "#9c179e"
             ],
             [
              0.4444444444444444,
              "#bd3786"
             ],
             [
              0.5555555555555556,
              "#d8576b"
             ],
             [
              0.6666666666666666,
              "#ed7953"
             ],
             [
              0.7777777777777778,
              "#fb9f3a"
             ],
             [
              0.8888888888888888,
              "#fdca26"
             ],
             [
              1,
              "#f0f921"
             ]
            ],
            "type": "heatmap"
           }
          ],
          "heatmapgl": [
           {
            "colorbar": {
             "outlinewidth": 0,
             "ticks": ""
            },
            "colorscale": [
             [
              0,
              "#0d0887"
             ],
             [
              0.1111111111111111,
              "#46039f"
             ],
             [
              0.2222222222222222,
              "#7201a8"
             ],
             [
              0.3333333333333333,
              "#9c179e"
             ],
             [
              0.4444444444444444,
              "#bd3786"
             ],
             [
              0.5555555555555556,
              "#d8576b"
             ],
             [
              0.6666666666666666,
              "#ed7953"
             ],
             [
              0.7777777777777778,
              "#fb9f3a"
             ],
             [
              0.8888888888888888,
              "#fdca26"
             ],
             [
              1,
              "#f0f921"
             ]
            ],
            "type": "heatmapgl"
           }
          ],
          "histogram": [
           {
            "marker": {
             "pattern": {
              "fillmode": "overlay",
              "size": 10,
              "solidity": 0.2
             }
            },
            "type": "histogram"
           }
          ],
          "histogram2d": [
           {
            "colorbar": {
             "outlinewidth": 0,
             "ticks": ""
            },
            "colorscale": [
             [
              0,
              "#0d0887"
             ],
             [
              0.1111111111111111,
              "#46039f"
             ],
             [
              0.2222222222222222,
              "#7201a8"
             ],
             [
              0.3333333333333333,
              "#9c179e"
             ],
             [
              0.4444444444444444,
              "#bd3786"
             ],
             [
              0.5555555555555556,
              "#d8576b"
             ],
             [
              0.6666666666666666,
              "#ed7953"
             ],
             [
              0.7777777777777778,
              "#fb9f3a"
             ],
             [
              0.8888888888888888,
              "#fdca26"
             ],
             [
              1,
              "#f0f921"
             ]
            ],
            "type": "histogram2d"
           }
          ],
          "histogram2dcontour": [
           {
            "colorbar": {
             "outlinewidth": 0,
             "ticks": ""
            },
            "colorscale": [
             [
              0,
              "#0d0887"
             ],
             [
              0.1111111111111111,
              "#46039f"
             ],
             [
              0.2222222222222222,
              "#7201a8"
             ],
             [
              0.3333333333333333,
              "#9c179e"
             ],
             [
              0.4444444444444444,
              "#bd3786"
             ],
             [
              0.5555555555555556,
              "#d8576b"
             ],
             [
              0.6666666666666666,
              "#ed7953"
             ],
             [
              0.7777777777777778,
              "#fb9f3a"
             ],
             [
              0.8888888888888888,
              "#fdca26"
             ],
             [
              1,
              "#f0f921"
             ]
            ],
            "type": "histogram2dcontour"
           }
          ],
          "mesh3d": [
           {
            "colorbar": {
             "outlinewidth": 0,
             "ticks": ""
            },
            "type": "mesh3d"
           }
          ],
          "parcoords": [
           {
            "line": {
             "colorbar": {
              "outlinewidth": 0,
              "ticks": ""
             }
            },
            "type": "parcoords"
           }
          ],
          "pie": [
           {
            "automargin": true,
            "type": "pie"
           }
          ],
          "scatter": [
           {
            "fillpattern": {
             "fillmode": "overlay",
             "size": 10,
             "solidity": 0.2
            },
            "type": "scatter"
           }
          ],
          "scatter3d": [
           {
            "line": {
             "colorbar": {
              "outlinewidth": 0,
              "ticks": ""
             }
            },
            "marker": {
             "colorbar": {
              "outlinewidth": 0,
              "ticks": ""
             }
            },
            "type": "scatter3d"
           }
          ],
          "scattercarpet": [
           {
            "marker": {
             "colorbar": {
              "outlinewidth": 0,
              "ticks": ""
             }
            },
            "type": "scattercarpet"
           }
          ],
          "scattergeo": [
           {
            "marker": {
             "colorbar": {
              "outlinewidth": 0,
              "ticks": ""
             }
            },
            "type": "scattergeo"
           }
          ],
          "scattergl": [
           {
            "marker": {
             "colorbar": {
              "outlinewidth": 0,
              "ticks": ""
             }
            },
            "type": "scattergl"
           }
          ],
          "scattermapbox": [
           {
            "marker": {
             "colorbar": {
              "outlinewidth": 0,
              "ticks": ""
             }
            },
            "type": "scattermapbox"
           }
          ],
          "scatterpolar": [
           {
            "marker": {
             "colorbar": {
              "outlinewidth": 0,
              "ticks": ""
             }
            },
            "type": "scatterpolar"
           }
          ],
          "scatterpolargl": [
           {
            "marker": {
             "colorbar": {
              "outlinewidth": 0,
              "ticks": ""
             }
            },
            "type": "scatterpolargl"
           }
          ],
          "scatterternary": [
           {
            "marker": {
             "colorbar": {
              "outlinewidth": 0,
              "ticks": ""
             }
            },
            "type": "scatterternary"
           }
          ],
          "surface": [
           {
            "colorbar": {
             "outlinewidth": 0,
             "ticks": ""
            },
            "colorscale": [
             [
              0,
              "#0d0887"
             ],
             [
              0.1111111111111111,
              "#46039f"
             ],
             [
              0.2222222222222222,
              "#7201a8"
             ],
             [
              0.3333333333333333,
              "#9c179e"
             ],
             [
              0.4444444444444444,
              "#bd3786"
             ],
             [
              0.5555555555555556,
              "#d8576b"
             ],
             [
              0.6666666666666666,
              "#ed7953"
             ],
             [
              0.7777777777777778,
              "#fb9f3a"
             ],
             [
              0.8888888888888888,
              "#fdca26"
             ],
             [
              1,
              "#f0f921"
             ]
            ],
            "type": "surface"
           }
          ],
          "table": [
           {
            "cells": {
             "fill": {
              "color": "#EBF0F8"
             },
             "line": {
              "color": "white"
             }
            },
            "header": {
             "fill": {
              "color": "#C8D4E3"
             },
             "line": {
              "color": "white"
             }
            },
            "type": "table"
           }
          ]
         },
         "layout": {
          "annotationdefaults": {
           "arrowcolor": "#2a3f5f",
           "arrowhead": 0,
           "arrowwidth": 1
          },
          "autotypenumbers": "strict",
          "coloraxis": {
           "colorbar": {
            "outlinewidth": 0,
            "ticks": ""
           }
          },
          "colorscale": {
           "diverging": [
            [
             0,
             "#8e0152"
            ],
            [
             0.1,
             "#c51b7d"
            ],
            [
             0.2,
             "#de77ae"
            ],
            [
             0.3,
             "#f1b6da"
            ],
            [
             0.4,
             "#fde0ef"
            ],
            [
             0.5,
             "#f7f7f7"
            ],
            [
             0.6,
             "#e6f5d0"
            ],
            [
             0.7,
             "#b8e186"
            ],
            [
             0.8,
             "#7fbc41"
            ],
            [
             0.9,
             "#4d9221"
            ],
            [
             1,
             "#276419"
            ]
           ],
           "sequential": [
            [
             0,
             "#0d0887"
            ],
            [
             0.1111111111111111,
             "#46039f"
            ],
            [
             0.2222222222222222,
             "#7201a8"
            ],
            [
             0.3333333333333333,
             "#9c179e"
            ],
            [
             0.4444444444444444,
             "#bd3786"
            ],
            [
             0.5555555555555556,
             "#d8576b"
            ],
            [
             0.6666666666666666,
             "#ed7953"
            ],
            [
             0.7777777777777778,
             "#fb9f3a"
            ],
            [
             0.8888888888888888,
             "#fdca26"
            ],
            [
             1,
             "#f0f921"
            ]
           ],
           "sequentialminus": [
            [
             0,
             "#0d0887"
            ],
            [
             0.1111111111111111,
             "#46039f"
            ],
            [
             0.2222222222222222,
             "#7201a8"
            ],
            [
             0.3333333333333333,
             "#9c179e"
            ],
            [
             0.4444444444444444,
             "#bd3786"
            ],
            [
             0.5555555555555556,
             "#d8576b"
            ],
            [
             0.6666666666666666,
             "#ed7953"
            ],
            [
             0.7777777777777778,
             "#fb9f3a"
            ],
            [
             0.8888888888888888,
             "#fdca26"
            ],
            [
             1,
             "#f0f921"
            ]
           ]
          },
          "colorway": [
           "#636efa",
           "#EF553B",
           "#00cc96",
           "#ab63fa",
           "#FFA15A",
           "#19d3f3",
           "#FF6692",
           "#B6E880",
           "#FF97FF",
           "#FECB52"
          ],
          "font": {
           "color": "#2a3f5f"
          },
          "geo": {
           "bgcolor": "white",
           "lakecolor": "white",
           "landcolor": "#E5ECF6",
           "showlakes": true,
           "showland": true,
           "subunitcolor": "white"
          },
          "hoverlabel": {
           "align": "left"
          },
          "hovermode": "closest",
          "mapbox": {
           "style": "light"
          },
          "paper_bgcolor": "white",
          "plot_bgcolor": "#E5ECF6",
          "polar": {
           "angularaxis": {
            "gridcolor": "white",
            "linecolor": "white",
            "ticks": ""
           },
           "bgcolor": "#E5ECF6",
           "radialaxis": {
            "gridcolor": "white",
            "linecolor": "white",
            "ticks": ""
           }
          },
          "scene": {
           "xaxis": {
            "backgroundcolor": "#E5ECF6",
            "gridcolor": "white",
            "gridwidth": 2,
            "linecolor": "white",
            "showbackground": true,
            "ticks": "",
            "zerolinecolor": "white"
           },
           "yaxis": {
            "backgroundcolor": "#E5ECF6",
            "gridcolor": "white",
            "gridwidth": 2,
            "linecolor": "white",
            "showbackground": true,
            "ticks": "",
            "zerolinecolor": "white"
           },
           "zaxis": {
            "backgroundcolor": "#E5ECF6",
            "gridcolor": "white",
            "gridwidth": 2,
            "linecolor": "white",
            "showbackground": true,
            "ticks": "",
            "zerolinecolor": "white"
           }
          },
          "shapedefaults": {
           "line": {
            "color": "#2a3f5f"
           }
          },
          "ternary": {
           "aaxis": {
            "gridcolor": "white",
            "linecolor": "white",
            "ticks": ""
           },
           "baxis": {
            "gridcolor": "white",
            "linecolor": "white",
            "ticks": ""
           },
           "bgcolor": "#E5ECF6",
           "caxis": {
            "gridcolor": "white",
            "linecolor": "white",
            "ticks": ""
           }
          },
          "title": {
           "x": 0.05
          },
          "xaxis": {
           "automargin": true,
           "gridcolor": "white",
           "linecolor": "white",
           "ticks": "",
           "title": {
            "standoff": 15
           },
           "zerolinecolor": "white",
           "zerolinewidth": 2
          },
          "yaxis": {
           "automargin": true,
           "gridcolor": "white",
           "linecolor": "white",
           "ticks": "",
           "title": {
            "standoff": 15
           },
           "zerolinecolor": "white",
           "zerolinewidth": 2
          }
         }
        },
        "title": {
         "text": "Exchange - [btrx]"
        },
        "width": 800,
        "yaxis": {
         "title": {
          "text": "Price"
         }
        }
       }
      }
     },
     "metadata": {},
     "output_type": "display_data"
    },
    {
     "data": {
      "application/vnd.plotly.v1+json": {
       "config": {
        "plotlyServerURL": "https://plot.ly"
       },
       "data": [
        {
         "close": [
          47193,
          48485,
          49155,
          50196,
          50065,
          50173,
          50242,
          50902,
          50691,
          50607,
          50381,
          50166,
          49598,
          50035,
          49626,
          50050,
          50662,
          50600.1668049,
          50702,
          50809,
          50379,
          50057,
          50685,
          50324,
          51088,
          50711,
          49575,
          49489.74968895,
          49466,
          49408,
          49163,
          49830,
          49488,
          49330,
          49701,
          50081,
          49678,
          49600,
          49416.65190993,
          48998,
          48887,
          49157,
          48185,
          48787,
          48710,
          48880,
          49350,
          49716
         ],
         "high": [
          49087,
          48497,
          49359,
          50229,
          50580.34566075,
          50481.817475,
          50539,
          51001,
          51354.46137096,
          50966,
          51064.836108,
          50501,
          50639,
          50346,
          50116.14390518,
          50320.62769032,
          50944,
          50864,
          50900,
          51339,
          50955,
          50500,
          50833,
          50799.284361,
          51125,
          51200,
          51062,
          49839,
          49752,
          49679,
          49660,
          49840,
          50100,
          49834.76740336,
          49930,
          50081,
          50089,
          49989,
          49724,
          49437.301397,
          49272,
          49254,
          49171.93856939,
          48917,
          48749.119626,
          48964,
          49530,
          49747
         ],
         "low": [
          46902,
          47166,
          48412,
          48761,
          49827,
          50031,
          50042,
          50207,
          50647,
          50328,
          49941,
          50124,
          49210,
          49527.57954753,
          49472,
          49659,
          49792,
          50287,
          50293,
          50695,
          50052,
          50050,
          50057,
          50200,
          50326,
          50603,
          49329,
          49055,
          49120,
          48750,
          48350,
          48883.1808809,
          49365.177883,
          49298.688164,
          49313,
          49611,
          49555,
          49588,
          49372,
          48804,
          48755,
          48569,
          48159,
          48155,
          48050,
          48504.7719099,
          48778,
          49351
         ],
         "open": [
          48882,
          47166,
          48454,
          49187,
          50184,
          50031,
          50161,
          50230,
          50901,
          50661,
          50611,
          50342,
          50167,
          49596,
          50035,
          49659,
          50051,
          50641,
          50628,
          50702,
          50809,
          50353,
          50057,
          50685,
          50339,
          51107,
          50715,
          49576,
          49498.2387048,
          49487,
          49410,
          49137,
          49833.03734606,
          49478,
          49313.4061464,
          49720,
          50081,
          49677,
          49609,
          49437.301397,
          48997,
          48884,
          49133,
          48185,
          48749.119626,
          48711,
          48840,
          49351
         ],
         "type": "candlestick",
         "x": [
          "2021-02-24T00:00:00",
          "2021-02-24T00:30:00",
          "2021-02-24T01:00:00",
          "2021-02-24T01:30:00",
          "2021-02-24T02:00:00",
          "2021-02-24T02:30:00",
          "2021-02-24T03:00:00",
          "2021-02-24T03:30:00",
          "2021-02-24T04:00:00",
          "2021-02-24T04:30:00",
          "2021-02-24T05:00:00",
          "2021-02-24T05:30:00",
          "2021-02-24T06:00:00",
          "2021-02-24T06:30:00",
          "2021-02-24T07:00:00",
          "2021-02-24T07:30:00",
          "2021-02-24T08:00:00",
          "2021-02-24T08:30:00",
          "2021-02-24T09:00:00",
          "2021-02-24T09:30:00",
          "2021-02-24T10:00:00",
          "2021-02-24T10:30:00",
          "2021-02-24T11:00:00",
          "2021-02-24T11:30:00",
          "2021-02-24T12:00:00",
          "2021-02-24T12:30:00",
          "2021-02-24T13:00:00",
          "2021-02-24T13:30:00",
          "2021-02-24T14:00:00",
          "2021-02-24T14:30:00",
          "2021-02-24T15:00:00",
          "2021-02-24T15:30:00",
          "2021-02-24T16:00:00",
          "2021-02-24T16:30:00",
          "2021-02-24T17:00:00",
          "2021-02-24T17:30:00",
          "2021-02-24T18:00:00",
          "2021-02-24T18:30:00",
          "2021-02-24T19:00:00",
          "2021-02-24T19:30:00",
          "2021-02-24T20:00:00",
          "2021-02-24T20:30:00",
          "2021-02-24T21:00:00",
          "2021-02-24T21:30:00",
          "2021-02-24T22:00:00",
          "2021-02-24T22:30:00",
          "2021-02-24T23:00:00",
          "2021-02-24T23:30:00"
         ]
        },
        {
         "line": {
          "color": "blue"
         },
         "mode": "lines",
         "name": "VWAP",
         "type": "scatter",
         "x": [
          "2021-02-24T00:00:00",
          "2021-02-24T00:30:00",
          "2021-02-24T01:00:00",
          "2021-02-24T01:30:00",
          "2021-02-24T02:00:00",
          "2021-02-24T02:30:00",
          "2021-02-24T03:00:00",
          "2021-02-24T03:30:00",
          "2021-02-24T04:00:00",
          "2021-02-24T04:30:00",
          "2021-02-24T05:00:00",
          "2021-02-24T05:30:00",
          "2021-02-24T06:00:00",
          "2021-02-24T06:30:00",
          "2021-02-24T07:00:00",
          "2021-02-24T07:30:00",
          "2021-02-24T08:00:00",
          "2021-02-24T08:30:00",
          "2021-02-24T09:00:00",
          "2021-02-24T09:30:00",
          "2021-02-24T10:00:00",
          "2021-02-24T10:30:00",
          "2021-02-24T11:00:00",
          "2021-02-24T11:30:00",
          "2021-02-24T12:00:00",
          "2021-02-24T12:30:00",
          "2021-02-24T13:00:00",
          "2021-02-24T13:30:00",
          "2021-02-24T14:00:00",
          "2021-02-24T14:30:00",
          "2021-02-24T15:00:00",
          "2021-02-24T15:30:00",
          "2021-02-24T16:00:00",
          "2021-02-24T16:30:00",
          "2021-02-24T17:00:00",
          "2021-02-24T17:30:00",
          "2021-02-24T18:00:00",
          "2021-02-24T18:30:00",
          "2021-02-24T19:00:00",
          "2021-02-24T19:30:00",
          "2021-02-24T20:00:00",
          "2021-02-24T20:30:00",
          "2021-02-24T21:00:00",
          "2021-02-24T21:30:00",
          "2021-02-24T22:00:00",
          "2021-02-24T22:30:00",
          "2021-02-24T23:00:00",
          "2021-02-24T23:30:00"
         ],
         "y": [
          47793.40549723628,
          47743.428378150384,
          48980.55902063257,
          49684.93299478517,
          50206.01961946366,
          50281.11390953089,
          50342.46756472044,
          50753.19936729704,
          51046.86950456799,
          50689.76057412124,
          50388.75790931729,
          50287.82586627758,
          49666.69445503302,
          49880.359925751305,
          49749.83350577591,
          50051.637650686884,
          50661.21458754018,
          50543.75286382835,
          50645.16643999559,
          50982.00699100005,
          50550.44922477587,
          50365.55995453141,
          50478.26813603202,
          50529.49262537224,
          50921.226088332594,
          51049.336059309986,
          49913.236271374604,
          49382.97061230774,
          49458.703656383186,
          49118.742522623,
          48819.54273746824,
          49330.36799661584,
          49815.72909355746,
          49570.268766680776,
          49666.54973384012,
          49879.204396955196,
          49805.42443160857,
          49778.2147261888,
          49509.772268705565,
          49065.59950900023,
          48984.48850335501,
          48817.293743742455,
          48445.35767569473,
          48429.253530063754,
          48227.563978982296,
          48802.951203961245,
          49336.762415569945,
          49585.808592721216
         ]
        },
        {
         "line": {
          "color": "grey"
         },
         "mode": "lines",
         "name": "vwmp_lower",
         "type": "scatter",
         "x": [
          "2021-02-24T00:00:00",
          "2021-02-24T00:30:00",
          "2021-02-24T01:00:00",
          "2021-02-24T01:30:00",
          "2021-02-24T02:00:00",
          "2021-02-24T02:30:00",
          "2021-02-24T03:00:00",
          "2021-02-24T03:30:00",
          "2021-02-24T04:00:00",
          "2021-02-24T04:30:00",
          "2021-02-24T05:00:00",
          "2021-02-24T05:30:00",
          "2021-02-24T06:00:00",
          "2021-02-24T06:30:00",
          "2021-02-24T07:00:00",
          "2021-02-24T07:30:00",
          "2021-02-24T08:00:00",
          "2021-02-24T08:30:00",
          "2021-02-24T09:00:00",
          "2021-02-24T09:30:00",
          "2021-02-24T10:00:00",
          "2021-02-24T10:30:00",
          "2021-02-24T11:00:00",
          "2021-02-24T11:30:00",
          "2021-02-24T12:00:00",
          "2021-02-24T12:30:00",
          "2021-02-24T13:00:00",
          "2021-02-24T13:30:00",
          "2021-02-24T14:00:00",
          "2021-02-24T14:30:00",
          "2021-02-24T15:00:00",
          "2021-02-24T15:30:00",
          "2021-02-24T16:00:00",
          "2021-02-24T16:30:00",
          "2021-02-24T17:00:00",
          "2021-02-24T17:30:00",
          "2021-02-24T18:00:00",
          "2021-02-24T18:30:00",
          "2021-02-24T19:00:00",
          "2021-02-24T19:30:00",
          "2021-02-24T20:00:00",
          "2021-02-24T20:30:00",
          "2021-02-24T21:00:00",
          "2021-02-24T21:30:00",
          "2021-02-24T22:00:00",
          "2021-02-24T22:30:00",
          "2021-02-24T23:00:00",
          "2021-02-24T23:30:00"
         ],
         "y": [
          47800,
          48420,
          48955,
          49900,
          50003.19235455,
          50151,
          50281,
          50792,
          51200,
          50692,
          50644,
          50361,
          50418,
          49984,
          49500,
          49950,
          50918,
          50700,
          50853,
          50792,
          50714,
          50450,
          50232,
          50759,
          50800,
          51125,
          49649,
          49291,
          49689,
          49260,
          49430,
          49487,
          49994,
          49341,
          49553,
          49830,
          49753,
          49722,
          49500,
          49032,
          48780,
          48666,
          48348,
          48464,
          48444,
          48819,
          49430,
          49638
         ]
        }
       ],
       "layout": {
        "height": 300,
        "margin": {
         "b": 20,
         "l": 70,
         "r": 50,
         "t": 50
        },
        "template": {
         "data": {
          "bar": [
           {
            "error_x": {
             "color": "#2a3f5f"
            },
            "error_y": {
             "color": "#2a3f5f"
            },
            "marker": {
             "line": {
              "color": "#E5ECF6",
              "width": 0.5
             },
             "pattern": {
              "fillmode": "overlay",
              "size": 10,
              "solidity": 0.2
             }
            },
            "type": "bar"
           }
          ],
          "barpolar": [
           {
            "marker": {
             "line": {
              "color": "#E5ECF6",
              "width": 0.5
             },
             "pattern": {
              "fillmode": "overlay",
              "size": 10,
              "solidity": 0.2
             }
            },
            "type": "barpolar"
           }
          ],
          "carpet": [
           {
            "aaxis": {
             "endlinecolor": "#2a3f5f",
             "gridcolor": "white",
             "linecolor": "white",
             "minorgridcolor": "white",
             "startlinecolor": "#2a3f5f"
            },
            "baxis": {
             "endlinecolor": "#2a3f5f",
             "gridcolor": "white",
             "linecolor": "white",
             "minorgridcolor": "white",
             "startlinecolor": "#2a3f5f"
            },
            "type": "carpet"
           }
          ],
          "choropleth": [
           {
            "colorbar": {
             "outlinewidth": 0,
             "ticks": ""
            },
            "type": "choropleth"
           }
          ],
          "contour": [
           {
            "colorbar": {
             "outlinewidth": 0,
             "ticks": ""
            },
            "colorscale": [
             [
              0,
              "#0d0887"
             ],
             [
              0.1111111111111111,
              "#46039f"
             ],
             [
              0.2222222222222222,
              "#7201a8"
             ],
             [
              0.3333333333333333,
              "#9c179e"
             ],
             [
              0.4444444444444444,
              "#bd3786"
             ],
             [
              0.5555555555555556,
              "#d8576b"
             ],
             [
              0.6666666666666666,
              "#ed7953"
             ],
             [
              0.7777777777777778,
              "#fb9f3a"
             ],
             [
              0.8888888888888888,
              "#fdca26"
             ],
             [
              1,
              "#f0f921"
             ]
            ],
            "type": "contour"
           }
          ],
          "contourcarpet": [
           {
            "colorbar": {
             "outlinewidth": 0,
             "ticks": ""
            },
            "type": "contourcarpet"
           }
          ],
          "heatmap": [
           {
            "colorbar": {
             "outlinewidth": 0,
             "ticks": ""
            },
            "colorscale": [
             [
              0,
              "#0d0887"
             ],
             [
              0.1111111111111111,
              "#46039f"
             ],
             [
              0.2222222222222222,
              "#7201a8"
             ],
             [
              0.3333333333333333,
              "#9c179e"
             ],
             [
              0.4444444444444444,
              "#bd3786"
             ],
             [
              0.5555555555555556,
              "#d8576b"
             ],
             [
              0.6666666666666666,
              "#ed7953"
             ],
             [
              0.7777777777777778,
              "#fb9f3a"
             ],
             [
              0.8888888888888888,
              "#fdca26"
             ],
             [
              1,
              "#f0f921"
             ]
            ],
            "type": "heatmap"
           }
          ],
          "heatmapgl": [
           {
            "colorbar": {
             "outlinewidth": 0,
             "ticks": ""
            },
            "colorscale": [
             [
              0,
              "#0d0887"
             ],
             [
              0.1111111111111111,
              "#46039f"
             ],
             [
              0.2222222222222222,
              "#7201a8"
             ],
             [
              0.3333333333333333,
              "#9c179e"
             ],
             [
              0.4444444444444444,
              "#bd3786"
             ],
             [
              0.5555555555555556,
              "#d8576b"
             ],
             [
              0.6666666666666666,
              "#ed7953"
             ],
             [
              0.7777777777777778,
              "#fb9f3a"
             ],
             [
              0.8888888888888888,
              "#fdca26"
             ],
             [
              1,
              "#f0f921"
             ]
            ],
            "type": "heatmapgl"
           }
          ],
          "histogram": [
           {
            "marker": {
             "pattern": {
              "fillmode": "overlay",
              "size": 10,
              "solidity": 0.2
             }
            },
            "type": "histogram"
           }
          ],
          "histogram2d": [
           {
            "colorbar": {
             "outlinewidth": 0,
             "ticks": ""
            },
            "colorscale": [
             [
              0,
              "#0d0887"
             ],
             [
              0.1111111111111111,
              "#46039f"
             ],
             [
              0.2222222222222222,
              "#7201a8"
             ],
             [
              0.3333333333333333,
              "#9c179e"
             ],
             [
              0.4444444444444444,
              "#bd3786"
             ],
             [
              0.5555555555555556,
              "#d8576b"
             ],
             [
              0.6666666666666666,
              "#ed7953"
             ],
             [
              0.7777777777777778,
              "#fb9f3a"
             ],
             [
              0.8888888888888888,
              "#fdca26"
             ],
             [
              1,
              "#f0f921"
             ]
            ],
            "type": "histogram2d"
           }
          ],
          "histogram2dcontour": [
           {
            "colorbar": {
             "outlinewidth": 0,
             "ticks": ""
            },
            "colorscale": [
             [
              0,
              "#0d0887"
             ],
             [
              0.1111111111111111,
              "#46039f"
             ],
             [
              0.2222222222222222,
              "#7201a8"
             ],
             [
              0.3333333333333333,
              "#9c179e"
             ],
             [
              0.4444444444444444,
              "#bd3786"
             ],
             [
              0.5555555555555556,
              "#d8576b"
             ],
             [
              0.6666666666666666,
              "#ed7953"
             ],
             [
              0.7777777777777778,
              "#fb9f3a"
             ],
             [
              0.8888888888888888,
              "#fdca26"
             ],
             [
              1,
              "#f0f921"
             ]
            ],
            "type": "histogram2dcontour"
           }
          ],
          "mesh3d": [
           {
            "colorbar": {
             "outlinewidth": 0,
             "ticks": ""
            },
            "type": "mesh3d"
           }
          ],
          "parcoords": [
           {
            "line": {
             "colorbar": {
              "outlinewidth": 0,
              "ticks": ""
             }
            },
            "type": "parcoords"
           }
          ],
          "pie": [
           {
            "automargin": true,
            "type": "pie"
           }
          ],
          "scatter": [
           {
            "fillpattern": {
             "fillmode": "overlay",
             "size": 10,
             "solidity": 0.2
            },
            "type": "scatter"
           }
          ],
          "scatter3d": [
           {
            "line": {
             "colorbar": {
              "outlinewidth": 0,
              "ticks": ""
             }
            },
            "marker": {
             "colorbar": {
              "outlinewidth": 0,
              "ticks": ""
             }
            },
            "type": "scatter3d"
           }
          ],
          "scattercarpet": [
           {
            "marker": {
             "colorbar": {
              "outlinewidth": 0,
              "ticks": ""
             }
            },
            "type": "scattercarpet"
           }
          ],
          "scattergeo": [
           {
            "marker": {
             "colorbar": {
              "outlinewidth": 0,
              "ticks": ""
             }
            },
            "type": "scattergeo"
           }
          ],
          "scattergl": [
           {
            "marker": {
             "colorbar": {
              "outlinewidth": 0,
              "ticks": ""
             }
            },
            "type": "scattergl"
           }
          ],
          "scattermapbox": [
           {
            "marker": {
             "colorbar": {
              "outlinewidth": 0,
              "ticks": ""
             }
            },
            "type": "scattermapbox"
           }
          ],
          "scatterpolar": [
           {
            "marker": {
             "colorbar": {
              "outlinewidth": 0,
              "ticks": ""
             }
            },
            "type": "scatterpolar"
           }
          ],
          "scatterpolargl": [
           {
            "marker": {
             "colorbar": {
              "outlinewidth": 0,
              "ticks": ""
             }
            },
            "type": "scatterpolargl"
           }
          ],
          "scatterternary": [
           {
            "marker": {
             "colorbar": {
              "outlinewidth": 0,
              "ticks": ""
             }
            },
            "type": "scatterternary"
           }
          ],
          "surface": [
           {
            "colorbar": {
             "outlinewidth": 0,
             "ticks": ""
            },
            "colorscale": [
             [
              0,
              "#0d0887"
             ],
             [
              0.1111111111111111,
              "#46039f"
             ],
             [
              0.2222222222222222,
              "#7201a8"
             ],
             [
              0.3333333333333333,
              "#9c179e"
             ],
             [
              0.4444444444444444,
              "#bd3786"
             ],
             [
              0.5555555555555556,
              "#d8576b"
             ],
             [
              0.6666666666666666,
              "#ed7953"
             ],
             [
              0.7777777777777778,
              "#fb9f3a"
             ],
             [
              0.8888888888888888,
              "#fdca26"
             ],
             [
              1,
              "#f0f921"
             ]
            ],
            "type": "surface"
           }
          ],
          "table": [
           {
            "cells": {
             "fill": {
              "color": "#EBF0F8"
             },
             "line": {
              "color": "white"
             }
            },
            "header": {
             "fill": {
              "color": "#C8D4E3"
             },
             "line": {
              "color": "white"
             }
            },
            "type": "table"
           }
          ]
         },
         "layout": {
          "annotationdefaults": {
           "arrowcolor": "#2a3f5f",
           "arrowhead": 0,
           "arrowwidth": 1
          },
          "autotypenumbers": "strict",
          "coloraxis": {
           "colorbar": {
            "outlinewidth": 0,
            "ticks": ""
           }
          },
          "colorscale": {
           "diverging": [
            [
             0,
             "#8e0152"
            ],
            [
             0.1,
             "#c51b7d"
            ],
            [
             0.2,
             "#de77ae"
            ],
            [
             0.3,
             "#f1b6da"
            ],
            [
             0.4,
             "#fde0ef"
            ],
            [
             0.5,
             "#f7f7f7"
            ],
            [
             0.6,
             "#e6f5d0"
            ],
            [
             0.7,
             "#b8e186"
            ],
            [
             0.8,
             "#7fbc41"
            ],
            [
             0.9,
             "#4d9221"
            ],
            [
             1,
             "#276419"
            ]
           ],
           "sequential": [
            [
             0,
             "#0d0887"
            ],
            [
             0.1111111111111111,
             "#46039f"
            ],
            [
             0.2222222222222222,
             "#7201a8"
            ],
            [
             0.3333333333333333,
             "#9c179e"
            ],
            [
             0.4444444444444444,
             "#bd3786"
            ],
            [
             0.5555555555555556,
             "#d8576b"
            ],
            [
             0.6666666666666666,
             "#ed7953"
            ],
            [
             0.7777777777777778,
             "#fb9f3a"
            ],
            [
             0.8888888888888888,
             "#fdca26"
            ],
            [
             1,
             "#f0f921"
            ]
           ],
           "sequentialminus": [
            [
             0,
             "#0d0887"
            ],
            [
             0.1111111111111111,
             "#46039f"
            ],
            [
             0.2222222222222222,
             "#7201a8"
            ],
            [
             0.3333333333333333,
             "#9c179e"
            ],
            [
             0.4444444444444444,
             "#bd3786"
            ],
            [
             0.5555555555555556,
             "#d8576b"
            ],
            [
             0.6666666666666666,
             "#ed7953"
            ],
            [
             0.7777777777777778,
             "#fb9f3a"
            ],
            [
             0.8888888888888888,
             "#fdca26"
            ],
            [
             1,
             "#f0f921"
            ]
           ]
          },
          "colorway": [
           "#636efa",
           "#EF553B",
           "#00cc96",
           "#ab63fa",
           "#FFA15A",
           "#19d3f3",
           "#FF6692",
           "#B6E880",
           "#FF97FF",
           "#FECB52"
          ],
          "font": {
           "color": "#2a3f5f"
          },
          "geo": {
           "bgcolor": "white",
           "lakecolor": "white",
           "landcolor": "#E5ECF6",
           "showlakes": true,
           "showland": true,
           "subunitcolor": "white"
          },
          "hoverlabel": {
           "align": "left"
          },
          "hovermode": "closest",
          "mapbox": {
           "style": "light"
          },
          "paper_bgcolor": "white",
          "plot_bgcolor": "#E5ECF6",
          "polar": {
           "angularaxis": {
            "gridcolor": "white",
            "linecolor": "white",
            "ticks": ""
           },
           "bgcolor": "#E5ECF6",
           "radialaxis": {
            "gridcolor": "white",
            "linecolor": "white",
            "ticks": ""
           }
          },
          "scene": {
           "xaxis": {
            "backgroundcolor": "#E5ECF6",
            "gridcolor": "white",
            "gridwidth": 2,
            "linecolor": "white",
            "showbackground": true,
            "ticks": "",
            "zerolinecolor": "white"
           },
           "yaxis": {
            "backgroundcolor": "#E5ECF6",
            "gridcolor": "white",
            "gridwidth": 2,
            "linecolor": "white",
            "showbackground": true,
            "ticks": "",
            "zerolinecolor": "white"
           },
           "zaxis": {
            "backgroundcolor": "#E5ECF6",
            "gridcolor": "white",
            "gridwidth": 2,
            "linecolor": "white",
            "showbackground": true,
            "ticks": "",
            "zerolinecolor": "white"
           }
          },
          "shapedefaults": {
           "line": {
            "color": "#2a3f5f"
           }
          },
          "ternary": {
           "aaxis": {
            "gridcolor": "white",
            "linecolor": "white",
            "ticks": ""
           },
           "baxis": {
            "gridcolor": "white",
            "linecolor": "white",
            "ticks": ""
           },
           "bgcolor": "#E5ECF6",
           "caxis": {
            "gridcolor": "white",
            "linecolor": "white",
            "ticks": ""
           }
          },
          "title": {
           "x": 0.05
          },
          "xaxis": {
           "automargin": true,
           "gridcolor": "white",
           "linecolor": "white",
           "ticks": "",
           "title": {
            "standoff": 15
           },
           "zerolinecolor": "white",
           "zerolinewidth": 2
          },
          "yaxis": {
           "automargin": true,
           "gridcolor": "white",
           "linecolor": "white",
           "ticks": "",
           "title": {
            "standoff": 15
           },
           "zerolinecolor": "white",
           "zerolinewidth": 2
          }
         }
        },
        "title": {
         "text": "Exchange - [bfnx]"
        },
        "width": 800,
        "yaxis": {
         "title": {
          "text": "Price"
         }
        }
       }
      }
     },
     "metadata": {},
     "output_type": "display_data"
    },
    {
     "data": {
      "application/vnd.plotly.v1+json": {
       "config": {
        "plotlyServerURL": "https://plot.ly"
       },
       "data": [
        {
         "close": [
          47225.92,
          48446.34,
          49191.15,
          50201.53,
          50029.73,
          50189.77,
          50283.96,
          50968.49,
          50676.36,
          50666,
          50432.42,
          50250.84,
          49732.53,
          50104.04,
          49739.65,
          50078.48,
          50637.39,
          50676.57,
          50777.48,
          50899.67,
          50472.94,
          50144.41,
          50767.93,
          50377.79,
          51141.31,
          50735.42,
          49621.93,
          49502.71,
          49504.47,
          49416.13,
          49177.27,
          49832.52,
          49521.11,
          49400.36,
          49744.76,
          50096.73,
          49702.31,
          49622.72,
          49457.47,
          49003.83,
          48911.77,
          49195.04,
          48225.14,
          48798.62,
          48703.53,
          48894.64,
          49279.29,
          49724.93
         ],
         "high": [
          49078.28,
          48454.85,
          49365.8,
          50201.53,
          50573.85,
          50463.98,
          50535.14,
          50977.14,
          51383.99,
          50958.05,
          51044.41,
          50539.71,
          50660.34,
          50423.11,
          50206.4,
          50345.18,
          50881.7,
          50874.98,
          50978.83,
          51432.06,
          51041.91,
          50646.41,
          50924.23,
          50903.97,
          51204.51,
          51338.97,
          51105.22,
          49884.03,
          49797.52,
          49668.45,
          49623.65,
          49881.16,
          50164.28,
          49887.59,
          50004.3,
          50096.73,
          50171.79,
          50016.17,
          49719.18,
          49475.25,
          49265.31,
          49206.6,
          49193.77,
          48882.33,
          48737.81,
          48999.82,
          49549.5,
          49786.94
         ],
         "low": [
          47012.76,
          47372.7,
          48476.68,
          48787.54,
          49853.89,
          50035.8,
          50131.61,
          50250.74,
          50676.36,
          50365.76,
          50019.98,
          50226.92,
          49496.23,
          49608.92,
          49561.04,
          49801.05,
          49814.39,
          50335.45,
          50371.57,
          50788.02,
          50255.76,
          50124.23,
          50140.45,
          50277,
          50378.29,
          50700.4,
          49518.2,
          49108,
          49174.28,
          48797.43,
          48509.32,
          49106.18,
          49471.26,
          49355.08,
          49364.96,
          49664.32,
          49569.8,
          49614.19,
          49392.72,
          48883.68,
          48790.24,
          48614.98,
          48198.75,
          48170.42,
          48082.02,
          48502.15,
          48772.51,
          49370.23
         ],
         "open": [
          48906.05,
          47372.7,
          48516.41,
          49218.55,
          50240.11,
          50118.78,
          50186.42,
          50299.72,
          50962.95,
          50801.68,
          50721.28,
          50400.81,
          50498.53,
          49689.23,
          50206.4,
          49801.05,
          50119.82,
          50648.67,
          50665.65,
          50788.02,
          50905.82,
          50470.28,
          50140.45,
          50766.28,
          50406.27,
          51131.69,
          50779.47,
          49628.68,
          49532.6,
          49486.32,
          49385.65,
          49183.8,
          49887.05,
          49539.69,
          49407.81,
          49756.84,
          50118.14,
          49717.85,
          49630.99,
          49446.33,
          49006.93,
          48869.01,
          49104.75,
          48189.34,
          48737.81,
          48714.16,
          48801.95,
          49399.58
         ],
         "type": "candlestick",
         "x": [
          "2021-02-24T00:00:00",
          "2021-02-24T00:30:00",
          "2021-02-24T01:00:00",
          "2021-02-24T01:30:00",
          "2021-02-24T02:00:00",
          "2021-02-24T02:30:00",
          "2021-02-24T03:00:00",
          "2021-02-24T03:30:00",
          "2021-02-24T04:00:00",
          "2021-02-24T04:30:00",
          "2021-02-24T05:00:00",
          "2021-02-24T05:30:00",
          "2021-02-24T06:00:00",
          "2021-02-24T06:30:00",
          "2021-02-24T07:00:00",
          "2021-02-24T07:30:00",
          "2021-02-24T08:00:00",
          "2021-02-24T08:30:00",
          "2021-02-24T09:00:00",
          "2021-02-24T09:30:00",
          "2021-02-24T10:00:00",
          "2021-02-24T10:30:00",
          "2021-02-24T11:00:00",
          "2021-02-24T11:30:00",
          "2021-02-24T12:00:00",
          "2021-02-24T12:30:00",
          "2021-02-24T13:00:00",
          "2021-02-24T13:30:00",
          "2021-02-24T14:00:00",
          "2021-02-24T14:30:00",
          "2021-02-24T15:00:00",
          "2021-02-24T15:30:00",
          "2021-02-24T16:00:00",
          "2021-02-24T16:30:00",
          "2021-02-24T17:00:00",
          "2021-02-24T17:30:00",
          "2021-02-24T18:00:00",
          "2021-02-24T18:30:00",
          "2021-02-24T19:00:00",
          "2021-02-24T19:30:00",
          "2021-02-24T20:00:00",
          "2021-02-24T20:30:00",
          "2021-02-24T21:00:00",
          "2021-02-24T21:30:00",
          "2021-02-24T22:00:00",
          "2021-02-24T22:30:00",
          "2021-02-24T23:00:00",
          "2021-02-24T23:30:00"
         ]
        },
        {
         "line": {
          "color": "blue"
         },
         "mode": "lines",
         "name": "VWAP",
         "type": "scatter",
         "x": [
          "2021-02-24T00:00:00",
          "2021-02-24T00:30:00",
          "2021-02-24T01:00:00",
          "2021-02-24T01:30:00",
          "2021-02-24T02:00:00",
          "2021-02-24T02:30:00",
          "2021-02-24T03:00:00",
          "2021-02-24T03:30:00",
          "2021-02-24T04:00:00",
          "2021-02-24T04:30:00",
          "2021-02-24T05:00:00",
          "2021-02-24T05:30:00",
          "2021-02-24T06:00:00",
          "2021-02-24T06:30:00",
          "2021-02-24T07:00:00",
          "2021-02-24T07:30:00",
          "2021-02-24T08:00:00",
          "2021-02-24T08:30:00",
          "2021-02-24T09:00:00",
          "2021-02-24T09:30:00",
          "2021-02-24T10:00:00",
          "2021-02-24T10:30:00",
          "2021-02-24T11:00:00",
          "2021-02-24T11:30:00",
          "2021-02-24T12:00:00",
          "2021-02-24T12:30:00",
          "2021-02-24T13:00:00",
          "2021-02-24T13:30:00",
          "2021-02-24T14:00:00",
          "2021-02-24T14:30:00",
          "2021-02-24T15:00:00",
          "2021-02-24T15:30:00",
          "2021-02-24T16:00:00",
          "2021-02-24T16:30:00",
          "2021-02-24T17:00:00",
          "2021-02-24T17:30:00",
          "2021-02-24T18:00:00",
          "2021-02-24T18:30:00",
          "2021-02-24T19:00:00",
          "2021-02-24T19:30:00",
          "2021-02-24T20:00:00",
          "2021-02-24T20:30:00",
          "2021-02-24T21:00:00",
          "2021-02-24T21:30:00",
          "2021-02-24T22:00:00",
          "2021-02-24T22:30:00",
          "2021-02-24T23:00:00",
          "2021-02-24T23:30:00"
         ],
         "y": [
          47943.653428233076,
          47975.00889680421,
          48886.49827548361,
          49781.332077192565,
          50149.916892213034,
          50280.92107020607,
          50348.21857738725,
          50651.14269848591,
          51148.91719016292,
          50687.448432974095,
          50407.41276769001,
          50390.268151381075,
          49952.63133120592,
          49926.81030072894,
          49849.608349239876,
          50125.00556187413,
          50344.64462842686,
          50709.536901706066,
          50773.64489548947,
          51109.36219340803,
          50658.12683857512,
          50408.56101261486,
          50635.858858228465,
          50404.89439282149,
          50896.84544501695,
          50975.08143021851,
          50335.658415038495,
          49465.61637499695,
          49477.35250595419,
          49091.0646017417,
          48917.79432280062,
          49592.9540576236,
          49861.100697390284,
          49641.33677131827,
          49778.33325572942,
          49834.53779331186,
          49810.37434820422,
          49783.40631355108,
          49508.764167986745,
          49154.19316557111,
          48875.52894143742,
          48807.97622016318,
          48495.26729630099,
          48394.50197810132,
          48433.034195198205,
          48740.88629678891,
          49304.28321397889,
          49659.8826377236
         ]
        },
        {
         "line": {
          "color": "grey"
         },
         "mode": "lines",
         "name": "vwmp_lower",
         "type": "scatter",
         "x": [
          "2021-02-24T00:00:00",
          "2021-02-24T00:30:00",
          "2021-02-24T01:00:00",
          "2021-02-24T01:30:00",
          "2021-02-24T02:00:00",
          "2021-02-24T02:30:00",
          "2021-02-24T03:00:00",
          "2021-02-24T03:30:00",
          "2021-02-24T04:00:00",
          "2021-02-24T04:30:00",
          "2021-02-24T05:00:00",
          "2021-02-24T05:30:00",
          "2021-02-24T06:00:00",
          "2021-02-24T06:30:00",
          "2021-02-24T07:00:00",
          "2021-02-24T07:30:00",
          "2021-02-24T08:00:00",
          "2021-02-24T08:30:00",
          "2021-02-24T09:00:00",
          "2021-02-24T09:30:00",
          "2021-02-24T10:00:00",
          "2021-02-24T10:30:00",
          "2021-02-24T11:00:00",
          "2021-02-24T11:30:00",
          "2021-02-24T12:00:00",
          "2021-02-24T12:30:00",
          "2021-02-24T13:00:00",
          "2021-02-24T13:30:00",
          "2021-02-24T14:00:00",
          "2021-02-24T14:30:00",
          "2021-02-24T15:00:00",
          "2021-02-24T15:30:00",
          "2021-02-24T16:00:00",
          "2021-02-24T16:30:00",
          "2021-02-24T17:00:00",
          "2021-02-24T17:30:00",
          "2021-02-24T18:00:00",
          "2021-02-24T18:30:00",
          "2021-02-24T19:00:00",
          "2021-02-24T19:30:00",
          "2021-02-24T20:00:00",
          "2021-02-24T20:30:00",
          "2021-02-24T21:00:00",
          "2021-02-24T21:30:00",
          "2021-02-24T22:00:00",
          "2021-02-24T22:30:00",
          "2021-02-24T23:00:00",
          "2021-02-24T23:30:00"
         ],
         "y": [
          48166.71,
          48199.35,
          48592.2,
          49775.26,
          50275.95,
          50057.64,
          50341.88,
          50527.52,
          51254,
          50680.87,
          51025.96,
          50405.7,
          50487.81,
          49822,
          49804.08,
          50152.64,
          50609.45,
          50743.1,
          50916.42,
          51071.41,
          50615.59,
          50198.17,
          50749.53,
          50350.99,
          50838.29,
          51338.97,
          50243.46,
          49767.15,
          49454.75,
          49176.38,
          49065.58,
          49584.95,
          49800.5,
          49597.17,
          49779,
          49689.75,
          49847,
          49643.11,
          49579.09,
          49332.01,
          48800,
          48744.26,
          48224.21,
          48443.25,
          48479.61,
          48794.03,
          49428.65,
          49681.15
         ]
        }
       ],
       "layout": {
        "height": 300,
        "margin": {
         "b": 20,
         "l": 70,
         "r": 50,
         "t": 50
        },
        "template": {
         "data": {
          "bar": [
           {
            "error_x": {
             "color": "#2a3f5f"
            },
            "error_y": {
             "color": "#2a3f5f"
            },
            "marker": {
             "line": {
              "color": "#E5ECF6",
              "width": 0.5
             },
             "pattern": {
              "fillmode": "overlay",
              "size": 10,
              "solidity": 0.2
             }
            },
            "type": "bar"
           }
          ],
          "barpolar": [
           {
            "marker": {
             "line": {
              "color": "#E5ECF6",
              "width": 0.5
             },
             "pattern": {
              "fillmode": "overlay",
              "size": 10,
              "solidity": 0.2
             }
            },
            "type": "barpolar"
           }
          ],
          "carpet": [
           {
            "aaxis": {
             "endlinecolor": "#2a3f5f",
             "gridcolor": "white",
             "linecolor": "white",
             "minorgridcolor": "white",
             "startlinecolor": "#2a3f5f"
            },
            "baxis": {
             "endlinecolor": "#2a3f5f",
             "gridcolor": "white",
             "linecolor": "white",
             "minorgridcolor": "white",
             "startlinecolor": "#2a3f5f"
            },
            "type": "carpet"
           }
          ],
          "choropleth": [
           {
            "colorbar": {
             "outlinewidth": 0,
             "ticks": ""
            },
            "type": "choropleth"
           }
          ],
          "contour": [
           {
            "colorbar": {
             "outlinewidth": 0,
             "ticks": ""
            },
            "colorscale": [
             [
              0,
              "#0d0887"
             ],
             [
              0.1111111111111111,
              "#46039f"
             ],
             [
              0.2222222222222222,
              "#7201a8"
             ],
             [
              0.3333333333333333,
              "#9c179e"
             ],
             [
              0.4444444444444444,
              "#bd3786"
             ],
             [
              0.5555555555555556,
              "#d8576b"
             ],
             [
              0.6666666666666666,
              "#ed7953"
             ],
             [
              0.7777777777777778,
              "#fb9f3a"
             ],
             [
              0.8888888888888888,
              "#fdca26"
             ],
             [
              1,
              "#f0f921"
             ]
            ],
            "type": "contour"
           }
          ],
          "contourcarpet": [
           {
            "colorbar": {
             "outlinewidth": 0,
             "ticks": ""
            },
            "type": "contourcarpet"
           }
          ],
          "heatmap": [
           {
            "colorbar": {
             "outlinewidth": 0,
             "ticks": ""
            },
            "colorscale": [
             [
              0,
              "#0d0887"
             ],
             [
              0.1111111111111111,
              "#46039f"
             ],
             [
              0.2222222222222222,
              "#7201a8"
             ],
             [
              0.3333333333333333,
              "#9c179e"
             ],
             [
              0.4444444444444444,
              "#bd3786"
             ],
             [
              0.5555555555555556,
              "#d8576b"
             ],
             [
              0.6666666666666666,
              "#ed7953"
             ],
             [
              0.7777777777777778,
              "#fb9f3a"
             ],
             [
              0.8888888888888888,
              "#fdca26"
             ],
             [
              1,
              "#f0f921"
             ]
            ],
            "type": "heatmap"
           }
          ],
          "heatmapgl": [
           {
            "colorbar": {
             "outlinewidth": 0,
             "ticks": ""
            },
            "colorscale": [
             [
              0,
              "#0d0887"
             ],
             [
              0.1111111111111111,
              "#46039f"
             ],
             [
              0.2222222222222222,
              "#7201a8"
             ],
             [
              0.3333333333333333,
              "#9c179e"
             ],
             [
              0.4444444444444444,
              "#bd3786"
             ],
             [
              0.5555555555555556,
              "#d8576b"
             ],
             [
              0.6666666666666666,
              "#ed7953"
             ],
             [
              0.7777777777777778,
              "#fb9f3a"
             ],
             [
              0.8888888888888888,
              "#fdca26"
             ],
             [
              1,
              "#f0f921"
             ]
            ],
            "type": "heatmapgl"
           }
          ],
          "histogram": [
           {
            "marker": {
             "pattern": {
              "fillmode": "overlay",
              "size": 10,
              "solidity": 0.2
             }
            },
            "type": "histogram"
           }
          ],
          "histogram2d": [
           {
            "colorbar": {
             "outlinewidth": 0,
             "ticks": ""
            },
            "colorscale": [
             [
              0,
              "#0d0887"
             ],
             [
              0.1111111111111111,
              "#46039f"
             ],
             [
              0.2222222222222222,
              "#7201a8"
             ],
             [
              0.3333333333333333,
              "#9c179e"
             ],
             [
              0.4444444444444444,
              "#bd3786"
             ],
             [
              0.5555555555555556,
              "#d8576b"
             ],
             [
              0.6666666666666666,
              "#ed7953"
             ],
             [
              0.7777777777777778,
              "#fb9f3a"
             ],
             [
              0.8888888888888888,
              "#fdca26"
             ],
             [
              1,
              "#f0f921"
             ]
            ],
            "type": "histogram2d"
           }
          ],
          "histogram2dcontour": [
           {
            "colorbar": {
             "outlinewidth": 0,
             "ticks": ""
            },
            "colorscale": [
             [
              0,
              "#0d0887"
             ],
             [
              0.1111111111111111,
              "#46039f"
             ],
             [
              0.2222222222222222,
              "#7201a8"
             ],
             [
              0.3333333333333333,
              "#9c179e"
             ],
             [
              0.4444444444444444,
              "#bd3786"
             ],
             [
              0.5555555555555556,
              "#d8576b"
             ],
             [
              0.6666666666666666,
              "#ed7953"
             ],
             [
              0.7777777777777778,
              "#fb9f3a"
             ],
             [
              0.8888888888888888,
              "#fdca26"
             ],
             [
              1,
              "#f0f921"
             ]
            ],
            "type": "histogram2dcontour"
           }
          ],
          "mesh3d": [
           {
            "colorbar": {
             "outlinewidth": 0,
             "ticks": ""
            },
            "type": "mesh3d"
           }
          ],
          "parcoords": [
           {
            "line": {
             "colorbar": {
              "outlinewidth": 0,
              "ticks": ""
             }
            },
            "type": "parcoords"
           }
          ],
          "pie": [
           {
            "automargin": true,
            "type": "pie"
           }
          ],
          "scatter": [
           {
            "fillpattern": {
             "fillmode": "overlay",
             "size": 10,
             "solidity": 0.2
            },
            "type": "scatter"
           }
          ],
          "scatter3d": [
           {
            "line": {
             "colorbar": {
              "outlinewidth": 0,
              "ticks": ""
             }
            },
            "marker": {
             "colorbar": {
              "outlinewidth": 0,
              "ticks": ""
             }
            },
            "type": "scatter3d"
           }
          ],
          "scattercarpet": [
           {
            "marker": {
             "colorbar": {
              "outlinewidth": 0,
              "ticks": ""
             }
            },
            "type": "scattercarpet"
           }
          ],
          "scattergeo": [
           {
            "marker": {
             "colorbar": {
              "outlinewidth": 0,
              "ticks": ""
             }
            },
            "type": "scattergeo"
           }
          ],
          "scattergl": [
           {
            "marker": {
             "colorbar": {
              "outlinewidth": 0,
              "ticks": ""
             }
            },
            "type": "scattergl"
           }
          ],
          "scattermapbox": [
           {
            "marker": {
             "colorbar": {
              "outlinewidth": 0,
              "ticks": ""
             }
            },
            "type": "scattermapbox"
           }
          ],
          "scatterpolar": [
           {
            "marker": {
             "colorbar": {
              "outlinewidth": 0,
              "ticks": ""
             }
            },
            "type": "scatterpolar"
           }
          ],
          "scatterpolargl": [
           {
            "marker": {
             "colorbar": {
              "outlinewidth": 0,
              "ticks": ""
             }
            },
            "type": "scatterpolargl"
           }
          ],
          "scatterternary": [
           {
            "marker": {
             "colorbar": {
              "outlinewidth": 0,
              "ticks": ""
             }
            },
            "type": "scatterternary"
           }
          ],
          "surface": [
           {
            "colorbar": {
             "outlinewidth": 0,
             "ticks": ""
            },
            "colorscale": [
             [
              0,
              "#0d0887"
             ],
             [
              0.1111111111111111,
              "#46039f"
             ],
             [
              0.2222222222222222,
              "#7201a8"
             ],
             [
              0.3333333333333333,
              "#9c179e"
             ],
             [
              0.4444444444444444,
              "#bd3786"
             ],
             [
              0.5555555555555556,
              "#d8576b"
             ],
             [
              0.6666666666666666,
              "#ed7953"
             ],
             [
              0.7777777777777778,
              "#fb9f3a"
             ],
             [
              0.8888888888888888,
              "#fdca26"
             ],
             [
              1,
              "#f0f921"
             ]
            ],
            "type": "surface"
           }
          ],
          "table": [
           {
            "cells": {
             "fill": {
              "color": "#EBF0F8"
             },
             "line": {
              "color": "white"
             }
            },
            "header": {
             "fill": {
              "color": "#C8D4E3"
             },
             "line": {
              "color": "white"
             }
            },
            "type": "table"
           }
          ]
         },
         "layout": {
          "annotationdefaults": {
           "arrowcolor": "#2a3f5f",
           "arrowhead": 0,
           "arrowwidth": 1
          },
          "autotypenumbers": "strict",
          "coloraxis": {
           "colorbar": {
            "outlinewidth": 0,
            "ticks": ""
           }
          },
          "colorscale": {
           "diverging": [
            [
             0,
             "#8e0152"
            ],
            [
             0.1,
             "#c51b7d"
            ],
            [
             0.2,
             "#de77ae"
            ],
            [
             0.3,
             "#f1b6da"
            ],
            [
             0.4,
             "#fde0ef"
            ],
            [
             0.5,
             "#f7f7f7"
            ],
            [
             0.6,
             "#e6f5d0"
            ],
            [
             0.7,
             "#b8e186"
            ],
            [
             0.8,
             "#7fbc41"
            ],
            [
             0.9,
             "#4d9221"
            ],
            [
             1,
             "#276419"
            ]
           ],
           "sequential": [
            [
             0,
             "#0d0887"
            ],
            [
             0.1111111111111111,
             "#46039f"
            ],
            [
             0.2222222222222222,
             "#7201a8"
            ],
            [
             0.3333333333333333,
             "#9c179e"
            ],
            [
             0.4444444444444444,
             "#bd3786"
            ],
            [
             0.5555555555555556,
             "#d8576b"
            ],
            [
             0.6666666666666666,
             "#ed7953"
            ],
            [
             0.7777777777777778,
             "#fb9f3a"
            ],
            [
             0.8888888888888888,
             "#fdca26"
            ],
            [
             1,
             "#f0f921"
            ]
           ],
           "sequentialminus": [
            [
             0,
             "#0d0887"
            ],
            [
             0.1111111111111111,
             "#46039f"
            ],
            [
             0.2222222222222222,
             "#7201a8"
            ],
            [
             0.3333333333333333,
             "#9c179e"
            ],
            [
             0.4444444444444444,
             "#bd3786"
            ],
            [
             0.5555555555555556,
             "#d8576b"
            ],
            [
             0.6666666666666666,
             "#ed7953"
            ],
            [
             0.7777777777777778,
             "#fb9f3a"
            ],
            [
             0.8888888888888888,
             "#fdca26"
            ],
            [
             1,
             "#f0f921"
            ]
           ]
          },
          "colorway": [
           "#636efa",
           "#EF553B",
           "#00cc96",
           "#ab63fa",
           "#FFA15A",
           "#19d3f3",
           "#FF6692",
           "#B6E880",
           "#FF97FF",
           "#FECB52"
          ],
          "font": {
           "color": "#2a3f5f"
          },
          "geo": {
           "bgcolor": "white",
           "lakecolor": "white",
           "landcolor": "#E5ECF6",
           "showlakes": true,
           "showland": true,
           "subunitcolor": "white"
          },
          "hoverlabel": {
           "align": "left"
          },
          "hovermode": "closest",
          "mapbox": {
           "style": "light"
          },
          "paper_bgcolor": "white",
          "plot_bgcolor": "#E5ECF6",
          "polar": {
           "angularaxis": {
            "gridcolor": "white",
            "linecolor": "white",
            "ticks": ""
           },
           "bgcolor": "#E5ECF6",
           "radialaxis": {
            "gridcolor": "white",
            "linecolor": "white",
            "ticks": ""
           }
          },
          "scene": {
           "xaxis": {
            "backgroundcolor": "#E5ECF6",
            "gridcolor": "white",
            "gridwidth": 2,
            "linecolor": "white",
            "showbackground": true,
            "ticks": "",
            "zerolinecolor": "white"
           },
           "yaxis": {
            "backgroundcolor": "#E5ECF6",
            "gridcolor": "white",
            "gridwidth": 2,
            "linecolor": "white",
            "showbackground": true,
            "ticks": "",
            "zerolinecolor": "white"
           },
           "zaxis": {
            "backgroundcolor": "#E5ECF6",
            "gridcolor": "white",
            "gridwidth": 2,
            "linecolor": "white",
            "showbackground": true,
            "ticks": "",
            "zerolinecolor": "white"
           }
          },
          "shapedefaults": {
           "line": {
            "color": "#2a3f5f"
           }
          },
          "ternary": {
           "aaxis": {
            "gridcolor": "white",
            "linecolor": "white",
            "ticks": ""
           },
           "baxis": {
            "gridcolor": "white",
            "linecolor": "white",
            "ticks": ""
           },
           "bgcolor": "#E5ECF6",
           "caxis": {
            "gridcolor": "white",
            "linecolor": "white",
            "ticks": ""
           }
          },
          "title": {
           "x": 0.05
          },
          "xaxis": {
           "automargin": true,
           "gridcolor": "white",
           "linecolor": "white",
           "ticks": "",
           "title": {
            "standoff": 15
           },
           "zerolinecolor": "white",
           "zerolinewidth": 2
          },
          "yaxis": {
           "automargin": true,
           "gridcolor": "white",
           "linecolor": "white",
           "ticks": "",
           "title": {
            "standoff": 15
           },
           "zerolinecolor": "white",
           "zerolinewidth": 2
          }
         }
        },
        "title": {
         "text": "Exchange - [okcn]"
        },
        "width": 800,
        "yaxis": {
         "title": {
          "text": "Price"
         }
        }
       }
      }
     },
     "metadata": {},
     "output_type": "display_data"
    },
    {
     "data": {
      "application/vnd.plotly.v1+json": {
       "config": {
        "plotlyServerURL": "https://plot.ly"
       },
       "data": [
        {
         "close": [
          47225.25,
          48485.25,
          49170.5,
          50193.25,
          50017,
          50215.5,
          50262.75,
          50913.25,
          50701,
          50650.5,
          50414,
          50234.5,
          49668.5,
          50104.75,
          49698.75,
          50085.5,
          50670.75,
          50680.25,
          50800.75,
          50929.5,
          50440.75,
          50140.25,
          50800.25,
          50400.25,
          51130.5,
          50734,
          49624,
          49506.75,
          49502.75,
          49427.25,
          49149.25,
          49862.5,
          49511.5,
          49385.75,
          49760.25,
          50096,
          49720.25,
          49612.5,
          49460,
          48990.5,
          48920.25,
          49167,
          48200.5,
          48798.5,
          48699,
          48833.25,
          49355.25,
          49753.5
         ],
         "high": [
          49100,
          48485.25,
          49333,
          50208.25,
          50560.25,
          50466.25,
          50529,
          50991.25,
          51391.5,
          50965.25,
          51046.5,
          50552.25,
          50687.75,
          50419.75,
          50199.25,
          50327.75,
          50910,
          50868.75,
          51000,
          51397,
          51041.75,
          50647.75,
          50928,
          50851,
          51227,
          51345.25,
          51095.25,
          49898.5,
          49811.25,
          49710.75,
          49640,
          49879.5,
          50169.75,
          49860,
          50000,
          50105.5,
          50095.75,
          50015.5,
          49742.25,
          49460,
          49260.75,
          49228.75,
          49192.75,
          48927.75,
          48765.25,
          48975,
          49533.25,
          49772.5
         ],
         "low": [
          47022,
          47270.25,
          48447.75,
          48791.25,
          49821.5,
          50027,
          50073,
          50244,
          50696.5,
          50353.5,
          50016,
          50209,
          49500,
          49601.75,
          49555.25,
          49713.25,
          49842,
          50398.75,
          50420,
          50796,
          50198.25,
          50127.25,
          50160,
          50227.75,
          50400.25,
          50680.25,
          49523.75,
          49082,
          49200.25,
          48777,
          48495.75,
          49060.25,
          49460,
          49380,
          49391.5,
          49651.5,
          49510,
          49600.25,
          49400,
          48893,
          48800.25,
          48642,
          48184.75,
          48150.25,
          48100.25,
          48523.5,
          48775,
          49360
         ],
         "open": [
          48919.5,
          47270.25,
          48485.25,
          49205.5,
          50193.25,
          50044,
          50166.25,
          50282.25,
          50913.25,
          50703.5,
          50656.5,
          50401.75,
          50248.25,
          49687.25,
          50104.75,
          49713.25,
          50109.5,
          50660,
          50680.25,
          50810,
          50940,
          50495.75,
          50180,
          50800.25,
          50402.25,
          51167.5,
          50762.75,
          49658.25,
          49540.25,
          49520.5,
          49433.25,
          49149,
          49879.5,
          49526,
          49425.75,
          49763,
          50095.75,
          49681,
          49624.25,
          49460,
          48973,
          48920.25,
          49131.5,
          48221.5,
          48765,
          48720,
          48775,
          49360
         ],
         "type": "candlestick",
         "x": [
          "2021-02-24T00:00:00",
          "2021-02-24T00:30:00",
          "2021-02-24T01:00:00",
          "2021-02-24T01:30:00",
          "2021-02-24T02:00:00",
          "2021-02-24T02:30:00",
          "2021-02-24T03:00:00",
          "2021-02-24T03:30:00",
          "2021-02-24T04:00:00",
          "2021-02-24T04:30:00",
          "2021-02-24T05:00:00",
          "2021-02-24T05:30:00",
          "2021-02-24T06:00:00",
          "2021-02-24T06:30:00",
          "2021-02-24T07:00:00",
          "2021-02-24T07:30:00",
          "2021-02-24T08:00:00",
          "2021-02-24T08:30:00",
          "2021-02-24T09:00:00",
          "2021-02-24T09:30:00",
          "2021-02-24T10:00:00",
          "2021-02-24T10:30:00",
          "2021-02-24T11:00:00",
          "2021-02-24T11:30:00",
          "2021-02-24T12:00:00",
          "2021-02-24T12:30:00",
          "2021-02-24T13:00:00",
          "2021-02-24T13:30:00",
          "2021-02-24T14:00:00",
          "2021-02-24T14:30:00",
          "2021-02-24T15:00:00",
          "2021-02-24T15:30:00",
          "2021-02-24T16:00:00",
          "2021-02-24T16:30:00",
          "2021-02-24T17:00:00",
          "2021-02-24T17:30:00",
          "2021-02-24T18:00:00",
          "2021-02-24T18:30:00",
          "2021-02-24T19:00:00",
          "2021-02-24T19:30:00",
          "2021-02-24T20:00:00",
          "2021-02-24T20:30:00",
          "2021-02-24T21:00:00",
          "2021-02-24T21:30:00",
          "2021-02-24T22:00:00",
          "2021-02-24T22:30:00",
          "2021-02-24T23:00:00",
          "2021-02-24T23:30:00"
         ]
        },
        {
         "line": {
          "color": "blue"
         },
         "mode": "lines",
         "name": "VWAP",
         "type": "scatter",
         "x": [
          "2021-02-24T00:00:00",
          "2021-02-24T00:30:00",
          "2021-02-24T01:00:00",
          "2021-02-24T01:30:00",
          "2021-02-24T02:00:00",
          "2021-02-24T02:30:00",
          "2021-02-24T03:00:00",
          "2021-02-24T03:30:00",
          "2021-02-24T04:00:00",
          "2021-02-24T04:30:00",
          "2021-02-24T05:00:00",
          "2021-02-24T05:30:00",
          "2021-02-24T06:00:00",
          "2021-02-24T06:30:00",
          "2021-02-24T07:00:00",
          "2021-02-24T07:30:00",
          "2021-02-24T08:00:00",
          "2021-02-24T08:30:00",
          "2021-02-24T09:00:00",
          "2021-02-24T09:30:00",
          "2021-02-24T10:00:00",
          "2021-02-24T10:30:00",
          "2021-02-24T11:00:00",
          "2021-02-24T11:30:00",
          "2021-02-24T12:00:00",
          "2021-02-24T12:30:00",
          "2021-02-24T13:00:00",
          "2021-02-24T13:30:00",
          "2021-02-24T14:00:00",
          "2021-02-24T14:30:00",
          "2021-02-24T15:00:00",
          "2021-02-24T15:30:00",
          "2021-02-24T16:00:00",
          "2021-02-24T16:30:00",
          "2021-02-24T17:00:00",
          "2021-02-24T17:30:00",
          "2021-02-24T18:00:00",
          "2021-02-24T18:30:00",
          "2021-02-24T19:00:00",
          "2021-02-24T19:30:00",
          "2021-02-24T20:00:00",
          "2021-02-24T20:30:00",
          "2021-02-24T21:00:00",
          "2021-02-24T21:30:00",
          "2021-02-24T22:00:00",
          "2021-02-24T22:30:00",
          "2021-02-24T23:00:00",
          "2021-02-24T23:30:00"
         ],
         "y": [
          47792.64791733564,
          47731.39805630975,
          49053.23496340712,
          49699.858553084276,
          50259.68637999233,
          50261.77038380215,
          50335.970554132786,
          50674.239201183846,
          51100.19868776709,
          50746.54900305449,
          50438.80916356138,
          50387.8022391734,
          49935.2381465101,
          49801.651058643474,
          49872.43034835946,
          50099.62185682717,
          50555.91462002064,
          50666.71540260816,
          50646.12961346473,
          51121.595287589174,
          50659.21395836516,
          50494.694898851645,
          50501.41898419345,
          50500.50874998408,
          50810.778749429235,
          51088.59860667398,
          49993.527377470295,
          49475.28922213887,
          49499.4789409213,
          49127.35592539649,
          48918.11377597517,
          49456.17368335164,
          49812.778642160236,
          49667.328871246966,
          49795.69005058584,
          49846.26023493838,
          49771.31886679144,
          49823.237162065016,
          49536.193397449584,
          49120.48011017311,
          49002.3425242562,
          48808.589437666946,
          48587.40511750065,
          48465.47691921998,
          48352.760898420274,
          48744.939195924526,
          49258.18393659634,
          49611.91446665464
         ]
        },
        {
         "line": {
          "color": "grey"
         },
         "mode": "lines",
         "name": "vwmp_lower",
         "type": "scatter",
         "x": [
          "2021-02-24T00:00:00",
          "2021-02-24T00:30:00",
          "2021-02-24T01:00:00",
          "2021-02-24T01:30:00",
          "2021-02-24T02:00:00",
          "2021-02-24T02:30:00",
          "2021-02-24T03:00:00",
          "2021-02-24T03:30:00",
          "2021-02-24T04:00:00",
          "2021-02-24T04:30:00",
          "2021-02-24T05:00:00",
          "2021-02-24T05:30:00",
          "2021-02-24T06:00:00",
          "2021-02-24T06:30:00",
          "2021-02-24T07:00:00",
          "2021-02-24T07:30:00",
          "2021-02-24T08:00:00",
          "2021-02-24T08:30:00",
          "2021-02-24T09:00:00",
          "2021-02-24T09:30:00",
          "2021-02-24T10:00:00",
          "2021-02-24T10:30:00",
          "2021-02-24T11:00:00",
          "2021-02-24T11:30:00",
          "2021-02-24T12:00:00",
          "2021-02-24T12:30:00",
          "2021-02-24T13:00:00",
          "2021-02-24T13:30:00",
          "2021-02-24T14:00:00",
          "2021-02-24T14:30:00",
          "2021-02-24T15:00:00",
          "2021-02-24T15:30:00",
          "2021-02-24T16:00:00",
          "2021-02-24T16:30:00",
          "2021-02-24T17:00:00",
          "2021-02-24T17:30:00",
          "2021-02-24T18:00:00",
          "2021-02-24T18:30:00",
          "2021-02-24T19:00:00",
          "2021-02-24T19:30:00",
          "2021-02-24T20:00:00",
          "2021-02-24T20:30:00",
          "2021-02-24T21:00:00",
          "2021-02-24T21:30:00",
          "2021-02-24T22:00:00",
          "2021-02-24T22:30:00",
          "2021-02-24T23:00:00",
          "2021-02-24T23:30:00"
         ],
         "y": [
          48200,
          47806.75,
          49016.25,
          49700,
          50467,
          50333.25,
          50326.75,
          50940,
          51012,
          50732.5,
          50994.5,
          50455.75,
          50530,
          49735.75,
          50130.75,
          49996.5,
          50600,
          50661.5,
          50440.5,
          50908.5,
          50499,
          50300,
          50409.75,
          50360.25,
          50520.25,
          50840.25,
          50066,
          49351.25,
          49528.25,
          49520.5,
          48952.75,
          49469,
          49985.75,
          49761.25,
          49897.75,
          49999,
          50020.25,
          49612.75,
          49520,
          48945.5,
          49162,
          49010.5,
          48538.25,
          48420.25,
          48150,
          48795.5,
          48893.5,
          49676.25
         ]
        }
       ],
       "layout": {
        "height": 300,
        "margin": {
         "b": 20,
         "l": 70,
         "r": 50,
         "t": 50
        },
        "template": {
         "data": {
          "bar": [
           {
            "error_x": {
             "color": "#2a3f5f"
            },
            "error_y": {
             "color": "#2a3f5f"
            },
            "marker": {
             "line": {
              "color": "#E5ECF6",
              "width": 0.5
             },
             "pattern": {
              "fillmode": "overlay",
              "size": 10,
              "solidity": 0.2
             }
            },
            "type": "bar"
           }
          ],
          "barpolar": [
           {
            "marker": {
             "line": {
              "color": "#E5ECF6",
              "width": 0.5
             },
             "pattern": {
              "fillmode": "overlay",
              "size": 10,
              "solidity": 0.2
             }
            },
            "type": "barpolar"
           }
          ],
          "carpet": [
           {
            "aaxis": {
             "endlinecolor": "#2a3f5f",
             "gridcolor": "white",
             "linecolor": "white",
             "minorgridcolor": "white",
             "startlinecolor": "#2a3f5f"
            },
            "baxis": {
             "endlinecolor": "#2a3f5f",
             "gridcolor": "white",
             "linecolor": "white",
             "minorgridcolor": "white",
             "startlinecolor": "#2a3f5f"
            },
            "type": "carpet"
           }
          ],
          "choropleth": [
           {
            "colorbar": {
             "outlinewidth": 0,
             "ticks": ""
            },
            "type": "choropleth"
           }
          ],
          "contour": [
           {
            "colorbar": {
             "outlinewidth": 0,
             "ticks": ""
            },
            "colorscale": [
             [
              0,
              "#0d0887"
             ],
             [
              0.1111111111111111,
              "#46039f"
             ],
             [
              0.2222222222222222,
              "#7201a8"
             ],
             [
              0.3333333333333333,
              "#9c179e"
             ],
             [
              0.4444444444444444,
              "#bd3786"
             ],
             [
              0.5555555555555556,
              "#d8576b"
             ],
             [
              0.6666666666666666,
              "#ed7953"
             ],
             [
              0.7777777777777778,
              "#fb9f3a"
             ],
             [
              0.8888888888888888,
              "#fdca26"
             ],
             [
              1,
              "#f0f921"
             ]
            ],
            "type": "contour"
           }
          ],
          "contourcarpet": [
           {
            "colorbar": {
             "outlinewidth": 0,
             "ticks": ""
            },
            "type": "contourcarpet"
           }
          ],
          "heatmap": [
           {
            "colorbar": {
             "outlinewidth": 0,
             "ticks": ""
            },
            "colorscale": [
             [
              0,
              "#0d0887"
             ],
             [
              0.1111111111111111,
              "#46039f"
             ],
             [
              0.2222222222222222,
              "#7201a8"
             ],
             [
              0.3333333333333333,
              "#9c179e"
             ],
             [
              0.4444444444444444,
              "#bd3786"
             ],
             [
              0.5555555555555556,
              "#d8576b"
             ],
             [
              0.6666666666666666,
              "#ed7953"
             ],
             [
              0.7777777777777778,
              "#fb9f3a"
             ],
             [
              0.8888888888888888,
              "#fdca26"
             ],
             [
              1,
              "#f0f921"
             ]
            ],
            "type": "heatmap"
           }
          ],
          "heatmapgl": [
           {
            "colorbar": {
             "outlinewidth": 0,
             "ticks": ""
            },
            "colorscale": [
             [
              0,
              "#0d0887"
             ],
             [
              0.1111111111111111,
              "#46039f"
             ],
             [
              0.2222222222222222,
              "#7201a8"
             ],
             [
              0.3333333333333333,
              "#9c179e"
             ],
             [
              0.4444444444444444,
              "#bd3786"
             ],
             [
              0.5555555555555556,
              "#d8576b"
             ],
             [
              0.6666666666666666,
              "#ed7953"
             ],
             [
              0.7777777777777778,
              "#fb9f3a"
             ],
             [
              0.8888888888888888,
              "#fdca26"
             ],
             [
              1,
              "#f0f921"
             ]
            ],
            "type": "heatmapgl"
           }
          ],
          "histogram": [
           {
            "marker": {
             "pattern": {
              "fillmode": "overlay",
              "size": 10,
              "solidity": 0.2
             }
            },
            "type": "histogram"
           }
          ],
          "histogram2d": [
           {
            "colorbar": {
             "outlinewidth": 0,
             "ticks": ""
            },
            "colorscale": [
             [
              0,
              "#0d0887"
             ],
             [
              0.1111111111111111,
              "#46039f"
             ],
             [
              0.2222222222222222,
              "#7201a8"
             ],
             [
              0.3333333333333333,
              "#9c179e"
             ],
             [
              0.4444444444444444,
              "#bd3786"
             ],
             [
              0.5555555555555556,
              "#d8576b"
             ],
             [
              0.6666666666666666,
              "#ed7953"
             ],
             [
              0.7777777777777778,
              "#fb9f3a"
             ],
             [
              0.8888888888888888,
              "#fdca26"
             ],
             [
              1,
              "#f0f921"
             ]
            ],
            "type": "histogram2d"
           }
          ],
          "histogram2dcontour": [
           {
            "colorbar": {
             "outlinewidth": 0,
             "ticks": ""
            },
            "colorscale": [
             [
              0,
              "#0d0887"
             ],
             [
              0.1111111111111111,
              "#46039f"
             ],
             [
              0.2222222222222222,
              "#7201a8"
             ],
             [
              0.3333333333333333,
              "#9c179e"
             ],
             [
              0.4444444444444444,
              "#bd3786"
             ],
             [
              0.5555555555555556,
              "#d8576b"
             ],
             [
              0.6666666666666666,
              "#ed7953"
             ],
             [
              0.7777777777777778,
              "#fb9f3a"
             ],
             [
              0.8888888888888888,
              "#fdca26"
             ],
             [
              1,
              "#f0f921"
             ]
            ],
            "type": "histogram2dcontour"
           }
          ],
          "mesh3d": [
           {
            "colorbar": {
             "outlinewidth": 0,
             "ticks": ""
            },
            "type": "mesh3d"
           }
          ],
          "parcoords": [
           {
            "line": {
             "colorbar": {
              "outlinewidth": 0,
              "ticks": ""
             }
            },
            "type": "parcoords"
           }
          ],
          "pie": [
           {
            "automargin": true,
            "type": "pie"
           }
          ],
          "scatter": [
           {
            "fillpattern": {
             "fillmode": "overlay",
             "size": 10,
             "solidity": 0.2
            },
            "type": "scatter"
           }
          ],
          "scatter3d": [
           {
            "line": {
             "colorbar": {
              "outlinewidth": 0,
              "ticks": ""
             }
            },
            "marker": {
             "colorbar": {
              "outlinewidth": 0,
              "ticks": ""
             }
            },
            "type": "scatter3d"
           }
          ],
          "scattercarpet": [
           {
            "marker": {
             "colorbar": {
              "outlinewidth": 0,
              "ticks": ""
             }
            },
            "type": "scattercarpet"
           }
          ],
          "scattergeo": [
           {
            "marker": {
             "colorbar": {
              "outlinewidth": 0,
              "ticks": ""
             }
            },
            "type": "scattergeo"
           }
          ],
          "scattergl": [
           {
            "marker": {
             "colorbar": {
              "outlinewidth": 0,
              "ticks": ""
             }
            },
            "type": "scattergl"
           }
          ],
          "scattermapbox": [
           {
            "marker": {
             "colorbar": {
              "outlinewidth": 0,
              "ticks": ""
             }
            },
            "type": "scattermapbox"
           }
          ],
          "scatterpolar": [
           {
            "marker": {
             "colorbar": {
              "outlinewidth": 0,
              "ticks": ""
             }
            },
            "type": "scatterpolar"
           }
          ],
          "scatterpolargl": [
           {
            "marker": {
             "colorbar": {
              "outlinewidth": 0,
              "ticks": ""
             }
            },
            "type": "scatterpolargl"
           }
          ],
          "scatterternary": [
           {
            "marker": {
             "colorbar": {
              "outlinewidth": 0,
              "ticks": ""
             }
            },
            "type": "scatterternary"
           }
          ],
          "surface": [
           {
            "colorbar": {
             "outlinewidth": 0,
             "ticks": ""
            },
            "colorscale": [
             [
              0,
              "#0d0887"
             ],
             [
              0.1111111111111111,
              "#46039f"
             ],
             [
              0.2222222222222222,
              "#7201a8"
             ],
             [
              0.3333333333333333,
              "#9c179e"
             ],
             [
              0.4444444444444444,
              "#bd3786"
             ],
             [
              0.5555555555555556,
              "#d8576b"
             ],
             [
              0.6666666666666666,
              "#ed7953"
             ],
             [
              0.7777777777777778,
              "#fb9f3a"
             ],
             [
              0.8888888888888888,
              "#fdca26"
             ],
             [
              1,
              "#f0f921"
             ]
            ],
            "type": "surface"
           }
          ],
          "table": [
           {
            "cells": {
             "fill": {
              "color": "#EBF0F8"
             },
             "line": {
              "color": "white"
             }
            },
            "header": {
             "fill": {
              "color": "#C8D4E3"
             },
             "line": {
              "color": "white"
             }
            },
            "type": "table"
           }
          ]
         },
         "layout": {
          "annotationdefaults": {
           "arrowcolor": "#2a3f5f",
           "arrowhead": 0,
           "arrowwidth": 1
          },
          "autotypenumbers": "strict",
          "coloraxis": {
           "colorbar": {
            "outlinewidth": 0,
            "ticks": ""
           }
          },
          "colorscale": {
           "diverging": [
            [
             0,
             "#8e0152"
            ],
            [
             0.1,
             "#c51b7d"
            ],
            [
             0.2,
             "#de77ae"
            ],
            [
             0.3,
             "#f1b6da"
            ],
            [
             0.4,
             "#fde0ef"
            ],
            [
             0.5,
             "#f7f7f7"
            ],
            [
             0.6,
             "#e6f5d0"
            ],
            [
             0.7,
             "#b8e186"
            ],
            [
             0.8,
             "#7fbc41"
            ],
            [
             0.9,
             "#4d9221"
            ],
            [
             1,
             "#276419"
            ]
           ],
           "sequential": [
            [
             0,
             "#0d0887"
            ],
            [
             0.1111111111111111,
             "#46039f"
            ],
            [
             0.2222222222222222,
             "#7201a8"
            ],
            [
             0.3333333333333333,
             "#9c179e"
            ],
            [
             0.4444444444444444,
             "#bd3786"
            ],
            [
             0.5555555555555556,
             "#d8576b"
            ],
            [
             0.6666666666666666,
             "#ed7953"
            ],
            [
             0.7777777777777778,
             "#fb9f3a"
            ],
            [
             0.8888888888888888,
             "#fdca26"
            ],
            [
             1,
             "#f0f921"
            ]
           ],
           "sequentialminus": [
            [
             0,
             "#0d0887"
            ],
            [
             0.1111111111111111,
             "#46039f"
            ],
            [
             0.2222222222222222,
             "#7201a8"
            ],
            [
             0.3333333333333333,
             "#9c179e"
            ],
            [
             0.4444444444444444,
             "#bd3786"
            ],
            [
             0.5555555555555556,
             "#d8576b"
            ],
            [
             0.6666666666666666,
             "#ed7953"
            ],
            [
             0.7777777777777778,
             "#fb9f3a"
            ],
            [
             0.8888888888888888,
             "#fdca26"
            ],
            [
             1,
             "#f0f921"
            ]
           ]
          },
          "colorway": [
           "#636efa",
           "#EF553B",
           "#00cc96",
           "#ab63fa",
           "#FFA15A",
           "#19d3f3",
           "#FF6692",
           "#B6E880",
           "#FF97FF",
           "#FECB52"
          ],
          "font": {
           "color": "#2a3f5f"
          },
          "geo": {
           "bgcolor": "white",
           "lakecolor": "white",
           "landcolor": "#E5ECF6",
           "showlakes": true,
           "showland": true,
           "subunitcolor": "white"
          },
          "hoverlabel": {
           "align": "left"
          },
          "hovermode": "closest",
          "mapbox": {
           "style": "light"
          },
          "paper_bgcolor": "white",
          "plot_bgcolor": "#E5ECF6",
          "polar": {
           "angularaxis": {
            "gridcolor": "white",
            "linecolor": "white",
            "ticks": ""
           },
           "bgcolor": "#E5ECF6",
           "radialaxis": {
            "gridcolor": "white",
            "linecolor": "white",
            "ticks": ""
           }
          },
          "scene": {
           "xaxis": {
            "backgroundcolor": "#E5ECF6",
            "gridcolor": "white",
            "gridwidth": 2,
            "linecolor": "white",
            "showbackground": true,
            "ticks": "",
            "zerolinecolor": "white"
           },
           "yaxis": {
            "backgroundcolor": "#E5ECF6",
            "gridcolor": "white",
            "gridwidth": 2,
            "linecolor": "white",
            "showbackground": true,
            "ticks": "",
            "zerolinecolor": "white"
           },
           "zaxis": {
            "backgroundcolor": "#E5ECF6",
            "gridcolor": "white",
            "gridwidth": 2,
            "linecolor": "white",
            "showbackground": true,
            "ticks": "",
            "zerolinecolor": "white"
           }
          },
          "shapedefaults": {
           "line": {
            "color": "#2a3f5f"
           }
          },
          "ternary": {
           "aaxis": {
            "gridcolor": "white",
            "linecolor": "white",
            "ticks": ""
           },
           "baxis": {
            "gridcolor": "white",
            "linecolor": "white",
            "ticks": ""
           },
           "bgcolor": "#E5ECF6",
           "caxis": {
            "gridcolor": "white",
            "linecolor": "white",
            "ticks": ""
           }
          },
          "title": {
           "x": 0.05
          },
          "xaxis": {
           "automargin": true,
           "gridcolor": "white",
           "linecolor": "white",
           "ticks": "",
           "title": {
            "standoff": 15
           },
           "zerolinecolor": "white",
           "zerolinewidth": 2
          },
          "yaxis": {
           "automargin": true,
           "gridcolor": "white",
           "linecolor": "white",
           "ticks": "",
           "title": {
            "standoff": 15
           },
           "zerolinecolor": "white",
           "zerolinewidth": 2
          }
         }
        },
        "title": {
         "text": "Exchange - [itbi]"
        },
        "width": 800,
        "yaxis": {
         "title": {
          "text": "Price"
         }
        }
       }
      }
     },
     "metadata": {},
     "output_type": "display_data"
    },
    {
     "data": {
      "application/vnd.plotly.v1+json": {
       "config": {
        "plotlyServerURL": "https://plot.ly"
       },
       "data": [
        {
         "close": [
          47260,
          48500,
          49214.54,
          50227.97,
          50063.91,
          50244.25,
          50276.37,
          50965.74,
          50730.36,
          50645.41,
          50406.91,
          50212.6,
          49610.76,
          50140.49,
          49679.13,
          50095,
          50596.94,
          50684.06,
          50789.26,
          50901.73,
          50455.23,
          50121.89,
          50778.39,
          50360.62,
          51140.64,
          50742.99,
          49598.12,
          49470.1,
          49507.37,
          49424.75,
          49170.86,
          49869.66,
          49494.88,
          49393.64,
          49772.89,
          50095.84,
          49681.96,
          49612,
          49479.2,
          48974.48,
          48907.6,
          49179.75,
          48218.64,
          48811.21,
          48728.78,
          48894.23,
          49347.98,
          49766.06
         ],
         "high": [
          49130.5,
          48526.33,
          49380,
          50331.36,
          50613.36,
          50475,
          50573.45,
          51000,
          51397.44,
          50966.54,
          51015.63,
          50546.71,
          50703.1,
          50428.29,
          50183.63,
          50363.01,
          50899,
          50904.42,
          51058.84,
          51442.01,
          51044.54,
          50644.76,
          50957.67,
          50880.7,
          51212.69,
          51364.74,
          51114.68,
          49873.56,
          49792.18,
          49679.39,
          49669.02,
          49890.38,
          50138.01,
          49907.16,
          50016.49,
          50126.6,
          50128,
          50033.53,
          49732.31,
          49472.89,
          49255.71,
          49255.52,
          49171.5,
          48968.01,
          48790.49,
          49004.72,
          49579.74,
          49809.31
         ],
         "low": [
          47000.01,
          47243.76,
          48442.89,
          48764.28,
          49833,
          50033.6,
          50054.16,
          50236.69,
          50680.4,
          50350.01,
          50002.51,
          50200,
          49450.82,
          49543.68,
          49526.44,
          49704.76,
          49845.77,
          50302.63,
          50351.27,
          50789.26,
          50175.98,
          50121.89,
          50121.89,
          50238.25,
          50377.9,
          50614.12,
          49484.99,
          48940.12,
          49150,
          48730.24,
          48481.21,
          49009.85,
          49415.39,
          49306.35,
          49385.52,
          49647.68,
          49552.45,
          49602.48,
          49352.38,
          48900,
          48782.42,
          48626.66,
          48139,
          48139,
          48113.83,
          48505.47,
          48786.49,
          49401.74
         ],
         "open": [
          48923.48,
          47247.96,
          48510.28,
          49233.05,
          50257.72,
          50086.98,
          50200,
          50276.37,
          50943.71,
          50729.44,
          50713.91,
          50378.51,
          50253.37,
          49642.27,
          50125.63,
          49717.54,
          50041.59,
          50649.48,
          50689.09,
          50810.3,
          50915.34,
          50442.21,
          50152.87,
          50788.33,
          50409.14,
          51165.27,
          50784.52,
          49620.52,
          49480.62,
          49507.37,
          49435.86,
          49170.86,
          49898.58,
          49537.49,
          49391.94,
          49771.38,
          50122.58,
          49680.21,
          49612,
          49472.89,
          48971.4,
          48906.88,
          49106.84,
          48228.98,
          48790.49,
          48735.81,
          48852.32,
          49409.24
         ],
         "type": "candlestick",
         "x": [
          "2021-02-24T00:00:00",
          "2021-02-24T00:30:00",
          "2021-02-24T01:00:00",
          "2021-02-24T01:30:00",
          "2021-02-24T02:00:00",
          "2021-02-24T02:30:00",
          "2021-02-24T03:00:00",
          "2021-02-24T03:30:00",
          "2021-02-24T04:00:00",
          "2021-02-24T04:30:00",
          "2021-02-24T05:00:00",
          "2021-02-24T05:30:00",
          "2021-02-24T06:00:00",
          "2021-02-24T06:30:00",
          "2021-02-24T07:00:00",
          "2021-02-24T07:30:00",
          "2021-02-24T08:00:00",
          "2021-02-24T08:30:00",
          "2021-02-24T09:00:00",
          "2021-02-24T09:30:00",
          "2021-02-24T10:00:00",
          "2021-02-24T10:30:00",
          "2021-02-24T11:00:00",
          "2021-02-24T11:30:00",
          "2021-02-24T12:00:00",
          "2021-02-24T12:30:00",
          "2021-02-24T13:00:00",
          "2021-02-24T13:30:00",
          "2021-02-24T14:00:00",
          "2021-02-24T14:30:00",
          "2021-02-24T15:00:00",
          "2021-02-24T15:30:00",
          "2021-02-24T16:00:00",
          "2021-02-24T16:30:00",
          "2021-02-24T17:00:00",
          "2021-02-24T17:30:00",
          "2021-02-24T18:00:00",
          "2021-02-24T18:30:00",
          "2021-02-24T19:00:00",
          "2021-02-24T19:30:00",
          "2021-02-24T20:00:00",
          "2021-02-24T20:30:00",
          "2021-02-24T21:00:00",
          "2021-02-24T21:30:00",
          "2021-02-24T22:00:00",
          "2021-02-24T22:30:00",
          "2021-02-24T23:00:00",
          "2021-02-24T23:30:00"
         ]
        },
        {
         "line": {
          "color": "blue"
         },
         "mode": "lines",
         "name": "VWAP",
         "type": "scatter",
         "x": [
          "2021-02-24T00:00:00",
          "2021-02-24T00:30:00",
          "2021-02-24T01:00:00",
          "2021-02-24T01:30:00",
          "2021-02-24T02:00:00",
          "2021-02-24T02:30:00",
          "2021-02-24T03:00:00",
          "2021-02-24T03:30:00",
          "2021-02-24T04:00:00",
          "2021-02-24T04:30:00",
          "2021-02-24T05:00:00",
          "2021-02-24T05:30:00",
          "2021-02-24T06:00:00",
          "2021-02-24T06:30:00",
          "2021-02-24T07:00:00",
          "2021-02-24T07:30:00",
          "2021-02-24T08:00:00",
          "2021-02-24T08:30:00",
          "2021-02-24T09:00:00",
          "2021-02-24T09:30:00",
          "2021-02-24T10:00:00",
          "2021-02-24T10:30:00",
          "2021-02-24T11:00:00",
          "2021-02-24T11:30:00",
          "2021-02-24T12:00:00",
          "2021-02-24T12:30:00",
          "2021-02-24T13:00:00",
          "2021-02-24T13:30:00",
          "2021-02-24T14:00:00",
          "2021-02-24T14:30:00",
          "2021-02-24T15:00:00",
          "2021-02-24T15:30:00",
          "2021-02-24T16:00:00",
          "2021-02-24T16:30:00",
          "2021-02-24T17:00:00",
          "2021-02-24T17:30:00",
          "2021-02-24T18:00:00",
          "2021-02-24T18:30:00",
          "2021-02-24T19:00:00",
          "2021-02-24T19:30:00",
          "2021-02-24T20:00:00",
          "2021-02-24T20:30:00",
          "2021-02-24T21:00:00",
          "2021-02-24T21:30:00",
          "2021-02-24T22:00:00",
          "2021-02-24T22:30:00",
          "2021-02-24T23:00:00",
          "2021-02-24T23:30:00"
         ],
         "y": [
          48088.05724060977,
          47739.525201763834,
          48920.44041729446,
          49792.44107688895,
          50243.57274717887,
          50313.83776542457,
          50419.054950812286,
          50606.32791341467,
          51091.57227923541,
          50675.50795482062,
          50619.29798114271,
          50363.77643936219,
          49969.43703633729,
          49861.23479504169,
          49836.20838781554,
          50147.51346846708,
          50298.3393540203,
          50611.9844473016,
          50654.721982642244,
          51160.8076347489,
          50527.252509298334,
          50457.78889913752,
          50411.35447212552,
          50512.74061904266,
          50924.43346183508,
          50944.6735353043,
          50009.083641841076,
          49416.265872009295,
          49456.77807694266,
          49138.55280169971,
          49090.23791426778,
          49436.49531104092,
          49778.55681081506,
          49645.355330328486,
          49834.992135471584,
          49856.51065198119,
          49817.10960070929,
          49753.635433797455,
          49513.63666822169,
          49059.516611736406,
          49005.91193949095,
          48896.63671230099,
          48638.86105607284,
          48379.00205797182,
          48441.6014559856,
          48772.53478268317,
          49340.79450650814,
          49595.80716272125
         ]
        },
        {
         "line": {
          "color": "grey"
         },
         "mode": "lines",
         "name": "vwmp_lower",
         "type": "scatter",
         "x": [
          "2021-02-24T00:00:00",
          "2021-02-24T00:30:00",
          "2021-02-24T01:00:00",
          "2021-02-24T01:30:00",
          "2021-02-24T02:00:00",
          "2021-02-24T02:30:00",
          "2021-02-24T03:00:00",
          "2021-02-24T03:30:00",
          "2021-02-24T04:00:00",
          "2021-02-24T04:30:00",
          "2021-02-24T05:00:00",
          "2021-02-24T05:30:00",
          "2021-02-24T06:00:00",
          "2021-02-24T06:30:00",
          "2021-02-24T07:00:00",
          "2021-02-24T07:30:00",
          "2021-02-24T08:00:00",
          "2021-02-24T08:30:00",
          "2021-02-24T09:00:00",
          "2021-02-24T09:30:00",
          "2021-02-24T10:00:00",
          "2021-02-24T10:30:00",
          "2021-02-24T11:00:00",
          "2021-02-24T11:30:00",
          "2021-02-24T12:00:00",
          "2021-02-24T12:30:00",
          "2021-02-24T13:00:00",
          "2021-02-24T13:30:00",
          "2021-02-24T14:00:00",
          "2021-02-24T14:30:00",
          "2021-02-24T15:00:00",
          "2021-02-24T15:30:00",
          "2021-02-24T16:00:00",
          "2021-02-24T16:30:00",
          "2021-02-24T17:00:00",
          "2021-02-24T17:30:00",
          "2021-02-24T18:00:00",
          "2021-02-24T18:30:00",
          "2021-02-24T19:00:00",
          "2021-02-24T19:30:00",
          "2021-02-24T20:00:00",
          "2021-02-24T20:30:00",
          "2021-02-24T21:00:00",
          "2021-02-24T21:30:00",
          "2021-02-24T22:00:00",
          "2021-02-24T22:30:00",
          "2021-02-24T23:00:00",
          "2021-02-24T23:30:00"
         ],
         "y": [
          47064.77,
          47948.71,
          49199.99,
          49953.63,
          50520.3,
          50323.07,
          50523.54,
          50792.01,
          50969.05,
          50800,
          50263.12,
          50236.47,
          50077.48,
          49838.66,
          49779.38,
          50025.21,
          50051.82,
          50498.08,
          50523.1,
          51010.12,
          50558.38,
          50530.7,
          50268.48,
          50403.17,
          50844.55,
          50925.74,
          50000,
          49151.53,
          49571.01,
          49060,
          49280.22,
          49300.29,
          50048.47,
          49815.15,
          49821.18,
          49841.42,
          50029.28,
          49768.48,
          49448.61,
          49179.75,
          49112.8,
          49105.1,
          49007.54,
          48196.07,
          48511.01,
          48716.25,
          49441.85,
          49510.11
         ]
        }
       ],
       "layout": {
        "height": 300,
        "margin": {
         "b": 20,
         "l": 70,
         "r": 50,
         "t": 50
        },
        "template": {
         "data": {
          "bar": [
           {
            "error_x": {
             "color": "#2a3f5f"
            },
            "error_y": {
             "color": "#2a3f5f"
            },
            "marker": {
             "line": {
              "color": "#E5ECF6",
              "width": 0.5
             },
             "pattern": {
              "fillmode": "overlay",
              "size": 10,
              "solidity": 0.2
             }
            },
            "type": "bar"
           }
          ],
          "barpolar": [
           {
            "marker": {
             "line": {
              "color": "#E5ECF6",
              "width": 0.5
             },
             "pattern": {
              "fillmode": "overlay",
              "size": 10,
              "solidity": 0.2
             }
            },
            "type": "barpolar"
           }
          ],
          "carpet": [
           {
            "aaxis": {
             "endlinecolor": "#2a3f5f",
             "gridcolor": "white",
             "linecolor": "white",
             "minorgridcolor": "white",
             "startlinecolor": "#2a3f5f"
            },
            "baxis": {
             "endlinecolor": "#2a3f5f",
             "gridcolor": "white",
             "linecolor": "white",
             "minorgridcolor": "white",
             "startlinecolor": "#2a3f5f"
            },
            "type": "carpet"
           }
          ],
          "choropleth": [
           {
            "colorbar": {
             "outlinewidth": 0,
             "ticks": ""
            },
            "type": "choropleth"
           }
          ],
          "contour": [
           {
            "colorbar": {
             "outlinewidth": 0,
             "ticks": ""
            },
            "colorscale": [
             [
              0,
              "#0d0887"
             ],
             [
              0.1111111111111111,
              "#46039f"
             ],
             [
              0.2222222222222222,
              "#7201a8"
             ],
             [
              0.3333333333333333,
              "#9c179e"
             ],
             [
              0.4444444444444444,
              "#bd3786"
             ],
             [
              0.5555555555555556,
              "#d8576b"
             ],
             [
              0.6666666666666666,
              "#ed7953"
             ],
             [
              0.7777777777777778,
              "#fb9f3a"
             ],
             [
              0.8888888888888888,
              "#fdca26"
             ],
             [
              1,
              "#f0f921"
             ]
            ],
            "type": "contour"
           }
          ],
          "contourcarpet": [
           {
            "colorbar": {
             "outlinewidth": 0,
             "ticks": ""
            },
            "type": "contourcarpet"
           }
          ],
          "heatmap": [
           {
            "colorbar": {
             "outlinewidth": 0,
             "ticks": ""
            },
            "colorscale": [
             [
              0,
              "#0d0887"
             ],
             [
              0.1111111111111111,
              "#46039f"
             ],
             [
              0.2222222222222222,
              "#7201a8"
             ],
             [
              0.3333333333333333,
              "#9c179e"
             ],
             [
              0.4444444444444444,
              "#bd3786"
             ],
             [
              0.5555555555555556,
              "#d8576b"
             ],
             [
              0.6666666666666666,
              "#ed7953"
             ],
             [
              0.7777777777777778,
              "#fb9f3a"
             ],
             [
              0.8888888888888888,
              "#fdca26"
             ],
             [
              1,
              "#f0f921"
             ]
            ],
            "type": "heatmap"
           }
          ],
          "heatmapgl": [
           {
            "colorbar": {
             "outlinewidth": 0,
             "ticks": ""
            },
            "colorscale": [
             [
              0,
              "#0d0887"
             ],
             [
              0.1111111111111111,
              "#46039f"
             ],
             [
              0.2222222222222222,
              "#7201a8"
             ],
             [
              0.3333333333333333,
              "#9c179e"
             ],
             [
              0.4444444444444444,
              "#bd3786"
             ],
             [
              0.5555555555555556,
              "#d8576b"
             ],
             [
              0.6666666666666666,
              "#ed7953"
             ],
             [
              0.7777777777777778,
              "#fb9f3a"
             ],
             [
              0.8888888888888888,
              "#fdca26"
             ],
             [
              1,
              "#f0f921"
             ]
            ],
            "type": "heatmapgl"
           }
          ],
          "histogram": [
           {
            "marker": {
             "pattern": {
              "fillmode": "overlay",
              "size": 10,
              "solidity": 0.2
             }
            },
            "type": "histogram"
           }
          ],
          "histogram2d": [
           {
            "colorbar": {
             "outlinewidth": 0,
             "ticks": ""
            },
            "colorscale": [
             [
              0,
              "#0d0887"
             ],
             [
              0.1111111111111111,
              "#46039f"
             ],
             [
              0.2222222222222222,
              "#7201a8"
             ],
             [
              0.3333333333333333,
              "#9c179e"
             ],
             [
              0.4444444444444444,
              "#bd3786"
             ],
             [
              0.5555555555555556,
              "#d8576b"
             ],
             [
              0.6666666666666666,
              "#ed7953"
             ],
             [
              0.7777777777777778,
              "#fb9f3a"
             ],
             [
              0.8888888888888888,
              "#fdca26"
             ],
             [
              1,
              "#f0f921"
             ]
            ],
            "type": "histogram2d"
           }
          ],
          "histogram2dcontour": [
           {
            "colorbar": {
             "outlinewidth": 0,
             "ticks": ""
            },
            "colorscale": [
             [
              0,
              "#0d0887"
             ],
             [
              0.1111111111111111,
              "#46039f"
             ],
             [
              0.2222222222222222,
              "#7201a8"
             ],
             [
              0.3333333333333333,
              "#9c179e"
             ],
             [
              0.4444444444444444,
              "#bd3786"
             ],
             [
              0.5555555555555556,
              "#d8576b"
             ],
             [
              0.6666666666666666,
              "#ed7953"
             ],
             [
              0.7777777777777778,
              "#fb9f3a"
             ],
             [
              0.8888888888888888,
              "#fdca26"
             ],
             [
              1,
              "#f0f921"
             ]
            ],
            "type": "histogram2dcontour"
           }
          ],
          "mesh3d": [
           {
            "colorbar": {
             "outlinewidth": 0,
             "ticks": ""
            },
            "type": "mesh3d"
           }
          ],
          "parcoords": [
           {
            "line": {
             "colorbar": {
              "outlinewidth": 0,
              "ticks": ""
             }
            },
            "type": "parcoords"
           }
          ],
          "pie": [
           {
            "automargin": true,
            "type": "pie"
           }
          ],
          "scatter": [
           {
            "fillpattern": {
             "fillmode": "overlay",
             "size": 10,
             "solidity": 0.2
            },
            "type": "scatter"
           }
          ],
          "scatter3d": [
           {
            "line": {
             "colorbar": {
              "outlinewidth": 0,
              "ticks": ""
             }
            },
            "marker": {
             "colorbar": {
              "outlinewidth": 0,
              "ticks": ""
             }
            },
            "type": "scatter3d"
           }
          ],
          "scattercarpet": [
           {
            "marker": {
             "colorbar": {
              "outlinewidth": 0,
              "ticks": ""
             }
            },
            "type": "scattercarpet"
           }
          ],
          "scattergeo": [
           {
            "marker": {
             "colorbar": {
              "outlinewidth": 0,
              "ticks": ""
             }
            },
            "type": "scattergeo"
           }
          ],
          "scattergl": [
           {
            "marker": {
             "colorbar": {
              "outlinewidth": 0,
              "ticks": ""
             }
            },
            "type": "scattergl"
           }
          ],
          "scattermapbox": [
           {
            "marker": {
             "colorbar": {
              "outlinewidth": 0,
              "ticks": ""
             }
            },
            "type": "scattermapbox"
           }
          ],
          "scatterpolar": [
           {
            "marker": {
             "colorbar": {
              "outlinewidth": 0,
              "ticks": ""
             }
            },
            "type": "scatterpolar"
           }
          ],
          "scatterpolargl": [
           {
            "marker": {
             "colorbar": {
              "outlinewidth": 0,
              "ticks": ""
             }
            },
            "type": "scatterpolargl"
           }
          ],
          "scatterternary": [
           {
            "marker": {
             "colorbar": {
              "outlinewidth": 0,
              "ticks": ""
             }
            },
            "type": "scatterternary"
           }
          ],
          "surface": [
           {
            "colorbar": {
             "outlinewidth": 0,
             "ticks": ""
            },
            "colorscale": [
             [
              0,
              "#0d0887"
             ],
             [
              0.1111111111111111,
              "#46039f"
             ],
             [
              0.2222222222222222,
              "#7201a8"
             ],
             [
              0.3333333333333333,
              "#9c179e"
             ],
             [
              0.4444444444444444,
              "#bd3786"
             ],
             [
              0.5555555555555556,
              "#d8576b"
             ],
             [
              0.6666666666666666,
              "#ed7953"
             ],
             [
              0.7777777777777778,
              "#fb9f3a"
             ],
             [
              0.8888888888888888,
              "#fdca26"
             ],
             [
              1,
              "#f0f921"
             ]
            ],
            "type": "surface"
           }
          ],
          "table": [
           {
            "cells": {
             "fill": {
              "color": "#EBF0F8"
             },
             "line": {
              "color": "white"
             }
            },
            "header": {
             "fill": {
              "color": "#C8D4E3"
             },
             "line": {
              "color": "white"
             }
            },
            "type": "table"
           }
          ]
         },
         "layout": {
          "annotationdefaults": {
           "arrowcolor": "#2a3f5f",
           "arrowhead": 0,
           "arrowwidth": 1
          },
          "autotypenumbers": "strict",
          "coloraxis": {
           "colorbar": {
            "outlinewidth": 0,
            "ticks": ""
           }
          },
          "colorscale": {
           "diverging": [
            [
             0,
             "#8e0152"
            ],
            [
             0.1,
             "#c51b7d"
            ],
            [
             0.2,
             "#de77ae"
            ],
            [
             0.3,
             "#f1b6da"
            ],
            [
             0.4,
             "#fde0ef"
            ],
            [
             0.5,
             "#f7f7f7"
            ],
            [
             0.6,
             "#e6f5d0"
            ],
            [
             0.7,
             "#b8e186"
            ],
            [
             0.8,
             "#7fbc41"
            ],
            [
             0.9,
             "#4d9221"
            ],
            [
             1,
             "#276419"
            ]
           ],
           "sequential": [
            [
             0,
             "#0d0887"
            ],
            [
             0.1111111111111111,
             "#46039f"
            ],
            [
             0.2222222222222222,
             "#7201a8"
            ],
            [
             0.3333333333333333,
             "#9c179e"
            ],
            [
             0.4444444444444444,
             "#bd3786"
            ],
            [
             0.5555555555555556,
             "#d8576b"
            ],
            [
             0.6666666666666666,
             "#ed7953"
            ],
            [
             0.7777777777777778,
             "#fb9f3a"
            ],
            [
             0.8888888888888888,
             "#fdca26"
            ],
            [
             1,
             "#f0f921"
            ]
           ],
           "sequentialminus": [
            [
             0,
             "#0d0887"
            ],
            [
             0.1111111111111111,
             "#46039f"
            ],
            [
             0.2222222222222222,
             "#7201a8"
            ],
            [
             0.3333333333333333,
             "#9c179e"
            ],
            [
             0.4444444444444444,
             "#bd3786"
            ],
            [
             0.5555555555555556,
             "#d8576b"
            ],
            [
             0.6666666666666666,
             "#ed7953"
            ],
            [
             0.7777777777777778,
             "#fb9f3a"
            ],
            [
             0.8888888888888888,
             "#fdca26"
            ],
            [
             1,
             "#f0f921"
            ]
           ]
          },
          "colorway": [
           "#636efa",
           "#EF553B",
           "#00cc96",
           "#ab63fa",
           "#FFA15A",
           "#19d3f3",
           "#FF6692",
           "#B6E880",
           "#FF97FF",
           "#FECB52"
          ],
          "font": {
           "color": "#2a3f5f"
          },
          "geo": {
           "bgcolor": "white",
           "lakecolor": "white",
           "landcolor": "#E5ECF6",
           "showlakes": true,
           "showland": true,
           "subunitcolor": "white"
          },
          "hoverlabel": {
           "align": "left"
          },
          "hovermode": "closest",
          "mapbox": {
           "style": "light"
          },
          "paper_bgcolor": "white",
          "plot_bgcolor": "#E5ECF6",
          "polar": {
           "angularaxis": {
            "gridcolor": "white",
            "linecolor": "white",
            "ticks": ""
           },
           "bgcolor": "#E5ECF6",
           "radialaxis": {
            "gridcolor": "white",
            "linecolor": "white",
            "ticks": ""
           }
          },
          "scene": {
           "xaxis": {
            "backgroundcolor": "#E5ECF6",
            "gridcolor": "white",
            "gridwidth": 2,
            "linecolor": "white",
            "showbackground": true,
            "ticks": "",
            "zerolinecolor": "white"
           },
           "yaxis": {
            "backgroundcolor": "#E5ECF6",
            "gridcolor": "white",
            "gridwidth": 2,
            "linecolor": "white",
            "showbackground": true,
            "ticks": "",
            "zerolinecolor": "white"
           },
           "zaxis": {
            "backgroundcolor": "#E5ECF6",
            "gridcolor": "white",
            "gridwidth": 2,
            "linecolor": "white",
            "showbackground": true,
            "ticks": "",
            "zerolinecolor": "white"
           }
          },
          "shapedefaults": {
           "line": {
            "color": "#2a3f5f"
           }
          },
          "ternary": {
           "aaxis": {
            "gridcolor": "white",
            "linecolor": "white",
            "ticks": ""
           },
           "baxis": {
            "gridcolor": "white",
            "linecolor": "white",
            "ticks": ""
           },
           "bgcolor": "#E5ECF6",
           "caxis": {
            "gridcolor": "white",
            "linecolor": "white",
            "ticks": ""
           }
          },
          "title": {
           "x": 0.05
          },
          "xaxis": {
           "automargin": true,
           "gridcolor": "white",
           "linecolor": "white",
           "ticks": "",
           "title": {
            "standoff": 15
           },
           "zerolinecolor": "white",
           "zerolinewidth": 2
          },
          "yaxis": {
           "automargin": true,
           "gridcolor": "white",
           "linecolor": "white",
           "ticks": "",
           "title": {
            "standoff": 15
           },
           "zerolinecolor": "white",
           "zerolinewidth": 2
          }
         }
        },
        "title": {
         "text": "Exchange - [gmni]"
        },
        "width": 800,
        "yaxis": {
         "title": {
          "text": "Price"
         }
        }
       }
      }
     },
     "metadata": {},
     "output_type": "display_data"
    },
    {
     "data": {
      "application/vnd.plotly.v1+json": {
       "config": {
        "plotlyServerURL": "https://plot.ly"
       },
       "data": [
        {
         "close": [
          47265.5,
          48504,
          49192,
          50160.5,
          50018,
          50191.5,
          50276.5,
          50929,
          50766.4,
          50623,
          50377.5,
          50236.5,
          49677.5,
          50096,
          49678.5,
          50078,
          50673,
          50674.5,
          50776,
          50896.5,
          50568.5,
          50136.5,
          50769,
          50388.5,
          51171.5,
          50714.5,
          49595,
          49468,
          49477,
          49443.5,
          49148,
          49845.81,
          49490,
          49362.5,
          49734.23,
          50076,
          49683,
          49611,
          49483,
          49001,
          48918,
          49179.5,
          48225,
          48802.5,
          48684,
          48878.5,
          49355,
          49767
         ],
         "high": [
          49080.5,
          48504,
          49378.5,
          50240.88,
          50569.5,
          50485,
          50541.5,
          50999.5,
          51409,
          50968,
          51032.5,
          50543.5,
          50691,
          50389.5,
          50182.5,
          50358.5,
          50901.5,
          50888,
          50986.25,
          51449.5,
          51068.9,
          50671.5,
          50910.5,
          50885.5,
          51201,
          51297.5,
          51089.5,
          49853.75,
          49793.75,
          49667,
          49639,
          49877.5,
          50143.5,
          49853.5,
          49981.5,
          50102,
          50097.5,
          50044.5,
          49731.5,
          49465.5,
          49270.5,
          49259.5,
          49175,
          48908,
          48723.499,
          48995.5,
          49548,
          49792
         ],
         "low": [
          46918.718,
          47248.5,
          48438,
          48753.5,
          49799.5,
          50033,
          50073.75,
          50238.5,
          50705,
          50353.25,
          50028.5,
          50236.5,
          49475,
          49589.5,
          49566,
          49720,
          49770.5,
          50340,
          50389,
          50800,
          50198.5,
          50127.5,
          50152.63,
          50220,
          50374,
          50643,
          49475.5,
          49045,
          49169,
          48738.5,
          48458,
          49016,
          49382.5,
          49343,
          49355.5,
          49616,
          49551,
          49605,
          49357.5,
          48855.5,
          48781,
          48634.5,
          48149.5,
          48148,
          48036.5,
          48489,
          48780,
          49365
         ],
         "open": [
          48892.5,
          47248.5,
          48495,
          49209.5,
          50181,
          50120,
          50171,
          50254,
          50937.25,
          50819,
          50761.6,
          50379,
          50225.5,
          49644.5,
          50099.75,
          49720,
          50037.5,
          50665,
          50679.5,
          50834,
          50994,
          50473,
          50160.5,
          50767.5,
          50397.1,
          51140,
          50788,
          49723,
          49603.5,
          49544.5,
          49441.5,
          49124,
          49866,
          49508,
          49401,
          49731.5,
          50077.5,
          49682.5,
          49628.001,
          49465.5,
          48978.5,
          48886.5,
          49171.5,
          48206.5,
          48375.75,
          48697.5,
          48843,
          49394.5
         ],
         "type": "candlestick",
         "x": [
          "2021-02-24T00:00:00",
          "2021-02-24T00:30:00",
          "2021-02-24T01:00:00",
          "2021-02-24T01:30:00",
          "2021-02-24T02:00:00",
          "2021-02-24T02:30:00",
          "2021-02-24T03:00:00",
          "2021-02-24T03:30:00",
          "2021-02-24T04:00:00",
          "2021-02-24T04:30:00",
          "2021-02-24T05:00:00",
          "2021-02-24T05:30:00",
          "2021-02-24T06:00:00",
          "2021-02-24T06:30:00",
          "2021-02-24T07:00:00",
          "2021-02-24T07:30:00",
          "2021-02-24T08:00:00",
          "2021-02-24T08:30:00",
          "2021-02-24T09:00:00",
          "2021-02-24T09:30:00",
          "2021-02-24T10:00:00",
          "2021-02-24T10:30:00",
          "2021-02-24T11:00:00",
          "2021-02-24T11:30:00",
          "2021-02-24T12:00:00",
          "2021-02-24T12:30:00",
          "2021-02-24T13:00:00",
          "2021-02-24T13:30:00",
          "2021-02-24T14:00:00",
          "2021-02-24T14:30:00",
          "2021-02-24T15:00:00",
          "2021-02-24T15:30:00",
          "2021-02-24T16:00:00",
          "2021-02-24T16:30:00",
          "2021-02-24T17:00:00",
          "2021-02-24T17:30:00",
          "2021-02-24T18:00:00",
          "2021-02-24T18:30:00",
          "2021-02-24T19:00:00",
          "2021-02-24T19:30:00",
          "2021-02-24T20:00:00",
          "2021-02-24T20:30:00",
          "2021-02-24T21:00:00",
          "2021-02-24T21:30:00",
          "2021-02-24T22:00:00",
          "2021-02-24T22:30:00",
          "2021-02-24T23:00:00",
          "2021-02-24T23:30:00"
         ]
        },
        {
         "line": {
          "color": "blue"
         },
         "mode": "lines",
         "name": "VWAP",
         "type": "scatter",
         "x": [
          "2021-02-24T00:00:00",
          "2021-02-24T00:30:00",
          "2021-02-24T01:00:00",
          "2021-02-24T01:30:00",
          "2021-02-24T02:00:00",
          "2021-02-24T02:30:00",
          "2021-02-24T03:00:00",
          "2021-02-24T03:30:00",
          "2021-02-24T04:00:00",
          "2021-02-24T04:30:00",
          "2021-02-24T05:00:00",
          "2021-02-24T05:30:00",
          "2021-02-24T06:00:00",
          "2021-02-24T06:30:00",
          "2021-02-24T07:00:00",
          "2021-02-24T07:30:00",
          "2021-02-24T08:00:00",
          "2021-02-24T08:30:00",
          "2021-02-24T09:00:00",
          "2021-02-24T09:30:00",
          "2021-02-24T10:00:00",
          "2021-02-24T10:30:00",
          "2021-02-24T11:00:00",
          "2021-02-24T11:30:00",
          "2021-02-24T12:00:00",
          "2021-02-24T12:30:00",
          "2021-02-24T13:00:00",
          "2021-02-24T13:30:00",
          "2021-02-24T14:00:00",
          "2021-02-24T14:30:00",
          "2021-02-24T15:00:00",
          "2021-02-24T15:30:00",
          "2021-02-24T16:00:00",
          "2021-02-24T16:30:00",
          "2021-02-24T17:00:00",
          "2021-02-24T17:30:00",
          "2021-02-24T18:00:00",
          "2021-02-24T18:30:00",
          "2021-02-24T19:00:00",
          "2021-02-24T19:30:00",
          "2021-02-24T20:00:00",
          "2021-02-24T20:30:00",
          "2021-02-24T21:00:00",
          "2021-02-24T21:30:00",
          "2021-02-24T22:00:00",
          "2021-02-24T22:30:00",
          "2021-02-24T23:00:00",
          "2021-02-24T23:30:00"
         ],
         "y": [
          47923.72045552094,
          47760.00456924093,
          48832.624215141004,
          49645.5867061371,
          50178.72898162321,
          50284.92545233664,
          50370.163922537235,
          50530.16552293471,
          51099.14920349855,
          50651.06071941596,
          50510.15996953068,
          50356.46022731128,
          50120.820853247424,
          49943.46165431721,
          49827.531238749216,
          50133.890259993124,
          50481.89288962062,
          50632.436815829344,
          50733.72347189549,
          51164.414956902074,
          50656.12000743695,
          50446.67081161076,
          50554.69342244831,
          50468.16908887508,
          50846.10694643108,
          50962.39692908957,
          50170.204952688786,
          49389.50646058745,
          49465.283186129855,
          49172.39045656827,
          48998.31408920082,
          49553.17179078323,
          49810.942307229416,
          49647.82037434024,
          49825.89035021053,
          49860.540783795215,
          49778.48039309281,
          49824.27735560814,
          49501.169612062025,
          49076.56758404598,
          49019.34953354352,
          48904.14372017298,
          48561.21740247919,
          48426.794942483146,
          48425.668231974196,
          48792.79527989508,
          49302.02358409101,
          49604.11043814432
         ]
        },
        {
         "line": {
          "color": "grey"
         },
         "mode": "lines",
         "name": "vwmp_lower",
         "type": "scatter",
         "x": [
          "2021-02-24T00:00:00",
          "2021-02-24T00:30:00",
          "2021-02-24T01:00:00",
          "2021-02-24T01:30:00",
          "2021-02-24T02:00:00",
          "2021-02-24T02:30:00",
          "2021-02-24T03:00:00",
          "2021-02-24T03:30:00",
          "2021-02-24T04:00:00",
          "2021-02-24T04:30:00",
          "2021-02-24T05:00:00",
          "2021-02-24T05:30:00",
          "2021-02-24T06:00:00",
          "2021-02-24T06:30:00",
          "2021-02-24T07:00:00",
          "2021-02-24T07:30:00",
          "2021-02-24T08:00:00",
          "2021-02-24T08:30:00",
          "2021-02-24T09:00:00",
          "2021-02-24T09:30:00",
          "2021-02-24T10:00:00",
          "2021-02-24T10:30:00",
          "2021-02-24T11:00:00",
          "2021-02-24T11:30:00",
          "2021-02-24T12:00:00",
          "2021-02-24T12:30:00",
          "2021-02-24T13:00:00",
          "2021-02-24T13:30:00",
          "2021-02-24T14:00:00",
          "2021-02-24T14:30:00",
          "2021-02-24T15:00:00",
          "2021-02-24T15:30:00",
          "2021-02-24T16:00:00",
          "2021-02-24T16:30:00",
          "2021-02-24T17:00:00",
          "2021-02-24T17:30:00",
          "2021-02-24T18:00:00",
          "2021-02-24T18:30:00",
          "2021-02-24T19:00:00",
          "2021-02-24T19:30:00",
          "2021-02-24T20:00:00",
          "2021-02-24T20:30:00",
          "2021-02-24T21:00:00",
          "2021-02-24T21:30:00",
          "2021-02-24T22:00:00",
          "2021-02-24T22:30:00",
          "2021-02-24T23:00:00",
          "2021-02-24T23:30:00"
         ],
         "y": [
          48922.5,
          47615.5,
          48514,
          50020,
          50210,
          50377.5,
          50381.75,
          50462.5,
          51189.5,
          50648.5,
          50251,
          50266.5,
          50499,
          50006.5,
          49823,
          50076.5,
          50386.5,
          50732.5,
          50542.9,
          51134,
          50578,
          50581,
          50319,
          50727.5,
          50585,
          50841,
          49535.5,
          49306,
          49715,
          49066.5,
          49066.5,
          49537,
          49756.5,
          49595,
          49744,
          49851,
          49577.2,
          49868.5,
          49413.5,
          49099,
          48840.5,
          48742,
          48206.5,
          48349,
          48587,
          48814.5,
          49367,
          49590.5
         ]
        }
       ],
       "layout": {
        "height": 300,
        "margin": {
         "b": 20,
         "l": 70,
         "r": 50,
         "t": 50
        },
        "template": {
         "data": {
          "bar": [
           {
            "error_x": {
             "color": "#2a3f5f"
            },
            "error_y": {
             "color": "#2a3f5f"
            },
            "marker": {
             "line": {
              "color": "#E5ECF6",
              "width": 0.5
             },
             "pattern": {
              "fillmode": "overlay",
              "size": 10,
              "solidity": 0.2
             }
            },
            "type": "bar"
           }
          ],
          "barpolar": [
           {
            "marker": {
             "line": {
              "color": "#E5ECF6",
              "width": 0.5
             },
             "pattern": {
              "fillmode": "overlay",
              "size": 10,
              "solidity": 0.2
             }
            },
            "type": "barpolar"
           }
          ],
          "carpet": [
           {
            "aaxis": {
             "endlinecolor": "#2a3f5f",
             "gridcolor": "white",
             "linecolor": "white",
             "minorgridcolor": "white",
             "startlinecolor": "#2a3f5f"
            },
            "baxis": {
             "endlinecolor": "#2a3f5f",
             "gridcolor": "white",
             "linecolor": "white",
             "minorgridcolor": "white",
             "startlinecolor": "#2a3f5f"
            },
            "type": "carpet"
           }
          ],
          "choropleth": [
           {
            "colorbar": {
             "outlinewidth": 0,
             "ticks": ""
            },
            "type": "choropleth"
           }
          ],
          "contour": [
           {
            "colorbar": {
             "outlinewidth": 0,
             "ticks": ""
            },
            "colorscale": [
             [
              0,
              "#0d0887"
             ],
             [
              0.1111111111111111,
              "#46039f"
             ],
             [
              0.2222222222222222,
              "#7201a8"
             ],
             [
              0.3333333333333333,
              "#9c179e"
             ],
             [
              0.4444444444444444,
              "#bd3786"
             ],
             [
              0.5555555555555556,
              "#d8576b"
             ],
             [
              0.6666666666666666,
              "#ed7953"
             ],
             [
              0.7777777777777778,
              "#fb9f3a"
             ],
             [
              0.8888888888888888,
              "#fdca26"
             ],
             [
              1,
              "#f0f921"
             ]
            ],
            "type": "contour"
           }
          ],
          "contourcarpet": [
           {
            "colorbar": {
             "outlinewidth": 0,
             "ticks": ""
            },
            "type": "contourcarpet"
           }
          ],
          "heatmap": [
           {
            "colorbar": {
             "outlinewidth": 0,
             "ticks": ""
            },
            "colorscale": [
             [
              0,
              "#0d0887"
             ],
             [
              0.1111111111111111,
              "#46039f"
             ],
             [
              0.2222222222222222,
              "#7201a8"
             ],
             [
              0.3333333333333333,
              "#9c179e"
             ],
             [
              0.4444444444444444,
              "#bd3786"
             ],
             [
              0.5555555555555556,
              "#d8576b"
             ],
             [
              0.6666666666666666,
              "#ed7953"
             ],
             [
              0.7777777777777778,
              "#fb9f3a"
             ],
             [
              0.8888888888888888,
              "#fdca26"
             ],
             [
              1,
              "#f0f921"
             ]
            ],
            "type": "heatmap"
           }
          ],
          "heatmapgl": [
           {
            "colorbar": {
             "outlinewidth": 0,
             "ticks": ""
            },
            "colorscale": [
             [
              0,
              "#0d0887"
             ],
             [
              0.1111111111111111,
              "#46039f"
             ],
             [
              0.2222222222222222,
              "#7201a8"
             ],
             [
              0.3333333333333333,
              "#9c179e"
             ],
             [
              0.4444444444444444,
              "#bd3786"
             ],
             [
              0.5555555555555556,
              "#d8576b"
             ],
             [
              0.6666666666666666,
              "#ed7953"
             ],
             [
              0.7777777777777778,
              "#fb9f3a"
             ],
             [
              0.8888888888888888,
              "#fdca26"
             ],
             [
              1,
              "#f0f921"
             ]
            ],
            "type": "heatmapgl"
           }
          ],
          "histogram": [
           {
            "marker": {
             "pattern": {
              "fillmode": "overlay",
              "size": 10,
              "solidity": 0.2
             }
            },
            "type": "histogram"
           }
          ],
          "histogram2d": [
           {
            "colorbar": {
             "outlinewidth": 0,
             "ticks": ""
            },
            "colorscale": [
             [
              0,
              "#0d0887"
             ],
             [
              0.1111111111111111,
              "#46039f"
             ],
             [
              0.2222222222222222,
              "#7201a8"
             ],
             [
              0.3333333333333333,
              "#9c179e"
             ],
             [
              0.4444444444444444,
              "#bd3786"
             ],
             [
              0.5555555555555556,
              "#d8576b"
             ],
             [
              0.6666666666666666,
              "#ed7953"
             ],
             [
              0.7777777777777778,
              "#fb9f3a"
             ],
             [
              0.8888888888888888,
              "#fdca26"
             ],
             [
              1,
              "#f0f921"
             ]
            ],
            "type": "histogram2d"
           }
          ],
          "histogram2dcontour": [
           {
            "colorbar": {
             "outlinewidth": 0,
             "ticks": ""
            },
            "colorscale": [
             [
              0,
              "#0d0887"
             ],
             [
              0.1111111111111111,
              "#46039f"
             ],
             [
              0.2222222222222222,
              "#7201a8"
             ],
             [
              0.3333333333333333,
              "#9c179e"
             ],
             [
              0.4444444444444444,
              "#bd3786"
             ],
             [
              0.5555555555555556,
              "#d8576b"
             ],
             [
              0.6666666666666666,
              "#ed7953"
             ],
             [
              0.7777777777777778,
              "#fb9f3a"
             ],
             [
              0.8888888888888888,
              "#fdca26"
             ],
             [
              1,
              "#f0f921"
             ]
            ],
            "type": "histogram2dcontour"
           }
          ],
          "mesh3d": [
           {
            "colorbar": {
             "outlinewidth": 0,
             "ticks": ""
            },
            "type": "mesh3d"
           }
          ],
          "parcoords": [
           {
            "line": {
             "colorbar": {
              "outlinewidth": 0,
              "ticks": ""
             }
            },
            "type": "parcoords"
           }
          ],
          "pie": [
           {
            "automargin": true,
            "type": "pie"
           }
          ],
          "scatter": [
           {
            "fillpattern": {
             "fillmode": "overlay",
             "size": 10,
             "solidity": 0.2
            },
            "type": "scatter"
           }
          ],
          "scatter3d": [
           {
            "line": {
             "colorbar": {
              "outlinewidth": 0,
              "ticks": ""
             }
            },
            "marker": {
             "colorbar": {
              "outlinewidth": 0,
              "ticks": ""
             }
            },
            "type": "scatter3d"
           }
          ],
          "scattercarpet": [
           {
            "marker": {
             "colorbar": {
              "outlinewidth": 0,
              "ticks": ""
             }
            },
            "type": "scattercarpet"
           }
          ],
          "scattergeo": [
           {
            "marker": {
             "colorbar": {
              "outlinewidth": 0,
              "ticks": ""
             }
            },
            "type": "scattergeo"
           }
          ],
          "scattergl": [
           {
            "marker": {
             "colorbar": {
              "outlinewidth": 0,
              "ticks": ""
             }
            },
            "type": "scattergl"
           }
          ],
          "scattermapbox": [
           {
            "marker": {
             "colorbar": {
              "outlinewidth": 0,
              "ticks": ""
             }
            },
            "type": "scattermapbox"
           }
          ],
          "scatterpolar": [
           {
            "marker": {
             "colorbar": {
              "outlinewidth": 0,
              "ticks": ""
             }
            },
            "type": "scatterpolar"
           }
          ],
          "scatterpolargl": [
           {
            "marker": {
             "colorbar": {
              "outlinewidth": 0,
              "ticks": ""
             }
            },
            "type": "scatterpolargl"
           }
          ],
          "scatterternary": [
           {
            "marker": {
             "colorbar": {
              "outlinewidth": 0,
              "ticks": ""
             }
            },
            "type": "scatterternary"
           }
          ],
          "surface": [
           {
            "colorbar": {
             "outlinewidth": 0,
             "ticks": ""
            },
            "colorscale": [
             [
              0,
              "#0d0887"
             ],
             [
              0.1111111111111111,
              "#46039f"
             ],
             [
              0.2222222222222222,
              "#7201a8"
             ],
             [
              0.3333333333333333,
              "#9c179e"
             ],
             [
              0.4444444444444444,
              "#bd3786"
             ],
             [
              0.5555555555555556,
              "#d8576b"
             ],
             [
              0.6666666666666666,
              "#ed7953"
             ],
             [
              0.7777777777777778,
              "#fb9f3a"
             ],
             [
              0.8888888888888888,
              "#fdca26"
             ],
             [
              1,
              "#f0f921"
             ]
            ],
            "type": "surface"
           }
          ],
          "table": [
           {
            "cells": {
             "fill": {
              "color": "#EBF0F8"
             },
             "line": {
              "color": "white"
             }
            },
            "header": {
             "fill": {
              "color": "#C8D4E3"
             },
             "line": {
              "color": "white"
             }
            },
            "type": "table"
           }
          ]
         },
         "layout": {
          "annotationdefaults": {
           "arrowcolor": "#2a3f5f",
           "arrowhead": 0,
           "arrowwidth": 1
          },
          "autotypenumbers": "strict",
          "coloraxis": {
           "colorbar": {
            "outlinewidth": 0,
            "ticks": ""
           }
          },
          "colorscale": {
           "diverging": [
            [
             0,
             "#8e0152"
            ],
            [
             0.1,
             "#c51b7d"
            ],
            [
             0.2,
             "#de77ae"
            ],
            [
             0.3,
             "#f1b6da"
            ],
            [
             0.4,
             "#fde0ef"
            ],
            [
             0.5,
             "#f7f7f7"
            ],
            [
             0.6,
             "#e6f5d0"
            ],
            [
             0.7,
             "#b8e186"
            ],
            [
             0.8,
             "#7fbc41"
            ],
            [
             0.9,
             "#4d9221"
            ],
            [
             1,
             "#276419"
            ]
           ],
           "sequential": [
            [
             0,
             "#0d0887"
            ],
            [
             0.1111111111111111,
             "#46039f"
            ],
            [
             0.2222222222222222,
             "#7201a8"
            ],
            [
             0.3333333333333333,
             "#9c179e"
            ],
            [
             0.4444444444444444,
             "#bd3786"
            ],
            [
             0.5555555555555556,
             "#d8576b"
            ],
            [
             0.6666666666666666,
             "#ed7953"
            ],
            [
             0.7777777777777778,
             "#fb9f3a"
            ],
            [
             0.8888888888888888,
             "#fdca26"
            ],
            [
             1,
             "#f0f921"
            ]
           ],
           "sequentialminus": [
            [
             0,
             "#0d0887"
            ],
            [
             0.1111111111111111,
             "#46039f"
            ],
            [
             0.2222222222222222,
             "#7201a8"
            ],
            [
             0.3333333333333333,
             "#9c179e"
            ],
            [
             0.4444444444444444,
             "#bd3786"
            ],
            [
             0.5555555555555556,
             "#d8576b"
            ],
            [
             0.6666666666666666,
             "#ed7953"
            ],
            [
             0.7777777777777778,
             "#fb9f3a"
            ],
            [
             0.8888888888888888,
             "#fdca26"
            ],
            [
             1,
             "#f0f921"
            ]
           ]
          },
          "colorway": [
           "#636efa",
           "#EF553B",
           "#00cc96",
           "#ab63fa",
           "#FFA15A",
           "#19d3f3",
           "#FF6692",
           "#B6E880",
           "#FF97FF",
           "#FECB52"
          ],
          "font": {
           "color": "#2a3f5f"
          },
          "geo": {
           "bgcolor": "white",
           "lakecolor": "white",
           "landcolor": "#E5ECF6",
           "showlakes": true,
           "showland": true,
           "subunitcolor": "white"
          },
          "hoverlabel": {
           "align": "left"
          },
          "hovermode": "closest",
          "mapbox": {
           "style": "light"
          },
          "paper_bgcolor": "white",
          "plot_bgcolor": "#E5ECF6",
          "polar": {
           "angularaxis": {
            "gridcolor": "white",
            "linecolor": "white",
            "ticks": ""
           },
           "bgcolor": "#E5ECF6",
           "radialaxis": {
            "gridcolor": "white",
            "linecolor": "white",
            "ticks": ""
           }
          },
          "scene": {
           "xaxis": {
            "backgroundcolor": "#E5ECF6",
            "gridcolor": "white",
            "gridwidth": 2,
            "linecolor": "white",
            "showbackground": true,
            "ticks": "",
            "zerolinecolor": "white"
           },
           "yaxis": {
            "backgroundcolor": "#E5ECF6",
            "gridcolor": "white",
            "gridwidth": 2,
            "linecolor": "white",
            "showbackground": true,
            "ticks": "",
            "zerolinecolor": "white"
           },
           "zaxis": {
            "backgroundcolor": "#E5ECF6",
            "gridcolor": "white",
            "gridwidth": 2,
            "linecolor": "white",
            "showbackground": true,
            "ticks": "",
            "zerolinecolor": "white"
           }
          },
          "shapedefaults": {
           "line": {
            "color": "#2a3f5f"
           }
          },
          "ternary": {
           "aaxis": {
            "gridcolor": "white",
            "linecolor": "white",
            "ticks": ""
           },
           "baxis": {
            "gridcolor": "white",
            "linecolor": "white",
            "ticks": ""
           },
           "bgcolor": "#E5ECF6",
           "caxis": {
            "gridcolor": "white",
            "linecolor": "white",
            "ticks": ""
           }
          },
          "title": {
           "x": 0.05
          },
          "xaxis": {
           "automargin": true,
           "gridcolor": "white",
           "linecolor": "white",
           "ticks": "",
           "title": {
            "standoff": 15
           },
           "zerolinecolor": "white",
           "zerolinewidth": 2
          },
          "yaxis": {
           "automargin": true,
           "gridcolor": "white",
           "linecolor": "white",
           "ticks": "",
           "title": {
            "standoff": 15
           },
           "zerolinecolor": "white",
           "zerolinewidth": 2
          }
         }
        },
        "title": {
         "text": "Exchange - [lmax]"
        },
        "width": 800,
        "yaxis": {
         "title": {
          "text": "Price"
         }
        }
       }
      }
     },
     "metadata": {},
     "output_type": "display_data"
    },
    {
     "data": {
      "application/vnd.plotly.v1+json": {
       "config": {
        "plotlyServerURL": "https://plot.ly"
       },
       "data": [
        {
         "close": [
          47239.68,
          48504,
          49155.93,
          50206.74,
          50045.09,
          50202.83,
          50278.19,
          50939.95,
          50721.44,
          50650.54,
          50396.77,
          50245.64,
          49687.12,
          50109.14,
          49702.15,
          50060.64,
          50633.95,
          50700.14,
          50810.51,
          50889.26,
          50434.52,
          50115.03,
          50778.74,
          50381.65,
          51119.17,
          50709.43,
          49606.85,
          49494.86,
          49487.9,
          49432.76,
          49181.8,
          49847.54,
          49518.52,
          49371.52,
          49738.59,
          50086.38,
          49704.48,
          49618.4,
          49451.55,
          48991.68,
          48923.63,
          49178.11,
          48196.08,
          48786.95,
          48712.35,
          48843.17,
          49350.47,
          49754
         ],
         "high": [
          49098.88,
          48517.93,
          49355.73,
          50232,
          50820.16,
          50485.11,
          50540,
          51000,
          51459.51,
          50962.54,
          51039,
          50552.88,
          50710.31,
          50406.83,
          50173.64,
          50350.29,
          50910.53,
          51089.72,
          51020.66,
          51443.47,
          51051,
          50648.89,
          50920.97,
          50867.99,
          51203.95,
          51310.99,
          51100,
          49863.23,
          49787.02,
          49664.18,
          49643.07,
          49884.52,
          50155,
          49892.65,
          49997.49,
          50099.91,
          50091.97,
          50022.34,
          49748.4,
          49450.88,
          49293.55,
          49262.14,
          49191.28,
          48946.4,
          48770.64,
          48995.2,
          49558.02,
          49789.41
         ],
         "low": [
          47000,
          47275.7,
          48425.2,
          48740.75,
          49815.26,
          50047.6,
          50090,
          50238.81,
          50689.07,
          50342.26,
          50000,
          50200,
          49443.41,
          49575,
          49531.41,
          49712.25,
          49812,
          50340.01,
          50387.22,
          50797.05,
          50160.49,
          50096.98,
          50127.39,
          50220.72,
          50364.29,
          50620.44,
          49500,
          49050,
          49100.7,
          48729.36,
          48488.51,
          49000.08,
          49418.88,
          49328.53,
          49354.01,
          49629.06,
          49545.55,
          49596.7,
          49367.7,
          48850.23,
          48764.54,
          48615.55,
          48156.63,
          48130,
          48050,
          48522.96,
          48798.61,
          49359.77
         ],
         "open": [
          48927.33,
          47275.7,
          48476.94,
          49180.68,
          50224.22,
          50054.3,
          50190.12,
          50301.24,
          50937.53,
          50713.27,
          50665.34,
          50379.76,
          50264.18,
          49673.99,
          50095.36,
          49712.25,
          50100,
          50643.59,
          50659.75,
          50797.05,
          50923.48,
          50455.27,
          50127.96,
          50779.4,
          50408.26,
          51137.52,
          50745.92,
          49620,
          49519.1,
          49506.05,
          49430.41,
          49171.11,
          49847.54,
          49536.01,
          49368.78,
          49736.75,
          50061.08,
          49687.99,
          49631.06,
          49440.65,
          48971.58,
          48914.43,
          49152.28,
          48203.36,
          48768.54,
          48712.8,
          48831.81,
          49359.77
         ],
         "type": "candlestick",
         "x": [
          "2021-02-24T00:00:00",
          "2021-02-24T00:30:00",
          "2021-02-24T01:00:00",
          "2021-02-24T01:30:00",
          "2021-02-24T02:00:00",
          "2021-02-24T02:30:00",
          "2021-02-24T03:00:00",
          "2021-02-24T03:30:00",
          "2021-02-24T04:00:00",
          "2021-02-24T04:30:00",
          "2021-02-24T05:00:00",
          "2021-02-24T05:30:00",
          "2021-02-24T06:00:00",
          "2021-02-24T06:30:00",
          "2021-02-24T07:00:00",
          "2021-02-24T07:30:00",
          "2021-02-24T08:00:00",
          "2021-02-24T08:30:00",
          "2021-02-24T09:00:00",
          "2021-02-24T09:30:00",
          "2021-02-24T10:00:00",
          "2021-02-24T10:30:00",
          "2021-02-24T11:00:00",
          "2021-02-24T11:30:00",
          "2021-02-24T12:00:00",
          "2021-02-24T12:30:00",
          "2021-02-24T13:00:00",
          "2021-02-24T13:30:00",
          "2021-02-24T14:00:00",
          "2021-02-24T14:30:00",
          "2021-02-24T15:00:00",
          "2021-02-24T15:30:00",
          "2021-02-24T16:00:00",
          "2021-02-24T16:30:00",
          "2021-02-24T17:00:00",
          "2021-02-24T17:30:00",
          "2021-02-24T18:00:00",
          "2021-02-24T18:30:00",
          "2021-02-24T19:00:00",
          "2021-02-24T19:30:00",
          "2021-02-24T20:00:00",
          "2021-02-24T20:30:00",
          "2021-02-24T21:00:00",
          "2021-02-24T21:30:00",
          "2021-02-24T22:00:00",
          "2021-02-24T22:30:00",
          "2021-02-24T23:00:00",
          "2021-02-24T23:30:00"
         ]
        },
        {
         "line": {
          "color": "blue"
         },
         "mode": "lines",
         "name": "VWAP",
         "type": "scatter",
         "x": [
          "2021-02-24T00:00:00",
          "2021-02-24T00:30:00",
          "2021-02-24T01:00:00",
          "2021-02-24T01:30:00",
          "2021-02-24T02:00:00",
          "2021-02-24T02:30:00",
          "2021-02-24T03:00:00",
          "2021-02-24T03:30:00",
          "2021-02-24T04:00:00",
          "2021-02-24T04:30:00",
          "2021-02-24T05:00:00",
          "2021-02-24T05:30:00",
          "2021-02-24T06:00:00",
          "2021-02-24T06:30:00",
          "2021-02-24T07:00:00",
          "2021-02-24T07:30:00",
          "2021-02-24T08:00:00",
          "2021-02-24T08:30:00",
          "2021-02-24T09:00:00",
          "2021-02-24T09:30:00",
          "2021-02-24T10:00:00",
          "2021-02-24T10:30:00",
          "2021-02-24T11:00:00",
          "2021-02-24T11:30:00",
          "2021-02-24T12:00:00",
          "2021-02-24T12:30:00",
          "2021-02-24T13:00:00",
          "2021-02-24T13:30:00",
          "2021-02-24T14:00:00",
          "2021-02-24T14:30:00",
          "2021-02-24T15:00:00",
          "2021-02-24T15:30:00",
          "2021-02-24T16:00:00",
          "2021-02-24T16:30:00",
          "2021-02-24T17:00:00",
          "2021-02-24T17:30:00",
          "2021-02-24T18:00:00",
          "2021-02-24T18:30:00",
          "2021-02-24T19:00:00",
          "2021-02-24T19:30:00",
          "2021-02-24T20:00:00",
          "2021-02-24T20:30:00",
          "2021-02-24T21:00:00",
          "2021-02-24T21:30:00",
          "2021-02-24T22:00:00",
          "2021-02-24T22:30:00",
          "2021-02-24T23:00:00",
          "2021-02-24T23:30:00"
         ],
         "y": [
          47982.61051998801,
          47847.296988976545,
          48958.7739934451,
          49573.93685893276,
          50263.01567884616,
          50309.973797927974,
          50376.1099376012,
          50660.6922141351,
          51112.5746700363,
          50740.31815404555,
          50490.29187783915,
          50374.68112170013,
          49952.88053794828,
          49918.41543765458,
          49838.13633124086,
          50101.20420167318,
          50494.21900730898,
          50677.69733627789,
          50752.35346515376,
          51109.70303747179,
          50683.60043291597,
          50453.85767176183,
          50513.532978060786,
          50450.13107069415,
          50898.35616062447,
          50982.384700072136,
          50324.68770334398,
          49380.25673805927,
          49505.6881576044,
          49168.68217209223,
          48960.407085083316,
          49474.19966911369,
          49794.51392577888,
          49660.518296583185,
          49804.01038014363,
          49888.973608388565,
          49826.30333535326,
          49849.93047085782,
          49513.516232713635,
          49106.18312086761,
          49046.46777126262,
          48872.52500648867,
          48553.53271808536,
          48409.279507783096,
          48388.88425842405,
          48785.731099079276,
          49327.752261855116,
          49621.02350210694
         ]
        },
        {
         "line": {
          "color": "grey"
         },
         "mode": "lines",
         "name": "vwmp_lower",
         "type": "scatter",
         "x": [
          "2021-02-24T00:00:00",
          "2021-02-24T00:30:00",
          "2021-02-24T01:00:00",
          "2021-02-24T01:30:00",
          "2021-02-24T02:00:00",
          "2021-02-24T02:30:00",
          "2021-02-24T03:00:00",
          "2021-02-24T03:30:00",
          "2021-02-24T04:00:00",
          "2021-02-24T04:30:00",
          "2021-02-24T05:00:00",
          "2021-02-24T05:30:00",
          "2021-02-24T06:00:00",
          "2021-02-24T06:30:00",
          "2021-02-24T07:00:00",
          "2021-02-24T07:30:00",
          "2021-02-24T08:00:00",
          "2021-02-24T08:30:00",
          "2021-02-24T09:00:00",
          "2021-02-24T09:30:00",
          "2021-02-24T10:00:00",
          "2021-02-24T10:30:00",
          "2021-02-24T11:00:00",
          "2021-02-24T11:30:00",
          "2021-02-24T12:00:00",
          "2021-02-24T12:30:00",
          "2021-02-24T13:00:00",
          "2021-02-24T13:30:00",
          "2021-02-24T14:00:00",
          "2021-02-24T14:30:00",
          "2021-02-24T15:00:00",
          "2021-02-24T15:30:00",
          "2021-02-24T16:00:00",
          "2021-02-24T16:30:00",
          "2021-02-24T17:00:00",
          "2021-02-24T17:30:00",
          "2021-02-24T18:00:00",
          "2021-02-24T18:30:00",
          "2021-02-24T19:00:00",
          "2021-02-24T19:30:00",
          "2021-02-24T20:00:00",
          "2021-02-24T20:30:00",
          "2021-02-24T21:00:00",
          "2021-02-24T21:30:00",
          "2021-02-24T22:00:00",
          "2021-02-24T22:30:00",
          "2021-02-24T23:00:00",
          "2021-02-24T23:30:00"
         ],
         "y": [
          48702.61,
          47753.52,
          49300,
          49743.33,
          50324.86,
          50092.97,
          50405.62,
          50822.83,
          51313.9,
          50737.18,
          50156.8,
          50303.93,
          50521.56,
          49630.04,
          49784.31,
          50135.77,
          50560.36,
          50745.4,
          50947.78,
          51202.4,
          50594.46,
          50583.96,
          50394.98,
          50506.84,
          50976.93,
          50933.34,
          49927.4,
          49740.53,
          49132.36,
          49012.72,
          48891.84,
          49642.97,
          49426.51,
          49354.68,
          49975,
          49958.14,
          49592.11,
          49638.46,
          49435.46,
          49315.14,
          49117.96,
          49140.82,
          49134.72,
          48750,
          48420.61,
          48711.49,
          49395.78,
          49619.6
         ]
        }
       ],
       "layout": {
        "height": 300,
        "margin": {
         "b": 20,
         "l": 70,
         "r": 50,
         "t": 50
        },
        "template": {
         "data": {
          "bar": [
           {
            "error_x": {
             "color": "#2a3f5f"
            },
            "error_y": {
             "color": "#2a3f5f"
            },
            "marker": {
             "line": {
              "color": "#E5ECF6",
              "width": 0.5
             },
             "pattern": {
              "fillmode": "overlay",
              "size": 10,
              "solidity": 0.2
             }
            },
            "type": "bar"
           }
          ],
          "barpolar": [
           {
            "marker": {
             "line": {
              "color": "#E5ECF6",
              "width": 0.5
             },
             "pattern": {
              "fillmode": "overlay",
              "size": 10,
              "solidity": 0.2
             }
            },
            "type": "barpolar"
           }
          ],
          "carpet": [
           {
            "aaxis": {
             "endlinecolor": "#2a3f5f",
             "gridcolor": "white",
             "linecolor": "white",
             "minorgridcolor": "white",
             "startlinecolor": "#2a3f5f"
            },
            "baxis": {
             "endlinecolor": "#2a3f5f",
             "gridcolor": "white",
             "linecolor": "white",
             "minorgridcolor": "white",
             "startlinecolor": "#2a3f5f"
            },
            "type": "carpet"
           }
          ],
          "choropleth": [
           {
            "colorbar": {
             "outlinewidth": 0,
             "ticks": ""
            },
            "type": "choropleth"
           }
          ],
          "contour": [
           {
            "colorbar": {
             "outlinewidth": 0,
             "ticks": ""
            },
            "colorscale": [
             [
              0,
              "#0d0887"
             ],
             [
              0.1111111111111111,
              "#46039f"
             ],
             [
              0.2222222222222222,
              "#7201a8"
             ],
             [
              0.3333333333333333,
              "#9c179e"
             ],
             [
              0.4444444444444444,
              "#bd3786"
             ],
             [
              0.5555555555555556,
              "#d8576b"
             ],
             [
              0.6666666666666666,
              "#ed7953"
             ],
             [
              0.7777777777777778,
              "#fb9f3a"
             ],
             [
              0.8888888888888888,
              "#fdca26"
             ],
             [
              1,
              "#f0f921"
             ]
            ],
            "type": "contour"
           }
          ],
          "contourcarpet": [
           {
            "colorbar": {
             "outlinewidth": 0,
             "ticks": ""
            },
            "type": "contourcarpet"
           }
          ],
          "heatmap": [
           {
            "colorbar": {
             "outlinewidth": 0,
             "ticks": ""
            },
            "colorscale": [
             [
              0,
              "#0d0887"
             ],
             [
              0.1111111111111111,
              "#46039f"
             ],
             [
              0.2222222222222222,
              "#7201a8"
             ],
             [
              0.3333333333333333,
              "#9c179e"
             ],
             [
              0.4444444444444444,
              "#bd3786"
             ],
             [
              0.5555555555555556,
              "#d8576b"
             ],
             [
              0.6666666666666666,
              "#ed7953"
             ],
             [
              0.7777777777777778,
              "#fb9f3a"
             ],
             [
              0.8888888888888888,
              "#fdca26"
             ],
             [
              1,
              "#f0f921"
             ]
            ],
            "type": "heatmap"
           }
          ],
          "heatmapgl": [
           {
            "colorbar": {
             "outlinewidth": 0,
             "ticks": ""
            },
            "colorscale": [
             [
              0,
              "#0d0887"
             ],
             [
              0.1111111111111111,
              "#46039f"
             ],
             [
              0.2222222222222222,
              "#7201a8"
             ],
             [
              0.3333333333333333,
              "#9c179e"
             ],
             [
              0.4444444444444444,
              "#bd3786"
             ],
             [
              0.5555555555555556,
              "#d8576b"
             ],
             [
              0.6666666666666666,
              "#ed7953"
             ],
             [
              0.7777777777777778,
              "#fb9f3a"
             ],
             [
              0.8888888888888888,
              "#fdca26"
             ],
             [
              1,
              "#f0f921"
             ]
            ],
            "type": "heatmapgl"
           }
          ],
          "histogram": [
           {
            "marker": {
             "pattern": {
              "fillmode": "overlay",
              "size": 10,
              "solidity": 0.2
             }
            },
            "type": "histogram"
           }
          ],
          "histogram2d": [
           {
            "colorbar": {
             "outlinewidth": 0,
             "ticks": ""
            },
            "colorscale": [
             [
              0,
              "#0d0887"
             ],
             [
              0.1111111111111111,
              "#46039f"
             ],
             [
              0.2222222222222222,
              "#7201a8"
             ],
             [
              0.3333333333333333,
              "#9c179e"
             ],
             [
              0.4444444444444444,
              "#bd3786"
             ],
             [
              0.5555555555555556,
              "#d8576b"
             ],
             [
              0.6666666666666666,
              "#ed7953"
             ],
             [
              0.7777777777777778,
              "#fb9f3a"
             ],
             [
              0.8888888888888888,
              "#fdca26"
             ],
             [
              1,
              "#f0f921"
             ]
            ],
            "type": "histogram2d"
           }
          ],
          "histogram2dcontour": [
           {
            "colorbar": {
             "outlinewidth": 0,
             "ticks": ""
            },
            "colorscale": [
             [
              0,
              "#0d0887"
             ],
             [
              0.1111111111111111,
              "#46039f"
             ],
             [
              0.2222222222222222,
              "#7201a8"
             ],
             [
              0.3333333333333333,
              "#9c179e"
             ],
             [
              0.4444444444444444,
              "#bd3786"
             ],
             [
              0.5555555555555556,
              "#d8576b"
             ],
             [
              0.6666666666666666,
              "#ed7953"
             ],
             [
              0.7777777777777778,
              "#fb9f3a"
             ],
             [
              0.8888888888888888,
              "#fdca26"
             ],
             [
              1,
              "#f0f921"
             ]
            ],
            "type": "histogram2dcontour"
           }
          ],
          "mesh3d": [
           {
            "colorbar": {
             "outlinewidth": 0,
             "ticks": ""
            },
            "type": "mesh3d"
           }
          ],
          "parcoords": [
           {
            "line": {
             "colorbar": {
              "outlinewidth": 0,
              "ticks": ""
             }
            },
            "type": "parcoords"
           }
          ],
          "pie": [
           {
            "automargin": true,
            "type": "pie"
           }
          ],
          "scatter": [
           {
            "fillpattern": {
             "fillmode": "overlay",
             "size": 10,
             "solidity": 0.2
            },
            "type": "scatter"
           }
          ],
          "scatter3d": [
           {
            "line": {
             "colorbar": {
              "outlinewidth": 0,
              "ticks": ""
             }
            },
            "marker": {
             "colorbar": {
              "outlinewidth": 0,
              "ticks": ""
             }
            },
            "type": "scatter3d"
           }
          ],
          "scattercarpet": [
           {
            "marker": {
             "colorbar": {
              "outlinewidth": 0,
              "ticks": ""
             }
            },
            "type": "scattercarpet"
           }
          ],
          "scattergeo": [
           {
            "marker": {
             "colorbar": {
              "outlinewidth": 0,
              "ticks": ""
             }
            },
            "type": "scattergeo"
           }
          ],
          "scattergl": [
           {
            "marker": {
             "colorbar": {
              "outlinewidth": 0,
              "ticks": ""
             }
            },
            "type": "scattergl"
           }
          ],
          "scattermapbox": [
           {
            "marker": {
             "colorbar": {
              "outlinewidth": 0,
              "ticks": ""
             }
            },
            "type": "scattermapbox"
           }
          ],
          "scatterpolar": [
           {
            "marker": {
             "colorbar": {
              "outlinewidth": 0,
              "ticks": ""
             }
            },
            "type": "scatterpolar"
           }
          ],
          "scatterpolargl": [
           {
            "marker": {
             "colorbar": {
              "outlinewidth": 0,
              "ticks": ""
             }
            },
            "type": "scatterpolargl"
           }
          ],
          "scatterternary": [
           {
            "marker": {
             "colorbar": {
              "outlinewidth": 0,
              "ticks": ""
             }
            },
            "type": "scatterternary"
           }
          ],
          "surface": [
           {
            "colorbar": {
             "outlinewidth": 0,
             "ticks": ""
            },
            "colorscale": [
             [
              0,
              "#0d0887"
             ],
             [
              0.1111111111111111,
              "#46039f"
             ],
             [
              0.2222222222222222,
              "#7201a8"
             ],
             [
              0.3333333333333333,
              "#9c179e"
             ],
             [
              0.4444444444444444,
              "#bd3786"
             ],
             [
              0.5555555555555556,
              "#d8576b"
             ],
             [
              0.6666666666666666,
              "#ed7953"
             ],
             [
              0.7777777777777778,
              "#fb9f3a"
             ],
             [
              0.8888888888888888,
              "#fdca26"
             ],
             [
              1,
              "#f0f921"
             ]
            ],
            "type": "surface"
           }
          ],
          "table": [
           {
            "cells": {
             "fill": {
              "color": "#EBF0F8"
             },
             "line": {
              "color": "white"
             }
            },
            "header": {
             "fill": {
              "color": "#C8D4E3"
             },
             "line": {
              "color": "white"
             }
            },
            "type": "table"
           }
          ]
         },
         "layout": {
          "annotationdefaults": {
           "arrowcolor": "#2a3f5f",
           "arrowhead": 0,
           "arrowwidth": 1
          },
          "autotypenumbers": "strict",
          "coloraxis": {
           "colorbar": {
            "outlinewidth": 0,
            "ticks": ""
           }
          },
          "colorscale": {
           "diverging": [
            [
             0,
             "#8e0152"
            ],
            [
             0.1,
             "#c51b7d"
            ],
            [
             0.2,
             "#de77ae"
            ],
            [
             0.3,
             "#f1b6da"
            ],
            [
             0.4,
             "#fde0ef"
            ],
            [
             0.5,
             "#f7f7f7"
            ],
            [
             0.6,
             "#e6f5d0"
            ],
            [
             0.7,
             "#b8e186"
            ],
            [
             0.8,
             "#7fbc41"
            ],
            [
             0.9,
             "#4d9221"
            ],
            [
             1,
             "#276419"
            ]
           ],
           "sequential": [
            [
             0,
             "#0d0887"
            ],
            [
             0.1111111111111111,
             "#46039f"
            ],
            [
             0.2222222222222222,
             "#7201a8"
            ],
            [
             0.3333333333333333,
             "#9c179e"
            ],
            [
             0.4444444444444444,
             "#bd3786"
            ],
            [
             0.5555555555555556,
             "#d8576b"
            ],
            [
             0.6666666666666666,
             "#ed7953"
            ],
            [
             0.7777777777777778,
             "#fb9f3a"
            ],
            [
             0.8888888888888888,
             "#fdca26"
            ],
            [
             1,
             "#f0f921"
            ]
           ],
           "sequentialminus": [
            [
             0,
             "#0d0887"
            ],
            [
             0.1111111111111111,
             "#46039f"
            ],
            [
             0.2222222222222222,
             "#7201a8"
            ],
            [
             0.3333333333333333,
             "#9c179e"
            ],
            [
             0.4444444444444444,
             "#bd3786"
            ],
            [
             0.5555555555555556,
             "#d8576b"
            ],
            [
             0.6666666666666666,
             "#ed7953"
            ],
            [
             0.7777777777777778,
             "#fb9f3a"
            ],
            [
             0.8888888888888888,
             "#fdca26"
            ],
            [
             1,
             "#f0f921"
            ]
           ]
          },
          "colorway": [
           "#636efa",
           "#EF553B",
           "#00cc96",
           "#ab63fa",
           "#FFA15A",
           "#19d3f3",
           "#FF6692",
           "#B6E880",
           "#FF97FF",
           "#FECB52"
          ],
          "font": {
           "color": "#2a3f5f"
          },
          "geo": {
           "bgcolor": "white",
           "lakecolor": "white",
           "landcolor": "#E5ECF6",
           "showlakes": true,
           "showland": true,
           "subunitcolor": "white"
          },
          "hoverlabel": {
           "align": "left"
          },
          "hovermode": "closest",
          "mapbox": {
           "style": "light"
          },
          "paper_bgcolor": "white",
          "plot_bgcolor": "#E5ECF6",
          "polar": {
           "angularaxis": {
            "gridcolor": "white",
            "linecolor": "white",
            "ticks": ""
           },
           "bgcolor": "#E5ECF6",
           "radialaxis": {
            "gridcolor": "white",
            "linecolor": "white",
            "ticks": ""
           }
          },
          "scene": {
           "xaxis": {
            "backgroundcolor": "#E5ECF6",
            "gridcolor": "white",
            "gridwidth": 2,
            "linecolor": "white",
            "showbackground": true,
            "ticks": "",
            "zerolinecolor": "white"
           },
           "yaxis": {
            "backgroundcolor": "#E5ECF6",
            "gridcolor": "white",
            "gridwidth": 2,
            "linecolor": "white",
            "showbackground": true,
            "ticks": "",
            "zerolinecolor": "white"
           },
           "zaxis": {
            "backgroundcolor": "#E5ECF6",
            "gridcolor": "white",
            "gridwidth": 2,
            "linecolor": "white",
            "showbackground": true,
            "ticks": "",
            "zerolinecolor": "white"
           }
          },
          "shapedefaults": {
           "line": {
            "color": "#2a3f5f"
           }
          },
          "ternary": {
           "aaxis": {
            "gridcolor": "white",
            "linecolor": "white",
            "ticks": ""
           },
           "baxis": {
            "gridcolor": "white",
            "linecolor": "white",
            "ticks": ""
           },
           "bgcolor": "#E5ECF6",
           "caxis": {
            "gridcolor": "white",
            "linecolor": "white",
            "ticks": ""
           }
          },
          "title": {
           "x": 0.05
          },
          "xaxis": {
           "automargin": true,
           "gridcolor": "white",
           "linecolor": "white",
           "ticks": "",
           "title": {
            "standoff": 15
           },
           "zerolinecolor": "white",
           "zerolinewidth": 2
          },
          "yaxis": {
           "automargin": true,
           "gridcolor": "white",
           "linecolor": "white",
           "ticks": "",
           "title": {
            "standoff": 15
           },
           "zerolinecolor": "white",
           "zerolinewidth": 2
          }
         }
        },
        "title": {
         "text": "Exchange - [stmp]"
        },
        "width": 800,
        "yaxis": {
         "title": {
          "text": "Price"
         }
        }
       }
      }
     },
     "metadata": {},
     "output_type": "display_data"
    }
   ],
   "source": [
    "aggregation('60min', 'lower')   \n",
    "\n",
    "    #agg1 : ('60min', '30min', '5min')\n",
    "    #agg2 : ('lower', 'upper')"
   ]
  },
  {
   "cell_type": "markdown",
   "metadata": {},
   "source": [
    "2) Exporter les données avec les paramètres sélectionnés"
   ]
  },
  {
   "cell_type": "code",
   "execution_count": 6,
   "metadata": {},
   "outputs": [
    {
     "name": "stdout",
     "output_type": "stream",
     "text": [
      "Export des fichiers csv avec succès (voir arborescence ci-dessous): /Users/mariusayrault/GitHub/Sorb-Data-Analytics/projet-python/livrable/../output/Export_2024-04-22_10-50-08_freq-60min_vwmp-lower/\n"
     ]
    }
   ],
   "source": [
    "b =True\n",
    "on_export_button_click(b)"
   ]
  },
  {
   "cell_type": "markdown",
   "metadata": {},
   "source": [
    "Arborescence du projet : "
   ]
  },
  {
   "cell_type": "code",
   "execution_count": 7,
   "metadata": {},
   "outputs": [],
   "source": [
    "##  .\n",
    "##  ├── data\n",
    "##  │   ├── bfly.csv\n",
    "##  │   ├── bfnx.csv\n",
    "##  │   ├── bnus.csv\n",
    "##  │   ├── btrx.csv\n",
    "##  │   ├── cbse.csv\n",
    "##  │   ├── gmni.csv\n",
    "##  │   ├── itbi.csv\n",
    "##  │   ├── krkn.csv\n",
    "##  │   ├── lmax.csv\n",
    "##  │   ├── okcn.csv\n",
    "##  │   └── stmp.csv\n",
    "##  ├── livrable\n",
    "##  │   └── livrable.ipynb\n",
    "##  ├── output\n",
    "##  │   ├── Export_YYYY-MM-DD_HH-MM-SS_freq-Xmin_vwmp-X\n",
    "##  │   │   ├── df_all.csv\n",
    "##  │   │   ├── df_bfly.csv\n",
    "##  │   │   ├── df_bfnx.csv\n",
    "##  │   │   ├── df_bnus.csv\n",
    "##  │   │   ├── df_btrx.csv\n",
    "##  │   │   ├── df_cbse.csv\n",
    "##  │   │   ├── df_gmni.csv\n",
    "##  │   │   ├── df_itbi.csv\n",
    "##  │   │   ├── df_krkn.csv\n",
    "##  │   │   ├── df_lmax.csv\n",
    "##  │   │   ├── df_okcn.csv\n",
    "##  │   │   ├── df_stmp.csv\n",
    "##  │   │   └── synthese.csv\n",
    "##  └── readme.txt"
   ]
  }
 ],
 "metadata": {
  "kernelspec": {
   "display_name": "Python 3 (ipykernel)",
   "language": "python",
   "name": "python3"
  },
  "language_info": {
   "codemirror_mode": {
    "name": "ipython",
    "version": 3
   },
   "file_extension": ".py",
   "mimetype": "text/x-python",
   "name": "python",
   "nbconvert_exporter": "python",
   "pygments_lexer": "ipython3",
   "version": "3.12.2"
  }
 },
 "nbformat": 4,
 "nbformat_minor": 4
}

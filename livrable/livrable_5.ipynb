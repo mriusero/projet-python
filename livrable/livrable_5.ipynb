{
 "cells": [
  {
   "cell_type": "markdown",
   "metadata": {},
   "source": [
    "#### LIVRABLE PROJET PYTHON"
   ]
  },
  {
   "cell_type": "markdown",
   "metadata": {},
   "source": [
    "#### INPUT\n",
    "1) Import des libraires"
   ]
  },
  {
   "cell_type": "code",
   "execution_count": 1,
   "metadata": {},
   "outputs": [],
   "source": [
    "import os\n",
    "from datetime import datetime \n",
    "import numpy as np\n",
    "import pandas as pd\n",
    "import ipywidgets as widgets\n",
    "from IPython.display import display, clear_output\n",
    "import plotly.graph_objects as go\n",
    "#test"
   ]
  },
  {
   "cell_type": "markdown",
   "metadata": {},
   "source": [
    "2) Création des dataframes à partir des fichiers csv"
   ]
  },
  {
   "cell_type": "code",
   "execution_count": 2,
   "metadata": {},
   "outputs": [
    {
     "name": "stdout",
     "output_type": "stream",
     "text": [
      "df_stmp\n",
      "            timestamp    price  amount\n",
      "0 2021-02-24 23:59:54  49754.0   0.753\n",
      "1 2021-02-24 23:59:52  49754.0   0.116\n",
      "2 2021-02-24 23:59:52  49754.0   0.104\n",
      "\n",
      "\n",
      "df_lmax\n",
      "                timestamp    price  amount\n",
      "0 2021-02-24 23:59:59.691  49767.0    0.01\n",
      "1 2021-02-24 23:59:42.786  49752.0    0.06\n",
      "2 2021-02-24 23:59:42.785  49752.0    0.30\n",
      "\n",
      "\n",
      "df_gmni\n",
      "                timestamp     price    amount\n",
      "0 2021-02-24 23:59:53.406  49773.07  0.003435\n",
      "1 2021-02-24 23:59:53.406  49766.06  0.051690\n",
      "2 2021-02-24 23:59:47.280  49746.16  0.122833\n",
      "\n",
      "\n",
      "df_itbi\n",
      "                timestamp     price  amount\n",
      "0 2021-02-24 23:59:48.157  49753.50  0.0001\n",
      "1 2021-02-24 23:59:45.463  49753.75  0.0004\n",
      "2 2021-02-24 23:59:38.887  49734.50  0.0001\n",
      "\n",
      "\n",
      "df_okcn\n",
      "                timestamp     price  amount\n",
      "0 2021-02-24 23:59:57.847  49724.93    0.02\n",
      "1 2021-02-24 23:59:49.743  49730.33    0.02\n",
      "2 2021-02-24 23:59:35.623  49706.87    0.02\n",
      "\n",
      "\n",
      "df_bfnx\n",
      "                timestamp    price  amount\n",
      "0 2021-02-24 23:59:58.181  49716.0   0.010\n",
      "1 2021-02-24 23:59:58.176  49713.0   0.005\n",
      "2 2021-02-24 23:59:51.526  49715.0   0.005\n",
      "\n",
      "\n",
      "df_btrx\n",
      "                timestamp      price    amount\n",
      "0 2021-02-24 23:59:48.910  49742.749  0.001054\n",
      "1 2021-02-24 23:59:35.050  49734.460  0.009038\n",
      "2 2021-02-24 23:59:34.110  49751.270  0.000386\n",
      "\n",
      "\n",
      "df_bfly\n",
      "                timestamp     price  amount\n",
      "0 2021-02-24 23:59:33.720  49712.15  0.0054\n",
      "1 2021-02-24 23:44:16.980  49603.44  0.0770\n",
      "2 2021-02-24 22:32:39.320  48864.19  0.1200\n",
      "\n",
      "\n",
      "df_bnus\n",
      "                timestamp     price    amount\n",
      "0 2021-02-24 23:59:58.164  49714.50  0.004413\n",
      "1 2021-02-24 23:59:57.547  49727.83  0.001496\n",
      "2 2021-02-24 23:59:57.244  49727.83  0.002597\n",
      "\n",
      "\n",
      "df_cbse\n",
      "                timestamp     price   amount\n",
      "0 2021-02-24 23:59:59.873  49737.82  0.00144\n",
      "1 2021-02-24 23:59:59.721  49737.82  0.00037\n",
      "2 2021-02-24 23:59:59.121  49737.82  0.00294\n",
      "\n",
      "\n",
      "df_krkn\n",
      "                timestamp    price    amount\n",
      "0 2021-02-24 23:59:58.649  49727.7  0.000225\n",
      "1 2021-02-24 23:59:49.807  49739.9  0.000224\n",
      "2 2021-02-24 23:59:43.159  49736.3  0.014493\n",
      "\n",
      "\n"
     ]
    }
   ],
   "source": [
    "def load_data_from_csv():\n",
    "\n",
    "    notebook_dir = os.getcwd()                          #Chemin absolu du notebook\n",
    "    data_dir = os.path.join(notebook_dir, \"../data\")    #Construction du chemin absolu vers le dossier 'data'\n",
    "    csv_files = os.listdir(data_dir)                    #Liste des fichiers dans le dossier 'data'\n",
    "\n",
    "    dataframes_dict = {}                                #Déclaration dictionnaire pour contenir les dataframes\n",
    "    \n",
    "    for file in csv_files:                              #Boucle pour chaque fichier .csv du dossier 'data' : \n",
    "        if file.endswith('.csv'):\n",
    "            \n",
    "            file_path = os.path.join(data_dir, file) \n",
    "            df = pd.read_csv(file_path)                         #Création du dataframe\n",
    "\n",
    "            file_name = os.path.splitext(file)[0]\n",
    "            dataframes_dict['df_' + str(file_name)] = df        #Renommage du dataframe avec préfixe \"df_\" + 'nom_du_fichier'\n",
    "            \n",
    "            df['timestamp'] = pd.to_datetime(df['timestamp'])   #Conversion 'timestamp' en type Datetime    \n",
    "\n",
    "            print(f\"df_{file_name}\")                            #Affichage du df créé pour vérification\n",
    "            print(df.head(3))   \n",
    "            print(\"\\n\")\n",
    "\n",
    "    return dataframes_dict\n",
    "\n",
    "dataframes_dict = load_data_from_csv()"
   ]
  },
  {
   "cell_type": "markdown",
   "metadata": {},
   "source": [
    "#### MANIPULATION DES DONNEES"
   ]
  },
  {
   "cell_type": "markdown",
   "metadata": {},
   "source": [
    "1) Création d'un dataframe 'df_all' et intégration dans le dictionnaire"
   ]
  },
  {
   "cell_type": "code",
   "execution_count": 3,
   "metadata": {},
   "outputs": [
    {
     "name": "stdout",
     "output_type": "stream",
     "text": [
      "Concaténation des dataframes :\n",
      "['df_stmp', 'df_lmax', 'df_gmni', 'df_itbi', 'df_okcn', 'df_bfnx', 'df_btrx', 'df_bfly', 'df_bnus', 'df_cbse', 'df_krkn']\n",
      "\n",
      "'df_all' :\n"
     ]
    },
    {
     "data": {
      "text/html": [
       "<div>\n",
       "<style scoped>\n",
       "    .dataframe tbody tr th:only-of-type {\n",
       "        vertical-align: middle;\n",
       "    }\n",
       "\n",
       "    .dataframe tbody tr th {\n",
       "        vertical-align: top;\n",
       "    }\n",
       "\n",
       "    .dataframe thead th {\n",
       "        text-align: right;\n",
       "    }\n",
       "</style>\n",
       "<table border=\"1\" class=\"dataframe\">\n",
       "  <thead>\n",
       "    <tr style=\"text-align: right;\">\n",
       "      <th></th>\n",
       "      <th>timestamp</th>\n",
       "      <th>price</th>\n",
       "      <th>amount</th>\n",
       "    </tr>\n",
       "  </thead>\n",
       "  <tbody>\n",
       "    <tr>\n",
       "      <th>0</th>\n",
       "      <td>2021-02-24 23:59:54.000</td>\n",
       "      <td>49754.0</td>\n",
       "      <td>0.753000</td>\n",
       "    </tr>\n",
       "    <tr>\n",
       "      <th>1</th>\n",
       "      <td>2021-02-24 23:59:52.000</td>\n",
       "      <td>49754.0</td>\n",
       "      <td>0.116000</td>\n",
       "    </tr>\n",
       "    <tr>\n",
       "      <th>2</th>\n",
       "      <td>2021-02-24 23:59:52.000</td>\n",
       "      <td>49754.0</td>\n",
       "      <td>0.104000</td>\n",
       "    </tr>\n",
       "    <tr>\n",
       "      <th>3</th>\n",
       "      <td>2021-02-24 23:59:49.000</td>\n",
       "      <td>49754.0</td>\n",
       "      <td>0.016000</td>\n",
       "    </tr>\n",
       "    <tr>\n",
       "      <th>4</th>\n",
       "      <td>2021-02-24 23:59:45.000</td>\n",
       "      <td>49754.0</td>\n",
       "      <td>0.011000</td>\n",
       "    </tr>\n",
       "    <tr>\n",
       "      <th>...</th>\n",
       "      <td>...</td>\n",
       "      <td>...</td>\n",
       "      <td>...</td>\n",
       "    </tr>\n",
       "    <tr>\n",
       "      <th>1136788</th>\n",
       "      <td>2021-02-24 00:00:11.182</td>\n",
       "      <td>48899.8</td>\n",
       "      <td>0.023270</td>\n",
       "    </tr>\n",
       "    <tr>\n",
       "      <th>1136789</th>\n",
       "      <td>2021-02-24 00:00:10.373</td>\n",
       "      <td>48899.9</td>\n",
       "      <td>0.200000</td>\n",
       "    </tr>\n",
       "    <tr>\n",
       "      <th>1136790</th>\n",
       "      <td>2021-02-24 00:00:07.818</td>\n",
       "      <td>48899.9</td>\n",
       "      <td>0.018278</td>\n",
       "    </tr>\n",
       "    <tr>\n",
       "      <th>1136791</th>\n",
       "      <td>2021-02-24 00:00:02.351</td>\n",
       "      <td>48899.9</td>\n",
       "      <td>0.002045</td>\n",
       "    </tr>\n",
       "    <tr>\n",
       "      <th>1136792</th>\n",
       "      <td>2021-02-24 00:00:01.115</td>\n",
       "      <td>48899.6</td>\n",
       "      <td>0.018780</td>\n",
       "    </tr>\n",
       "  </tbody>\n",
       "</table>\n",
       "<p>1136793 rows × 3 columns</p>\n",
       "</div>"
      ],
      "text/plain": [
       "                      timestamp    price    amount\n",
       "0       2021-02-24 23:59:54.000  49754.0  0.753000\n",
       "1       2021-02-24 23:59:52.000  49754.0  0.116000\n",
       "2       2021-02-24 23:59:52.000  49754.0  0.104000\n",
       "3       2021-02-24 23:59:49.000  49754.0  0.016000\n",
       "4       2021-02-24 23:59:45.000  49754.0  0.011000\n",
       "...                         ...      ...       ...\n",
       "1136788 2021-02-24 00:00:11.182  48899.8  0.023270\n",
       "1136789 2021-02-24 00:00:10.373  48899.9  0.200000\n",
       "1136790 2021-02-24 00:00:07.818  48899.9  0.018278\n",
       "1136791 2021-02-24 00:00:02.351  48899.9  0.002045\n",
       "1136792 2021-02-24 00:00:01.115  48899.6  0.018780\n",
       "\n",
       "[1136793 rows x 3 columns]"
      ]
     },
     "metadata": {},
     "output_type": "display_data"
    },
    {
     "name": "stdout",
     "output_type": "stream",
     "text": [
      "Intégration dans le dictionnaire :\n",
      "['df_stmp', 'df_lmax', 'df_gmni', 'df_itbi', 'df_okcn', 'df_bfnx', 'df_btrx', 'df_bfly', 'df_bnus', 'df_cbse', 'df_krkn', 'df_all']\n",
      "\n"
     ]
    }
   ],
   "source": [
    "\n",
    "def global_df_creation(): \n",
    "    \n",
    "    dfs_to_concat = list(dataframes_dict.values())      #Identification des dataframes à concaténer\n",
    "    print(f\"Concaténation des dataframes :\\n{list(dataframes_dict)}\\n\")\n",
    "    \n",
    "    df_all = pd.concat(dfs_to_concat, ignore_index=True)        #Concaténation verticale -> pas de perte de données avec la fonction concat, redéfinition des index pour avoir une clé unique par transaction\n",
    "    print(\"'df_all' :\")     \n",
    "    display(df_all)     #Vérification : '2021-02-24 23:59:52.000' *2 dans le display = transactions conservées      \n",
    "\n",
    "    dataframes_dict['df_all']= df_all       #Intégration de 'df_all' dans le dictionnaire\n",
    "    print(f\"Intégration dans le dictionnaire :\\n{list(dataframes_dict)}\\n\")     \n",
    "    \n",
    "global_df_creation() \n"
   ]
  },
  {
   "cell_type": "markdown",
   "metadata": {},
   "source": [
    "#### CALCUL"
   ]
  },
  {
   "cell_type": "markdown",
   "metadata": {},
   "source": [
    "1) Agrégation des données et calcul selon paramètres sélectionnés"
   ]
  },
  {
   "cell_type": "code",
   "execution_count": 4,
   "metadata": {},
   "outputs": [
    {
     "data": {
      "application/vnd.jupyter.widget-view+json": {
       "model_id": "a2ee0eaa34394a2d9015d4457f579bf9",
       "version_major": 2,
       "version_minor": 0
      },
      "text/plain": [
       "GridspecLayout(children=(Button(description='Exporter en CSV', layout=Layout(grid_area='widget001'), style=But…"
      ]
     },
     "metadata": {},
     "output_type": "display_data"
    },
    {
     "data": {
      "application/vnd.plotly.v1+json": {
       "config": {
        "plotlyServerURL": "https://plot.ly"
       },
       "data": [
        {
         "close": [
          48498.9,
          50236.98,
          50220.01,
          50932.71,
          50650.86,
          50166,
          50099.64,
          50082.62,
          50666.7,
          50900.68,
          50150.1,
          50380,
          50746.3,
          49479.41,
          49427.61,
          49850.22,
          49330,
          50081,
          49619.18,
          48990.27,
          49174.4,
          48757.56,
          48833.25,
          49737.82
         ],
         "high": [
          49130.5,
          50353.43,
          50820.16,
          51001,
          51459.51,
          51064.836108,
          50710.31,
          50374.4,
          51089.72,
          51449.5,
          51088.359,
          50957.67,
          51364.74,
          51123.31,
          49811.25,
          49916.8,
          50314.08,
          50126.6,
          50171.79,
          49748.4,
          49293.55,
          49193.77,
          49004.72,
          49840.2
         ],
         "low": [
          46902,
          48412,
          49781.14,
          50042,
          50328,
          49941,
          49210,
          49472,
          49770.5,
          50293,
          50050,
          50057,
          50324.99,
          48940.12,
          48691.6,
          48350,
          49298.688164,
          49313,
          49510,
          48804,
          48569,
          48111,
          48036.5,
          48753.08
         ],
         "open": [
          48899.99,
          48499,
          50224.22,
          50190.12,
          50929.46,
          50611,
          50264.18,
          50098.05,
          50090.93,
          50659.75,
          50900,
          50127.96,
          50379.99,
          50738.3,
          49480.2,
          49430.41,
          49847.54,
          49371.49,
          50096.69,
          49631.06,
          48990.27,
          49152.28,
          48768.54,
          48831.81
         ],
         "type": "candlestick",
         "x": [
          "2021-02-24T00:00:00",
          "2021-02-24T01:00:00",
          "2021-02-24T02:00:00",
          "2021-02-24T03:00:00",
          "2021-02-24T04:00:00",
          "2021-02-24T05:00:00",
          "2021-02-24T06:00:00",
          "2021-02-24T07:00:00",
          "2021-02-24T08:00:00",
          "2021-02-24T09:00:00",
          "2021-02-24T10:00:00",
          "2021-02-24T11:00:00",
          "2021-02-24T12:00:00",
          "2021-02-24T13:00:00",
          "2021-02-24T14:00:00",
          "2021-02-24T15:00:00",
          "2021-02-24T16:00:00",
          "2021-02-24T17:00:00",
          "2021-02-24T18:00:00",
          "2021-02-24T19:00:00",
          "2021-02-24T20:00:00",
          "2021-02-24T21:00:00",
          "2021-02-24T22:00:00",
          "2021-02-24T23:00:00"
         ]
        },
        {
         "line": {
          "color": "blue"
         },
         "mode": "lines",
         "name": "VWAP",
         "type": "scatter",
         "x": [
          "2021-02-24T00:00:00",
          "2021-02-24T01:00:00",
          "2021-02-24T02:00:00",
          "2021-02-24T03:00:00",
          "2021-02-24T04:00:00",
          "2021-02-24T05:00:00",
          "2021-02-24T06:00:00",
          "2021-02-24T07:00:00",
          "2021-02-24T08:00:00",
          "2021-02-24T09:00:00",
          "2021-02-24T10:00:00",
          "2021-02-24T11:00:00",
          "2021-02-24T12:00:00",
          "2021-02-24T13:00:00",
          "2021-02-24T14:00:00",
          "2021-02-24T15:00:00",
          "2021-02-24T16:00:00",
          "2021-02-24T17:00:00",
          "2021-02-24T18:00:00",
          "2021-02-24T19:00:00",
          "2021-02-24T20:00:00",
          "2021-02-24T21:00:00",
          "2021-02-24T22:00:00",
          "2021-02-24T23:00:00"
         ],
         "y": [
          47882.875855109734,
          49313.3675161897,
          50244.1733612534,
          50513.86512612314,
          50927.853963916896,
          50455.60677884732,
          49913.41044184377,
          49962.539691283666,
          50578.67002734941,
          50911.78005479302,
          50534.9813437046,
          50499.325621286465,
          50934.16551103433,
          49799.74000951547,
          49263.84672757125,
          49203.58004164459,
          49750.26731768807,
          49822.593361797546,
          49798.92301259033,
          49268.924507442825,
          48929.22430449357,
          48487.34548560769,
          48574.60219883092,
          49438.25065729635
         ]
        },
        {
         "line": {
          "color": "grey"
         },
         "mode": "lines",
         "name": "vwmp_lower",
         "type": "scatter",
         "x": [
          "2021-02-24T00:00:00",
          "2021-02-24T01:00:00",
          "2021-02-24T02:00:00",
          "2021-02-24T03:00:00",
          "2021-02-24T04:00:00",
          "2021-02-24T05:00:00",
          "2021-02-24T06:00:00",
          "2021-02-24T07:00:00",
          "2021-02-24T08:00:00",
          "2021-02-24T09:00:00",
          "2021-02-24T10:00:00",
          "2021-02-24T11:00:00",
          "2021-02-24T12:00:00",
          "2021-02-24T13:00:00",
          "2021-02-24T14:00:00",
          "2021-02-24T15:00:00",
          "2021-02-24T16:00:00",
          "2021-02-24T17:00:00",
          "2021-02-24T18:00:00",
          "2021-02-24T19:00:00",
          "2021-02-24T20:00:00",
          "2021-02-24T21:00:00",
          "2021-02-24T22:00:00",
          "2021-02-24T23:00:00"
         ],
         "y": [
          48888,
          48946.35,
          50075.5,
          50314.07,
          50500,
          50539.68,
          49873.16,
          49747.64,
          50200,
          50920,
          50550,
          50759,
          51143.49,
          49475,
          48813.74,
          48550,
          49400,
          49733,
          49648.4,
          49506.05,
          48978.19,
          48594.54,
          48702.42,
          49821.3
         ]
        }
       ],
       "layout": {
        "height": 300,
        "margin": {
         "b": 20,
         "l": 70,
         "r": 50,
         "t": 50
        },
        "template": {
         "data": {
          "bar": [
           {
            "error_x": {
             "color": "#2a3f5f"
            },
            "error_y": {
             "color": "#2a3f5f"
            },
            "marker": {
             "line": {
              "color": "#E5ECF6",
              "width": 0.5
             },
             "pattern": {
              "fillmode": "overlay",
              "size": 10,
              "solidity": 0.2
             }
            },
            "type": "bar"
           }
          ],
          "barpolar": [
           {
            "marker": {
             "line": {
              "color": "#E5ECF6",
              "width": 0.5
             },
             "pattern": {
              "fillmode": "overlay",
              "size": 10,
              "solidity": 0.2
             }
            },
            "type": "barpolar"
           }
          ],
          "carpet": [
           {
            "aaxis": {
             "endlinecolor": "#2a3f5f",
             "gridcolor": "white",
             "linecolor": "white",
             "minorgridcolor": "white",
             "startlinecolor": "#2a3f5f"
            },
            "baxis": {
             "endlinecolor": "#2a3f5f",
             "gridcolor": "white",
             "linecolor": "white",
             "minorgridcolor": "white",
             "startlinecolor": "#2a3f5f"
            },
            "type": "carpet"
           }
          ],
          "choropleth": [
           {
            "colorbar": {
             "outlinewidth": 0,
             "ticks": ""
            },
            "type": "choropleth"
           }
          ],
          "contour": [
           {
            "colorbar": {
             "outlinewidth": 0,
             "ticks": ""
            },
            "colorscale": [
             [
              0,
              "#0d0887"
             ],
             [
              0.1111111111111111,
              "#46039f"
             ],
             [
              0.2222222222222222,
              "#7201a8"
             ],
             [
              0.3333333333333333,
              "#9c179e"
             ],
             [
              0.4444444444444444,
              "#bd3786"
             ],
             [
              0.5555555555555556,
              "#d8576b"
             ],
             [
              0.6666666666666666,
              "#ed7953"
             ],
             [
              0.7777777777777778,
              "#fb9f3a"
             ],
             [
              0.8888888888888888,
              "#fdca26"
             ],
             [
              1,
              "#f0f921"
             ]
            ],
            "type": "contour"
           }
          ],
          "contourcarpet": [
           {
            "colorbar": {
             "outlinewidth": 0,
             "ticks": ""
            },
            "type": "contourcarpet"
           }
          ],
          "heatmap": [
           {
            "colorbar": {
             "outlinewidth": 0,
             "ticks": ""
            },
            "colorscale": [
             [
              0,
              "#0d0887"
             ],
             [
              0.1111111111111111,
              "#46039f"
             ],
             [
              0.2222222222222222,
              "#7201a8"
             ],
             [
              0.3333333333333333,
              "#9c179e"
             ],
             [
              0.4444444444444444,
              "#bd3786"
             ],
             [
              0.5555555555555556,
              "#d8576b"
             ],
             [
              0.6666666666666666,
              "#ed7953"
             ],
             [
              0.7777777777777778,
              "#fb9f3a"
             ],
             [
              0.8888888888888888,
              "#fdca26"
             ],
             [
              1,
              "#f0f921"
             ]
            ],
            "type": "heatmap"
           }
          ],
          "heatmapgl": [
           {
            "colorbar": {
             "outlinewidth": 0,
             "ticks": ""
            },
            "colorscale": [
             [
              0,
              "#0d0887"
             ],
             [
              0.1111111111111111,
              "#46039f"
             ],
             [
              0.2222222222222222,
              "#7201a8"
             ],
             [
              0.3333333333333333,
              "#9c179e"
             ],
             [
              0.4444444444444444,
              "#bd3786"
             ],
             [
              0.5555555555555556,
              "#d8576b"
             ],
             [
              0.6666666666666666,
              "#ed7953"
             ],
             [
              0.7777777777777778,
              "#fb9f3a"
             ],
             [
              0.8888888888888888,
              "#fdca26"
             ],
             [
              1,
              "#f0f921"
             ]
            ],
            "type": "heatmapgl"
           }
          ],
          "histogram": [
           {
            "marker": {
             "pattern": {
              "fillmode": "overlay",
              "size": 10,
              "solidity": 0.2
             }
            },
            "type": "histogram"
           }
          ],
          "histogram2d": [
           {
            "colorbar": {
             "outlinewidth": 0,
             "ticks": ""
            },
            "colorscale": [
             [
              0,
              "#0d0887"
             ],
             [
              0.1111111111111111,
              "#46039f"
             ],
             [
              0.2222222222222222,
              "#7201a8"
             ],
             [
              0.3333333333333333,
              "#9c179e"
             ],
             [
              0.4444444444444444,
              "#bd3786"
             ],
             [
              0.5555555555555556,
              "#d8576b"
             ],
             [
              0.6666666666666666,
              "#ed7953"
             ],
             [
              0.7777777777777778,
              "#fb9f3a"
             ],
             [
              0.8888888888888888,
              "#fdca26"
             ],
             [
              1,
              "#f0f921"
             ]
            ],
            "type": "histogram2d"
           }
          ],
          "histogram2dcontour": [
           {
            "colorbar": {
             "outlinewidth": 0,
             "ticks": ""
            },
            "colorscale": [
             [
              0,
              "#0d0887"
             ],
             [
              0.1111111111111111,
              "#46039f"
             ],
             [
              0.2222222222222222,
              "#7201a8"
             ],
             [
              0.3333333333333333,
              "#9c179e"
             ],
             [
              0.4444444444444444,
              "#bd3786"
             ],
             [
              0.5555555555555556,
              "#d8576b"
             ],
             [
              0.6666666666666666,
              "#ed7953"
             ],
             [
              0.7777777777777778,
              "#fb9f3a"
             ],
             [
              0.8888888888888888,
              "#fdca26"
             ],
             [
              1,
              "#f0f921"
             ]
            ],
            "type": "histogram2dcontour"
           }
          ],
          "mesh3d": [
           {
            "colorbar": {
             "outlinewidth": 0,
             "ticks": ""
            },
            "type": "mesh3d"
           }
          ],
          "parcoords": [
           {
            "line": {
             "colorbar": {
              "outlinewidth": 0,
              "ticks": ""
             }
            },
            "type": "parcoords"
           }
          ],
          "pie": [
           {
            "automargin": true,
            "type": "pie"
           }
          ],
          "scatter": [
           {
            "fillpattern": {
             "fillmode": "overlay",
             "size": 10,
             "solidity": 0.2
            },
            "type": "scatter"
           }
          ],
          "scatter3d": [
           {
            "line": {
             "colorbar": {
              "outlinewidth": 0,
              "ticks": ""
             }
            },
            "marker": {
             "colorbar": {
              "outlinewidth": 0,
              "ticks": ""
             }
            },
            "type": "scatter3d"
           }
          ],
          "scattercarpet": [
           {
            "marker": {
             "colorbar": {
              "outlinewidth": 0,
              "ticks": ""
             }
            },
            "type": "scattercarpet"
           }
          ],
          "scattergeo": [
           {
            "marker": {
             "colorbar": {
              "outlinewidth": 0,
              "ticks": ""
             }
            },
            "type": "scattergeo"
           }
          ],
          "scattergl": [
           {
            "marker": {
             "colorbar": {
              "outlinewidth": 0,
              "ticks": ""
             }
            },
            "type": "scattergl"
           }
          ],
          "scattermapbox": [
           {
            "marker": {
             "colorbar": {
              "outlinewidth": 0,
              "ticks": ""
             }
            },
            "type": "scattermapbox"
           }
          ],
          "scatterpolar": [
           {
            "marker": {
             "colorbar": {
              "outlinewidth": 0,
              "ticks": ""
             }
            },
            "type": "scatterpolar"
           }
          ],
          "scatterpolargl": [
           {
            "marker": {
             "colorbar": {
              "outlinewidth": 0,
              "ticks": ""
             }
            },
            "type": "scatterpolargl"
           }
          ],
          "scatterternary": [
           {
            "marker": {
             "colorbar": {
              "outlinewidth": 0,
              "ticks": ""
             }
            },
            "type": "scatterternary"
           }
          ],
          "surface": [
           {
            "colorbar": {
             "outlinewidth": 0,
             "ticks": ""
            },
            "colorscale": [
             [
              0,
              "#0d0887"
             ],
             [
              0.1111111111111111,
              "#46039f"
             ],
             [
              0.2222222222222222,
              "#7201a8"
             ],
             [
              0.3333333333333333,
              "#9c179e"
             ],
             [
              0.4444444444444444,
              "#bd3786"
             ],
             [
              0.5555555555555556,
              "#d8576b"
             ],
             [
              0.6666666666666666,
              "#ed7953"
             ],
             [
              0.7777777777777778,
              "#fb9f3a"
             ],
             [
              0.8888888888888888,
              "#fdca26"
             ],
             [
              1,
              "#f0f921"
             ]
            ],
            "type": "surface"
           }
          ],
          "table": [
           {
            "cells": {
             "fill": {
              "color": "#EBF0F8"
             },
             "line": {
              "color": "white"
             }
            },
            "header": {
             "fill": {
              "color": "#C8D4E3"
             },
             "line": {
              "color": "white"
             }
            },
            "type": "table"
           }
          ]
         },
         "layout": {
          "annotationdefaults": {
           "arrowcolor": "#2a3f5f",
           "arrowhead": 0,
           "arrowwidth": 1
          },
          "autotypenumbers": "strict",
          "coloraxis": {
           "colorbar": {
            "outlinewidth": 0,
            "ticks": ""
           }
          },
          "colorscale": {
           "diverging": [
            [
             0,
             "#8e0152"
            ],
            [
             0.1,
             "#c51b7d"
            ],
            [
             0.2,
             "#de77ae"
            ],
            [
             0.3,
             "#f1b6da"
            ],
            [
             0.4,
             "#fde0ef"
            ],
            [
             0.5,
             "#f7f7f7"
            ],
            [
             0.6,
             "#e6f5d0"
            ],
            [
             0.7,
             "#b8e186"
            ],
            [
             0.8,
             "#7fbc41"
            ],
            [
             0.9,
             "#4d9221"
            ],
            [
             1,
             "#276419"
            ]
           ],
           "sequential": [
            [
             0,
             "#0d0887"
            ],
            [
             0.1111111111111111,
             "#46039f"
            ],
            [
             0.2222222222222222,
             "#7201a8"
            ],
            [
             0.3333333333333333,
             "#9c179e"
            ],
            [
             0.4444444444444444,
             "#bd3786"
            ],
            [
             0.5555555555555556,
             "#d8576b"
            ],
            [
             0.6666666666666666,
             "#ed7953"
            ],
            [
             0.7777777777777778,
             "#fb9f3a"
            ],
            [
             0.8888888888888888,
             "#fdca26"
            ],
            [
             1,
             "#f0f921"
            ]
           ],
           "sequentialminus": [
            [
             0,
             "#0d0887"
            ],
            [
             0.1111111111111111,
             "#46039f"
            ],
            [
             0.2222222222222222,
             "#7201a8"
            ],
            [
             0.3333333333333333,
             "#9c179e"
            ],
            [
             0.4444444444444444,
             "#bd3786"
            ],
            [
             0.5555555555555556,
             "#d8576b"
            ],
            [
             0.6666666666666666,
             "#ed7953"
            ],
            [
             0.7777777777777778,
             "#fb9f3a"
            ],
            [
             0.8888888888888888,
             "#fdca26"
            ],
            [
             1,
             "#f0f921"
            ]
           ]
          },
          "colorway": [
           "#636efa",
           "#EF553B",
           "#00cc96",
           "#ab63fa",
           "#FFA15A",
           "#19d3f3",
           "#FF6692",
           "#B6E880",
           "#FF97FF",
           "#FECB52"
          ],
          "font": {
           "color": "#2a3f5f"
          },
          "geo": {
           "bgcolor": "white",
           "lakecolor": "white",
           "landcolor": "#E5ECF6",
           "showlakes": true,
           "showland": true,
           "subunitcolor": "white"
          },
          "hoverlabel": {
           "align": "left"
          },
          "hovermode": "closest",
          "mapbox": {
           "style": "light"
          },
          "paper_bgcolor": "white",
          "plot_bgcolor": "#E5ECF6",
          "polar": {
           "angularaxis": {
            "gridcolor": "white",
            "linecolor": "white",
            "ticks": ""
           },
           "bgcolor": "#E5ECF6",
           "radialaxis": {
            "gridcolor": "white",
            "linecolor": "white",
            "ticks": ""
           }
          },
          "scene": {
           "xaxis": {
            "backgroundcolor": "#E5ECF6",
            "gridcolor": "white",
            "gridwidth": 2,
            "linecolor": "white",
            "showbackground": true,
            "ticks": "",
            "zerolinecolor": "white"
           },
           "yaxis": {
            "backgroundcolor": "#E5ECF6",
            "gridcolor": "white",
            "gridwidth": 2,
            "linecolor": "white",
            "showbackground": true,
            "ticks": "",
            "zerolinecolor": "white"
           },
           "zaxis": {
            "backgroundcolor": "#E5ECF6",
            "gridcolor": "white",
            "gridwidth": 2,
            "linecolor": "white",
            "showbackground": true,
            "ticks": "",
            "zerolinecolor": "white"
           }
          },
          "shapedefaults": {
           "line": {
            "color": "#2a3f5f"
           }
          },
          "ternary": {
           "aaxis": {
            "gridcolor": "white",
            "linecolor": "white",
            "ticks": ""
           },
           "baxis": {
            "gridcolor": "white",
            "linecolor": "white",
            "ticks": ""
           },
           "bgcolor": "#E5ECF6",
           "caxis": {
            "gridcolor": "white",
            "linecolor": "white",
            "ticks": ""
           }
          },
          "title": {
           "x": 0.05
          },
          "xaxis": {
           "automargin": true,
           "gridcolor": "white",
           "linecolor": "white",
           "ticks": "",
           "title": {
            "standoff": 15
           },
           "zerolinecolor": "white",
           "zerolinewidth": 2
          },
          "yaxis": {
           "automargin": true,
           "gridcolor": "white",
           "linecolor": "white",
           "ticks": "",
           "title": {
            "standoff": 15
           },
           "zerolinecolor": "white",
           "zerolinewidth": 2
          }
         }
        },
        "title": {
         "text": "Exchange - [all]"
        },
        "width": 800,
        "yaxis": {
         "title": {
          "text": "Price"
         }
        }
       }
      }
     },
     "metadata": {},
     "output_type": "display_data"
    },
    {
     "data": {
      "application/vnd.plotly.v1+json": {
       "config": {
        "plotlyServerURL": "https://plot.ly"
       },
       "data": [
        {
         "close": [
          48498.9,
          50180.4,
          50202.2,
          50928.4,
          50635.3,
          50204.8,
          50110.2,
          50140.7,
          50682.8,
          50900,
          50150.1,
          50392.1,
          50746.3,
          49480.2,
          49434.3,
          49850,
          49400,
          50060,
          49611.1,
          48980.4,
          49167.4,
          48753.9,
          48886.5,
          49727.7
         ],
         "high": [
          48899.9,
          50200,
          50564.5,
          51000,
          51392,
          51058.4,
          50704.3,
          50374.4,
          50912.5,
          51442.5,
          51059.2,
          50909.5,
          51283.3,
          51099.4,
          49795.3,
          49916.8,
          50171.2,
          50060,
          50100,
          49712.6,
          49282.1,
          49162.7,
          48997.1,
          49840.2
         ],
         "low": [
          47015.7,
          48462.8,
          49836.7,
          50074.9,
          50342.2,
          50022.5,
          49410.6,
          49548.5,
          49812.8,
          50380.7,
          50150,
          50150.6,
          50372.9,
          49100,
          48691.6,
          48500.1,
          49352.2,
          49400,
          49551,
          48880.4,
          48618.5,
          48153.8,
          48075,
          48788.5
         ],
         "open": [
          48899.6,
          48499,
          50200,
          50202.2,
          50922.2,
          50647.5,
          50235.4,
          50110.2,
          50140.7,
          50682.9,
          50900,
          50150.6,
          50392.1,
          50760,
          49480.2,
          49433.2,
          49851.6,
          49400,
          50075,
          49619.1,
          48980.4,
          49156.5,
          48748.6,
          48875.1
         ],
         "type": "candlestick",
         "x": [
          "2021-02-24T00:00:00",
          "2021-02-24T01:00:00",
          "2021-02-24T02:00:00",
          "2021-02-24T03:00:00",
          "2021-02-24T04:00:00",
          "2021-02-24T05:00:00",
          "2021-02-24T06:00:00",
          "2021-02-24T07:00:00",
          "2021-02-24T08:00:00",
          "2021-02-24T09:00:00",
          "2021-02-24T10:00:00",
          "2021-02-24T11:00:00",
          "2021-02-24T12:00:00",
          "2021-02-24T13:00:00",
          "2021-02-24T14:00:00",
          "2021-02-24T15:00:00",
          "2021-02-24T16:00:00",
          "2021-02-24T17:00:00",
          "2021-02-24T18:00:00",
          "2021-02-24T19:00:00",
          "2021-02-24T20:00:00",
          "2021-02-24T21:00:00",
          "2021-02-24T22:00:00",
          "2021-02-24T23:00:00"
         ]
        },
        {
         "line": {
          "color": "blue"
         },
         "mode": "lines",
         "name": "VWAP",
         "type": "scatter",
         "x": [
          "2021-02-24T00:00:00",
          "2021-02-24T01:00:00",
          "2021-02-24T02:00:00",
          "2021-02-24T03:00:00",
          "2021-02-24T04:00:00",
          "2021-02-24T05:00:00",
          "2021-02-24T06:00:00",
          "2021-02-24T07:00:00",
          "2021-02-24T08:00:00",
          "2021-02-24T09:00:00",
          "2021-02-24T10:00:00",
          "2021-02-24T11:00:00",
          "2021-02-24T12:00:00",
          "2021-02-24T13:00:00",
          "2021-02-24T14:00:00",
          "2021-02-24T15:00:00",
          "2021-02-24T16:00:00",
          "2021-02-24T17:00:00",
          "2021-02-24T18:00:00",
          "2021-02-24T19:00:00",
          "2021-02-24T20:00:00",
          "2021-02-24T21:00:00",
          "2021-02-24T22:00:00",
          "2021-02-24T23:00:00"
         ],
         "y": [
          47698.307099988815,
          49179.02687677849,
          50214.50234961793,
          50537.044840685616,
          50917.060832736985,
          50421.09204078946,
          49916.10805328075,
          49994.271641249004,
          50545.21676788311,
          50987.73682159017,
          50643.53620764597,
          50523.50157772588,
          50864.09784483364,
          49743.211946406336,
          49223.08528079747,
          49217.78730796093,
          49749.96085967083,
          49842.35009757282,
          49813.098121963376,
          49230.38809664872,
          48964.871225882314,
          48499.3806082591,
          48540.34638780121,
          49459.90529202536
         ]
        },
        {
         "line": {
          "color": "grey"
         },
         "mode": "lines",
         "name": "vwmp_lower",
         "type": "scatter",
         "x": [
          "2021-02-24T00:00:00",
          "2021-02-24T01:00:00",
          "2021-02-24T02:00:00",
          "2021-02-24T03:00:00",
          "2021-02-24T04:00:00",
          "2021-02-24T05:00:00",
          "2021-02-24T06:00:00",
          "2021-02-24T07:00:00",
          "2021-02-24T08:00:00",
          "2021-02-24T09:00:00",
          "2021-02-24T10:00:00",
          "2021-02-24T11:00:00",
          "2021-02-24T12:00:00",
          "2021-02-24T13:00:00",
          "2021-02-24T14:00:00",
          "2021-02-24T15:00:00",
          "2021-02-24T16:00:00",
          "2021-02-24T17:00:00",
          "2021-02-24T18:00:00",
          "2021-02-24T19:00:00",
          "2021-02-24T20:00:00",
          "2021-02-24T21:00:00",
          "2021-02-24T22:00:00",
          "2021-02-24T23:00:00"
         ],
         "y": [
          48300,
          49302.5,
          50044.8,
          50306.2,
          50860.4,
          50282.4,
          49613,
          50146.8,
          49922.9,
          51143.6,
          50575,
          50601.3,
          50877.2,
          49241.8,
          49615.1,
          49365.4,
          49487.1,
          49812.9,
          49751,
          49413.6,
          48846,
          48581.7,
          48466.9,
          49369.9
         ]
        }
       ],
       "layout": {
        "height": 300,
        "margin": {
         "b": 20,
         "l": 70,
         "r": 50,
         "t": 50
        },
        "template": {
         "data": {
          "bar": [
           {
            "error_x": {
             "color": "#2a3f5f"
            },
            "error_y": {
             "color": "#2a3f5f"
            },
            "marker": {
             "line": {
              "color": "#E5ECF6",
              "width": 0.5
             },
             "pattern": {
              "fillmode": "overlay",
              "size": 10,
              "solidity": 0.2
             }
            },
            "type": "bar"
           }
          ],
          "barpolar": [
           {
            "marker": {
             "line": {
              "color": "#E5ECF6",
              "width": 0.5
             },
             "pattern": {
              "fillmode": "overlay",
              "size": 10,
              "solidity": 0.2
             }
            },
            "type": "barpolar"
           }
          ],
          "carpet": [
           {
            "aaxis": {
             "endlinecolor": "#2a3f5f",
             "gridcolor": "white",
             "linecolor": "white",
             "minorgridcolor": "white",
             "startlinecolor": "#2a3f5f"
            },
            "baxis": {
             "endlinecolor": "#2a3f5f",
             "gridcolor": "white",
             "linecolor": "white",
             "minorgridcolor": "white",
             "startlinecolor": "#2a3f5f"
            },
            "type": "carpet"
           }
          ],
          "choropleth": [
           {
            "colorbar": {
             "outlinewidth": 0,
             "ticks": ""
            },
            "type": "choropleth"
           }
          ],
          "contour": [
           {
            "colorbar": {
             "outlinewidth": 0,
             "ticks": ""
            },
            "colorscale": [
             [
              0,
              "#0d0887"
             ],
             [
              0.1111111111111111,
              "#46039f"
             ],
             [
              0.2222222222222222,
              "#7201a8"
             ],
             [
              0.3333333333333333,
              "#9c179e"
             ],
             [
              0.4444444444444444,
              "#bd3786"
             ],
             [
              0.5555555555555556,
              "#d8576b"
             ],
             [
              0.6666666666666666,
              "#ed7953"
             ],
             [
              0.7777777777777778,
              "#fb9f3a"
             ],
             [
              0.8888888888888888,
              "#fdca26"
             ],
             [
              1,
              "#f0f921"
             ]
            ],
            "type": "contour"
           }
          ],
          "contourcarpet": [
           {
            "colorbar": {
             "outlinewidth": 0,
             "ticks": ""
            },
            "type": "contourcarpet"
           }
          ],
          "heatmap": [
           {
            "colorbar": {
             "outlinewidth": 0,
             "ticks": ""
            },
            "colorscale": [
             [
              0,
              "#0d0887"
             ],
             [
              0.1111111111111111,
              "#46039f"
             ],
             [
              0.2222222222222222,
              "#7201a8"
             ],
             [
              0.3333333333333333,
              "#9c179e"
             ],
             [
              0.4444444444444444,
              "#bd3786"
             ],
             [
              0.5555555555555556,
              "#d8576b"
             ],
             [
              0.6666666666666666,
              "#ed7953"
             ],
             [
              0.7777777777777778,
              "#fb9f3a"
             ],
             [
              0.8888888888888888,
              "#fdca26"
             ],
             [
              1,
              "#f0f921"
             ]
            ],
            "type": "heatmap"
           }
          ],
          "heatmapgl": [
           {
            "colorbar": {
             "outlinewidth": 0,
             "ticks": ""
            },
            "colorscale": [
             [
              0,
              "#0d0887"
             ],
             [
              0.1111111111111111,
              "#46039f"
             ],
             [
              0.2222222222222222,
              "#7201a8"
             ],
             [
              0.3333333333333333,
              "#9c179e"
             ],
             [
              0.4444444444444444,
              "#bd3786"
             ],
             [
              0.5555555555555556,
              "#d8576b"
             ],
             [
              0.6666666666666666,
              "#ed7953"
             ],
             [
              0.7777777777777778,
              "#fb9f3a"
             ],
             [
              0.8888888888888888,
              "#fdca26"
             ],
             [
              1,
              "#f0f921"
             ]
            ],
            "type": "heatmapgl"
           }
          ],
          "histogram": [
           {
            "marker": {
             "pattern": {
              "fillmode": "overlay",
              "size": 10,
              "solidity": 0.2
             }
            },
            "type": "histogram"
           }
          ],
          "histogram2d": [
           {
            "colorbar": {
             "outlinewidth": 0,
             "ticks": ""
            },
            "colorscale": [
             [
              0,
              "#0d0887"
             ],
             [
              0.1111111111111111,
              "#46039f"
             ],
             [
              0.2222222222222222,
              "#7201a8"
             ],
             [
              0.3333333333333333,
              "#9c179e"
             ],
             [
              0.4444444444444444,
              "#bd3786"
             ],
             [
              0.5555555555555556,
              "#d8576b"
             ],
             [
              0.6666666666666666,
              "#ed7953"
             ],
             [
              0.7777777777777778,
              "#fb9f3a"
             ],
             [
              0.8888888888888888,
              "#fdca26"
             ],
             [
              1,
              "#f0f921"
             ]
            ],
            "type": "histogram2d"
           }
          ],
          "histogram2dcontour": [
           {
            "colorbar": {
             "outlinewidth": 0,
             "ticks": ""
            },
            "colorscale": [
             [
              0,
              "#0d0887"
             ],
             [
              0.1111111111111111,
              "#46039f"
             ],
             [
              0.2222222222222222,
              "#7201a8"
             ],
             [
              0.3333333333333333,
              "#9c179e"
             ],
             [
              0.4444444444444444,
              "#bd3786"
             ],
             [
              0.5555555555555556,
              "#d8576b"
             ],
             [
              0.6666666666666666,
              "#ed7953"
             ],
             [
              0.7777777777777778,
              "#fb9f3a"
             ],
             [
              0.8888888888888888,
              "#fdca26"
             ],
             [
              1,
              "#f0f921"
             ]
            ],
            "type": "histogram2dcontour"
           }
          ],
          "mesh3d": [
           {
            "colorbar": {
             "outlinewidth": 0,
             "ticks": ""
            },
            "type": "mesh3d"
           }
          ],
          "parcoords": [
           {
            "line": {
             "colorbar": {
              "outlinewidth": 0,
              "ticks": ""
             }
            },
            "type": "parcoords"
           }
          ],
          "pie": [
           {
            "automargin": true,
            "type": "pie"
           }
          ],
          "scatter": [
           {
            "fillpattern": {
             "fillmode": "overlay",
             "size": 10,
             "solidity": 0.2
            },
            "type": "scatter"
           }
          ],
          "scatter3d": [
           {
            "line": {
             "colorbar": {
              "outlinewidth": 0,
              "ticks": ""
             }
            },
            "marker": {
             "colorbar": {
              "outlinewidth": 0,
              "ticks": ""
             }
            },
            "type": "scatter3d"
           }
          ],
          "scattercarpet": [
           {
            "marker": {
             "colorbar": {
              "outlinewidth": 0,
              "ticks": ""
             }
            },
            "type": "scattercarpet"
           }
          ],
          "scattergeo": [
           {
            "marker": {
             "colorbar": {
              "outlinewidth": 0,
              "ticks": ""
             }
            },
            "type": "scattergeo"
           }
          ],
          "scattergl": [
           {
            "marker": {
             "colorbar": {
              "outlinewidth": 0,
              "ticks": ""
             }
            },
            "type": "scattergl"
           }
          ],
          "scattermapbox": [
           {
            "marker": {
             "colorbar": {
              "outlinewidth": 0,
              "ticks": ""
             }
            },
            "type": "scattermapbox"
           }
          ],
          "scatterpolar": [
           {
            "marker": {
             "colorbar": {
              "outlinewidth": 0,
              "ticks": ""
             }
            },
            "type": "scatterpolar"
           }
          ],
          "scatterpolargl": [
           {
            "marker": {
             "colorbar": {
              "outlinewidth": 0,
              "ticks": ""
             }
            },
            "type": "scatterpolargl"
           }
          ],
          "scatterternary": [
           {
            "marker": {
             "colorbar": {
              "outlinewidth": 0,
              "ticks": ""
             }
            },
            "type": "scatterternary"
           }
          ],
          "surface": [
           {
            "colorbar": {
             "outlinewidth": 0,
             "ticks": ""
            },
            "colorscale": [
             [
              0,
              "#0d0887"
             ],
             [
              0.1111111111111111,
              "#46039f"
             ],
             [
              0.2222222222222222,
              "#7201a8"
             ],
             [
              0.3333333333333333,
              "#9c179e"
             ],
             [
              0.4444444444444444,
              "#bd3786"
             ],
             [
              0.5555555555555556,
              "#d8576b"
             ],
             [
              0.6666666666666666,
              "#ed7953"
             ],
             [
              0.7777777777777778,
              "#fb9f3a"
             ],
             [
              0.8888888888888888,
              "#fdca26"
             ],
             [
              1,
              "#f0f921"
             ]
            ],
            "type": "surface"
           }
          ],
          "table": [
           {
            "cells": {
             "fill": {
              "color": "#EBF0F8"
             },
             "line": {
              "color": "white"
             }
            },
            "header": {
             "fill": {
              "color": "#C8D4E3"
             },
             "line": {
              "color": "white"
             }
            },
            "type": "table"
           }
          ]
         },
         "layout": {
          "annotationdefaults": {
           "arrowcolor": "#2a3f5f",
           "arrowhead": 0,
           "arrowwidth": 1
          },
          "autotypenumbers": "strict",
          "coloraxis": {
           "colorbar": {
            "outlinewidth": 0,
            "ticks": ""
           }
          },
          "colorscale": {
           "diverging": [
            [
             0,
             "#8e0152"
            ],
            [
             0.1,
             "#c51b7d"
            ],
            [
             0.2,
             "#de77ae"
            ],
            [
             0.3,
             "#f1b6da"
            ],
            [
             0.4,
             "#fde0ef"
            ],
            [
             0.5,
             "#f7f7f7"
            ],
            [
             0.6,
             "#e6f5d0"
            ],
            [
             0.7,
             "#b8e186"
            ],
            [
             0.8,
             "#7fbc41"
            ],
            [
             0.9,
             "#4d9221"
            ],
            [
             1,
             "#276419"
            ]
           ],
           "sequential": [
            [
             0,
             "#0d0887"
            ],
            [
             0.1111111111111111,
             "#46039f"
            ],
            [
             0.2222222222222222,
             "#7201a8"
            ],
            [
             0.3333333333333333,
             "#9c179e"
            ],
            [
             0.4444444444444444,
             "#bd3786"
            ],
            [
             0.5555555555555556,
             "#d8576b"
            ],
            [
             0.6666666666666666,
             "#ed7953"
            ],
            [
             0.7777777777777778,
             "#fb9f3a"
            ],
            [
             0.8888888888888888,
             "#fdca26"
            ],
            [
             1,
             "#f0f921"
            ]
           ],
           "sequentialminus": [
            [
             0,
             "#0d0887"
            ],
            [
             0.1111111111111111,
             "#46039f"
            ],
            [
             0.2222222222222222,
             "#7201a8"
            ],
            [
             0.3333333333333333,
             "#9c179e"
            ],
            [
             0.4444444444444444,
             "#bd3786"
            ],
            [
             0.5555555555555556,
             "#d8576b"
            ],
            [
             0.6666666666666666,
             "#ed7953"
            ],
            [
             0.7777777777777778,
             "#fb9f3a"
            ],
            [
             0.8888888888888888,
             "#fdca26"
            ],
            [
             1,
             "#f0f921"
            ]
           ]
          },
          "colorway": [
           "#636efa",
           "#EF553B",
           "#00cc96",
           "#ab63fa",
           "#FFA15A",
           "#19d3f3",
           "#FF6692",
           "#B6E880",
           "#FF97FF",
           "#FECB52"
          ],
          "font": {
           "color": "#2a3f5f"
          },
          "geo": {
           "bgcolor": "white",
           "lakecolor": "white",
           "landcolor": "#E5ECF6",
           "showlakes": true,
           "showland": true,
           "subunitcolor": "white"
          },
          "hoverlabel": {
           "align": "left"
          },
          "hovermode": "closest",
          "mapbox": {
           "style": "light"
          },
          "paper_bgcolor": "white",
          "plot_bgcolor": "#E5ECF6",
          "polar": {
           "angularaxis": {
            "gridcolor": "white",
            "linecolor": "white",
            "ticks": ""
           },
           "bgcolor": "#E5ECF6",
           "radialaxis": {
            "gridcolor": "white",
            "linecolor": "white",
            "ticks": ""
           }
          },
          "scene": {
           "xaxis": {
            "backgroundcolor": "#E5ECF6",
            "gridcolor": "white",
            "gridwidth": 2,
            "linecolor": "white",
            "showbackground": true,
            "ticks": "",
            "zerolinecolor": "white"
           },
           "yaxis": {
            "backgroundcolor": "#E5ECF6",
            "gridcolor": "white",
            "gridwidth": 2,
            "linecolor": "white",
            "showbackground": true,
            "ticks": "",
            "zerolinecolor": "white"
           },
           "zaxis": {
            "backgroundcolor": "#E5ECF6",
            "gridcolor": "white",
            "gridwidth": 2,
            "linecolor": "white",
            "showbackground": true,
            "ticks": "",
            "zerolinecolor": "white"
           }
          },
          "shapedefaults": {
           "line": {
            "color": "#2a3f5f"
           }
          },
          "ternary": {
           "aaxis": {
            "gridcolor": "white",
            "linecolor": "white",
            "ticks": ""
           },
           "baxis": {
            "gridcolor": "white",
            "linecolor": "white",
            "ticks": ""
           },
           "bgcolor": "#E5ECF6",
           "caxis": {
            "gridcolor": "white",
            "linecolor": "white",
            "ticks": ""
           }
          },
          "title": {
           "x": 0.05
          },
          "xaxis": {
           "automargin": true,
           "gridcolor": "white",
           "linecolor": "white",
           "ticks": "",
           "title": {
            "standoff": 15
           },
           "zerolinecolor": "white",
           "zerolinewidth": 2
          },
          "yaxis": {
           "automargin": true,
           "gridcolor": "white",
           "linecolor": "white",
           "ticks": "",
           "title": {
            "standoff": 15
           },
           "zerolinecolor": "white",
           "zerolinewidth": 2
          }
         }
        },
        "title": {
         "text": "Exchange - [krkn]"
        },
        "width": 800,
        "yaxis": {
         "title": {
          "text": "Price"
         }
        }
       }
      }
     },
     "metadata": {},
     "output_type": "display_data"
    },
    {
     "data": {
      "application/vnd.plotly.v1+json": {
       "config": {
        "plotlyServerURL": "https://plot.ly"
       },
       "data": [
        {
         "close": [
          48487.22,
          50236.98,
          50220.01,
          50932.71,
          50650.86,
          50225.89,
          50099.64,
          50082.62,
          50666.7,
          50900.68,
          50134.22,
          50380,
          50738.3,
          49479.41,
          49427.61,
          49850.22,
          49371.5,
          50096.69,
          49619.18,
          48990.27,
          49174.4,
          48757.56,
          48850.4,
          49737.82
         ],
         "high": [
          49114.02,
          50353.43,
          50600,
          51000,
          51398,
          51025.22,
          50705.94,
          50350,
          50891.81,
          51415.41,
          51055.38,
          50939.86,
          51332.84,
          51123.31,
          49804.39,
          49877.97,
          50144.92,
          50113.72,
          50103.57,
          49733.51,
          49276.8,
          49174.41,
          48987.38,
          49788
         ],
         "low": [
          47002,
          48437.32,
          49832.71,
          50084.76,
          50358.54,
          49978.89,
          49436.23,
          49520.91,
          49782.86,
          50356.56,
          50110,
          50129.7,
          50368.45,
          49000,
          48731.33,
          48500,
          49353.95,
          49360.64,
          49544.84,
          48833.24,
          48608.58,
          48111,
          48078.62,
          48775.05
         ],
         "open": [
          48899.99,
          48498.8,
          50236.98,
          50220.01,
          50929.46,
          50655.08,
          50234.41,
          50098.05,
          50090.93,
          50664.17,
          50904.97,
          50129.71,
          50379.99,
          50738.3,
          49479.41,
          49427.61,
          49850,
          49371.49,
          50096.69,
          49619.19,
          48990.27,
          49174.41,
          48758.08,
          48842.66
         ],
         "type": "candlestick",
         "x": [
          "2021-02-24T00:00:00",
          "2021-02-24T01:00:00",
          "2021-02-24T02:00:00",
          "2021-02-24T03:00:00",
          "2021-02-24T04:00:00",
          "2021-02-24T05:00:00",
          "2021-02-24T06:00:00",
          "2021-02-24T07:00:00",
          "2021-02-24T08:00:00",
          "2021-02-24T09:00:00",
          "2021-02-24T10:00:00",
          "2021-02-24T11:00:00",
          "2021-02-24T12:00:00",
          "2021-02-24T13:00:00",
          "2021-02-24T14:00:00",
          "2021-02-24T15:00:00",
          "2021-02-24T16:00:00",
          "2021-02-24T17:00:00",
          "2021-02-24T18:00:00",
          "2021-02-24T19:00:00",
          "2021-02-24T20:00:00",
          "2021-02-24T21:00:00",
          "2021-02-24T22:00:00",
          "2021-02-24T23:00:00"
         ]
        },
        {
         "line": {
          "color": "blue"
         },
         "mode": "lines",
         "name": "VWAP",
         "type": "scatter",
         "x": [
          "2021-02-24T00:00:00",
          "2021-02-24T01:00:00",
          "2021-02-24T02:00:00",
          "2021-02-24T03:00:00",
          "2021-02-24T04:00:00",
          "2021-02-24T05:00:00",
          "2021-02-24T06:00:00",
          "2021-02-24T07:00:00",
          "2021-02-24T08:00:00",
          "2021-02-24T09:00:00",
          "2021-02-24T10:00:00",
          "2021-02-24T11:00:00",
          "2021-02-24T12:00:00",
          "2021-02-24T13:00:00",
          "2021-02-24T14:00:00",
          "2021-02-24T15:00:00",
          "2021-02-24T16:00:00",
          "2021-02-24T17:00:00",
          "2021-02-24T18:00:00",
          "2021-02-24T19:00:00",
          "2021-02-24T20:00:00",
          "2021-02-24T21:00:00",
          "2021-02-24T22:00:00",
          "2021-02-24T23:00:00"
         ],
         "y": [
          47945.341623582186,
          49317.2013704805,
          50248.89477536313,
          50498.14255772231,
          50942.6465201042,
          50513.98924239403,
          49982.465001746146,
          49959.624169039096,
          50541.09069368311,
          50901.00161126684,
          50523.88672136915,
          50498.455215959926,
          50935.79097939279,
          49811.472119348844,
          49293.34646323417,
          49224.856517405555,
          49748.94829880598,
          49813.53499755658,
          49790.60685492841,
          49259.860731840294,
          48922.873466604746,
          48476.87821131374,
          48579.18068932245,
          49428.97290287861
         ]
        },
        {
         "line": {
          "color": "grey"
         },
         "mode": "lines",
         "name": "vwmp_lower",
         "type": "scatter",
         "x": [
          "2021-02-24T00:00:00",
          "2021-02-24T01:00:00",
          "2021-02-24T02:00:00",
          "2021-02-24T03:00:00",
          "2021-02-24T04:00:00",
          "2021-02-24T05:00:00",
          "2021-02-24T06:00:00",
          "2021-02-24T07:00:00",
          "2021-02-24T08:00:00",
          "2021-02-24T09:00:00",
          "2021-02-24T10:00:00",
          "2021-02-24T11:00:00",
          "2021-02-24T12:00:00",
          "2021-02-24T13:00:00",
          "2021-02-24T14:00:00",
          "2021-02-24T15:00:00",
          "2021-02-24T16:00:00",
          "2021-02-24T17:00:00",
          "2021-02-24T18:00:00",
          "2021-02-24T19:00:00",
          "2021-02-24T20:00:00",
          "2021-02-24T21:00:00",
          "2021-02-24T22:00:00",
          "2021-02-24T23:00:00"
         ],
         "y": [
          48577.2,
          48703.58,
          50078.86,
          50466.57,
          50668.33,
          50830.63,
          50170.68,
          50255.06,
          50184.44,
          50820.01,
          50498.84,
          50239.09,
          51108.72,
          49762.17,
          49503.71,
          49492.63,
          49717.89,
          49837.46,
          49703.37,
          49000,
          48977.24,
          48641.53,
          48568,
          49227.93
         ]
        }
       ],
       "layout": {
        "height": 300,
        "margin": {
         "b": 20,
         "l": 70,
         "r": 50,
         "t": 50
        },
        "template": {
         "data": {
          "bar": [
           {
            "error_x": {
             "color": "#2a3f5f"
            },
            "error_y": {
             "color": "#2a3f5f"
            },
            "marker": {
             "line": {
              "color": "#E5ECF6",
              "width": 0.5
             },
             "pattern": {
              "fillmode": "overlay",
              "size": 10,
              "solidity": 0.2
             }
            },
            "type": "bar"
           }
          ],
          "barpolar": [
           {
            "marker": {
             "line": {
              "color": "#E5ECF6",
              "width": 0.5
             },
             "pattern": {
              "fillmode": "overlay",
              "size": 10,
              "solidity": 0.2
             }
            },
            "type": "barpolar"
           }
          ],
          "carpet": [
           {
            "aaxis": {
             "endlinecolor": "#2a3f5f",
             "gridcolor": "white",
             "linecolor": "white",
             "minorgridcolor": "white",
             "startlinecolor": "#2a3f5f"
            },
            "baxis": {
             "endlinecolor": "#2a3f5f",
             "gridcolor": "white",
             "linecolor": "white",
             "minorgridcolor": "white",
             "startlinecolor": "#2a3f5f"
            },
            "type": "carpet"
           }
          ],
          "choropleth": [
           {
            "colorbar": {
             "outlinewidth": 0,
             "ticks": ""
            },
            "type": "choropleth"
           }
          ],
          "contour": [
           {
            "colorbar": {
             "outlinewidth": 0,
             "ticks": ""
            },
            "colorscale": [
             [
              0,
              "#0d0887"
             ],
             [
              0.1111111111111111,
              "#46039f"
             ],
             [
              0.2222222222222222,
              "#7201a8"
             ],
             [
              0.3333333333333333,
              "#9c179e"
             ],
             [
              0.4444444444444444,
              "#bd3786"
             ],
             [
              0.5555555555555556,
              "#d8576b"
             ],
             [
              0.6666666666666666,
              "#ed7953"
             ],
             [
              0.7777777777777778,
              "#fb9f3a"
             ],
             [
              0.8888888888888888,
              "#fdca26"
             ],
             [
              1,
              "#f0f921"
             ]
            ],
            "type": "contour"
           }
          ],
          "contourcarpet": [
           {
            "colorbar": {
             "outlinewidth": 0,
             "ticks": ""
            },
            "type": "contourcarpet"
           }
          ],
          "heatmap": [
           {
            "colorbar": {
             "outlinewidth": 0,
             "ticks": ""
            },
            "colorscale": [
             [
              0,
              "#0d0887"
             ],
             [
              0.1111111111111111,
              "#46039f"
             ],
             [
              0.2222222222222222,
              "#7201a8"
             ],
             [
              0.3333333333333333,
              "#9c179e"
             ],
             [
              0.4444444444444444,
              "#bd3786"
             ],
             [
              0.5555555555555556,
              "#d8576b"
             ],
             [
              0.6666666666666666,
              "#ed7953"
             ],
             [
              0.7777777777777778,
              "#fb9f3a"
             ],
             [
              0.8888888888888888,
              "#fdca26"
             ],
             [
              1,
              "#f0f921"
             ]
            ],
            "type": "heatmap"
           }
          ],
          "heatmapgl": [
           {
            "colorbar": {
             "outlinewidth": 0,
             "ticks": ""
            },
            "colorscale": [
             [
              0,
              "#0d0887"
             ],
             [
              0.1111111111111111,
              "#46039f"
             ],
             [
              0.2222222222222222,
              "#7201a8"
             ],
             [
              0.3333333333333333,
              "#9c179e"
             ],
             [
              0.4444444444444444,
              "#bd3786"
             ],
             [
              0.5555555555555556,
              "#d8576b"
             ],
             [
              0.6666666666666666,
              "#ed7953"
             ],
             [
              0.7777777777777778,
              "#fb9f3a"
             ],
             [
              0.8888888888888888,
              "#fdca26"
             ],
             [
              1,
              "#f0f921"
             ]
            ],
            "type": "heatmapgl"
           }
          ],
          "histogram": [
           {
            "marker": {
             "pattern": {
              "fillmode": "overlay",
              "size": 10,
              "solidity": 0.2
             }
            },
            "type": "histogram"
           }
          ],
          "histogram2d": [
           {
            "colorbar": {
             "outlinewidth": 0,
             "ticks": ""
            },
            "colorscale": [
             [
              0,
              "#0d0887"
             ],
             [
              0.1111111111111111,
              "#46039f"
             ],
             [
              0.2222222222222222,
              "#7201a8"
             ],
             [
              0.3333333333333333,
              "#9c179e"
             ],
             [
              0.4444444444444444,
              "#bd3786"
             ],
             [
              0.5555555555555556,
              "#d8576b"
             ],
             [
              0.6666666666666666,
              "#ed7953"
             ],
             [
              0.7777777777777778,
              "#fb9f3a"
             ],
             [
              0.8888888888888888,
              "#fdca26"
             ],
             [
              1,
              "#f0f921"
             ]
            ],
            "type": "histogram2d"
           }
          ],
          "histogram2dcontour": [
           {
            "colorbar": {
             "outlinewidth": 0,
             "ticks": ""
            },
            "colorscale": [
             [
              0,
              "#0d0887"
             ],
             [
              0.1111111111111111,
              "#46039f"
             ],
             [
              0.2222222222222222,
              "#7201a8"
             ],
             [
              0.3333333333333333,
              "#9c179e"
             ],
             [
              0.4444444444444444,
              "#bd3786"
             ],
             [
              0.5555555555555556,
              "#d8576b"
             ],
             [
              0.6666666666666666,
              "#ed7953"
             ],
             [
              0.7777777777777778,
              "#fb9f3a"
             ],
             [
              0.8888888888888888,
              "#fdca26"
             ],
             [
              1,
              "#f0f921"
             ]
            ],
            "type": "histogram2dcontour"
           }
          ],
          "mesh3d": [
           {
            "colorbar": {
             "outlinewidth": 0,
             "ticks": ""
            },
            "type": "mesh3d"
           }
          ],
          "parcoords": [
           {
            "line": {
             "colorbar": {
              "outlinewidth": 0,
              "ticks": ""
             }
            },
            "type": "parcoords"
           }
          ],
          "pie": [
           {
            "automargin": true,
            "type": "pie"
           }
          ],
          "scatter": [
           {
            "fillpattern": {
             "fillmode": "overlay",
             "size": 10,
             "solidity": 0.2
            },
            "type": "scatter"
           }
          ],
          "scatter3d": [
           {
            "line": {
             "colorbar": {
              "outlinewidth": 0,
              "ticks": ""
             }
            },
            "marker": {
             "colorbar": {
              "outlinewidth": 0,
              "ticks": ""
             }
            },
            "type": "scatter3d"
           }
          ],
          "scattercarpet": [
           {
            "marker": {
             "colorbar": {
              "outlinewidth": 0,
              "ticks": ""
             }
            },
            "type": "scattercarpet"
           }
          ],
          "scattergeo": [
           {
            "marker": {
             "colorbar": {
              "outlinewidth": 0,
              "ticks": ""
             }
            },
            "type": "scattergeo"
           }
          ],
          "scattergl": [
           {
            "marker": {
             "colorbar": {
              "outlinewidth": 0,
              "ticks": ""
             }
            },
            "type": "scattergl"
           }
          ],
          "scattermapbox": [
           {
            "marker": {
             "colorbar": {
              "outlinewidth": 0,
              "ticks": ""
             }
            },
            "type": "scattermapbox"
           }
          ],
          "scatterpolar": [
           {
            "marker": {
             "colorbar": {
              "outlinewidth": 0,
              "ticks": ""
             }
            },
            "type": "scatterpolar"
           }
          ],
          "scatterpolargl": [
           {
            "marker": {
             "colorbar": {
              "outlinewidth": 0,
              "ticks": ""
             }
            },
            "type": "scatterpolargl"
           }
          ],
          "scatterternary": [
           {
            "marker": {
             "colorbar": {
              "outlinewidth": 0,
              "ticks": ""
             }
            },
            "type": "scatterternary"
           }
          ],
          "surface": [
           {
            "colorbar": {
             "outlinewidth": 0,
             "ticks": ""
            },
            "colorscale": [
             [
              0,
              "#0d0887"
             ],
             [
              0.1111111111111111,
              "#46039f"
             ],
             [
              0.2222222222222222,
              "#7201a8"
             ],
             [
              0.3333333333333333,
              "#9c179e"
             ],
             [
              0.4444444444444444,
              "#bd3786"
             ],
             [
              0.5555555555555556,
              "#d8576b"
             ],
             [
              0.6666666666666666,
              "#ed7953"
             ],
             [
              0.7777777777777778,
              "#fb9f3a"
             ],
             [
              0.8888888888888888,
              "#fdca26"
             ],
             [
              1,
              "#f0f921"
             ]
            ],
            "type": "surface"
           }
          ],
          "table": [
           {
            "cells": {
             "fill": {
              "color": "#EBF0F8"
             },
             "line": {
              "color": "white"
             }
            },
            "header": {
             "fill": {
              "color": "#C8D4E3"
             },
             "line": {
              "color": "white"
             }
            },
            "type": "table"
           }
          ]
         },
         "layout": {
          "annotationdefaults": {
           "arrowcolor": "#2a3f5f",
           "arrowhead": 0,
           "arrowwidth": 1
          },
          "autotypenumbers": "strict",
          "coloraxis": {
           "colorbar": {
            "outlinewidth": 0,
            "ticks": ""
           }
          },
          "colorscale": {
           "diverging": [
            [
             0,
             "#8e0152"
            ],
            [
             0.1,
             "#c51b7d"
            ],
            [
             0.2,
             "#de77ae"
            ],
            [
             0.3,
             "#f1b6da"
            ],
            [
             0.4,
             "#fde0ef"
            ],
            [
             0.5,
             "#f7f7f7"
            ],
            [
             0.6,
             "#e6f5d0"
            ],
            [
             0.7,
             "#b8e186"
            ],
            [
             0.8,
             "#7fbc41"
            ],
            [
             0.9,
             "#4d9221"
            ],
            [
             1,
             "#276419"
            ]
           ],
           "sequential": [
            [
             0,
             "#0d0887"
            ],
            [
             0.1111111111111111,
             "#46039f"
            ],
            [
             0.2222222222222222,
             "#7201a8"
            ],
            [
             0.3333333333333333,
             "#9c179e"
            ],
            [
             0.4444444444444444,
             "#bd3786"
            ],
            [
             0.5555555555555556,
             "#d8576b"
            ],
            [
             0.6666666666666666,
             "#ed7953"
            ],
            [
             0.7777777777777778,
             "#fb9f3a"
            ],
            [
             0.8888888888888888,
             "#fdca26"
            ],
            [
             1,
             "#f0f921"
            ]
           ],
           "sequentialminus": [
            [
             0,
             "#0d0887"
            ],
            [
             0.1111111111111111,
             "#46039f"
            ],
            [
             0.2222222222222222,
             "#7201a8"
            ],
            [
             0.3333333333333333,
             "#9c179e"
            ],
            [
             0.4444444444444444,
             "#bd3786"
            ],
            [
             0.5555555555555556,
             "#d8576b"
            ],
            [
             0.6666666666666666,
             "#ed7953"
            ],
            [
             0.7777777777777778,
             "#fb9f3a"
            ],
            [
             0.8888888888888888,
             "#fdca26"
            ],
            [
             1,
             "#f0f921"
            ]
           ]
          },
          "colorway": [
           "#636efa",
           "#EF553B",
           "#00cc96",
           "#ab63fa",
           "#FFA15A",
           "#19d3f3",
           "#FF6692",
           "#B6E880",
           "#FF97FF",
           "#FECB52"
          ],
          "font": {
           "color": "#2a3f5f"
          },
          "geo": {
           "bgcolor": "white",
           "lakecolor": "white",
           "landcolor": "#E5ECF6",
           "showlakes": true,
           "showland": true,
           "subunitcolor": "white"
          },
          "hoverlabel": {
           "align": "left"
          },
          "hovermode": "closest",
          "mapbox": {
           "style": "light"
          },
          "paper_bgcolor": "white",
          "plot_bgcolor": "#E5ECF6",
          "polar": {
           "angularaxis": {
            "gridcolor": "white",
            "linecolor": "white",
            "ticks": ""
           },
           "bgcolor": "#E5ECF6",
           "radialaxis": {
            "gridcolor": "white",
            "linecolor": "white",
            "ticks": ""
           }
          },
          "scene": {
           "xaxis": {
            "backgroundcolor": "#E5ECF6",
            "gridcolor": "white",
            "gridwidth": 2,
            "linecolor": "white",
            "showbackground": true,
            "ticks": "",
            "zerolinecolor": "white"
           },
           "yaxis": {
            "backgroundcolor": "#E5ECF6",
            "gridcolor": "white",
            "gridwidth": 2,
            "linecolor": "white",
            "showbackground": true,
            "ticks": "",
            "zerolinecolor": "white"
           },
           "zaxis": {
            "backgroundcolor": "#E5ECF6",
            "gridcolor": "white",
            "gridwidth": 2,
            "linecolor": "white",
            "showbackground": true,
            "ticks": "",
            "zerolinecolor": "white"
           }
          },
          "shapedefaults": {
           "line": {
            "color": "#2a3f5f"
           }
          },
          "ternary": {
           "aaxis": {
            "gridcolor": "white",
            "linecolor": "white",
            "ticks": ""
           },
           "baxis": {
            "gridcolor": "white",
            "linecolor": "white",
            "ticks": ""
           },
           "bgcolor": "#E5ECF6",
           "caxis": {
            "gridcolor": "white",
            "linecolor": "white",
            "ticks": ""
           }
          },
          "title": {
           "x": 0.05
          },
          "xaxis": {
           "automargin": true,
           "gridcolor": "white",
           "linecolor": "white",
           "ticks": "",
           "title": {
            "standoff": 15
           },
           "zerolinecolor": "white",
           "zerolinewidth": 2
          },
          "yaxis": {
           "automargin": true,
           "gridcolor": "white",
           "linecolor": "white",
           "ticks": "",
           "title": {
            "standoff": 15
           },
           "zerolinecolor": "white",
           "zerolinewidth": 2
          }
         }
        },
        "title": {
         "text": "Exchange - [cbse]"
        },
        "width": 800,
        "yaxis": {
         "title": {
          "text": "Price"
         }
        }
       }
      }
     },
     "metadata": {},
     "output_type": "display_data"
    },
    {
     "data": {
      "application/vnd.plotly.v1+json": {
       "config": {
        "plotlyServerURL": "https://plot.ly"
       },
       "data": [
        {
         "close": [
          48482.38,
          50214.49,
          50206.46,
          50898.28,
          50636.53,
          50217.25,
          50093.88,
          50042.91,
          50658.05,
          50904.26,
          50111.98,
          50390.43,
          50744.2,
          49468.85,
          49434.82,
          49844.79,
          49341.98,
          50084.5,
          49599.14,
          48982.64,
          49174.6,
          48790.7,
          48852.09,
          49714.5
         ],
         "high": [
          49096.01,
          50214.5,
          50566.28,
          50995.25,
          51399.11,
          51030.13,
          50678.4,
          50362.13,
          50884.72,
          51402.65,
          51042.97,
          50905.69,
          51323.93,
          51080.27,
          49794.69,
          49892.5,
          50141,
          50084.5,
          50084.5,
          49744.85,
          49272.2,
          49180.95,
          48945.74,
          49770.84
         ],
         "low": [
          47001.88,
          48438.82,
          49781.14,
          50091.01,
          50342.02,
          49983.24,
          49400,
          49501.04,
          49818.38,
          50362.72,
          50099.68,
          50113.4,
          50324.99,
          49058.18,
          48757.06,
          48452.03,
          49335.8,
          49337.75,
          49546.01,
          48865.97,
          48591.66,
          48135.88,
          48054.15,
          48753.08
         ],
         "open": [
          48875,
          48438.82,
          50171.91,
          50177.5,
          50900.61,
          50656.06,
          50211.36,
          50091.48,
          50089.2,
          50661.48,
          50908.49,
          50113.4,
          50397.47,
          50758.51,
          49497.41,
          49426.74,
          49847.29,
          49337.75,
          50065.13,
          49601.14,
          48996.32,
          49142.58,
          48744.47,
          48829.4
         ],
         "type": "candlestick",
         "x": [
          "2021-02-24T00:00:00",
          "2021-02-24T01:00:00",
          "2021-02-24T02:00:00",
          "2021-02-24T03:00:00",
          "2021-02-24T04:00:00",
          "2021-02-24T05:00:00",
          "2021-02-24T06:00:00",
          "2021-02-24T07:00:00",
          "2021-02-24T08:00:00",
          "2021-02-24T09:00:00",
          "2021-02-24T10:00:00",
          "2021-02-24T11:00:00",
          "2021-02-24T12:00:00",
          "2021-02-24T13:00:00",
          "2021-02-24T14:00:00",
          "2021-02-24T15:00:00",
          "2021-02-24T16:00:00",
          "2021-02-24T17:00:00",
          "2021-02-24T18:00:00",
          "2021-02-24T19:00:00",
          "2021-02-24T20:00:00",
          "2021-02-24T21:00:00",
          "2021-02-24T22:00:00",
          "2021-02-24T23:00:00"
         ]
        },
        {
         "line": {
          "color": "blue"
         },
         "mode": "lines",
         "name": "VWAP",
         "type": "scatter",
         "x": [
          "2021-02-24T00:00:00",
          "2021-02-24T01:00:00",
          "2021-02-24T02:00:00",
          "2021-02-24T03:00:00",
          "2021-02-24T04:00:00",
          "2021-02-24T05:00:00",
          "2021-02-24T06:00:00",
          "2021-02-24T07:00:00",
          "2021-02-24T08:00:00",
          "2021-02-24T09:00:00",
          "2021-02-24T10:00:00",
          "2021-02-24T11:00:00",
          "2021-02-24T12:00:00",
          "2021-02-24T13:00:00",
          "2021-02-24T14:00:00",
          "2021-02-24T15:00:00",
          "2021-02-24T16:00:00",
          "2021-02-24T17:00:00",
          "2021-02-24T18:00:00",
          "2021-02-24T19:00:00",
          "2021-02-24T20:00:00",
          "2021-02-24T21:00:00",
          "2021-02-24T22:00:00",
          "2021-02-24T23:00:00"
         ],
         "y": [
          47846.7630099949,
          49196.187345726816,
          50200.41431446228,
          50523.291434520965,
          50900.7964807991,
          50383.987433823866,
          50046.48648711953,
          49861.58115189437,
          50559.886412506174,
          50842.08062786721,
          50515.86745208439,
          50475.33873254126,
          50870.863408262754,
          49783.077635114874,
          49251.72383800201,
          49258.30686311825,
          49765.87831128304,
          49808.54472170588,
          49795.325779386316,
          49355.10962302461,
          48906.47633517542,
          48485.98060584109,
          48549.925443470296,
          49399.63013406116
         ]
        },
        {
         "line": {
          "color": "grey"
         },
         "mode": "lines",
         "name": "vwmp_lower",
         "type": "scatter",
         "x": [
          "2021-02-24T00:00:00",
          "2021-02-24T01:00:00",
          "2021-02-24T02:00:00",
          "2021-02-24T03:00:00",
          "2021-02-24T04:00:00",
          "2021-02-24T05:00:00",
          "2021-02-24T06:00:00",
          "2021-02-24T07:00:00",
          "2021-02-24T08:00:00",
          "2021-02-24T09:00:00",
          "2021-02-24T10:00:00",
          "2021-02-24T11:00:00",
          "2021-02-24T12:00:00",
          "2021-02-24T13:00:00",
          "2021-02-24T14:00:00",
          "2021-02-24T15:00:00",
          "2021-02-24T16:00:00",
          "2021-02-24T17:00:00",
          "2021-02-24T18:00:00",
          "2021-02-24T19:00:00",
          "2021-02-24T20:00:00",
          "2021-02-24T21:00:00",
          "2021-02-24T22:00:00",
          "2021-02-24T23:00:00"
         ],
         "y": [
          47900,
          49234.79,
          50276.62,
          50211.69,
          51075.09,
          50099.92,
          50439.66,
          49557,
          50868.01,
          50959.97,
          50305.7,
          50285.31,
          50702.44,
          49755.51,
          49288.47,
          49100,
          49390.69,
          49715.61,
          49919.01,
          49611,
          49100.01,
          48365.67,
          48724.33,
          49568.7
         ]
        }
       ],
       "layout": {
        "height": 300,
        "margin": {
         "b": 20,
         "l": 70,
         "r": 50,
         "t": 50
        },
        "template": {
         "data": {
          "bar": [
           {
            "error_x": {
             "color": "#2a3f5f"
            },
            "error_y": {
             "color": "#2a3f5f"
            },
            "marker": {
             "line": {
              "color": "#E5ECF6",
              "width": 0.5
             },
             "pattern": {
              "fillmode": "overlay",
              "size": 10,
              "solidity": 0.2
             }
            },
            "type": "bar"
           }
          ],
          "barpolar": [
           {
            "marker": {
             "line": {
              "color": "#E5ECF6",
              "width": 0.5
             },
             "pattern": {
              "fillmode": "overlay",
              "size": 10,
              "solidity": 0.2
             }
            },
            "type": "barpolar"
           }
          ],
          "carpet": [
           {
            "aaxis": {
             "endlinecolor": "#2a3f5f",
             "gridcolor": "white",
             "linecolor": "white",
             "minorgridcolor": "white",
             "startlinecolor": "#2a3f5f"
            },
            "baxis": {
             "endlinecolor": "#2a3f5f",
             "gridcolor": "white",
             "linecolor": "white",
             "minorgridcolor": "white",
             "startlinecolor": "#2a3f5f"
            },
            "type": "carpet"
           }
          ],
          "choropleth": [
           {
            "colorbar": {
             "outlinewidth": 0,
             "ticks": ""
            },
            "type": "choropleth"
           }
          ],
          "contour": [
           {
            "colorbar": {
             "outlinewidth": 0,
             "ticks": ""
            },
            "colorscale": [
             [
              0,
              "#0d0887"
             ],
             [
              0.1111111111111111,
              "#46039f"
             ],
             [
              0.2222222222222222,
              "#7201a8"
             ],
             [
              0.3333333333333333,
              "#9c179e"
             ],
             [
              0.4444444444444444,
              "#bd3786"
             ],
             [
              0.5555555555555556,
              "#d8576b"
             ],
             [
              0.6666666666666666,
              "#ed7953"
             ],
             [
              0.7777777777777778,
              "#fb9f3a"
             ],
             [
              0.8888888888888888,
              "#fdca26"
             ],
             [
              1,
              "#f0f921"
             ]
            ],
            "type": "contour"
           }
          ],
          "contourcarpet": [
           {
            "colorbar": {
             "outlinewidth": 0,
             "ticks": ""
            },
            "type": "contourcarpet"
           }
          ],
          "heatmap": [
           {
            "colorbar": {
             "outlinewidth": 0,
             "ticks": ""
            },
            "colorscale": [
             [
              0,
              "#0d0887"
             ],
             [
              0.1111111111111111,
              "#46039f"
             ],
             [
              0.2222222222222222,
              "#7201a8"
             ],
             [
              0.3333333333333333,
              "#9c179e"
             ],
             [
              0.4444444444444444,
              "#bd3786"
             ],
             [
              0.5555555555555556,
              "#d8576b"
             ],
             [
              0.6666666666666666,
              "#ed7953"
             ],
             [
              0.7777777777777778,
              "#fb9f3a"
             ],
             [
              0.8888888888888888,
              "#fdca26"
             ],
             [
              1,
              "#f0f921"
             ]
            ],
            "type": "heatmap"
           }
          ],
          "heatmapgl": [
           {
            "colorbar": {
             "outlinewidth": 0,
             "ticks": ""
            },
            "colorscale": [
             [
              0,
              "#0d0887"
             ],
             [
              0.1111111111111111,
              "#46039f"
             ],
             [
              0.2222222222222222,
              "#7201a8"
             ],
             [
              0.3333333333333333,
              "#9c179e"
             ],
             [
              0.4444444444444444,
              "#bd3786"
             ],
             [
              0.5555555555555556,
              "#d8576b"
             ],
             [
              0.6666666666666666,
              "#ed7953"
             ],
             [
              0.7777777777777778,
              "#fb9f3a"
             ],
             [
              0.8888888888888888,
              "#fdca26"
             ],
             [
              1,
              "#f0f921"
             ]
            ],
            "type": "heatmapgl"
           }
          ],
          "histogram": [
           {
            "marker": {
             "pattern": {
              "fillmode": "overlay",
              "size": 10,
              "solidity": 0.2
             }
            },
            "type": "histogram"
           }
          ],
          "histogram2d": [
           {
            "colorbar": {
             "outlinewidth": 0,
             "ticks": ""
            },
            "colorscale": [
             [
              0,
              "#0d0887"
             ],
             [
              0.1111111111111111,
              "#46039f"
             ],
             [
              0.2222222222222222,
              "#7201a8"
             ],
             [
              0.3333333333333333,
              "#9c179e"
             ],
             [
              0.4444444444444444,
              "#bd3786"
             ],
             [
              0.5555555555555556,
              "#d8576b"
             ],
             [
              0.6666666666666666,
              "#ed7953"
             ],
             [
              0.7777777777777778,
              "#fb9f3a"
             ],
             [
              0.8888888888888888,
              "#fdca26"
             ],
             [
              1,
              "#f0f921"
             ]
            ],
            "type": "histogram2d"
           }
          ],
          "histogram2dcontour": [
           {
            "colorbar": {
             "outlinewidth": 0,
             "ticks": ""
            },
            "colorscale": [
             [
              0,
              "#0d0887"
             ],
             [
              0.1111111111111111,
              "#46039f"
             ],
             [
              0.2222222222222222,
              "#7201a8"
             ],
             [
              0.3333333333333333,
              "#9c179e"
             ],
             [
              0.4444444444444444,
              "#bd3786"
             ],
             [
              0.5555555555555556,
              "#d8576b"
             ],
             [
              0.6666666666666666,
              "#ed7953"
             ],
             [
              0.7777777777777778,
              "#fb9f3a"
             ],
             [
              0.8888888888888888,
              "#fdca26"
             ],
             [
              1,
              "#f0f921"
             ]
            ],
            "type": "histogram2dcontour"
           }
          ],
          "mesh3d": [
           {
            "colorbar": {
             "outlinewidth": 0,
             "ticks": ""
            },
            "type": "mesh3d"
           }
          ],
          "parcoords": [
           {
            "line": {
             "colorbar": {
              "outlinewidth": 0,
              "ticks": ""
             }
            },
            "type": "parcoords"
           }
          ],
          "pie": [
           {
            "automargin": true,
            "type": "pie"
           }
          ],
          "scatter": [
           {
            "fillpattern": {
             "fillmode": "overlay",
             "size": 10,
             "solidity": 0.2
            },
            "type": "scatter"
           }
          ],
          "scatter3d": [
           {
            "line": {
             "colorbar": {
              "outlinewidth": 0,
              "ticks": ""
             }
            },
            "marker": {
             "colorbar": {
              "outlinewidth": 0,
              "ticks": ""
             }
            },
            "type": "scatter3d"
           }
          ],
          "scattercarpet": [
           {
            "marker": {
             "colorbar": {
              "outlinewidth": 0,
              "ticks": ""
             }
            },
            "type": "scattercarpet"
           }
          ],
          "scattergeo": [
           {
            "marker": {
             "colorbar": {
              "outlinewidth": 0,
              "ticks": ""
             }
            },
            "type": "scattergeo"
           }
          ],
          "scattergl": [
           {
            "marker": {
             "colorbar": {
              "outlinewidth": 0,
              "ticks": ""
             }
            },
            "type": "scattergl"
           }
          ],
          "scattermapbox": [
           {
            "marker": {
             "colorbar": {
              "outlinewidth": 0,
              "ticks": ""
             }
            },
            "type": "scattermapbox"
           }
          ],
          "scatterpolar": [
           {
            "marker": {
             "colorbar": {
              "outlinewidth": 0,
              "ticks": ""
             }
            },
            "type": "scatterpolar"
           }
          ],
          "scatterpolargl": [
           {
            "marker": {
             "colorbar": {
              "outlinewidth": 0,
              "ticks": ""
             }
            },
            "type": "scatterpolargl"
           }
          ],
          "scatterternary": [
           {
            "marker": {
             "colorbar": {
              "outlinewidth": 0,
              "ticks": ""
             }
            },
            "type": "scatterternary"
           }
          ],
          "surface": [
           {
            "colorbar": {
             "outlinewidth": 0,
             "ticks": ""
            },
            "colorscale": [
             [
              0,
              "#0d0887"
             ],
             [
              0.1111111111111111,
              "#46039f"
             ],
             [
              0.2222222222222222,
              "#7201a8"
             ],
             [
              0.3333333333333333,
              "#9c179e"
             ],
             [
              0.4444444444444444,
              "#bd3786"
             ],
             [
              0.5555555555555556,
              "#d8576b"
             ],
             [
              0.6666666666666666,
              "#ed7953"
             ],
             [
              0.7777777777777778,
              "#fb9f3a"
             ],
             [
              0.8888888888888888,
              "#fdca26"
             ],
             [
              1,
              "#f0f921"
             ]
            ],
            "type": "surface"
           }
          ],
          "table": [
           {
            "cells": {
             "fill": {
              "color": "#EBF0F8"
             },
             "line": {
              "color": "white"
             }
            },
            "header": {
             "fill": {
              "color": "#C8D4E3"
             },
             "line": {
              "color": "white"
             }
            },
            "type": "table"
           }
          ]
         },
         "layout": {
          "annotationdefaults": {
           "arrowcolor": "#2a3f5f",
           "arrowhead": 0,
           "arrowwidth": 1
          },
          "autotypenumbers": "strict",
          "coloraxis": {
           "colorbar": {
            "outlinewidth": 0,
            "ticks": ""
           }
          },
          "colorscale": {
           "diverging": [
            [
             0,
             "#8e0152"
            ],
            [
             0.1,
             "#c51b7d"
            ],
            [
             0.2,
             "#de77ae"
            ],
            [
             0.3,
             "#f1b6da"
            ],
            [
             0.4,
             "#fde0ef"
            ],
            [
             0.5,
             "#f7f7f7"
            ],
            [
             0.6,
             "#e6f5d0"
            ],
            [
             0.7,
             "#b8e186"
            ],
            [
             0.8,
             "#7fbc41"
            ],
            [
             0.9,
             "#4d9221"
            ],
            [
             1,
             "#276419"
            ]
           ],
           "sequential": [
            [
             0,
             "#0d0887"
            ],
            [
             0.1111111111111111,
             "#46039f"
            ],
            [
             0.2222222222222222,
             "#7201a8"
            ],
            [
             0.3333333333333333,
             "#9c179e"
            ],
            [
             0.4444444444444444,
             "#bd3786"
            ],
            [
             0.5555555555555556,
             "#d8576b"
            ],
            [
             0.6666666666666666,
             "#ed7953"
            ],
            [
             0.7777777777777778,
             "#fb9f3a"
            ],
            [
             0.8888888888888888,
             "#fdca26"
            ],
            [
             1,
             "#f0f921"
            ]
           ],
           "sequentialminus": [
            [
             0,
             "#0d0887"
            ],
            [
             0.1111111111111111,
             "#46039f"
            ],
            [
             0.2222222222222222,
             "#7201a8"
            ],
            [
             0.3333333333333333,
             "#9c179e"
            ],
            [
             0.4444444444444444,
             "#bd3786"
            ],
            [
             0.5555555555555556,
             "#d8576b"
            ],
            [
             0.6666666666666666,
             "#ed7953"
            ],
            [
             0.7777777777777778,
             "#fb9f3a"
            ],
            [
             0.8888888888888888,
             "#fdca26"
            ],
            [
             1,
             "#f0f921"
            ]
           ]
          },
          "colorway": [
           "#636efa",
           "#EF553B",
           "#00cc96",
           "#ab63fa",
           "#FFA15A",
           "#19d3f3",
           "#FF6692",
           "#B6E880",
           "#FF97FF",
           "#FECB52"
          ],
          "font": {
           "color": "#2a3f5f"
          },
          "geo": {
           "bgcolor": "white",
           "lakecolor": "white",
           "landcolor": "#E5ECF6",
           "showlakes": true,
           "showland": true,
           "subunitcolor": "white"
          },
          "hoverlabel": {
           "align": "left"
          },
          "hovermode": "closest",
          "mapbox": {
           "style": "light"
          },
          "paper_bgcolor": "white",
          "plot_bgcolor": "#E5ECF6",
          "polar": {
           "angularaxis": {
            "gridcolor": "white",
            "linecolor": "white",
            "ticks": ""
           },
           "bgcolor": "#E5ECF6",
           "radialaxis": {
            "gridcolor": "white",
            "linecolor": "white",
            "ticks": ""
           }
          },
          "scene": {
           "xaxis": {
            "backgroundcolor": "#E5ECF6",
            "gridcolor": "white",
            "gridwidth": 2,
            "linecolor": "white",
            "showbackground": true,
            "ticks": "",
            "zerolinecolor": "white"
           },
           "yaxis": {
            "backgroundcolor": "#E5ECF6",
            "gridcolor": "white",
            "gridwidth": 2,
            "linecolor": "white",
            "showbackground": true,
            "ticks": "",
            "zerolinecolor": "white"
           },
           "zaxis": {
            "backgroundcolor": "#E5ECF6",
            "gridcolor": "white",
            "gridwidth": 2,
            "linecolor": "white",
            "showbackground": true,
            "ticks": "",
            "zerolinecolor": "white"
           }
          },
          "shapedefaults": {
           "line": {
            "color": "#2a3f5f"
           }
          },
          "ternary": {
           "aaxis": {
            "gridcolor": "white",
            "linecolor": "white",
            "ticks": ""
           },
           "baxis": {
            "gridcolor": "white",
            "linecolor": "white",
            "ticks": ""
           },
           "bgcolor": "#E5ECF6",
           "caxis": {
            "gridcolor": "white",
            "linecolor": "white",
            "ticks": ""
           }
          },
          "title": {
           "x": 0.05
          },
          "xaxis": {
           "automargin": true,
           "gridcolor": "white",
           "linecolor": "white",
           "ticks": "",
           "title": {
            "standoff": 15
           },
           "zerolinecolor": "white",
           "zerolinewidth": 2
          },
          "yaxis": {
           "automargin": true,
           "gridcolor": "white",
           "linecolor": "white",
           "ticks": "",
           "title": {
            "standoff": 15
           },
           "zerolinecolor": "white",
           "zerolinewidth": 2
          }
         }
        },
        "title": {
         "text": "Exchange - [bnus]"
        },
        "width": 800,
        "yaxis": {
         "title": {
          "text": "Price"
         }
        }
       }
      }
     },
     "metadata": {},
     "output_type": "display_data"
    },
    {
     "data": {
      "application/vnd.plotly.v1+json": {
       "config": {
        "plotlyServerURL": "https://plot.ly"
       },
       "data": [
        {
         "close": [
          48191.14,
          50161.64,
          50136.78,
          50948,
          50743.89,
          50018.9,
          49680.1,
          50726.45,
          50846.85,
          50486.11,
          50702.08,
          51229.87,
          49699,
          49026.73,
          49321.43,
          49537.17,
          49731.74,
          49700,
          48997.6,
          49279.32,
          48499,
          48864.19,
          49712.15
         ],
         "high": [
          48929.54,
          50161.64,
          50513.79,
          50948,
          51025.46,
          50050.8,
          49680.1,
          50726.45,
          50907.35,
          50544.26,
          50702.08,
          51229.87,
          50500,
          49700,
          49321.43,
          50314.08,
          49779,
          49700,
          49444.96,
          49279.32,
          48844.07,
          48864.19,
          49712.15
         ],
         "low": [
          47086.89,
          48798.7,
          49994.55,
          50948,
          50736.28,
          49656.52,
          49680.1,
          49890.34,
          50846.85,
          50486.11,
          50436.16,
          51078.18,
          48978.31,
          48888,
          48517.6,
          49449.13,
          49704.36,
          49600,
          48997.6,
          48847.56,
          48202.94,
          48070.33,
          49603.44
         ],
         "open": [
          48929.54,
          48934.14,
          49994.55,
          50948,
          51025.46,
          50050.8,
          49680.1,
          49890.34,
          50890.43,
          50544.26,
          50500,
          51078.18,
          50500,
          49700,
          49085.09,
          50314.08,
          49717.23,
          49600,
          49444.96,
          49144.07,
          48844.07,
          48211.04,
          49603.44
         ],
         "type": "candlestick",
         "x": [
          "2021-02-24T00:00:00",
          "2021-02-24T01:00:00",
          "2021-02-24T02:00:00",
          "2021-02-24T03:00:00",
          "2021-02-24T04:00:00",
          "2021-02-24T06:00:00",
          "2021-02-24T07:00:00",
          "2021-02-24T08:00:00",
          "2021-02-24T09:00:00",
          "2021-02-24T10:00:00",
          "2021-02-24T11:00:00",
          "2021-02-24T12:00:00",
          "2021-02-24T13:00:00",
          "2021-02-24T14:00:00",
          "2021-02-24T15:00:00",
          "2021-02-24T16:00:00",
          "2021-02-24T17:00:00",
          "2021-02-24T18:00:00",
          "2021-02-24T19:00:00",
          "2021-02-24T20:00:00",
          "2021-02-24T21:00:00",
          "2021-02-24T22:00:00",
          "2021-02-24T23:00:00"
         ]
        },
        {
         "line": {
          "color": "blue"
         },
         "mode": "lines",
         "name": "VWAP",
         "type": "scatter",
         "x": [
          "2021-02-24T00:00:00",
          "2021-02-24T01:00:00",
          "2021-02-24T02:00:00",
          "2021-02-24T03:00:00",
          "2021-02-24T04:00:00",
          "2021-02-24T06:00:00",
          "2021-02-24T07:00:00",
          "2021-02-24T08:00:00",
          "2021-02-24T09:00:00",
          "2021-02-24T10:00:00",
          "2021-02-24T11:00:00",
          "2021-02-24T12:00:00",
          "2021-02-24T13:00:00",
          "2021-02-24T14:00:00",
          "2021-02-24T15:00:00",
          "2021-02-24T16:00:00",
          "2021-02-24T17:00:00",
          "2021-02-24T18:00:00",
          "2021-02-24T19:00:00",
          "2021-02-24T20:00:00",
          "2021-02-24T21:00:00",
          "2021-02-24T22:00:00",
          "2021-02-24T23:00:00"
         ],
         "y": [
          48006.990395968984,
          49607.92364495946,
          50196.6773034157,
          50948,
          50892.80622948516,
          49978.511631949084,
          49680.1,
          50144.20546407331,
          50884.023714285715,
          50536.602040520986,
          50474.184697886136,
          51228.61636363636,
          49681.734855666626,
          49266.087850284406,
          48785.14592816908,
          49645.483599555635,
          49714.24970405236,
          49602.439024390245,
          49191.600563094384,
          48991.421225154714,
          48404.53236740211,
          48270.59864702669,
          49610.564199029126
         ]
        },
        {
         "line": {
          "color": "grey"
         },
         "mode": "lines",
         "name": "vwmp_lower",
         "type": "scatter",
         "x": [
          "2021-02-24T00:00:00",
          "2021-02-24T01:00:00",
          "2021-02-24T02:00:00",
          "2021-02-24T03:00:00",
          "2021-02-24T04:00:00",
          "2021-02-24T06:00:00",
          "2021-02-24T07:00:00",
          "2021-02-24T08:00:00",
          "2021-02-24T09:00:00",
          "2021-02-24T10:00:00",
          "2021-02-24T11:00:00",
          "2021-02-24T12:00:00",
          "2021-02-24T13:00:00",
          "2021-02-24T14:00:00",
          "2021-02-24T15:00:00",
          "2021-02-24T16:00:00",
          "2021-02-24T17:00:00",
          "2021-02-24T18:00:00",
          "2021-02-24T19:00:00",
          "2021-02-24T20:00:00",
          "2021-02-24T21:00:00",
          "2021-02-24T22:00:00",
          "2021-02-24T23:00:00"
         ],
         "y": [
          47743.62,
          49777.91,
          49994.55,
          50948,
          51025.46,
          50016.68,
          49680.1,
          50410.65,
          50900,
          50486.11,
          50500,
          51078.18,
          50116.8,
          49200.75,
          48631.44,
          49766.55,
          49731.74,
          49700,
          49444.96,
          48909.5,
          48272.99,
          48247.38,
          49712.15
         ]
        }
       ],
       "layout": {
        "height": 300,
        "margin": {
         "b": 20,
         "l": 70,
         "r": 50,
         "t": 50
        },
        "template": {
         "data": {
          "bar": [
           {
            "error_x": {
             "color": "#2a3f5f"
            },
            "error_y": {
             "color": "#2a3f5f"
            },
            "marker": {
             "line": {
              "color": "#E5ECF6",
              "width": 0.5
             },
             "pattern": {
              "fillmode": "overlay",
              "size": 10,
              "solidity": 0.2
             }
            },
            "type": "bar"
           }
          ],
          "barpolar": [
           {
            "marker": {
             "line": {
              "color": "#E5ECF6",
              "width": 0.5
             },
             "pattern": {
              "fillmode": "overlay",
              "size": 10,
              "solidity": 0.2
             }
            },
            "type": "barpolar"
           }
          ],
          "carpet": [
           {
            "aaxis": {
             "endlinecolor": "#2a3f5f",
             "gridcolor": "white",
             "linecolor": "white",
             "minorgridcolor": "white",
             "startlinecolor": "#2a3f5f"
            },
            "baxis": {
             "endlinecolor": "#2a3f5f",
             "gridcolor": "white",
             "linecolor": "white",
             "minorgridcolor": "white",
             "startlinecolor": "#2a3f5f"
            },
            "type": "carpet"
           }
          ],
          "choropleth": [
           {
            "colorbar": {
             "outlinewidth": 0,
             "ticks": ""
            },
            "type": "choropleth"
           }
          ],
          "contour": [
           {
            "colorbar": {
             "outlinewidth": 0,
             "ticks": ""
            },
            "colorscale": [
             [
              0,
              "#0d0887"
             ],
             [
              0.1111111111111111,
              "#46039f"
             ],
             [
              0.2222222222222222,
              "#7201a8"
             ],
             [
              0.3333333333333333,
              "#9c179e"
             ],
             [
              0.4444444444444444,
              "#bd3786"
             ],
             [
              0.5555555555555556,
              "#d8576b"
             ],
             [
              0.6666666666666666,
              "#ed7953"
             ],
             [
              0.7777777777777778,
              "#fb9f3a"
             ],
             [
              0.8888888888888888,
              "#fdca26"
             ],
             [
              1,
              "#f0f921"
             ]
            ],
            "type": "contour"
           }
          ],
          "contourcarpet": [
           {
            "colorbar": {
             "outlinewidth": 0,
             "ticks": ""
            },
            "type": "contourcarpet"
           }
          ],
          "heatmap": [
           {
            "colorbar": {
             "outlinewidth": 0,
             "ticks": ""
            },
            "colorscale": [
             [
              0,
              "#0d0887"
             ],
             [
              0.1111111111111111,
              "#46039f"
             ],
             [
              0.2222222222222222,
              "#7201a8"
             ],
             [
              0.3333333333333333,
              "#9c179e"
             ],
             [
              0.4444444444444444,
              "#bd3786"
             ],
             [
              0.5555555555555556,
              "#d8576b"
             ],
             [
              0.6666666666666666,
              "#ed7953"
             ],
             [
              0.7777777777777778,
              "#fb9f3a"
             ],
             [
              0.8888888888888888,
              "#fdca26"
             ],
             [
              1,
              "#f0f921"
             ]
            ],
            "type": "heatmap"
           }
          ],
          "heatmapgl": [
           {
            "colorbar": {
             "outlinewidth": 0,
             "ticks": ""
            },
            "colorscale": [
             [
              0,
              "#0d0887"
             ],
             [
              0.1111111111111111,
              "#46039f"
             ],
             [
              0.2222222222222222,
              "#7201a8"
             ],
             [
              0.3333333333333333,
              "#9c179e"
             ],
             [
              0.4444444444444444,
              "#bd3786"
             ],
             [
              0.5555555555555556,
              "#d8576b"
             ],
             [
              0.6666666666666666,
              "#ed7953"
             ],
             [
              0.7777777777777778,
              "#fb9f3a"
             ],
             [
              0.8888888888888888,
              "#fdca26"
             ],
             [
              1,
              "#f0f921"
             ]
            ],
            "type": "heatmapgl"
           }
          ],
          "histogram": [
           {
            "marker": {
             "pattern": {
              "fillmode": "overlay",
              "size": 10,
              "solidity": 0.2
             }
            },
            "type": "histogram"
           }
          ],
          "histogram2d": [
           {
            "colorbar": {
             "outlinewidth": 0,
             "ticks": ""
            },
            "colorscale": [
             [
              0,
              "#0d0887"
             ],
             [
              0.1111111111111111,
              "#46039f"
             ],
             [
              0.2222222222222222,
              "#7201a8"
             ],
             [
              0.3333333333333333,
              "#9c179e"
             ],
             [
              0.4444444444444444,
              "#bd3786"
             ],
             [
              0.5555555555555556,
              "#d8576b"
             ],
             [
              0.6666666666666666,
              "#ed7953"
             ],
             [
              0.7777777777777778,
              "#fb9f3a"
             ],
             [
              0.8888888888888888,
              "#fdca26"
             ],
             [
              1,
              "#f0f921"
             ]
            ],
            "type": "histogram2d"
           }
          ],
          "histogram2dcontour": [
           {
            "colorbar": {
             "outlinewidth": 0,
             "ticks": ""
            },
            "colorscale": [
             [
              0,
              "#0d0887"
             ],
             [
              0.1111111111111111,
              "#46039f"
             ],
             [
              0.2222222222222222,
              "#7201a8"
             ],
             [
              0.3333333333333333,
              "#9c179e"
             ],
             [
              0.4444444444444444,
              "#bd3786"
             ],
             [
              0.5555555555555556,
              "#d8576b"
             ],
             [
              0.6666666666666666,
              "#ed7953"
             ],
             [
              0.7777777777777778,
              "#fb9f3a"
             ],
             [
              0.8888888888888888,
              "#fdca26"
             ],
             [
              1,
              "#f0f921"
             ]
            ],
            "type": "histogram2dcontour"
           }
          ],
          "mesh3d": [
           {
            "colorbar": {
             "outlinewidth": 0,
             "ticks": ""
            },
            "type": "mesh3d"
           }
          ],
          "parcoords": [
           {
            "line": {
             "colorbar": {
              "outlinewidth": 0,
              "ticks": ""
             }
            },
            "type": "parcoords"
           }
          ],
          "pie": [
           {
            "automargin": true,
            "type": "pie"
           }
          ],
          "scatter": [
           {
            "fillpattern": {
             "fillmode": "overlay",
             "size": 10,
             "solidity": 0.2
            },
            "type": "scatter"
           }
          ],
          "scatter3d": [
           {
            "line": {
             "colorbar": {
              "outlinewidth": 0,
              "ticks": ""
             }
            },
            "marker": {
             "colorbar": {
              "outlinewidth": 0,
              "ticks": ""
             }
            },
            "type": "scatter3d"
           }
          ],
          "scattercarpet": [
           {
            "marker": {
             "colorbar": {
              "outlinewidth": 0,
              "ticks": ""
             }
            },
            "type": "scattercarpet"
           }
          ],
          "scattergeo": [
           {
            "marker": {
             "colorbar": {
              "outlinewidth": 0,
              "ticks": ""
             }
            },
            "type": "scattergeo"
           }
          ],
          "scattergl": [
           {
            "marker": {
             "colorbar": {
              "outlinewidth": 0,
              "ticks": ""
             }
            },
            "type": "scattergl"
           }
          ],
          "scattermapbox": [
           {
            "marker": {
             "colorbar": {
              "outlinewidth": 0,
              "ticks": ""
             }
            },
            "type": "scattermapbox"
           }
          ],
          "scatterpolar": [
           {
            "marker": {
             "colorbar": {
              "outlinewidth": 0,
              "ticks": ""
             }
            },
            "type": "scatterpolar"
           }
          ],
          "scatterpolargl": [
           {
            "marker": {
             "colorbar": {
              "outlinewidth": 0,
              "ticks": ""
             }
            },
            "type": "scatterpolargl"
           }
          ],
          "scatterternary": [
           {
            "marker": {
             "colorbar": {
              "outlinewidth": 0,
              "ticks": ""
             }
            },
            "type": "scatterternary"
           }
          ],
          "surface": [
           {
            "colorbar": {
             "outlinewidth": 0,
             "ticks": ""
            },
            "colorscale": [
             [
              0,
              "#0d0887"
             ],
             [
              0.1111111111111111,
              "#46039f"
             ],
             [
              0.2222222222222222,
              "#7201a8"
             ],
             [
              0.3333333333333333,
              "#9c179e"
             ],
             [
              0.4444444444444444,
              "#bd3786"
             ],
             [
              0.5555555555555556,
              "#d8576b"
             ],
             [
              0.6666666666666666,
              "#ed7953"
             ],
             [
              0.7777777777777778,
              "#fb9f3a"
             ],
             [
              0.8888888888888888,
              "#fdca26"
             ],
             [
              1,
              "#f0f921"
             ]
            ],
            "type": "surface"
           }
          ],
          "table": [
           {
            "cells": {
             "fill": {
              "color": "#EBF0F8"
             },
             "line": {
              "color": "white"
             }
            },
            "header": {
             "fill": {
              "color": "#C8D4E3"
             },
             "line": {
              "color": "white"
             }
            },
            "type": "table"
           }
          ]
         },
         "layout": {
          "annotationdefaults": {
           "arrowcolor": "#2a3f5f",
           "arrowhead": 0,
           "arrowwidth": 1
          },
          "autotypenumbers": "strict",
          "coloraxis": {
           "colorbar": {
            "outlinewidth": 0,
            "ticks": ""
           }
          },
          "colorscale": {
           "diverging": [
            [
             0,
             "#8e0152"
            ],
            [
             0.1,
             "#c51b7d"
            ],
            [
             0.2,
             "#de77ae"
            ],
            [
             0.3,
             "#f1b6da"
            ],
            [
             0.4,
             "#fde0ef"
            ],
            [
             0.5,
             "#f7f7f7"
            ],
            [
             0.6,
             "#e6f5d0"
            ],
            [
             0.7,
             "#b8e186"
            ],
            [
             0.8,
             "#7fbc41"
            ],
            [
             0.9,
             "#4d9221"
            ],
            [
             1,
             "#276419"
            ]
           ],
           "sequential": [
            [
             0,
             "#0d0887"
            ],
            [
             0.1111111111111111,
             "#46039f"
            ],
            [
             0.2222222222222222,
             "#7201a8"
            ],
            [
             0.3333333333333333,
             "#9c179e"
            ],
            [
             0.4444444444444444,
             "#bd3786"
            ],
            [
             0.5555555555555556,
             "#d8576b"
            ],
            [
             0.6666666666666666,
             "#ed7953"
            ],
            [
             0.7777777777777778,
             "#fb9f3a"
            ],
            [
             0.8888888888888888,
             "#fdca26"
            ],
            [
             1,
             "#f0f921"
            ]
           ],
           "sequentialminus": [
            [
             0,
             "#0d0887"
            ],
            [
             0.1111111111111111,
             "#46039f"
            ],
            [
             0.2222222222222222,
             "#7201a8"
            ],
            [
             0.3333333333333333,
             "#9c179e"
            ],
            [
             0.4444444444444444,
             "#bd3786"
            ],
            [
             0.5555555555555556,
             "#d8576b"
            ],
            [
             0.6666666666666666,
             "#ed7953"
            ],
            [
             0.7777777777777778,
             "#fb9f3a"
            ],
            [
             0.8888888888888888,
             "#fdca26"
            ],
            [
             1,
             "#f0f921"
            ]
           ]
          },
          "colorway": [
           "#636efa",
           "#EF553B",
           "#00cc96",
           "#ab63fa",
           "#FFA15A",
           "#19d3f3",
           "#FF6692",
           "#B6E880",
           "#FF97FF",
           "#FECB52"
          ],
          "font": {
           "color": "#2a3f5f"
          },
          "geo": {
           "bgcolor": "white",
           "lakecolor": "white",
           "landcolor": "#E5ECF6",
           "showlakes": true,
           "showland": true,
           "subunitcolor": "white"
          },
          "hoverlabel": {
           "align": "left"
          },
          "hovermode": "closest",
          "mapbox": {
           "style": "light"
          },
          "paper_bgcolor": "white",
          "plot_bgcolor": "#E5ECF6",
          "polar": {
           "angularaxis": {
            "gridcolor": "white",
            "linecolor": "white",
            "ticks": ""
           },
           "bgcolor": "#E5ECF6",
           "radialaxis": {
            "gridcolor": "white",
            "linecolor": "white",
            "ticks": ""
           }
          },
          "scene": {
           "xaxis": {
            "backgroundcolor": "#E5ECF6",
            "gridcolor": "white",
            "gridwidth": 2,
            "linecolor": "white",
            "showbackground": true,
            "ticks": "",
            "zerolinecolor": "white"
           },
           "yaxis": {
            "backgroundcolor": "#E5ECF6",
            "gridcolor": "white",
            "gridwidth": 2,
            "linecolor": "white",
            "showbackground": true,
            "ticks": "",
            "zerolinecolor": "white"
           },
           "zaxis": {
            "backgroundcolor": "#E5ECF6",
            "gridcolor": "white",
            "gridwidth": 2,
            "linecolor": "white",
            "showbackground": true,
            "ticks": "",
            "zerolinecolor": "white"
           }
          },
          "shapedefaults": {
           "line": {
            "color": "#2a3f5f"
           }
          },
          "ternary": {
           "aaxis": {
            "gridcolor": "white",
            "linecolor": "white",
            "ticks": ""
           },
           "baxis": {
            "gridcolor": "white",
            "linecolor": "white",
            "ticks": ""
           },
           "bgcolor": "#E5ECF6",
           "caxis": {
            "gridcolor": "white",
            "linecolor": "white",
            "ticks": ""
           }
          },
          "title": {
           "x": 0.05
          },
          "xaxis": {
           "automargin": true,
           "gridcolor": "white",
           "linecolor": "white",
           "ticks": "",
           "title": {
            "standoff": 15
           },
           "zerolinecolor": "white",
           "zerolinewidth": 2
          },
          "yaxis": {
           "automargin": true,
           "gridcolor": "white",
           "linecolor": "white",
           "ticks": "",
           "title": {
            "standoff": 15
           },
           "zerolinecolor": "white",
           "zerolinewidth": 2
          }
         }
        },
        "title": {
         "text": "Exchange - [bfly]"
        },
        "width": 800,
        "yaxis": {
         "title": {
          "text": "Price"
         }
        }
       }
      }
     },
     "metadata": {},
     "output_type": "display_data"
    },
    {
     "data": {
      "application/vnd.plotly.v1+json": {
       "config": {
        "plotlyServerURL": "https://plot.ly"
       },
       "data": [
        {
         "close": [
          48488,
          50199.989,
          50230.77,
          50949.591,
          50662.379,
          50244.01,
          50119.51,
          50105.15,
          50679.16,
          50980.189,
          50159.45,
          50401.6,
          50774.399,
          49514.992,
          49473.137,
          49877.058,
          49360.01,
          50050.175,
          49585.974,
          48984.14,
          49184.99,
          48787.489,
          48887.82,
          49742.749
         ],
         "high": [
          49070.307,
          50229.466,
          50600,
          50999.99,
          51386.269,
          51030.517,
          50709.49,
          50346.99,
          50921.529,
          51408.635,
          51088.359,
          50914.526,
          51300,
          51089.154,
          49804.57,
          49877.059,
          50149.734,
          50063.895,
          50071.68,
          49695.27,
          49279.19,
          49170.683,
          48972.019,
          49775.153
         ],
         "low": [
          46958.22,
          48453.81,
          49838.017,
          50105.146,
          50400,
          50000,
          49504.22,
          49551.014,
          49840,
          50356.99,
          50142.85,
          50128.489,
          50391.132,
          49093.667,
          48767.13,
          48518.63,
          49360.01,
          49380.08,
          49567.227,
          48861.2,
          48623.55,
          48120,
          48084.824,
          48793.59
         ],
         "open": [
          48906.607,
          48488,
          50188.392,
          50213.589,
          50999.999,
          50676.453,
          50226.75,
          50114.94,
          50105.15,
          50699.12,
          50981.64,
          50128.489,
          50397.3,
          50761.77,
          49511.505,
          49445.43,
          49860.121,
          49435.14,
          50071.68,
          49605,
          48950.8,
          49122.005,
          48731.15,
          48858.285
         ],
         "type": "candlestick",
         "x": [
          "2021-02-24T00:00:00",
          "2021-02-24T01:00:00",
          "2021-02-24T02:00:00",
          "2021-02-24T03:00:00",
          "2021-02-24T04:00:00",
          "2021-02-24T05:00:00",
          "2021-02-24T06:00:00",
          "2021-02-24T07:00:00",
          "2021-02-24T08:00:00",
          "2021-02-24T09:00:00",
          "2021-02-24T10:00:00",
          "2021-02-24T11:00:00",
          "2021-02-24T12:00:00",
          "2021-02-24T13:00:00",
          "2021-02-24T14:00:00",
          "2021-02-24T15:00:00",
          "2021-02-24T16:00:00",
          "2021-02-24T17:00:00",
          "2021-02-24T18:00:00",
          "2021-02-24T19:00:00",
          "2021-02-24T20:00:00",
          "2021-02-24T21:00:00",
          "2021-02-24T22:00:00",
          "2021-02-24T23:00:00"
         ]
        },
        {
         "line": {
          "color": "blue"
         },
         "mode": "lines",
         "name": "VWAP",
         "type": "scatter",
         "x": [
          "2021-02-24T00:00:00",
          "2021-02-24T01:00:00",
          "2021-02-24T02:00:00",
          "2021-02-24T03:00:00",
          "2021-02-24T04:00:00",
          "2021-02-24T05:00:00",
          "2021-02-24T06:00:00",
          "2021-02-24T07:00:00",
          "2021-02-24T08:00:00",
          "2021-02-24T09:00:00",
          "2021-02-24T10:00:00",
          "2021-02-24T11:00:00",
          "2021-02-24T12:00:00",
          "2021-02-24T13:00:00",
          "2021-02-24T14:00:00",
          "2021-02-24T15:00:00",
          "2021-02-24T16:00:00",
          "2021-02-24T17:00:00",
          "2021-02-24T18:00:00",
          "2021-02-24T19:00:00",
          "2021-02-24T20:00:00",
          "2021-02-24T21:00:00",
          "2021-02-24T22:00:00",
          "2021-02-24T23:00:00"
         ],
         "y": [
          47861.25278704692,
          49343.26580534464,
          50264.128119589644,
          50528.68430032978,
          50914.28432772163,
          50537.35893997191,
          50033.77190116472,
          50032.96347056737,
          50587.21886543995,
          50947.52989281588,
          50665.39292130093,
          50556.41664047742,
          50907.72952953467,
          49839.7421310204,
          49311.928912469455,
          49280.55570842358,
          49805.93693158663,
          49786.375155463655,
          49797.74151397471,
          49257.819346300486,
          48907.006080445935,
          48486.392267975,
          48566.458228104544,
          49488.224861697956
         ]
        },
        {
         "line": {
          "color": "grey"
         },
         "mode": "lines",
         "name": "vwmp_lower",
         "type": "scatter",
         "x": [
          "2021-02-24T00:00:00",
          "2021-02-24T01:00:00",
          "2021-02-24T02:00:00",
          "2021-02-24T03:00:00",
          "2021-02-24T04:00:00",
          "2021-02-24T05:00:00",
          "2021-02-24T06:00:00",
          "2021-02-24T07:00:00",
          "2021-02-24T08:00:00",
          "2021-02-24T09:00:00",
          "2021-02-24T10:00:00",
          "2021-02-24T11:00:00",
          "2021-02-24T12:00:00",
          "2021-02-24T13:00:00",
          "2021-02-24T14:00:00",
          "2021-02-24T15:00:00",
          "2021-02-24T16:00:00",
          "2021-02-24T17:00:00",
          "2021-02-24T18:00:00",
          "2021-02-24T19:00:00",
          "2021-02-24T20:00:00",
          "2021-02-24T21:00:00",
          "2021-02-24T22:00:00",
          "2021-02-24T23:00:00"
         ],
         "y": [
          48144.745,
          49880.695,
          50283.489,
          50488.858,
          50814.88,
          50136.435,
          49823.59,
          50250,
          50659.682,
          51273.558,
          50964.173,
          50398.54,
          50640.746,
          49365.899,
          48825.472,
          49067.101,
          49817.22,
          49879.221,
          49775.66,
          49000,
          48982.986,
          48356.216,
          48752.87,
          49750
         ]
        }
       ],
       "layout": {
        "height": 300,
        "margin": {
         "b": 20,
         "l": 70,
         "r": 50,
         "t": 50
        },
        "template": {
         "data": {
          "bar": [
           {
            "error_x": {
             "color": "#2a3f5f"
            },
            "error_y": {
             "color": "#2a3f5f"
            },
            "marker": {
             "line": {
              "color": "#E5ECF6",
              "width": 0.5
             },
             "pattern": {
              "fillmode": "overlay",
              "size": 10,
              "solidity": 0.2
             }
            },
            "type": "bar"
           }
          ],
          "barpolar": [
           {
            "marker": {
             "line": {
              "color": "#E5ECF6",
              "width": 0.5
             },
             "pattern": {
              "fillmode": "overlay",
              "size": 10,
              "solidity": 0.2
             }
            },
            "type": "barpolar"
           }
          ],
          "carpet": [
           {
            "aaxis": {
             "endlinecolor": "#2a3f5f",
             "gridcolor": "white",
             "linecolor": "white",
             "minorgridcolor": "white",
             "startlinecolor": "#2a3f5f"
            },
            "baxis": {
             "endlinecolor": "#2a3f5f",
             "gridcolor": "white",
             "linecolor": "white",
             "minorgridcolor": "white",
             "startlinecolor": "#2a3f5f"
            },
            "type": "carpet"
           }
          ],
          "choropleth": [
           {
            "colorbar": {
             "outlinewidth": 0,
             "ticks": ""
            },
            "type": "choropleth"
           }
          ],
          "contour": [
           {
            "colorbar": {
             "outlinewidth": 0,
             "ticks": ""
            },
            "colorscale": [
             [
              0,
              "#0d0887"
             ],
             [
              0.1111111111111111,
              "#46039f"
             ],
             [
              0.2222222222222222,
              "#7201a8"
             ],
             [
              0.3333333333333333,
              "#9c179e"
             ],
             [
              0.4444444444444444,
              "#bd3786"
             ],
             [
              0.5555555555555556,
              "#d8576b"
             ],
             [
              0.6666666666666666,
              "#ed7953"
             ],
             [
              0.7777777777777778,
              "#fb9f3a"
             ],
             [
              0.8888888888888888,
              "#fdca26"
             ],
             [
              1,
              "#f0f921"
             ]
            ],
            "type": "contour"
           }
          ],
          "contourcarpet": [
           {
            "colorbar": {
             "outlinewidth": 0,
             "ticks": ""
            },
            "type": "contourcarpet"
           }
          ],
          "heatmap": [
           {
            "colorbar": {
             "outlinewidth": 0,
             "ticks": ""
            },
            "colorscale": [
             [
              0,
              "#0d0887"
             ],
             [
              0.1111111111111111,
              "#46039f"
             ],
             [
              0.2222222222222222,
              "#7201a8"
             ],
             [
              0.3333333333333333,
              "#9c179e"
             ],
             [
              0.4444444444444444,
              "#bd3786"
             ],
             [
              0.5555555555555556,
              "#d8576b"
             ],
             [
              0.6666666666666666,
              "#ed7953"
             ],
             [
              0.7777777777777778,
              "#fb9f3a"
             ],
             [
              0.8888888888888888,
              "#fdca26"
             ],
             [
              1,
              "#f0f921"
             ]
            ],
            "type": "heatmap"
           }
          ],
          "heatmapgl": [
           {
            "colorbar": {
             "outlinewidth": 0,
             "ticks": ""
            },
            "colorscale": [
             [
              0,
              "#0d0887"
             ],
             [
              0.1111111111111111,
              "#46039f"
             ],
             [
              0.2222222222222222,
              "#7201a8"
             ],
             [
              0.3333333333333333,
              "#9c179e"
             ],
             [
              0.4444444444444444,
              "#bd3786"
             ],
             [
              0.5555555555555556,
              "#d8576b"
             ],
             [
              0.6666666666666666,
              "#ed7953"
             ],
             [
              0.7777777777777778,
              "#fb9f3a"
             ],
             [
              0.8888888888888888,
              "#fdca26"
             ],
             [
              1,
              "#f0f921"
             ]
            ],
            "type": "heatmapgl"
           }
          ],
          "histogram": [
           {
            "marker": {
             "pattern": {
              "fillmode": "overlay",
              "size": 10,
              "solidity": 0.2
             }
            },
            "type": "histogram"
           }
          ],
          "histogram2d": [
           {
            "colorbar": {
             "outlinewidth": 0,
             "ticks": ""
            },
            "colorscale": [
             [
              0,
              "#0d0887"
             ],
             [
              0.1111111111111111,
              "#46039f"
             ],
             [
              0.2222222222222222,
              "#7201a8"
             ],
             [
              0.3333333333333333,
              "#9c179e"
             ],
             [
              0.4444444444444444,
              "#bd3786"
             ],
             [
              0.5555555555555556,
              "#d8576b"
             ],
             [
              0.6666666666666666,
              "#ed7953"
             ],
             [
              0.7777777777777778,
              "#fb9f3a"
             ],
             [
              0.8888888888888888,
              "#fdca26"
             ],
             [
              1,
              "#f0f921"
             ]
            ],
            "type": "histogram2d"
           }
          ],
          "histogram2dcontour": [
           {
            "colorbar": {
             "outlinewidth": 0,
             "ticks": ""
            },
            "colorscale": [
             [
              0,
              "#0d0887"
             ],
             [
              0.1111111111111111,
              "#46039f"
             ],
             [
              0.2222222222222222,
              "#7201a8"
             ],
             [
              0.3333333333333333,
              "#9c179e"
             ],
             [
              0.4444444444444444,
              "#bd3786"
             ],
             [
              0.5555555555555556,
              "#d8576b"
             ],
             [
              0.6666666666666666,
              "#ed7953"
             ],
             [
              0.7777777777777778,
              "#fb9f3a"
             ],
             [
              0.8888888888888888,
              "#fdca26"
             ],
             [
              1,
              "#f0f921"
             ]
            ],
            "type": "histogram2dcontour"
           }
          ],
          "mesh3d": [
           {
            "colorbar": {
             "outlinewidth": 0,
             "ticks": ""
            },
            "type": "mesh3d"
           }
          ],
          "parcoords": [
           {
            "line": {
             "colorbar": {
              "outlinewidth": 0,
              "ticks": ""
             }
            },
            "type": "parcoords"
           }
          ],
          "pie": [
           {
            "automargin": true,
            "type": "pie"
           }
          ],
          "scatter": [
           {
            "fillpattern": {
             "fillmode": "overlay",
             "size": 10,
             "solidity": 0.2
            },
            "type": "scatter"
           }
          ],
          "scatter3d": [
           {
            "line": {
             "colorbar": {
              "outlinewidth": 0,
              "ticks": ""
             }
            },
            "marker": {
             "colorbar": {
              "outlinewidth": 0,
              "ticks": ""
             }
            },
            "type": "scatter3d"
           }
          ],
          "scattercarpet": [
           {
            "marker": {
             "colorbar": {
              "outlinewidth": 0,
              "ticks": ""
             }
            },
            "type": "scattercarpet"
           }
          ],
          "scattergeo": [
           {
            "marker": {
             "colorbar": {
              "outlinewidth": 0,
              "ticks": ""
             }
            },
            "type": "scattergeo"
           }
          ],
          "scattergl": [
           {
            "marker": {
             "colorbar": {
              "outlinewidth": 0,
              "ticks": ""
             }
            },
            "type": "scattergl"
           }
          ],
          "scattermapbox": [
           {
            "marker": {
             "colorbar": {
              "outlinewidth": 0,
              "ticks": ""
             }
            },
            "type": "scattermapbox"
           }
          ],
          "scatterpolar": [
           {
            "marker": {
             "colorbar": {
              "outlinewidth": 0,
              "ticks": ""
             }
            },
            "type": "scatterpolar"
           }
          ],
          "scatterpolargl": [
           {
            "marker": {
             "colorbar": {
              "outlinewidth": 0,
              "ticks": ""
             }
            },
            "type": "scatterpolargl"
           }
          ],
          "scatterternary": [
           {
            "marker": {
             "colorbar": {
              "outlinewidth": 0,
              "ticks": ""
             }
            },
            "type": "scatterternary"
           }
          ],
          "surface": [
           {
            "colorbar": {
             "outlinewidth": 0,
             "ticks": ""
            },
            "colorscale": [
             [
              0,
              "#0d0887"
             ],
             [
              0.1111111111111111,
              "#46039f"
             ],
             [
              0.2222222222222222,
              "#7201a8"
             ],
             [
              0.3333333333333333,
              "#9c179e"
             ],
             [
              0.4444444444444444,
              "#bd3786"
             ],
             [
              0.5555555555555556,
              "#d8576b"
             ],
             [
              0.6666666666666666,
              "#ed7953"
             ],
             [
              0.7777777777777778,
              "#fb9f3a"
             ],
             [
              0.8888888888888888,
              "#fdca26"
             ],
             [
              1,
              "#f0f921"
             ]
            ],
            "type": "surface"
           }
          ],
          "table": [
           {
            "cells": {
             "fill": {
              "color": "#EBF0F8"
             },
             "line": {
              "color": "white"
             }
            },
            "header": {
             "fill": {
              "color": "#C8D4E3"
             },
             "line": {
              "color": "white"
             }
            },
            "type": "table"
           }
          ]
         },
         "layout": {
          "annotationdefaults": {
           "arrowcolor": "#2a3f5f",
           "arrowhead": 0,
           "arrowwidth": 1
          },
          "autotypenumbers": "strict",
          "coloraxis": {
           "colorbar": {
            "outlinewidth": 0,
            "ticks": ""
           }
          },
          "colorscale": {
           "diverging": [
            [
             0,
             "#8e0152"
            ],
            [
             0.1,
             "#c51b7d"
            ],
            [
             0.2,
             "#de77ae"
            ],
            [
             0.3,
             "#f1b6da"
            ],
            [
             0.4,
             "#fde0ef"
            ],
            [
             0.5,
             "#f7f7f7"
            ],
            [
             0.6,
             "#e6f5d0"
            ],
            [
             0.7,
             "#b8e186"
            ],
            [
             0.8,
             "#7fbc41"
            ],
            [
             0.9,
             "#4d9221"
            ],
            [
             1,
             "#276419"
            ]
           ],
           "sequential": [
            [
             0,
             "#0d0887"
            ],
            [
             0.1111111111111111,
             "#46039f"
            ],
            [
             0.2222222222222222,
             "#7201a8"
            ],
            [
             0.3333333333333333,
             "#9c179e"
            ],
            [
             0.4444444444444444,
             "#bd3786"
            ],
            [
             0.5555555555555556,
             "#d8576b"
            ],
            [
             0.6666666666666666,
             "#ed7953"
            ],
            [
             0.7777777777777778,
             "#fb9f3a"
            ],
            [
             0.8888888888888888,
             "#fdca26"
            ],
            [
             1,
             "#f0f921"
            ]
           ],
           "sequentialminus": [
            [
             0,
             "#0d0887"
            ],
            [
             0.1111111111111111,
             "#46039f"
            ],
            [
             0.2222222222222222,
             "#7201a8"
            ],
            [
             0.3333333333333333,
             "#9c179e"
            ],
            [
             0.4444444444444444,
             "#bd3786"
            ],
            [
             0.5555555555555556,
             "#d8576b"
            ],
            [
             0.6666666666666666,
             "#ed7953"
            ],
            [
             0.7777777777777778,
             "#fb9f3a"
            ],
            [
             0.8888888888888888,
             "#fdca26"
            ],
            [
             1,
             "#f0f921"
            ]
           ]
          },
          "colorway": [
           "#636efa",
           "#EF553B",
           "#00cc96",
           "#ab63fa",
           "#FFA15A",
           "#19d3f3",
           "#FF6692",
           "#B6E880",
           "#FF97FF",
           "#FECB52"
          ],
          "font": {
           "color": "#2a3f5f"
          },
          "geo": {
           "bgcolor": "white",
           "lakecolor": "white",
           "landcolor": "#E5ECF6",
           "showlakes": true,
           "showland": true,
           "subunitcolor": "white"
          },
          "hoverlabel": {
           "align": "left"
          },
          "hovermode": "closest",
          "mapbox": {
           "style": "light"
          },
          "paper_bgcolor": "white",
          "plot_bgcolor": "#E5ECF6",
          "polar": {
           "angularaxis": {
            "gridcolor": "white",
            "linecolor": "white",
            "ticks": ""
           },
           "bgcolor": "#E5ECF6",
           "radialaxis": {
            "gridcolor": "white",
            "linecolor": "white",
            "ticks": ""
           }
          },
          "scene": {
           "xaxis": {
            "backgroundcolor": "#E5ECF6",
            "gridcolor": "white",
            "gridwidth": 2,
            "linecolor": "white",
            "showbackground": true,
            "ticks": "",
            "zerolinecolor": "white"
           },
           "yaxis": {
            "backgroundcolor": "#E5ECF6",
            "gridcolor": "white",
            "gridwidth": 2,
            "linecolor": "white",
            "showbackground": true,
            "ticks": "",
            "zerolinecolor": "white"
           },
           "zaxis": {
            "backgroundcolor": "#E5ECF6",
            "gridcolor": "white",
            "gridwidth": 2,
            "linecolor": "white",
            "showbackground": true,
            "ticks": "",
            "zerolinecolor": "white"
           }
          },
          "shapedefaults": {
           "line": {
            "color": "#2a3f5f"
           }
          },
          "ternary": {
           "aaxis": {
            "gridcolor": "white",
            "linecolor": "white",
            "ticks": ""
           },
           "baxis": {
            "gridcolor": "white",
            "linecolor": "white",
            "ticks": ""
           },
           "bgcolor": "#E5ECF6",
           "caxis": {
            "gridcolor": "white",
            "linecolor": "white",
            "ticks": ""
           }
          },
          "title": {
           "x": 0.05
          },
          "xaxis": {
           "automargin": true,
           "gridcolor": "white",
           "linecolor": "white",
           "ticks": "",
           "title": {
            "standoff": 15
           },
           "zerolinecolor": "white",
           "zerolinewidth": 2
          },
          "yaxis": {
           "automargin": true,
           "gridcolor": "white",
           "linecolor": "white",
           "ticks": "",
           "title": {
            "standoff": 15
           },
           "zerolinecolor": "white",
           "zerolinewidth": 2
          }
         }
        },
        "title": {
         "text": "Exchange - [btrx]"
        },
        "width": 800,
        "yaxis": {
         "title": {
          "text": "Price"
         }
        }
       }
      }
     },
     "metadata": {},
     "output_type": "display_data"
    },
    {
     "data": {
      "application/vnd.plotly.v1+json": {
       "config": {
        "plotlyServerURL": "https://plot.ly"
       },
       "data": [
        {
         "close": [
          48485,
          50196,
          50173,
          50902,
          50607,
          50166,
          50035,
          50050,
          50600.1668049,
          50809,
          50057,
          50324,
          50711,
          49489.74968895,
          49408,
          49830,
          49330,
          50081,
          49600,
          48998,
          49157,
          48787,
          48880,
          49716
         ],
         "high": [
          49087,
          50229,
          50580.34566075,
          51001,
          51354.46137096,
          51064.836108,
          50639,
          50320.62769032,
          50944,
          51339,
          50955,
          50833,
          51200,
          51062,
          49752,
          49840,
          50100,
          50081,
          50089,
          49724,
          49272,
          49171.93856939,
          48964,
          49747
         ],
         "low": [
          46902,
          48412,
          49827,
          50042,
          50328,
          49941,
          49210,
          49472,
          49792,
          50293,
          50050,
          50057,
          50326,
          49055,
          48750,
          48350,
          49298.688164,
          49313,
          49555,
          48804,
          48569,
          48155,
          48050,
          48778
         ],
         "open": [
          48882,
          48454,
          50184,
          50161,
          50901,
          50611,
          50167,
          50035,
          50051,
          50628,
          50809,
          50057,
          50339,
          50715,
          49498.2387048,
          49410,
          49833.03734606,
          49313.4061464,
          50081,
          49609,
          48997,
          49133,
          48749.119626,
          48840
         ],
         "type": "candlestick",
         "x": [
          "2021-02-24T00:00:00",
          "2021-02-24T01:00:00",
          "2021-02-24T02:00:00",
          "2021-02-24T03:00:00",
          "2021-02-24T04:00:00",
          "2021-02-24T05:00:00",
          "2021-02-24T06:00:00",
          "2021-02-24T07:00:00",
          "2021-02-24T08:00:00",
          "2021-02-24T09:00:00",
          "2021-02-24T10:00:00",
          "2021-02-24T11:00:00",
          "2021-02-24T12:00:00",
          "2021-02-24T13:00:00",
          "2021-02-24T14:00:00",
          "2021-02-24T15:00:00",
          "2021-02-24T16:00:00",
          "2021-02-24T17:00:00",
          "2021-02-24T18:00:00",
          "2021-02-24T19:00:00",
          "2021-02-24T20:00:00",
          "2021-02-24T21:00:00",
          "2021-02-24T22:00:00",
          "2021-02-24T23:00:00"
         ]
        },
        {
         "line": {
          "color": "blue"
         },
         "mode": "lines",
         "name": "VWAP",
         "type": "scatter",
         "x": [
          "2021-02-24T00:00:00",
          "2021-02-24T01:00:00",
          "2021-02-24T02:00:00",
          "2021-02-24T03:00:00",
          "2021-02-24T04:00:00",
          "2021-02-24T05:00:00",
          "2021-02-24T06:00:00",
          "2021-02-24T07:00:00",
          "2021-02-24T08:00:00",
          "2021-02-24T09:00:00",
          "2021-02-24T10:00:00",
          "2021-02-24T11:00:00",
          "2021-02-24T12:00:00",
          "2021-02-24T13:00:00",
          "2021-02-24T14:00:00",
          "2021-02-24T15:00:00",
          "2021-02-24T16:00:00",
          "2021-02-24T17:00:00",
          "2021-02-24T18:00:00",
          "2021-02-24T19:00:00",
          "2021-02-24T20:00:00",
          "2021-02-24T21:00:00",
          "2021-02-24T22:00:00",
          "2021-02-24T23:00:00"
         ],
         "y": [
          47778.97048220238,
          49441.59293755745,
          50237.00503597023,
          50608.443325103726,
          50889.74329961806,
          50344.152273509826,
          49713.51420553466,
          49899.13873565062,
          50629.71853266672,
          50887.43944342996,
          50480.38425373499,
          50494.05213631615,
          50976.88307204614,
          49701.256410978676,
          49233.18858303022,
          49011.131583832976,
          49734.68491181378,
          49788.33850447046,
          49795.62255994675,
          49214.86413230202,
          48895.91194661924,
          48440.91177413361,
          48531.10398915199,
          49385.7494404447
         ]
        },
        {
         "line": {
          "color": "grey"
         },
         "mode": "lines",
         "name": "vwmp_lower",
         "type": "scatter",
         "x": [
          "2021-02-24T00:00:00",
          "2021-02-24T01:00:00",
          "2021-02-24T02:00:00",
          "2021-02-24T03:00:00",
          "2021-02-24T04:00:00",
          "2021-02-24T05:00:00",
          "2021-02-24T06:00:00",
          "2021-02-24T07:00:00",
          "2021-02-24T08:00:00",
          "2021-02-24T09:00:00",
          "2021-02-24T10:00:00",
          "2021-02-24T11:00:00",
          "2021-02-24T12:00:00",
          "2021-02-24T13:00:00",
          "2021-02-24T14:00:00",
          "2021-02-24T15:00:00",
          "2021-02-24T16:00:00",
          "2021-02-24T17:00:00",
          "2021-02-24T18:00:00",
          "2021-02-24T19:00:00",
          "2021-02-24T20:00:00",
          "2021-02-24T21:00:00",
          "2021-02-24T22:00:00",
          "2021-02-24T23:00:00"
         ],
         "y": [
          48625,
          49834,
          50388,
          50534,
          50919,
          50420,
          49662,
          49639,
          50600,
          50800,
          50441,
          50410,
          51125,
          49516,
          48778.45638732,
          49062,
          49757,
          50056,
          50060,
          49017,
          48755,
          48478,
          48765,
          49525
         ]
        }
       ],
       "layout": {
        "height": 300,
        "margin": {
         "b": 20,
         "l": 70,
         "r": 50,
         "t": 50
        },
        "template": {
         "data": {
          "bar": [
           {
            "error_x": {
             "color": "#2a3f5f"
            },
            "error_y": {
             "color": "#2a3f5f"
            },
            "marker": {
             "line": {
              "color": "#E5ECF6",
              "width": 0.5
             },
             "pattern": {
              "fillmode": "overlay",
              "size": 10,
              "solidity": 0.2
             }
            },
            "type": "bar"
           }
          ],
          "barpolar": [
           {
            "marker": {
             "line": {
              "color": "#E5ECF6",
              "width": 0.5
             },
             "pattern": {
              "fillmode": "overlay",
              "size": 10,
              "solidity": 0.2
             }
            },
            "type": "barpolar"
           }
          ],
          "carpet": [
           {
            "aaxis": {
             "endlinecolor": "#2a3f5f",
             "gridcolor": "white",
             "linecolor": "white",
             "minorgridcolor": "white",
             "startlinecolor": "#2a3f5f"
            },
            "baxis": {
             "endlinecolor": "#2a3f5f",
             "gridcolor": "white",
             "linecolor": "white",
             "minorgridcolor": "white",
             "startlinecolor": "#2a3f5f"
            },
            "type": "carpet"
           }
          ],
          "choropleth": [
           {
            "colorbar": {
             "outlinewidth": 0,
             "ticks": ""
            },
            "type": "choropleth"
           }
          ],
          "contour": [
           {
            "colorbar": {
             "outlinewidth": 0,
             "ticks": ""
            },
            "colorscale": [
             [
              0,
              "#0d0887"
             ],
             [
              0.1111111111111111,
              "#46039f"
             ],
             [
              0.2222222222222222,
              "#7201a8"
             ],
             [
              0.3333333333333333,
              "#9c179e"
             ],
             [
              0.4444444444444444,
              "#bd3786"
             ],
             [
              0.5555555555555556,
              "#d8576b"
             ],
             [
              0.6666666666666666,
              "#ed7953"
             ],
             [
              0.7777777777777778,
              "#fb9f3a"
             ],
             [
              0.8888888888888888,
              "#fdca26"
             ],
             [
              1,
              "#f0f921"
             ]
            ],
            "type": "contour"
           }
          ],
          "contourcarpet": [
           {
            "colorbar": {
             "outlinewidth": 0,
             "ticks": ""
            },
            "type": "contourcarpet"
           }
          ],
          "heatmap": [
           {
            "colorbar": {
             "outlinewidth": 0,
             "ticks": ""
            },
            "colorscale": [
             [
              0,
              "#0d0887"
             ],
             [
              0.1111111111111111,
              "#46039f"
             ],
             [
              0.2222222222222222,
              "#7201a8"
             ],
             [
              0.3333333333333333,
              "#9c179e"
             ],
             [
              0.4444444444444444,
              "#bd3786"
             ],
             [
              0.5555555555555556,
              "#d8576b"
             ],
             [
              0.6666666666666666,
              "#ed7953"
             ],
             [
              0.7777777777777778,
              "#fb9f3a"
             ],
             [
              0.8888888888888888,
              "#fdca26"
             ],
             [
              1,
              "#f0f921"
             ]
            ],
            "type": "heatmap"
           }
          ],
          "heatmapgl": [
           {
            "colorbar": {
             "outlinewidth": 0,
             "ticks": ""
            },
            "colorscale": [
             [
              0,
              "#0d0887"
             ],
             [
              0.1111111111111111,
              "#46039f"
             ],
             [
              0.2222222222222222,
              "#7201a8"
             ],
             [
              0.3333333333333333,
              "#9c179e"
             ],
             [
              0.4444444444444444,
              "#bd3786"
             ],
             [
              0.5555555555555556,
              "#d8576b"
             ],
             [
              0.6666666666666666,
              "#ed7953"
             ],
             [
              0.7777777777777778,
              "#fb9f3a"
             ],
             [
              0.8888888888888888,
              "#fdca26"
             ],
             [
              1,
              "#f0f921"
             ]
            ],
            "type": "heatmapgl"
           }
          ],
          "histogram": [
           {
            "marker": {
             "pattern": {
              "fillmode": "overlay",
              "size": 10,
              "solidity": 0.2
             }
            },
            "type": "histogram"
           }
          ],
          "histogram2d": [
           {
            "colorbar": {
             "outlinewidth": 0,
             "ticks": ""
            },
            "colorscale": [
             [
              0,
              "#0d0887"
             ],
             [
              0.1111111111111111,
              "#46039f"
             ],
             [
              0.2222222222222222,
              "#7201a8"
             ],
             [
              0.3333333333333333,
              "#9c179e"
             ],
             [
              0.4444444444444444,
              "#bd3786"
             ],
             [
              0.5555555555555556,
              "#d8576b"
             ],
             [
              0.6666666666666666,
              "#ed7953"
             ],
             [
              0.7777777777777778,
              "#fb9f3a"
             ],
             [
              0.8888888888888888,
              "#fdca26"
             ],
             [
              1,
              "#f0f921"
             ]
            ],
            "type": "histogram2d"
           }
          ],
          "histogram2dcontour": [
           {
            "colorbar": {
             "outlinewidth": 0,
             "ticks": ""
            },
            "colorscale": [
             [
              0,
              "#0d0887"
             ],
             [
              0.1111111111111111,
              "#46039f"
             ],
             [
              0.2222222222222222,
              "#7201a8"
             ],
             [
              0.3333333333333333,
              "#9c179e"
             ],
             [
              0.4444444444444444,
              "#bd3786"
             ],
             [
              0.5555555555555556,
              "#d8576b"
             ],
             [
              0.6666666666666666,
              "#ed7953"
             ],
             [
              0.7777777777777778,
              "#fb9f3a"
             ],
             [
              0.8888888888888888,
              "#fdca26"
             ],
             [
              1,
              "#f0f921"
             ]
            ],
            "type": "histogram2dcontour"
           }
          ],
          "mesh3d": [
           {
            "colorbar": {
             "outlinewidth": 0,
             "ticks": ""
            },
            "type": "mesh3d"
           }
          ],
          "parcoords": [
           {
            "line": {
             "colorbar": {
              "outlinewidth": 0,
              "ticks": ""
             }
            },
            "type": "parcoords"
           }
          ],
          "pie": [
           {
            "automargin": true,
            "type": "pie"
           }
          ],
          "scatter": [
           {
            "fillpattern": {
             "fillmode": "overlay",
             "size": 10,
             "solidity": 0.2
            },
            "type": "scatter"
           }
          ],
          "scatter3d": [
           {
            "line": {
             "colorbar": {
              "outlinewidth": 0,
              "ticks": ""
             }
            },
            "marker": {
             "colorbar": {
              "outlinewidth": 0,
              "ticks": ""
             }
            },
            "type": "scatter3d"
           }
          ],
          "scattercarpet": [
           {
            "marker": {
             "colorbar": {
              "outlinewidth": 0,
              "ticks": ""
             }
            },
            "type": "scattercarpet"
           }
          ],
          "scattergeo": [
           {
            "marker": {
             "colorbar": {
              "outlinewidth": 0,
              "ticks": ""
             }
            },
            "type": "scattergeo"
           }
          ],
          "scattergl": [
           {
            "marker": {
             "colorbar": {
              "outlinewidth": 0,
              "ticks": ""
             }
            },
            "type": "scattergl"
           }
          ],
          "scattermapbox": [
           {
            "marker": {
             "colorbar": {
              "outlinewidth": 0,
              "ticks": ""
             }
            },
            "type": "scattermapbox"
           }
          ],
          "scatterpolar": [
           {
            "marker": {
             "colorbar": {
              "outlinewidth": 0,
              "ticks": ""
             }
            },
            "type": "scatterpolar"
           }
          ],
          "scatterpolargl": [
           {
            "marker": {
             "colorbar": {
              "outlinewidth": 0,
              "ticks": ""
             }
            },
            "type": "scatterpolargl"
           }
          ],
          "scatterternary": [
           {
            "marker": {
             "colorbar": {
              "outlinewidth": 0,
              "ticks": ""
             }
            },
            "type": "scatterternary"
           }
          ],
          "surface": [
           {
            "colorbar": {
             "outlinewidth": 0,
             "ticks": ""
            },
            "colorscale": [
             [
              0,
              "#0d0887"
             ],
             [
              0.1111111111111111,
              "#46039f"
             ],
             [
              0.2222222222222222,
              "#7201a8"
             ],
             [
              0.3333333333333333,
              "#9c179e"
             ],
             [
              0.4444444444444444,
              "#bd3786"
             ],
             [
              0.5555555555555556,
              "#d8576b"
             ],
             [
              0.6666666666666666,
              "#ed7953"
             ],
             [
              0.7777777777777778,
              "#fb9f3a"
             ],
             [
              0.8888888888888888,
              "#fdca26"
             ],
             [
              1,
              "#f0f921"
             ]
            ],
            "type": "surface"
           }
          ],
          "table": [
           {
            "cells": {
             "fill": {
              "color": "#EBF0F8"
             },
             "line": {
              "color": "white"
             }
            },
            "header": {
             "fill": {
              "color": "#C8D4E3"
             },
             "line": {
              "color": "white"
             }
            },
            "type": "table"
           }
          ]
         },
         "layout": {
          "annotationdefaults": {
           "arrowcolor": "#2a3f5f",
           "arrowhead": 0,
           "arrowwidth": 1
          },
          "autotypenumbers": "strict",
          "coloraxis": {
           "colorbar": {
            "outlinewidth": 0,
            "ticks": ""
           }
          },
          "colorscale": {
           "diverging": [
            [
             0,
             "#8e0152"
            ],
            [
             0.1,
             "#c51b7d"
            ],
            [
             0.2,
             "#de77ae"
            ],
            [
             0.3,
             "#f1b6da"
            ],
            [
             0.4,
             "#fde0ef"
            ],
            [
             0.5,
             "#f7f7f7"
            ],
            [
             0.6,
             "#e6f5d0"
            ],
            [
             0.7,
             "#b8e186"
            ],
            [
             0.8,
             "#7fbc41"
            ],
            [
             0.9,
             "#4d9221"
            ],
            [
             1,
             "#276419"
            ]
           ],
           "sequential": [
            [
             0,
             "#0d0887"
            ],
            [
             0.1111111111111111,
             "#46039f"
            ],
            [
             0.2222222222222222,
             "#7201a8"
            ],
            [
             0.3333333333333333,
             "#9c179e"
            ],
            [
             0.4444444444444444,
             "#bd3786"
            ],
            [
             0.5555555555555556,
             "#d8576b"
            ],
            [
             0.6666666666666666,
             "#ed7953"
            ],
            [
             0.7777777777777778,
             "#fb9f3a"
            ],
            [
             0.8888888888888888,
             "#fdca26"
            ],
            [
             1,
             "#f0f921"
            ]
           ],
           "sequentialminus": [
            [
             0,
             "#0d0887"
            ],
            [
             0.1111111111111111,
             "#46039f"
            ],
            [
             0.2222222222222222,
             "#7201a8"
            ],
            [
             0.3333333333333333,
             "#9c179e"
            ],
            [
             0.4444444444444444,
             "#bd3786"
            ],
            [
             0.5555555555555556,
             "#d8576b"
            ],
            [
             0.6666666666666666,
             "#ed7953"
            ],
            [
             0.7777777777777778,
             "#fb9f3a"
            ],
            [
             0.8888888888888888,
             "#fdca26"
            ],
            [
             1,
             "#f0f921"
            ]
           ]
          },
          "colorway": [
           "#636efa",
           "#EF553B",
           "#00cc96",
           "#ab63fa",
           "#FFA15A",
           "#19d3f3",
           "#FF6692",
           "#B6E880",
           "#FF97FF",
           "#FECB52"
          ],
          "font": {
           "color": "#2a3f5f"
          },
          "geo": {
           "bgcolor": "white",
           "lakecolor": "white",
           "landcolor": "#E5ECF6",
           "showlakes": true,
           "showland": true,
           "subunitcolor": "white"
          },
          "hoverlabel": {
           "align": "left"
          },
          "hovermode": "closest",
          "mapbox": {
           "style": "light"
          },
          "paper_bgcolor": "white",
          "plot_bgcolor": "#E5ECF6",
          "polar": {
           "angularaxis": {
            "gridcolor": "white",
            "linecolor": "white",
            "ticks": ""
           },
           "bgcolor": "#E5ECF6",
           "radialaxis": {
            "gridcolor": "white",
            "linecolor": "white",
            "ticks": ""
           }
          },
          "scene": {
           "xaxis": {
            "backgroundcolor": "#E5ECF6",
            "gridcolor": "white",
            "gridwidth": 2,
            "linecolor": "white",
            "showbackground": true,
            "ticks": "",
            "zerolinecolor": "white"
           },
           "yaxis": {
            "backgroundcolor": "#E5ECF6",
            "gridcolor": "white",
            "gridwidth": 2,
            "linecolor": "white",
            "showbackground": true,
            "ticks": "",
            "zerolinecolor": "white"
           },
           "zaxis": {
            "backgroundcolor": "#E5ECF6",
            "gridcolor": "white",
            "gridwidth": 2,
            "linecolor": "white",
            "showbackground": true,
            "ticks": "",
            "zerolinecolor": "white"
           }
          },
          "shapedefaults": {
           "line": {
            "color": "#2a3f5f"
           }
          },
          "ternary": {
           "aaxis": {
            "gridcolor": "white",
            "linecolor": "white",
            "ticks": ""
           },
           "baxis": {
            "gridcolor": "white",
            "linecolor": "white",
            "ticks": ""
           },
           "bgcolor": "#E5ECF6",
           "caxis": {
            "gridcolor": "white",
            "linecolor": "white",
            "ticks": ""
           }
          },
          "title": {
           "x": 0.05
          },
          "xaxis": {
           "automargin": true,
           "gridcolor": "white",
           "linecolor": "white",
           "ticks": "",
           "title": {
            "standoff": 15
           },
           "zerolinecolor": "white",
           "zerolinewidth": 2
          },
          "yaxis": {
           "automargin": true,
           "gridcolor": "white",
           "linecolor": "white",
           "ticks": "",
           "title": {
            "standoff": 15
           },
           "zerolinecolor": "white",
           "zerolinewidth": 2
          }
         }
        },
        "title": {
         "text": "Exchange - [bfnx]"
        },
        "width": 800,
        "yaxis": {
         "title": {
          "text": "Price"
         }
        }
       }
      }
     },
     "metadata": {},
     "output_type": "display_data"
    },
    {
     "data": {
      "application/vnd.plotly.v1+json": {
       "config": {
        "plotlyServerURL": "https://plot.ly"
       },
       "data": [
        {
         "close": [
          48446.34,
          50201.53,
          50189.77,
          50968.49,
          50666,
          50250.84,
          50104.04,
          50078.48,
          50676.57,
          50899.67,
          50144.41,
          50377.79,
          50735.42,
          49502.71,
          49416.13,
          49832.52,
          49400.36,
          50096.73,
          49622.72,
          49003.83,
          49195.04,
          48798.62,
          48894.64,
          49724.93
         ],
         "high": [
          49078.28,
          50201.53,
          50573.85,
          50977.14,
          51383.99,
          51044.41,
          50660.34,
          50345.18,
          50881.7,
          51432.06,
          51041.91,
          50924.23,
          51338.97,
          51105.22,
          49797.52,
          49881.16,
          50164.28,
          50096.73,
          50171.79,
          49719.18,
          49265.31,
          49193.77,
          48999.82,
          49786.94
         ],
         "low": [
          47012.76,
          48476.68,
          49853.89,
          50131.61,
          50365.76,
          50019.98,
          49496.23,
          49561.04,
          49814.39,
          50371.57,
          50124.23,
          50140.45,
          50378.29,
          49108,
          48797.43,
          48509.32,
          49355.08,
          49364.96,
          49569.8,
          48883.68,
          48614.98,
          48170.42,
          48082.02,
          48772.51
         ],
         "open": [
          48906.05,
          48516.41,
          50240.11,
          50186.42,
          50962.95,
          50721.28,
          50498.53,
          50206.4,
          50119.82,
          50665.65,
          50905.82,
          50140.45,
          50406.27,
          50779.47,
          49532.6,
          49385.65,
          49887.05,
          49407.81,
          50118.14,
          49630.99,
          49006.93,
          49104.75,
          48737.81,
          48801.95
         ],
         "type": "candlestick",
         "x": [
          "2021-02-24T00:00:00",
          "2021-02-24T01:00:00",
          "2021-02-24T02:00:00",
          "2021-02-24T03:00:00",
          "2021-02-24T04:00:00",
          "2021-02-24T05:00:00",
          "2021-02-24T06:00:00",
          "2021-02-24T07:00:00",
          "2021-02-24T08:00:00",
          "2021-02-24T09:00:00",
          "2021-02-24T10:00:00",
          "2021-02-24T11:00:00",
          "2021-02-24T12:00:00",
          "2021-02-24T13:00:00",
          "2021-02-24T14:00:00",
          "2021-02-24T15:00:00",
          "2021-02-24T16:00:00",
          "2021-02-24T17:00:00",
          "2021-02-24T18:00:00",
          "2021-02-24T19:00:00",
          "2021-02-24T20:00:00",
          "2021-02-24T21:00:00",
          "2021-02-24T22:00:00",
          "2021-02-24T23:00:00"
         ]
        },
        {
         "line": {
          "color": "blue"
         },
         "mode": "lines",
         "name": "VWAP",
         "type": "scatter",
         "x": [
          "2021-02-24T00:00:00",
          "2021-02-24T01:00:00",
          "2021-02-24T02:00:00",
          "2021-02-24T03:00:00",
          "2021-02-24T04:00:00",
          "2021-02-24T05:00:00",
          "2021-02-24T06:00:00",
          "2021-02-24T07:00:00",
          "2021-02-24T08:00:00",
          "2021-02-24T09:00:00",
          "2021-02-24T10:00:00",
          "2021-02-24T11:00:00",
          "2021-02-24T12:00:00",
          "2021-02-24T13:00:00",
          "2021-02-24T14:00:00",
          "2021-02-24T15:00:00",
          "2021-02-24T16:00:00",
          "2021-02-24T17:00:00",
          "2021-02-24T18:00:00",
          "2021-02-24T19:00:00",
          "2021-02-24T20:00:00",
          "2021-02-24T21:00:00",
          "2021-02-24T22:00:00",
          "2021-02-24T23:00:00"
         ],
         "y": [
          47954.733900468214,
          49422.81619568624,
          50218.78680168957,
          50435.243772972906,
          51023.204299288314,
          50399.45761118535,
          49940.20773501137,
          50030.40051956286,
          50482.65942981103,
          51005.57058561467,
          50564.53946292954,
          50556.75930463859,
          50921.93471473746,
          49953.17058257855,
          49345.871820260996,
          49288.10639380004,
          49824.6796899463,
          49817.80270968984,
          49797.70999640098,
          49343.114455795556,
          48851.20926842717,
          48451.58757214401,
          48543.495587545505,
          49568.860667993235
         ]
        },
        {
         "line": {
          "color": "grey"
         },
         "mode": "lines",
         "name": "vwmp_lower",
         "type": "scatter",
         "x": [
          "2021-02-24T00:00:00",
          "2021-02-24T01:00:00",
          "2021-02-24T02:00:00",
          "2021-02-24T03:00:00",
          "2021-02-24T04:00:00",
          "2021-02-24T05:00:00",
          "2021-02-24T06:00:00",
          "2021-02-24T07:00:00",
          "2021-02-24T08:00:00",
          "2021-02-24T09:00:00",
          "2021-02-24T10:00:00",
          "2021-02-24T11:00:00",
          "2021-02-24T12:00:00",
          "2021-02-24T13:00:00",
          "2021-02-24T14:00:00",
          "2021-02-24T15:00:00",
          "2021-02-24T16:00:00",
          "2021-02-24T17:00:00",
          "2021-02-24T18:00:00",
          "2021-02-24T19:00:00",
          "2021-02-24T20:00:00",
          "2021-02-24T21:00:00",
          "2021-02-24T22:00:00",
          "2021-02-24T23:00:00"
         ],
         "y": [
          47800.7,
          48876.62,
          50392.72,
          50970.65,
          50770,
          50186.14,
          49689.23,
          49691.87,
          50555.45,
          51155.96,
          50615.59,
          50749.53,
          51113.47,
          50243.46,
          49607.48,
          48901.63,
          49543.42,
          49975.78,
          49830.01,
          49579.09,
          48800,
          48978.83,
          48590.32,
          49213.08
         ]
        }
       ],
       "layout": {
        "height": 300,
        "margin": {
         "b": 20,
         "l": 70,
         "r": 50,
         "t": 50
        },
        "template": {
         "data": {
          "bar": [
           {
            "error_x": {
             "color": "#2a3f5f"
            },
            "error_y": {
             "color": "#2a3f5f"
            },
            "marker": {
             "line": {
              "color": "#E5ECF6",
              "width": 0.5
             },
             "pattern": {
              "fillmode": "overlay",
              "size": 10,
              "solidity": 0.2
             }
            },
            "type": "bar"
           }
          ],
          "barpolar": [
           {
            "marker": {
             "line": {
              "color": "#E5ECF6",
              "width": 0.5
             },
             "pattern": {
              "fillmode": "overlay",
              "size": 10,
              "solidity": 0.2
             }
            },
            "type": "barpolar"
           }
          ],
          "carpet": [
           {
            "aaxis": {
             "endlinecolor": "#2a3f5f",
             "gridcolor": "white",
             "linecolor": "white",
             "minorgridcolor": "white",
             "startlinecolor": "#2a3f5f"
            },
            "baxis": {
             "endlinecolor": "#2a3f5f",
             "gridcolor": "white",
             "linecolor": "white",
             "minorgridcolor": "white",
             "startlinecolor": "#2a3f5f"
            },
            "type": "carpet"
           }
          ],
          "choropleth": [
           {
            "colorbar": {
             "outlinewidth": 0,
             "ticks": ""
            },
            "type": "choropleth"
           }
          ],
          "contour": [
           {
            "colorbar": {
             "outlinewidth": 0,
             "ticks": ""
            },
            "colorscale": [
             [
              0,
              "#0d0887"
             ],
             [
              0.1111111111111111,
              "#46039f"
             ],
             [
              0.2222222222222222,
              "#7201a8"
             ],
             [
              0.3333333333333333,
              "#9c179e"
             ],
             [
              0.4444444444444444,
              "#bd3786"
             ],
             [
              0.5555555555555556,
              "#d8576b"
             ],
             [
              0.6666666666666666,
              "#ed7953"
             ],
             [
              0.7777777777777778,
              "#fb9f3a"
             ],
             [
              0.8888888888888888,
              "#fdca26"
             ],
             [
              1,
              "#f0f921"
             ]
            ],
            "type": "contour"
           }
          ],
          "contourcarpet": [
           {
            "colorbar": {
             "outlinewidth": 0,
             "ticks": ""
            },
            "type": "contourcarpet"
           }
          ],
          "heatmap": [
           {
            "colorbar": {
             "outlinewidth": 0,
             "ticks": ""
            },
            "colorscale": [
             [
              0,
              "#0d0887"
             ],
             [
              0.1111111111111111,
              "#46039f"
             ],
             [
              0.2222222222222222,
              "#7201a8"
             ],
             [
              0.3333333333333333,
              "#9c179e"
             ],
             [
              0.4444444444444444,
              "#bd3786"
             ],
             [
              0.5555555555555556,
              "#d8576b"
             ],
             [
              0.6666666666666666,
              "#ed7953"
             ],
             [
              0.7777777777777778,
              "#fb9f3a"
             ],
             [
              0.8888888888888888,
              "#fdca26"
             ],
             [
              1,
              "#f0f921"
             ]
            ],
            "type": "heatmap"
           }
          ],
          "heatmapgl": [
           {
            "colorbar": {
             "outlinewidth": 0,
             "ticks": ""
            },
            "colorscale": [
             [
              0,
              "#0d0887"
             ],
             [
              0.1111111111111111,
              "#46039f"
             ],
             [
              0.2222222222222222,
              "#7201a8"
             ],
             [
              0.3333333333333333,
              "#9c179e"
             ],
             [
              0.4444444444444444,
              "#bd3786"
             ],
             [
              0.5555555555555556,
              "#d8576b"
             ],
             [
              0.6666666666666666,
              "#ed7953"
             ],
             [
              0.7777777777777778,
              "#fb9f3a"
             ],
             [
              0.8888888888888888,
              "#fdca26"
             ],
             [
              1,
              "#f0f921"
             ]
            ],
            "type": "heatmapgl"
           }
          ],
          "histogram": [
           {
            "marker": {
             "pattern": {
              "fillmode": "overlay",
              "size": 10,
              "solidity": 0.2
             }
            },
            "type": "histogram"
           }
          ],
          "histogram2d": [
           {
            "colorbar": {
             "outlinewidth": 0,
             "ticks": ""
            },
            "colorscale": [
             [
              0,
              "#0d0887"
             ],
             [
              0.1111111111111111,
              "#46039f"
             ],
             [
              0.2222222222222222,
              "#7201a8"
             ],
             [
              0.3333333333333333,
              "#9c179e"
             ],
             [
              0.4444444444444444,
              "#bd3786"
             ],
             [
              0.5555555555555556,
              "#d8576b"
             ],
             [
              0.6666666666666666,
              "#ed7953"
             ],
             [
              0.7777777777777778,
              "#fb9f3a"
             ],
             [
              0.8888888888888888,
              "#fdca26"
             ],
             [
              1,
              "#f0f921"
             ]
            ],
            "type": "histogram2d"
           }
          ],
          "histogram2dcontour": [
           {
            "colorbar": {
             "outlinewidth": 0,
             "ticks": ""
            },
            "colorscale": [
             [
              0,
              "#0d0887"
             ],
             [
              0.1111111111111111,
              "#46039f"
             ],
             [
              0.2222222222222222,
              "#7201a8"
             ],
             [
              0.3333333333333333,
              "#9c179e"
             ],
             [
              0.4444444444444444,
              "#bd3786"
             ],
             [
              0.5555555555555556,
              "#d8576b"
             ],
             [
              0.6666666666666666,
              "#ed7953"
             ],
             [
              0.7777777777777778,
              "#fb9f3a"
             ],
             [
              0.8888888888888888,
              "#fdca26"
             ],
             [
              1,
              "#f0f921"
             ]
            ],
            "type": "histogram2dcontour"
           }
          ],
          "mesh3d": [
           {
            "colorbar": {
             "outlinewidth": 0,
             "ticks": ""
            },
            "type": "mesh3d"
           }
          ],
          "parcoords": [
           {
            "line": {
             "colorbar": {
              "outlinewidth": 0,
              "ticks": ""
             }
            },
            "type": "parcoords"
           }
          ],
          "pie": [
           {
            "automargin": true,
            "type": "pie"
           }
          ],
          "scatter": [
           {
            "fillpattern": {
             "fillmode": "overlay",
             "size": 10,
             "solidity": 0.2
            },
            "type": "scatter"
           }
          ],
          "scatter3d": [
           {
            "line": {
             "colorbar": {
              "outlinewidth": 0,
              "ticks": ""
             }
            },
            "marker": {
             "colorbar": {
              "outlinewidth": 0,
              "ticks": ""
             }
            },
            "type": "scatter3d"
           }
          ],
          "scattercarpet": [
           {
            "marker": {
             "colorbar": {
              "outlinewidth": 0,
              "ticks": ""
             }
            },
            "type": "scattercarpet"
           }
          ],
          "scattergeo": [
           {
            "marker": {
             "colorbar": {
              "outlinewidth": 0,
              "ticks": ""
             }
            },
            "type": "scattergeo"
           }
          ],
          "scattergl": [
           {
            "marker": {
             "colorbar": {
              "outlinewidth": 0,
              "ticks": ""
             }
            },
            "type": "scattergl"
           }
          ],
          "scattermapbox": [
           {
            "marker": {
             "colorbar": {
              "outlinewidth": 0,
              "ticks": ""
             }
            },
            "type": "scattermapbox"
           }
          ],
          "scatterpolar": [
           {
            "marker": {
             "colorbar": {
              "outlinewidth": 0,
              "ticks": ""
             }
            },
            "type": "scatterpolar"
           }
          ],
          "scatterpolargl": [
           {
            "marker": {
             "colorbar": {
              "outlinewidth": 0,
              "ticks": ""
             }
            },
            "type": "scatterpolargl"
           }
          ],
          "scatterternary": [
           {
            "marker": {
             "colorbar": {
              "outlinewidth": 0,
              "ticks": ""
             }
            },
            "type": "scatterternary"
           }
          ],
          "surface": [
           {
            "colorbar": {
             "outlinewidth": 0,
             "ticks": ""
            },
            "colorscale": [
             [
              0,
              "#0d0887"
             ],
             [
              0.1111111111111111,
              "#46039f"
             ],
             [
              0.2222222222222222,
              "#7201a8"
             ],
             [
              0.3333333333333333,
              "#9c179e"
             ],
             [
              0.4444444444444444,
              "#bd3786"
             ],
             [
              0.5555555555555556,
              "#d8576b"
             ],
             [
              0.6666666666666666,
              "#ed7953"
             ],
             [
              0.7777777777777778,
              "#fb9f3a"
             ],
             [
              0.8888888888888888,
              "#fdca26"
             ],
             [
              1,
              "#f0f921"
             ]
            ],
            "type": "surface"
           }
          ],
          "table": [
           {
            "cells": {
             "fill": {
              "color": "#EBF0F8"
             },
             "line": {
              "color": "white"
             }
            },
            "header": {
             "fill": {
              "color": "#C8D4E3"
             },
             "line": {
              "color": "white"
             }
            },
            "type": "table"
           }
          ]
         },
         "layout": {
          "annotationdefaults": {
           "arrowcolor": "#2a3f5f",
           "arrowhead": 0,
           "arrowwidth": 1
          },
          "autotypenumbers": "strict",
          "coloraxis": {
           "colorbar": {
            "outlinewidth": 0,
            "ticks": ""
           }
          },
          "colorscale": {
           "diverging": [
            [
             0,
             "#8e0152"
            ],
            [
             0.1,
             "#c51b7d"
            ],
            [
             0.2,
             "#de77ae"
            ],
            [
             0.3,
             "#f1b6da"
            ],
            [
             0.4,
             "#fde0ef"
            ],
            [
             0.5,
             "#f7f7f7"
            ],
            [
             0.6,
             "#e6f5d0"
            ],
            [
             0.7,
             "#b8e186"
            ],
            [
             0.8,
             "#7fbc41"
            ],
            [
             0.9,
             "#4d9221"
            ],
            [
             1,
             "#276419"
            ]
           ],
           "sequential": [
            [
             0,
             "#0d0887"
            ],
            [
             0.1111111111111111,
             "#46039f"
            ],
            [
             0.2222222222222222,
             "#7201a8"
            ],
            [
             0.3333333333333333,
             "#9c179e"
            ],
            [
             0.4444444444444444,
             "#bd3786"
            ],
            [
             0.5555555555555556,
             "#d8576b"
            ],
            [
             0.6666666666666666,
             "#ed7953"
            ],
            [
             0.7777777777777778,
             "#fb9f3a"
            ],
            [
             0.8888888888888888,
             "#fdca26"
            ],
            [
             1,
             "#f0f921"
            ]
           ],
           "sequentialminus": [
            [
             0,
             "#0d0887"
            ],
            [
             0.1111111111111111,
             "#46039f"
            ],
            [
             0.2222222222222222,
             "#7201a8"
            ],
            [
             0.3333333333333333,
             "#9c179e"
            ],
            [
             0.4444444444444444,
             "#bd3786"
            ],
            [
             0.5555555555555556,
             "#d8576b"
            ],
            [
             0.6666666666666666,
             "#ed7953"
            ],
            [
             0.7777777777777778,
             "#fb9f3a"
            ],
            [
             0.8888888888888888,
             "#fdca26"
            ],
            [
             1,
             "#f0f921"
            ]
           ]
          },
          "colorway": [
           "#636efa",
           "#EF553B",
           "#00cc96",
           "#ab63fa",
           "#FFA15A",
           "#19d3f3",
           "#FF6692",
           "#B6E880",
           "#FF97FF",
           "#FECB52"
          ],
          "font": {
           "color": "#2a3f5f"
          },
          "geo": {
           "bgcolor": "white",
           "lakecolor": "white",
           "landcolor": "#E5ECF6",
           "showlakes": true,
           "showland": true,
           "subunitcolor": "white"
          },
          "hoverlabel": {
           "align": "left"
          },
          "hovermode": "closest",
          "mapbox": {
           "style": "light"
          },
          "paper_bgcolor": "white",
          "plot_bgcolor": "#E5ECF6",
          "polar": {
           "angularaxis": {
            "gridcolor": "white",
            "linecolor": "white",
            "ticks": ""
           },
           "bgcolor": "#E5ECF6",
           "radialaxis": {
            "gridcolor": "white",
            "linecolor": "white",
            "ticks": ""
           }
          },
          "scene": {
           "xaxis": {
            "backgroundcolor": "#E5ECF6",
            "gridcolor": "white",
            "gridwidth": 2,
            "linecolor": "white",
            "showbackground": true,
            "ticks": "",
            "zerolinecolor": "white"
           },
           "yaxis": {
            "backgroundcolor": "#E5ECF6",
            "gridcolor": "white",
            "gridwidth": 2,
            "linecolor": "white",
            "showbackground": true,
            "ticks": "",
            "zerolinecolor": "white"
           },
           "zaxis": {
            "backgroundcolor": "#E5ECF6",
            "gridcolor": "white",
            "gridwidth": 2,
            "linecolor": "white",
            "showbackground": true,
            "ticks": "",
            "zerolinecolor": "white"
           }
          },
          "shapedefaults": {
           "line": {
            "color": "#2a3f5f"
           }
          },
          "ternary": {
           "aaxis": {
            "gridcolor": "white",
            "linecolor": "white",
            "ticks": ""
           },
           "baxis": {
            "gridcolor": "white",
            "linecolor": "white",
            "ticks": ""
           },
           "bgcolor": "#E5ECF6",
           "caxis": {
            "gridcolor": "white",
            "linecolor": "white",
            "ticks": ""
           }
          },
          "title": {
           "x": 0.05
          },
          "xaxis": {
           "automargin": true,
           "gridcolor": "white",
           "linecolor": "white",
           "ticks": "",
           "title": {
            "standoff": 15
           },
           "zerolinecolor": "white",
           "zerolinewidth": 2
          },
          "yaxis": {
           "automargin": true,
           "gridcolor": "white",
           "linecolor": "white",
           "ticks": "",
           "title": {
            "standoff": 15
           },
           "zerolinecolor": "white",
           "zerolinewidth": 2
          }
         }
        },
        "title": {
         "text": "Exchange - [okcn]"
        },
        "width": 800,
        "yaxis": {
         "title": {
          "text": "Price"
         }
        }
       }
      }
     },
     "metadata": {},
     "output_type": "display_data"
    },
    {
     "data": {
      "application/vnd.plotly.v1+json": {
       "config": {
        "plotlyServerURL": "https://plot.ly"
       },
       "data": [
        {
         "close": [
          48485.25,
          50193.25,
          50215.5,
          50913.25,
          50650.5,
          50234.5,
          50104.75,
          50085.5,
          50680.25,
          50929.5,
          50140.25,
          50400.25,
          50734,
          49506.75,
          49427.25,
          49862.5,
          49385.75,
          50096,
          49612.5,
          48990.5,
          49167,
          48798.5,
          48833.25,
          49753.5
         ],
         "high": [
          49100,
          50208.25,
          50560.25,
          50991.25,
          51391.5,
          51046.5,
          50687.75,
          50327.75,
          50910,
          51397,
          51041.75,
          50928,
          51345.25,
          51095.25,
          49811.25,
          49879.5,
          50169.75,
          50105.5,
          50095.75,
          49742.25,
          49260.75,
          49192.75,
          48975,
          49772.5
         ],
         "low": [
          47022,
          48447.75,
          49821.5,
          50073,
          50353.5,
          50016,
          49500,
          49555.25,
          49842,
          50420,
          50127.25,
          50160,
          50400.25,
          49082,
          48777,
          48495.75,
          49380,
          49391.5,
          49510,
          48893,
          48642,
          48150.25,
          48100.25,
          48775
         ],
         "open": [
          48919.5,
          48485.25,
          50193.25,
          50166.25,
          50913.25,
          50656.5,
          50248.25,
          50104.75,
          50109.5,
          50680.25,
          50940,
          50180,
          50402.25,
          50762.75,
          49540.25,
          49433.25,
          49879.5,
          49425.75,
          50095.75,
          49624.25,
          48973,
          49131.5,
          48765,
          48775
         ],
         "type": "candlestick",
         "x": [
          "2021-02-24T00:00:00",
          "2021-02-24T01:00:00",
          "2021-02-24T02:00:00",
          "2021-02-24T03:00:00",
          "2021-02-24T04:00:00",
          "2021-02-24T05:00:00",
          "2021-02-24T06:00:00",
          "2021-02-24T07:00:00",
          "2021-02-24T08:00:00",
          "2021-02-24T09:00:00",
          "2021-02-24T10:00:00",
          "2021-02-24T11:00:00",
          "2021-02-24T12:00:00",
          "2021-02-24T13:00:00",
          "2021-02-24T14:00:00",
          "2021-02-24T15:00:00",
          "2021-02-24T16:00:00",
          "2021-02-24T17:00:00",
          "2021-02-24T18:00:00",
          "2021-02-24T19:00:00",
          "2021-02-24T20:00:00",
          "2021-02-24T21:00:00",
          "2021-02-24T22:00:00",
          "2021-02-24T23:00:00"
         ]
        },
        {
         "line": {
          "color": "blue"
         },
         "mode": "lines",
         "name": "VWAP",
         "type": "scatter",
         "x": [
          "2021-02-24T00:00:00",
          "2021-02-24T01:00:00",
          "2021-02-24T02:00:00",
          "2021-02-24T03:00:00",
          "2021-02-24T04:00:00",
          "2021-02-24T05:00:00",
          "2021-02-24T06:00:00",
          "2021-02-24T07:00:00",
          "2021-02-24T08:00:00",
          "2021-02-24T09:00:00",
          "2021-02-24T10:00:00",
          "2021-02-24T11:00:00",
          "2021-02-24T12:00:00",
          "2021-02-24T13:00:00",
          "2021-02-24T14:00:00",
          "2021-02-24T15:00:00",
          "2021-02-24T16:00:00",
          "2021-02-24T17:00:00",
          "2021-02-24T18:00:00",
          "2021-02-24T19:00:00",
          "2021-02-24T20:00:00",
          "2021-02-24T21:00:00",
          "2021-02-24T22:00:00",
          "2021-02-24T23:00:00"
         ],
         "y": [
          47772.25556150349,
          49509.69941976307,
          50260.29489711833,
          50533.802903206444,
          51019.75364047291,
          50416.28159072176,
          49907.74736691506,
          49944.96342177203,
          50600.26526652529,
          51014.42756441121,
          50588.054389789955,
          50500.79539005867,
          50956.06736625025,
          49790.02843195161,
          49260.066524897506,
          49062.9791226795,
          49749.26259567806,
          49815.87195290559,
          49791.77254731195,
          49411.32784828966,
          48880.346896428535,
          48526.432823930576,
          48497.261356804454,
          49493.09779097728
         ]
        },
        {
         "line": {
          "color": "grey"
         },
         "mode": "lines",
         "name": "vwmp_lower",
         "type": "scatter",
         "x": [
          "2021-02-24T00:00:00",
          "2021-02-24T01:00:00",
          "2021-02-24T02:00:00",
          "2021-02-24T03:00:00",
          "2021-02-24T04:00:00",
          "2021-02-24T05:00:00",
          "2021-02-24T06:00:00",
          "2021-02-24T07:00:00",
          "2021-02-24T08:00:00",
          "2021-02-24T09:00:00",
          "2021-02-24T10:00:00",
          "2021-02-24T11:00:00",
          "2021-02-24T12:00:00",
          "2021-02-24T13:00:00",
          "2021-02-24T14:00:00",
          "2021-02-24T15:00:00",
          "2021-02-24T16:00:00",
          "2021-02-24T17:00:00",
          "2021-02-24T18:00:00",
          "2021-02-24T19:00:00",
          "2021-02-24T20:00:00",
          "2021-02-24T21:00:00",
          "2021-02-24T22:00:00",
          "2021-02-24T23:00:00"
         ],
         "y": [
          47233.5,
          49700,
          50325,
          50937.25,
          50754.5,
          50498.75,
          50047,
          49870.5,
          50461.75,
          50919.75,
          50600,
          50581.25,
          51082.25,
          49901.5,
          49561.5,
          48610,
          49761.25,
          49734.25,
          49788.25,
          49333,
          48940.25,
          48577,
          48759.5,
          49733
         ]
        }
       ],
       "layout": {
        "height": 300,
        "margin": {
         "b": 20,
         "l": 70,
         "r": 50,
         "t": 50
        },
        "template": {
         "data": {
          "bar": [
           {
            "error_x": {
             "color": "#2a3f5f"
            },
            "error_y": {
             "color": "#2a3f5f"
            },
            "marker": {
             "line": {
              "color": "#E5ECF6",
              "width": 0.5
             },
             "pattern": {
              "fillmode": "overlay",
              "size": 10,
              "solidity": 0.2
             }
            },
            "type": "bar"
           }
          ],
          "barpolar": [
           {
            "marker": {
             "line": {
              "color": "#E5ECF6",
              "width": 0.5
             },
             "pattern": {
              "fillmode": "overlay",
              "size": 10,
              "solidity": 0.2
             }
            },
            "type": "barpolar"
           }
          ],
          "carpet": [
           {
            "aaxis": {
             "endlinecolor": "#2a3f5f",
             "gridcolor": "white",
             "linecolor": "white",
             "minorgridcolor": "white",
             "startlinecolor": "#2a3f5f"
            },
            "baxis": {
             "endlinecolor": "#2a3f5f",
             "gridcolor": "white",
             "linecolor": "white",
             "minorgridcolor": "white",
             "startlinecolor": "#2a3f5f"
            },
            "type": "carpet"
           }
          ],
          "choropleth": [
           {
            "colorbar": {
             "outlinewidth": 0,
             "ticks": ""
            },
            "type": "choropleth"
           }
          ],
          "contour": [
           {
            "colorbar": {
             "outlinewidth": 0,
             "ticks": ""
            },
            "colorscale": [
             [
              0,
              "#0d0887"
             ],
             [
              0.1111111111111111,
              "#46039f"
             ],
             [
              0.2222222222222222,
              "#7201a8"
             ],
             [
              0.3333333333333333,
              "#9c179e"
             ],
             [
              0.4444444444444444,
              "#bd3786"
             ],
             [
              0.5555555555555556,
              "#d8576b"
             ],
             [
              0.6666666666666666,
              "#ed7953"
             ],
             [
              0.7777777777777778,
              "#fb9f3a"
             ],
             [
              0.8888888888888888,
              "#fdca26"
             ],
             [
              1,
              "#f0f921"
             ]
            ],
            "type": "contour"
           }
          ],
          "contourcarpet": [
           {
            "colorbar": {
             "outlinewidth": 0,
             "ticks": ""
            },
            "type": "contourcarpet"
           }
          ],
          "heatmap": [
           {
            "colorbar": {
             "outlinewidth": 0,
             "ticks": ""
            },
            "colorscale": [
             [
              0,
              "#0d0887"
             ],
             [
              0.1111111111111111,
              "#46039f"
             ],
             [
              0.2222222222222222,
              "#7201a8"
             ],
             [
              0.3333333333333333,
              "#9c179e"
             ],
             [
              0.4444444444444444,
              "#bd3786"
             ],
             [
              0.5555555555555556,
              "#d8576b"
             ],
             [
              0.6666666666666666,
              "#ed7953"
             ],
             [
              0.7777777777777778,
              "#fb9f3a"
             ],
             [
              0.8888888888888888,
              "#fdca26"
             ],
             [
              1,
              "#f0f921"
             ]
            ],
            "type": "heatmap"
           }
          ],
          "heatmapgl": [
           {
            "colorbar": {
             "outlinewidth": 0,
             "ticks": ""
            },
            "colorscale": [
             [
              0,
              "#0d0887"
             ],
             [
              0.1111111111111111,
              "#46039f"
             ],
             [
              0.2222222222222222,
              "#7201a8"
             ],
             [
              0.3333333333333333,
              "#9c179e"
             ],
             [
              0.4444444444444444,
              "#bd3786"
             ],
             [
              0.5555555555555556,
              "#d8576b"
             ],
             [
              0.6666666666666666,
              "#ed7953"
             ],
             [
              0.7777777777777778,
              "#fb9f3a"
             ],
             [
              0.8888888888888888,
              "#fdca26"
             ],
             [
              1,
              "#f0f921"
             ]
            ],
            "type": "heatmapgl"
           }
          ],
          "histogram": [
           {
            "marker": {
             "pattern": {
              "fillmode": "overlay",
              "size": 10,
              "solidity": 0.2
             }
            },
            "type": "histogram"
           }
          ],
          "histogram2d": [
           {
            "colorbar": {
             "outlinewidth": 0,
             "ticks": ""
            },
            "colorscale": [
             [
              0,
              "#0d0887"
             ],
             [
              0.1111111111111111,
              "#46039f"
             ],
             [
              0.2222222222222222,
              "#7201a8"
             ],
             [
              0.3333333333333333,
              "#9c179e"
             ],
             [
              0.4444444444444444,
              "#bd3786"
             ],
             [
              0.5555555555555556,
              "#d8576b"
             ],
             [
              0.6666666666666666,
              "#ed7953"
             ],
             [
              0.7777777777777778,
              "#fb9f3a"
             ],
             [
              0.8888888888888888,
              "#fdca26"
             ],
             [
              1,
              "#f0f921"
             ]
            ],
            "type": "histogram2d"
           }
          ],
          "histogram2dcontour": [
           {
            "colorbar": {
             "outlinewidth": 0,
             "ticks": ""
            },
            "colorscale": [
             [
              0,
              "#0d0887"
             ],
             [
              0.1111111111111111,
              "#46039f"
             ],
             [
              0.2222222222222222,
              "#7201a8"
             ],
             [
              0.3333333333333333,
              "#9c179e"
             ],
             [
              0.4444444444444444,
              "#bd3786"
             ],
             [
              0.5555555555555556,
              "#d8576b"
             ],
             [
              0.6666666666666666,
              "#ed7953"
             ],
             [
              0.7777777777777778,
              "#fb9f3a"
             ],
             [
              0.8888888888888888,
              "#fdca26"
             ],
             [
              1,
              "#f0f921"
             ]
            ],
            "type": "histogram2dcontour"
           }
          ],
          "mesh3d": [
           {
            "colorbar": {
             "outlinewidth": 0,
             "ticks": ""
            },
            "type": "mesh3d"
           }
          ],
          "parcoords": [
           {
            "line": {
             "colorbar": {
              "outlinewidth": 0,
              "ticks": ""
             }
            },
            "type": "parcoords"
           }
          ],
          "pie": [
           {
            "automargin": true,
            "type": "pie"
           }
          ],
          "scatter": [
           {
            "fillpattern": {
             "fillmode": "overlay",
             "size": 10,
             "solidity": 0.2
            },
            "type": "scatter"
           }
          ],
          "scatter3d": [
           {
            "line": {
             "colorbar": {
              "outlinewidth": 0,
              "ticks": ""
             }
            },
            "marker": {
             "colorbar": {
              "outlinewidth": 0,
              "ticks": ""
             }
            },
            "type": "scatter3d"
           }
          ],
          "scattercarpet": [
           {
            "marker": {
             "colorbar": {
              "outlinewidth": 0,
              "ticks": ""
             }
            },
            "type": "scattercarpet"
           }
          ],
          "scattergeo": [
           {
            "marker": {
             "colorbar": {
              "outlinewidth": 0,
              "ticks": ""
             }
            },
            "type": "scattergeo"
           }
          ],
          "scattergl": [
           {
            "marker": {
             "colorbar": {
              "outlinewidth": 0,
              "ticks": ""
             }
            },
            "type": "scattergl"
           }
          ],
          "scattermapbox": [
           {
            "marker": {
             "colorbar": {
              "outlinewidth": 0,
              "ticks": ""
             }
            },
            "type": "scattermapbox"
           }
          ],
          "scatterpolar": [
           {
            "marker": {
             "colorbar": {
              "outlinewidth": 0,
              "ticks": ""
             }
            },
            "type": "scatterpolar"
           }
          ],
          "scatterpolargl": [
           {
            "marker": {
             "colorbar": {
              "outlinewidth": 0,
              "ticks": ""
             }
            },
            "type": "scatterpolargl"
           }
          ],
          "scatterternary": [
           {
            "marker": {
             "colorbar": {
              "outlinewidth": 0,
              "ticks": ""
             }
            },
            "type": "scatterternary"
           }
          ],
          "surface": [
           {
            "colorbar": {
             "outlinewidth": 0,
             "ticks": ""
            },
            "colorscale": [
             [
              0,
              "#0d0887"
             ],
             [
              0.1111111111111111,
              "#46039f"
             ],
             [
              0.2222222222222222,
              "#7201a8"
             ],
             [
              0.3333333333333333,
              "#9c179e"
             ],
             [
              0.4444444444444444,
              "#bd3786"
             ],
             [
              0.5555555555555556,
              "#d8576b"
             ],
             [
              0.6666666666666666,
              "#ed7953"
             ],
             [
              0.7777777777777778,
              "#fb9f3a"
             ],
             [
              0.8888888888888888,
              "#fdca26"
             ],
             [
              1,
              "#f0f921"
             ]
            ],
            "type": "surface"
           }
          ],
          "table": [
           {
            "cells": {
             "fill": {
              "color": "#EBF0F8"
             },
             "line": {
              "color": "white"
             }
            },
            "header": {
             "fill": {
              "color": "#C8D4E3"
             },
             "line": {
              "color": "white"
             }
            },
            "type": "table"
           }
          ]
         },
         "layout": {
          "annotationdefaults": {
           "arrowcolor": "#2a3f5f",
           "arrowhead": 0,
           "arrowwidth": 1
          },
          "autotypenumbers": "strict",
          "coloraxis": {
           "colorbar": {
            "outlinewidth": 0,
            "ticks": ""
           }
          },
          "colorscale": {
           "diverging": [
            [
             0,
             "#8e0152"
            ],
            [
             0.1,
             "#c51b7d"
            ],
            [
             0.2,
             "#de77ae"
            ],
            [
             0.3,
             "#f1b6da"
            ],
            [
             0.4,
             "#fde0ef"
            ],
            [
             0.5,
             "#f7f7f7"
            ],
            [
             0.6,
             "#e6f5d0"
            ],
            [
             0.7,
             "#b8e186"
            ],
            [
             0.8,
             "#7fbc41"
            ],
            [
             0.9,
             "#4d9221"
            ],
            [
             1,
             "#276419"
            ]
           ],
           "sequential": [
            [
             0,
             "#0d0887"
            ],
            [
             0.1111111111111111,
             "#46039f"
            ],
            [
             0.2222222222222222,
             "#7201a8"
            ],
            [
             0.3333333333333333,
             "#9c179e"
            ],
            [
             0.4444444444444444,
             "#bd3786"
            ],
            [
             0.5555555555555556,
             "#d8576b"
            ],
            [
             0.6666666666666666,
             "#ed7953"
            ],
            [
             0.7777777777777778,
             "#fb9f3a"
            ],
            [
             0.8888888888888888,
             "#fdca26"
            ],
            [
             1,
             "#f0f921"
            ]
           ],
           "sequentialminus": [
            [
             0,
             "#0d0887"
            ],
            [
             0.1111111111111111,
             "#46039f"
            ],
            [
             0.2222222222222222,
             "#7201a8"
            ],
            [
             0.3333333333333333,
             "#9c179e"
            ],
            [
             0.4444444444444444,
             "#bd3786"
            ],
            [
             0.5555555555555556,
             "#d8576b"
            ],
            [
             0.6666666666666666,
             "#ed7953"
            ],
            [
             0.7777777777777778,
             "#fb9f3a"
            ],
            [
             0.8888888888888888,
             "#fdca26"
            ],
            [
             1,
             "#f0f921"
            ]
           ]
          },
          "colorway": [
           "#636efa",
           "#EF553B",
           "#00cc96",
           "#ab63fa",
           "#FFA15A",
           "#19d3f3",
           "#FF6692",
           "#B6E880",
           "#FF97FF",
           "#FECB52"
          ],
          "font": {
           "color": "#2a3f5f"
          },
          "geo": {
           "bgcolor": "white",
           "lakecolor": "white",
           "landcolor": "#E5ECF6",
           "showlakes": true,
           "showland": true,
           "subunitcolor": "white"
          },
          "hoverlabel": {
           "align": "left"
          },
          "hovermode": "closest",
          "mapbox": {
           "style": "light"
          },
          "paper_bgcolor": "white",
          "plot_bgcolor": "#E5ECF6",
          "polar": {
           "angularaxis": {
            "gridcolor": "white",
            "linecolor": "white",
            "ticks": ""
           },
           "bgcolor": "#E5ECF6",
           "radialaxis": {
            "gridcolor": "white",
            "linecolor": "white",
            "ticks": ""
           }
          },
          "scene": {
           "xaxis": {
            "backgroundcolor": "#E5ECF6",
            "gridcolor": "white",
            "gridwidth": 2,
            "linecolor": "white",
            "showbackground": true,
            "ticks": "",
            "zerolinecolor": "white"
           },
           "yaxis": {
            "backgroundcolor": "#E5ECF6",
            "gridcolor": "white",
            "gridwidth": 2,
            "linecolor": "white",
            "showbackground": true,
            "ticks": "",
            "zerolinecolor": "white"
           },
           "zaxis": {
            "backgroundcolor": "#E5ECF6",
            "gridcolor": "white",
            "gridwidth": 2,
            "linecolor": "white",
            "showbackground": true,
            "ticks": "",
            "zerolinecolor": "white"
           }
          },
          "shapedefaults": {
           "line": {
            "color": "#2a3f5f"
           }
          },
          "ternary": {
           "aaxis": {
            "gridcolor": "white",
            "linecolor": "white",
            "ticks": ""
           },
           "baxis": {
            "gridcolor": "white",
            "linecolor": "white",
            "ticks": ""
           },
           "bgcolor": "#E5ECF6",
           "caxis": {
            "gridcolor": "white",
            "linecolor": "white",
            "ticks": ""
           }
          },
          "title": {
           "x": 0.05
          },
          "xaxis": {
           "automargin": true,
           "gridcolor": "white",
           "linecolor": "white",
           "ticks": "",
           "title": {
            "standoff": 15
           },
           "zerolinecolor": "white",
           "zerolinewidth": 2
          },
          "yaxis": {
           "automargin": true,
           "gridcolor": "white",
           "linecolor": "white",
           "ticks": "",
           "title": {
            "standoff": 15
           },
           "zerolinecolor": "white",
           "zerolinewidth": 2
          }
         }
        },
        "title": {
         "text": "Exchange - [itbi]"
        },
        "width": 800,
        "yaxis": {
         "title": {
          "text": "Price"
         }
        }
       }
      }
     },
     "metadata": {},
     "output_type": "display_data"
    },
    {
     "data": {
      "application/vnd.plotly.v1+json": {
       "config": {
        "plotlyServerURL": "https://plot.ly"
       },
       "data": [
        {
         "close": [
          48500,
          50227.97,
          50244.25,
          50965.74,
          50645.41,
          50212.6,
          50140.49,
          50095,
          50684.06,
          50901.73,
          50121.89,
          50360.62,
          50742.99,
          49470.1,
          49424.75,
          49869.66,
          49393.64,
          50095.84,
          49612,
          48974.48,
          49179.75,
          48811.21,
          48894.23,
          49766.06
         ],
         "high": [
          49130.5,
          50331.36,
          50613.36,
          51000,
          51397.44,
          51015.63,
          50703.1,
          50363.01,
          50904.42,
          51442.01,
          51044.54,
          50957.67,
          51364.74,
          51114.68,
          49792.18,
          49890.38,
          50138.01,
          50126.6,
          50128,
          49732.31,
          49255.71,
          49171.5,
          49004.72,
          49809.31
         ],
         "low": [
          47000.01,
          48442.89,
          49833,
          50054.16,
          50350.01,
          50002.51,
          49450.82,
          49526.44,
          49845.77,
          50351.27,
          50121.89,
          50121.89,
          50377.9,
          48940.12,
          48730.24,
          48481.21,
          49306.35,
          49385.52,
          49552.45,
          48900,
          48626.66,
          48139,
          48113.83,
          48786.49
         ],
         "open": [
          48923.48,
          48510.28,
          50257.72,
          50200,
          50943.71,
          50713.91,
          50253.37,
          50125.63,
          50041.59,
          50689.09,
          50915.34,
          50152.87,
          50409.14,
          50784.52,
          49480.62,
          49435.86,
          49898.58,
          49391.94,
          50122.58,
          49612,
          48971.4,
          49106.84,
          48790.49,
          48852.32
         ],
         "type": "candlestick",
         "x": [
          "2021-02-24T00:00:00",
          "2021-02-24T01:00:00",
          "2021-02-24T02:00:00",
          "2021-02-24T03:00:00",
          "2021-02-24T04:00:00",
          "2021-02-24T05:00:00",
          "2021-02-24T06:00:00",
          "2021-02-24T07:00:00",
          "2021-02-24T08:00:00",
          "2021-02-24T09:00:00",
          "2021-02-24T10:00:00",
          "2021-02-24T11:00:00",
          "2021-02-24T12:00:00",
          "2021-02-24T13:00:00",
          "2021-02-24T14:00:00",
          "2021-02-24T15:00:00",
          "2021-02-24T16:00:00",
          "2021-02-24T17:00:00",
          "2021-02-24T18:00:00",
          "2021-02-24T19:00:00",
          "2021-02-24T20:00:00",
          "2021-02-24T21:00:00",
          "2021-02-24T22:00:00",
          "2021-02-24T23:00:00"
         ]
        },
        {
         "line": {
          "color": "blue"
         },
         "mode": "lines",
         "name": "VWAP",
         "type": "scatter",
         "x": [
          "2021-02-24T00:00:00",
          "2021-02-24T01:00:00",
          "2021-02-24T02:00:00",
          "2021-02-24T03:00:00",
          "2021-02-24T04:00:00",
          "2021-02-24T05:00:00",
          "2021-02-24T06:00:00",
          "2021-02-24T07:00:00",
          "2021-02-24T08:00:00",
          "2021-02-24T09:00:00",
          "2021-02-24T10:00:00",
          "2021-02-24T11:00:00",
          "2021-02-24T12:00:00",
          "2021-02-24T13:00:00",
          "2021-02-24T14:00:00",
          "2021-02-24T15:00:00",
          "2021-02-24T16:00:00",
          "2021-02-24T17:00:00",
          "2021-02-24T18:00:00",
          "2021-02-24T19:00:00",
          "2021-02-24T20:00:00",
          "2021-02-24T21:00:00",
          "2021-02-24T22:00:00",
          "2021-02-24T23:00:00"
         ],
         "y": [
          47981.711506581494,
          49458.07910136139,
          50268.2599681062,
          50494.398639418236,
          50934.95328556314,
          50528.602569699535,
          49935.13589114713,
          50034.85894387047,
          50476.88295949771,
          50901.63906990289,
          50494.32425165456,
          50446.875138670184,
          50932.9130597378,
          49750.219363816526,
          49282.04210015556,
          49249.51326231501,
          49720.09421716933,
          49843.67333691845,
          49796.55087907407,
          49204.72546606478,
          48952.98832426555,
          48526.69720355337,
          48650.5654020886,
          49457.50051789593
         ]
        },
        {
         "line": {
          "color": "grey"
         },
         "mode": "lines",
         "name": "vwmp_lower",
         "type": "scatter",
         "x": [
          "2021-02-24T00:00:00",
          "2021-02-24T01:00:00",
          "2021-02-24T02:00:00",
          "2021-02-24T03:00:00",
          "2021-02-24T04:00:00",
          "2021-02-24T05:00:00",
          "2021-02-24T06:00:00",
          "2021-02-24T07:00:00",
          "2021-02-24T08:00:00",
          "2021-02-24T09:00:00",
          "2021-02-24T10:00:00",
          "2021-02-24T11:00:00",
          "2021-02-24T12:00:00",
          "2021-02-24T13:00:00",
          "2021-02-24T14:00:00",
          "2021-02-24T15:00:00",
          "2021-02-24T16:00:00",
          "2021-02-24T17:00:00",
          "2021-02-24T18:00:00",
          "2021-02-24T19:00:00",
          "2021-02-24T20:00:00",
          "2021-02-24T21:00:00",
          "2021-02-24T22:00:00",
          "2021-02-24T23:00:00"
         ],
         "y": [
          48315.26,
          49101,
          50365.39,
          50656.81,
          51134.86,
          50954.35,
          50092,
          50304.82,
          50665.68,
          51358.51,
          50514.91,
          50800,
          51042.65,
          50928.59,
          48923.27,
          49009.85,
          49702.4,
          49935.46,
          49622.28,
          49448.6,
          49162.11,
          48715.43,
          48821.93,
          49249.67
         ]
        }
       ],
       "layout": {
        "height": 300,
        "margin": {
         "b": 20,
         "l": 70,
         "r": 50,
         "t": 50
        },
        "template": {
         "data": {
          "bar": [
           {
            "error_x": {
             "color": "#2a3f5f"
            },
            "error_y": {
             "color": "#2a3f5f"
            },
            "marker": {
             "line": {
              "color": "#E5ECF6",
              "width": 0.5
             },
             "pattern": {
              "fillmode": "overlay",
              "size": 10,
              "solidity": 0.2
             }
            },
            "type": "bar"
           }
          ],
          "barpolar": [
           {
            "marker": {
             "line": {
              "color": "#E5ECF6",
              "width": 0.5
             },
             "pattern": {
              "fillmode": "overlay",
              "size": 10,
              "solidity": 0.2
             }
            },
            "type": "barpolar"
           }
          ],
          "carpet": [
           {
            "aaxis": {
             "endlinecolor": "#2a3f5f",
             "gridcolor": "white",
             "linecolor": "white",
             "minorgridcolor": "white",
             "startlinecolor": "#2a3f5f"
            },
            "baxis": {
             "endlinecolor": "#2a3f5f",
             "gridcolor": "white",
             "linecolor": "white",
             "minorgridcolor": "white",
             "startlinecolor": "#2a3f5f"
            },
            "type": "carpet"
           }
          ],
          "choropleth": [
           {
            "colorbar": {
             "outlinewidth": 0,
             "ticks": ""
            },
            "type": "choropleth"
           }
          ],
          "contour": [
           {
            "colorbar": {
             "outlinewidth": 0,
             "ticks": ""
            },
            "colorscale": [
             [
              0,
              "#0d0887"
             ],
             [
              0.1111111111111111,
              "#46039f"
             ],
             [
              0.2222222222222222,
              "#7201a8"
             ],
             [
              0.3333333333333333,
              "#9c179e"
             ],
             [
              0.4444444444444444,
              "#bd3786"
             ],
             [
              0.5555555555555556,
              "#d8576b"
             ],
             [
              0.6666666666666666,
              "#ed7953"
             ],
             [
              0.7777777777777778,
              "#fb9f3a"
             ],
             [
              0.8888888888888888,
              "#fdca26"
             ],
             [
              1,
              "#f0f921"
             ]
            ],
            "type": "contour"
           }
          ],
          "contourcarpet": [
           {
            "colorbar": {
             "outlinewidth": 0,
             "ticks": ""
            },
            "type": "contourcarpet"
           }
          ],
          "heatmap": [
           {
            "colorbar": {
             "outlinewidth": 0,
             "ticks": ""
            },
            "colorscale": [
             [
              0,
              "#0d0887"
             ],
             [
              0.1111111111111111,
              "#46039f"
             ],
             [
              0.2222222222222222,
              "#7201a8"
             ],
             [
              0.3333333333333333,
              "#9c179e"
             ],
             [
              0.4444444444444444,
              "#bd3786"
             ],
             [
              0.5555555555555556,
              "#d8576b"
             ],
             [
              0.6666666666666666,
              "#ed7953"
             ],
             [
              0.7777777777777778,
              "#fb9f3a"
             ],
             [
              0.8888888888888888,
              "#fdca26"
             ],
             [
              1,
              "#f0f921"
             ]
            ],
            "type": "heatmap"
           }
          ],
          "heatmapgl": [
           {
            "colorbar": {
             "outlinewidth": 0,
             "ticks": ""
            },
            "colorscale": [
             [
              0,
              "#0d0887"
             ],
             [
              0.1111111111111111,
              "#46039f"
             ],
             [
              0.2222222222222222,
              "#7201a8"
             ],
             [
              0.3333333333333333,
              "#9c179e"
             ],
             [
              0.4444444444444444,
              "#bd3786"
             ],
             [
              0.5555555555555556,
              "#d8576b"
             ],
             [
              0.6666666666666666,
              "#ed7953"
             ],
             [
              0.7777777777777778,
              "#fb9f3a"
             ],
             [
              0.8888888888888888,
              "#fdca26"
             ],
             [
              1,
              "#f0f921"
             ]
            ],
            "type": "heatmapgl"
           }
          ],
          "histogram": [
           {
            "marker": {
             "pattern": {
              "fillmode": "overlay",
              "size": 10,
              "solidity": 0.2
             }
            },
            "type": "histogram"
           }
          ],
          "histogram2d": [
           {
            "colorbar": {
             "outlinewidth": 0,
             "ticks": ""
            },
            "colorscale": [
             [
              0,
              "#0d0887"
             ],
             [
              0.1111111111111111,
              "#46039f"
             ],
             [
              0.2222222222222222,
              "#7201a8"
             ],
             [
              0.3333333333333333,
              "#9c179e"
             ],
             [
              0.4444444444444444,
              "#bd3786"
             ],
             [
              0.5555555555555556,
              "#d8576b"
             ],
             [
              0.6666666666666666,
              "#ed7953"
             ],
             [
              0.7777777777777778,
              "#fb9f3a"
             ],
             [
              0.8888888888888888,
              "#fdca26"
             ],
             [
              1,
              "#f0f921"
             ]
            ],
            "type": "histogram2d"
           }
          ],
          "histogram2dcontour": [
           {
            "colorbar": {
             "outlinewidth": 0,
             "ticks": ""
            },
            "colorscale": [
             [
              0,
              "#0d0887"
             ],
             [
              0.1111111111111111,
              "#46039f"
             ],
             [
              0.2222222222222222,
              "#7201a8"
             ],
             [
              0.3333333333333333,
              "#9c179e"
             ],
             [
              0.4444444444444444,
              "#bd3786"
             ],
             [
              0.5555555555555556,
              "#d8576b"
             ],
             [
              0.6666666666666666,
              "#ed7953"
             ],
             [
              0.7777777777777778,
              "#fb9f3a"
             ],
             [
              0.8888888888888888,
              "#fdca26"
             ],
             [
              1,
              "#f0f921"
             ]
            ],
            "type": "histogram2dcontour"
           }
          ],
          "mesh3d": [
           {
            "colorbar": {
             "outlinewidth": 0,
             "ticks": ""
            },
            "type": "mesh3d"
           }
          ],
          "parcoords": [
           {
            "line": {
             "colorbar": {
              "outlinewidth": 0,
              "ticks": ""
             }
            },
            "type": "parcoords"
           }
          ],
          "pie": [
           {
            "automargin": true,
            "type": "pie"
           }
          ],
          "scatter": [
           {
            "fillpattern": {
             "fillmode": "overlay",
             "size": 10,
             "solidity": 0.2
            },
            "type": "scatter"
           }
          ],
          "scatter3d": [
           {
            "line": {
             "colorbar": {
              "outlinewidth": 0,
              "ticks": ""
             }
            },
            "marker": {
             "colorbar": {
              "outlinewidth": 0,
              "ticks": ""
             }
            },
            "type": "scatter3d"
           }
          ],
          "scattercarpet": [
           {
            "marker": {
             "colorbar": {
              "outlinewidth": 0,
              "ticks": ""
             }
            },
            "type": "scattercarpet"
           }
          ],
          "scattergeo": [
           {
            "marker": {
             "colorbar": {
              "outlinewidth": 0,
              "ticks": ""
             }
            },
            "type": "scattergeo"
           }
          ],
          "scattergl": [
           {
            "marker": {
             "colorbar": {
              "outlinewidth": 0,
              "ticks": ""
             }
            },
            "type": "scattergl"
           }
          ],
          "scattermapbox": [
           {
            "marker": {
             "colorbar": {
              "outlinewidth": 0,
              "ticks": ""
             }
            },
            "type": "scattermapbox"
           }
          ],
          "scatterpolar": [
           {
            "marker": {
             "colorbar": {
              "outlinewidth": 0,
              "ticks": ""
             }
            },
            "type": "scatterpolar"
           }
          ],
          "scatterpolargl": [
           {
            "marker": {
             "colorbar": {
              "outlinewidth": 0,
              "ticks": ""
             }
            },
            "type": "scatterpolargl"
           }
          ],
          "scatterternary": [
           {
            "marker": {
             "colorbar": {
              "outlinewidth": 0,
              "ticks": ""
             }
            },
            "type": "scatterternary"
           }
          ],
          "surface": [
           {
            "colorbar": {
             "outlinewidth": 0,
             "ticks": ""
            },
            "colorscale": [
             [
              0,
              "#0d0887"
             ],
             [
              0.1111111111111111,
              "#46039f"
             ],
             [
              0.2222222222222222,
              "#7201a8"
             ],
             [
              0.3333333333333333,
              "#9c179e"
             ],
             [
              0.4444444444444444,
              "#bd3786"
             ],
             [
              0.5555555555555556,
              "#d8576b"
             ],
             [
              0.6666666666666666,
              "#ed7953"
             ],
             [
              0.7777777777777778,
              "#fb9f3a"
             ],
             [
              0.8888888888888888,
              "#fdca26"
             ],
             [
              1,
              "#f0f921"
             ]
            ],
            "type": "surface"
           }
          ],
          "table": [
           {
            "cells": {
             "fill": {
              "color": "#EBF0F8"
             },
             "line": {
              "color": "white"
             }
            },
            "header": {
             "fill": {
              "color": "#C8D4E3"
             },
             "line": {
              "color": "white"
             }
            },
            "type": "table"
           }
          ]
         },
         "layout": {
          "annotationdefaults": {
           "arrowcolor": "#2a3f5f",
           "arrowhead": 0,
           "arrowwidth": 1
          },
          "autotypenumbers": "strict",
          "coloraxis": {
           "colorbar": {
            "outlinewidth": 0,
            "ticks": ""
           }
          },
          "colorscale": {
           "diverging": [
            [
             0,
             "#8e0152"
            ],
            [
             0.1,
             "#c51b7d"
            ],
            [
             0.2,
             "#de77ae"
            ],
            [
             0.3,
             "#f1b6da"
            ],
            [
             0.4,
             "#fde0ef"
            ],
            [
             0.5,
             "#f7f7f7"
            ],
            [
             0.6,
             "#e6f5d0"
            ],
            [
             0.7,
             "#b8e186"
            ],
            [
             0.8,
             "#7fbc41"
            ],
            [
             0.9,
             "#4d9221"
            ],
            [
             1,
             "#276419"
            ]
           ],
           "sequential": [
            [
             0,
             "#0d0887"
            ],
            [
             0.1111111111111111,
             "#46039f"
            ],
            [
             0.2222222222222222,
             "#7201a8"
            ],
            [
             0.3333333333333333,
             "#9c179e"
            ],
            [
             0.4444444444444444,
             "#bd3786"
            ],
            [
             0.5555555555555556,
             "#d8576b"
            ],
            [
             0.6666666666666666,
             "#ed7953"
            ],
            [
             0.7777777777777778,
             "#fb9f3a"
            ],
            [
             0.8888888888888888,
             "#fdca26"
            ],
            [
             1,
             "#f0f921"
            ]
           ],
           "sequentialminus": [
            [
             0,
             "#0d0887"
            ],
            [
             0.1111111111111111,
             "#46039f"
            ],
            [
             0.2222222222222222,
             "#7201a8"
            ],
            [
             0.3333333333333333,
             "#9c179e"
            ],
            [
             0.4444444444444444,
             "#bd3786"
            ],
            [
             0.5555555555555556,
             "#d8576b"
            ],
            [
             0.6666666666666666,
             "#ed7953"
            ],
            [
             0.7777777777777778,
             "#fb9f3a"
            ],
            [
             0.8888888888888888,
             "#fdca26"
            ],
            [
             1,
             "#f0f921"
            ]
           ]
          },
          "colorway": [
           "#636efa",
           "#EF553B",
           "#00cc96",
           "#ab63fa",
           "#FFA15A",
           "#19d3f3",
           "#FF6692",
           "#B6E880",
           "#FF97FF",
           "#FECB52"
          ],
          "font": {
           "color": "#2a3f5f"
          },
          "geo": {
           "bgcolor": "white",
           "lakecolor": "white",
           "landcolor": "#E5ECF6",
           "showlakes": true,
           "showland": true,
           "subunitcolor": "white"
          },
          "hoverlabel": {
           "align": "left"
          },
          "hovermode": "closest",
          "mapbox": {
           "style": "light"
          },
          "paper_bgcolor": "white",
          "plot_bgcolor": "#E5ECF6",
          "polar": {
           "angularaxis": {
            "gridcolor": "white",
            "linecolor": "white",
            "ticks": ""
           },
           "bgcolor": "#E5ECF6",
           "radialaxis": {
            "gridcolor": "white",
            "linecolor": "white",
            "ticks": ""
           }
          },
          "scene": {
           "xaxis": {
            "backgroundcolor": "#E5ECF6",
            "gridcolor": "white",
            "gridwidth": 2,
            "linecolor": "white",
            "showbackground": true,
            "ticks": "",
            "zerolinecolor": "white"
           },
           "yaxis": {
            "backgroundcolor": "#E5ECF6",
            "gridcolor": "white",
            "gridwidth": 2,
            "linecolor": "white",
            "showbackground": true,
            "ticks": "",
            "zerolinecolor": "white"
           },
           "zaxis": {
            "backgroundcolor": "#E5ECF6",
            "gridcolor": "white",
            "gridwidth": 2,
            "linecolor": "white",
            "showbackground": true,
            "ticks": "",
            "zerolinecolor": "white"
           }
          },
          "shapedefaults": {
           "line": {
            "color": "#2a3f5f"
           }
          },
          "ternary": {
           "aaxis": {
            "gridcolor": "white",
            "linecolor": "white",
            "ticks": ""
           },
           "baxis": {
            "gridcolor": "white",
            "linecolor": "white",
            "ticks": ""
           },
           "bgcolor": "#E5ECF6",
           "caxis": {
            "gridcolor": "white",
            "linecolor": "white",
            "ticks": ""
           }
          },
          "title": {
           "x": 0.05
          },
          "xaxis": {
           "automargin": true,
           "gridcolor": "white",
           "linecolor": "white",
           "ticks": "",
           "title": {
            "standoff": 15
           },
           "zerolinecolor": "white",
           "zerolinewidth": 2
          },
          "yaxis": {
           "automargin": true,
           "gridcolor": "white",
           "linecolor": "white",
           "ticks": "",
           "title": {
            "standoff": 15
           },
           "zerolinecolor": "white",
           "zerolinewidth": 2
          }
         }
        },
        "title": {
         "text": "Exchange - [gmni]"
        },
        "width": 800,
        "yaxis": {
         "title": {
          "text": "Price"
         }
        }
       }
      }
     },
     "metadata": {},
     "output_type": "display_data"
    },
    {
     "data": {
      "application/vnd.plotly.v1+json": {
       "config": {
        "plotlyServerURL": "https://plot.ly"
       },
       "data": [
        {
         "close": [
          48504,
          50160.5,
          50191.5,
          50929,
          50623,
          50236.5,
          50096,
          50078,
          50674.5,
          50896.5,
          50136.5,
          50388.5,
          50714.5,
          49468,
          49443.5,
          49845.81,
          49362.5,
          50076,
          49611,
          49001,
          49179.5,
          48802.5,
          48878.5,
          49767
         ],
         "high": [
          49080.5,
          50240.88,
          50569.5,
          50999.5,
          51409,
          51032.5,
          50691,
          50358.5,
          50901.5,
          51449.5,
          51068.9,
          50910.5,
          51297.5,
          51089.5,
          49793.75,
          49877.5,
          50143.5,
          50102,
          50097.5,
          49731.5,
          49270.5,
          49175,
          48995.5,
          49792
         ],
         "low": [
          46918.718,
          48438,
          49799.5,
          50073.75,
          50353.25,
          50028.5,
          49475,
          49566,
          49770.5,
          50389,
          50127.5,
          50152.63,
          50374,
          49045,
          48738.5,
          48458,
          49343,
          49355.5,
          49551,
          48855.5,
          48634.5,
          48148,
          48036.5,
          48780
         ],
         "open": [
          48892.5,
          48495,
          50181,
          50171,
          50937.25,
          50761.6,
          50225.5,
          50099.75,
          50037.5,
          50679.5,
          50994,
          50160.5,
          50397.1,
          50788,
          49603.5,
          49441.5,
          49866,
          49401,
          50077.5,
          49628.001,
          48978.5,
          49171.5,
          48375.75,
          48843
         ],
         "type": "candlestick",
         "x": [
          "2021-02-24T00:00:00",
          "2021-02-24T01:00:00",
          "2021-02-24T02:00:00",
          "2021-02-24T03:00:00",
          "2021-02-24T04:00:00",
          "2021-02-24T05:00:00",
          "2021-02-24T06:00:00",
          "2021-02-24T07:00:00",
          "2021-02-24T08:00:00",
          "2021-02-24T09:00:00",
          "2021-02-24T10:00:00",
          "2021-02-24T11:00:00",
          "2021-02-24T12:00:00",
          "2021-02-24T13:00:00",
          "2021-02-24T14:00:00",
          "2021-02-24T15:00:00",
          "2021-02-24T16:00:00",
          "2021-02-24T17:00:00",
          "2021-02-24T18:00:00",
          "2021-02-24T19:00:00",
          "2021-02-24T20:00:00",
          "2021-02-24T21:00:00",
          "2021-02-24T22:00:00",
          "2021-02-24T23:00:00"
         ]
        },
        {
         "line": {
          "color": "blue"
         },
         "mode": "lines",
         "name": "VWAP",
         "type": "scatter",
         "x": [
          "2021-02-24T00:00:00",
          "2021-02-24T01:00:00",
          "2021-02-24T02:00:00",
          "2021-02-24T03:00:00",
          "2021-02-24T04:00:00",
          "2021-02-24T05:00:00",
          "2021-02-24T06:00:00",
          "2021-02-24T07:00:00",
          "2021-02-24T08:00:00",
          "2021-02-24T09:00:00",
          "2021-02-24T10:00:00",
          "2021-02-24T11:00:00",
          "2021-02-24T12:00:00",
          "2021-02-24T13:00:00",
          "2021-02-24T14:00:00",
          "2021-02-24T15:00:00",
          "2021-02-24T16:00:00",
          "2021-02-24T17:00:00",
          "2021-02-24T18:00:00",
          "2021-02-24T19:00:00",
          "2021-02-24T20:00:00",
          "2021-02-24T21:00:00",
          "2021-02-24T22:00:00",
          "2021-02-24T23:00:00"
         ],
         "y": [
          47880.95891374598,
          49250.834066918454,
          50227.85291221484,
          50458.46279412236,
          50851.63800394124,
          50473.95956278717,
          50061.8083281648,
          49996.280195691375,
          50552.860398304074,
          50934.15216528215,
          50514.76969158256,
          50505.68807687795,
          50918.641498133475,
          49827.03550003846,
          49274.40830598385,
          49324.913760803756,
          49755.51820449717,
          49845.112441132354,
          49796.54779073936,
          49317.0717324864,
          48952.60809188711,
          48518.46203764825,
          48645.53058621327,
          49423.47108691518
         ]
        },
        {
         "line": {
          "color": "grey"
         },
         "mode": "lines",
         "name": "vwmp_lower",
         "type": "scatter",
         "x": [
          "2021-02-24T00:00:00",
          "2021-02-24T01:00:00",
          "2021-02-24T02:00:00",
          "2021-02-24T03:00:00",
          "2021-02-24T04:00:00",
          "2021-02-24T05:00:00",
          "2021-02-24T06:00:00",
          "2021-02-24T07:00:00",
          "2021-02-24T08:00:00",
          "2021-02-24T09:00:00",
          "2021-02-24T10:00:00",
          "2021-02-24T11:00:00",
          "2021-02-24T12:00:00",
          "2021-02-24T13:00:00",
          "2021-02-24T14:00:00",
          "2021-02-24T15:00:00",
          "2021-02-24T16:00:00",
          "2021-02-24T17:00:00",
          "2021-02-24T18:00:00",
          "2021-02-24T19:00:00",
          "2021-02-24T20:00:00",
          "2021-02-24T21:00:00",
          "2021-02-24T22:00:00",
          "2021-02-24T23:00:00"
         ],
         "y": [
          47299,
          49275,
          50341,
          50365.5,
          51249,
          50216,
          49878.5,
          49785,
          50870.5,
          50923.5,
          50589,
          50565.5,
          50739.5,
          49144.5,
          49552,
          49787,
          49773.5,
          49850,
          49928.5,
          49423.5,
          48950.5,
          49126,
          48900,
          49277.5
         ]
        }
       ],
       "layout": {
        "height": 300,
        "margin": {
         "b": 20,
         "l": 70,
         "r": 50,
         "t": 50
        },
        "template": {
         "data": {
          "bar": [
           {
            "error_x": {
             "color": "#2a3f5f"
            },
            "error_y": {
             "color": "#2a3f5f"
            },
            "marker": {
             "line": {
              "color": "#E5ECF6",
              "width": 0.5
             },
             "pattern": {
              "fillmode": "overlay",
              "size": 10,
              "solidity": 0.2
             }
            },
            "type": "bar"
           }
          ],
          "barpolar": [
           {
            "marker": {
             "line": {
              "color": "#E5ECF6",
              "width": 0.5
             },
             "pattern": {
              "fillmode": "overlay",
              "size": 10,
              "solidity": 0.2
             }
            },
            "type": "barpolar"
           }
          ],
          "carpet": [
           {
            "aaxis": {
             "endlinecolor": "#2a3f5f",
             "gridcolor": "white",
             "linecolor": "white",
             "minorgridcolor": "white",
             "startlinecolor": "#2a3f5f"
            },
            "baxis": {
             "endlinecolor": "#2a3f5f",
             "gridcolor": "white",
             "linecolor": "white",
             "minorgridcolor": "white",
             "startlinecolor": "#2a3f5f"
            },
            "type": "carpet"
           }
          ],
          "choropleth": [
           {
            "colorbar": {
             "outlinewidth": 0,
             "ticks": ""
            },
            "type": "choropleth"
           }
          ],
          "contour": [
           {
            "colorbar": {
             "outlinewidth": 0,
             "ticks": ""
            },
            "colorscale": [
             [
              0,
              "#0d0887"
             ],
             [
              0.1111111111111111,
              "#46039f"
             ],
             [
              0.2222222222222222,
              "#7201a8"
             ],
             [
              0.3333333333333333,
              "#9c179e"
             ],
             [
              0.4444444444444444,
              "#bd3786"
             ],
             [
              0.5555555555555556,
              "#d8576b"
             ],
             [
              0.6666666666666666,
              "#ed7953"
             ],
             [
              0.7777777777777778,
              "#fb9f3a"
             ],
             [
              0.8888888888888888,
              "#fdca26"
             ],
             [
              1,
              "#f0f921"
             ]
            ],
            "type": "contour"
           }
          ],
          "contourcarpet": [
           {
            "colorbar": {
             "outlinewidth": 0,
             "ticks": ""
            },
            "type": "contourcarpet"
           }
          ],
          "heatmap": [
           {
            "colorbar": {
             "outlinewidth": 0,
             "ticks": ""
            },
            "colorscale": [
             [
              0,
              "#0d0887"
             ],
             [
              0.1111111111111111,
              "#46039f"
             ],
             [
              0.2222222222222222,
              "#7201a8"
             ],
             [
              0.3333333333333333,
              "#9c179e"
             ],
             [
              0.4444444444444444,
              "#bd3786"
             ],
             [
              0.5555555555555556,
              "#d8576b"
             ],
             [
              0.6666666666666666,
              "#ed7953"
             ],
             [
              0.7777777777777778,
              "#fb9f3a"
             ],
             [
              0.8888888888888888,
              "#fdca26"
             ],
             [
              1,
              "#f0f921"
             ]
            ],
            "type": "heatmap"
           }
          ],
          "heatmapgl": [
           {
            "colorbar": {
             "outlinewidth": 0,
             "ticks": ""
            },
            "colorscale": [
             [
              0,
              "#0d0887"
             ],
             [
              0.1111111111111111,
              "#46039f"
             ],
             [
              0.2222222222222222,
              "#7201a8"
             ],
             [
              0.3333333333333333,
              "#9c179e"
             ],
             [
              0.4444444444444444,
              "#bd3786"
             ],
             [
              0.5555555555555556,
              "#d8576b"
             ],
             [
              0.6666666666666666,
              "#ed7953"
             ],
             [
              0.7777777777777778,
              "#fb9f3a"
             ],
             [
              0.8888888888888888,
              "#fdca26"
             ],
             [
              1,
              "#f0f921"
             ]
            ],
            "type": "heatmapgl"
           }
          ],
          "histogram": [
           {
            "marker": {
             "pattern": {
              "fillmode": "overlay",
              "size": 10,
              "solidity": 0.2
             }
            },
            "type": "histogram"
           }
          ],
          "histogram2d": [
           {
            "colorbar": {
             "outlinewidth": 0,
             "ticks": ""
            },
            "colorscale": [
             [
              0,
              "#0d0887"
             ],
             [
              0.1111111111111111,
              "#46039f"
             ],
             [
              0.2222222222222222,
              "#7201a8"
             ],
             [
              0.3333333333333333,
              "#9c179e"
             ],
             [
              0.4444444444444444,
              "#bd3786"
             ],
             [
              0.5555555555555556,
              "#d8576b"
             ],
             [
              0.6666666666666666,
              "#ed7953"
             ],
             [
              0.7777777777777778,
              "#fb9f3a"
             ],
             [
              0.8888888888888888,
              "#fdca26"
             ],
             [
              1,
              "#f0f921"
             ]
            ],
            "type": "histogram2d"
           }
          ],
          "histogram2dcontour": [
           {
            "colorbar": {
             "outlinewidth": 0,
             "ticks": ""
            },
            "colorscale": [
             [
              0,
              "#0d0887"
             ],
             [
              0.1111111111111111,
              "#46039f"
             ],
             [
              0.2222222222222222,
              "#7201a8"
             ],
             [
              0.3333333333333333,
              "#9c179e"
             ],
             [
              0.4444444444444444,
              "#bd3786"
             ],
             [
              0.5555555555555556,
              "#d8576b"
             ],
             [
              0.6666666666666666,
              "#ed7953"
             ],
             [
              0.7777777777777778,
              "#fb9f3a"
             ],
             [
              0.8888888888888888,
              "#fdca26"
             ],
             [
              1,
              "#f0f921"
             ]
            ],
            "type": "histogram2dcontour"
           }
          ],
          "mesh3d": [
           {
            "colorbar": {
             "outlinewidth": 0,
             "ticks": ""
            },
            "type": "mesh3d"
           }
          ],
          "parcoords": [
           {
            "line": {
             "colorbar": {
              "outlinewidth": 0,
              "ticks": ""
             }
            },
            "type": "parcoords"
           }
          ],
          "pie": [
           {
            "automargin": true,
            "type": "pie"
           }
          ],
          "scatter": [
           {
            "fillpattern": {
             "fillmode": "overlay",
             "size": 10,
             "solidity": 0.2
            },
            "type": "scatter"
           }
          ],
          "scatter3d": [
           {
            "line": {
             "colorbar": {
              "outlinewidth": 0,
              "ticks": ""
             }
            },
            "marker": {
             "colorbar": {
              "outlinewidth": 0,
              "ticks": ""
             }
            },
            "type": "scatter3d"
           }
          ],
          "scattercarpet": [
           {
            "marker": {
             "colorbar": {
              "outlinewidth": 0,
              "ticks": ""
             }
            },
            "type": "scattercarpet"
           }
          ],
          "scattergeo": [
           {
            "marker": {
             "colorbar": {
              "outlinewidth": 0,
              "ticks": ""
             }
            },
            "type": "scattergeo"
           }
          ],
          "scattergl": [
           {
            "marker": {
             "colorbar": {
              "outlinewidth": 0,
              "ticks": ""
             }
            },
            "type": "scattergl"
           }
          ],
          "scattermapbox": [
           {
            "marker": {
             "colorbar": {
              "outlinewidth": 0,
              "ticks": ""
             }
            },
            "type": "scattermapbox"
           }
          ],
          "scatterpolar": [
           {
            "marker": {
             "colorbar": {
              "outlinewidth": 0,
              "ticks": ""
             }
            },
            "type": "scatterpolar"
           }
          ],
          "scatterpolargl": [
           {
            "marker": {
             "colorbar": {
              "outlinewidth": 0,
              "ticks": ""
             }
            },
            "type": "scatterpolargl"
           }
          ],
          "scatterternary": [
           {
            "marker": {
             "colorbar": {
              "outlinewidth": 0,
              "ticks": ""
             }
            },
            "type": "scatterternary"
           }
          ],
          "surface": [
           {
            "colorbar": {
             "outlinewidth": 0,
             "ticks": ""
            },
            "colorscale": [
             [
              0,
              "#0d0887"
             ],
             [
              0.1111111111111111,
              "#46039f"
             ],
             [
              0.2222222222222222,
              "#7201a8"
             ],
             [
              0.3333333333333333,
              "#9c179e"
             ],
             [
              0.4444444444444444,
              "#bd3786"
             ],
             [
              0.5555555555555556,
              "#d8576b"
             ],
             [
              0.6666666666666666,
              "#ed7953"
             ],
             [
              0.7777777777777778,
              "#fb9f3a"
             ],
             [
              0.8888888888888888,
              "#fdca26"
             ],
             [
              1,
              "#f0f921"
             ]
            ],
            "type": "surface"
           }
          ],
          "table": [
           {
            "cells": {
             "fill": {
              "color": "#EBF0F8"
             },
             "line": {
              "color": "white"
             }
            },
            "header": {
             "fill": {
              "color": "#C8D4E3"
             },
             "line": {
              "color": "white"
             }
            },
            "type": "table"
           }
          ]
         },
         "layout": {
          "annotationdefaults": {
           "arrowcolor": "#2a3f5f",
           "arrowhead": 0,
           "arrowwidth": 1
          },
          "autotypenumbers": "strict",
          "coloraxis": {
           "colorbar": {
            "outlinewidth": 0,
            "ticks": ""
           }
          },
          "colorscale": {
           "diverging": [
            [
             0,
             "#8e0152"
            ],
            [
             0.1,
             "#c51b7d"
            ],
            [
             0.2,
             "#de77ae"
            ],
            [
             0.3,
             "#f1b6da"
            ],
            [
             0.4,
             "#fde0ef"
            ],
            [
             0.5,
             "#f7f7f7"
            ],
            [
             0.6,
             "#e6f5d0"
            ],
            [
             0.7,
             "#b8e186"
            ],
            [
             0.8,
             "#7fbc41"
            ],
            [
             0.9,
             "#4d9221"
            ],
            [
             1,
             "#276419"
            ]
           ],
           "sequential": [
            [
             0,
             "#0d0887"
            ],
            [
             0.1111111111111111,
             "#46039f"
            ],
            [
             0.2222222222222222,
             "#7201a8"
            ],
            [
             0.3333333333333333,
             "#9c179e"
            ],
            [
             0.4444444444444444,
             "#bd3786"
            ],
            [
             0.5555555555555556,
             "#d8576b"
            ],
            [
             0.6666666666666666,
             "#ed7953"
            ],
            [
             0.7777777777777778,
             "#fb9f3a"
            ],
            [
             0.8888888888888888,
             "#fdca26"
            ],
            [
             1,
             "#f0f921"
            ]
           ],
           "sequentialminus": [
            [
             0,
             "#0d0887"
            ],
            [
             0.1111111111111111,
             "#46039f"
            ],
            [
             0.2222222222222222,
             "#7201a8"
            ],
            [
             0.3333333333333333,
             "#9c179e"
            ],
            [
             0.4444444444444444,
             "#bd3786"
            ],
            [
             0.5555555555555556,
             "#d8576b"
            ],
            [
             0.6666666666666666,
             "#ed7953"
            ],
            [
             0.7777777777777778,
             "#fb9f3a"
            ],
            [
             0.8888888888888888,
             "#fdca26"
            ],
            [
             1,
             "#f0f921"
            ]
           ]
          },
          "colorway": [
           "#636efa",
           "#EF553B",
           "#00cc96",
           "#ab63fa",
           "#FFA15A",
           "#19d3f3",
           "#FF6692",
           "#B6E880",
           "#FF97FF",
           "#FECB52"
          ],
          "font": {
           "color": "#2a3f5f"
          },
          "geo": {
           "bgcolor": "white",
           "lakecolor": "white",
           "landcolor": "#E5ECF6",
           "showlakes": true,
           "showland": true,
           "subunitcolor": "white"
          },
          "hoverlabel": {
           "align": "left"
          },
          "hovermode": "closest",
          "mapbox": {
           "style": "light"
          },
          "paper_bgcolor": "white",
          "plot_bgcolor": "#E5ECF6",
          "polar": {
           "angularaxis": {
            "gridcolor": "white",
            "linecolor": "white",
            "ticks": ""
           },
           "bgcolor": "#E5ECF6",
           "radialaxis": {
            "gridcolor": "white",
            "linecolor": "white",
            "ticks": ""
           }
          },
          "scene": {
           "xaxis": {
            "backgroundcolor": "#E5ECF6",
            "gridcolor": "white",
            "gridwidth": 2,
            "linecolor": "white",
            "showbackground": true,
            "ticks": "",
            "zerolinecolor": "white"
           },
           "yaxis": {
            "backgroundcolor": "#E5ECF6",
            "gridcolor": "white",
            "gridwidth": 2,
            "linecolor": "white",
            "showbackground": true,
            "ticks": "",
            "zerolinecolor": "white"
           },
           "zaxis": {
            "backgroundcolor": "#E5ECF6",
            "gridcolor": "white",
            "gridwidth": 2,
            "linecolor": "white",
            "showbackground": true,
            "ticks": "",
            "zerolinecolor": "white"
           }
          },
          "shapedefaults": {
           "line": {
            "color": "#2a3f5f"
           }
          },
          "ternary": {
           "aaxis": {
            "gridcolor": "white",
            "linecolor": "white",
            "ticks": ""
           },
           "baxis": {
            "gridcolor": "white",
            "linecolor": "white",
            "ticks": ""
           },
           "bgcolor": "#E5ECF6",
           "caxis": {
            "gridcolor": "white",
            "linecolor": "white",
            "ticks": ""
           }
          },
          "title": {
           "x": 0.05
          },
          "xaxis": {
           "automargin": true,
           "gridcolor": "white",
           "linecolor": "white",
           "ticks": "",
           "title": {
            "standoff": 15
           },
           "zerolinecolor": "white",
           "zerolinewidth": 2
          },
          "yaxis": {
           "automargin": true,
           "gridcolor": "white",
           "linecolor": "white",
           "ticks": "",
           "title": {
            "standoff": 15
           },
           "zerolinecolor": "white",
           "zerolinewidth": 2
          }
         }
        },
        "title": {
         "text": "Exchange - [lmax]"
        },
        "width": 800,
        "yaxis": {
         "title": {
          "text": "Price"
         }
        }
       }
      }
     },
     "metadata": {},
     "output_type": "display_data"
    },
    {
     "data": {
      "application/vnd.plotly.v1+json": {
       "config": {
        "plotlyServerURL": "https://plot.ly"
       },
       "data": [
        {
         "close": [
          48504,
          50206.74,
          50202.83,
          50939.95,
          50650.54,
          50245.64,
          50109.14,
          50060.64,
          50700.14,
          50889.26,
          50115.03,
          50381.65,
          50709.43,
          49494.86,
          49432.76,
          49847.54,
          49371.52,
          50086.38,
          49618.4,
          48991.68,
          49178.11,
          48786.95,
          48843.17,
          49754
         ],
         "high": [
          49098.88,
          50232,
          50820.16,
          51000,
          51459.51,
          51039,
          50710.31,
          50350.29,
          51089.72,
          51443.47,
          51051,
          50920.97,
          51310.99,
          51100,
          49787.02,
          49884.52,
          50155,
          50099.91,
          50091.97,
          49748.4,
          49293.55,
          49191.28,
          48995.2,
          49789.41
         ],
         "low": [
          47000,
          48425.2,
          49815.26,
          50090,
          50342.26,
          50000,
          49443.41,
          49531.41,
          49812,
          50387.22,
          50096.98,
          50127.39,
          50364.29,
          49050,
          48729.36,
          48488.51,
          49328.53,
          49354.01,
          49545.55,
          48850.23,
          48615.55,
          48130,
          48050,
          48798.61
         ],
         "open": [
          48927.33,
          48476.94,
          50224.22,
          50190.12,
          50937.53,
          50665.34,
          50264.18,
          50095.36,
          50100,
          50659.75,
          50923.48,
          50127.96,
          50408.26,
          50745.92,
          49519.1,
          49430.41,
          49847.54,
          49368.78,
          50061.08,
          49631.06,
          48971.58,
          49152.28,
          48768.54,
          48831.81
         ],
         "type": "candlestick",
         "x": [
          "2021-02-24T00:00:00",
          "2021-02-24T01:00:00",
          "2021-02-24T02:00:00",
          "2021-02-24T03:00:00",
          "2021-02-24T04:00:00",
          "2021-02-24T05:00:00",
          "2021-02-24T06:00:00",
          "2021-02-24T07:00:00",
          "2021-02-24T08:00:00",
          "2021-02-24T09:00:00",
          "2021-02-24T10:00:00",
          "2021-02-24T11:00:00",
          "2021-02-24T12:00:00",
          "2021-02-24T13:00:00",
          "2021-02-24T14:00:00",
          "2021-02-24T15:00:00",
          "2021-02-24T16:00:00",
          "2021-02-24T17:00:00",
          "2021-02-24T18:00:00",
          "2021-02-24T19:00:00",
          "2021-02-24T20:00:00",
          "2021-02-24T21:00:00",
          "2021-02-24T22:00:00",
          "2021-02-24T23:00:00"
         ]
        },
        {
         "line": {
          "color": "blue"
         },
         "mode": "lines",
         "name": "VWAP",
         "type": "scatter",
         "x": [
          "2021-02-24T00:00:00",
          "2021-02-24T01:00:00",
          "2021-02-24T02:00:00",
          "2021-02-24T03:00:00",
          "2021-02-24T04:00:00",
          "2021-02-24T05:00:00",
          "2021-02-24T06:00:00",
          "2021-02-24T07:00:00",
          "2021-02-24T08:00:00",
          "2021-02-24T09:00:00",
          "2021-02-24T10:00:00",
          "2021-02-24T11:00:00",
          "2021-02-24T12:00:00",
          "2021-02-24T13:00:00",
          "2021-02-24T14:00:00",
          "2021-02-24T15:00:00",
          "2021-02-24T16:00:00",
          "2021-02-24T17:00:00",
          "2021-02-24T18:00:00",
          "2021-02-24T19:00:00",
          "2021-02-24T20:00:00",
          "2021-02-24T21:00:00",
          "2021-02-24T22:00:00",
          "2021-02-24T23:00:00"
         ],
         "y": [
          47944.262769916444,
          49220.2997318283,
          50283.555917547485,
          50472.63781650129,
          50987.94170833807,
          50440.12489745783,
          49939.78189732182,
          49974.235438023854,
          50594.3944493803,
          50902.70874601398,
          50590.39346404892,
          50480.338477678175,
          50947.57059921597,
          49893.768540232646,
          49236.20029266822,
          49221.75253616328,
          49757.699345070025,
          49847.050542867946,
          49838.07583549319,
          49337.14171359621,
          48927.9073652996,
          48509.784282259796,
          48580.633396569894,
          49504.553951877046
         ]
        },
        {
         "line": {
          "color": "grey"
         },
         "mode": "lines",
         "name": "vwmp_lower",
         "type": "scatter",
         "x": [
          "2021-02-24T00:00:00",
          "2021-02-24T01:00:00",
          "2021-02-24T02:00:00",
          "2021-02-24T03:00:00",
          "2021-02-24T04:00:00",
          "2021-02-24T05:00:00",
          "2021-02-24T06:00:00",
          "2021-02-24T07:00:00",
          "2021-02-24T08:00:00",
          "2021-02-24T09:00:00",
          "2021-02-24T10:00:00",
          "2021-02-24T11:00:00",
          "2021-02-24T12:00:00",
          "2021-02-24T13:00:00",
          "2021-02-24T14:00:00",
          "2021-02-24T15:00:00",
          "2021-02-24T16:00:00",
          "2021-02-24T17:00:00",
          "2021-02-24T18:00:00",
          "2021-02-24T19:00:00",
          "2021-02-24T20:00:00",
          "2021-02-24T21:00:00",
          "2021-02-24T22:00:00",
          "2021-02-24T23:00:00"
         ],
         "y": [
          47625.91,
          48915.44,
          50319.47,
          50898.12,
          50975.37,
          50215.15,
          50476.72,
          50171,
          50493.97,
          50582.27,
          50918.19,
          50556.91,
          50525.81,
          49440.35,
          48757.03,
          49463.39,
          50064.47,
          49812.89,
          50014.64,
          49084.18,
          49113.52,
          48320,
          48821.53,
          49493.89
         ]
        }
       ],
       "layout": {
        "height": 300,
        "margin": {
         "b": 20,
         "l": 70,
         "r": 50,
         "t": 50
        },
        "template": {
         "data": {
          "bar": [
           {
            "error_x": {
             "color": "#2a3f5f"
            },
            "error_y": {
             "color": "#2a3f5f"
            },
            "marker": {
             "line": {
              "color": "#E5ECF6",
              "width": 0.5
             },
             "pattern": {
              "fillmode": "overlay",
              "size": 10,
              "solidity": 0.2
             }
            },
            "type": "bar"
           }
          ],
          "barpolar": [
           {
            "marker": {
             "line": {
              "color": "#E5ECF6",
              "width": 0.5
             },
             "pattern": {
              "fillmode": "overlay",
              "size": 10,
              "solidity": 0.2
             }
            },
            "type": "barpolar"
           }
          ],
          "carpet": [
           {
            "aaxis": {
             "endlinecolor": "#2a3f5f",
             "gridcolor": "white",
             "linecolor": "white",
             "minorgridcolor": "white",
             "startlinecolor": "#2a3f5f"
            },
            "baxis": {
             "endlinecolor": "#2a3f5f",
             "gridcolor": "white",
             "linecolor": "white",
             "minorgridcolor": "white",
             "startlinecolor": "#2a3f5f"
            },
            "type": "carpet"
           }
          ],
          "choropleth": [
           {
            "colorbar": {
             "outlinewidth": 0,
             "ticks": ""
            },
            "type": "choropleth"
           }
          ],
          "contour": [
           {
            "colorbar": {
             "outlinewidth": 0,
             "ticks": ""
            },
            "colorscale": [
             [
              0,
              "#0d0887"
             ],
             [
              0.1111111111111111,
              "#46039f"
             ],
             [
              0.2222222222222222,
              "#7201a8"
             ],
             [
              0.3333333333333333,
              "#9c179e"
             ],
             [
              0.4444444444444444,
              "#bd3786"
             ],
             [
              0.5555555555555556,
              "#d8576b"
             ],
             [
              0.6666666666666666,
              "#ed7953"
             ],
             [
              0.7777777777777778,
              "#fb9f3a"
             ],
             [
              0.8888888888888888,
              "#fdca26"
             ],
             [
              1,
              "#f0f921"
             ]
            ],
            "type": "contour"
           }
          ],
          "contourcarpet": [
           {
            "colorbar": {
             "outlinewidth": 0,
             "ticks": ""
            },
            "type": "contourcarpet"
           }
          ],
          "heatmap": [
           {
            "colorbar": {
             "outlinewidth": 0,
             "ticks": ""
            },
            "colorscale": [
             [
              0,
              "#0d0887"
             ],
             [
              0.1111111111111111,
              "#46039f"
             ],
             [
              0.2222222222222222,
              "#7201a8"
             ],
             [
              0.3333333333333333,
              "#9c179e"
             ],
             [
              0.4444444444444444,
              "#bd3786"
             ],
             [
              0.5555555555555556,
              "#d8576b"
             ],
             [
              0.6666666666666666,
              "#ed7953"
             ],
             [
              0.7777777777777778,
              "#fb9f3a"
             ],
             [
              0.8888888888888888,
              "#fdca26"
             ],
             [
              1,
              "#f0f921"
             ]
            ],
            "type": "heatmap"
           }
          ],
          "heatmapgl": [
           {
            "colorbar": {
             "outlinewidth": 0,
             "ticks": ""
            },
            "colorscale": [
             [
              0,
              "#0d0887"
             ],
             [
              0.1111111111111111,
              "#46039f"
             ],
             [
              0.2222222222222222,
              "#7201a8"
             ],
             [
              0.3333333333333333,
              "#9c179e"
             ],
             [
              0.4444444444444444,
              "#bd3786"
             ],
             [
              0.5555555555555556,
              "#d8576b"
             ],
             [
              0.6666666666666666,
              "#ed7953"
             ],
             [
              0.7777777777777778,
              "#fb9f3a"
             ],
             [
              0.8888888888888888,
              "#fdca26"
             ],
             [
              1,
              "#f0f921"
             ]
            ],
            "type": "heatmapgl"
           }
          ],
          "histogram": [
           {
            "marker": {
             "pattern": {
              "fillmode": "overlay",
              "size": 10,
              "solidity": 0.2
             }
            },
            "type": "histogram"
           }
          ],
          "histogram2d": [
           {
            "colorbar": {
             "outlinewidth": 0,
             "ticks": ""
            },
            "colorscale": [
             [
              0,
              "#0d0887"
             ],
             [
              0.1111111111111111,
              "#46039f"
             ],
             [
              0.2222222222222222,
              "#7201a8"
             ],
             [
              0.3333333333333333,
              "#9c179e"
             ],
             [
              0.4444444444444444,
              "#bd3786"
             ],
             [
              0.5555555555555556,
              "#d8576b"
             ],
             [
              0.6666666666666666,
              "#ed7953"
             ],
             [
              0.7777777777777778,
              "#fb9f3a"
             ],
             [
              0.8888888888888888,
              "#fdca26"
             ],
             [
              1,
              "#f0f921"
             ]
            ],
            "type": "histogram2d"
           }
          ],
          "histogram2dcontour": [
           {
            "colorbar": {
             "outlinewidth": 0,
             "ticks": ""
            },
            "colorscale": [
             [
              0,
              "#0d0887"
             ],
             [
              0.1111111111111111,
              "#46039f"
             ],
             [
              0.2222222222222222,
              "#7201a8"
             ],
             [
              0.3333333333333333,
              "#9c179e"
             ],
             [
              0.4444444444444444,
              "#bd3786"
             ],
             [
              0.5555555555555556,
              "#d8576b"
             ],
             [
              0.6666666666666666,
              "#ed7953"
             ],
             [
              0.7777777777777778,
              "#fb9f3a"
             ],
             [
              0.8888888888888888,
              "#fdca26"
             ],
             [
              1,
              "#f0f921"
             ]
            ],
            "type": "histogram2dcontour"
           }
          ],
          "mesh3d": [
           {
            "colorbar": {
             "outlinewidth": 0,
             "ticks": ""
            },
            "type": "mesh3d"
           }
          ],
          "parcoords": [
           {
            "line": {
             "colorbar": {
              "outlinewidth": 0,
              "ticks": ""
             }
            },
            "type": "parcoords"
           }
          ],
          "pie": [
           {
            "automargin": true,
            "type": "pie"
           }
          ],
          "scatter": [
           {
            "fillpattern": {
             "fillmode": "overlay",
             "size": 10,
             "solidity": 0.2
            },
            "type": "scatter"
           }
          ],
          "scatter3d": [
           {
            "line": {
             "colorbar": {
              "outlinewidth": 0,
              "ticks": ""
             }
            },
            "marker": {
             "colorbar": {
              "outlinewidth": 0,
              "ticks": ""
             }
            },
            "type": "scatter3d"
           }
          ],
          "scattercarpet": [
           {
            "marker": {
             "colorbar": {
              "outlinewidth": 0,
              "ticks": ""
             }
            },
            "type": "scattercarpet"
           }
          ],
          "scattergeo": [
           {
            "marker": {
             "colorbar": {
              "outlinewidth": 0,
              "ticks": ""
             }
            },
            "type": "scattergeo"
           }
          ],
          "scattergl": [
           {
            "marker": {
             "colorbar": {
              "outlinewidth": 0,
              "ticks": ""
             }
            },
            "type": "scattergl"
           }
          ],
          "scattermapbox": [
           {
            "marker": {
             "colorbar": {
              "outlinewidth": 0,
              "ticks": ""
             }
            },
            "type": "scattermapbox"
           }
          ],
          "scatterpolar": [
           {
            "marker": {
             "colorbar": {
              "outlinewidth": 0,
              "ticks": ""
             }
            },
            "type": "scatterpolar"
           }
          ],
          "scatterpolargl": [
           {
            "marker": {
             "colorbar": {
              "outlinewidth": 0,
              "ticks": ""
             }
            },
            "type": "scatterpolargl"
           }
          ],
          "scatterternary": [
           {
            "marker": {
             "colorbar": {
              "outlinewidth": 0,
              "ticks": ""
             }
            },
            "type": "scatterternary"
           }
          ],
          "surface": [
           {
            "colorbar": {
             "outlinewidth": 0,
             "ticks": ""
            },
            "colorscale": [
             [
              0,
              "#0d0887"
             ],
             [
              0.1111111111111111,
              "#46039f"
             ],
             [
              0.2222222222222222,
              "#7201a8"
             ],
             [
              0.3333333333333333,
              "#9c179e"
             ],
             [
              0.4444444444444444,
              "#bd3786"
             ],
             [
              0.5555555555555556,
              "#d8576b"
             ],
             [
              0.6666666666666666,
              "#ed7953"
             ],
             [
              0.7777777777777778,
              "#fb9f3a"
             ],
             [
              0.8888888888888888,
              "#fdca26"
             ],
             [
              1,
              "#f0f921"
             ]
            ],
            "type": "surface"
           }
          ],
          "table": [
           {
            "cells": {
             "fill": {
              "color": "#EBF0F8"
             },
             "line": {
              "color": "white"
             }
            },
            "header": {
             "fill": {
              "color": "#C8D4E3"
             },
             "line": {
              "color": "white"
             }
            },
            "type": "table"
           }
          ]
         },
         "layout": {
          "annotationdefaults": {
           "arrowcolor": "#2a3f5f",
           "arrowhead": 0,
           "arrowwidth": 1
          },
          "autotypenumbers": "strict",
          "coloraxis": {
           "colorbar": {
            "outlinewidth": 0,
            "ticks": ""
           }
          },
          "colorscale": {
           "diverging": [
            [
             0,
             "#8e0152"
            ],
            [
             0.1,
             "#c51b7d"
            ],
            [
             0.2,
             "#de77ae"
            ],
            [
             0.3,
             "#f1b6da"
            ],
            [
             0.4,
             "#fde0ef"
            ],
            [
             0.5,
             "#f7f7f7"
            ],
            [
             0.6,
             "#e6f5d0"
            ],
            [
             0.7,
             "#b8e186"
            ],
            [
             0.8,
             "#7fbc41"
            ],
            [
             0.9,
             "#4d9221"
            ],
            [
             1,
             "#276419"
            ]
           ],
           "sequential": [
            [
             0,
             "#0d0887"
            ],
            [
             0.1111111111111111,
             "#46039f"
            ],
            [
             0.2222222222222222,
             "#7201a8"
            ],
            [
             0.3333333333333333,
             "#9c179e"
            ],
            [
             0.4444444444444444,
             "#bd3786"
            ],
            [
             0.5555555555555556,
             "#d8576b"
            ],
            [
             0.6666666666666666,
             "#ed7953"
            ],
            [
             0.7777777777777778,
             "#fb9f3a"
            ],
            [
             0.8888888888888888,
             "#fdca26"
            ],
            [
             1,
             "#f0f921"
            ]
           ],
           "sequentialminus": [
            [
             0,
             "#0d0887"
            ],
            [
             0.1111111111111111,
             "#46039f"
            ],
            [
             0.2222222222222222,
             "#7201a8"
            ],
            [
             0.3333333333333333,
             "#9c179e"
            ],
            [
             0.4444444444444444,
             "#bd3786"
            ],
            [
             0.5555555555555556,
             "#d8576b"
            ],
            [
             0.6666666666666666,
             "#ed7953"
            ],
            [
             0.7777777777777778,
             "#fb9f3a"
            ],
            [
             0.8888888888888888,
             "#fdca26"
            ],
            [
             1,
             "#f0f921"
            ]
           ]
          },
          "colorway": [
           "#636efa",
           "#EF553B",
           "#00cc96",
           "#ab63fa",
           "#FFA15A",
           "#19d3f3",
           "#FF6692",
           "#B6E880",
           "#FF97FF",
           "#FECB52"
          ],
          "font": {
           "color": "#2a3f5f"
          },
          "geo": {
           "bgcolor": "white",
           "lakecolor": "white",
           "landcolor": "#E5ECF6",
           "showlakes": true,
           "showland": true,
           "subunitcolor": "white"
          },
          "hoverlabel": {
           "align": "left"
          },
          "hovermode": "closest",
          "mapbox": {
           "style": "light"
          },
          "paper_bgcolor": "white",
          "plot_bgcolor": "#E5ECF6",
          "polar": {
           "angularaxis": {
            "gridcolor": "white",
            "linecolor": "white",
            "ticks": ""
           },
           "bgcolor": "#E5ECF6",
           "radialaxis": {
            "gridcolor": "white",
            "linecolor": "white",
            "ticks": ""
           }
          },
          "scene": {
           "xaxis": {
            "backgroundcolor": "#E5ECF6",
            "gridcolor": "white",
            "gridwidth": 2,
            "linecolor": "white",
            "showbackground": true,
            "ticks": "",
            "zerolinecolor": "white"
           },
           "yaxis": {
            "backgroundcolor": "#E5ECF6",
            "gridcolor": "white",
            "gridwidth": 2,
            "linecolor": "white",
            "showbackground": true,
            "ticks": "",
            "zerolinecolor": "white"
           },
           "zaxis": {
            "backgroundcolor": "#E5ECF6",
            "gridcolor": "white",
            "gridwidth": 2,
            "linecolor": "white",
            "showbackground": true,
            "ticks": "",
            "zerolinecolor": "white"
           }
          },
          "shapedefaults": {
           "line": {
            "color": "#2a3f5f"
           }
          },
          "ternary": {
           "aaxis": {
            "gridcolor": "white",
            "linecolor": "white",
            "ticks": ""
           },
           "baxis": {
            "gridcolor": "white",
            "linecolor": "white",
            "ticks": ""
           },
           "bgcolor": "#E5ECF6",
           "caxis": {
            "gridcolor": "white",
            "linecolor": "white",
            "ticks": ""
           }
          },
          "title": {
           "x": 0.05
          },
          "xaxis": {
           "automargin": true,
           "gridcolor": "white",
           "linecolor": "white",
           "ticks": "",
           "title": {
            "standoff": 15
           },
           "zerolinecolor": "white",
           "zerolinewidth": 2
          },
          "yaxis": {
           "automargin": true,
           "gridcolor": "white",
           "linecolor": "white",
           "ticks": "",
           "title": {
            "standoff": 15
           },
           "zerolinecolor": "white",
           "zerolinewidth": 2
          }
         }
        },
        "title": {
         "text": "Exchange - [stmp]"
        },
        "width": 800,
        "yaxis": {
         "title": {
          "text": "Price"
         }
        }
       }
      }
     },
     "metadata": {},
     "output_type": "display_data"
    },
    {
     "data": {
      "text/plain": [
       "{'df_stmp':                             price  price_open  price_high  price_low  \\\n",
       " timestamp                                                              \n",
       " 2021-02-24 00:00:00  9.715262e+07    48927.33    49098.88   47000.00   \n",
       " 2021-02-24 01:00:00  1.391863e+08    48476.94    50232.00   48425.20   \n",
       " 2021-02-24 02:00:00  1.315702e+08    50224.22    50820.16   49815.26   \n",
       " 2021-02-24 03:00:00  9.086976e+07    50190.12    51000.00   50090.00   \n",
       " 2021-02-24 04:00:00  1.130032e+08    50937.53    51459.51   50342.26   \n",
       " 2021-02-24 05:00:00  1.116314e+08    50665.34    51039.00   50000.00   \n",
       " 2021-02-24 06:00:00  1.136792e+08    50264.18    50710.31   49443.41   \n",
       " 2021-02-24 07:00:00  8.464131e+07    50095.36    50350.29   49531.41   \n",
       " 2021-02-24 08:00:00  1.439128e+08    50100.00    51089.72   49812.00   \n",
       " 2021-02-24 09:00:00  1.383739e+08    50659.75    51443.47   50387.22   \n",
       " 2021-02-24 10:00:00  1.045221e+08    50923.48    51051.00   50096.98   \n",
       " 2021-02-24 11:00:00  8.120434e+07    50127.96    50920.97   50127.39   \n",
       " 2021-02-24 12:00:00  1.179944e+08    50408.26    51310.99   50364.29   \n",
       " 2021-02-24 13:00:00  1.804732e+08    50745.92    51100.00   49050.00   \n",
       " 2021-02-24 14:00:00  1.531741e+08    49519.10    49787.02   48729.36   \n",
       " 2021-02-24 15:00:00  1.270587e+08    49430.41    49884.52   48488.51   \n",
       " 2021-02-24 16:00:00  9.085643e+07    49847.54    50155.00   49328.53   \n",
       " 2021-02-24 17:00:00  6.489793e+07    49368.78    50099.91   49354.01   \n",
       " 2021-02-24 18:00:00  7.471488e+07    50061.08    50091.97   49545.55   \n",
       " 2021-02-24 19:00:00  1.029789e+08    49631.06    49748.40   48850.23   \n",
       " 2021-02-24 20:00:00  9.933873e+07    48971.58    49293.55   48615.55   \n",
       " 2021-02-24 21:00:00  9.645663e+07    49152.28    49191.28   48130.00   \n",
       " 2021-02-24 22:00:00  9.205659e+07    48768.54    48995.20   48050.00   \n",
       " 2021-02-24 23:00:00  1.045775e+08    48831.81    49789.41   48798.61   \n",
       " \n",
       "                      price_close      amount  weighted_volume     stmp_vwap  \\\n",
       " timestamp                                                                     \n",
       " 2021-02-24 00:00:00     48504.00  314.353567     1.507145e+07  47944.262770   \n",
       " 2021-02-24 01:00:00     50206.74  605.729363     2.981418e+07  49220.299732   \n",
       " 2021-02-24 02:00:00     50202.83  478.681051     2.406979e+07  50283.555918   \n",
       " 2021-02-24 03:00:00     50939.95  347.237131     1.752597e+07  50472.637817   \n",
       " 2021-02-24 04:00:00     50650.54  395.447558     2.016306e+07  50987.941708   \n",
       " 2021-02-24 05:00:00     50245.64  372.359244     1.878185e+07  50440.124897   \n",
       " 2021-02-24 06:00:00     50109.14  366.649832     1.831041e+07  49939.781897   \n",
       " 2021-02-24 07:00:00     50060.64  201.413967     1.006551e+07  49974.235438   \n",
       " 2021-02-24 08:00:00     50700.14  558.408897     2.825236e+07  50594.394449   \n",
       " 2021-02-24 09:00:00     50889.26  483.821125     2.462781e+07  50902.708746   \n",
       " 2021-02-24 10:00:00     50115.03  387.618594     1.960978e+07  50590.393464   \n",
       " 2021-02-24 11:00:00     50381.65  242.733301     1.225326e+07  50480.338478   \n",
       " 2021-02-24 12:00:00     50709.43  390.426946     1.989130e+07  50947.570599   \n",
       " 2021-02-24 13:00:00     49494.86  710.686344     3.545882e+07  49893.768540   \n",
       " 2021-02-24 14:00:00     49432.76  580.648674     2.858893e+07  49236.200293   \n",
       " 2021-02-24 15:00:00     49847.54  339.081118     1.669017e+07  49221.752536   \n",
       " 2021-02-24 16:00:00     49371.52  245.389939     1.221004e+07  49757.699345   \n",
       " 2021-02-24 17:00:00     50086.38  132.070258     6.583313e+06  49847.050543   \n",
       " 2021-02-24 18:00:00     49618.40  183.938655     9.167149e+06  49838.075835   \n",
       " 2021-02-24 19:00:00     48991.68  264.356861     1.304261e+07  49337.141714   \n",
       " 2021-02-24 20:00:00     49178.11  291.507056     1.426283e+07  48927.907365   \n",
       " 2021-02-24 21:00:00     48786.95  311.154730     1.509405e+07  48509.784282   \n",
       " 2021-02-24 22:00:00     48843.17  225.762683     1.096769e+07  48580.633397   \n",
       " 2021-02-24 23:00:00     49754.00  343.381813     1.699896e+07  49504.553952   \n",
       " \n",
       "                      ecart_type  vwmp_lower  \n",
       " timestamp                                    \n",
       " 2021-02-24 00:00:00  573.972450    47625.91  \n",
       " 2021-02-24 01:00:00  435.335435    48915.44  \n",
       " 2021-02-24 02:00:00  174.271409    50319.47  \n",
       " 2021-02-24 03:00:00  207.251102    50898.12  \n",
       " 2021-02-24 04:00:00  237.480900    50975.37  \n",
       " 2021-02-24 05:00:00  233.720988    50215.15  \n",
       " 2021-02-24 06:00:00  283.474071    50476.72  \n",
       " 2021-02-24 07:00:00  185.894147    50171.00  \n",
       " 2021-02-24 08:00:00  225.239836    50493.97  \n",
       " 2021-02-24 09:00:00  235.974184    50582.27  \n",
       " 2021-02-24 10:00:00  223.420746    50918.19  \n",
       " 2021-02-24 11:00:00  174.347239    50556.91  \n",
       " 2021-02-24 12:00:00  199.919477    50525.81  \n",
       " 2021-02-24 13:00:00  551.146433    49440.35  \n",
       " 2021-02-24 14:00:00  233.052668    48757.03  \n",
       " 2021-02-24 15:00:00  366.790296    49463.39  \n",
       " 2021-02-24 16:00:00  167.602846    50064.47  \n",
       " 2021-02-24 17:00:00  151.519524    49812.89  \n",
       " 2021-02-24 18:00:00  139.522212    50014.64  \n",
       " 2021-02-24 19:00:00  234.319468    49084.18  \n",
       " 2021-02-24 20:00:00  172.723343    49113.52  \n",
       " 2021-02-24 21:00:00  268.550399    48320.00  \n",
       " 2021-02-24 22:00:00  238.287700    48821.53  \n",
       " 2021-02-24 23:00:00  197.909167    49493.89  ,\n",
       " 'df_lmax':                             price  price_open  price_high  price_low  \\\n",
       " timestamp                                                              \n",
       " 2021-02-24 00:00:00  8.253860e+07   48892.500    49080.50  46918.718   \n",
       " 2021-02-24 01:00:00  4.341050e+07   48495.000    50240.88  48438.000   \n",
       " 2021-02-24 02:00:00  6.642105e+07   50181.000    50569.50  49799.500   \n",
       " 2021-02-24 03:00:00  4.880539e+07   50171.000    50999.50  50073.750   \n",
       " 2021-02-24 04:00:00  5.739678e+07   50937.250    51409.00  50353.250   \n",
       " 2021-02-24 05:00:00  3.787348e+07   50761.600    51032.50  50028.500   \n",
       " 2021-02-24 06:00:00  6.268511e+07   50225.500    50691.00  49475.000   \n",
       " 2021-02-24 07:00:00  3.923857e+07   50099.750    50358.50  49566.000   \n",
       " 2021-02-24 08:00:00  6.621845e+07   50037.500    50901.50  49770.500   \n",
       " 2021-02-24 09:00:00  5.298115e+07   50679.500    51449.50  50389.000   \n",
       " 2021-02-24 10:00:00  3.329847e+07   50994.000    51068.90  50127.500   \n",
       " 2021-02-24 11:00:00  5.031991e+07   50160.500    50910.50  50152.630   \n",
       " 2021-02-24 12:00:00  8.675644e+07   50397.100    51297.50  50374.000   \n",
       " 2021-02-24 13:00:00  1.624446e+08   50788.000    51089.50  49045.000   \n",
       " 2021-02-24 14:00:00  6.788228e+07   49603.500    49793.75  48738.500   \n",
       " 2021-02-24 15:00:00  7.192511e+07   49441.500    49877.50  48458.000   \n",
       " 2021-02-24 16:00:00  5.549000e+07   49866.000    50143.50  49343.000   \n",
       " 2021-02-24 17:00:00  3.587669e+07   49401.000    50102.00  49355.500   \n",
       " 2021-02-24 18:00:00  5.079449e+07   50077.500    50097.50  49551.000   \n",
       " 2021-02-24 19:00:00  4.237089e+07   49628.001    49731.50  48855.500   \n",
       " 2021-02-24 20:00:00  4.064182e+07   48978.500    49270.50  48634.500   \n",
       " 2021-02-24 21:00:00  4.613833e+07   49171.500    49175.00  48148.000   \n",
       " 2021-02-24 22:00:00  3.439050e+07   48375.750    48995.50  48036.500   \n",
       " 2021-02-24 23:00:00  5.699650e+07   48843.000    49792.00  48780.000   \n",
       " \n",
       "                      price_close   amount  weighted_volume     lmax_vwap  \\\n",
       " timestamp                                                                  \n",
       " 2021-02-24 00:00:00     48504.00   695.04     3.327918e+07  47880.958914   \n",
       " 2021-02-24 01:00:00     50160.50   368.06     1.812726e+07  49250.834067   \n",
       " 2021-02-24 02:00:00     50191.50   418.18     2.100428e+07  50227.852912   \n",
       " 2021-02-24 03:00:00     50929.00   311.69     1.572740e+07  50458.462794   \n",
       " 2021-02-24 04:00:00     50623.00   383.13     1.948279e+07  50851.638004   \n",
       " 2021-02-24 05:00:00     50236.50   250.29     1.263313e+07  50473.959563   \n",
       " 2021-02-24 06:00:00     50096.00   490.79     2.456983e+07  50061.808328   \n",
       " 2021-02-24 07:00:00     50078.00   210.74     1.053622e+07  49996.280196   \n",
       " 2021-02-24 08:00:00     50674.50   336.10     1.699082e+07  50552.860398   \n",
       " 2021-02-24 09:00:00     50896.50   302.15     1.538975e+07  50934.152165   \n",
       " 2021-02-24 10:00:00     50136.50   285.36     1.441489e+07  50514.769692   \n",
       " 2021-02-24 11:00:00     50388.50   426.13     2.152199e+07  50505.688077   \n",
       " 2021-02-24 12:00:00     50714.50   758.09     3.860091e+07  50918.641498   \n",
       " 2021-02-24 13:00:00     49468.00  1429.77     7.124120e+07  49827.035500   \n",
       " 2021-02-24 14:00:00     49443.50   544.80     2.684470e+07  49274.408306   \n",
       " 2021-02-24 15:00:00     49845.81   429.48     2.118406e+07  49324.913761   \n",
       " 2021-02-24 16:00:00     49362.50   362.45     1.803389e+07  49755.518204   \n",
       " 2021-02-24 17:00:00     50076.00   213.36     1.063495e+07  49845.112441   \n",
       " 2021-02-24 18:00:00     49611.00   267.80     1.333552e+07  49796.547791   \n",
       " 2021-02-24 19:00:00     49001.00   329.03     1.622680e+07  49317.071732   \n",
       " 2021-02-24 20:00:00     49179.50   271.42     1.328672e+07  48952.608092   \n",
       " 2021-02-24 21:00:00     48802.50   396.30     1.922787e+07  48518.462038   \n",
       " 2021-02-24 22:00:00     48878.50   108.22     5.264419e+06  48645.530586   \n",
       " 2021-02-24 23:00:00     49767.00   410.17     2.027203e+07  49423.471087   \n",
       " \n",
       "                      ecart_type  vwmp_lower  \n",
       " timestamp                                    \n",
       " 2021-02-24 00:00:00  587.129331     47299.0  \n",
       " 2021-02-24 01:00:00  504.325505     49275.0  \n",
       " 2021-02-24 02:00:00  169.862390     50341.0  \n",
       " 2021-02-24 03:00:00  215.886333     50365.5  \n",
       " 2021-02-24 04:00:00  279.322327     51249.0  \n",
       " 2021-02-24 05:00:00  292.091265     50216.0  \n",
       " 2021-02-24 06:00:00  327.855456     49878.5  \n",
       " 2021-02-24 07:00:00  180.214776     49785.0  \n",
       " 2021-02-24 08:00:00  217.853440     50870.5  \n",
       " 2021-02-24 09:00:00  256.286427     50923.5  \n",
       " 2021-02-24 10:00:00  210.857106     50589.0  \n",
       " 2021-02-24 11:00:00  178.826366     50565.5  \n",
       " 2021-02-24 12:00:00  190.460683     50739.5  \n",
       " 2021-02-24 13:00:00  486.658127     49144.5  \n",
       " 2021-02-24 14:00:00  232.829746     49552.0  \n",
       " 2021-02-24 15:00:00  362.937210     49787.0  \n",
       " 2021-02-24 16:00:00  164.055112     49773.5  \n",
       " 2021-02-24 17:00:00  124.159115     49850.0  \n",
       " 2021-02-24 18:00:00  137.869020     49928.5  \n",
       " 2021-02-24 19:00:00  237.090779     49423.5  \n",
       " 2021-02-24 20:00:00  175.589773     48950.5  \n",
       " 2021-02-24 21:00:00  268.805608     49126.0  \n",
       " 2021-02-24 22:00:00  214.845573     48900.0  \n",
       " 2021-02-24 23:00:00  193.488308     49277.5  ,\n",
       " 'df_gmni':                             price  price_open  price_high  price_low  \\\n",
       " timestamp                                                              \n",
       " 2021-02-24 00:00:00  1.354593e+08    48923.48    49130.50   47000.01   \n",
       " 2021-02-24 01:00:00  1.209084e+08    48510.28    50331.36   48442.89   \n",
       " 2021-02-24 02:00:00  1.232286e+08    50257.72    50613.36   49833.00   \n",
       " 2021-02-24 03:00:00  8.784448e+07    50200.00    51000.00   50054.16   \n",
       " 2021-02-24 04:00:00  1.113082e+08    50943.71    51397.44   50350.01   \n",
       " 2021-02-24 05:00:00  1.044356e+08    50713.91    51015.63   50002.51   \n",
       " 2021-02-24 06:00:00  1.262631e+08    50253.37    50703.10   49450.82   \n",
       " 2021-02-24 07:00:00  4.684476e+07    50125.63    50363.01   49526.44   \n",
       " 2021-02-24 08:00:00  3.962935e+07    50041.59    50904.42   49845.77   \n",
       " 2021-02-24 09:00:00  7.151741e+07    50689.09    51442.01   50351.27   \n",
       " 2021-02-24 10:00:00  7.477985e+07    50915.34    51044.54   50121.89   \n",
       " 2021-02-24 11:00:00  5.044286e+07    50152.87    50957.67   50121.89   \n",
       " 2021-02-24 12:00:00  8.275055e+07    50409.14    51364.74   50377.90   \n",
       " 2021-02-24 13:00:00  1.961289e+08    50784.52    51114.68   48940.12   \n",
       " 2021-02-24 14:00:00  1.583713e+08    49480.62    49792.18   48730.24   \n",
       " 2021-02-24 15:00:00  1.428503e+08    49435.86    49890.38   48481.21   \n",
       " 2021-02-24 16:00:00  8.609132e+07    49898.58    50138.01   49306.35   \n",
       " 2021-02-24 17:00:00  1.138580e+08    49391.94    50126.60   49385.52   \n",
       " 2021-02-24 18:00:00  9.349951e+07    50122.58    50128.00   49552.45   \n",
       " 2021-02-24 19:00:00  1.097491e+08    49612.00    49732.31   48900.00   \n",
       " 2021-02-24 20:00:00  1.202015e+08    48971.40    49255.71   48626.66   \n",
       " 2021-02-24 21:00:00  1.075627e+08    49106.84    49171.50   48139.00   \n",
       " 2021-02-24 22:00:00  7.921803e+07    48790.49    49004.72   48113.83   \n",
       " 2021-02-24 23:00:00  6.686886e+07    48852.32    49809.31   48786.49   \n",
       " \n",
       "                      price_close      amount  weighted_volume     gmni_vwap  \\\n",
       " timestamp                                                                     \n",
       " 2021-02-24 00:00:00     48500.00  183.679844     8.813273e+06  47981.711507   \n",
       " 2021-02-24 01:00:00     50227.97  212.921868     1.053071e+07  49458.079101   \n",
       " 2021-02-24 02:00:00     50244.25  142.218577     7.149080e+06  50268.259968   \n",
       " 2021-02-24 03:00:00     50965.74  110.119216     5.560404e+06  50494.398639   \n",
       " 2021-02-24 04:00:00     50645.41  127.849144     6.511990e+06  50934.953286   \n",
       " 2021-02-24 05:00:00     50212.60   99.555453     5.030398e+06  50528.602570   \n",
       " 2021-02-24 06:00:00     50140.49  110.873865     5.536502e+06  49935.135891   \n",
       " 2021-02-24 07:00:00     50095.00   46.290102     2.316119e+06  50034.858944   \n",
       " 2021-02-24 08:00:00     50684.06   51.373391     2.593169e+06  50476.882959   \n",
       " 2021-02-24 09:00:00     50901.73   56.679651     2.885087e+06  50901.639070   \n",
       " 2021-02-24 10:00:00     50121.89   65.251568     3.294834e+06  50494.324252   \n",
       " 2021-02-24 11:00:00     50360.62   34.014540     1.715927e+06  50446.875139   \n",
       " 2021-02-24 12:00:00     50742.99   89.792281     4.573382e+06  50932.913060   \n",
       " 2021-02-24 13:00:00     49470.10  355.624124     1.769238e+07  49750.219364   \n",
       " 2021-02-24 14:00:00     49424.75  229.382594     1.130444e+07  49282.042100   \n",
       " 2021-02-24 15:00:00     49869.66  141.776741     6.982435e+06  49249.513262   \n",
       " 2021-02-24 16:00:00     49393.64   80.682517     4.011542e+06  49720.094217   \n",
       " 2021-02-24 17:00:00     50095.84  186.624727     9.302062e+06  49843.673337   \n",
       " 2021-02-24 18:00:00     49612.00  160.799269     8.007249e+06  49796.550879   \n",
       " 2021-02-24 19:00:00     48974.48  169.216398     8.326246e+06  49204.725466   \n",
       " 2021-02-24 20:00:00     49179.75  179.941892     8.808693e+06  48952.988324   \n",
       " 2021-02-24 21:00:00     48811.21  135.616167     6.581005e+06  48526.697204   \n",
       " 2021-02-24 22:00:00     48894.23  107.569945     5.233339e+06  48650.565402   \n",
       " 2021-02-24 23:00:00     49766.06   57.334994     2.835645e+06  49457.500518   \n",
       " \n",
       "                      ecart_type  vwmp_lower  \n",
       " timestamp                                    \n",
       " 2021-02-24 00:00:00  562.215016    48315.26  \n",
       " 2021-02-24 01:00:00  486.401726    49101.00  \n",
       " 2021-02-24 02:00:00  181.445978    50365.39  \n",
       " 2021-02-24 03:00:00  210.862676    50656.81  \n",
       " 2021-02-24 04:00:00  232.082345    51134.86  \n",
       " 2021-02-24 05:00:00  265.580317    50954.35  \n",
       " 2021-02-24 06:00:00  281.933566    50092.00  \n",
       " 2021-02-24 07:00:00  179.694559    50304.82  \n",
       " 2021-02-24 08:00:00  231.856851    50665.68  \n",
       " 2021-02-24 09:00:00  264.898817    51358.51  \n",
       " 2021-02-24 10:00:00  187.267682    50514.91  \n",
       " 2021-02-24 11:00:00  183.012904    50800.00  \n",
       " 2021-02-24 12:00:00  227.951549    51042.65  \n",
       " 2021-02-24 13:00:00  437.562421    50928.59  \n",
       " 2021-02-24 14:00:00  242.135754    48923.27  \n",
       " 2021-02-24 15:00:00  354.110307    49009.85  \n",
       " 2021-02-24 16:00:00  179.099458    49702.40  \n",
       " 2021-02-24 17:00:00  122.205550    49935.46  \n",
       " 2021-02-24 18:00:00  136.537100    49622.28  \n",
       " 2021-02-24 19:00:00  236.443626    49448.60  \n",
       " 2021-02-24 20:00:00  162.272709    49162.11  \n",
       " 2021-02-24 21:00:00  262.387527    48715.43  \n",
       " 2021-02-24 22:00:00  237.714833    48821.93  \n",
       " 2021-02-24 23:00:00  198.823722    49249.67  ,\n",
       " 'df_itbi':                            price  price_open  price_high  price_low  \\\n",
       " timestamp                                                             \n",
       " 2021-02-24 00:00:00  80099732.00    48919.50    49100.00   47022.00   \n",
       " 2021-02-24 01:00:00  79383501.00    48485.25    50208.25   48447.75   \n",
       " 2021-02-24 02:00:00  79876293.75    50193.25    50560.25   49821.50   \n",
       " 2021-02-24 03:00:00  64490506.25    50166.25    50991.25   50073.00   \n",
       " 2021-02-24 04:00:00  66697246.00    50913.25    51391.50   50353.50   \n",
       " 2021-02-24 05:00:00  52968780.50    50656.50    51046.50   50016.00   \n",
       " 2021-02-24 06:00:00  46318444.75    50248.25    50687.75   49500.00   \n",
       " 2021-02-24 07:00:00  33130450.50    50104.75    50327.75   49555.25   \n",
       " 2021-02-24 08:00:00  40332965.00    50109.50    50910.00   49842.00   \n",
       " 2021-02-24 09:00:00  33063082.75    50680.25    51397.00   50420.00   \n",
       " 2021-02-24 10:00:00  38126532.25    50940.00    51041.75   50127.25   \n",
       " 2021-02-24 11:00:00  43109062.25    50180.00    50928.00   50160.00   \n",
       " 2021-02-24 12:00:00  59382856.50    50402.25    51345.25   50400.25   \n",
       " 2021-02-24 13:00:00  87640606.25    50762.75    51095.25   49082.00   \n",
       " 2021-02-24 14:00:00  83072162.75    49540.25    49811.25   48777.00   \n",
       " 2021-02-24 15:00:00  80169119.25    49433.25    49879.50   48495.75   \n",
       " 2021-02-24 16:00:00  80594291.50    49879.50    50169.75   49380.00   \n",
       " 2021-02-24 17:00:00  63271933.75    49425.75    50105.50   49391.50   \n",
       " 2021-02-24 18:00:00  57169111.75    50095.75    50095.75   49510.00   \n",
       " 2021-02-24 19:00:00  71565537.00    49624.25    49742.25   48893.00   \n",
       " 2021-02-24 20:00:00  64847779.75    48973.00    49260.75   48642.00   \n",
       " 2021-02-24 21:00:00  73660223.00    49131.50    49192.75   48150.25   \n",
       " 2021-02-24 22:00:00  61427600.75    48765.00    48975.00   48100.25   \n",
       " 2021-02-24 23:00:00  59301983.00    48775.00    49772.50   48775.00   \n",
       " \n",
       "                      price_close     amount  weighted_volume     itbi_vwap  \\\n",
       " timestamp                                                                    \n",
       " 2021-02-24 00:00:00     48485.25  27.300530     1.304208e+06  47772.255562   \n",
       " 2021-02-24 01:00:00     50193.25  60.358148     2.988314e+06  49509.699420   \n",
       " 2021-02-24 02:00:00     50215.50  39.222771     1.971348e+06  50260.294897   \n",
       " 2021-02-24 03:00:00     50913.25  19.713792     9.962129e+05  50533.802903   \n",
       " 2021-02-24 04:00:00     50650.50  37.393778     1.907821e+06  51019.753640   \n",
       " 2021-02-24 05:00:00     50234.50  23.056279     1.162412e+06  50416.281591   \n",
       " 2021-02-24 06:00:00     50104.75  56.618418     2.825698e+06  49907.747367   \n",
       " 2021-02-24 07:00:00     50085.50   9.555388     4.772435e+05  49944.963422   \n",
       " 2021-02-24 08:00:00     50680.25   7.368713     3.728588e+05  50600.265267   \n",
       " 2021-02-24 09:00:00     50929.50   8.513097     4.342908e+05  51014.427564   \n",
       " 2021-02-24 10:00:00     50140.25   9.209834     4.659076e+05  50588.054390   \n",
       " 2021-02-24 11:00:00     50400.25  11.478761     5.796866e+05  50500.795390   \n",
       " 2021-02-24 12:00:00     50734.00  17.934445     9.138688e+05  50956.067366   \n",
       " 2021-02-24 13:00:00     49506.75  83.831004     4.173948e+06  49790.028432   \n",
       " 2021-02-24 14:00:00     49427.25  20.600055     1.014760e+06  49260.066525   \n",
       " 2021-02-24 15:00:00     49862.50  23.165315     1.136559e+06  49062.979123   \n",
       " 2021-02-24 16:00:00     49385.75  29.234741     1.454407e+06  49749.262596   \n",
       " 2021-02-24 17:00:00     50096.00  16.932506     8.435075e+05  49815.871953   \n",
       " 2021-02-24 18:00:00     49612.50  14.025588     6.983589e+05  49791.772547   \n",
       " 2021-02-24 19:00:00     48990.50  26.221977     1.295663e+06  49411.327848   \n",
       " 2021-02-24 20:00:00     49167.00  14.080493     6.882594e+05  48880.346896   \n",
       " 2021-02-24 21:00:00     48798.50  24.639171     1.195651e+06  48526.432824   \n",
       " 2021-02-24 22:00:00     48833.25  11.660719     5.655129e+05  48497.261357   \n",
       " 2021-02-24 23:00:00     49753.50   9.362427     4.633755e+05  49493.097791   \n",
       " \n",
       "                      ecart_type  vwmp_lower  \n",
       " timestamp                                    \n",
       " 2021-02-24 00:00:00  517.573795    47233.50  \n",
       " 2021-02-24 01:00:00  438.582593    49700.00  \n",
       " 2021-02-24 02:00:00  169.185031    50325.00  \n",
       " 2021-02-24 03:00:00  207.162502    50937.25  \n",
       " 2021-02-24 04:00:00  228.214970    50754.50  \n",
       " 2021-02-24 05:00:00  256.460160    50498.75  \n",
       " 2021-02-24 06:00:00  311.513637    50047.00  \n",
       " 2021-02-24 07:00:00  187.596504    49870.50  \n",
       " 2021-02-24 08:00:00  216.745057    50461.75  \n",
       " 2021-02-24 09:00:00  250.041481    50919.75  \n",
       " 2021-02-24 10:00:00  206.412022    50600.00  \n",
       " 2021-02-24 11:00:00  173.521504    50581.25  \n",
       " 2021-02-24 12:00:00  230.699735    51082.25  \n",
       " 2021-02-24 13:00:00  479.246455    49901.50  \n",
       " 2021-02-24 14:00:00  221.101681    49561.50  \n",
       " 2021-02-24 15:00:00  347.962364    48610.00  \n",
       " 2021-02-24 16:00:00  157.071845    49761.25  \n",
       " 2021-02-24 17:00:00  130.126987    49734.25  \n",
       " 2021-02-24 18:00:00  135.743178    49788.25  \n",
       " 2021-02-24 19:00:00  241.339107    49333.00  \n",
       " 2021-02-24 20:00:00  161.416511    48940.25  \n",
       " 2021-02-24 21:00:00  245.315882    48577.00  \n",
       " 2021-02-24 22:00:00  227.275051    48759.50  \n",
       " 2021-02-24 23:00:00  205.176906    49733.00  ,\n",
       " 'df_okcn':                            price  price_open  price_high  price_low  \\\n",
       " timestamp                                                             \n",
       " 2021-02-24 00:00:00  31379183.45    48906.05    49078.28   47012.76   \n",
       " 2021-02-24 01:00:00  25827510.49    48516.41    50201.53   48476.68   \n",
       " 2021-02-24 02:00:00  33456888.78    50240.11    50573.85   49853.89   \n",
       " 2021-02-24 03:00:00  17698109.07    50186.42    50977.14   50131.61   \n",
       " 2021-02-24 04:00:00  17687023.88    50962.95    51383.99   50365.76   \n",
       " 2021-02-24 05:00:00  17043141.83    50721.28    51044.41   50019.98   \n",
       " 2021-02-24 06:00:00  29516330.00    50498.53    50660.34   49496.23   \n",
       " 2021-02-24 07:00:00  16353409.97    50206.40    50345.18   49561.04   \n",
       " 2021-02-24 08:00:00  29816911.25    50119.82    50881.70   49814.39   \n",
       " 2021-02-24 09:00:00  27942152.70    50665.65    51432.06   50371.57   \n",
       " 2021-02-24 10:00:00  27047450.77    50905.82    51041.91   50124.23   \n",
       " 2021-02-24 11:00:00  34774024.26    50140.45    50924.23   50140.45   \n",
       " 2021-02-24 12:00:00  27597353.38    50406.27    51338.97   50378.29   \n",
       " 2021-02-24 13:00:00  60230602.25    50779.47    51105.22   49108.00   \n",
       " 2021-02-24 14:00:00  29457144.07    49532.60    49797.52   48797.43   \n",
       " 2021-02-24 15:00:00  28809383.76    49385.65    49881.16   48509.32   \n",
       " 2021-02-24 16:00:00  32565157.04    49887.05    50164.28   49355.08   \n",
       " 2021-02-24 17:00:00  18529576.96    49407.81    50096.73   49364.96   \n",
       " 2021-02-24 18:00:00  15982075.84    50118.14    50171.79   49569.80   \n",
       " 2021-02-24 19:00:00  20908340.25    49630.99    49719.18   48883.68   \n",
       " 2021-02-24 20:00:00  19821947.66    49006.93    49265.31   48614.98   \n",
       " 2021-02-24 21:00:00  21485394.60    49104.75    49193.77   48170.42   \n",
       " 2021-02-24 22:00:00  16570547.85    48737.81    48999.82   48082.02   \n",
       " 2021-02-24 23:00:00  20084768.15    48801.95    49786.94   48772.51   \n",
       " \n",
       "                      price_close   amount  weighted_volume     okcn_vwap  \\\n",
       " timestamp                                                                  \n",
       " 2021-02-24 00:00:00     48446.34  51.3223     2.461147e+06  47954.733900   \n",
       " 2021-02-24 01:00:00     50201.53  36.3858     1.798289e+06  49422.816196   \n",
       " 2021-02-24 02:00:00     50189.77  35.8433     1.800007e+06  50218.786802   \n",
       " 2021-02-24 03:00:00     50968.49  17.3574     8.754247e+05  50435.243773   \n",
       " 2021-02-24 04:00:00     50666.00  23.7744     1.213046e+06  51023.204299   \n",
       " 2021-02-24 05:00:00     50250.84  21.6283     1.090055e+06  50399.457611   \n",
       " 2021-02-24 06:00:00     50104.04  36.7812     1.836861e+06  49940.207735   \n",
       " 2021-02-24 07:00:00     50078.48  23.9740     1.199429e+06  50030.400520   \n",
       " 2021-02-24 08:00:00     50676.57  23.6483     1.193829e+06  50482.659430   \n",
       " 2021-02-24 09:00:00     50899.67  41.0543     2.093998e+06  51005.570586   \n",
       " 2021-02-24 10:00:00     50144.41  16.3405     8.262499e+05  50564.539463   \n",
       " 2021-02-24 11:00:00     50377.79  10.5269     5.322059e+05  50556.759305   \n",
       " 2021-02-24 12:00:00     50735.42  28.3984     1.446101e+06  50921.934715   \n",
       " 2021-02-24 13:00:00     49502.71  74.7573     3.734364e+06  49953.170583   \n",
       " 2021-02-24 14:00:00     49416.13  23.0423     1.137042e+06  49345.871820   \n",
       " 2021-02-24 15:00:00     49832.52  51.1874     2.522930e+06  49288.106394   \n",
       " 2021-02-24 16:00:00     49400.36  31.8848     1.588650e+06  49824.679690   \n",
       " 2021-02-24 17:00:00     50096.73  16.6329     8.286145e+05  49817.802710   \n",
       " 2021-02-24 18:00:00     49622.72  19.7276     9.823893e+05  49797.709996   \n",
       " 2021-02-24 19:00:00     49003.83  30.8046     1.519995e+06  49343.114456   \n",
       " 2021-02-24 20:00:00     49195.04  18.3167     8.947929e+05  48851.209268   \n",
       " 2021-02-24 21:00:00     48798.62  19.4888     9.442633e+05  48451.587572   \n",
       " 2021-02-24 22:00:00     48894.64  14.6678     7.120263e+05  48543.495588   \n",
       " 2021-02-24 23:00:00     49724.93  28.1934     1.397515e+06  49568.860668   \n",
       " \n",
       "                      ecart_type  vwmp_lower  \n",
       " timestamp                                    \n",
       " 2021-02-24 00:00:00  531.461956    47800.70  \n",
       " 2021-02-24 01:00:00  428.591714    48876.62  \n",
       " 2021-02-24 02:00:00  163.356263    50392.72  \n",
       " 2021-02-24 03:00:00  176.047201    50970.65  \n",
       " 2021-02-24 04:00:00  228.361744    50770.00  \n",
       " 2021-02-24 05:00:00  253.906315    50186.14  \n",
       " 2021-02-24 06:00:00  284.457110    49689.23  \n",
       " 2021-02-24 07:00:00  177.162023    49691.87  \n",
       " 2021-02-24 08:00:00  241.387579    50555.45  \n",
       " 2021-02-24 09:00:00  240.794411    51155.96  \n",
       " 2021-02-24 10:00:00  195.489115    50615.59  \n",
       " 2021-02-24 11:00:00  175.233604    50749.53  \n",
       " 2021-02-24 12:00:00  216.306307    51113.47  \n",
       " 2021-02-24 13:00:00  491.988119    50243.46  \n",
       " 2021-02-24 14:00:00  228.367577    49607.48  \n",
       " 2021-02-24 15:00:00  353.153116    48901.63  \n",
       " 2021-02-24 16:00:00  182.311874    49543.42  \n",
       " 2021-02-24 17:00:00  138.419184    49975.78  \n",
       " 2021-02-24 18:00:00  143.393928    49830.01  \n",
       " 2021-02-24 19:00:00  235.926621    49579.09  \n",
       " 2021-02-24 20:00:00  166.403179    48800.00  \n",
       " 2021-02-24 21:00:00  260.841601    48978.83  \n",
       " 2021-02-24 22:00:00  219.027099    48590.32  \n",
       " 2021-02-24 23:00:00  188.712317    49213.08  ,\n",
       " 'df_bfnx':                             price    price_open    price_high     price_low  \\\n",
       " timestamp                                                                     \n",
       " 2021-02-24 00:00:00  9.408366e+08  48882.000000  49087.000000  46902.000000   \n",
       " 2021-02-24 01:00:00  1.051711e+09  48454.000000  50229.000000  48412.000000   \n",
       " 2021-02-24 02:00:00  8.191794e+08  50184.000000  50580.345661  49827.000000   \n",
       " 2021-02-24 03:00:00  5.630021e+08  50161.000000  51001.000000  50042.000000   \n",
       " 2021-02-24 04:00:00  7.106819e+08  50901.000000  51354.461371  50328.000000   \n",
       " 2021-02-24 05:00:00  6.286978e+08  50611.000000  51064.836108  49941.000000   \n",
       " 2021-02-24 06:00:00  8.008864e+08  50167.000000  50639.000000  49210.000000   \n",
       " 2021-02-24 07:00:00  5.304740e+08  50035.000000  50320.627690  49472.000000   \n",
       " 2021-02-24 08:00:00  7.069846e+08  50051.000000  50944.000000  49792.000000   \n",
       " 2021-02-24 09:00:00  6.452408e+08  50628.000000  51339.000000  50293.000000   \n",
       " 2021-02-24 10:00:00  7.013654e+08  50809.000000  50955.000000  50050.000000   \n",
       " 2021-02-24 11:00:00  4.193321e+08  50057.000000  50833.000000  50057.000000   \n",
       " 2021-02-24 12:00:00  6.414179e+08  50339.000000  51200.000000  50326.000000   \n",
       " 2021-02-24 13:00:00  1.062669e+09  50715.000000  51062.000000  49055.000000   \n",
       " 2021-02-24 14:00:00  7.089646e+08  49498.238705  49752.000000  48750.000000   \n",
       " 2021-02-24 15:00:00  8.389838e+08  49410.000000  49840.000000  48350.000000   \n",
       " 2021-02-24 16:00:00  5.340338e+08  49833.037346  50100.000000  49298.688164   \n",
       " 2021-02-24 17:00:00  3.326000e+08  49313.406146  50081.000000  49313.000000   \n",
       " 2021-02-24 18:00:00  3.229696e+08  50081.000000  50089.000000  49555.000000   \n",
       " 2021-02-24 19:00:00  5.418336e+08  49609.000000  49724.000000  48804.000000   \n",
       " 2021-02-24 20:00:00  5.374470e+08  48997.000000  49272.000000  48569.000000   \n",
       " 2021-02-24 21:00:00  5.956884e+08  49133.000000  49171.938569  48155.000000   \n",
       " 2021-02-24 22:00:00  4.668574e+08  48749.119626  48964.000000  48050.000000   \n",
       " 2021-02-24 23:00:00  7.409359e+08  48840.000000  49747.000000  48778.000000   \n",
       " \n",
       "                       price_close      amount  weighted_volume     bfnx_vwap  \\\n",
       " timestamp                                                                      \n",
       " 2021-02-24 00:00:00  48485.000000  626.714239     2.994376e+07  47778.970482   \n",
       " 2021-02-24 01:00:00  50196.000000  899.689398     4.448208e+07  49441.592938   \n",
       " 2021-02-24 02:00:00  50173.000000  756.814445     3.802009e+07  50237.005036   \n",
       " 2021-02-24 03:00:00  50902.000000  503.342279     2.547337e+07  50608.443325   \n",
       " 2021-02-24 04:00:00  50607.000000  565.681941     2.878741e+07  50889.743300   \n",
       " 2021-02-24 05:00:00  50166.000000  502.864453     2.531628e+07  50344.152274   \n",
       " 2021-02-24 06:00:00  50035.000000  899.859603     4.473518e+07  49713.514206   \n",
       " 2021-02-24 07:00:00  50050.000000  267.211745     1.333364e+07  49899.138736   \n",
       " 2021-02-24 08:00:00  50600.166805  739.579049     3.744468e+07  50629.718533   \n",
       " 2021-02-24 09:00:00  50809.000000  736.825144     3.749514e+07  50887.439443   \n",
       " 2021-02-24 10:00:00  50057.000000  624.344685     3.151716e+07  50480.384254   \n",
       " 2021-02-24 11:00:00  50324.000000  219.138722     1.106520e+07  50494.052136   \n",
       " 2021-02-24 12:00:00  50711.000000  539.497310     2.750189e+07  50976.883072   \n",
       " 2021-02-24 13:00:00  49489.749689  917.788577     4.561525e+07  49701.256411   \n",
       " 2021-02-24 14:00:00  49408.000000  425.079315     2.092801e+07  49233.188583   \n",
       " 2021-02-24 15:00:00  49830.000000  613.928386     3.008932e+07  49011.131584   \n",
       " 2021-02-24 16:00:00  49330.000000  287.001445     1.427393e+07  49734.684912   \n",
       " 2021-02-24 17:00:00  50081.000000  200.228710     9.969055e+06  49788.338504   \n",
       " 2021-02-24 18:00:00  49600.000000  101.344709     5.046523e+06  49795.622560   \n",
       " 2021-02-24 19:00:00  48998.000000  290.593501     1.430152e+07  49214.864132   \n",
       " 2021-02-24 20:00:00  49157.000000  260.775831     1.275087e+07  48895.911947   \n",
       " 2021-02-24 21:00:00  48787.000000  362.041669     1.753763e+07  48440.911774   \n",
       " 2021-02-24 22:00:00  48880.000000  272.831492     1.324081e+07  48531.103989   \n",
       " 2021-02-24 23:00:00  49716.000000  389.422590     1.923193e+07  49385.749440   \n",
       " \n",
       "                      ecart_type    vwmp_lower  \n",
       " timestamp                                      \n",
       " 2021-02-24 00:00:00  559.384718  48625.000000  \n",
       " 2021-02-24 01:00:00  459.524909  49834.000000  \n",
       " 2021-02-24 02:00:00  169.194892  50388.000000  \n",
       " 2021-02-24 03:00:00  244.928182  50534.000000  \n",
       " 2021-02-24 04:00:00  248.174198  50919.000000  \n",
       " 2021-02-24 05:00:00  274.021535  50420.000000  \n",
       " 2021-02-24 06:00:00  329.182855  49662.000000  \n",
       " 2021-02-24 07:00:00  218.456592  49639.000000  \n",
       " 2021-02-24 08:00:00  253.978023  50600.000000  \n",
       " 2021-02-24 09:00:00  244.133635  50800.000000  \n",
       " 2021-02-24 10:00:00  216.137793  50441.000000  \n",
       " 2021-02-24 11:00:00  172.085240  50410.000000  \n",
       " 2021-02-24 12:00:00  220.793779  51125.000000  \n",
       " 2021-02-24 13:00:00  494.143245  49516.000000  \n",
       " 2021-02-24 14:00:00  247.351656  48778.456387  \n",
       " 2021-02-24 15:00:00  400.266716  49062.000000  \n",
       " 2021-02-24 16:00:00  205.885332  49757.000000  \n",
       " 2021-02-24 17:00:00  148.551045  50056.000000  \n",
       " 2021-02-24 18:00:00  125.730958  50060.000000  \n",
       " 2021-02-24 19:00:00  238.566071  49017.000000  \n",
       " 2021-02-24 20:00:00  179.254774  48755.000000  \n",
       " 2021-02-24 21:00:00  234.273795  48478.000000  \n",
       " 2021-02-24 22:00:00  263.522430  48765.000000  \n",
       " 2021-02-24 23:00:00  198.653979  49525.000000  ,\n",
       " 'df_btrx':                             price  price_open  price_high  price_low  \\\n",
       " timestamp                                                              \n",
       " 2021-02-24 00:00:00  7.803408e+07   48906.607   49070.307  46958.220   \n",
       " 2021-02-24 01:00:00  9.724766e+07   48488.000   50229.466  48453.810   \n",
       " 2021-02-24 02:00:00  7.018989e+07   50188.392   50600.000  49838.017   \n",
       " 2021-02-24 03:00:00  5.386073e+07   50213.589   50999.990  50105.146   \n",
       " 2021-02-24 04:00:00  5.219962e+07   50999.999   51386.269  50400.000   \n",
       " 2021-02-24 05:00:00  5.814758e+07   50676.453   51030.517  50000.000   \n",
       " 2021-02-24 06:00:00  7.565660e+07   50226.750   50709.490  49504.220   \n",
       " 2021-02-24 07:00:00  3.755193e+07   50114.940   50346.990  49551.014   \n",
       " 2021-02-24 08:00:00  6.976936e+07   50105.150   50921.529  49840.000   \n",
       " 2021-02-24 09:00:00  7.807134e+07   50699.120   51408.635  50356.990   \n",
       " 2021-02-24 10:00:00  4.759246e+07   50981.640   51088.359  50142.850   \n",
       " 2021-02-24 11:00:00  4.652314e+07   50128.489   50914.526  50128.489   \n",
       " 2021-02-24 12:00:00  5.349476e+07   50397.300   51300.000  50391.132   \n",
       " 2021-02-24 13:00:00  1.003244e+08   50761.770   51089.154  49093.667   \n",
       " 2021-02-24 14:00:00  6.851019e+07   49511.505   49804.570  48767.130   \n",
       " 2021-02-24 15:00:00  5.569405e+07   49445.430   49877.059  48518.630   \n",
       " 2021-02-24 16:00:00  4.393124e+07   49860.121   50149.734  49360.010   \n",
       " 2021-02-24 17:00:00  3.023500e+07   49435.140   50063.895  49380.080   \n",
       " 2021-02-24 18:00:00  3.370994e+07   50071.680   50071.680  49567.227   \n",
       " 2021-02-24 19:00:00  3.413849e+07   49605.000   49695.270  48861.200   \n",
       " 2021-02-24 20:00:00  2.685479e+07   48950.800   49279.190  48623.550   \n",
       " 2021-02-24 21:00:00  5.138843e+07   49122.005   49170.683  48120.000   \n",
       " 2021-02-24 22:00:00  2.972660e+07   48731.150   48972.019  48084.824   \n",
       " 2021-02-24 23:00:00  4.212427e+07   48858.285   49775.153  48793.590   \n",
       " \n",
       "                      price_close     amount  weighted_volume     btrx_vwap  \\\n",
       " timestamp                                                                    \n",
       " 2021-02-24 00:00:00    48488.000  42.467237     2.032535e+06  47861.252787   \n",
       " 2021-02-24 01:00:00    50199.989  55.042453     2.715974e+06  49343.265805   \n",
       " 2021-02-24 02:00:00    50230.770  32.532312     1.635208e+06  50264.128120   \n",
       " 2021-02-24 03:00:00    50949.591  38.108040     1.925549e+06  50528.684300   \n",
       " 2021-02-24 04:00:00    50662.379  29.551898     1.504614e+06  50914.284328   \n",
       " 2021-02-24 05:00:00    50244.010  32.878858     1.661611e+06  50537.358940   \n",
       " 2021-02-24 06:00:00    50119.510  38.275523     1.915069e+06  50033.771901   \n",
       " 2021-02-24 07:00:00    50105.150  19.922870     9.968002e+05  50032.963471   \n",
       " 2021-02-24 08:00:00    50679.160  34.800295     1.760450e+06  50587.218865   \n",
       " 2021-02-24 09:00:00    50980.189  35.103428     1.788433e+06  50947.529893   \n",
       " 2021-02-24 10:00:00    50159.450  20.407426     1.033950e+06  50665.392921   \n",
       " 2021-02-24 11:00:00    50401.600  18.751449     9.480061e+05  50556.416640   \n",
       " 2021-02-24 12:00:00    50774.399  23.611476     1.202007e+06  50907.729530   \n",
       " 2021-02-24 13:00:00    49514.992  63.346975     3.157197e+06  49839.742131   \n",
       " 2021-02-24 14:00:00    49473.137  36.013674     1.775904e+06  49311.928912   \n",
       " 2021-02-24 15:00:00    49877.058  37.278489     1.837105e+06  49280.555708   \n",
       " 2021-02-24 16:00:00    49360.010  29.104317     1.449568e+06  49805.936932   \n",
       " 2021-02-24 17:00:00    50050.175  17.648414     8.786506e+05  49786.375155   \n",
       " 2021-02-24 18:00:00    49585.974  21.005066     1.046005e+06  49797.741514   \n",
       " 2021-02-24 19:00:00    48984.140  17.735853     8.736294e+05  49257.819346   \n",
       " 2021-02-24 20:00:00    49184.990  16.050991     7.850059e+05  48907.006080   \n",
       " 2021-02-24 21:00:00    48787.489  33.354416     1.617235e+06  48486.392268   \n",
       " 2021-02-24 22:00:00    48887.820  15.566730     7.560210e+05  48566.458228   \n",
       " 2021-02-24 23:00:00    49742.749  33.440323     1.654902e+06  49488.224862   \n",
       " \n",
       "                      ecart_type  vwmp_lower  \n",
       " timestamp                                    \n",
       " 2021-02-24 00:00:00  557.619538   48144.745  \n",
       " 2021-02-24 01:00:00  469.534331   49880.695  \n",
       " 2021-02-24 02:00:00  175.983869   50283.489  \n",
       " 2021-02-24 03:00:00  194.339732   50488.858  \n",
       " 2021-02-24 04:00:00  232.897550   50814.880  \n",
       " 2021-02-24 05:00:00  267.317560   50136.435  \n",
       " 2021-02-24 06:00:00  325.174170   49823.590  \n",
       " 2021-02-24 07:00:00  185.500125   50250.000  \n",
       " 2021-02-24 08:00:00  223.991677   50659.682  \n",
       " 2021-02-24 09:00:00  264.025372   51273.558  \n",
       " 2021-02-24 10:00:00  249.319844   50964.173  \n",
       " 2021-02-24 11:00:00  186.042888   50398.540  \n",
       " 2021-02-24 12:00:00  219.332787   50640.746  \n",
       " 2021-02-24 13:00:00  478.696306   49365.899  \n",
       " 2021-02-24 14:00:00  258.332458   48825.472  \n",
       " 2021-02-24 15:00:00  348.010640   49067.101  \n",
       " 2021-02-24 16:00:00  167.601409   49817.220  \n",
       " 2021-02-24 17:00:00  126.268305   49879.221  \n",
       " 2021-02-24 18:00:00  122.403094   49775.660  \n",
       " 2021-02-24 19:00:00  254.681347   49000.000  \n",
       " 2021-02-24 20:00:00  170.823865   48982.986  \n",
       " 2021-02-24 21:00:00  234.448374   48356.216  \n",
       " 2021-02-24 22:00:00  230.192379   48752.870  \n",
       " 2021-02-24 23:00:00  223.018809   49750.000  ,\n",
       " 'df_bfly':                           price  price_open  price_high  price_low  \\\n",
       " timestamp                                                            \n",
       " 2021-02-24 00:00:00  1339870.27    48929.54    48929.54   47086.89   \n",
       " 2021-02-24 01:00:00   396268.08    48934.14    50161.64   48798.70   \n",
       " 2021-02-24 02:00:00   753667.58    49994.55    50513.79   49994.55   \n",
       " 2021-02-24 03:00:00    50948.00    50948.00    50948.00   50948.00   \n",
       " 2021-02-24 04:00:00   203520.01    51025.46    51025.46   50736.28   \n",
       " 2021-02-24 06:00:00   749430.77    50050.80    50050.80   49656.52   \n",
       " 2021-02-24 07:00:00    49680.10    49680.10    49680.10   49680.10   \n",
       " 2021-02-24 08:00:00   301218.77    49890.34    50726.45   49890.34   \n",
       " 2021-02-24 09:00:00   203544.63    50890.43    50907.35   50846.85   \n",
       " 2021-02-24 10:00:00   101030.37    50544.26    50544.26   50486.11   \n",
       " 2021-02-24 11:00:00   252638.24    50500.00    50702.08   50436.16   \n",
       " 2021-02-24 12:00:00   102308.05    51078.18    51229.87   51078.18   \n",
       " 2021-02-24 13:00:00  2033581.49    50500.00    50500.00   48978.31   \n",
       " 2021-02-24 14:00:00   689373.74    49700.00    49700.00   48888.00   \n",
       " 2021-02-24 15:00:00   684234.72    49085.09    49321.43   48517.60   \n",
       " 2021-02-24 16:00:00   548058.31    50314.08    50314.08   49449.13   \n",
       " 2021-02-24 17:00:00   198932.33    49717.23    49779.00   49704.36   \n",
       " 2021-02-24 18:00:00    99300.00    49600.00    49700.00   49600.00   \n",
       " 2021-02-24 19:00:00   344280.32    49444.96    49444.96   48997.60   \n",
       " 2021-02-24 20:00:00   882257.89    49144.07    49279.32   48847.56   \n",
       " 2021-02-24 21:00:00   629039.15    48844.07    48844.07   48202.94   \n",
       " 2021-02-24 22:00:00   820213.80    48211.04    48864.19   48070.33   \n",
       " 2021-02-24 23:00:00    99315.59    49603.44    49712.15   49603.44   \n",
       " \n",
       "                      price_close    amount  weighted_volume     bfly_vwap  \\\n",
       " timestamp                                                                   \n",
       " 2021-02-24 00:00:00     48191.14  1.957433     93970.450429  48006.990396   \n",
       " 2021-02-24 01:00:00     50161.64  1.036138     51400.660247  49607.923645   \n",
       " 2021-02-24 02:00:00     50136.78  1.765079     88601.110515  50196.677303   \n",
       " 2021-02-24 03:00:00     50948.00  0.250000     12737.000000  50948.000000   \n",
       " 2021-02-24 04:00:00     50743.89  0.770395     39207.574652  50892.806229   \n",
       " 2021-02-24 06:00:00     50018.90  1.570401     78486.302646  49978.511632   \n",
       " 2021-02-24 07:00:00     49680.10  0.032677      1623.412525  49680.100000   \n",
       " 2021-02-24 08:00:00     50726.45  0.788532     39540.309119  50144.205464   \n",
       " 2021-02-24 09:00:00     50846.85  0.350000     17809.408300  50884.023714   \n",
       " 2021-02-24 10:00:00     50486.11  0.138200      6984.158402  50536.602041   \n",
       " 2021-02-24 11:00:00     50702.08  0.273270     13793.104680  50474.184698   \n",
       " 2021-02-24 12:00:00     51229.87  0.121000      6198.662580  51228.616364   \n",
       " 2021-02-24 13:00:00     49699.00  3.892605    193391.367024  49681.734856   \n",
       " 2021-02-24 14:00:00     49026.73  1.397642     68856.376218  49266.087850   \n",
       " 2021-02-24 15:00:00     49321.43  2.361100    115186.608051  48785.145928   \n",
       " 2021-02-24 16:00:00     49537.17  0.893137     44340.195945  49645.483600   \n",
       " 2021-02-24 17:00:00     49731.74  0.078426      3898.908142  49714.249704   \n",
       " 2021-02-24 18:00:00     49700.00  0.123000      6101.100000  49602.439024   \n",
       " 2021-02-24 19:00:00     48997.60  0.467417     22993.000199  49191.600563   \n",
       " 2021-02-24 20:00:00     49279.32  1.509528     73953.907402  48991.421225   \n",
       " 2021-02-24 21:00:00     48499.00  1.117621     54097.923805  48404.532367   \n",
       " 2021-02-24 22:00:00     48864.19  1.720688     83058.642258  48270.598647   \n",
       " 2021-02-24 23:00:00     49712.15  0.082400      4087.910490  49610.564199   \n",
       " \n",
       "                      ecart_type  vwmp_lower  \n",
       " timestamp                                    \n",
       " 2021-02-24 00:00:00  495.195796    47743.62  \n",
       " 2021-02-24 01:00:00  467.956730    49777.91  \n",
       " 2021-02-24 02:00:00  130.516122    49994.55  \n",
       " 2021-02-24 03:00:00    0.000000    50948.00  \n",
       " 2021-02-24 04:00:00  139.998184    51025.46  \n",
       " 2021-02-24 06:00:00  116.095739    50016.68  \n",
       " 2021-02-24 07:00:00    0.000000    49680.10  \n",
       " 2021-02-24 08:00:00  330.026685    50410.65  \n",
       " 2021-02-24 09:00:00   23.473766    50900.00  \n",
       " 2021-02-24 10:00:00   29.075000    50486.11  \n",
       " 2021-02-24 11:00:00   90.652978    50500.00  \n",
       " 2021-02-24 12:00:00   75.845000    51078.18  \n",
       " 2021-02-24 13:00:00  447.966969    50116.80  \n",
       " 2021-02-24 14:00:00  213.649162    49200.75  \n",
       " 2021-02-24 15:00:00  275.783663    48631.44  \n",
       " 2021-02-24 16:00:00  249.388654    49766.55  \n",
       " 2021-02-24 17:00:00   28.224559    49731.74  \n",
       " 2021-02-24 18:00:00   50.000000    49700.00  \n",
       " 2021-02-24 19:00:00  214.418702    49444.96  \n",
       " 2021-02-24 20:00:00  131.933047    48909.50  \n",
       " 2021-02-24 21:00:00  161.043717    48272.99  \n",
       " 2021-02-24 22:00:00  164.847152    48247.38  \n",
       " 2021-02-24 23:00:00   54.355000    49712.15  ,\n",
       " 'df_bnus':                             price  price_open  price_high  price_low  \\\n",
       " timestamp                                                              \n",
       " 2021-02-24 00:00:00  1.424273e+08    48875.00    49096.01   47001.88   \n",
       " 2021-02-24 01:00:00  1.587523e+08    48438.82    50214.50   48438.82   \n",
       " 2021-02-24 02:00:00  1.451501e+08    50171.91    50566.28   49781.14   \n",
       " 2021-02-24 03:00:00  1.019325e+08    50177.50    50995.25   50091.01   \n",
       " 2021-02-24 04:00:00  1.542149e+08    50900.61    51399.11   50342.02   \n",
       " 2021-02-24 05:00:00  9.407086e+07    50656.06    51030.13   49983.24   \n",
       " 2021-02-24 06:00:00  1.062692e+08    50211.36    50678.40   49400.00   \n",
       " 2021-02-24 07:00:00  5.362459e+07    50091.48    50362.13   49501.04   \n",
       " 2021-02-24 08:00:00  8.308649e+07    50089.20    50884.72   49818.38   \n",
       " 2021-02-24 09:00:00  1.092456e+08    50661.48    51402.65   50362.72   \n",
       " 2021-02-24 10:00:00  8.393161e+07    50908.49    51042.97   50099.68   \n",
       " 2021-02-24 11:00:00  6.575971e+07    50113.40    50905.69   50113.40   \n",
       " 2021-02-24 12:00:00  9.440494e+07    50397.47    51323.93   50324.99   \n",
       " 2021-02-24 13:00:00  1.600280e+08    50758.51    51080.27   49058.18   \n",
       " 2021-02-24 14:00:00  1.320697e+08    49497.41    49794.69   48757.06   \n",
       " 2021-02-24 15:00:00  1.656437e+08    49426.74    49892.50   48452.03   \n",
       " 2021-02-24 16:00:00  1.177878e+08    49847.29    50141.00   49335.80   \n",
       " 2021-02-24 17:00:00  9.043049e+07    49337.75    50084.50   49337.75   \n",
       " 2021-02-24 18:00:00  8.402120e+07    50065.13    50084.50   49546.01   \n",
       " 2021-02-24 19:00:00  9.776485e+07    49601.14    49744.85   48865.97   \n",
       " 2021-02-24 20:00:00  1.068894e+08    48996.32    49272.20   48591.66   \n",
       " 2021-02-24 21:00:00  1.087369e+08    49142.58    49180.95   48135.88   \n",
       " 2021-02-24 22:00:00  8.304102e+07    48744.47    48945.74   48054.15   \n",
       " 2021-02-24 23:00:00  1.294345e+08    48829.40    49770.84   48753.08   \n",
       " \n",
       "                      price_close      amount  weighted_volume     bnus_vwap  \\\n",
       " timestamp                                                                     \n",
       " 2021-02-24 00:00:00     48482.38  127.854828     6.117440e+06  47846.763010   \n",
       " 2021-02-24 01:00:00     50214.49  124.063262     6.103439e+06  49196.187346   \n",
       " 2021-02-24 02:00:00     50206.46  112.735314     5.659359e+06  50200.414314   \n",
       " 2021-02-24 03:00:00     50898.28   79.404068     4.011755e+06  50523.291435   \n",
       " 2021-02-24 04:00:00     50636.53  122.807476     6.250998e+06  50900.796481   \n",
       " 2021-02-24 05:00:00     50217.25   65.636656     3.307036e+06  50383.987434   \n",
       " 2021-02-24 06:00:00     50093.88  105.026366     5.256201e+06  50046.486487   \n",
       " 2021-02-24 07:00:00     50042.91   47.713021     2.379047e+06  49861.581152   \n",
       " 2021-02-24 08:00:00     50658.05   54.411012     2.751015e+06  50559.886413   \n",
       " 2021-02-24 09:00:00     50904.26   74.382941     3.781783e+06  50842.080628   \n",
       " 2021-02-24 10:00:00     50111.98   45.355215     2.291158e+06  50515.867452   \n",
       " 2021-02-24 11:00:00     50390.43   26.543507     1.339793e+06  50475.338733   \n",
       " 2021-02-24 12:00:00     50744.20   33.333281     1.695693e+06  50870.863408   \n",
       " 2021-02-24 13:00:00     49468.85  119.525734     5.950359e+06  49783.077635   \n",
       " 2021-02-24 14:00:00     49434.82   98.645081     4.858440e+06  49251.723838   \n",
       " 2021-02-24 15:00:00     49844.79  114.227101     5.626634e+06  49258.306863   \n",
       " 2021-02-24 16:00:00     49341.98   58.500514     2.911329e+06  49765.878311   \n",
       " 2021-02-24 17:00:00     50084.50   31.936589     1.590715e+06  49808.544722   \n",
       " 2021-02-24 18:00:00     49599.14   27.890148     1.388799e+06  49795.325779   \n",
       " 2021-02-24 19:00:00     48982.64   85.432899     4.216550e+06  49355.109623   \n",
       " 2021-02-24 20:00:00     49174.60   50.208245     2.455508e+06  48906.476335   \n",
       " 2021-02-24 21:00:00     48790.70   40.987167     1.987303e+06  48485.980606   \n",
       " 2021-02-24 22:00:00     48852.09   31.983461     1.552795e+06  48549.925443   \n",
       " 2021-02-24 23:00:00     49714.50   54.608959     2.697662e+06  49399.630134   \n",
       " \n",
       "                      ecart_type  vwmp_lower  \n",
       " timestamp                                    \n",
       " 2021-02-24 00:00:00  558.402484    47900.00  \n",
       " 2021-02-24 01:00:00  443.724518    49234.79  \n",
       " 2021-02-24 02:00:00  178.428168    50276.62  \n",
       " 2021-02-24 03:00:00  209.425242    50211.69  \n",
       " 2021-02-24 04:00:00  235.418348    51075.09  \n",
       " 2021-02-24 05:00:00  260.791852    50099.92  \n",
       " 2021-02-24 06:00:00  330.835002    50439.66  \n",
       " 2021-02-24 07:00:00  198.825797    49557.00  \n",
       " 2021-02-24 08:00:00  210.119413    50868.01  \n",
       " 2021-02-24 09:00:00  229.441226    50959.97  \n",
       " 2021-02-24 10:00:00  221.383340    50305.70  \n",
       " 2021-02-24 11:00:00  163.793314    50285.31  \n",
       " 2021-02-24 12:00:00  244.828548    50702.44  \n",
       " 2021-02-24 13:00:00  485.863388    49755.51  \n",
       " 2021-02-24 14:00:00  235.017044    49288.47  \n",
       " 2021-02-24 15:00:00  341.361366    49100.00  \n",
       " 2021-02-24 16:00:00  187.044201    49390.69  \n",
       " 2021-02-24 17:00:00  141.562427    49715.61  \n",
       " 2021-02-24 18:00:00  138.866333    49919.01  \n",
       " 2021-02-24 19:00:00  247.557138    49611.00  \n",
       " 2021-02-24 20:00:00  169.186441    49100.01  \n",
       " 2021-02-24 21:00:00  234.126241    48365.67  \n",
       " 2021-02-24 22:00:00  222.098834    48724.33  \n",
       " 2021-02-24 23:00:00  193.269661    49568.70  ,\n",
       " 'df_cbse':                             price  price_open  price_high  price_low  \\\n",
       " timestamp                                                              \n",
       " 2021-02-24 00:00:00  1.451576e+09    48899.99    49114.02   47002.00   \n",
       " 2021-02-24 01:00:00  1.516462e+09    48498.80    50353.43   48437.32   \n",
       " 2021-02-24 02:00:00  1.735535e+09    50236.98    50600.00   49832.71   \n",
       " 2021-02-24 03:00:00  1.287666e+09    50220.01    51000.00   50084.76   \n",
       " 2021-02-24 04:00:00  1.346788e+09    50929.46    51398.00   50358.54   \n",
       " 2021-02-24 05:00:00  9.090864e+08    50655.08    51025.22   49978.89   \n",
       " 2021-02-24 06:00:00  9.570654e+08    50234.41    50705.94   49436.23   \n",
       " 2021-02-24 07:00:00  5.795207e+08    50098.05    50350.00   49520.91   \n",
       " 2021-02-24 08:00:00  6.046553e+08    50090.93    50891.81   49782.86   \n",
       " 2021-02-24 09:00:00  6.748214e+08    50664.17    51415.41   50356.56   \n",
       " 2021-02-24 10:00:00  6.046431e+08    50904.97    51055.38   50110.00   \n",
       " 2021-02-24 11:00:00  5.862424e+08    50129.71    50939.86   50129.70   \n",
       " 2021-02-24 12:00:00  8.521768e+08    50379.99    51332.84   50368.45   \n",
       " 2021-02-24 13:00:00  1.282063e+09    50738.30    51123.31   49000.00   \n",
       " 2021-02-24 14:00:00  1.143299e+09    49479.41    49804.39   48731.33   \n",
       " 2021-02-24 15:00:00  1.337417e+09    49427.61    49877.97   48500.00   \n",
       " 2021-02-24 16:00:00  9.583313e+08    49850.00    50144.92   49353.95   \n",
       " 2021-02-24 17:00:00  8.522004e+08    49371.49    50113.72   49360.64   \n",
       " 2021-02-24 18:00:00  8.402935e+08    50096.69    50103.57   49544.84   \n",
       " 2021-02-24 19:00:00  9.568554e+08    49619.19    49733.51   48833.24   \n",
       " 2021-02-24 20:00:00  9.601580e+08    48990.27    49276.80   48608.58   \n",
       " 2021-02-24 21:00:00  1.007161e+09    49174.41    49174.41   48111.00   \n",
       " 2021-02-24 22:00:00  9.748823e+08    48758.08    48987.38   48078.62   \n",
       " 2021-02-24 23:00:00  8.916838e+08    48842.66    49788.00   48775.05   \n",
       " \n",
       "                      price_close       amount  weighted_volume     cbse_vwap  \\\n",
       " timestamp                                                                      \n",
       " 2021-02-24 00:00:00     48487.22  1968.966845     9.440279e+07  47945.341624   \n",
       " 2021-02-24 01:00:00     50236.98  1900.253493     9.371518e+07  49317.201370   \n",
       " 2021-02-24 02:00:00     50220.01  1904.699909     9.570907e+07  50248.894775   \n",
       " 2021-02-24 03:00:00     50932.71  1350.364319     6.819089e+07  50498.142558   \n",
       " 2021-02-24 04:00:00     50650.86  1920.438381     9.783221e+07  50942.646520   \n",
       " 2021-02-24 05:00:00     50225.89  1047.173741     5.289692e+07  50513.989242   \n",
       " 2021-02-24 06:00:00     50099.64  1077.133736     5.383780e+07  49982.465002   \n",
       " 2021-02-24 07:00:00     50082.62   498.929037     2.492631e+07  49959.624169   \n",
       " 2021-02-24 08:00:00     50666.70   503.576512     2.545131e+07  50541.090694   \n",
       " 2021-02-24 09:00:00     50900.68   551.972430     2.809595e+07  50901.001611   \n",
       " 2021-02-24 10:00:00     50134.22   779.467660     3.938174e+07  50523.886721   \n",
       " 2021-02-24 11:00:00     50380.00   561.859966     2.837306e+07  50498.455216   \n",
       " 2021-02-24 12:00:00     50738.30  1149.138361     5.853227e+07  50935.790979   \n",
       " 2021-02-24 13:00:00     49479.41  2158.868106     1.075364e+08  49811.472119   \n",
       " 2021-02-24 14:00:00     49427.61  1316.221737     6.488097e+07  49293.346463   \n",
       " 2021-02-24 15:00:00     49850.22  1792.012776     8.821157e+07  49224.856517   \n",
       " 2021-02-24 16:00:00     49371.50  1160.920047     5.775455e+07  49748.948299   \n",
       " 2021-02-24 17:00:00     50096.69   880.587845     4.386519e+07  49813.534998   \n",
       " 2021-02-24 18:00:00     49619.18   975.305298     4.856104e+07  49790.606855   \n",
       " 2021-02-24 19:00:00     48990.27  1273.652427     6.273994e+07  49259.860732   \n",
       " 2021-02-24 20:00:00     49174.40  1408.388500     6.890241e+07  48922.873467   \n",
       " 2021-02-24 21:00:00     48757.56  1256.827244     6.092706e+07  48476.878211   \n",
       " 2021-02-24 22:00:00     48850.40   916.803009     4.453754e+07  48579.180689   \n",
       " 2021-02-24 23:00:00     49737.82   987.009559     4.878687e+07  49428.972903   \n",
       " \n",
       "                      ecart_type  vwmp_lower  \n",
       " timestamp                                    \n",
       " 2021-02-24 00:00:00  525.145463    48577.20  \n",
       " 2021-02-24 01:00:00  443.302003    48703.58  \n",
       " 2021-02-24 02:00:00  175.479681    50078.86  \n",
       " 2021-02-24 03:00:00  216.813444    50466.57  \n",
       " 2021-02-24 04:00:00  239.304885    50668.33  \n",
       " 2021-02-24 05:00:00  257.941997    50830.63  \n",
       " 2021-02-24 06:00:00  306.344736    50170.68  \n",
       " 2021-02-24 07:00:00  191.178248    50255.06  \n",
       " 2021-02-24 08:00:00  228.411067    50184.44  \n",
       " 2021-02-24 09:00:00  244.496327    50820.01  \n",
       " 2021-02-24 10:00:00  204.918522    50498.84  \n",
       " 2021-02-24 11:00:00  172.944038    50239.09  \n",
       " 2021-02-24 12:00:00  226.011841    51108.72  \n",
       " 2021-02-24 13:00:00  491.186876    49762.17  \n",
       " 2021-02-24 14:00:00  237.802504    49503.71  \n",
       " 2021-02-24 15:00:00  359.764538    49492.63  \n",
       " 2021-02-24 16:00:00  162.193870    49717.89  \n",
       " 2021-02-24 17:00:00  139.092752    49837.46  \n",
       " 2021-02-24 18:00:00  133.256020    49703.37  \n",
       " 2021-02-24 19:00:00  241.393053    49000.00  \n",
       " 2021-02-24 20:00:00  165.764468    48977.24  \n",
       " 2021-02-24 21:00:00  245.531382    48641.53  \n",
       " 2021-02-24 22:00:00  220.531623    48568.00  \n",
       " 2021-02-24 23:00:00  212.730478    49227.93  ,\n",
       " 'df_krkn':                            price  price_open  price_high  price_low  \\\n",
       " timestamp                                                             \n",
       " 2021-02-24 00:00:00  217587547.0     48899.6     48899.9    47015.7   \n",
       " 2021-02-24 01:00:00  241915441.3     48499.0     50200.0    48462.8   \n",
       " 2021-02-24 02:00:00  224271789.6     50200.0     50564.5    49836.7   \n",
       " 2021-02-24 03:00:00  131580200.2     50202.2     51000.0    50074.9   \n",
       " 2021-02-24 04:00:00  175174026.0     50922.2     51392.0    50342.2   \n",
       " 2021-02-24 05:00:00  114168314.5     50647.5     51058.4    50022.5   \n",
       " 2021-02-24 06:00:00  176567010.7     50235.4     50704.3    49410.6   \n",
       " 2021-02-24 07:00:00  115427065.4     50110.2     50374.4    49548.5   \n",
       " 2021-02-24 08:00:00  164445545.2     50140.7     50912.5    49812.8   \n",
       " 2021-02-24 09:00:00  168562967.9     50682.9     51442.5    50380.7   \n",
       " 2021-02-24 10:00:00  165516339.1     50900.0     51059.2    50150.0   \n",
       " 2021-02-24 11:00:00   94371071.6     50150.6     50909.5    50150.6   \n",
       " 2021-02-24 12:00:00  112059814.6     50392.1     51283.3    50372.9   \n",
       " 2021-02-24 13:00:00  260470612.8     50760.0     51099.4    49100.0   \n",
       " 2021-02-24 14:00:00  200515464.5     49480.2     49795.3    48691.6   \n",
       " 2021-02-24 15:00:00  193624473.9     49433.2     49916.8    48500.1   \n",
       " 2021-02-24 16:00:00  118108778.0     49851.6     50171.2    49352.2   \n",
       " 2021-02-24 17:00:00   86534209.7     49400.0     50060.0    49400.0   \n",
       " 2021-02-24 18:00:00   84652155.4     50075.0     50100.0    49551.0   \n",
       " 2021-02-24 19:00:00  108228533.9     49619.1     49712.6    48880.4   \n",
       " 2021-02-24 20:00:00  131293551.9     48980.4     49282.1    48618.5   \n",
       " 2021-02-24 21:00:00  191360278.9     49156.5     49162.7    48153.8   \n",
       " 2021-02-24 22:00:00  119588971.7     48748.6     48997.1    48075.0   \n",
       " 2021-02-24 23:00:00  136608562.1     48875.1     49840.2    48788.5   \n",
       " \n",
       "                      price_close      amount  weighted_volume     krkn_vwap  \\\n",
       " timestamp                                                                     \n",
       " 2021-02-24 00:00:00      48498.9  484.201195     2.309558e+07  47698.307100   \n",
       " 2021-02-24 01:00:00      50180.4  575.524927     2.830376e+07  49179.026877   \n",
       " 2021-02-24 02:00:00      50202.2  484.469136     2.432738e+07  50214.502350   \n",
       " 2021-02-24 03:00:00      50928.4  297.824695     1.505118e+07  50537.044841   \n",
       " 2021-02-24 04:00:00      50635.3  395.691857     2.014747e+07  50917.060833   \n",
       " 2021-02-24 05:00:00      50204.8  204.314443     1.030176e+07  50421.092041   \n",
       " 2021-02-24 06:00:00      50110.2  458.498311     2.288645e+07  49916.108053   \n",
       " 2021-02-24 07:00:00      50140.7  237.822369     1.188976e+07  49994.271641   \n",
       " 2021-02-24 08:00:00      50682.8  314.730120     1.590810e+07  50545.216768   \n",
       " 2021-02-24 09:00:00      50900.0  280.462065     1.430013e+07  50987.736822   \n",
       " 2021-02-24 10:00:00      50150.1  247.898683     1.255447e+07  50643.536208   \n",
       " 2021-02-24 11:00:00      50392.1  176.947947     8.940030e+06  50523.501578   \n",
       " 2021-02-24 12:00:00      50746.3  222.832844     1.133419e+07  50864.097845   \n",
       " 2021-02-24 13:00:00      49480.2  600.061129     2.984897e+07  49743.211946   \n",
       " 2021-02-24 14:00:00      49434.3  540.262804     2.659340e+07  49223.085281   \n",
       " 2021-02-24 15:00:00      49850.0  424.765690     2.090603e+07  49217.787308   \n",
       " 2021-02-24 16:00:00      49400.0  235.531201     1.171767e+07  49749.960860   \n",
       " 2021-02-24 17:00:00      50060.0  210.386933     1.048618e+07  49842.350098   \n",
       " 2021-02-24 18:00:00      49611.1  178.807221     8.906942e+06  49813.098122   \n",
       " 2021-02-24 19:00:00      48980.4  231.152172     1.137971e+07  49230.388097   \n",
       " 2021-02-24 20:00:00      49167.4  306.183519     1.499224e+07  48964.871226   \n",
       " 2021-02-24 21:00:00      48753.9  434.596897     2.107768e+07  48499.380608   \n",
       " 2021-02-24 22:00:00      48886.5  196.798897     9.552687e+06  48540.346388   \n",
       " 2021-02-24 23:00:00      49727.7  370.420663     1.832097e+07  49459.905292   \n",
       " \n",
       "                      ecart_type  vwmp_lower  \n",
       " timestamp                                    \n",
       " 2021-02-24 00:00:00  423.735885     48300.0  \n",
       " 2021-02-24 01:00:00  472.307673     49302.5  \n",
       " 2021-02-24 02:00:00  191.746330     50044.8  \n",
       " 2021-02-24 03:00:00  234.824395     50306.2  \n",
       " 2021-02-24 04:00:00  245.540507     50860.4  \n",
       " 2021-02-24 05:00:00  257.701079     50282.4  \n",
       " 2021-02-24 06:00:00  300.562661     49613.0  \n",
       " 2021-02-24 07:00:00  199.483220     50146.8  \n",
       " 2021-02-24 08:00:00  228.704378     49922.9  \n",
       " 2021-02-24 09:00:00  247.925534     51143.6  \n",
       " 2021-02-24 10:00:00  219.041707     50575.0  \n",
       " 2021-02-24 11:00:00  163.516813     50601.3  \n",
       " 2021-02-24 12:00:00  228.545528     50877.2  \n",
       " 2021-02-24 13:00:00  449.554279     49241.8  \n",
       " 2021-02-24 14:00:00  245.171183     49615.1  \n",
       " 2021-02-24 15:00:00  364.261799     49365.4  \n",
       " 2021-02-24 16:00:00  188.768104     49487.1  \n",
       " 2021-02-24 17:00:00  132.214756     49812.9  \n",
       " 2021-02-24 18:00:00  140.609241     49751.0  \n",
       " 2021-02-24 19:00:00  241.030352     49413.6  \n",
       " 2021-02-24 20:00:00  169.654078     48846.0  \n",
       " 2021-02-24 21:00:00  243.113896     48581.7  \n",
       " 2021-02-24 22:00:00  253.288862     48466.9  \n",
       " 2021-02-24 23:00:00  212.593652     49369.9  ,\n",
       " 'df_all':                             price  price_open    price_high     price_low  \\\n",
       " timestamp                                                                   \n",
       " 2021-02-24 00:00:00  3.258431e+09    48899.99  49130.500000  46902.000000   \n",
       " 2021-02-24 01:00:00  3.475201e+09    48499.00  50353.430000  48412.000000   \n",
       " 2021-02-24 02:00:00  3.429633e+09    50224.22  50820.160000  49781.140000   \n",
       " 2021-02-24 03:00:00  2.447801e+09    50190.12  51001.000000  50042.000000   \n",
       " 2021-02-24 04:00:00  2.805355e+09    50929.46  51459.510000  50328.000000   \n",
       " 2021-02-24 05:00:00  2.128123e+09    50611.00  51064.836108  49941.000000   \n",
       " 2021-02-24 06:00:00  2.495656e+09    50264.18  50710.310000  49210.000000   \n",
       " 2021-02-24 07:00:00  1.536856e+09    50098.05  50374.400000  49472.000000   \n",
       " 2021-02-24 08:00:00  1.949153e+09    50090.93  51089.720000  49770.500000   \n",
       " 2021-02-24 09:00:00  2.000023e+09    50659.75  51449.500000  50293.000000   \n",
       " 2021-02-24 10:00:00  1.880924e+09    50900.00  51088.359000  50050.000000   \n",
       " 2021-02-24 11:00:00  1.472331e+09    50127.96  50957.670000  50057.000000   \n",
       " 2021-02-24 12:00:00  2.128138e+09    50379.99  51364.740000  50324.990000   \n",
       " 2021-02-24 13:00:00  3.554507e+09    50738.30  51123.310000  48940.120000   \n",
       " 2021-02-24 14:00:00  2.746005e+09    49480.20  49811.250000  48691.600000   \n",
       " 2021-02-24 15:00:00  3.042860e+09    49430.41  49916.800000  48350.000000   \n",
       " 2021-02-24 16:00:00  2.118338e+09    49847.54  50314.080000  49298.688164   \n",
       " 2021-02-24 17:00:00  1.688633e+09    49371.49  50126.600000  49313.000000   \n",
       " 2021-02-24 18:00:00  1.657906e+09    50096.69  50171.790000  49510.000000   \n",
       " 2021-02-24 19:00:00  2.086738e+09    49631.06  49748.400000  48804.000000   \n",
       " 2021-02-24 20:00:00  2.108377e+09    48990.27  49293.550000  48569.000000   \n",
       " 2021-02-24 21:00:00  2.300267e+09    49152.28  49193.770000  48111.000000   \n",
       " 2021-02-24 22:00:00  1.958580e+09    48768.54  49004.720000  48036.500000   \n",
       " 2021-02-24 23:00:00  2.248716e+09    48831.81  49840.200000  48753.080000   \n",
       " \n",
       "                      price_close       amount  weighted_volume      all_vwap  \\\n",
       " timestamp                                                                      \n",
       " 2021-02-24 00:00:00     48498.90  4523.858018     2.166153e+08  47882.875855   \n",
       " 2021-02-24 01:00:00     50236.98  4839.064849     2.386306e+08  49313.367516   \n",
       " 2021-02-24 02:00:00     50220.01  4407.161895     2.214342e+08  50244.173361   \n",
       " 2021-02-24 03:00:00     50932.71  3075.410940     1.553509e+08  50513.865126   \n",
       " 2021-02-24 04:00:00     50650.86  4002.536828     2.038406e+08  50927.853964   \n",
       " 2021-02-24 05:00:00     50166.00  2619.757428     1.321815e+08  50455.606779   \n",
       " 2021-02-24 06:00:00     50099.64  3642.077256     1.817885e+08  49913.410442   \n",
       " 2021-02-24 07:00:00     50082.62  1563.605177     7.812169e+07  49962.539691   \n",
       " 2021-02-24 08:00:00     50666.70  2624.784820     1.327581e+08  50578.670027   \n",
       " 2021-02-24 09:00:00     50900.68  2571.314181     1.309102e+08  50911.780055   \n",
       " 2021-02-24 10:00:00     50150.10  2481.392366     1.253971e+08  50534.981344   \n",
       " 2021-02-24 11:00:00     50380.00  1728.398364     8.728295e+07  50499.325621   \n",
       " 2021-02-24 12:00:00     50746.30  3253.176344     1.656978e+08  50934.165511   \n",
       " 2021-02-24 13:00:00     49479.41  6518.151898     3.246023e+08  49799.740010   \n",
       " 2021-02-24 14:00:00     49427.61  3816.093877     1.879955e+08  49263.846728   \n",
       " 2021-02-24 15:00:00     49850.22  3969.264116     1.953020e+08  49203.580042   \n",
       " 2021-02-24 16:00:00     49330.00  2521.592659     1.254499e+08  49750.267318   \n",
       " 2021-02-24 17:00:00     50081.00  1906.487308     9.498614e+07  49822.593362   \n",
       " 2021-02-24 18:00:00     49619.18  1950.766554     9.714607e+07  49798.923013   \n",
       " 2021-02-24 19:00:00     48990.27  2718.664106     1.339457e+08  49268.924507   \n",
       " 2021-02-24 20:00:00     49174.40  2818.382756     1.379013e+08  48929.224304   \n",
       " 2021-02-24 21:00:00     48757.56  3016.123883     1.462438e+08  48487.345486   \n",
       " 2021-02-24 22:00:00     48833.25  1903.585424     9.246590e+07  48574.602199   \n",
       " 2021-02-24 23:00:00     49737.82  2683.427128     1.326639e+08  49438.250657   \n",
       " \n",
       "                      ecart_type  vwmp_lower  \n",
       " timestamp                                    \n",
       " 2021-02-24 00:00:00  538.752198    48888.00  \n",
       " 2021-02-24 01:00:00  454.072247    48946.35  \n",
       " 2021-02-24 02:00:00  175.543310    50075.50  \n",
       " 2021-02-24 03:00:00  223.789090    50314.07  \n",
       " 2021-02-24 04:00:00  244.415174    50500.00  \n",
       " 2021-02-24 05:00:00  265.889427    50539.68  \n",
       " 2021-02-24 06:00:00  318.526818    49873.16  \n",
       " 2021-02-24 07:00:00  202.575509    49747.64  \n",
       " 2021-02-24 08:00:00  237.265122    50200.00  \n",
       " 2021-02-24 09:00:00  247.126171    50920.00  \n",
       " 2021-02-24 10:00:00  223.864649    50550.00  \n",
       " 2021-02-24 11:00:00  174.585415    50759.00  \n",
       " 2021-02-24 12:00:00  223.748344    51143.49  \n",
       " 2021-02-24 13:00:00  489.045228    49475.00  \n",
       " 2021-02-24 14:00:00  242.486317    48813.74  \n",
       " 2021-02-24 15:00:00  373.521414    48550.00  \n",
       " 2021-02-24 16:00:00  179.226982    49400.00  \n",
       " 2021-02-24 17:00:00  139.790773    49733.00  \n",
       " 2021-02-24 18:00:00  133.525008    49648.40  \n",
       " 2021-02-24 19:00:00  241.387744    49506.05  \n",
       " 2021-02-24 20:00:00  170.441910    48978.19  \n",
       " 2021-02-24 21:00:00  244.464214    48594.54  \n",
       " 2021-02-24 22:00:00  235.686517    48702.42  \n",
       " 2021-02-24 23:00:00  206.194365    49821.30  }"
      ]
     },
     "execution_count": 4,
     "metadata": {},
     "output_type": "execute_result"
    }
   ],
   "source": [
    "#_SELECTION_DES_PARAMETRES_#\n",
    "\n",
    "def select_time_ladder(initial_frequency='60min'): #Widget select 'frequency'\n",
    "    options = ['60min', '30min', '5min']                                                                        \n",
    "    dropdown_ladder = widgets.Dropdown(options=options, description='Interval:', value=initial_frequency)       #Création du widget de sélection\n",
    "    \n",
    "    def on_change(change):   #Update\n",
    "        if change['type'] == 'change' and change['name'] == 'value':        #En cas de changement de sélection, la nouvelle valeur correspond à la valeur sélectionnée\n",
    "            clear_output()                                                  #Nettoyage pour MàJ affichage\n",
    "            aggregation(dropdown_ladder.value, dropdown_vwmp_type.value)    #Aggrégation des données avec paramètres sélectionnés en tant qu'arguments\n",
    "                \n",
    "    dropdown_ladder.observe(on_change)      #Observation du changement de sélection\n",
    "    return dropdown_ladder\n",
    "\n",
    "def select_vwmp_type(initial_vwmp_type='lower'):    #Widget select 'vwmp_type'\n",
    "    options = ['lower', 'upper']                                                                                    \n",
    "    dropdown_vwmp_type = widgets.Dropdown(options=options, description='VWMP:', value=initial_vwmp_type)        #Création du widget de sélection\n",
    "    \n",
    "    def on_change(change):      #Update\n",
    "       if change['type'] == 'change' and change['name'] == 'value':         #En cas de changement de sélection, la nouvelle valeur correspond à la valeur sélectionnée\n",
    "            clear_output()                                                  #Nettoyage pour MàJ affichage\n",
    "            aggregation(dropdown_ladder.value, dropdown_vwmp_type.value)    #Aggrégation des données avec paramètres sélectionnés en tant qu'arguments\n",
    "            \n",
    "    dropdown_vwmp_type.observe(on_change)       #Observation du changement de sélection\n",
    "    return dropdown_vwmp_type\n",
    "\n",
    "#_AGGREGATION_#\n",
    "\n",
    "def aggregation(frequency, vwmp_type):      #Boucles de manipulations des dataframes (1 boucle calcul + 1 boucle cleaning)\n",
    "    \n",
    "    print(\"...calcul en cours\")\n",
    "    aggregated_dict = {}                        \n",
    "\n",
    "    for key, df in dataframes_dict.items():     #Boucle de calcul (B1)\n",
    "        aggregated_df = process_dataframe(key, df, frequency, vwmp_type) \n",
    "        aggregated_dict[key] = aggregated_df     \n",
    "\n",
    "    for key, df in aggregated_dict.items():     #Boucle de cleaning (B2)\n",
    "        cleaned_df = cleaning(df) \n",
    "        cleaned_dict[key] = cleaned_df \n",
    "\n",
    "    clear_output()\n",
    "    visualisation(cleaned_dict)     #Fonction d'affichage des résultats sous forme de graphique en chandelier japonais + widgets de sélection\n",
    "\n",
    "    return cleaned_dict\n",
    "  \n",
    "##__Boucle_1__## \n",
    "\n",
    "def process_dataframe(key, df, frequency, vwmp_type):   #Structure de calcul du dataframe\n",
    "    \n",
    "    exchange_name_splitted = (str(key)).split(\"df_\")        #Extraction du nom de l'exchange\n",
    "    exchange_name = exchange_name_splitted[1]\n",
    "\n",
    "    df['weighted_volume'] = (df['price'] * df['amount'])        #Calcul du Weighted_Volume de chaque transaction avant agréggation\n",
    "\n",
    "    aggregated_df = initial_aggregation(df, frequency)      #Agrégation des transactions initiales\n",
    "\n",
    "    aggregated_df[f'{exchange_name}_vwap'] = df.groupby(pd.Grouper(key='timestamp', freq=frequency)).apply(calculate_vwap)                                           #Calcul du Volume Weighted Average Price [VWAP] \n",
    "    aggregated_df['ecart_type'] = df.groupby(pd.Grouper(key='timestamp', freq=frequency)).apply(calculate_ecart_type)                                                #Calcul de l'écart_type \n",
    "    aggregated_df[f'vwmp_{vwmp_type}'] = df.groupby(pd.Grouper(key='timestamp', freq=frequency)).apply(lambda group: pd.Series(calculate_vwmp(group, vwmp_type)))    #Calcul du Volume Weighted Median Price [VWMP (lower or upper)] \n",
    "\n",
    "    return aggregated_df \n",
    "\n",
    "def initial_aggregation(df, frequency):     #Aggrégation initiale des transactions                          \n",
    "            \n",
    "    aggregated_df = df.groupby(pd.Grouper(key='timestamp', freq=frequency)).agg({    #Fonctions d'agrégation pour chaque colonnes\n",
    "        'price': ['sum', 'first', 'max', 'min', 'last'],             \n",
    "        'amount': 'sum',\n",
    "        'weighted_volume': 'sum'\n",
    "    })\n",
    "\n",
    "    aggregated_df.columns = [       #Renommage des colonnes\n",
    "                            'price', 'price_open', 'price_high', 'price_low', 'price_close',\n",
    "                            'amount',\n",
    "                            'weighted_volume'\n",
    "    ]\n",
    "    \n",
    "    return aggregated_df\n",
    "\n",
    "def calculate_vwap(group):      #Calcul du Volume Weighted Average Price [VWAP]   \n",
    "    sum_price_amount = group['weighted_volume'].sum()                                           \n",
    "    sum_amount = group['amount'].sum()\n",
    "\n",
    "    if sum_amount != 0:\n",
    "        return sum_price_amount / sum_amount \n",
    "    else : \n",
    "        return 0    \n",
    "\n",
    "def calculate_ecart_type(group):        #Calcul de l'écart_type\n",
    "    \n",
    "    ecart_type = np.nanstd(group['price'])      #'np.nanstd' pour exclure les valeurs nulles dans le calcul de l'écart type \n",
    "    if ecart_type != np.nan :\n",
    "        return ecart_type\n",
    "    else : \n",
    "        return 0        #écart type à zéro dans le cas d'un échantillon de taille 1 (une seule valeur de 'price' sur la période)\n",
    "\n",
    "def calculate_vwmp(group, vwmp_type):  #Calcul du Volume Weighted Median Price [VWMP (lower or upper)] \n",
    "\n",
    "    series_sorted = group.sort_values('amount')                         #Tri du volume par ordre croissant\n",
    "    series_sorted['cumul_amount'] = series_sorted['amount'].cumsum()    #Calcul du volume cumulé\n",
    "    total_volume_median = series_sorted['cumul_amount'].max() / 2       #Calcul de la médiane\n",
    "    #--------\n",
    "    if vwmp_type == 'lower':    #LOWER\n",
    "       \n",
    "        lower_cumulative_volume = series_sorted[series_sorted['cumul_amount'] <= total_volume_median]   #Filtrage de la série pour conserver la partie inférieure (>=) du volume cumulé \n",
    "       \n",
    "        if not lower_cumulative_volume.empty:   #Si la taille de l'échantillon est >> 2\n",
    "           \n",
    "            max_cumul_amount_index = lower_cumulative_volume['cumul_amount'].idxmax()   #Identification de la ligne correspondante au volume cumulé maximum de la série filtrée (ensemble inférieure)\n",
    "            vwmp_lower = group.loc[max_cumul_amount_index, 'price']                     #Déduction du prix médian bas pondéré par le volume\n",
    "            return vwmp_lower  \n",
    "        \n",
    "        else : \n",
    "            return group['price'].mean()    #Cas particuliers (mesuré x3 occurences) soit (vwmp = price si échantillon = 1 ;  vwmp = 0 si échantillon = 0) -> utilisation de la fonction mean pour renvoyer ce résultat\n",
    "\n",
    "    #-- - -- - -- - -- - -- - -- - -- - -- - -- - -- - -- - -- - -- - -- - -- - -- - -- - -- - -- - -- - #symétrie\n",
    "\n",
    "    if vwmp_type == 'upper':    #UPPER\n",
    "    \n",
    "        upper_cumulative_volume = series_sorted[series_sorted['cumul_amount'] <= total_volume_median]   #Filtrage de la série pour conserver la partie inférieure (>=) du volume cumulé \n",
    "    \n",
    "        if not upper_cumulative_volume.empty:   #Si la taille de l'échantillon est >> 2\n",
    "       \n",
    "            min_cumul_amount_index = upper_cumulative_volume['cumul_amount'].idxmin()   #Identification de la ligne correspondante au volume cumulé maximum de la série filtrée (ensemble inférieure)\n",
    "            vwmp_upper = group.loc[min_cumul_amount_index, 'price']                     #Déduction du prix médian bas pondéré par le volume\n",
    "            return vwmp_upper  \n",
    "    \n",
    "        else : \n",
    "            return group['price'].mean()    #Cas particuliers (mesuré x3 occurences) soit (vwmp = price si échantillon = 1 ;  vwmp = 0 si échantillon = 0) -> utilisation de la fonction mean pour renvoyer ce résultat\n",
    "    #----------\n",
    "    else:\n",
    "        raise ValueError(\"Mode non valide. Veuillez spécifier 'lower' ou 'upper'.\")\n",
    "\n",
    "##__Boucle_2__## \n",
    "\n",
    "def cleaning(df):   #Supprime les lignes vides (pas de transactions dans un intervalle de temps)\n",
    "    \n",
    "    df_cleaned = df.copy()                                                      #Copie pour ne pas modifier le df original\n",
    "    df_cleaned = df_cleaned[~df_cleaned.apply(                                  #Filtrage des lignes où toutes les valeurs sont nulles\n",
    "        lambda row: all(val == 0.0 or pd.isnull(val) for val in row), axis=1    \n",
    "    )] \n",
    "    \n",
    "    return df_cleaned\n",
    "\n",
    "#_VISUALISE_#\n",
    "       \n",
    "def visualisation(cleaned_dict):    #Boucle de création de graphique\n",
    "    \n",
    "    # WIDGETS # \n",
    "    grid = widgets.GridspecLayout(1, 10) \n",
    "    grid[0, 0] = export_button\n",
    "    grid[0, 1] = dropdown_ladder\n",
    "    grid[0, 2] = dropdown_vwmp_type\n",
    "    display(grid)  \n",
    "       \n",
    "    for key, df in reversed(list(cleaned_dict.items())):        #Boucle de création de graphique pour chaque dataframe\n",
    "    \n",
    "        exchange_name_splitted = (str(key)).split(\"df_\")        #Extraction du nom de l'exchange\n",
    "        exchange_name = exchange_name_splitted[1]\n",
    "\n",
    "        candlestick = go.Figure(data=[go.Candlestick(x=df.index, #Création d'un graphique en chandelier japonais \n",
    "                                                      open=df['price_open'],\n",
    "                                                      high=df['price_high'],\n",
    "                                                      low=df['price_low'],\n",
    "                                                      close=df['price_close']\n",
    "                                                     )])\n",
    "\n",
    "        candlestick.update_layout(title=f'Exchange - [{exchange_name}]', #Mise à jour du graphique\n",
    "                                  yaxis_title='Price',\n",
    "                                  height=300,  \n",
    "                                  width=800,   \n",
    "                                  margin=dict(l=70, r=50, t=50, b=20)\n",
    "                                  )\n",
    "       \n",
    "        candlestick.add_trace(go.Scatter(x=df.index, y=df[f'{exchange_name}_vwap'], mode='lines', name='VWAP', line_color='blue'))      #Ajout courbe du Volume Weighted Average Price [VWAP]\n",
    "        \n",
    "        column_index = 9                                                                                                                #Index de la colonne 'vwmp_XXXer'(10ème colonne)\n",
    "        column_name = df.columns[column_index]                                                                                          #Nom de la colonne 'vwmp_upper' ou 'vwmp_lower' \n",
    "        candlestick.add_trace(go.Scatter(x=df.index, y=df.iloc[:, column_index], mode='lines', name=column_name, line_color='grey'))    #Ajout courbe du Volume Weighted Median Price [VWMP] avec nom de série associé\n",
    "        \n",
    "        candlestick.show()      #Affichage du graphique crée pour le dataframe\n",
    "    \n",
    "    \n",
    "#_EXPORT_CSV_#\n",
    "\n",
    "def export_csv(export_folder):      #Fonction en cas de clic sur le wigdget 'Exporter en csv'\n",
    "    \n",
    "    concatenated_dict = {}                                  #Dictionnaire concaténé = cleaned_dict + 'synthese'     \n",
    "    concatenated_dict = concatenate_output(cleaned_dict)    #Remplissage de concatenated_dict avec la fonction \"concatenate_output\"\n",
    "\n",
    "    for key, df in concatenated_dict.items():   \n",
    "\n",
    "        filename = (f\"{key}.csv\")                   #ID du fichier csv = nom du dataframe\n",
    "        file_path = export_folder + filename        #Chemin de l'enregistrement\n",
    "        df.to_csv(file_path, index=True)            #enregistre le dataframe en fichier .csv\n",
    "    \n",
    "    print(f\"Export des fichiers csv avec succès (voir arborescence ci-dessous): {export_folder}\")\n",
    "\n",
    "    return concatenated_dict \n",
    "\n",
    "def concatenate_output(cleaned_dict):       #Assemblage des résultats dans un dataframe 'synthese' \n",
    "    \n",
    "    df_output = None    #Déclaration d'un dataframe vide\n",
    "    \n",
    "    for key, df in cleaned_dict.items():        \n",
    "        \n",
    "        exchange_name_splitted = (str(key)).split(\"df_\")   #Extraction du nom de l'exchange dans le nom du dataframe\n",
    "        exchange_name = exchange_name_splitted[1]\n",
    "                        \n",
    "        if f'{exchange_name}_vwap' in df.columns:          #Check si la colonne 'vwap' existe dans le dataframe \n",
    "            \n",
    "            vwap_column = df[f'{exchange_name}_vwap']      #Identifie la colonne 'wvap' de l'exchange\n",
    "                        \n",
    "            if df_output is None:                          #1ère itération\n",
    "               df_output = vwap_column.to_frame()          #Copie de la colonne 'vwap' de l'exchange et intégration au dataframe de synthese\n",
    "            else:\n",
    "               df_output = pd.concat([df_output, vwap_column], axis=1)  #itération >= 2 : concaténe la colonne 'wvap' de l'exchange au dataframe de synthese\n",
    "    \n",
    "        concatenated_dict = cleaned_dict.copy()            #Duplication du dictionnaire d'entrée\n",
    "        concatenated_dict['synthese'] = df_output          #Intégration du dataframe 'synthese' dans le nouveau dictionnaire\n",
    "        \n",
    "    return concatenated_dict\n",
    "\n",
    "def on_export_button_click(b):      #Widget pour export csv\n",
    "    \n",
    "    notebook_dir = os.getcwd()                              #Chemin du notebook\n",
    "    now = datetime.now().strftime(\"%Y-%m-%d_%H-%M-%S\")      #Timestamp du lancement export\n",
    "    export_folder = (notebook_dir) + '/../output/Export_' + (now) + '_freq-'+ (dropdown_ladder.value) + '_vwmp-' + (dropdown_vwmp_type.value) +'/'      #Création d'un dossier 'export' horodaté avec les paramètres sélectionnées à l'export\n",
    "    \n",
    "    os.mkdir(export_folder)         #Création du dossier 'Export_YYYY-MM-DD_HH-MM-SS_freq-Xmin_vwmp-X'\n",
    "    export_csv(export_folder)       #Appel fonction 'export csv' \n",
    "\n",
    "export_button = widgets.Button(description=\"Exporter en CSV\")\n",
    "\n",
    "#_INITIALISATION_#\n",
    "\n",
    "cleaned_dict = {}    #Dictionnaire des données agrégées et nettoyées\n",
    "\n",
    "dropdown_ladder = select_time_ladder()              #init selection 'frequency' par défault\n",
    "dropdown_vwmp_type = select_vwmp_type()             #init selection 'vwmp_type' par défaut\n",
    "export_button.on_click(on_export_button_click)      #init button_click pour exporter en csv\n",
    "\n",
    "aggregation(dropdown_ladder.value, dropdown_vwmp_type.value)    #initialisation par défaut"
   ]
  },
  {
   "cell_type": "markdown",
   "metadata": {},
   "source": [
    "#### RESULTATS"
   ]
  },
  {
   "cell_type": "markdown",
   "metadata": {},
   "source": [
    "Dans le cas où les widgets ne fonctionnerait pas dans le jupyter notebook :"
   ]
  },
  {
   "cell_type": "markdown",
   "metadata": {},
   "source": [
    "1) Lancer l'aggrégation avec les paramètres souhaités et visualiser les résultats :"
   ]
  },
  {
   "cell_type": "code",
   "execution_count": 5,
   "metadata": {},
   "outputs": [
    {
     "name": "stdout",
     "output_type": "stream",
     "text": [
      "...calcul en cours\n"
     ]
    },
    {
     "name": "stderr",
     "output_type": "stream",
     "text": [
      "/var/folders/60/gt5hmsm11g79jy7g_8s5sg280000gn/T/ipykernel_12671/1675088802.py:58: DeprecationWarning:\n",
      "\n",
      "DataFrameGroupBy.apply operated on the grouping columns. This behavior is deprecated, and in a future version of pandas the grouping columns will be excluded from the operation. Either pass `include_groups=False` to exclude the groupings or explicitly select the grouping columns after groupby to silence this warning.\n",
      "\n",
      "/var/folders/60/gt5hmsm11g79jy7g_8s5sg280000gn/T/ipykernel_12671/1675088802.py:59: DeprecationWarning:\n",
      "\n",
      "DataFrameGroupBy.apply operated on the grouping columns. This behavior is deprecated, and in a future version of pandas the grouping columns will be excluded from the operation. Either pass `include_groups=False` to exclude the groupings or explicitly select the grouping columns after groupby to silence this warning.\n",
      "\n",
      "/var/folders/60/gt5hmsm11g79jy7g_8s5sg280000gn/T/ipykernel_12671/1675088802.py:60: DeprecationWarning:\n",
      "\n",
      "DataFrameGroupBy.apply operated on the grouping columns. This behavior is deprecated, and in a future version of pandas the grouping columns will be excluded from the operation. Either pass `include_groups=False` to exclude the groupings or explicitly select the grouping columns after groupby to silence this warning.\n",
      "\n",
      "/var/folders/60/gt5hmsm11g79jy7g_8s5sg280000gn/T/ipykernel_12671/1675088802.py:58: DeprecationWarning:\n",
      "\n",
      "DataFrameGroupBy.apply operated on the grouping columns. This behavior is deprecated, and in a future version of pandas the grouping columns will be excluded from the operation. Either pass `include_groups=False` to exclude the groupings or explicitly select the grouping columns after groupby to silence this warning.\n",
      "\n",
      "/var/folders/60/gt5hmsm11g79jy7g_8s5sg280000gn/T/ipykernel_12671/1675088802.py:59: DeprecationWarning:\n",
      "\n",
      "DataFrameGroupBy.apply operated on the grouping columns. This behavior is deprecated, and in a future version of pandas the grouping columns will be excluded from the operation. Either pass `include_groups=False` to exclude the groupings or explicitly select the grouping columns after groupby to silence this warning.\n",
      "\n",
      "/var/folders/60/gt5hmsm11g79jy7g_8s5sg280000gn/T/ipykernel_12671/1675088802.py:60: DeprecationWarning:\n",
      "\n",
      "DataFrameGroupBy.apply operated on the grouping columns. This behavior is deprecated, and in a future version of pandas the grouping columns will be excluded from the operation. Either pass `include_groups=False` to exclude the groupings or explicitly select the grouping columns after groupby to silence this warning.\n",
      "\n",
      "/var/folders/60/gt5hmsm11g79jy7g_8s5sg280000gn/T/ipykernel_12671/1675088802.py:58: DeprecationWarning:\n",
      "\n",
      "DataFrameGroupBy.apply operated on the grouping columns. This behavior is deprecated, and in a future version of pandas the grouping columns will be excluded from the operation. Either pass `include_groups=False` to exclude the groupings or explicitly select the grouping columns after groupby to silence this warning.\n",
      "\n",
      "/var/folders/60/gt5hmsm11g79jy7g_8s5sg280000gn/T/ipykernel_12671/1675088802.py:59: DeprecationWarning:\n",
      "\n",
      "DataFrameGroupBy.apply operated on the grouping columns. This behavior is deprecated, and in a future version of pandas the grouping columns will be excluded from the operation. Either pass `include_groups=False` to exclude the groupings or explicitly select the grouping columns after groupby to silence this warning.\n",
      "\n",
      "/var/folders/60/gt5hmsm11g79jy7g_8s5sg280000gn/T/ipykernel_12671/1675088802.py:60: DeprecationWarning:\n",
      "\n",
      "DataFrameGroupBy.apply operated on the grouping columns. This behavior is deprecated, and in a future version of pandas the grouping columns will be excluded from the operation. Either pass `include_groups=False` to exclude the groupings or explicitly select the grouping columns after groupby to silence this warning.\n",
      "\n",
      "/var/folders/60/gt5hmsm11g79jy7g_8s5sg280000gn/T/ipykernel_12671/1675088802.py:58: DeprecationWarning:\n",
      "\n",
      "DataFrameGroupBy.apply operated on the grouping columns. This behavior is deprecated, and in a future version of pandas the grouping columns will be excluded from the operation. Either pass `include_groups=False` to exclude the groupings or explicitly select the grouping columns after groupby to silence this warning.\n",
      "\n",
      "/var/folders/60/gt5hmsm11g79jy7g_8s5sg280000gn/T/ipykernel_12671/1675088802.py:59: DeprecationWarning:\n",
      "\n",
      "DataFrameGroupBy.apply operated on the grouping columns. This behavior is deprecated, and in a future version of pandas the grouping columns will be excluded from the operation. Either pass `include_groups=False` to exclude the groupings or explicitly select the grouping columns after groupby to silence this warning.\n",
      "\n",
      "/var/folders/60/gt5hmsm11g79jy7g_8s5sg280000gn/T/ipykernel_12671/1675088802.py:60: DeprecationWarning:\n",
      "\n",
      "DataFrameGroupBy.apply operated on the grouping columns. This behavior is deprecated, and in a future version of pandas the grouping columns will be excluded from the operation. Either pass `include_groups=False` to exclude the groupings or explicitly select the grouping columns after groupby to silence this warning.\n",
      "\n",
      "/var/folders/60/gt5hmsm11g79jy7g_8s5sg280000gn/T/ipykernel_12671/1675088802.py:58: DeprecationWarning:\n",
      "\n",
      "DataFrameGroupBy.apply operated on the grouping columns. This behavior is deprecated, and in a future version of pandas the grouping columns will be excluded from the operation. Either pass `include_groups=False` to exclude the groupings or explicitly select the grouping columns after groupby to silence this warning.\n",
      "\n",
      "/var/folders/60/gt5hmsm11g79jy7g_8s5sg280000gn/T/ipykernel_12671/1675088802.py:59: DeprecationWarning:\n",
      "\n",
      "DataFrameGroupBy.apply operated on the grouping columns. This behavior is deprecated, and in a future version of pandas the grouping columns will be excluded from the operation. Either pass `include_groups=False` to exclude the groupings or explicitly select the grouping columns after groupby to silence this warning.\n",
      "\n",
      "/var/folders/60/gt5hmsm11g79jy7g_8s5sg280000gn/T/ipykernel_12671/1675088802.py:60: DeprecationWarning:\n",
      "\n",
      "DataFrameGroupBy.apply operated on the grouping columns. This behavior is deprecated, and in a future version of pandas the grouping columns will be excluded from the operation. Either pass `include_groups=False` to exclude the groupings or explicitly select the grouping columns after groupby to silence this warning.\n",
      "\n",
      "/var/folders/60/gt5hmsm11g79jy7g_8s5sg280000gn/T/ipykernel_12671/1675088802.py:58: DeprecationWarning:\n",
      "\n",
      "DataFrameGroupBy.apply operated on the grouping columns. This behavior is deprecated, and in a future version of pandas the grouping columns will be excluded from the operation. Either pass `include_groups=False` to exclude the groupings or explicitly select the grouping columns after groupby to silence this warning.\n",
      "\n",
      "/var/folders/60/gt5hmsm11g79jy7g_8s5sg280000gn/T/ipykernel_12671/1675088802.py:59: DeprecationWarning:\n",
      "\n",
      "DataFrameGroupBy.apply operated on the grouping columns. This behavior is deprecated, and in a future version of pandas the grouping columns will be excluded from the operation. Either pass `include_groups=False` to exclude the groupings or explicitly select the grouping columns after groupby to silence this warning.\n",
      "\n",
      "/var/folders/60/gt5hmsm11g79jy7g_8s5sg280000gn/T/ipykernel_12671/1675088802.py:60: DeprecationWarning:\n",
      "\n",
      "DataFrameGroupBy.apply operated on the grouping columns. This behavior is deprecated, and in a future version of pandas the grouping columns will be excluded from the operation. Either pass `include_groups=False` to exclude the groupings or explicitly select the grouping columns after groupby to silence this warning.\n",
      "\n",
      "/var/folders/60/gt5hmsm11g79jy7g_8s5sg280000gn/T/ipykernel_12671/1675088802.py:58: DeprecationWarning:\n",
      "\n",
      "DataFrameGroupBy.apply operated on the grouping columns. This behavior is deprecated, and in a future version of pandas the grouping columns will be excluded from the operation. Either pass `include_groups=False` to exclude the groupings or explicitly select the grouping columns after groupby to silence this warning.\n",
      "\n",
      "/var/folders/60/gt5hmsm11g79jy7g_8s5sg280000gn/T/ipykernel_12671/1675088802.py:59: DeprecationWarning:\n",
      "\n",
      "DataFrameGroupBy.apply operated on the grouping columns. This behavior is deprecated, and in a future version of pandas the grouping columns will be excluded from the operation. Either pass `include_groups=False` to exclude the groupings or explicitly select the grouping columns after groupby to silence this warning.\n",
      "\n",
      "/var/folders/60/gt5hmsm11g79jy7g_8s5sg280000gn/T/ipykernel_12671/1675088802.py:60: DeprecationWarning:\n",
      "\n",
      "DataFrameGroupBy.apply operated on the grouping columns. This behavior is deprecated, and in a future version of pandas the grouping columns will be excluded from the operation. Either pass `include_groups=False` to exclude the groupings or explicitly select the grouping columns after groupby to silence this warning.\n",
      "\n",
      "/var/folders/60/gt5hmsm11g79jy7g_8s5sg280000gn/T/ipykernel_12671/1675088802.py:58: DeprecationWarning:\n",
      "\n",
      "DataFrameGroupBy.apply operated on the grouping columns. This behavior is deprecated, and in a future version of pandas the grouping columns will be excluded from the operation. Either pass `include_groups=False` to exclude the groupings or explicitly select the grouping columns after groupby to silence this warning.\n",
      "\n",
      "/Library/Frameworks/Python.framework/Versions/3.12/lib/python3.12/site-packages/numpy/lib/nanfunctions.py:1879: RuntimeWarning:\n",
      "\n",
      "Degrees of freedom <= 0 for slice.\n",
      "\n",
      "/var/folders/60/gt5hmsm11g79jy7g_8s5sg280000gn/T/ipykernel_12671/1675088802.py:59: DeprecationWarning:\n",
      "\n",
      "DataFrameGroupBy.apply operated on the grouping columns. This behavior is deprecated, and in a future version of pandas the grouping columns will be excluded from the operation. Either pass `include_groups=False` to exclude the groupings or explicitly select the grouping columns after groupby to silence this warning.\n",
      "\n",
      "/var/folders/60/gt5hmsm11g79jy7g_8s5sg280000gn/T/ipykernel_12671/1675088802.py:60: DeprecationWarning:\n",
      "\n",
      "DataFrameGroupBy.apply operated on the grouping columns. This behavior is deprecated, and in a future version of pandas the grouping columns will be excluded from the operation. Either pass `include_groups=False` to exclude the groupings or explicitly select the grouping columns after groupby to silence this warning.\n",
      "\n",
      "/var/folders/60/gt5hmsm11g79jy7g_8s5sg280000gn/T/ipykernel_12671/1675088802.py:58: DeprecationWarning:\n",
      "\n",
      "DataFrameGroupBy.apply operated on the grouping columns. This behavior is deprecated, and in a future version of pandas the grouping columns will be excluded from the operation. Either pass `include_groups=False` to exclude the groupings or explicitly select the grouping columns after groupby to silence this warning.\n",
      "\n",
      "/var/folders/60/gt5hmsm11g79jy7g_8s5sg280000gn/T/ipykernel_12671/1675088802.py:59: DeprecationWarning:\n",
      "\n",
      "DataFrameGroupBy.apply operated on the grouping columns. This behavior is deprecated, and in a future version of pandas the grouping columns will be excluded from the operation. Either pass `include_groups=False` to exclude the groupings or explicitly select the grouping columns after groupby to silence this warning.\n",
      "\n",
      "/var/folders/60/gt5hmsm11g79jy7g_8s5sg280000gn/T/ipykernel_12671/1675088802.py:60: DeprecationWarning:\n",
      "\n",
      "DataFrameGroupBy.apply operated on the grouping columns. This behavior is deprecated, and in a future version of pandas the grouping columns will be excluded from the operation. Either pass `include_groups=False` to exclude the groupings or explicitly select the grouping columns after groupby to silence this warning.\n",
      "\n"
     ]
    }
   ],
   "source": [
    "aggregation('60min', 'lower')   \n",
    "\n",
    "    #agg1 : ('60min', '30min', '5min')\n",
    "    #agg2 : ('lower', 'upper')"
   ]
  },
  {
   "cell_type": "markdown",
   "metadata": {},
   "source": [
    "2) Exporter les données avec les paramètres sélectionnés"
   ]
  },
  {
   "cell_type": "code",
   "execution_count": null,
   "metadata": {},
   "outputs": [
    {
     "name": "stdout",
     "output_type": "stream",
     "text": [
      "Export des fichiers csv avec succès (voir arborescence ci-dessous): /Users/mariusayrault/GitHub/Sorb-Data-Analytics/projet-python/livrable/../output/Export_2024-04-21_20-52-21_freq-60min_vwmp-lower/\n"
     ]
    }
   ],
   "source": [
    "b =True\n",
    "on_export_button_click(b)"
   ]
  },
  {
   "cell_type": "markdown",
   "metadata": {},
   "source": [
    "Arborescence du projet : "
   ]
  },
  {
   "cell_type": "code",
   "execution_count": null,
   "metadata": {},
   "outputs": [],
   "source": [
    "##  .\n",
    "##  ├── data\n",
    "##  │   ├── bfly.csv\n",
    "##  │   ├── bfnx.csv\n",
    "##  │   ├── bnus.csv\n",
    "##  │   ├── btrx.csv\n",
    "##  │   ├── cbse.csv\n",
    "##  │   ├── gmni.csv\n",
    "##  │   ├── itbi.csv\n",
    "##  │   ├── krkn.csv\n",
    "##  │   ├── lmax.csv\n",
    "##  │   ├── okcn.csv\n",
    "##  │   └── stmp.csv\n",
    "##  ├── livrable\n",
    "##  │   └── livrable.ipynb\n",
    "##  ├── output\n",
    "##  │   ├── Export_YYYY-MM-DD_HH-MM-SS_freq-Xmin_vwmp-X\n",
    "##  │   │   ├── df_all.csv\n",
    "##  │   │   ├── df_bfly.csv\n",
    "##  │   │   ├── df_bfnx.csv\n",
    "##  │   │   ├── df_bnus.csv\n",
    "##  │   │   ├── df_btrx.csv\n",
    "##  │   │   ├── df_cbse.csv\n",
    "##  │   │   ├── df_gmni.csv\n",
    "##  │   │   ├── df_itbi.csv\n",
    "##  │   │   ├── df_krkn.csv\n",
    "##  │   │   ├── df_lmax.csv\n",
    "##  │   │   ├── df_okcn.csv\n",
    "##  │   │   ├── df_stmp.csv\n",
    "##  │   │   └── synthese.csv\n",
    "##  └── readme.txt"
   ]
  }
 ],
 "metadata": {
  "kernelspec": {
   "display_name": "Python 3 (ipykernel)",
   "language": "python",
   "name": "python3"
  },
  "language_info": {
   "codemirror_mode": {
    "name": "ipython",
    "version": 3
   },
   "file_extension": ".py",
   "mimetype": "text/x-python",
   "name": "python",
   "nbconvert_exporter": "python",
   "pygments_lexer": "ipython3",
   "version": "3.12.2"
  }
 },
 "nbformat": 4,
 "nbformat_minor": 4
}

{
 "cells": [
  {
   "cell_type": "markdown",
   "metadata": {},
   "source": [
    "#### LIVRABLE PROJET PYTHON"
   ]
  },
  {
   "cell_type": "markdown",
   "metadata": {},
   "source": [
    "#### INPUT\n",
    "1) Import des libraires"
   ]
  },
  {
   "cell_type": "code",
   "execution_count": 2,
   "metadata": {},
   "outputs": [],
   "source": [
    "import os\n",
    "from datetime import datetime \n",
    "import numpy as np\n",
    "import pandas as pd\n",
    "import ipywidgets as widgets\n",
    "from IPython.display import display, clear_output\n",
    "import plotly.graph_objects as go"
   ]
  },
  {
   "cell_type": "markdown",
   "metadata": {},
   "source": [
    "2) Création des dataframes à partir des fichiers csv"
   ]
  },
  {
   "cell_type": "code",
   "execution_count": 3,
   "metadata": {},
   "outputs": [
    {
     "name": "stdout",
     "output_type": "stream",
     "text": [
      "df_stmp\n",
      "            timestamp    price  amount\n",
      "0 2021-02-24 23:59:54  49754.0   0.753\n",
      "1 2021-02-24 23:59:52  49754.0   0.116\n",
      "2 2021-02-24 23:59:52  49754.0   0.104\n",
      "\n",
      "\n",
      "df_lmax\n",
      "                timestamp    price  amount\n",
      "0 2021-02-24 23:59:59.691  49767.0    0.01\n",
      "1 2021-02-24 23:59:42.786  49752.0    0.06\n",
      "2 2021-02-24 23:59:42.785  49752.0    0.30\n",
      "\n",
      "\n",
      "df_gmni\n",
      "                timestamp     price    amount\n",
      "0 2021-02-24 23:59:53.406  49773.07  0.003435\n",
      "1 2021-02-24 23:59:53.406  49766.06  0.051690\n",
      "2 2021-02-24 23:59:47.280  49746.16  0.122833\n",
      "\n",
      "\n",
      "df_itbi\n",
      "                timestamp     price  amount\n",
      "0 2021-02-24 23:59:48.157  49753.50  0.0001\n",
      "1 2021-02-24 23:59:45.463  49753.75  0.0004\n",
      "2 2021-02-24 23:59:38.887  49734.50  0.0001\n",
      "\n",
      "\n",
      "df_okcn\n",
      "                timestamp     price  amount\n",
      "0 2021-02-24 23:59:57.847  49724.93    0.02\n",
      "1 2021-02-24 23:59:49.743  49730.33    0.02\n",
      "2 2021-02-24 23:59:35.623  49706.87    0.02\n",
      "\n",
      "\n",
      "df_bfnx\n",
      "                timestamp    price  amount\n",
      "0 2021-02-24 23:59:58.181  49716.0   0.010\n",
      "1 2021-02-24 23:59:58.176  49713.0   0.005\n",
      "2 2021-02-24 23:59:51.526  49715.0   0.005\n",
      "\n",
      "\n",
      "df_btrx\n",
      "                timestamp      price    amount\n",
      "0 2021-02-24 23:59:48.910  49742.749  0.001054\n",
      "1 2021-02-24 23:59:35.050  49734.460  0.009038\n",
      "2 2021-02-24 23:59:34.110  49751.270  0.000386\n",
      "\n",
      "\n",
      "df_bfly\n",
      "                timestamp     price  amount\n",
      "0 2021-02-24 23:59:33.720  49712.15  0.0054\n",
      "1 2021-02-24 23:44:16.980  49603.44  0.0770\n",
      "2 2021-02-24 22:32:39.320  48864.19  0.1200\n",
      "\n",
      "\n",
      "df_bnus\n",
      "                timestamp     price    amount\n",
      "0 2021-02-24 23:59:58.164  49714.50  0.004413\n",
      "1 2021-02-24 23:59:57.547  49727.83  0.001496\n",
      "2 2021-02-24 23:59:57.244  49727.83  0.002597\n",
      "\n",
      "\n",
      "df_cbse\n",
      "                timestamp     price   amount\n",
      "0 2021-02-24 23:59:59.873  49737.82  0.00144\n",
      "1 2021-02-24 23:59:59.721  49737.82  0.00037\n",
      "2 2021-02-24 23:59:59.121  49737.82  0.00294\n",
      "\n",
      "\n",
      "df_krkn\n",
      "                timestamp    price    amount\n",
      "0 2021-02-24 23:59:58.649  49727.7  0.000225\n",
      "1 2021-02-24 23:59:49.807  49739.9  0.000224\n",
      "2 2021-02-24 23:59:43.159  49736.3  0.014493\n",
      "\n",
      "\n"
     ]
    }
   ],
   "source": [
    "def load_data_from_csv():\n",
    "\n",
    "    notebook_dir = os.getcwd()                          #Chemin absolu du notebook\n",
    "    data_dir = os.path.join(notebook_dir, \"../data\")    #Construction du chemin absolu vers le dossier 'data'\n",
    "    csv_files = os.listdir(data_dir)                    #Liste des fichiers dans le dossier 'data'\n",
    "\n",
    "    dataframes_dict = {}                                #Déclaration dictionnaire pour contenir les dataframes\n",
    "    \n",
    "    for file in csv_files:                              #Boucle pour chaque fichier .csv du dossier 'data' : \n",
    "        if file.endswith('.csv'):\n",
    "            \n",
    "            file_path = os.path.join(data_dir, file) \n",
    "            df = pd.read_csv(file_path)                         #Création du dataframe\n",
    "\n",
    "            file_name = os.path.splitext(file)[0]\n",
    "            dataframes_dict['df_' + str(file_name)] = df        #Renommage du dataframe avec préfixe \"df_\" + 'nom_du_fichier'\n",
    "            \n",
    "            df['timestamp'] = pd.to_datetime(df['timestamp'])   #Conversion 'timestamp' en type Datetime    \n",
    "\n",
    "            print(f\"df_{file_name}\")                            #Affichage du df créé pour vérification\n",
    "            print(df.head(3))   \n",
    "            print(\"\\n\")\n",
    "\n",
    "    return dataframes_dict\n",
    "\n",
    "dataframes_dict = load_data_from_csv()"
   ]
  },
  {
   "cell_type": "markdown",
   "metadata": {},
   "source": [
    "#### MANIPULATION DES DONNEES"
   ]
  },
  {
   "cell_type": "markdown",
   "metadata": {},
   "source": [
    "1) Création d'un dataframe 'df_all' et intégration dans le dictionnaire"
   ]
  },
  {
   "cell_type": "code",
   "execution_count": 4,
   "metadata": {},
   "outputs": [
    {
     "name": "stdout",
     "output_type": "stream",
     "text": [
      "Concaténation des dataframes :\n",
      "['df_stmp', 'df_lmax', 'df_gmni', 'df_itbi', 'df_okcn', 'df_bfnx', 'df_btrx', 'df_bfly', 'df_bnus', 'df_cbse', 'df_krkn']\n",
      "\n",
      "'df_all' :\n"
     ]
    },
    {
     "data": {
      "text/html": [
       "<div>\n",
       "<style scoped>\n",
       "    .dataframe tbody tr th:only-of-type {\n",
       "        vertical-align: middle;\n",
       "    }\n",
       "\n",
       "    .dataframe tbody tr th {\n",
       "        vertical-align: top;\n",
       "    }\n",
       "\n",
       "    .dataframe thead th {\n",
       "        text-align: right;\n",
       "    }\n",
       "</style>\n",
       "<table border=\"1\" class=\"dataframe\">\n",
       "  <thead>\n",
       "    <tr style=\"text-align: right;\">\n",
       "      <th></th>\n",
       "      <th>timestamp</th>\n",
       "      <th>price</th>\n",
       "      <th>amount</th>\n",
       "    </tr>\n",
       "  </thead>\n",
       "  <tbody>\n",
       "    <tr>\n",
       "      <th>0</th>\n",
       "      <td>2021-02-24 23:59:54.000</td>\n",
       "      <td>49754.0</td>\n",
       "      <td>0.753000</td>\n",
       "    </tr>\n",
       "    <tr>\n",
       "      <th>1</th>\n",
       "      <td>2021-02-24 23:59:52.000</td>\n",
       "      <td>49754.0</td>\n",
       "      <td>0.116000</td>\n",
       "    </tr>\n",
       "    <tr>\n",
       "      <th>2</th>\n",
       "      <td>2021-02-24 23:59:52.000</td>\n",
       "      <td>49754.0</td>\n",
       "      <td>0.104000</td>\n",
       "    </tr>\n",
       "    <tr>\n",
       "      <th>3</th>\n",
       "      <td>2021-02-24 23:59:49.000</td>\n",
       "      <td>49754.0</td>\n",
       "      <td>0.016000</td>\n",
       "    </tr>\n",
       "    <tr>\n",
       "      <th>4</th>\n",
       "      <td>2021-02-24 23:59:45.000</td>\n",
       "      <td>49754.0</td>\n",
       "      <td>0.011000</td>\n",
       "    </tr>\n",
       "    <tr>\n",
       "      <th>...</th>\n",
       "      <td>...</td>\n",
       "      <td>...</td>\n",
       "      <td>...</td>\n",
       "    </tr>\n",
       "    <tr>\n",
       "      <th>1136788</th>\n",
       "      <td>2021-02-24 00:00:11.182</td>\n",
       "      <td>48899.8</td>\n",
       "      <td>0.023270</td>\n",
       "    </tr>\n",
       "    <tr>\n",
       "      <th>1136789</th>\n",
       "      <td>2021-02-24 00:00:10.373</td>\n",
       "      <td>48899.9</td>\n",
       "      <td>0.200000</td>\n",
       "    </tr>\n",
       "    <tr>\n",
       "      <th>1136790</th>\n",
       "      <td>2021-02-24 00:00:07.818</td>\n",
       "      <td>48899.9</td>\n",
       "      <td>0.018278</td>\n",
       "    </tr>\n",
       "    <tr>\n",
       "      <th>1136791</th>\n",
       "      <td>2021-02-24 00:00:02.351</td>\n",
       "      <td>48899.9</td>\n",
       "      <td>0.002045</td>\n",
       "    </tr>\n",
       "    <tr>\n",
       "      <th>1136792</th>\n",
       "      <td>2021-02-24 00:00:01.115</td>\n",
       "      <td>48899.6</td>\n",
       "      <td>0.018780</td>\n",
       "    </tr>\n",
       "  </tbody>\n",
       "</table>\n",
       "<p>1136793 rows × 3 columns</p>\n",
       "</div>"
      ],
      "text/plain": [
       "                      timestamp    price    amount\n",
       "0       2021-02-24 23:59:54.000  49754.0  0.753000\n",
       "1       2021-02-24 23:59:52.000  49754.0  0.116000\n",
       "2       2021-02-24 23:59:52.000  49754.0  0.104000\n",
       "3       2021-02-24 23:59:49.000  49754.0  0.016000\n",
       "4       2021-02-24 23:59:45.000  49754.0  0.011000\n",
       "...                         ...      ...       ...\n",
       "1136788 2021-02-24 00:00:11.182  48899.8  0.023270\n",
       "1136789 2021-02-24 00:00:10.373  48899.9  0.200000\n",
       "1136790 2021-02-24 00:00:07.818  48899.9  0.018278\n",
       "1136791 2021-02-24 00:00:02.351  48899.9  0.002045\n",
       "1136792 2021-02-24 00:00:01.115  48899.6  0.018780\n",
       "\n",
       "[1136793 rows x 3 columns]"
      ]
     },
     "metadata": {},
     "output_type": "display_data"
    },
    {
     "name": "stdout",
     "output_type": "stream",
     "text": [
      "Intégration dans le dictionnaire :\n",
      "['df_stmp', 'df_lmax', 'df_gmni', 'df_itbi', 'df_okcn', 'df_bfnx', 'df_btrx', 'df_bfly', 'df_bnus', 'df_cbse', 'df_krkn', 'df_all']\n",
      "\n"
     ]
    }
   ],
   "source": [
    "\n",
    "def global_df_creation(): \n",
    "    \n",
    "    dfs_to_concat = list(dataframes_dict.values())      #Identification des dataframes à concaténer\n",
    "    print(f\"Concaténation des dataframes :\\n{list(dataframes_dict)}\\n\")\n",
    "    \n",
    "    df_all = pd.concat(dfs_to_concat, ignore_index=True)        #Concaténation verticale -> pas de perte de données avec la fonction concat, redéfinition des index pour avoir une clé unique par transaction\n",
    "    print(\"'df_all' :\")     \n",
    "    display(df_all)     #Vérification : '2021-02-24 23:59:52.000' *2 dans le display = transactions conservées      \n",
    "\n",
    "    dataframes_dict['df_all']= df_all       #Intégration de 'df_all' dans le dictionnaire\n",
    "    print(f\"Intégration dans le dictionnaire :\\n{list(dataframes_dict)}\\n\")     \n",
    "    \n",
    "global_df_creation() \n"
   ]
  },
  {
   "cell_type": "markdown",
   "metadata": {},
   "source": [
    "#### CALCUL"
   ]
  },
  {
   "cell_type": "markdown",
   "metadata": {},
   "source": [
    "1) Agrégation des données et calcul selon paramètres sélectionnés"
   ]
  },
  {
   "cell_type": "code",
   "execution_count": 5,
   "metadata": {},
   "outputs": [
    {
     "ename": "KeyError",
     "evalue": "'The grouper name timestamp is not found'",
     "output_type": "error",
     "traceback": [
      "\u001b[0;31m---------------------------------------------------------------------------\u001b[0m",
      "\u001b[0;31mKeyError\u001b[0m                                  Traceback (most recent call last)",
      "Cell \u001b[0;32mIn[5], line 104\u001b[0m\n\u001b[1;32m     98\u001b[0m \u001b[38;5;66;03m# Exécution principale\u001b[39;00m\n\u001b[1;32m     99\u001b[0m \u001b[38;5;28;01mif\u001b[39;00m \u001b[38;5;18m__name__\u001b[39m \u001b[38;5;241m==\u001b[39m \u001b[38;5;124m\"\u001b[39m\u001b[38;5;124m__main__\u001b[39m\u001b[38;5;124m\"\u001b[39m:\n\u001b[1;32m    100\u001b[0m     \u001b[38;5;66;03m# Charger les données initiales (dataframes_dict)\u001b[39;00m\n\u001b[1;32m    101\u001b[0m     \u001b[38;5;66;03m#dataframes_dict = load_data_from_csv()  # Assurez-vous d'avoir cette fonction définie\u001b[39;00m\n\u001b[1;32m    102\u001b[0m \n\u001b[1;32m    103\u001b[0m     \u001b[38;5;66;03m# Démarrer l'application\u001b[39;00m\n\u001b[0;32m--> 104\u001b[0m     \u001b[43mmain\u001b[49m\u001b[43m(\u001b[49m\u001b[43mdataframes_dict\u001b[49m\u001b[43m)\u001b[49m\n",
      "Cell \u001b[0;32mIn[5], line 96\u001b[0m, in \u001b[0;36mmain\u001b[0;34m(dataframes_dict)\u001b[0m\n\u001b[1;32m     93\u001b[0m dropdown_vwmp_type\u001b[38;5;241m.\u001b[39mobserve(update_data, names\u001b[38;5;241m=\u001b[39m\u001b[38;5;124m'\u001b[39m\u001b[38;5;124mvalue\u001b[39m\u001b[38;5;124m'\u001b[39m)\n\u001b[1;32m     95\u001b[0m display(dropdown_ladder, dropdown_vwmp_type, export_button)\n\u001b[0;32m---> 96\u001b[0m \u001b[43mupdate_data\u001b[49m\u001b[43m(\u001b[49m\u001b[38;5;28;43;01mNone\u001b[39;49;00m\u001b[43m)\u001b[49m\n",
      "Cell \u001b[0;32mIn[5], line 89\u001b[0m, in \u001b[0;36mmain.<locals>.update_data\u001b[0;34m(change)\u001b[0m\n\u001b[1;32m     87\u001b[0m \u001b[38;5;28;01mdef\u001b[39;00m \u001b[38;5;21mupdate_data\u001b[39m(change):\n\u001b[1;32m     88\u001b[0m     clear_output()\n\u001b[0;32m---> 89\u001b[0m     processed_dict \u001b[38;5;241m=\u001b[39m \u001b[43mprocess_data\u001b[49m\u001b[43m(\u001b[49m\u001b[43mdataframes_dict\u001b[49m\u001b[43m,\u001b[49m\u001b[43m \u001b[49m\u001b[43mdropdown_ladder\u001b[49m\u001b[38;5;241;43m.\u001b[39;49m\u001b[43mvalue\u001b[49m\u001b[43m,\u001b[49m\u001b[43m \u001b[49m\u001b[43mdropdown_vwmp_type\u001b[49m\u001b[38;5;241;43m.\u001b[39;49m\u001b[43mvalue\u001b[49m\u001b[43m)\u001b[49m\n\u001b[1;32m     90\u001b[0m     visualize_data(processed_dict)\n",
      "Cell \u001b[0;32mIn[5], line 19\u001b[0m, in \u001b[0;36mprocess_data\u001b[0;34m(dataframes_dict, frequency, vwmp_type)\u001b[0m\n\u001b[1;32m     17\u001b[0m     aggregated_df \u001b[38;5;241m=\u001b[39m aggregate_data(df, frequency)\n\u001b[1;32m     18\u001b[0m     cleaned_df \u001b[38;5;241m=\u001b[39m clean_data(aggregated_df)\n\u001b[0;32m---> 19\u001b[0m     processed_df \u001b[38;5;241m=\u001b[39m \u001b[43mcalculate_metrics\u001b[49m\u001b[43m(\u001b[49m\u001b[43mcleaned_df\u001b[49m\u001b[43m,\u001b[49m\u001b[43m \u001b[49m\u001b[43mfrequency\u001b[49m\u001b[43m,\u001b[49m\u001b[43m \u001b[49m\u001b[43mvwmp_type\u001b[49m\u001b[43m,\u001b[49m\u001b[43m \u001b[49m\u001b[43mexchange_name\u001b[49m\u001b[43m)\u001b[49m\n\u001b[1;32m     20\u001b[0m     aggregated_dict[key] \u001b[38;5;241m=\u001b[39m processed_df\n\u001b[1;32m     22\u001b[0m \u001b[38;5;28;01mreturn\u001b[39;00m aggregated_dict\n",
      "Cell \u001b[0;32mIn[5], line 40\u001b[0m, in \u001b[0;36mcalculate_metrics\u001b[0;34m(df, frequency, vwmp_type, exchange_name)\u001b[0m\n\u001b[1;32m     39\u001b[0m \u001b[38;5;28;01mdef\u001b[39;00m \u001b[38;5;21mcalculate_metrics\u001b[39m(df, frequency, vwmp_type, exchange_name):\n\u001b[0;32m---> 40\u001b[0m     df[\u001b[38;5;124mf\u001b[39m\u001b[38;5;124m'\u001b[39m\u001b[38;5;132;01m{\u001b[39;00mexchange_name\u001b[38;5;132;01m}\u001b[39;00m\u001b[38;5;124m_vwap\u001b[39m\u001b[38;5;124m'\u001b[39m] \u001b[38;5;241m=\u001b[39m \u001b[43mdf\u001b[49m\u001b[38;5;241;43m.\u001b[39;49m\u001b[43mgroupby\u001b[49m\u001b[43m(\u001b[49m\u001b[43mpd\u001b[49m\u001b[38;5;241;43m.\u001b[39;49m\u001b[43mGrouper\u001b[49m\u001b[43m(\u001b[49m\u001b[43mkey\u001b[49m\u001b[38;5;241;43m=\u001b[39;49m\u001b[38;5;124;43m'\u001b[39;49m\u001b[38;5;124;43mtimestamp\u001b[39;49m\u001b[38;5;124;43m'\u001b[39;49m\u001b[43m,\u001b[49m\u001b[43m \u001b[49m\u001b[43mfreq\u001b[49m\u001b[38;5;241;43m=\u001b[39;49m\u001b[43mfrequency\u001b[49m\u001b[43m)\u001b[49m\u001b[43m)\u001b[49m[\u001b[38;5;124m'\u001b[39m\u001b[38;5;124mweighted_volume\u001b[39m\u001b[38;5;124m'\u001b[39m]\u001b[38;5;241m.\u001b[39mtransform(\u001b[38;5;124m'\u001b[39m\u001b[38;5;124msum\u001b[39m\u001b[38;5;124m'\u001b[39m) \u001b[38;5;241m/\u001b[39m df\u001b[38;5;241m.\u001b[39mgroupby(pd\u001b[38;5;241m.\u001b[39mGrouper(key\u001b[38;5;241m=\u001b[39m\u001b[38;5;124m'\u001b[39m\u001b[38;5;124mtimestamp\u001b[39m\u001b[38;5;124m'\u001b[39m, freq\u001b[38;5;241m=\u001b[39mfrequency))[\u001b[38;5;124m'\u001b[39m\u001b[38;5;124mamount\u001b[39m\u001b[38;5;124m'\u001b[39m]\u001b[38;5;241m.\u001b[39mtransform(\u001b[38;5;124m'\u001b[39m\u001b[38;5;124msum\u001b[39m\u001b[38;5;124m'\u001b[39m)\n\u001b[1;32m     41\u001b[0m     df[\u001b[38;5;124m'\u001b[39m\u001b[38;5;124mecart_type\u001b[39m\u001b[38;5;124m'\u001b[39m] \u001b[38;5;241m=\u001b[39m df\u001b[38;5;241m.\u001b[39mgroupby(pd\u001b[38;5;241m.\u001b[39mGrouper(key\u001b[38;5;241m=\u001b[39m\u001b[38;5;124m'\u001b[39m\u001b[38;5;124mtimestamp\u001b[39m\u001b[38;5;124m'\u001b[39m, freq\u001b[38;5;241m=\u001b[39mfrequency))[\u001b[38;5;124m'\u001b[39m\u001b[38;5;124mprice\u001b[39m\u001b[38;5;124m'\u001b[39m]\u001b[38;5;241m.\u001b[39mtransform(np\u001b[38;5;241m.\u001b[39mnanstd)\n\u001b[1;32m     43\u001b[0m     series_sorted \u001b[38;5;241m=\u001b[39m df\u001b[38;5;241m.\u001b[39msort_values(\u001b[38;5;124m'\u001b[39m\u001b[38;5;124mamount\u001b[39m\u001b[38;5;124m'\u001b[39m)\n",
      "File \u001b[0;32m/Library/Frameworks/Python.framework/Versions/3.12/lib/python3.12/site-packages/pandas/core/frame.py:9170\u001b[0m, in \u001b[0;36mDataFrame.groupby\u001b[0;34m(self, by, axis, level, as_index, sort, group_keys, observed, dropna)\u001b[0m\n\u001b[1;32m   9167\u001b[0m \u001b[38;5;28;01mif\u001b[39;00m level \u001b[38;5;129;01mis\u001b[39;00m \u001b[38;5;28;01mNone\u001b[39;00m \u001b[38;5;129;01mand\u001b[39;00m by \u001b[38;5;129;01mis\u001b[39;00m \u001b[38;5;28;01mNone\u001b[39;00m:\n\u001b[1;32m   9168\u001b[0m     \u001b[38;5;28;01mraise\u001b[39;00m \u001b[38;5;167;01mTypeError\u001b[39;00m(\u001b[38;5;124m\"\u001b[39m\u001b[38;5;124mYou have to supply one of \u001b[39m\u001b[38;5;124m'\u001b[39m\u001b[38;5;124mby\u001b[39m\u001b[38;5;124m'\u001b[39m\u001b[38;5;124m and \u001b[39m\u001b[38;5;124m'\u001b[39m\u001b[38;5;124mlevel\u001b[39m\u001b[38;5;124m'\u001b[39m\u001b[38;5;124m\"\u001b[39m)\n\u001b[0;32m-> 9170\u001b[0m \u001b[38;5;28;01mreturn\u001b[39;00m \u001b[43mDataFrameGroupBy\u001b[49m\u001b[43m(\u001b[49m\n\u001b[1;32m   9171\u001b[0m \u001b[43m    \u001b[49m\u001b[43mobj\u001b[49m\u001b[38;5;241;43m=\u001b[39;49m\u001b[38;5;28;43mself\u001b[39;49m\u001b[43m,\u001b[49m\n\u001b[1;32m   9172\u001b[0m \u001b[43m    \u001b[49m\u001b[43mkeys\u001b[49m\u001b[38;5;241;43m=\u001b[39;49m\u001b[43mby\u001b[49m\u001b[43m,\u001b[49m\n\u001b[1;32m   9173\u001b[0m \u001b[43m    \u001b[49m\u001b[43maxis\u001b[49m\u001b[38;5;241;43m=\u001b[39;49m\u001b[43maxis\u001b[49m\u001b[43m,\u001b[49m\n\u001b[1;32m   9174\u001b[0m \u001b[43m    \u001b[49m\u001b[43mlevel\u001b[49m\u001b[38;5;241;43m=\u001b[39;49m\u001b[43mlevel\u001b[49m\u001b[43m,\u001b[49m\n\u001b[1;32m   9175\u001b[0m \u001b[43m    \u001b[49m\u001b[43mas_index\u001b[49m\u001b[38;5;241;43m=\u001b[39;49m\u001b[43mas_index\u001b[49m\u001b[43m,\u001b[49m\n\u001b[1;32m   9176\u001b[0m \u001b[43m    \u001b[49m\u001b[43msort\u001b[49m\u001b[38;5;241;43m=\u001b[39;49m\u001b[43msort\u001b[49m\u001b[43m,\u001b[49m\n\u001b[1;32m   9177\u001b[0m \u001b[43m    \u001b[49m\u001b[43mgroup_keys\u001b[49m\u001b[38;5;241;43m=\u001b[39;49m\u001b[43mgroup_keys\u001b[49m\u001b[43m,\u001b[49m\n\u001b[1;32m   9178\u001b[0m \u001b[43m    \u001b[49m\u001b[43mobserved\u001b[49m\u001b[38;5;241;43m=\u001b[39;49m\u001b[43mobserved\u001b[49m\u001b[43m,\u001b[49m\n\u001b[1;32m   9179\u001b[0m \u001b[43m    \u001b[49m\u001b[43mdropna\u001b[49m\u001b[38;5;241;43m=\u001b[39;49m\u001b[43mdropna\u001b[49m\u001b[43m,\u001b[49m\n\u001b[1;32m   9180\u001b[0m \u001b[43m\u001b[49m\u001b[43m)\u001b[49m\n",
      "File \u001b[0;32m/Library/Frameworks/Python.framework/Versions/3.12/lib/python3.12/site-packages/pandas/core/groupby/groupby.py:1329\u001b[0m, in \u001b[0;36mGroupBy.__init__\u001b[0;34m(self, obj, keys, axis, level, grouper, exclusions, selection, as_index, sort, group_keys, observed, dropna)\u001b[0m\n\u001b[1;32m   1326\u001b[0m \u001b[38;5;28mself\u001b[39m\u001b[38;5;241m.\u001b[39mdropna \u001b[38;5;241m=\u001b[39m dropna\n\u001b[1;32m   1328\u001b[0m \u001b[38;5;28;01mif\u001b[39;00m grouper \u001b[38;5;129;01mis\u001b[39;00m \u001b[38;5;28;01mNone\u001b[39;00m:\n\u001b[0;32m-> 1329\u001b[0m     grouper, exclusions, obj \u001b[38;5;241m=\u001b[39m \u001b[43mget_grouper\u001b[49m\u001b[43m(\u001b[49m\n\u001b[1;32m   1330\u001b[0m \u001b[43m        \u001b[49m\u001b[43mobj\u001b[49m\u001b[43m,\u001b[49m\n\u001b[1;32m   1331\u001b[0m \u001b[43m        \u001b[49m\u001b[43mkeys\u001b[49m\u001b[43m,\u001b[49m\n\u001b[1;32m   1332\u001b[0m \u001b[43m        \u001b[49m\u001b[43maxis\u001b[49m\u001b[38;5;241;43m=\u001b[39;49m\u001b[43maxis\u001b[49m\u001b[43m,\u001b[49m\n\u001b[1;32m   1333\u001b[0m \u001b[43m        \u001b[49m\u001b[43mlevel\u001b[49m\u001b[38;5;241;43m=\u001b[39;49m\u001b[43mlevel\u001b[49m\u001b[43m,\u001b[49m\n\u001b[1;32m   1334\u001b[0m \u001b[43m        \u001b[49m\u001b[43msort\u001b[49m\u001b[38;5;241;43m=\u001b[39;49m\u001b[43msort\u001b[49m\u001b[43m,\u001b[49m\n\u001b[1;32m   1335\u001b[0m \u001b[43m        \u001b[49m\u001b[43mobserved\u001b[49m\u001b[38;5;241;43m=\u001b[39;49m\u001b[38;5;28;43;01mFalse\u001b[39;49;00m\u001b[43m \u001b[49m\u001b[38;5;28;43;01mif\u001b[39;49;00m\u001b[43m \u001b[49m\u001b[43mobserved\u001b[49m\u001b[43m \u001b[49m\u001b[38;5;129;43;01mis\u001b[39;49;00m\u001b[43m \u001b[49m\u001b[43mlib\u001b[49m\u001b[38;5;241;43m.\u001b[39;49m\u001b[43mno_default\u001b[49m\u001b[43m \u001b[49m\u001b[38;5;28;43;01melse\u001b[39;49;00m\u001b[43m \u001b[49m\u001b[43mobserved\u001b[49m\u001b[43m,\u001b[49m\n\u001b[1;32m   1336\u001b[0m \u001b[43m        \u001b[49m\u001b[43mdropna\u001b[49m\u001b[38;5;241;43m=\u001b[39;49m\u001b[38;5;28;43mself\u001b[39;49m\u001b[38;5;241;43m.\u001b[39;49m\u001b[43mdropna\u001b[49m\u001b[43m,\u001b[49m\n\u001b[1;32m   1337\u001b[0m \u001b[43m    \u001b[49m\u001b[43m)\u001b[49m\n\u001b[1;32m   1339\u001b[0m \u001b[38;5;28;01mif\u001b[39;00m observed \u001b[38;5;129;01mis\u001b[39;00m lib\u001b[38;5;241m.\u001b[39mno_default:\n\u001b[1;32m   1340\u001b[0m     \u001b[38;5;28;01mif\u001b[39;00m \u001b[38;5;28many\u001b[39m(ping\u001b[38;5;241m.\u001b[39m_passed_categorical \u001b[38;5;28;01mfor\u001b[39;00m ping \u001b[38;5;129;01min\u001b[39;00m grouper\u001b[38;5;241m.\u001b[39mgroupings):\n",
      "File \u001b[0;32m/Library/Frameworks/Python.framework/Versions/3.12/lib/python3.12/site-packages/pandas/core/groupby/grouper.py:929\u001b[0m, in \u001b[0;36mget_grouper\u001b[0;34m(obj, key, axis, level, sort, observed, validate, dropna)\u001b[0m\n\u001b[1;32m    927\u001b[0m \u001b[38;5;66;03m# a passed-in Grouper, directly convert\u001b[39;00m\n\u001b[1;32m    928\u001b[0m \u001b[38;5;28;01mif\u001b[39;00m \u001b[38;5;28misinstance\u001b[39m(key, Grouper):\n\u001b[0;32m--> 929\u001b[0m     grouper, obj \u001b[38;5;241m=\u001b[39m \u001b[43mkey\u001b[49m\u001b[38;5;241;43m.\u001b[39;49m\u001b[43m_get_grouper\u001b[49m\u001b[43m(\u001b[49m\u001b[43mobj\u001b[49m\u001b[43m,\u001b[49m\u001b[43m \u001b[49m\u001b[43mvalidate\u001b[49m\u001b[38;5;241;43m=\u001b[39;49m\u001b[38;5;28;43;01mFalse\u001b[39;49;00m\u001b[43m)\u001b[49m\n\u001b[1;32m    930\u001b[0m     \u001b[38;5;28;01mif\u001b[39;00m key\u001b[38;5;241m.\u001b[39mkey \u001b[38;5;129;01mis\u001b[39;00m \u001b[38;5;28;01mNone\u001b[39;00m:\n\u001b[1;32m    931\u001b[0m         \u001b[38;5;28;01mreturn\u001b[39;00m grouper, \u001b[38;5;28mfrozenset\u001b[39m(), obj\n",
      "File \u001b[0;32m/Library/Frameworks/Python.framework/Versions/3.12/lib/python3.12/site-packages/pandas/core/resample.py:2282\u001b[0m, in \u001b[0;36mTimeGrouper._get_grouper\u001b[0;34m(self, obj, validate)\u001b[0m\n\u001b[1;32m   2278\u001b[0m \u001b[38;5;28;01mdef\u001b[39;00m \u001b[38;5;21m_get_grouper\u001b[39m(\n\u001b[1;32m   2279\u001b[0m     \u001b[38;5;28mself\u001b[39m, obj: NDFrameT, validate: \u001b[38;5;28mbool\u001b[39m \u001b[38;5;241m=\u001b[39m \u001b[38;5;28;01mTrue\u001b[39;00m\n\u001b[1;32m   2280\u001b[0m ) \u001b[38;5;241m-\u001b[39m\u001b[38;5;241m>\u001b[39m \u001b[38;5;28mtuple\u001b[39m[BinGrouper, NDFrameT]:\n\u001b[1;32m   2281\u001b[0m     \u001b[38;5;66;03m# create the resampler and return our binner\u001b[39;00m\n\u001b[0;32m-> 2282\u001b[0m     r \u001b[38;5;241m=\u001b[39m \u001b[38;5;28;43mself\u001b[39;49m\u001b[38;5;241;43m.\u001b[39;49m\u001b[43m_get_resampler\u001b[49m\u001b[43m(\u001b[49m\u001b[43mobj\u001b[49m\u001b[43m)\u001b[49m\n\u001b[1;32m   2283\u001b[0m     \u001b[38;5;28;01mreturn\u001b[39;00m r\u001b[38;5;241m.\u001b[39m_grouper, cast(NDFrameT, r\u001b[38;5;241m.\u001b[39mobj)\n",
      "File \u001b[0;32m/Library/Frameworks/Python.framework/Versions/3.12/lib/python3.12/site-packages/pandas/core/resample.py:2229\u001b[0m, in \u001b[0;36mTimeGrouper._get_resampler\u001b[0;34m(self, obj, kind)\u001b[0m\n\u001b[1;32m   2210\u001b[0m \u001b[38;5;28;01mdef\u001b[39;00m \u001b[38;5;21m_get_resampler\u001b[39m(\u001b[38;5;28mself\u001b[39m, obj: NDFrame, kind\u001b[38;5;241m=\u001b[39m\u001b[38;5;28;01mNone\u001b[39;00m) \u001b[38;5;241m-\u001b[39m\u001b[38;5;241m>\u001b[39m Resampler:\n\u001b[1;32m   2211\u001b[0m \u001b[38;5;250m    \u001b[39m\u001b[38;5;124;03m\"\"\"\u001b[39;00m\n\u001b[1;32m   2212\u001b[0m \u001b[38;5;124;03m    Return my resampler or raise if we have an invalid axis.\u001b[39;00m\n\u001b[1;32m   2213\u001b[0m \n\u001b[0;32m   (...)\u001b[0m\n\u001b[1;32m   2227\u001b[0m \n\u001b[1;32m   2228\u001b[0m \u001b[38;5;124;03m    \"\"\"\u001b[39;00m\n\u001b[0;32m-> 2229\u001b[0m     _, ax, _ \u001b[38;5;241m=\u001b[39m \u001b[38;5;28;43mself\u001b[39;49m\u001b[38;5;241;43m.\u001b[39;49m\u001b[43m_set_grouper\u001b[49m\u001b[43m(\u001b[49m\u001b[43mobj\u001b[49m\u001b[43m,\u001b[49m\u001b[43m \u001b[49m\u001b[43mgpr_index\u001b[49m\u001b[38;5;241;43m=\u001b[39;49m\u001b[38;5;28;43;01mNone\u001b[39;49;00m\u001b[43m)\u001b[49m\n\u001b[1;32m   2230\u001b[0m     \u001b[38;5;28;01mif\u001b[39;00m \u001b[38;5;28misinstance\u001b[39m(ax, DatetimeIndex):\n\u001b[1;32m   2231\u001b[0m         \u001b[38;5;28;01mreturn\u001b[39;00m DatetimeIndexResampler(\n\u001b[1;32m   2232\u001b[0m             obj,\n\u001b[1;32m   2233\u001b[0m             timegrouper\u001b[38;5;241m=\u001b[39m\u001b[38;5;28mself\u001b[39m,\n\u001b[0;32m   (...)\u001b[0m\n\u001b[1;32m   2237\u001b[0m             gpr_index\u001b[38;5;241m=\u001b[39max,\n\u001b[1;32m   2238\u001b[0m         )\n",
      "File \u001b[0;32m/Library/Frameworks/Python.framework/Versions/3.12/lib/python3.12/site-packages/pandas/core/resample.py:2529\u001b[0m, in \u001b[0;36mTimeGrouper._set_grouper\u001b[0;34m(self, obj, sort, gpr_index)\u001b[0m\n\u001b[1;32m   2526\u001b[0m \u001b[38;5;28;01mdef\u001b[39;00m \u001b[38;5;21m_set_grouper\u001b[39m(\n\u001b[1;32m   2527\u001b[0m     \u001b[38;5;28mself\u001b[39m, obj: NDFrameT, sort: \u001b[38;5;28mbool\u001b[39m \u001b[38;5;241m=\u001b[39m \u001b[38;5;28;01mFalse\u001b[39;00m, \u001b[38;5;241m*\u001b[39m, gpr_index: Index \u001b[38;5;241m|\u001b[39m \u001b[38;5;28;01mNone\u001b[39;00m \u001b[38;5;241m=\u001b[39m \u001b[38;5;28;01mNone\u001b[39;00m\n\u001b[1;32m   2528\u001b[0m ) \u001b[38;5;241m-\u001b[39m\u001b[38;5;241m>\u001b[39m \u001b[38;5;28mtuple\u001b[39m[NDFrameT, Index, npt\u001b[38;5;241m.\u001b[39mNDArray[np\u001b[38;5;241m.\u001b[39mintp] \u001b[38;5;241m|\u001b[39m \u001b[38;5;28;01mNone\u001b[39;00m]:\n\u001b[0;32m-> 2529\u001b[0m     obj, ax, indexer \u001b[38;5;241m=\u001b[39m \u001b[38;5;28;43msuper\u001b[39;49m\u001b[43m(\u001b[49m\u001b[43m)\u001b[49m\u001b[38;5;241;43m.\u001b[39;49m\u001b[43m_set_grouper\u001b[49m\u001b[43m(\u001b[49m\u001b[43mobj\u001b[49m\u001b[43m,\u001b[49m\u001b[43m \u001b[49m\u001b[43msort\u001b[49m\u001b[43m,\u001b[49m\u001b[43m \u001b[49m\u001b[43mgpr_index\u001b[49m\u001b[38;5;241;43m=\u001b[39;49m\u001b[43mgpr_index\u001b[49m\u001b[43m)\u001b[49m\n\u001b[1;32m   2530\u001b[0m     \u001b[38;5;28;01mif\u001b[39;00m \u001b[38;5;28misinstance\u001b[39m(ax\u001b[38;5;241m.\u001b[39mdtype, ArrowDtype) \u001b[38;5;129;01mand\u001b[39;00m ax\u001b[38;5;241m.\u001b[39mdtype\u001b[38;5;241m.\u001b[39mkind \u001b[38;5;129;01min\u001b[39;00m \u001b[38;5;124m\"\u001b[39m\u001b[38;5;124mMm\u001b[39m\u001b[38;5;124m\"\u001b[39m:\n\u001b[1;32m   2531\u001b[0m         \u001b[38;5;28mself\u001b[39m\u001b[38;5;241m.\u001b[39m_arrow_dtype \u001b[38;5;241m=\u001b[39m ax\u001b[38;5;241m.\u001b[39mdtype\n",
      "File \u001b[0;32m/Library/Frameworks/Python.framework/Versions/3.12/lib/python3.12/site-packages/pandas/core/groupby/grouper.py:380\u001b[0m, in \u001b[0;36mGrouper._set_grouper\u001b[0;34m(self, obj, sort, gpr_index)\u001b[0m\n\u001b[1;32m    378\u001b[0m     \u001b[38;5;28;01melse\u001b[39;00m:\n\u001b[1;32m    379\u001b[0m         \u001b[38;5;28;01mif\u001b[39;00m key \u001b[38;5;129;01mnot\u001b[39;00m \u001b[38;5;129;01min\u001b[39;00m obj\u001b[38;5;241m.\u001b[39m_info_axis:\n\u001b[0;32m--> 380\u001b[0m             \u001b[38;5;28;01mraise\u001b[39;00m \u001b[38;5;167;01mKeyError\u001b[39;00m(\u001b[38;5;124mf\u001b[39m\u001b[38;5;124m\"\u001b[39m\u001b[38;5;124mThe grouper name \u001b[39m\u001b[38;5;132;01m{\u001b[39;00mkey\u001b[38;5;132;01m}\u001b[39;00m\u001b[38;5;124m is not found\u001b[39m\u001b[38;5;124m\"\u001b[39m)\n\u001b[1;32m    381\u001b[0m         ax \u001b[38;5;241m=\u001b[39m Index(obj[key], name\u001b[38;5;241m=\u001b[39mkey)\n\u001b[1;32m    383\u001b[0m \u001b[38;5;28;01melse\u001b[39;00m:\n",
      "\u001b[0;31mKeyError\u001b[0m: 'The grouper name timestamp is not found'"
     ]
    }
   ],
   "source": [
    "# Widgets globaux\n",
    "def setup_widgets():\n",
    "    dropdown_ladder = widgets.Dropdown(options=['60min', '30min', '5min'], description='Interval:', value='60min')\n",
    "    dropdown_vwmp_type = widgets.Dropdown(options=['lower', 'upper'], description='VWMP:', value='lower')\n",
    "    export_button = widgets.Button(description=\"Exporter en CSV\")\n",
    "\n",
    "    export_button.on_click(lambda b: export_csv(dropdown_ladder.value, dropdown_vwmp_type.value))\n",
    "\n",
    "    return dropdown_ladder, dropdown_vwmp_type, export_button\n",
    "\n",
    "# Agrégation et traitement des données\n",
    "def process_data(dataframes_dict, frequency, vwmp_type):\n",
    "    aggregated_dict = {}\n",
    "\n",
    "    for key, df in dataframes_dict.items():\n",
    "        exchange_name = key.split(\"df_\")[1]\n",
    "        aggregated_df = aggregate_data(df, frequency)\n",
    "        cleaned_df = clean_data(aggregated_df)\n",
    "        processed_df = calculate_metrics(cleaned_df, frequency, vwmp_type, exchange_name)\n",
    "        aggregated_dict[key] = processed_df\n",
    "\n",
    "    return aggregated_dict\n",
    "\n",
    "def aggregate_data(df, frequency):\n",
    "    df['weighted_volume'] = df['price'] * df['amount']\n",
    "    aggregated_df = df.groupby(pd.Grouper(key='timestamp', freq=frequency)).agg({\n",
    "        'price': ['sum', 'first', 'max', 'min', 'last'],\n",
    "        'amount': 'sum',\n",
    "        'weighted_volume': 'sum'\n",
    "    })\n",
    "\n",
    "    aggregated_df.columns = ['price', 'price_open', 'price_high', 'price_low', 'price_close', 'amount', 'weighted_volume']\n",
    "    return aggregated_df\n",
    "\n",
    "def clean_data(df):\n",
    "    df_cleaned = df.dropna(how='all')\n",
    "    return df_cleaned\n",
    "\n",
    "def calculate_metrics(df, frequency, vwmp_type, exchange_name):\n",
    "    df[f'{exchange_name}_vwap'] = df.groupby(pd.Grouper(key='timestamp', freq=frequency))['weighted_volume'].transform('sum') / df.groupby(pd.Grouper(key='timestamp', freq=frequency))['amount'].transform('sum')\n",
    "    df['ecart_type'] = df.groupby(pd.Grouper(key='timestamp', freq=frequency))['price'].transform(np.nanstd)\n",
    "    \n",
    "    series_sorted = df.sort_values('amount')\n",
    "    total_volume_median = series_sorted['amount'].cumsum().max() / 2\n",
    "    \n",
    "    if vwmp_type == 'lower':\n",
    "        vwmp = series_sorted.loc[series_sorted['cumul_amount'] <= total_volume_median, 'price'].iloc[-1] if not series_sorted.empty else df['price'].mean()\n",
    "    elif vwmp_type == 'upper':\n",
    "        vwmp = series_sorted.loc[series_sorted['cumul_amount'] >= total_volume_median, 'price'].iloc[0] if not series_sorted.empty else df['price'].mean()\n",
    "    else:\n",
    "        raise ValueError(\"Mode non valide. Veuillez spécifier 'lower' ou 'upper'.\")\n",
    "    \n",
    "    df[f'vwmp_{vwmp_type}'] = vwmp\n",
    "\n",
    "    return df\n",
    "\n",
    "# Visualisation\n",
    "def visualize_data(aggregated_dict):\n",
    "    for key, df in reversed(list(aggregated_dict.items())):\n",
    "        exchange_name = key.split(\"df_\")[1]\n",
    "\n",
    "        candlestick = go.Figure(data=[\n",
    "            go.Candlestick(x=df.index, open=df['price_open'], high=df['price_high'], low=df['price_low'], close=df['price_close'])\n",
    "        ])\n",
    "        \n",
    "        candlestick.update_layout(title=f'Exchange - [{exchange_name}]', yaxis_title='Price', height=300, width=800, margin=dict(l=70, r=50, t=50, b=20))\n",
    "        candlestick.add_trace(go.Scatter(x=df.index, y=df[f'{exchange_name}_vwap'], mode='lines', name='VWAP', line_color='blue'))\n",
    "        candlestick.add_trace(go.Scatter(x=df.index, y=df[f'vwmp_lower'], mode='lines', name='VWMP Lower', line_color='grey'))\n",
    "        candlestick.show()\n",
    "\n",
    "# Export CSV\n",
    "def export_csv(frequency, vwmp_type):\n",
    "    export_folder = os.path.join(os.getcwd(), f\"../output/Export_{datetime.now().strftime('%Y-%m-%d_%H-%M-%S')}_freq-{frequency}_vwmp-{vwmp_type}\")\n",
    "    os.makedirs(export_folder)\n",
    "\n",
    "    for key, df in processed_dict.items():\n",
    "        filename = f\"{key}.csv\"\n",
    "        file_path = os.path.join(export_folder, filename)\n",
    "        df.to_csv(file_path, index=True)\n",
    "    \n",
    "    print(f\"Export des fichiers CSV avec succès : {export_folder}\")\n",
    "\n",
    "# Application principale\n",
    "def main(dataframes_dict):\n",
    "    dropdown_ladder, dropdown_vwmp_type, export_button = setup_widgets()\n",
    "\n",
    "    def update_data(change):\n",
    "        clear_output()\n",
    "        processed_dict = process_data(dataframes_dict, dropdown_ladder.value, dropdown_vwmp_type.value)\n",
    "        visualize_data(processed_dict)\n",
    "\n",
    "    dropdown_ladder.observe(update_data, names='value')\n",
    "    dropdown_vwmp_type.observe(update_data, names='value')\n",
    "\n",
    "    display(dropdown_ladder, dropdown_vwmp_type, export_button)\n",
    "    update_data(None)  # Charger les données initiales au démarrage\n",
    "\n",
    "# Exécution principale\n",
    "if __name__ == \"__main__\":\n",
    "    # Charger les données initiales (dataframes_dict)\n",
    "    #dataframes_dict = load_data_from_csv()  # Assurez-vous d'avoir cette fonction définie\n",
    "\n",
    "    # Démarrer l'application\n",
    "    main(dataframes_dict)"
   ]
  },
  {
   "cell_type": "markdown",
   "metadata": {},
   "source": [
    "#### RESULTATS"
   ]
  },
  {
   "cell_type": "markdown",
   "metadata": {},
   "source": [
    "Dans le cas où les widgets ne fonctionnerait pas dans le jupyter notebook :"
   ]
  },
  {
   "cell_type": "markdown",
   "metadata": {},
   "source": [
    "1) Lancer l'aggrégation avec les paramètres souhaités et visualiser les résultats :"
   ]
  },
  {
   "cell_type": "code",
   "execution_count": null,
   "metadata": {},
   "outputs": [],
   "source": [
    "aggregation('60min', 'lower')   \n",
    "\n",
    "    #agg1 : ('60min', '30min', '5min')\n",
    "    #agg2 : ('lower', 'upper')"
   ]
  },
  {
   "cell_type": "markdown",
   "metadata": {},
   "source": [
    "2) Exporter les données avec les paramètres sélectionnés"
   ]
  },
  {
   "cell_type": "code",
   "execution_count": null,
   "metadata": {},
   "outputs": [],
   "source": [
    "b =True\n",
    "on_export_button_click(b)"
   ]
  },
  {
   "cell_type": "markdown",
   "metadata": {},
   "source": [
    "Arborescence du projet : "
   ]
  },
  {
   "cell_type": "code",
   "execution_count": null,
   "metadata": {},
   "outputs": [],
   "source": [
    "##  .\n",
    "##  ├── data\n",
    "##  │   ├── bfly.csv\n",
    "##  │   ├── bfnx.csv\n",
    "##  │   ├── bnus.csv\n",
    "##  │   ├── btrx.csv\n",
    "##  │   ├── cbse.csv\n",
    "##  │   ├── gmni.csv\n",
    "##  │   ├── itbi.csv\n",
    "##  │   ├── krkn.csv\n",
    "##  │   ├── lmax.csv\n",
    "##  │   ├── okcn.csv\n",
    "##  │   └── stmp.csv\n",
    "##  ├── livrable\n",
    "##  │   └── livrable.ipynb\n",
    "##  ├── output\n",
    "##  │   ├── Export_YYYY-MM-DD_HH-MM-SS_freq-Xmin_vwmp-X\n",
    "##  │   │   ├── df_all.csv\n",
    "##  │   │   ├── df_bfly.csv\n",
    "##  │   │   ├── df_bfnx.csv\n",
    "##  │   │   ├── df_bnus.csv\n",
    "##  │   │   ├── df_btrx.csv\n",
    "##  │   │   ├── df_cbse.csv\n",
    "##  │   │   ├── df_gmni.csv\n",
    "##  │   │   ├── df_itbi.csv\n",
    "##  │   │   ├── df_krkn.csv\n",
    "##  │   │   ├── df_lmax.csv\n",
    "##  │   │   ├── df_okcn.csv\n",
    "##  │   │   ├── df_stmp.csv\n",
    "##  │   │   └── synthese.csv\n",
    "##  └── readme.txt"
   ]
  }
 ],
 "metadata": {
  "kernelspec": {
   "display_name": "Python 3 (ipykernel)",
   "language": "python",
   "name": "python3"
  },
  "language_info": {
   "codemirror_mode": {
    "name": "ipython",
    "version": 3
   },
   "file_extension": ".py",
   "mimetype": "text/x-python",
   "name": "python",
   "nbconvert_exporter": "python",
   "pygments_lexer": "ipython3",
   "version": "3.12.2"
  }
 },
 "nbformat": 4,
 "nbformat_minor": 4
}
